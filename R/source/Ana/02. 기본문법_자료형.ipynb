{
 "cells": [
  {
   "cell_type": "markdown",
   "id": "f493e23b",
   "metadata": {},
   "source": [
    "### 변수(variable)\n",
    "1. R에서 변수를 만드는 방법\n",
    "  - 왼쪽 화살표 권장( <- )\n",
    "  - 일반적인 대입연산자(=) 사용 가능\n",
    "<br>\n",
    "2. 변수명을 만드는 규칙\n",
    "  - 문자, 숫자, 대시(-), 밑줄(_) 조합해서 생성\n",
    "  - 단, 첫글자는 문자\n",
    "  - 소문자로 작성하는 것을 권장"
   ]
  },
  {
   "cell_type": "code",
   "execution_count": 1,
   "id": "1fe145c7",
   "metadata": {},
   "outputs": [
    {
     "data": {
      "text/html": [
       "5"
      ],
      "text/latex": [
       "5"
      ],
      "text/markdown": [
       "5"
      ],
      "text/plain": [
       "[1] 5"
      ]
     },
     "metadata": {},
     "output_type": "display_data"
    }
   ],
   "source": [
    "# 변수 : 하나의 상수(값)를 저장하는 기억공간\n",
    "x = 5\n",
    "x "
   ]
  },
  {
   "cell_type": "code",
   "execution_count": 2,
   "id": "e976f1ef",
   "metadata": {},
   "outputs": [
    {
     "data": {
      "text/html": [
       "10"
      ],
      "text/latex": [
       "10"
      ],
      "text/markdown": [
       "10"
      ],
      "text/plain": [
       "[1] 10"
      ]
     },
     "metadata": {},
     "output_type": "display_data"
    }
   ],
   "source": [
    "y <- 10\n",
    "y"
   ]
  },
  {
   "cell_type": "code",
   "execution_count": 3,
   "id": "200d5fcb",
   "metadata": {},
   "outputs": [
    {
     "data": {
      "text/html": [
       "3"
      ],
      "text/latex": [
       "3"
      ],
      "text/markdown": [
       "3"
      ],
      "text/plain": [
       "[1] 3"
      ]
     },
     "metadata": {},
     "output_type": "display_data"
    }
   ],
   "source": [
    "3 -> z\n",
    "z"
   ]
  },
  {
   "cell_type": "markdown",
   "id": "78e3a7e8",
   "metadata": {},
   "source": [
    "- 상수(constant, 값) : 고정된 값, 수치형(numeric), 문자형(character), 논리형(logical), 복소수형(complex)"
   ]
  },
  {
   "cell_type": "markdown",
   "id": "b0425b0d",
   "metadata": {},
   "source": [
    "### R에서 문자열(String) 처리"
   ]
  },
  {
   "cell_type": "code",
   "execution_count": 5,
   "id": "140694cf",
   "metadata": {},
   "outputs": [
    {
     "name": "stderr",
     "output_type": "stream",
     "text": [
      "also installing the dependencies 'cli', 'glue', 'lifecycle', 'rlang', 'stringi', 'vctrs'\n",
      "\n"
     ]
    },
    {
     "name": "stdout",
     "output_type": "stream",
     "text": [
      "\n",
      "  There are binary versions available but the source versions are later:\n",
      "          binary source needs_compilation\n",
      "cli        2.5.0  3.6.1              TRUE\n",
      "glue       1.4.2  1.6.2              TRUE\n",
      "lifecycle  1.0.0  1.0.3             FALSE\n",
      "rlang     0.4.11  1.1.1              TRUE\n",
      "stringi    1.6.1 1.7.12              TRUE\n",
      "vctrs      0.3.8  0.6.3              TRUE\n",
      "stringr    1.4.0  1.5.0             FALSE\n",
      "\n",
      "  Binaries will be installed\n",
      "package 'cli' successfully unpacked and MD5 sums checked\n",
      "package 'glue' successfully unpacked and MD5 sums checked\n",
      "package 'rlang' successfully unpacked and MD5 sums checked\n",
      "package 'stringi' successfully unpacked and MD5 sums checked\n",
      "package 'vctrs' successfully unpacked and MD5 sums checked\n",
      "\n",
      "The downloaded binary packages are in\n",
      "\tC:\\Users\\NT551_11TH\\AppData\\Local\\Temp\\RtmpoFEcVX\\downloaded_packages\n"
     ]
    },
    {
     "name": "stderr",
     "output_type": "stream",
     "text": [
      "installing the source packages 'lifecycle', 'stringr'\n",
      "\n",
      "Warning message in install.packages(\"stringr\"):\n",
      "\"installation of package 'lifecycle' had non-zero exit status\"Warning message in install.packages(\"stringr\"):\n",
      "\"installation of package 'stringr' had non-zero exit status\""
     ]
    },
    {
     "ename": "ERROR",
     "evalue": "Error in library(stringr): there is no package called 'stringr'\n",
     "output_type": "error",
     "traceback": [
      "Error in library(stringr): there is no package called 'stringr'\nTraceback:\n",
      "1. library(stringr)"
     ]
    }
   ],
   "source": [
    "# 패키지 설치\n",
    "install.packages('stringr')\n",
    "# 패키지 로딩\n",
    "library(stringr)"
   ]
  },
  {
   "cell_type": "markdown",
   "id": "26e62015",
   "metadata": {},
   "source": [
    "##### "
   ]
  },
  {
   "cell_type": "markdown",
   "id": "56507422",
   "metadata": {},
   "source": [
    "##### 1. Character형 변환"
   ]
  },
  {
   "cell_type": "code",
   "execution_count": 7,
   "id": "f9654945",
   "metadata": {},
   "outputs": [
    {
     "name": "stdout",
     "output_type": "stream",
     "text": [
      " chr \"1\"\n"
     ]
    }
   ],
   "source": [
    "# as.character(x)\n",
    "x <- 1\n",
    "x <- as.character(x)\n",
    "# 자료형 확인 : mode(), typeof(), class()\n",
    "str(x)"
   ]
  },
  {
   "cell_type": "markdown",
   "id": "13c2fa9c",
   "metadata": {},
   "source": [
    "##### 2. String 이어 붙이기"
   ]
  },
  {
   "cell_type": "code",
   "execution_count": 8,
   "id": "2e805975",
   "metadata": {},
   "outputs": [
    {
     "data": {
      "text/html": [
       "<ol class=list-inline>\n",
       "\t<li>'A'</li>\n",
       "\t<li>'B'</li>\n",
       "\t<li>'C'</li>\n",
       "</ol>\n"
      ],
      "text/latex": [
       "\\begin{enumerate*}\n",
       "\\item 'A'\n",
       "\\item 'B'\n",
       "\\item 'C'\n",
       "\\end{enumerate*}\n"
      ],
      "text/markdown": [
       "1. 'A'\n",
       "2. 'B'\n",
       "3. 'C'\n",
       "\n",
       "\n"
      ],
      "text/plain": [
       "[1] \"A\" \"B\" \"C\""
      ]
     },
     "metadata": {},
     "output_type": "display_data"
    }
   ],
   "source": [
    "# python은 문자연결연산자(+)\n",
    "# paste(), str_c()\n",
    "v1 <- c(\"A\", \"B\", \"C\")\n",
    "v1"
   ]
  },
  {
   "cell_type": "code",
   "execution_count": 9,
   "id": "565e0810",
   "metadata": {},
   "outputs": [
    {
     "data": {
      "text/html": [
       "<ol class=list-inline>\n",
       "\t<li>'A _1'</li>\n",
       "\t<li>'B _1'</li>\n",
       "\t<li>'C _1'</li>\n",
       "</ol>\n"
      ],
      "text/latex": [
       "\\begin{enumerate*}\n",
       "\\item 'A \\_1'\n",
       "\\item 'B \\_1'\n",
       "\\item 'C \\_1'\n",
       "\\end{enumerate*}\n"
      ],
      "text/markdown": [
       "1. 'A _1'\n",
       "2. 'B _1'\n",
       "3. 'C _1'\n",
       "\n",
       "\n"
      ],
      "text/plain": [
       "[1] \"A _1\" \"B _1\" \"C _1\""
      ]
     },
     "metadata": {},
     "output_type": "display_data"
    }
   ],
   "source": [
    "paste(v1, \"_1\")  # 벡터화 연산 : 벡터를 구성하고 있는 각각의 요소에 개별적으로 계산을 수행"
   ]
  },
  {
   "cell_type": "code",
   "execution_count": 10,
   "id": "2c6c5e2d",
   "metadata": {},
   "outputs": [
    {
     "ename": "ERROR",
     "evalue": "Error in str_c(v1, \"_1\"): 함수 \"str_c\"를 찾을 수 없습니다\n",
     "output_type": "error",
     "traceback": [
      "Error in str_c(v1, \"_1\"): 함수 \"str_c\"를 찾을 수 없습니다\nTraceback:\n"
     ]
    }
   ],
   "source": [
    "str_c(v1, \"_1\")"
   ]
  },
  {
   "cell_type": "code",
   "execution_count": 11,
   "id": "d7e40f80",
   "metadata": {},
   "outputs": [
    {
     "name": "stderr",
     "output_type": "stream",
     "text": [
      "Registered S3 methods overwritten by 'ggplot2':\n",
      "  method         from \n",
      "  [.quosures     rlang\n",
      "  c.quosures     rlang\n",
      "  print.quosures rlang\n"
     ]
    }
   ],
   "source": [
    "library(ggplot2)"
   ]
  },
  {
   "cell_type": "code",
   "execution_count": 12,
   "id": "7f8bf66b",
   "metadata": {},
   "outputs": [
    {
     "name": "stderr",
     "output_type": "stream",
     "text": [
      "`stat_bin()` using `bins = 30`. Pick better value with `binwidth`.\n"
     ]
    },
    {
     "data": {
      "image/png": "[encoded data removed]",
      "text/plain": [
       "plot without title"
      ]
     },
     "metadata": {},
     "output_type": "display_data"
    }
   ],
   "source": [
    "qplot(data=mpg, x=hwy)"
   ]
  }
 ],
 "metadata": {
  "kernelspec": {
   "display_name": "R",
   "language": "R",
   "name": "ir"
  },
  "language_info": {
   "codemirror_mode": "r",
   "file_extension": ".r",
   "mimetype": "text/x-r-source",
   "name": "R",
   "pygments_lexer": "r",
   "version": "3.6.1"
  }
 },
 "nbformat": 4,
 "nbformat_minor": 5
}
