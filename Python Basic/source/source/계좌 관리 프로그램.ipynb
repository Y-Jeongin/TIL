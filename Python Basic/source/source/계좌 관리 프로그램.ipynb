{
 "cells": [
  {
   "cell_type": "markdown",
   "id": "45a017c1",
   "metadata": {},
   "source": [
    "# 은행 계좌 관리 프로그램\n",
    "\n",
    "### 처리조건\n",
    "- 은행 거래를 위한 고객의 계좌정보를 담아서 관리하는 프로그램을 구현한다.\n",
    "- 각 고객의 정보는 고객번호, 이름, 예금금액이다.\n",
    "- 고객번호는 고객을 식별할 용도로 사용한다(중복을 허용하지 않음).  \n",
    "  {'고객번호' : {'name' : 'aaa, 'money' : 1,000}}\n",
    "- 둘 이상의 고객에 대한 정보를 담아서 처리하는 컨테이너 객체(리스트, 튜플, 사전 등)를 이용하여 구현한다.\n",
    "\n",
    "### 주요기능\n",
    "- 계좌 개설(makeAccount) : 계좌번호와 고객이름 그리고 예금금액을 입력받아 처리한다.\n",
    "- 입금 처리(inAccount) : 계좌번호를 입력받아 해당 계좌의 고객정보에 입금 처리를 수행한다.\n",
    "- 출금 처리(outAccount) : 계좌번호를 입력받아 해당 고객 계좌의 예금금액에서 출금 처리를 수행한다.\n",
    "- 계좌 조회(showAccount) : 계좌번호를 입력받아 해당 계좌의 고객정보를 출력한다.\n",
    "- 전체 계좌(showAllAccount) : 전체 고객의 계좌정보를 출력한다.\n",
    "- 입금 및 출금 처리시 계좌번호를 입력받아 해당 계좌의 정보가 존재하는지 여부를 판단하여 처리한다.\n",
    "- 출금 처리시 출금 금액보다 예금 잔액이 부족할 경우 경고메세지를 출력한다.\n",
    "\n",
    "### 입력 및 출력형식\n",
    "<code>\n",
    "== Bank Menu ==\n",
    "  1. 계좌 개설\n",
    "  2. 입금 처리\n",
    "  3. 출금 처리\n",
    "  4. 잔액 조회\n",
    "  5. 전체 조회\n",
    "  6. 작업 종료\n",
    "=================\n",
    "  menu = \n",
    "    \n",
    "== 계좌 개설 ==\n",
    "계좌 번호 =\n",
    "고객 이름 =\n",
    "예금 금액 =\n",
    "=================\n",
    "계좌 개설이 완료되었습니다.\n",
    "    \n",
    "== 입금 처리 ==\n",
    "계좌 번호 =\n",
    "  입력한 계좌번호가 존재하지 않습니다.\n",
    "  또는\n",
    "입금 금액 = \n",
    "=================\n",
    "입금 처리가 완료되었습니다.\n",
    "\n",
    "==  출금 처리 ==\n",
    "계좌 번호 =\n",
    "  입력한 계좌번호가 존재하지 않습니다.\n",
    "  또는\n",
    "출금 금액 = \n",
    "  잔액이 부족합니다.\n",
    "  또는\n",
    "=================\n",
    "출금 처리가 완료되었습니다.\n",
    "</code>"
   ]
  },
  {
   "cell_type": "code",
   "execution_count": 9,
   "id": "817b81d0",
   "metadata": {
    "ExecuteTime": {
     "end_time": "2023-08-24T06:43:06.187756Z",
     "start_time": "2023-08-24T06:43:06.182811Z"
    }
   },
   "outputs": [],
   "source": [
    "def showMenu():\n",
    "    print(\"== Bank Menu ==\")\n",
    "    print(\"1. 계좌 개설\")\n",
    "    print(\"2. 입금 처리\")\n",
    "    print(\"3. 출금 처리\")\n",
    "    print(\"4. 잔액 조회\")\n",
    "    print(\"5. 전체 조회\")\n",
    "    print(\"6. 작업 종료\")\n",
    "    print(\"=\" * 16)"
   ]
  },
  {
   "cell_type": "code",
   "execution_count": null,
   "id": "0d92d6cc",
   "metadata": {
    "ExecuteTime": {
     "end_time": "2023-08-24T06:44:12.943091Z",
     "start_time": "2023-08-24T06:44:07.278Z"
    }
   },
   "outputs": [],
   "source": [
    "def makeAccount():\n",
    "    client = dict()\n",
    "    \n",
    "    client['account'] = int(input('계좌번호 = '))\n",
    "    client['name'] = input('고객 이름 = ')\n",
    "    client['money'] = int(input('예금 금액 = '))\n",
    "    \n",
    "    return client"
   ]
  },
  {
   "cell_type": "code",
   "execution_count": null,
   "id": "30fdb0bc",
   "metadata": {},
   "outputs": [],
   "source": [
    "def inAccount(Bank) :\n",
    "    account = int(input(\"계좌번호 = \"))\n",
    "    \n",
    "    for i in client:\n",
    "        if i['account'] == account:\n",
    "            i['money'] += int(input(\"입금 금액 = \"))\n",
    "            return\n",
    "        \n",
    "    print(\"입력한 계좌번호가 존재하지 않습니다.\")"
   ]
  },
  {
   "cell_type": "code",
   "execution_count": null,
   "id": "dd2486c9",
   "metadata": {},
   "outputs": [],
   "source": [
    "def outAccount(Bank) :\n",
    "    account = int(input(\"계좌번호 = \"))\n",
    "    \n",
    "    for i in client:\n",
    "        if i['account'] == account:\n",
    "            i['money'] = int(input(\"입금 금액 = \"))\n",
    "            return\n",
    "        \n",
    "    print(\"입력한 계좌번호가 존재하지 않습니다.\")"
   ]
  },
  {
   "cell_type": "code",
   "execution_count": null,
   "id": "89310813",
   "metadata": {},
   "outputs": [],
   "source": []
  },
  {
   "cell_type": "code",
   "execution_count": null,
   "id": "f26eb197",
   "metadata": {},
   "outputs": [],
   "source": []
  },
  {
   "cell_type": "code",
   "execution_count": null,
   "id": "1f961f22",
   "metadata": {},
   "outputs": [],
   "source": []
  },
  {
   "cell_type": "code",
   "execution_count": 13,
   "id": "c8e004a7",
   "metadata": {
    "ExecuteTime": {
     "end_time": "2023-08-24T06:44:19.632304Z",
     "start_time": "2023-08-24T06:44:13.888536Z"
    }
   },
   "outputs": [
    {
     "name": "stdout",
     "output_type": "stream",
     "text": [
      "\n",
      "== Bank Menu ==\n",
      "1. 계좌 개설\n",
      "2. 입금 처리\n",
      "3. 출금 처리\n",
      "4. 잔액 조회\n",
      "5. 전체 조회\n",
      "6. 작업 종료\n",
      "================\n",
      "menu = 1\n",
      "계좌번호 = 1234\n",
      "고객 이름 = aaa\n",
      "예금 금액 = 10000\n"
     ]
    },
    {
     "ename": "AttributeError",
     "evalue": "'dict' object has no attribute 'append'",
     "output_type": "error",
     "traceback": [
      "\u001b[1;31m---------------------------------------------------------------------------\u001b[0m",
      "\u001b[1;31mAttributeError\u001b[0m                            Traceback (most recent call last)",
      "\u001b[1;32m<ipython-input-13-e3c609b4e02a>\u001b[0m in \u001b[0;36m<module>\u001b[1;34m\u001b[0m\n\u001b[0;32m     10\u001b[0m     \u001b[1;32mif\u001b[0m \u001b[0mmenu\u001b[0m \u001b[1;33m==\u001b[0m \u001b[1;36m1\u001b[0m\u001b[1;33m:\u001b[0m\u001b[1;33m\u001b[0m\u001b[1;33m\u001b[0m\u001b[0m\n\u001b[0;32m     11\u001b[0m         \u001b[0mbankS\u001b[0m \u001b[1;33m=\u001b[0m \u001b[0mmakeAccount\u001b[0m\u001b[1;33m(\u001b[0m\u001b[1;33m)\u001b[0m\u001b[1;33m\u001b[0m\u001b[1;33m\u001b[0m\u001b[0m\n\u001b[1;32m---> 12\u001b[1;33m         \u001b[0mbanksystem\u001b[0m\u001b[1;33m.\u001b[0m\u001b[0mappend\u001b[0m\u001b[1;33m(\u001b[0m\u001b[0mbankS\u001b[0m\u001b[1;33m)\u001b[0m\u001b[1;33m\u001b[0m\u001b[1;33m\u001b[0m\u001b[0m\n\u001b[0m\u001b[0;32m     13\u001b[0m         \u001b[0mprint\u001b[0m\u001b[1;33m(\u001b[0m\u001b[1;34m\"계좌 개설이 완료되었습니다.\"\u001b[0m\u001b[1;33m)\u001b[0m\u001b[1;33m\u001b[0m\u001b[1;33m\u001b[0m\u001b[0m\n\u001b[0;32m     14\u001b[0m     \u001b[1;32melif\u001b[0m \u001b[0mmenu\u001b[0m \u001b[1;33m==\u001b[0m \u001b[1;36m2\u001b[0m\u001b[1;33m:\u001b[0m\u001b[1;33m\u001b[0m\u001b[1;33m\u001b[0m\u001b[0m\n",
      "\u001b[1;31mAttributeError\u001b[0m: 'dict' object has no attribute 'append'"
     ]
    }
   ],
   "source": [
    "banksystem = dict()\n",
    "\n",
    "while True :\n",
    "    print()\n",
    "    \n",
    "    showMenu()\n",
    "    \n",
    "    menu = int(input(\"menu = \"))\n",
    "    \n",
    "    if menu == 1:\n",
    "        bankS = makeAccount()\n",
    "        banksystem.append(bankS)\n",
    "        print(\"계좌 개설이 완료되었습니다.\")\n",
    "    elif menu == 2:\n",
    "        pass\n",
    "    elif menu == 3:\n",
    "        pass\n",
    "    elif menu == 4:\n",
    "        pass\n",
    "    elif menu == 5:\n",
    "        pass\n",
    "    elif menu == 6:\n",
    "        break\n",
    "    else :\n",
    "        print(\"선택이 올바르지 않습니다.\")\n",
    "    \n",
    "print(\"은행 계좌 관리 프로그램을 종료합니다.\")"
   ]
  },
  {
   "cell_type": "code",
   "execution_count": null,
   "id": "7e992929",
   "metadata": {},
   "outputs": [],
   "source": []
  },
  {
   "cell_type": "code",
   "execution_count": null,
   "id": "f9f0372d",
   "metadata": {},
   "outputs": [],
   "source": []
  },
  {
   "cell_type": "code",
   "execution_count": null,
   "id": "28db09d9",
   "metadata": {},
   "outputs": [],
   "source": []
  },
  {
   "cell_type": "code",
   "execution_count": null,
   "id": "bbd10eee",
   "metadata": {},
   "outputs": [],
   "source": [
    "def Menu() :\n",
    "    print(\"\"\"== Bank Menu ==\n",
    "1. 계좌개설\n",
    "2. 입금처리\n",
    "3. 출금처리\n",
    "4. 잔액조회\n",
    "5. 전체조회\n",
    "6. 작업종료\n",
    "===============\n",
    "menu =\"\"\")"
   ]
  },
  {
   "cell_type": "code",
   "execution_count": null,
   "id": "84f468cd",
   "metadata": {},
   "outputs": [],
   "source": [
    "# 계좌 개설\n",
    "def account() :\n",
    "    \n",
    "    aclist = dict()\n",
    "    aclist['account'] = int(input('''== 계좌개설 ==\n",
    "계좌번호 = '''))\n",
    "    aclist['name'] = input('고객이름 = ')\n",
    "    aclist['money'] = int(input('예금금액 ='))\n",
    "    print('=============')\n",
    "    print('계좌개설이 완료되었습니다.')\n",
    "    return aclist"
   ]
  },
  {
   "cell_type": "code",
   "execution_count": null,
   "id": "d164f680",
   "metadata": {},
   "outputs": [],
   "source": [
    "# 입금처리\n",
    "def income(aclists) :\n",
    "    num = int(input(\"\"\"== 입금처리 ==\n",
    "계좌번호 =\"\"\"))\n",
    "    for i in range(len(aclists)) :\n",
    "        if aclists[i]['account'] != account :\n",
    "            print(\"입력한 계좌번호가 존재하지 않습니다.\")\n",
    "            return\n",
    "        else :\n",
    "            come = int(input(\"입금금액 =\"))\n",
    "            aclists[i]['money'] = aclists[i]['money'] + come\n",
    "            print(\"\"\"======================================\n",
    "입금처리가 완료되었습니다.\"\"\")\n",
    "            return"
   ]
  },
  {
   "cell_type": "code",
   "execution_count": 14,
   "id": "a60f6662",
   "metadata": {
    "ExecuteTime": {
     "end_time": "2023-08-24T07:07:11.996404Z",
     "start_time": "2023-08-24T07:07:11.989345Z"
    }
   },
   "outputs": [],
   "source": [
    "# 출금처리\n",
    "def out(aclists) :\n",
    "    num = int(input(\"\"\"== 출금처리 ==\n",
    "계좌번호 =\"\"\"))\n",
    "    for i in range(len(aclists)) :\n",
    "        if aclists[i]['account'] != account :\n",
    "            print(\"입력한 계좌번호가 존재하지 않습니다.\")\n",
    "            return\n",
    "    out = int(input('출금금액 ='))\n",
    "    for i in range(len(aclists)) :\n",
    "        if aclists[i]['money'] < out :\n",
    "            print(\"잔액이 부족합니다.\")\n",
    "            return\n",
    "        else :\n",
    "            aclists[i]['money'] = aclists[i]['money'] - out\n",
    "            print(\"\"\"=======================================\n",
    "출금처리가 완료되었습니다.\"\"\")\n",
    "            return"
   ]
  },
  {
   "cell_type": "code",
   "execution_count": null,
   "id": "7603c432",
   "metadata": {},
   "outputs": [],
   "source": [
    "# 잔액조회\n",
    "def check(aclists) :\n",
    "    num = int(input('계좌번호를 입력하시오 ='))\n",
    "    for i in range(len(aclists)) :\n",
    "        if aclists[i]['account'] == num :\n",
    "            print(aclists[i]['money'])\n",
    "            return"
   ]
  },
  {
   "cell_type": "code",
   "execution_count": null,
   "id": "180148e7",
   "metadata": {},
   "outputs": [],
   "source": [
    "# 전체조회\n",
    "def allcheck(aclists) :\n",
    "    for i in range(len(aclists)) :\n",
    "        print(aclists[i])"
   ]
  },
  {
   "cell_type": "code",
   "execution_count": null,
   "id": "d083ccb8",
   "metadata": {},
   "outputs": [],
   "source": [
    "# 메뉴 입력값 받기\n",
    "\n",
    "\n",
    "# 무한루프 생성\n",
    "while True :\n",
    "    Menu()\n",
    "    menu = int(input('번호 입력 : '))\n",
    "    \n",
    "    if menu == 1:\n",
    "        aclist = account()\n",
    "        aclists.append(aclist)\n",
    "    elif menu == 2:\n",
    "        income(aclists)\n",
    "    elif menu == 3:\n",
    "        out(aclists)\n",
    "    elif menu == 4:\n",
    "        check(aclists)\n",
    "    elif menu == 5:\n",
    "        allcheck(aclists)\n",
    "    elif menu == 6:\n",
    "        break\n",
    "    else :\n",
    "        print('잘 못 입력했습니다.')"
   ]
  },
  {
   "cell_type": "code",
   "execution_count": null,
   "id": "1e8888e6",
   "metadata": {},
   "outputs": [],
   "source": []
  },
  {
   "cell_type": "code",
   "execution_count": null,
   "id": "35ba352a",
   "metadata": {},
   "outputs": [],
   "source": []
  },
  {
   "cell_type": "code",
   "execution_count": null,
   "id": "08545396",
   "metadata": {},
   "outputs": [],
   "source": []
  },
  {
   "cell_type": "code",
   "execution_count": null,
   "id": "c2b88062",
   "metadata": {},
   "outputs": [],
   "source": []
  },
  {
   "cell_type": "code",
   "execution_count": null,
   "id": "7cd04766",
   "metadata": {},
   "outputs": [],
   "source": [
    "def menu():\n",
    "    print('='*5 , 'bank menu','=' *5)\n",
    "    print('1. 계좌개설')\n",
    "    print('2. 입금처리')\n",
    "    print('3. 출금처리')\n",
    "    print('4. 잔액조회')\n",
    "    print('5. 전체조회')\n",
    "    print('6. 작업종료')\n",
    "    print('='*35)\n",
    "    \n",
    "##개설    \n",
    "def create():\n",
    "    num = {}\n",
    "    num['계좌번호'] = input('계좌번호를 입력하세요 : ')\n",
    "    num['고객이름'] = input('이름을 입력하세요 : ')\n",
    "    num['예금금액'] = int(input('예금할 금액을 입력하세요 : '))\n",
    "    \n",
    "    return num\n",
    "\n",
    "##입금\n",
    "def insert():\n",
    "    num = input('계좌번호를 입력하세요 : ')\n",
    "    for i in range(len(bank)):\n",
    "        if bank[i]['계좌번호'] == num:\n",
    "            \n",
    "            money = int(input('입금금액을 입력하세요 : '))\n",
    "            final = bank[i]['예금금액'] + money\n",
    "            print(f'입금 후 잔액은 {final}원입니다')\n",
    "            bank[i]['예금금액'] = final\n",
    "            return\n",
    "    print('계좌번호가 존재하지 않습니다')\n",
    "    \n",
    "##출금\n",
    "def diff():\n",
    "    num = input('계좌번호를 입력하세요 : ')\n",
    "    for i in range(len(bank)):\n",
    "        if bank[i]['계좌번호'] == num:\n",
    "            money = int(input('출금금액을 입력하세요 : '))\n",
    "            if bank[i]['예금금액']<money:\n",
    "                print('예금잔액이 부족합니다')\n",
    "            else:\n",
    "                final = bank[i]['예금금액'] - money\n",
    "                print(f'출금 후 잔액은 {final}원입니다')\n",
    "                bank[i]['예금금액'] = final\n",
    "            return\n",
    "    print('계좌번호가 존재하지 않습니다.')\n",
    "    \n",
    "##잔액조회\n",
    "def find():\n",
    "    num = int(input('계좌번호를 입력하세요 : '))\n",
    "    for i in range(len(bank)):\n",
    "        if bank[i]['계좌번호']==num:\n",
    "            return\n",
    "        money2 = bank[i]['예금금액']\n",
    "    print(f' 현재 잔액은 {money2}원 입니다')\n",
    "    \n",
    "#main\n",
    "bank = []\n",
    "while True:\n",
    "    menu()\n",
    "    choice = int(input('선택하세요 : '))\n",
    "    \n",
    "    if choice==1:\n",
    "        info=create()\n",
    "        bank.append(info)\n",
    "        print('완료되었습니다')\n",
    "    elif choice==2:\n",
    "        insert()\n",
    "        \n",
    "    elif choice==3:\n",
    "        diff()\n",
    "        \n",
    "    elif choice==4:\n",
    "        find()\n",
    "    elif choice==5:\n",
    "        for i in bank:\n",
    "            print(i)\n",
    "    elif choice==6:\n",
    "        print('작업을 종료합니다')\n",
    "        break\n",
    "    else:\n",
    "        print('잘못된 번호입니다')"
   ]
  }
 ],
 "metadata": {
  "kernelspec": {
   "display_name": "Python 3",
   "language": "python",
   "name": "python3"
  },
  "language_info": {
   "codemirror_mode": {
    "name": "ipython",
    "version": 3
   },
   "file_extension": ".py",
   "mimetype": "text/x-python",
   "name": "python",
   "nbconvert_exporter": "python",
   "pygments_lexer": "ipython3",
   "version": "3.8.8"
  },
  "toc": {
   "base_numbering": 1,
   "nav_menu": {},
   "number_sections": true,
   "sideBar": true,
   "skip_h1_title": false,
   "title_cell": "Table of Contents",
   "title_sidebar": "Contents",
   "toc_cell": false,
   "toc_position": {
    "height": "calc(100% - 180px)",
    "left": "10px",
    "top": "150px",
    "width": "235px"
   },
   "toc_section_display": true,
   "toc_window_display": true
  }
 },
 "nbformat": 4,
 "nbformat_minor": 5
}
