{
 "cells": [
  {
   "cell_type": "markdown",
   "id": "fd444b23",
   "metadata": {},
   "source": [
    "# 리스트(List)\n",
    "- 임의의 객체를 순차적으로 저장하는 집합적 자료형(시퀀스 자료형, sequence dataType)\n",
    "- 1차원 가변 배열 : 크기가 정해져 있지 않은 배열\n",
    "- 각 값에 인덱스가 부여된다.(인덱스의 시작은 0부터)\n",
    "- 값을 변경할 수 있다.\n",
    "- 생성 : [], list()\n",
    "- 대표적인 함수 : range(), seq()\n",
    "    - range(1, 10) : 1부터 1씩 증가해서 (10-1)까지 순차적인 값을 생성\n",
    "    - range(10) : 0부터 시작해서 (10-1)까지 순차적으로 값을 생성"
   ]
  },
  {
   "cell_type": "markdown",
   "id": "06aeeb43",
   "metadata": {},
   "source": [
    "## 리스트 생성"
   ]
  },
  {
   "cell_type": "code",
   "execution_count": 1,
   "id": "fd22a306",
   "metadata": {
    "ExecuteTime": {
     "end_time": "2023-08-23T00:34:13.711065Z",
     "start_time": "2023-08-23T00:34:13.689293Z"
    }
   },
   "outputs": [
    {
     "name": "stdout",
     "output_type": "stream",
     "text": [
      "[]\n",
      "[]\n"
     ]
    }
   ],
   "source": [
    "# 빈 리스트 생성\n",
    "a = []\n",
    "b = list()\n",
    "\n",
    "print(a)\n",
    "print(b)"
   ]
  },
  {
   "cell_type": "code",
   "execution_count": 3,
   "id": "307c1565",
   "metadata": {
    "ExecuteTime": {
     "end_time": "2023-08-23T00:34:55.732538Z",
     "start_time": "2023-08-23T00:34:55.714074Z"
    }
   },
   "outputs": [
    {
     "name": "stdout",
     "output_type": "stream",
     "text": [
      "<class 'list'>\n",
      "<class 'list'>\n"
     ]
    }
   ],
   "source": [
    "# 자료형을 확인하는 함수\n",
    "print(type(a))\n",
    "print(type(b))"
   ]
  },
  {
   "cell_type": "code",
   "execution_count": 11,
   "id": "823d7e2b",
   "metadata": {
    "ExecuteTime": {
     "end_time": "2023-08-23T00:48:14.127980Z",
     "start_time": "2023-08-23T00:48:14.118313Z"
    }
   },
   "outputs": [
    {
     "name": "stdout",
     "output_type": "stream",
     "text": [
      "[1, 3, 5, 7, 9]\n",
      "<class 'list'>\n",
      "1\n",
      "3\n",
      "9\n",
      "9\n",
      "[10, 3, 5, 7, 9]\n",
      "[3, 5, 7]\n",
      "[10, 3, 5]\n",
      "[5, 7, 9]\n",
      "[10, 3, 5, 7, 9]\n",
      "[10, 3, 5, 7, 9]\n"
     ]
    }
   ],
   "source": [
    "# 리스트 생성\n",
    "l1 = [1, 3, 5, 7, 9]\n",
    "print(l1)\n",
    "print(type(l1))\n",
    "\n",
    "# Indexing(인덱싱) : 특정 위치의 값을 추출하는 기능, [index]\n",
    "## 리스트의 첫번째 요소 추출\n",
    "print(l1[0])\n",
    "print(l1[1])\n",
    "print(l1[4])\n",
    "## 리버스 인덱스(reverse index) : 리스트의 마지막 인덱스를 시작값으로 처리하는 인덱스, -1\n",
    "print(l1[-1])\n",
    "\n",
    "# 변경 가능\n",
    "l1[0] = 10\n",
    "print(l1)\n",
    "\n",
    "# Slicing(슬라이싱) : 일부분의 값을 추출하는 기능, [start:stop], 실제추출(마지막 위치-1)\n",
    "## 3, 5, 7 요소 추출\n",
    "print(l1[1:4])\n",
    "## 시작 위치값을 생략하면 처음부터 추출\n",
    "print(l1[:3])\n",
    "## 마지막 위치값을 생략하면 마지막까지 추출\n",
    "print(l1[2:])\n",
    "## 모든 자료 추출\n",
    "print(l1)\n",
    "print(l1[:])"
   ]
  },
  {
   "cell_type": "code",
   "execution_count": 12,
   "id": "bd37b63d",
   "metadata": {
    "ExecuteTime": {
     "end_time": "2023-08-23T00:49:53.481996Z",
     "start_time": "2023-08-23T00:49:53.450598Z"
    }
   },
   "outputs": [],
   "source": [
    "# 숫자값을 담고 있는 리스트\n",
    "x = [1, 2, 3, 4, 5]\n",
    "y = ['python', 'c++', 'java']\n",
    "z = ['python', 1, -100]\n",
    "w = [1, 2, [3, 4, 5]]\n",
    "k = [[1, 2], [3, 4, 5]]"
   ]
  },
  {
   "cell_type": "code",
   "execution_count": 13,
   "id": "635dd91d",
   "metadata": {
    "ExecuteTime": {
     "end_time": "2023-08-23T00:49:53.937865Z",
     "start_time": "2023-08-23T00:49:53.931856Z"
    }
   },
   "outputs": [
    {
     "data": {
      "text/plain": [
       "[1, 2, 3, 4, 5]"
      ]
     },
     "execution_count": 13,
     "metadata": {},
     "output_type": "execute_result"
    }
   ],
   "source": [
    "x"
   ]
  },
  {
   "cell_type": "code",
   "execution_count": 14,
   "id": "b453deb4",
   "metadata": {
    "ExecuteTime": {
     "end_time": "2023-08-23T00:49:55.696178Z",
     "start_time": "2023-08-23T00:49:55.688096Z"
    }
   },
   "outputs": [
    {
     "data": {
      "text/plain": [
       "['python', 'c++', 'java']"
      ]
     },
     "execution_count": 14,
     "metadata": {},
     "output_type": "execute_result"
    }
   ],
   "source": [
    "y"
   ]
  },
  {
   "cell_type": "code",
   "execution_count": 15,
   "id": "b3227d4a",
   "metadata": {
    "ExecuteTime": {
     "end_time": "2023-08-23T00:49:56.198377Z",
     "start_time": "2023-08-23T00:49:56.190354Z"
    }
   },
   "outputs": [
    {
     "data": {
      "text/plain": [
       "['python', 1, -100]"
      ]
     },
     "execution_count": 15,
     "metadata": {},
     "output_type": "execute_result"
    }
   ],
   "source": [
    "z"
   ]
  },
  {
   "cell_type": "code",
   "execution_count": 16,
   "id": "c724ec4f",
   "metadata": {
    "ExecuteTime": {
     "end_time": "2023-08-23T00:49:57.330410Z",
     "start_time": "2023-08-23T00:49:57.313383Z"
    }
   },
   "outputs": [
    {
     "data": {
      "text/plain": [
       "[1, 2, [3, 4, 5]]"
      ]
     },
     "execution_count": 16,
     "metadata": {},
     "output_type": "execute_result"
    }
   ],
   "source": [
    "w"
   ]
  },
  {
   "cell_type": "code",
   "execution_count": 17,
   "id": "02cf4ef7",
   "metadata": {
    "ExecuteTime": {
     "end_time": "2023-08-23T00:49:57.901463Z",
     "start_time": "2023-08-23T00:49:57.890504Z"
    }
   },
   "outputs": [
    {
     "data": {
      "text/plain": [
       "[[1, 2], [3, 4, 5]]"
      ]
     },
     "execution_count": 17,
     "metadata": {},
     "output_type": "execute_result"
    }
   ],
   "source": [
    "k"
   ]
  },
  {
   "cell_type": "code",
   "execution_count": 20,
   "id": "1e6cbb4b",
   "metadata": {
    "ExecuteTime": {
     "end_time": "2023-08-23T00:54:03.388826Z",
     "start_time": "2023-08-23T00:54:03.379793Z"
    }
   },
   "outputs": [
    {
     "name": "stdout",
     "output_type": "stream",
     "text": [
      "[1, 2, 3, ['a', 'b', 'c']]\n",
      "3\n",
      "['a', 'b', 'c']\n",
      "b\n",
      "b\n"
     ]
    }
   ],
   "source": [
    "# 중첩 리스트 : 리스트 안에 리스트를 가지고 있는 리스트\n",
    "x = [1, 2, 3, ['a', 'b', 'c']]\n",
    "print(x)\n",
    "\n",
    "# 리스트[행][열]\n",
    "print(x[2])\n",
    "print(x[3])\n",
    "print(x[3][1])\n",
    "print(x[-1][1])"
   ]
  },
  {
   "cell_type": "markdown",
   "id": "ad5156a6",
   "metadata": {},
   "source": [
    "## 리스트 연산"
   ]
  },
  {
   "cell_type": "code",
   "execution_count": 21,
   "id": "88283cce",
   "metadata": {
    "ExecuteTime": {
     "end_time": "2023-08-23T01:10:48.475584Z",
     "start_time": "2023-08-23T01:10:48.464506Z"
    }
   },
   "outputs": [
    {
     "name": "stdout",
     "output_type": "stream",
     "text": [
      "c :  [1, 2, 3, 4, 5]\n",
      "d :  [3, 4, 5, 1, 2]\n",
      "e :  [1, 2, 1, 2, 1, 2]\n",
      "f :  [1, 2, 1, 2, 3, 4, 5, 3, 4, 5, 3, 4, 5]\n"
     ]
    }
   ],
   "source": [
    "# +와 *\n",
    "## 더하기(+) : 리스트를 합치는 기능\n",
    "## 곱하기(*) : 리스트 * 상수\n",
    "a = [1, 2]\n",
    "b = [3, 4, 5]\n",
    "\n",
    "c = a + b  # append(), [1, 2, 3, 4, 5]\n",
    "d = b + a  # [3, 4, 5, 1, 2]\n",
    "\n",
    "e = a * 3  # [1, 2, 1, 2, 1, 2] \n",
    "f = a * 2 + b * 3  # [1, 2, 1, 2, 3, 4, 5, 3, 4, 5, 3, 4, 5]\n",
    "\n",
    "print(\"c : \", c)\n",
    "print(\"d : \", d)\n",
    "print(\"e : \", e)\n",
    "print(\"f : \", f)"
   ]
  },
  {
   "cell_type": "markdown",
   "id": "56acd152",
   "metadata": {},
   "source": [
    "## 리스트의 인덱싱과 슬라이싱\n",
    "\n",
    "- 인덱싱(Indexing) : 특정 위치값 반환, 인덱스의 시작은 0부터, 음수일 경우 뒤에서부터\n",
    "- 슬라이싱(Slicing) : 일부분 반환, 시작값:마지막값(마지막값-1)"
   ]
  },
  {
   "cell_type": "code",
   "execution_count": 22,
   "id": "e0fdeef7",
   "metadata": {
    "ExecuteTime": {
     "end_time": "2023-08-23T01:11:18.349228Z",
     "start_time": "2023-08-23T01:11:18.334194Z"
    }
   },
   "outputs": [
    {
     "name": "stdout",
     "output_type": "stream",
     "text": [
      "[1, 2, [3, 4, 5], 'python']\n"
     ]
    }
   ],
   "source": [
    "# [index]\n",
    "a = [1, 2, [3, 4, 5], 'python']\n",
    "print(a)"
   ]
  },
  {
   "cell_type": "code",
   "execution_count": 23,
   "id": "e4dde14c",
   "metadata": {
    "ExecuteTime": {
     "end_time": "2023-08-23T01:11:25.057214Z",
     "start_time": "2023-08-23T01:11:25.041746Z"
    }
   },
   "outputs": [
    {
     "name": "stdout",
     "output_type": "stream",
     "text": [
      "1\n",
      "python\n",
      "[3, 4, 5]\n",
      "4\n",
      "t\n"
     ]
    }
   ],
   "source": [
    "print(a[0])  # 1\n",
    "print(a[-1])  # python\n",
    "print(a[2])  # [3, 4, 5]\n",
    "print(a[2][1])  # 4\n",
    "print(a[3][2])  # t"
   ]
  },
  {
   "cell_type": "code",
   "execution_count": 24,
   "id": "99ce5f58",
   "metadata": {
    "ExecuteTime": {
     "end_time": "2023-08-23T01:11:44.660584Z",
     "start_time": "2023-08-23T01:11:44.650611Z"
    }
   },
   "outputs": [
    {
     "name": "stdout",
     "output_type": "stream",
     "text": [
      "[1, 2]\n",
      "[1, 2, [3, 4, 5]]\n",
      "[[3, 4, 5], 'python']\n",
      "[4, 5]\n",
      "pyt\n"
     ]
    }
   ],
   "source": [
    "# [start:stop], start 시작해서 stop-1까지 처리된다.\n",
    "a = [1, 2, [3, 4, 5], 'python']\n",
    "\n",
    "print(a[:2])  # start를 생략하면 처음부터 읽어온다.  # 0,1번째 : [1, 2]\n",
    "print(a[0:3])  # 0, 1, 2번째 : [1, 2, [3, 4, 5]]\n",
    "print(a[2:])  # stop 생략하면 끝까지 읽어온다. [[3, 4, 5], 'python']\n",
    "print(a[2][1:])  # [4, 5]\n",
    "print(a[3][:3])  # pty"
   ]
  },
  {
   "cell_type": "markdown",
   "id": "e91c3f21",
   "metadata": {},
   "source": [
    "## 리스트의 수정, 변경, 삭제"
   ]
  },
  {
   "cell_type": "code",
   "execution_count": 25,
   "id": "973225f7",
   "metadata": {
    "ExecuteTime": {
     "end_time": "2023-08-23T01:12:32.163218Z",
     "start_time": "2023-08-23T01:12:32.147614Z"
    }
   },
   "outputs": [
    {
     "name": "stdout",
     "output_type": "stream",
     "text": [
      "[1, 2, -100, 4, 5]\n"
     ]
    }
   ],
   "source": [
    "a = [1, 2, 3, 4, 5]\n",
    "a[2] = -100\n",
    "print(a)"
   ]
  },
  {
   "cell_type": "code",
   "execution_count": 26,
   "id": "6db21980",
   "metadata": {
    "ExecuteTime": {
     "end_time": "2023-08-23T01:12:57.670283Z",
     "start_time": "2023-08-23T01:12:57.659885Z"
    }
   },
   "outputs": [
    {
     "name": "stdout",
     "output_type": "stream",
     "text": [
      "[1, 'a', 'b', 'c', 3]\n"
     ]
    }
   ],
   "source": [
    "a = [1, 2, 3]\n",
    "a[1:2] = ['a', 'b' ,'c']\n",
    "print(a)"
   ]
  },
  {
   "cell_type": "code",
   "execution_count": 27,
   "id": "ba1cb7b0",
   "metadata": {
    "ExecuteTime": {
     "end_time": "2023-08-23T01:13:59.635391Z",
     "start_time": "2023-08-23T01:13:59.622617Z"
    }
   },
   "outputs": [
    {
     "name": "stdout",
     "output_type": "stream",
     "text": [
      "a :  [10, 2, 3, 4, 5]\n",
      "b :  [10, 2, 3, 4, 5]\n"
     ]
    }
   ],
   "source": [
    "# 파이썬의 메모리 관리 방식\n",
    "# 리스트(List) : 1차원 배열\n",
    "## 깊은 복사와 얕은 복사\n",
    "\n",
    "a = [1, 2, 3, 4, 5]\n",
    "b = a  # a가 가르키는 것은 주소, b는 a의 주소를 참조(얕은 복사)\n",
    "b[0] = 10\n",
    "\n",
    "print(\"a : \", a)\n",
    "print(\"b : \", b)"
   ]
  },
  {
   "cell_type": "code",
   "execution_count": 28,
   "id": "9b46241a",
   "metadata": {
    "ExecuteTime": {
     "end_time": "2023-08-23T01:14:23.592158Z",
     "start_time": "2023-08-23T01:14:23.579372Z"
    }
   },
   "outputs": [
    {
     "name": "stdout",
     "output_type": "stream",
     "text": [
      "2827580337472\n",
      "2827580337472\n"
     ]
    }
   ],
   "source": [
    "# id() : 주소를 반환하는 함수\n",
    "print(id(a))\n",
    "print(id(b))"
   ]
  },
  {
   "cell_type": "code",
   "execution_count": 29,
   "id": "3c4e49d4",
   "metadata": {
    "ExecuteTime": {
     "end_time": "2023-08-23T01:14:55.758113Z",
     "start_time": "2023-08-23T01:14:55.754171Z"
    }
   },
   "outputs": [
    {
     "name": "stdout",
     "output_type": "stream",
     "text": [
      "a :  [1, 2, 3, 4, 5]\n",
      "b :  [10, 2, 3, 4, 5]\n",
      "2827580251712\n",
      "2827580674432\n"
     ]
    }
   ],
   "source": [
    "a = [1, 2, 3, 4, 5]\n",
    "b = a[:]  # 주소가 아니라 값을 복사(깊은 복사)\n",
    "\n",
    "b[0] = 10\n",
    "print(\"a : \", a)\n",
    "print(\"b : \", b)\n",
    "\n",
    "print(id(a))\n",
    "print(id(b))"
   ]
  },
  {
   "cell_type": "code",
   "execution_count": 30,
   "id": "5b3ad137",
   "metadata": {
    "ExecuteTime": {
     "end_time": "2023-08-23T01:15:34.248717Z",
     "start_time": "2023-08-23T01:15:34.233524Z"
    }
   },
   "outputs": [
    {
     "name": "stdout",
     "output_type": "stream",
     "text": [
      "[1, [], 3]\n"
     ]
    }
   ],
   "source": [
    "# 삭제\n",
    "a = [1, 2, 3]\n",
    "a[1] =[]\n",
    "print(a)"
   ]
  },
  {
   "cell_type": "code",
   "execution_count": 31,
   "id": "9e9b61da",
   "metadata": {
    "ExecuteTime": {
     "end_time": "2023-08-23T01:15:38.867034Z",
     "start_time": "2023-08-23T01:15:38.849636Z"
    }
   },
   "outputs": [
    {
     "name": "stdout",
     "output_type": "stream",
     "text": [
      "[1, 3]\n"
     ]
    }
   ],
   "source": [
    "a[1:2] = []\n",
    "print(a)"
   ]
  },
  {
   "cell_type": "code",
   "execution_count": 32,
   "id": "f37f331b",
   "metadata": {
    "ExecuteTime": {
     "end_time": "2023-08-23T01:15:51.931095Z",
     "start_time": "2023-08-23T01:15:51.926150Z"
    }
   },
   "outputs": [
    {
     "name": "stdout",
     "output_type": "stream",
     "text": [
      "[1, 3]\n"
     ]
    }
   ],
   "source": [
    "a = [1, 2, 3]\n",
    "\n",
    "# del 명령어\n",
    "del a[1]\n",
    "print(a)"
   ]
  },
  {
   "cell_type": "code",
   "execution_count": 33,
   "id": "1cbf35a9",
   "metadata": {
    "ExecuteTime": {
     "end_time": "2023-08-23T01:16:12.219453Z",
     "start_time": "2023-08-23T01:16:12.205052Z"
    }
   },
   "outputs": [
    {
     "name": "stdout",
     "output_type": "stream",
     "text": [
      "[1, 4, 5]\n"
     ]
    }
   ],
   "source": [
    "a = [1, 2, 3, 4, 5]\n",
    "del a[1:3]\n",
    "print(a)"
   ]
  },
  {
   "cell_type": "code",
   "execution_count": 34,
   "id": "520077a6",
   "metadata": {
    "ExecuteTime": {
     "end_time": "2023-08-23T01:17:33.453459Z",
     "start_time": "2023-08-23T01:17:33.435244Z"
    }
   },
   "outputs": [
    {
     "name": "stdout",
     "output_type": "stream",
     "text": [
      "[1, 2, 3, 4, 5, 6]\n"
     ]
    }
   ],
   "source": [
    "# append() : 리스트의 맨 뒤에 추가\n",
    "a = [1, 2, 3, 4, 5]\n",
    "a.append(6)\n",
    "print(a)"
   ]
  },
  {
   "cell_type": "code",
   "execution_count": 35,
   "id": "9894094a",
   "metadata": {
    "ExecuteTime": {
     "end_time": "2023-08-23T01:17:34.617344Z",
     "start_time": "2023-08-23T01:17:34.602595Z"
    }
   },
   "outputs": [
    {
     "name": "stdout",
     "output_type": "stream",
     "text": [
      "[1, 2, 3, 4, 5]\n"
     ]
    }
   ],
   "source": [
    "a = [1, 2]\n",
    "b = [3, 4, 5]\n",
    "print(a + b)  # append"
   ]
  },
  {
   "cell_type": "code",
   "execution_count": 36,
   "id": "67a996c3",
   "metadata": {
    "ExecuteTime": {
     "end_time": "2023-08-23T01:17:45.033759Z",
     "start_time": "2023-08-23T01:17:45.028749Z"
    }
   },
   "outputs": [
    {
     "name": "stdout",
     "output_type": "stream",
     "text": [
      "[1, 2, [3, 4, 5]]\n"
     ]
    }
   ],
   "source": [
    "a.append([3, 4, 5])  # 중첩 리스트\n",
    "print(a)"
   ]
  },
  {
   "cell_type": "code",
   "execution_count": 37,
   "id": "47bf462f",
   "metadata": {
    "ExecuteTime": {
     "end_time": "2023-08-23T01:18:44.701456Z",
     "start_time": "2023-08-23T01:18:44.692318Z"
    }
   },
   "outputs": [
    {
     "name": "stdout",
     "output_type": "stream",
     "text": [
      "[1, 2, 3, 4, 5]\n"
     ]
    }
   ],
   "source": [
    "# extend : 리스트의 뒤에 여러개의 값을 추가하는 함수\n",
    "a = [1, 2]\n",
    "a.extend([3, 4, 5]) \n",
    "print(a)"
   ]
  },
  {
   "cell_type": "code",
   "execution_count": 38,
   "id": "289df32a",
   "metadata": {
    "ExecuteTime": {
     "end_time": "2023-08-23T01:18:49.017717Z",
     "start_time": "2023-08-23T01:18:49.000448Z"
    }
   },
   "outputs": [
    {
     "name": "stdout",
     "output_type": "stream",
     "text": [
      "15\n"
     ]
    }
   ],
   "source": [
    "# sum : 합계\n",
    "a = [1, 2, 3, 4, 5]\n",
    "print(sum(a))"
   ]
  },
  {
   "cell_type": "code",
   "execution_count": 39,
   "id": "0617b0b1",
   "metadata": {
    "ExecuteTime": {
     "end_time": "2023-08-23T01:18:55.352821Z",
     "start_time": "2023-08-23T01:18:55.346777Z"
    }
   },
   "outputs": [
    {
     "name": "stdout",
     "output_type": "stream",
     "text": [
      "5\n",
      "1\n"
     ]
    }
   ],
   "source": [
    "# max / min : 최대값과 최소값을 반환\n",
    "print(max(a))\n",
    "print(min(a))"
   ]
  },
  {
   "cell_type": "code",
   "execution_count": 40,
   "id": "b809af0f",
   "metadata": {
    "ExecuteTime": {
     "end_time": "2023-08-23T01:18:59.738753Z",
     "start_time": "2023-08-23T01:18:59.723738Z"
    }
   },
   "outputs": [
    {
     "name": "stdout",
     "output_type": "stream",
     "text": [
      "5\n"
     ]
    }
   ],
   "source": [
    "# len() : 원소의 개수 반환, 튜플, 사전에서 사용 가능\n",
    "print(len(a))"
   ]
  },
  {
   "cell_type": "code",
   "execution_count": 41,
   "id": "b1004965",
   "metadata": {
    "ExecuteTime": {
     "end_time": "2023-08-23T01:20:01.128539Z",
     "start_time": "2023-08-23T01:20:01.114980Z"
    }
   },
   "outputs": [
    {
     "name": "stdout",
     "output_type": "stream",
     "text": [
      "[1, 3, 2, 4, 5]\n"
     ]
    }
   ],
   "source": [
    "# sort() : 오름차순 정렬\n",
    "# sort(reverse = True) : 내림차순 정렬\n",
    "a = [1, 3, 2, 4, 5]\n",
    "print(a)"
   ]
  },
  {
   "cell_type": "code",
   "execution_count": 42,
   "id": "39956f50",
   "metadata": {
    "ExecuteTime": {
     "end_time": "2023-08-23T01:20:09.959535Z",
     "start_time": "2023-08-23T01:20:09.950864Z"
    }
   },
   "outputs": [
    {
     "name": "stdout",
     "output_type": "stream",
     "text": [
      "[1, 2, 3, 4, 5]\n"
     ]
    }
   ],
   "source": [
    "a.sort()  # 값 자체가 변경\n",
    "print(a)"
   ]
  },
  {
   "cell_type": "code",
   "execution_count": null,
   "id": "9331e196",
   "metadata": {
    "ExecuteTime": {
     "end_time": "2023-08-22T08:27:18.256006Z",
     "start_time": "2023-08-22T08:27:18.251579Z"
    }
   },
   "outputs": [],
   "source": [
    "a.sort(reverse = True)  # 값 자체가 변경\n",
    "print(a)"
   ]
  },
  {
   "cell_type": "code",
   "execution_count": 43,
   "id": "2c4d99ce",
   "metadata": {
    "ExecuteTime": {
     "end_time": "2023-08-23T01:22:37.515364Z",
     "start_time": "2023-08-23T01:22:37.501188Z"
    }
   },
   "outputs": [
    {
     "name": "stdout",
     "output_type": "stream",
     "text": [
      "[5, 4, 2, 3, 1]\n"
     ]
    }
   ],
   "source": [
    "a = [1, 3, 2, 4, 5]\n",
    "# reverse() : 리스트를 역순으로 뒤집는 함수\n",
    "a.reverse()\n",
    "print(a)"
   ]
  },
  {
   "cell_type": "code",
   "execution_count": 44,
   "id": "d1a09148",
   "metadata": {
    "ExecuteTime": {
     "end_time": "2023-08-23T01:23:06.550690Z",
     "start_time": "2023-08-23T01:23:06.533258Z"
    }
   },
   "outputs": [
    {
     "name": "stdout",
     "output_type": "stream",
     "text": [
      "[1, 3, 4, 5]\n"
     ]
    }
   ],
   "source": [
    "# remove : 값을 삭제하는 함수\n",
    "a = [1, 2, 3, 4, 5]\n",
    "a.remove(2)\n",
    "print(a)"
   ]
  },
  {
   "cell_type": "code",
   "execution_count": 45,
   "id": "ec180701",
   "metadata": {
    "ExecuteTime": {
     "end_time": "2023-08-23T01:24:13.831897Z",
     "start_time": "2023-08-23T01:24:13.814886Z"
    }
   },
   "outputs": [
    {
     "name": "stdout",
     "output_type": "stream",
     "text": [
      "[1, 2, 1, 2, 3]\n"
     ]
    }
   ],
   "source": [
    "# 리스트 요소를 삭제하는 remove 함수는 첫번째 나오는 값을 삭제한다.\n",
    "a = [1, 2, 3, 1, 2, 3]\n",
    "a.remove(3)\n",
    "print(a)"
   ]
  },
  {
   "cell_type": "code",
   "execution_count": 46,
   "id": "21d3bc92",
   "metadata": {
    "ExecuteTime": {
     "end_time": "2023-08-23T01:26:18.788265Z",
     "start_time": "2023-08-23T01:26:18.781643Z"
    }
   },
   "outputs": [
    {
     "name": "stdout",
     "output_type": "stream",
     "text": [
      "[1, 2, 3, 4]\n"
     ]
    }
   ],
   "source": [
    "# pop() : 마지막에 입력된 값을 추출(삭제)\n",
    "a = [1, 2, 3, 4, 5]\n",
    "a.pop()\n",
    "print(a)"
   ]
  },
  {
   "cell_type": "code",
   "execution_count": 47,
   "id": "5ce23acd",
   "metadata": {
    "ExecuteTime": {
     "end_time": "2023-08-23T01:26:19.567890Z",
     "start_time": "2023-08-23T01:26:19.563933Z"
    }
   },
   "outputs": [
    {
     "name": "stdout",
     "output_type": "stream",
     "text": [
      "5\n"
     ]
    }
   ],
   "source": [
    "# pop() : 리스트의 마지막 요소를 추출\n",
    "a = [1, 2, 3, 4, 5]\n",
    "xx = a.pop()\n",
    "print(xx)"
   ]
  },
  {
   "cell_type": "code",
   "execution_count": 48,
   "id": "28b2afa7",
   "metadata": {
    "ExecuteTime": {
     "end_time": "2023-08-23T01:26:40.366289Z",
     "start_time": "2023-08-23T01:26:40.355423Z"
    }
   },
   "outputs": [
    {
     "name": "stdout",
     "output_type": "stream",
     "text": [
      "[2, 3, 4]\n"
     ]
    }
   ],
   "source": [
    "# pop(index)\n",
    "a.pop(0)\n",
    "print(a)"
   ]
  },
  {
   "cell_type": "code",
   "execution_count": 49,
   "id": "b09b007e",
   "metadata": {
    "ExecuteTime": {
     "end_time": "2023-08-23T01:27:05.846246Z",
     "start_time": "2023-08-23T01:27:05.838301Z"
    }
   },
   "outputs": [
    {
     "name": "stdout",
     "output_type": "stream",
     "text": [
      "[1, 2, 3, 4, 5]\n",
      "[]\n"
     ]
    }
   ],
   "source": [
    "# clear() : 리스트의 모든 요소 제거\n",
    "a = [1, 2, 3, 4, 5]\n",
    "print(a)\n",
    "a.clear()\n",
    "print(a)"
   ]
  },
  {
   "cell_type": "code",
   "execution_count": 51,
   "id": "616de44e",
   "metadata": {
    "ExecuteTime": {
     "end_time": "2023-08-23T01:28:09.674647Z",
     "start_time": "2023-08-23T01:28:09.668609Z"
    }
   },
   "outputs": [
    {
     "data": {
      "text/plain": [
       "3"
      ]
     },
     "execution_count": 51,
     "metadata": {},
     "output_type": "execute_result"
    }
   ],
   "source": [
    "# count(x) : 해당 리스트에서 x의 개수를 반환해주는 함수\n",
    "a = [1, 1, 2, 2, 2, 3, 3, 3, 3, 3, 4, 4, 4, 4, 4, 5]\n",
    "a.count(2)"
   ]
  },
  {
   "cell_type": "markdown",
   "id": "f8d3b7c2",
   "metadata": {},
   "source": [
    "# 튜플(Tuple)\n",
    "\n",
    "- 리스트와 유사한 자료구조\n",
    "- 유일하게 다른 점은 변경이 불가능하다.\n",
    "- 읽기전용 자료를 보관할 때 사용\n",
    "- 각 값에 인덱스가 부여된다.\n",
    "- 생성 : (), tuple()\n",
    "- 리스트 관련 함수도 함께 사용 가능"
   ]
  },
  {
   "cell_type": "markdown",
   "id": "54cd349a",
   "metadata": {},
   "source": [
    "## 튜플 생성"
   ]
  },
  {
   "cell_type": "code",
   "execution_count": 52,
   "id": "c296f254",
   "metadata": {
    "ExecuteTime": {
     "end_time": "2023-08-23T01:29:29.158768Z",
     "start_time": "2023-08-23T01:29:29.139013Z"
    }
   },
   "outputs": [
    {
     "name": "stdout",
     "output_type": "stream",
     "text": [
      "[1, 2, 3, 4, 5] <class 'list'>\n",
      "(1, 2, 3, 4, 5) <class 'tuple'>\n",
      "(1, 2, 3, 4, 5) <class 'tuple'>\n"
     ]
    }
   ],
   "source": [
    "a = [1, 2, 3, 4, 5]\n",
    "b = (1, 2, 3, 4, 5)\n",
    "# 파이썬의 기본 자료형은 튜플이다.\n",
    "c = 1, 2, 3, 4, 5  # 패킹(packing) - 여러개의 값을 하나의 변수에 담는 기능\n",
    "\n",
    "print(a, type(a))\n",
    "print(b, type(b))\n",
    "print(c, type(c))"
   ]
  },
  {
   "cell_type": "code",
   "execution_count": 53,
   "id": "1192a952",
   "metadata": {
    "ExecuteTime": {
     "end_time": "2023-08-23T01:30:21.850594Z",
     "start_time": "2023-08-23T01:30:21.837078Z"
    }
   },
   "outputs": [
    {
     "name": "stdout",
     "output_type": "stream",
     "text": [
      "(1, 2, 3, 4, 5) <class 'tuple'>\n"
     ]
    }
   ],
   "source": [
    "a = 1, 2, 3, 4, 5\n",
    "print(a, type(a))  # 파이썬의 기본 자료구조는 튜플이다."
   ]
  },
  {
   "cell_type": "code",
   "execution_count": 54,
   "id": "eb4723a5",
   "metadata": {
    "ExecuteTime": {
     "end_time": "2023-08-23T01:30:34.567076Z",
     "start_time": "2023-08-23T01:30:34.558988Z"
    }
   },
   "outputs": [
    {
     "name": "stdout",
     "output_type": "stream",
     "text": [
      "2\n",
      "(2, 3)\n"
     ]
    }
   ],
   "source": [
    "a = (1, 2, 3, 4, 5)\n",
    "# [index]\n",
    "\n",
    "# slicing[start:stop]\n",
    "print(a[1])\n",
    "print(a[1:3])"
   ]
  },
  {
   "cell_type": "code",
   "execution_count": 55,
   "id": "debba9e1",
   "metadata": {
    "ExecuteTime": {
     "end_time": "2023-08-23T01:30:36.554837Z",
     "start_time": "2023-08-23T01:30:36.541894Z"
    }
   },
   "outputs": [
    {
     "data": {
      "text/plain": [
       "3"
      ]
     },
     "execution_count": 55,
     "metadata": {},
     "output_type": "execute_result"
    }
   ],
   "source": [
    "a[2]"
   ]
  },
  {
   "cell_type": "code",
   "execution_count": 56,
   "id": "95f4ab18",
   "metadata": {
    "ExecuteTime": {
     "end_time": "2023-08-23T01:30:37.919757Z",
     "start_time": "2023-08-23T01:30:37.795196Z"
    }
   },
   "outputs": [
    {
     "ename": "TypeError",
     "evalue": "'tuple' object does not support item assignment",
     "output_type": "error",
     "traceback": [
      "\u001b[1;31m---------------------------------------------------------------------------\u001b[0m",
      "\u001b[1;31mTypeError\u001b[0m                                 Traceback (most recent call last)",
      "\u001b[1;32m<ipython-input-56-3e271bcc4c89>\u001b[0m in \u001b[0;36m<module>\u001b[1;34m\u001b[0m\n\u001b[1;32m----> 1\u001b[1;33m \u001b[0ma\u001b[0m\u001b[1;33m[\u001b[0m\u001b[1;36m2\u001b[0m\u001b[1;33m]\u001b[0m \u001b[1;33m=\u001b[0m \u001b[1;36m100\u001b[0m  \u001b[1;31m# 튜플은 변경이 불가능하다.\u001b[0m\u001b[1;33m\u001b[0m\u001b[1;33m\u001b[0m\u001b[0m\n\u001b[0m",
      "\u001b[1;31mTypeError\u001b[0m: 'tuple' object does not support item assignment"
     ]
    }
   ],
   "source": [
    "a[2] = 100  # 튜플은 변경이 불가능하다."
   ]
  },
  {
   "cell_type": "code",
   "execution_count": 57,
   "id": "ae695379",
   "metadata": {
    "ExecuteTime": {
     "end_time": "2023-08-23T01:30:41.280213Z",
     "start_time": "2023-08-23T01:30:41.262276Z"
    }
   },
   "outputs": [
    {
     "ename": "TypeError",
     "evalue": "'tuple' object doesn't support item deletion",
     "output_type": "error",
     "traceback": [
      "\u001b[1;31m---------------------------------------------------------------------------\u001b[0m",
      "\u001b[1;31mTypeError\u001b[0m                                 Traceback (most recent call last)",
      "\u001b[1;32m<ipython-input-57-531fb8022495>\u001b[0m in \u001b[0;36m<module>\u001b[1;34m\u001b[0m\n\u001b[1;32m----> 1\u001b[1;33m \u001b[1;32mdel\u001b[0m \u001b[0ma\u001b[0m\u001b[1;33m[\u001b[0m\u001b[1;36m2\u001b[0m\u001b[1;33m]\u001b[0m  \u001b[1;31m# 삭제도 불가\u001b[0m\u001b[1;33m\u001b[0m\u001b[1;33m\u001b[0m\u001b[0m\n\u001b[0m",
      "\u001b[1;31mTypeError\u001b[0m: 'tuple' object doesn't support item deletion"
     ]
    }
   ],
   "source": [
    "del a[2]  # 삭제도 불가"
   ]
  },
  {
   "cell_type": "code",
   "execution_count": null,
   "id": "fde1495d",
   "metadata": {
    "ExecuteTime": {
     "end_time": "2023-08-22T08:42:03.650810Z",
     "start_time": "2023-08-22T08:42:03.633723Z"
    }
   },
   "outputs": [],
   "source": [
    "print(sum(a))\n",
    "print(min(a))\n",
    "print(max(a))"
   ]
  },
  {
   "cell_type": "code",
   "execution_count": null,
   "id": "db6db20a",
   "metadata": {
    "ExecuteTime": {
     "end_time": "2023-08-22T08:42:54.544650Z",
     "start_time": "2023-08-22T08:42:54.536451Z"
    }
   },
   "outputs": [],
   "source": [
    "a = (1, 2)\n",
    "b = (3, 4, 5)\n",
    "\n",
    "print(a + b)\n",
    "print(b * 3)"
   ]
  },
  {
   "cell_type": "code",
   "execution_count": 61,
   "id": "4079060c",
   "metadata": {
    "ExecuteTime": {
     "end_time": "2023-08-23T01:34:39.982024Z",
     "start_time": "2023-08-23T01:34:39.976982Z"
    }
   },
   "outputs": [
    {
     "name": "stdout",
     "output_type": "stream",
     "text": [
      "(1, 2, 'a', 'b', 3, 4)\n",
      "(3, 4, 3, 4, 3, 4)\n"
     ]
    }
   ],
   "source": [
    "# 튜플 연산 : +, *\n",
    "t1 = (1, 2, 'a', 'b')\n",
    "t2 = (3, 4)\n",
    "\n",
    "t3 = t1 + t2\n",
    "print(t3)\n",
    "\n",
    "print(t2 * 3)"
   ]
  },
  {
   "cell_type": "code",
   "execution_count": 60,
   "id": "092d2467",
   "metadata": {
    "ExecuteTime": {
     "end_time": "2023-08-23T01:34:23.718038Z",
     "start_time": "2023-08-23T01:34:23.703352Z"
    }
   },
   "outputs": [
    {
     "name": "stdout",
     "output_type": "stream",
     "text": [
      "[1, 2, 3, 4, 5] <class 'list'>\n",
      "(1, 2, 3, 4, 5) <class 'tuple'>\n",
      "[1, 2, 3, 4, 5] <class 'list'>\n"
     ]
    }
   ],
   "source": [
    "# 형변환\n",
    "a = [1, 2, 3, 4, 5]\n",
    "b = tuple(a)\n",
    "c = list(b)\n",
    "\n",
    "print(a, type(a))\n",
    "print(b, type(b))\n",
    "print(c, type(c))"
   ]
  },
  {
   "cell_type": "markdown",
   "id": "f77f3efc",
   "metadata": {},
   "source": [
    "# 사전(Dictionary)\n",
    "\n",
    "- 파이썬에서 가장 많이 사용되는 자료구조\n",
    "- 데이터분석을 위한 라이브러리 pandas : 시리즈(=벡터)와 데이터프레임\n",
    "- 키와 값을 쌍으로 관리하는 자료구조\n",
    "- 키는 중복을 허용하지 않지만 값은 중복을 허용한다.\n",
    "- 순서가 중요하지 않다. (순서대로 출력되지 않는다)\n",
    "- 키(key)를 통해 데이터를 읽어온다. (인덱스가 없음)\n",
    "- 생성 : {}, dict()\n",
    "- 주요함수\n",
    "    - 사전.keys() : key만 추출\n",
    "    - 사전.values() : values만 추출\n",
    "    - 사전.items() : item(key : value) 단위로 추출\n",
    "    - keys(), values(), items()의 결과는 모두 리스트로 반환된다."
   ]
  },
  {
   "cell_type": "code",
   "execution_count": 63,
   "id": "cf52dc9e",
   "metadata": {
    "ExecuteTime": {
     "end_time": "2023-08-23T01:38:18.329440Z",
     "start_time": "2023-08-23T01:38:18.321467Z"
    }
   },
   "outputs": [
    {
     "name": "stdout",
     "output_type": "stream",
     "text": [
      "{} <class 'dict'>\n"
     ]
    }
   ],
   "source": [
    "a = {}\n",
    "print(a, type(a))"
   ]
  },
  {
   "cell_type": "code",
   "execution_count": 64,
   "id": "f5fe5457",
   "metadata": {
    "ExecuteTime": {
     "end_time": "2023-08-23T01:38:54.229854Z",
     "start_time": "2023-08-23T01:38:54.222787Z"
    }
   },
   "outputs": [
    {
     "name": "stdout",
     "output_type": "stream",
     "text": [
      "{} <class 'dict'>\n"
     ]
    }
   ],
   "source": [
    "b = dict()\n",
    "print(b, type(b))"
   ]
  },
  {
   "cell_type": "code",
   "execution_count": 68,
   "id": "25bb1870",
   "metadata": {
    "ExecuteTime": {
     "end_time": "2023-08-23T01:41:02.804837Z",
     "start_time": "2023-08-23T01:41:02.793552Z"
    }
   },
   "outputs": [
    {
     "name": "stdout",
     "output_type": "stream",
     "text": [
      "{'name': '홍길동', 'phone': '010-9999-1234', 'birth': '2023-08-23'}\n"
     ]
    }
   ],
   "source": [
    "dic = {'name' : '홍길동', 'phone' : '010-9999-1234', 'birth' : '2023-08-23'}\n",
    "print(dic)"
   ]
  },
  {
   "cell_type": "code",
   "execution_count": 70,
   "id": "bf169ebb",
   "metadata": {
    "ExecuteTime": {
     "end_time": "2023-08-23T01:41:51.509726Z",
     "start_time": "2023-08-23T01:41:51.499107Z"
    }
   },
   "outputs": [
    {
     "name": "stdout",
     "output_type": "stream",
     "text": [
      "홍길동\n"
     ]
    }
   ],
   "source": [
    "print(dic['name'])"
   ]
  },
  {
   "cell_type": "code",
   "execution_count": 71,
   "id": "84df64c4",
   "metadata": {
    "ExecuteTime": {
     "end_time": "2023-08-23T01:42:34.549461Z",
     "start_time": "2023-08-23T01:42:34.543379Z"
    }
   },
   "outputs": [
    {
     "name": "stdout",
     "output_type": "stream",
     "text": [
      "{'name': '장보고', 'phone': '010-9999-1234', 'birth': '2023-08-23'}\n"
     ]
    }
   ],
   "source": [
    "dic['name'] = '장보고'\n",
    "print(dic)"
   ]
  },
  {
   "cell_type": "code",
   "execution_count": 72,
   "id": "c53ed862",
   "metadata": {
    "ExecuteTime": {
     "end_time": "2023-08-23T01:43:15.728525Z",
     "start_time": "2023-08-23T01:43:15.723417Z"
    }
   },
   "outputs": [
    {
     "name": "stdout",
     "output_type": "stream",
     "text": [
      "{'name': '장보고', 'phone': '010-9999-1234'}\n"
     ]
    }
   ],
   "source": [
    "del dic['birth']\n",
    "print(dic)"
   ]
  },
  {
   "cell_type": "code",
   "execution_count": 73,
   "id": "1da4205a",
   "metadata": {
    "ExecuteTime": {
     "end_time": "2023-08-23T01:43:58.212764Z",
     "start_time": "2023-08-23T01:43:58.196554Z"
    }
   },
   "outputs": [
    {
     "name": "stdout",
     "output_type": "stream",
     "text": [
      "{'name': '장보고', 'phone': '010-9999-1234', 'gender': 'M'}\n"
     ]
    }
   ],
   "source": [
    "dic['gender'] = 'M'\n",
    "print(dic)"
   ]
  },
  {
   "cell_type": "code",
   "execution_count": 74,
   "id": "bb438036",
   "metadata": {
    "ExecuteTime": {
     "end_time": "2023-08-23T01:44:41.440663Z",
     "start_time": "2023-08-23T01:44:41.418206Z"
    }
   },
   "outputs": [
    {
     "data": {
      "text/plain": [
       "dict_keys(['name', 'phone', 'gender'])"
      ]
     },
     "execution_count": 74,
     "metadata": {},
     "output_type": "execute_result"
    }
   ],
   "source": [
    "# key만 추출\n",
    "dic.keys()"
   ]
  },
  {
   "cell_type": "code",
   "execution_count": 76,
   "id": "9532ba0f",
   "metadata": {
    "ExecuteTime": {
     "end_time": "2023-08-23T01:46:36.653119Z",
     "start_time": "2023-08-23T01:46:36.643920Z"
    }
   },
   "outputs": [
    {
     "name": "stdout",
     "output_type": "stream",
     "text": [
      "name\n",
      "phone\n",
      "gender\n"
     ]
    }
   ],
   "source": [
    "# for 개별변수 in 집합변수:\n",
    "for key in dic.keys():\n",
    "    print(key)"
   ]
  },
  {
   "cell_type": "code",
   "execution_count": 77,
   "id": "76f0f85c",
   "metadata": {
    "ExecuteTime": {
     "end_time": "2023-08-23T01:47:18.247978Z",
     "start_time": "2023-08-23T01:47:18.238137Z"
    }
   },
   "outputs": [
    {
     "data": {
      "text/plain": [
       "dict_values(['장보고', '010-9999-1234', 'M'])"
      ]
     },
     "execution_count": 77,
     "metadata": {},
     "output_type": "execute_result"
    }
   ],
   "source": [
    "dic.values()"
   ]
  },
  {
   "cell_type": "code",
   "execution_count": 78,
   "id": "39a06ba2",
   "metadata": {
    "ExecuteTime": {
     "end_time": "2023-08-23T01:47:39.914845Z",
     "start_time": "2023-08-23T01:47:39.901805Z"
    }
   },
   "outputs": [
    {
     "data": {
      "text/plain": [
       "['장보고', '010-9999-1234', 'M']"
      ]
     },
     "execution_count": 78,
     "metadata": {},
     "output_type": "execute_result"
    }
   ],
   "source": [
    "list(dic.values())"
   ]
  },
  {
   "cell_type": "code",
   "execution_count": 79,
   "id": "991f16fb",
   "metadata": {
    "ExecuteTime": {
     "end_time": "2023-08-23T01:48:11.035810Z",
     "start_time": "2023-08-23T01:48:11.027602Z"
    }
   },
   "outputs": [
    {
     "data": {
      "text/plain": [
       "dict_items([('name', '장보고'), ('phone', '010-9999-1234'), ('gender', 'M')])"
      ]
     },
     "execution_count": 79,
     "metadata": {},
     "output_type": "execute_result"
    }
   ],
   "source": [
    "dic.items()"
   ]
  },
  {
   "cell_type": "code",
   "execution_count": 82,
   "id": "aab0afaa",
   "metadata": {
    "ExecuteTime": {
     "end_time": "2023-08-23T01:49:18.394640Z",
     "start_time": "2023-08-23T01:49:18.388863Z"
    }
   },
   "outputs": [
    {
     "name": "stdout",
     "output_type": "stream",
     "text": [
      "name : 장보고\n",
      "phone : 010-9999-1234\n",
      "gender : M\n"
     ]
    }
   ],
   "source": [
    "for key, value in dic.items():\n",
    "    print(f\"{key} : {value}\")"
   ]
  },
  {
   "cell_type": "code",
   "execution_count": 83,
   "id": "8285d81a",
   "metadata": {
    "ExecuteTime": {
     "end_time": "2023-08-23T01:50:52.145393Z",
     "start_time": "2023-08-23T01:50:52.132186Z"
    }
   },
   "outputs": [
    {
     "name": "stdout",
     "output_type": "stream",
     "text": [
      "장보고\n",
      "장보고\n"
     ]
    }
   ],
   "source": [
    "# get() : key를 이용해서 value를 얻어오는 함수\n",
    "print(dic['name'])\n",
    "print(dic.get('name'))"
   ]
  },
  {
   "cell_type": "markdown",
   "id": "e0d85d4a",
   "metadata": {},
   "source": [
    "# 집합(Set)\n",
    "\n",
    "- 인덱스가 없고, 값만 저장되는 자료구조\n",
    "- 순서는 의미가 없다.\n",
    "- 생성 : set()\n",
    "- 콤마(,)를 기준으로 아이템 구분\n",
    "- 중복값을 허용하지 않는다."
   ]
  },
  {
   "cell_type": "code",
   "execution_count": 84,
   "id": "34070ded",
   "metadata": {
    "ExecuteTime": {
     "end_time": "2023-08-23T01:51:47.443974Z",
     "start_time": "2023-08-23T01:51:47.432081Z"
    }
   },
   "outputs": [
    {
     "ename": "TypeError",
     "evalue": "set expected at most 1 argument, got 3",
     "output_type": "error",
     "traceback": [
      "\u001b[1;31m---------------------------------------------------------------------------\u001b[0m",
      "\u001b[1;31mTypeError\u001b[0m                                 Traceback (most recent call last)",
      "\u001b[1;32m<ipython-input-84-cb6c9ac1c68b>\u001b[0m in \u001b[0;36m<module>\u001b[1;34m\u001b[0m\n\u001b[1;32m----> 1\u001b[1;33m \u001b[0ms1\u001b[0m \u001b[1;33m=\u001b[0m \u001b[0mset\u001b[0m\u001b[1;33m(\u001b[0m\u001b[1;36m1\u001b[0m\u001b[1;33m,\u001b[0m \u001b[1;36m2\u001b[0m\u001b[1;33m,\u001b[0m \u001b[1;36m3\u001b[0m\u001b[1;33m)\u001b[0m\u001b[1;33m\u001b[0m\u001b[1;33m\u001b[0m\u001b[0m\n\u001b[0m\u001b[0;32m      2\u001b[0m \u001b[0mprint\u001b[0m\u001b[1;33m(\u001b[0m\u001b[0ms1\u001b[0m\u001b[1;33m)\u001b[0m\u001b[1;33m\u001b[0m\u001b[1;33m\u001b[0m\u001b[0m\n",
      "\u001b[1;31mTypeError\u001b[0m: set expected at most 1 argument, got 3"
     ]
    }
   ],
   "source": [
    "s1 = set(1, 2, 3)\n",
    "print(s1)"
   ]
  },
  {
   "cell_type": "code",
   "execution_count": 91,
   "id": "9719a9bc",
   "metadata": {
    "ExecuteTime": {
     "end_time": "2023-08-23T01:54:47.584258Z",
     "start_time": "2023-08-23T01:54:47.579214Z"
    }
   },
   "outputs": [
    {
     "name": "stdout",
     "output_type": "stream",
     "text": [
      "{1, 2, 3} <class 'set'>\n"
     ]
    }
   ],
   "source": [
    "s1 = set([1, 2, 3])  #  숫자값은 묶어서 생성 가능\n",
    "print(s1, type(s1))"
   ]
  },
  {
   "cell_type": "code",
   "execution_count": 88,
   "id": "21c96c00",
   "metadata": {
    "ExecuteTime": {
     "end_time": "2023-08-23T01:53:38.745562Z",
     "start_time": "2023-08-23T01:53:38.729467Z"
    }
   },
   "outputs": [
    {
     "name": "stdout",
     "output_type": "stream",
     "text": [
      "{'o', 'h', 'n', 't', 'y', 'P'} <class 'set'>\n"
     ]
    }
   ],
   "source": [
    "s2 = set(\"Python\")  # 순서가 없기 때문에 순서대로 출력되지 않는다.\n",
    "print(s2, type(s2))"
   ]
  },
  {
   "cell_type": "code",
   "execution_count": 89,
   "id": "4b7c8292",
   "metadata": {
    "ExecuteTime": {
     "end_time": "2023-08-23T01:54:26.010758Z",
     "start_time": "2023-08-23T01:54:26.004824Z"
    }
   },
   "outputs": [
    {
     "name": "stdout",
     "output_type": "stream",
     "text": [
      "['o', 'h', 'n', 't', 'y', 'P']\n"
     ]
    }
   ],
   "source": [
    "a = list(s2)\n",
    "print(a)"
   ]
  },
  {
   "cell_type": "code",
   "execution_count": 92,
   "id": "6503a999",
   "metadata": {
    "ExecuteTime": {
     "end_time": "2023-08-23T01:54:49.065936Z",
     "start_time": "2023-08-23T01:54:49.049978Z"
    }
   },
   "outputs": [
    {
     "name": "stdout",
     "output_type": "stream",
     "text": [
      "(1, 2, 3)\n"
     ]
    }
   ],
   "source": [
    "b = tuple(s1)\n",
    "print(b)"
   ]
  },
  {
   "cell_type": "code",
   "execution_count": 93,
   "id": "5e9f6f1c",
   "metadata": {
    "ExecuteTime": {
     "end_time": "2023-08-23T01:55:20.726474Z",
     "start_time": "2023-08-23T01:55:20.710530Z"
    }
   },
   "outputs": [
    {
     "name": "stdout",
     "output_type": "stream",
     "text": [
      "[1, 2, 3, 3, 4, 5, 6, 6, 7] <class 'list'>\n",
      "{1, 2, 3, 4, 5, 6, 7} <class 'set'>\n"
     ]
    }
   ],
   "source": [
    "a = [1, 2, 3, 3, 4, 5, 6, 6, 7]\n",
    "print(a, type(a))\n",
    "\n",
    "# 집합은 중복을 허용하지 않는다.\n",
    "b = set(a)\n",
    "print(b, type(b))"
   ]
  },
  {
   "cell_type": "markdown",
   "id": "cdb5058e",
   "metadata": {},
   "source": [
    "## 교집합, 합집합, 차집합"
   ]
  },
  {
   "cell_type": "code",
   "execution_count": 94,
   "id": "8b4f8c1a",
   "metadata": {
    "ExecuteTime": {
     "end_time": "2023-08-23T01:58:40.965047Z",
     "start_time": "2023-08-23T01:58:40.955029Z"
    }
   },
   "outputs": [
    {
     "name": "stdout",
     "output_type": "stream",
     "text": [
      "{1, 2, 3, 4, 5, 6, 7, 8, 9}\n",
      "{1, 2, 3, 4, 5, 6, 7, 8, 9}\n"
     ]
    }
   ],
   "source": [
    "s1 = set([1, 2, 3, 4, 5, 6])\n",
    "s2 = set([4, 5, 6, 7, 8, 9])\n",
    "\n",
    "## 합집합 : '|' or union()\n",
    "print(s1 | s2)\n",
    "print(s1.union(s2))"
   ]
  },
  {
   "cell_type": "code",
   "execution_count": 95,
   "id": "4226647b",
   "metadata": {
    "ExecuteTime": {
     "end_time": "2023-08-23T02:00:01.770935Z",
     "start_time": "2023-08-23T02:00:01.764955Z"
    }
   },
   "outputs": [
    {
     "name": "stdout",
     "output_type": "stream",
     "text": [
      "{4, 5, 6}\n",
      "{4, 5, 6}\n"
     ]
    }
   ],
   "source": [
    "# 교집합 : '&' or intersection()\n",
    "print(s1 & s2)\n",
    "print(s1.intersection(s2))"
   ]
  },
  {
   "cell_type": "code",
   "execution_count": 97,
   "id": "85f6407a",
   "metadata": {
    "ExecuteTime": {
     "end_time": "2023-08-23T02:01:07.181113Z",
     "start_time": "2023-08-23T02:01:07.170325Z"
    }
   },
   "outputs": [
    {
     "name": "stdout",
     "output_type": "stream",
     "text": [
      "{1, 2, 3}\n",
      "{8, 9, 7}\n",
      "{1, 2, 3}\n",
      "{8, 9, 7}\n"
     ]
    }
   ],
   "source": [
    "# 차집합 : '-' or difference()\n",
    "print(s1 - s2)\n",
    "print(s2 - s1)\n",
    "\n",
    "print(s1.difference(s2))\n",
    "print(s2.difference(s1))"
   ]
  },
  {
   "cell_type": "code",
   "execution_count": 98,
   "id": "b80b054b",
   "metadata": {
    "ExecuteTime": {
     "end_time": "2023-08-23T02:02:03.193865Z",
     "start_time": "2023-08-23T02:02:03.184662Z"
    }
   },
   "outputs": [
    {
     "name": "stdout",
     "output_type": "stream",
     "text": [
      "{1, 2, 3, 4}\n"
     ]
    }
   ],
   "source": [
    "# add() : 하나의 값을 추가하는 함수\n",
    "s1 = set([1, 2, 3])\n",
    "s1.add(4)\n",
    "print(s1)"
   ]
  },
  {
   "cell_type": "code",
   "execution_count": 100,
   "id": "c5ad4d41",
   "metadata": {
    "ExecuteTime": {
     "end_time": "2023-08-23T02:02:58.049046Z",
     "start_time": "2023-08-23T02:02:58.043991Z"
    }
   },
   "outputs": [
    {
     "name": "stdout",
     "output_type": "stream",
     "text": [
      "{1, 2, 3, 4, 5, 6}\n"
     ]
    }
   ],
   "source": [
    "# update() : 여러개의 값을 추가하는 함수\n",
    "s1 = set([1, 2, 3])\n",
    "s1.update([4, 5, 6])\n",
    "print(s1)"
   ]
  },
  {
   "cell_type": "code",
   "execution_count": 101,
   "id": "6d4cb693",
   "metadata": {
    "ExecuteTime": {
     "end_time": "2023-08-23T02:03:32.412830Z",
     "start_time": "2023-08-23T02:03:32.399090Z"
    }
   },
   "outputs": [
    {
     "name": "stdout",
     "output_type": "stream",
     "text": [
      "{1, 3}\n"
     ]
    }
   ],
   "source": [
    "# remove() : 특정 값을 제거하는 함수\n",
    "s1 = set([1, 2, 3])\n",
    "s1.remove(2)\n",
    "print(s1)"
   ]
  },
  {
   "cell_type": "code",
   "execution_count": 102,
   "id": "56656e1f",
   "metadata": {
    "ExecuteTime": {
     "end_time": "2023-08-23T02:21:56.904125Z",
     "start_time": "2023-08-23T02:21:56.884699Z"
    }
   },
   "outputs": [
    {
     "name": "stdout",
     "output_type": "stream",
     "text": [
      "a\t b\t c\t d\t dic\t e\t f\t k\t key\t \n",
      "l1\t s1\t s2\t t1\t t2\t t3\t value\t w\t x\t \n",
      "xx\t y\t z\t \n"
     ]
    }
   ],
   "source": [
    "# 매직명령어\n",
    "## 저장된 변수 목록 확인\n",
    "%who"
   ]
  }
 ],
 "metadata": {
  "kernelspec": {
   "display_name": "Python 3",
   "language": "python",
   "name": "python3"
  },
  "language_info": {
   "codemirror_mode": {
    "name": "ipython",
    "version": 3
   },
   "file_extension": ".py",
   "mimetype": "text/x-python",
   "name": "python",
   "nbconvert_exporter": "python",
   "pygments_lexer": "ipython3",
   "version": "3.8.8"
  },
  "toc": {
   "base_numbering": 1,
   "nav_menu": {},
   "number_sections": true,
   "sideBar": true,
   "skip_h1_title": false,
   "title_cell": "Table of Contents",
   "title_sidebar": "Contents",
   "toc_cell": false,
   "toc_position": {
    "height": "calc(100% - 180px)",
    "left": "10px",
    "top": "150px",
    "width": "264px"
   },
   "toc_section_display": true,
   "toc_window_display": true
  }
 },
 "nbformat": 4,
 "nbformat_minor": 5
}
