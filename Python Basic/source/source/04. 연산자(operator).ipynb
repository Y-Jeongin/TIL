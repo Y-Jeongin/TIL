{
 "cells": [
  {
   "cell_type": "code",
   "execution_count": 1,
   "id": "e459fe65",
   "metadata": {
    "ExecuteTime": {
     "end_time": "2023-08-22T06:22:49.067552Z",
     "start_time": "2023-08-22T06:22:49.056203Z"
    }
   },
   "outputs": [
    {
     "name": "stdout",
     "output_type": "stream",
     "text": [
      "<class 'bool'>\n"
     ]
    }
   ],
   "source": [
    "# 논리형 : True or False\n",
    "hungry = True\n",
    "sleep = False\n",
    "\n",
    "# 논리연산자 : &, |, !\n",
    "# 자료형 확인 : type() - bool\n",
    "print(type(hungry))"
   ]
  },
  {
   "cell_type": "code",
   "execution_count": 2,
   "id": "da7d43c3",
   "metadata": {
    "ExecuteTime": {
     "end_time": "2023-08-22T06:23:11.204369Z",
     "start_time": "2023-08-22T06:23:11.195654Z"
    }
   },
   "outputs": [
    {
     "name": "stdout",
     "output_type": "stream",
     "text": [
      "False\n"
     ]
    }
   ],
   "source": [
    "print(hungry and sleep)"
   ]
  },
  {
   "cell_type": "code",
   "execution_count": 3,
   "id": "d678b4da",
   "metadata": {
    "ExecuteTime": {
     "end_time": "2023-08-22T06:23:40.346998Z",
     "start_time": "2023-08-22T06:23:40.329962Z"
    }
   },
   "outputs": [
    {
     "ename": "SyntaxError",
     "evalue": "invalid syntax (<ipython-input-3-de58811a54f5>, line 1)",
     "output_type": "error",
     "traceback": [
      "\u001b[1;36m  File \u001b[1;32m\"<ipython-input-3-de58811a54f5>\"\u001b[1;36m, line \u001b[1;32m1\u001b[0m\n\u001b[1;33m    print(!hungry)\u001b[0m\n\u001b[1;37m          ^\u001b[0m\n\u001b[1;31mSyntaxError\u001b[0m\u001b[1;31m:\u001b[0m invalid syntax\n"
     ]
    }
   ],
   "source": [
    "print(!hungry)  # 에러"
   ]
  },
  {
   "cell_type": "code",
   "execution_count": 4,
   "id": "b186a30c",
   "metadata": {
    "ExecuteTime": {
     "end_time": "2023-08-22T06:24:26.867581Z",
     "start_time": "2023-08-22T06:24:26.859038Z"
    }
   },
   "outputs": [
    {
     "name": "stdout",
     "output_type": "stream",
     "text": [
      "False\n"
     ]
    }
   ],
   "source": [
    "print(not hungry)"
   ]
  },
  {
   "cell_type": "code",
   "execution_count": 5,
   "id": "2578682d",
   "metadata": {
    "ExecuteTime": {
     "end_time": "2023-08-22T06:25:02.517498Z",
     "start_time": "2023-08-22T06:25:02.490601Z"
    }
   },
   "outputs": [
    {
     "name": "stdout",
     "output_type": "stream",
     "text": [
      "True\n"
     ]
    }
   ],
   "source": [
    "print(hungry or sleep)"
   ]
  },
  {
   "cell_type": "code",
   "execution_count": 8,
   "id": "9bdf30df",
   "metadata": {
    "ExecuteTime": {
     "end_time": "2023-08-22T06:27:52.906596Z",
     "start_time": "2023-08-22T06:27:52.897524Z"
    }
   },
   "outputs": [
    {
     "name": "stdout",
     "output_type": "stream",
     "text": [
      "ok\n"
     ]
    }
   ],
   "source": [
    "a = 1\n",
    "b = 3\n",
    "\n",
    "# 들여쓰기(Indent)\n",
    "if a == 1 and b == 3:\n",
    "    print(\"ok\")\n",
    "else:\n",
    "    print(\"not ok\")"
   ]
  },
  {
   "cell_type": "code",
   "execution_count": 9,
   "id": "efa61c03",
   "metadata": {
    "ExecuteTime": {
     "end_time": "2023-08-22T06:27:54.049815Z",
     "start_time": "2023-08-22T06:27:54.041656Z"
    }
   },
   "outputs": [
    {
     "name": "stdout",
     "output_type": "stream",
     "text": [
      "ok\n"
     ]
    }
   ],
   "source": [
    "if a == 1 and \\\n",
    "b == 3:\n",
    "    print(\"ok\")\n",
    "else:\n",
    "    print(\"not ok\")"
   ]
  },
  {
   "cell_type": "code",
   "execution_count": 14,
   "id": "5ff9fa86",
   "metadata": {
    "ExecuteTime": {
     "end_time": "2023-08-22T06:30:12.011350Z",
     "start_time": "2023-08-22T06:30:12.005252Z"
    }
   },
   "outputs": [
    {
     "name": "stdout",
     "output_type": "stream",
     "text": [
      "Hello\n",
      "Python\n",
      "programming\n"
     ]
    }
   ],
   "source": [
    "# multi line text : 여러줄 문장\n",
    "\n",
    "multi = \"Hello\\nPython\\nprogramming\"\n",
    "\n",
    "# 제어문자 : \\n == new line, 줄바꿈(개행)\n",
    "print(multi)"
   ]
  },
  {
   "cell_type": "code",
   "execution_count": 15,
   "id": "4de4199e",
   "metadata": {
    "ExecuteTime": {
     "end_time": "2023-08-22T06:30:48.301932Z",
     "start_time": "2023-08-22T06:30:48.270839Z"
    }
   },
   "outputs": [
    {
     "name": "stdout",
     "output_type": "stream",
     "text": [
      "\n",
      "Hello\n",
      "Python\n",
      "Programming\n",
      "\n"
     ]
    }
   ],
   "source": [
    "multiline = \"\"\"\n",
    "Hello\n",
    "Python\n",
    "Programming\n",
    "\"\"\"\n",
    "\n",
    "print(multiline)"
   ]
  },
  {
   "cell_type": "code",
   "execution_count": 18,
   "id": "54a56319",
   "metadata": {
    "ExecuteTime": {
     "end_time": "2023-08-22T06:32:41.901931Z",
     "start_time": "2023-08-22T06:32:41.890279Z"
    }
   },
   "outputs": [
    {
     "name": "stdout",
     "output_type": "stream",
     "text": [
      "파이썬은  재미있다.\n",
      "파이썬은 재미있다.\n"
     ]
    }
   ],
   "source": [
    "head = \"파이썬은 \"\n",
    "tail = \"재미있다.\"\n",
    "print(head, tail)\n",
    "print(head + tail)"
   ]
  },
  {
   "cell_type": "code",
   "execution_count": 20,
   "id": "007363cb",
   "metadata": {
    "ExecuteTime": {
     "end_time": "2023-08-22T06:34:16.621411Z",
     "start_time": "2023-08-22T06:34:16.613059Z"
    }
   },
   "outputs": [
    {
     "name": "stdout",
     "output_type": "stream",
     "text": [
      "홍길동 33\n",
      "홍길동33\n"
     ]
    }
   ],
   "source": [
    "name = \"홍길동\"\n",
    "age = 33\n",
    "\n",
    "print(name, age)\n",
    "\n",
    "# str(숫자) : 숫자데이터를 문자데이터로 형변환\n",
    "print(name + str(age))"
   ]
  },
  {
   "cell_type": "code",
   "execution_count": 24,
   "id": "554be7ce",
   "metadata": {
    "ExecuteTime": {
     "end_time": "2023-08-22T06:38:11.977824Z",
     "start_time": "2023-08-22T06:38:11.968854Z"
    }
   },
   "outputs": [
    {
     "name": "stdout",
     "output_type": "stream",
     "text": [
      "이름 : 홍길동, 나이 : 33\n",
      "이름 : 홍길동, 나이 : 33\n",
      "이름 : 홍길동, 나이 : 33\n",
      "이름 : 홍길동, 나이 : 33\n"
     ]
    }
   ],
   "source": [
    "print(\"이름 : {}, 나이 : {}\".format(name, age))\n",
    "\n",
    "# 파이썬의 인덱스(index)는 0부터 시작한다.\n",
    "print(\"이름 : {0}, 나이 : {1}\".format(name, age))\n",
    "print(f\"이름 : {name}, 나이 : {age}\")\n",
    "print(\"이름 : %s, 나이 : %d\" % (name, age))"
   ]
  },
  {
   "cell_type": "code",
   "execution_count": 25,
   "id": "402b52b4",
   "metadata": {
    "ExecuteTime": {
     "end_time": "2023-08-22T06:38:47.956641Z",
     "start_time": "2023-08-22T06:38:47.941140Z"
    }
   },
   "outputs": [
    {
     "name": "stdout",
     "output_type": "stream",
     "text": [
      "파이썬파이썬\n",
      "파이썬파이썬파이썬\n",
      "==================================================\n",
      "My Program Style\n"
     ]
    }
   ],
   "source": [
    "x = \"파이썬\"\n",
    "print(x * 2)\n",
    "print(x * 3)\n",
    "print(\"=\" * 50)\n",
    "print(\"My Program Style\")"
   ]
  },
  {
   "cell_type": "code",
   "execution_count": 31,
   "id": "d645c414",
   "metadata": {
    "ExecuteTime": {
     "end_time": "2023-08-22T06:43:57.723838Z",
     "start_time": "2023-08-22T06:43:57.712784Z"
    }
   },
   "outputs": [
    {
     "name": "stdout",
     "output_type": "stream",
     "text": [
      "Life is too short\n",
      "e\n",
      "r\n",
      "==================================================\n",
      "Life\n",
      "is too short\n",
      "Life is\n",
      "Life is too short\n"
     ]
    }
   ],
   "source": [
    "# 문자열 인덱싱\n",
    "# 파이썬에서 리스트(List)는 1차원 배열과 같다. R에서 Vector와 같다.\n",
    "\n",
    "xx = \"Life is too short\"\n",
    "print(xx)\n",
    "\n",
    "# [인덱스]\n",
    "print(xx[3])\n",
    "print(xx[-2])\n",
    "print(\"=\" * 50)\n",
    "\n",
    "# 슬라이싱(slicing) : , start:stop(stop-1) 일부분 추출\n",
    "print(xx[0:4])  # 0 ~ 3\n",
    "print(xx[5:])  # 5 ~ 끝\n",
    "print(xx[:7])  # 시작 ~ 6\n",
    "print(xx[:])  # 시작 ~ 끝"
   ]
  },
  {
   "cell_type": "markdown",
   "id": "f25e4e9b",
   "metadata": {},
   "source": [
    "## 문자열과 관련된 함수"
   ]
  },
  {
   "cell_type": "code",
   "execution_count": 34,
   "id": "54fa74ee",
   "metadata": {
    "ExecuteTime": {
     "end_time": "2023-08-22T06:46:27.827042Z",
     "start_time": "2023-08-22T06:46:27.819977Z"
    }
   },
   "outputs": [
    {
     "name": "stdout",
     "output_type": "stream",
     "text": [
      "False\n",
      "True\n",
      "False\n"
     ]
    }
   ],
   "source": [
    "str = \"Hello World\"\n",
    "\n",
    "# in과 not in \n",
    "\n",
    "print(\"world\" in str)  # 포함하고 있는지 여부\n",
    "print(\"World\" in str)\n",
    "print(\"World\" not in str)"
   ]
  },
  {
   "cell_type": "code",
   "execution_count": 35,
   "id": "4b443f5e",
   "metadata": {
    "ExecuteTime": {
     "end_time": "2023-08-22T06:47:33.278800Z",
     "start_time": "2023-08-22T06:47:33.269235Z"
    }
   },
   "outputs": [
    {
     "name": "stdout",
     "output_type": "stream",
     "text": [
      "3.141592653589793\n"
     ]
    }
   ],
   "source": [
    "import math\n",
    "\n",
    "y = math.pi\n",
    "print(y)"
   ]
  },
  {
   "cell_type": "code",
   "execution_count": 38,
   "id": "f133098b",
   "metadata": {
    "ExecuteTime": {
     "end_time": "2023-08-22T06:49:04.667137Z",
     "start_time": "2023-08-22T06:49:04.659211Z"
    }
   },
   "outputs": [
    {
     "name": "stdout",
     "output_type": "stream",
     "text": [
      "hobby\n",
      "2\n"
     ]
    }
   ],
   "source": [
    "a = \"hobby\"\n",
    "print(a)\n",
    "\n",
    "# count : 해당 문자의 개수를 반환\n",
    "print(a.count('b'))"
   ]
  },
  {
   "cell_type": "code",
   "execution_count": 40,
   "id": "0fb96acf",
   "metadata": {
    "ExecuteTime": {
     "end_time": "2023-08-22T06:52:27.766974Z",
     "start_time": "2023-08-22T06:52:27.757385Z"
    }
   },
   "outputs": [
    {
     "name": "stdout",
     "output_type": "stream",
     "text": [
      "Have a nice today\n",
      "7\n",
      "-1\n",
      "7\n"
     ]
    }
   ],
   "source": [
    "# find() : 문자열에서 해당 문자를 찾아 첫번째 위치를 반환, 단 없으면 -1을 반환\n",
    "# rfind() : 오른쪽에서부터 첫번째 위치를 반환\n",
    "\n",
    "b = \"Have a nice today\"\n",
    "print(b)\n",
    "\n",
    "print(b.find('nice'))\n",
    "print(b.find('have'))\n",
    "print(b.rfind('nice'))"
   ]
  },
  {
   "cell_type": "code",
   "execution_count": 47,
   "id": "4df52654",
   "metadata": {
    "ExecuteTime": {
     "end_time": "2023-08-22T07:02:10.716997Z",
     "start_time": "2023-08-22T07:02:10.709929Z"
    }
   },
   "outputs": [
    {
     "name": "stdout",
     "output_type": "stream",
     "text": [
      "15\n"
     ]
    }
   ],
   "source": [
    "xx = \"aaa b ccccc dd e ff\"\n",
    "\n",
    "print(xx.rfind('e'))"
   ]
  },
  {
   "cell_type": "code",
   "execution_count": 50,
   "id": "c188c621",
   "metadata": {
    "ExecuteTime": {
     "end_time": "2023-08-22T07:03:06.284339Z",
     "start_time": "2023-08-22T07:03:06.268752Z"
    }
   },
   "outputs": [
    {
     "name": "stdout",
     "output_type": "stream",
     "text": [
      "6\n",
      "27\n"
     ]
    }
   ],
   "source": [
    "xx = \"aaa b ccccc dd e ff cccccccc\"\n",
    "\n",
    "print(xx.find('c'))\n",
    "print(xx.rfind('c'))"
   ]
  },
  {
   "cell_type": "code",
   "execution_count": 41,
   "id": "480fc464",
   "metadata": {
    "ExecuteTime": {
     "end_time": "2023-08-22T06:54:45.422392Z",
     "start_time": "2023-08-22T06:54:45.407140Z"
    }
   },
   "outputs": [
    {
     "name": "stdout",
     "output_type": "stream",
     "text": [
      "7\n"
     ]
    },
    {
     "ename": "ValueError",
     "evalue": "substring not found",
     "output_type": "error",
     "traceback": [
      "\u001b[1;31m---------------------------------------------------------------------------\u001b[0m",
      "\u001b[1;31mValueError\u001b[0m                                Traceback (most recent call last)",
      "\u001b[1;32m<ipython-input-41-c56c2b2ffcf2>\u001b[0m in \u001b[0;36m<module>\u001b[1;34m\u001b[0m\n\u001b[0;32m      2\u001b[0m \u001b[0mx\u001b[0m \u001b[1;33m=\u001b[0m \u001b[1;34m\"Have a nice today\"\u001b[0m\u001b[1;33m\u001b[0m\u001b[1;33m\u001b[0m\u001b[0m\n\u001b[0;32m      3\u001b[0m \u001b[0mprint\u001b[0m\u001b[1;33m(\u001b[0m\u001b[0mx\u001b[0m\u001b[1;33m.\u001b[0m\u001b[0mindex\u001b[0m\u001b[1;33m(\u001b[0m\u001b[1;34m\"nice\"\u001b[0m\u001b[1;33m)\u001b[0m\u001b[1;33m)\u001b[0m\u001b[1;33m\u001b[0m\u001b[1;33m\u001b[0m\u001b[0m\n\u001b[1;32m----> 4\u001b[1;33m \u001b[0mprint\u001b[0m\u001b[1;33m(\u001b[0m\u001b[0mx\u001b[0m\u001b[1;33m.\u001b[0m\u001b[0mindex\u001b[0m\u001b[1;33m(\u001b[0m\u001b[1;34m\"have\"\u001b[0m\u001b[1;33m)\u001b[0m\u001b[1;33m)\u001b[0m\u001b[1;33m\u001b[0m\u001b[1;33m\u001b[0m\u001b[0m\n\u001b[0m",
      "\u001b[1;31mValueError\u001b[0m: substring not found"
     ]
    }
   ],
   "source": [
    "# index : find와 유사하지만 해당 문자열이 없으면 오류 발생\n",
    "x = \"Have a nice today\"\n",
    "print(x.index(\"nice\"))\n",
    "print(x.index(\"have\"))"
   ]
  },
  {
   "cell_type": "code",
   "execution_count": 42,
   "id": "a905f5cf",
   "metadata": {
    "ExecuteTime": {
     "end_time": "2023-08-22T06:55:51.489415Z",
     "start_time": "2023-08-22T06:55:51.473513Z"
    }
   },
   "outputs": [
    {
     "data": {
      "text/plain": [
       "'a,b,c,d'"
      ]
     },
     "execution_count": 42,
     "metadata": {},
     "output_type": "execute_result"
    }
   ],
   "source": [
    "# 구분자.join(문자열) : 각각의 문자열 사이에 지정한 문자를 삽입하는 함수\n",
    "\",\".join(\"abcd\")"
   ]
  },
  {
   "cell_type": "code",
   "execution_count": 43,
   "id": "288ddbbd",
   "metadata": {
    "ExecuteTime": {
     "end_time": "2023-08-22T06:57:05.628953Z",
     "start_time": "2023-08-22T06:57:05.619946Z"
    }
   },
   "outputs": [
    {
     "data": {
      "text/plain": [
       "'HELLO'"
      ]
     },
     "execution_count": 43,
     "metadata": {},
     "output_type": "execute_result"
    }
   ],
   "source": [
    "# upper / lower\n",
    "data = \"hello\"\n",
    "\n",
    "data.upper()"
   ]
  },
  {
   "cell_type": "code",
   "execution_count": 44,
   "id": "81beeeb3",
   "metadata": {
    "ExecuteTime": {
     "end_time": "2023-08-22T06:57:25.460717Z",
     "start_time": "2023-08-22T06:57:25.449079Z"
    }
   },
   "outputs": [
    {
     "data": {
      "text/plain": [
       "'hello'"
      ]
     },
     "execution_count": 44,
     "metadata": {},
     "output_type": "execute_result"
    }
   ],
   "source": [
    "data.upper().lower()"
   ]
  },
  {
   "cell_type": "code",
   "execution_count": 45,
   "id": "75f49338",
   "metadata": {
    "ExecuteTime": {
     "end_time": "2023-08-22T06:58:11.915666Z",
     "start_time": "2023-08-22T06:58:11.908500Z"
    }
   },
   "outputs": [
    {
     "data": {
      "text/plain": [
       "'Hello'"
      ]
     },
     "execution_count": 45,
     "metadata": {},
     "output_type": "execute_result"
    }
   ],
   "source": [
    "# 첫글자만 대문자로 변환\n",
    "data.capitalize()"
   ]
  },
  {
   "cell_type": "code",
   "execution_count": 46,
   "id": "e820d81b",
   "metadata": {
    "ExecuteTime": {
     "end_time": "2023-08-22T07:01:12.730066Z",
     "start_time": "2023-08-22T07:01:12.723122Z"
    }
   },
   "outputs": [
    {
     "name": "stdout",
     "output_type": "stream",
     "text": [
      "hi     \n",
      "     hi\n",
      "hi\n"
     ]
    }
   ],
   "source": [
    "# 공백제거 : strip(양쪽), rstrip(오른쪽), lstrip(왼쪽)\n",
    "a = '     hi     '\n",
    "result = a.lstrip()\n",
    "print(result)\n",
    "\n",
    "a = '     hi     '\n",
    "result = a.rstrip()\n",
    "print(result)\n",
    "\n",
    "a = '     hi     '\n",
    "result = a.strip()\n",
    "print(result)"
   ]
  },
  {
   "cell_type": "code",
   "execution_count": 54,
   "id": "8529d518",
   "metadata": {
    "ExecuteTime": {
     "end_time": "2023-08-22T07:06:19.840319Z",
     "start_time": "2023-08-22T07:06:19.830355Z"
    }
   },
   "outputs": [
    {
     "name": "stdout",
     "output_type": "stream",
     "text": [
      "경력 개발자\n"
     ]
    }
   ],
   "source": [
    "# replace : 문자열을 특정 문자열로 바꿔주는 함수\n",
    "a = \"신입 개발자\"\n",
    "\n",
    "# replace(A, B) : A를 B로 변경해라\n",
    "result = a.replace(\"신입\", \"경력\")\n",
    "print(result)"
   ]
  },
  {
   "cell_type": "code",
   "execution_count": 55,
   "id": "9ff34131",
   "metadata": {
    "ExecuteTime": {
     "end_time": "2023-08-22T07:07:48.566729Z",
     "start_time": "2023-08-22T07:07:48.551135Z"
    }
   },
   "outputs": [
    {
     "name": "stdout",
     "output_type": "stream",
     "text": [
      "['신입', '개발자', '자바', '파이썬', '가능자']\n"
     ]
    }
   ],
   "source": [
    "a = \"신입 개발자 자바 파이썬 가능자\"\n",
    "result = a.split()  # 공백을 기준으로 나눈다. => 리스트로 반환\n",
    "print(result)"
   ]
  },
  {
   "cell_type": "code",
   "execution_count": 56,
   "id": "c388dab3",
   "metadata": {
    "ExecuteTime": {
     "end_time": "2023-08-22T07:08:11.511048Z",
     "start_time": "2023-08-22T07:08:11.497554Z"
    }
   },
   "outputs": [
    {
     "name": "stdout",
     "output_type": "stream",
     "text": [
      "['A', 'B', 'C', 'D']\n"
     ]
    }
   ],
   "source": [
    "a = \"A:B:C:D\"\n",
    "result = a.split(':')\n",
    "print(result)"
   ]
  },
  {
   "cell_type": "code",
   "execution_count": 57,
   "id": "107cdc88",
   "metadata": {
    "ExecuteTime": {
     "end_time": "2023-08-22T07:08:53.594944Z",
     "start_time": "2023-08-22T07:08:53.580125Z"
    }
   },
   "outputs": [
    {
     "name": "stdout",
     "output_type": "stream",
     "text": [
      "1 2 3\n",
      "4 5 6\n"
     ]
    }
   ],
   "source": [
    "print(1, 2, 3)\n",
    "print(4, 5, 6)"
   ]
  },
  {
   "cell_type": "code",
   "execution_count": 59,
   "id": "337c49cf",
   "metadata": {
    "ExecuteTime": {
     "end_time": "2023-08-22T07:10:42.526819Z",
     "start_time": "2023-08-22T07:10:42.517203Z"
    }
   },
   "outputs": [
    {
     "name": "stdout",
     "output_type": "stream",
     "text": [
      "1 2 3 4 5 6\n"
     ]
    }
   ],
   "source": [
    "# print(\"출력내용\", end = '\\n')\n",
    "print(1, 2, 3, end = ' ')  # end of lind : 줄의 끝 처리, end = '\\n' 기본값\n",
    "print(4, 5, 6)"
   ]
  },
  {
   "cell_type": "code",
   "execution_count": 63,
   "id": "f8cf5586",
   "metadata": {
    "ExecuteTime": {
     "end_time": "2023-08-22T07:12:38.089350Z",
     "start_time": "2023-08-22T07:12:38.075277Z"
    }
   },
   "outputs": [
    {
     "name": "stdout",
     "output_type": "stream",
     "text": [
      "1 2 3 4 5\n",
      "1, 2, 3, 4, 5\n"
     ]
    }
   ],
   "source": [
    "print(1, 2, 3, 4, 5)\n",
    "print(1, 2, 3, 4, 5, sep = ', ')  # sep : 구분기호(구분자)"
   ]
  }
 ],
 "metadata": {
  "kernelspec": {
   "display_name": "Python 3",
   "language": "python",
   "name": "python3"
  },
  "language_info": {
   "codemirror_mode": {
    "name": "ipython",
    "version": 3
   },
   "file_extension": ".py",
   "mimetype": "text/x-python",
   "name": "python",
   "nbconvert_exporter": "python",
   "pygments_lexer": "ipython3",
   "version": "3.8.8"
  },
  "toc": {
   "base_numbering": 1,
   "nav_menu": {},
   "number_sections": true,
   "sideBar": true,
   "skip_h1_title": false,
   "title_cell": "Table of Contents",
   "title_sidebar": "Contents",
   "toc_cell": false,
   "toc_position": {},
   "toc_section_display": true,
   "toc_window_display": false
  }
 },
 "nbformat": 4,
 "nbformat_minor": 5
}
