{
 "cells": [
  {
   "cell_type": "markdown",
   "id": "ed9302d6",
   "metadata": {},
   "source": [
    "# 객체 지향적인 프로그래밍?\n",
    "\n",
    "1. 구조적인 프로그래밍 기법 : 대표적인 언어 C언어\n",
    "  - 구조적인 프로그래밍 기법의 단점은 프로그램의 개발 시간과 비용\n",
    "  - 소프트웨어의 위기\n",
    "  - 고전적인 프로그래밍 개발 기법 : 폭포수 기법\n",
    "\n",
    "\n",
    "2. 객체(Object)와 객체(Instance)\n",
    "  - 객체(Object) : 붕어빵 틀(Template), 설계도\n",
    "  - 객체(Instance) : 붕어빵\n",
    "  \n",
    "  \n",
    "3. \"나는 사과장수에게 2000원을 주고 사과를 구매했다.\"\n",
    "  - 객체(틀) => 클래스, 명사형\n",
    "    * 나\n",
    "    * 사과장수\n",
    "    * 사과 : IoT(사물인터넷)\n",
    "  - 메소드(Method) : 객체가 하는 행위나 동작 => 함수(메소드), 동사형\n",
    "    * 나 : 사과를 구매하는 행위\n",
    "    * 사과장수 : 사과를 판매하는 행위\n",
    "  - 속성(Attribute) : 객체가 가지고 있는 특성 => 변수\n",
    "    * 나 : 돈\n",
    "    * 사과장수 : 판매할 사과, 사과 가격"
   ]
  },
  {
   "cell_type": "markdown",
   "id": "75f49443",
   "metadata": {},
   "source": [
    "# 모듈(Module) vs 클래스(class) vs 인스턴스(instance)\n",
    "\n",
    "1. 모듈(Module) : py라는 확장자를 가지고 있는 파이썬 파일\n",
    "  - 주피터 노트북 ipynb라는 확장자를 가진다.\n",
    "  - 모듈은 아주 작은 프로그램 덩어리, 라이브러리(library)\n",
    "  - 패키지(package) : 여러 모듈을 묶어놓은 단위\n",
    "2. 클래스(class) : 객체를 추상화하는 구조 또는 틀\n",
    "3. 인스턴스(instance) : 클래스로부터 만들어낸 객체"
   ]
  },
  {
   "cell_type": "markdown",
   "id": "9b5483c2",
   "metadata": {},
   "source": [
    "# 클래스(class)\n",
    "\n",
    "1. 클래스의 구조 또는 형식  \n",
    "<code>\n",
    "    class 클래스명:\n",
    "        멤버필드(Member Field) or 속성(Property) = 프로퍼티\n",
    "        멤버메서드(Member Method) = 함수(Function)\n",
    "</code>"
   ]
  },
  {
   "cell_type": "code",
   "execution_count": null,
   "id": "045933ba",
   "metadata": {
    "ExecuteTime": {
     "end_time": "2023-08-25T00:47:25.938106Z",
     "start_time": "2023-08-25T00:47:25.928135Z"
    }
   },
   "outputs": [],
   "source": [
    "# 나\n",
    "class AppleBuyer:\n",
    "    # 멤버 필드\n",
    "    money = 10000  # 내가 가지고 있는 돈\n",
    "    apple = 0  # 내가 가지고 있는 사과의 개수\n",
    "    \n",
    "    # 멤버 메서드\n",
    "    def buy(self):\n",
    "        # AppleSeller seller\n",
    "        apple = seller.sales(don)  # 돈을 내고 사과장수가 준 사과를 받음\n",
    "        money -= don\n",
    "        \n",
    "    def result(self):\n",
    "        print(\"남은 용돈 : \", money)\n",
    "        print(\"구매 사과 : \", apple)"
   ]
  },
  {
   "cell_type": "code",
   "execution_count": null,
   "id": "82fd3b52",
   "metadata": {
    "ExecuteTime": {
     "end_time": "2023-08-25T00:47:26.400157Z",
     "start_time": "2023-08-25T00:47:26.393125Z"
    }
   },
   "outputs": [],
   "source": [
    "# 사과장수\n",
    "class AppleSeller:\n",
    "    # 멤버 필드 - 생략해서 사용 가능, 초기화(처음값)를 줄 경우 기술한다.\n",
    "    price = 1000  # 사과의 가격\n",
    "    apples = 50  # 사과의 개수\n",
    "    money = 0  # 매출 금액\n",
    "    \n",
    "    # 멤버 메서드\n",
    "    def sales(self, don):\n",
    "        apple = don / price\n",
    "        apples -= apple\n",
    "        money += don\n",
    "        return apple\n",
    "    \n",
    "    def disp(self):\n",
    "        print('남은 사과 수 : ', apples)\n",
    "        print('매출 금액 : ', money)"
   ]
  },
  {
   "cell_type": "markdown",
   "id": "5b9e20b0",
   "metadata": {},
   "source": [
    "## 클래스 Member Method 선언\n",
    "\n",
    "- def로 선언\n",
    "- 일반함수와 구별하기 위해 클래스의 멤버메서드를 뜻하는 첫번째 매개변수 self"
   ]
  },
  {
   "cell_type": "code",
   "execution_count": null,
   "id": "64725907",
   "metadata": {
    "ExecuteTime": {
     "end_time": "2023-08-25T00:58:50.889095Z",
     "start_time": "2023-08-25T00:58:50.877767Z"
    }
   },
   "outputs": [],
   "source": [
    "# 사람\n",
    "class Person:\n",
    "    # 멤버 필드\n",
    "    \n",
    "    # 멤버 메서드\n",
    "    def walk(self):\n",
    "        print(\"사람이 걸어갑니다.\")\n",
    "        \n",
    "    def run(self):\n",
    "        print(\"사람이 달려갑니다.\")"
   ]
  },
  {
   "cell_type": "code",
   "execution_count": null,
   "id": "3ba8f7ef",
   "metadata": {
    "ExecuteTime": {
     "end_time": "2023-08-25T00:54:26.257788Z",
     "start_time": "2023-08-25T00:54:26.247361Z"
    }
   },
   "outputs": [],
   "source": [
    "# 클래스에 접근하려면 반드시 인스턴트 객체가 필요하다.\n",
    "p = Person()  # p = 객체명"
   ]
  },
  {
   "cell_type": "code",
   "execution_count": null,
   "id": "b0194b66",
   "metadata": {
    "ExecuteTime": {
     "end_time": "2023-08-25T00:57:45.081263Z",
     "start_time": "2023-08-25T00:57:45.067928Z"
    }
   },
   "outputs": [],
   "source": [
    "# 객체명을 통해 클래스의 멤버에 접근 : 접근연산자(. direct 연산자)\n",
    "p.walk()\n",
    "p.run()"
   ]
  },
  {
   "cell_type": "code",
   "execution_count": null,
   "id": "edd7f6e4",
   "metadata": {
    "ExecuteTime": {
     "end_time": "2023-08-25T00:59:00.689945Z",
     "start_time": "2023-08-25T00:59:00.684964Z"
    }
   },
   "outputs": [],
   "source": [
    "# 사람 Object\n",
    "class Person:\n",
    "    # 멤버 필드\n",
    "    \n",
    "    # 멤버 메서드\n",
    "    def walk(self):\n",
    "        print(self.name + \"이 걸어갑니다.\")\n",
    "        \n",
    "    def run(self):\n",
    "        print(self.name + \"이 달려갑니다.\")"
   ]
  },
  {
   "cell_type": "code",
   "execution_count": null,
   "id": "10bc313b",
   "metadata": {
    "ExecuteTime": {
     "end_time": "2023-08-25T01:00:39.976927Z",
     "start_time": "2023-08-25T01:00:39.971018Z"
    }
   },
   "outputs": [],
   "source": [
    "# 인스턴스 객체 생성\n",
    "p1 = Person()\n",
    "\n",
    "p1.name = \"홍길동\"\n",
    "\n",
    "# 멤버 접근\n",
    "p1.walk()\n",
    "p1.run()"
   ]
  },
  {
   "cell_type": "code",
   "execution_count": null,
   "id": "aec43c12",
   "metadata": {
    "ExecuteTime": {
     "end_time": "2023-08-25T01:01:26.787667Z",
     "start_time": "2023-08-25T01:01:26.773174Z"
    }
   },
   "outputs": [],
   "source": [
    "p2 = Person()\n",
    "\n",
    "p2.name = \"장보고\"\n",
    "\n",
    "p2.walk()\n",
    "p2.run()"
   ]
  },
  {
   "cell_type": "code",
   "execution_count": null,
   "id": "6b0a2347",
   "metadata": {
    "ExecuteTime": {
     "end_time": "2023-08-25T01:16:58.478991Z",
     "start_time": "2023-08-25T01:16:58.474008Z"
    }
   },
   "outputs": [],
   "source": [
    "# 사람 Object\n",
    "class Person:\n",
    "    # 멤버 필드\n",
    "    \n",
    "    # 멤버 메서드\n",
    "    def walk(self):\n",
    "        print(self.name + \"이 \" + str(self.speed) + \"의 속도로 걸어갑니다.\")\n",
    "        \n",
    "    def run(self):\n",
    "        print(self.name + \"이 \" + str(self.speed) + \"의 속도로 달려갑니다.\")"
   ]
  },
  {
   "cell_type": "code",
   "execution_count": null,
   "id": "90de391d",
   "metadata": {
    "ExecuteTime": {
     "end_time": "2023-08-25T01:16:58.710363Z",
     "start_time": "2023-08-25T01:16:58.694292Z"
    }
   },
   "outputs": [],
   "source": [
    "p1 = Person()\n",
    "\n",
    "# 멤버 필드를 초기화 시켜주어야 한다.\n",
    "p1.name = \"홍길동\"\n",
    "p1.speed = 10\n",
    "\n",
    "# 멤버 메서드 접근\n",
    "p1.walk()\n",
    "p1.run()"
   ]
  },
  {
   "cell_type": "code",
   "execution_count": null,
   "id": "e9c19029",
   "metadata": {
    "ExecuteTime": {
     "end_time": "2023-08-25T01:17:41.202860Z",
     "start_time": "2023-08-25T01:17:41.198837Z"
    }
   },
   "outputs": [],
   "source": [
    "# 사람 Object\n",
    "class Person:\n",
    "    # 멤버 필드\n",
    "    \n",
    "    # 멤버 메서드\n",
    "    def walk(self, speed):\n",
    "        print(self.name + \"이 \" + str(speed) + \"의 속도로 걸어갑니다.\")\n",
    "        \n",
    "    def run(self, speed):\n",
    "        print(self.name + \"이 \" + str(speed) + \"의 속도로 달려갑니다.\")"
   ]
  },
  {
   "cell_type": "code",
   "execution_count": null,
   "id": "8ea11924",
   "metadata": {
    "ExecuteTime": {
     "end_time": "2023-08-25T01:18:09.786520Z",
     "start_time": "2023-08-25T01:18:09.776589Z"
    }
   },
   "outputs": [],
   "source": [
    "p1 = Person()\n",
    "\n",
    "# 멤버 필드를 초기화 시켜주어야 한다.\n",
    "p1.name = \"홍길동\"\n",
    "\n",
    "# 멤버 메서드 접근\n",
    "p1.walk(10)\n",
    "p1.run(30)"
   ]
  },
  {
   "cell_type": "code",
   "execution_count": null,
   "id": "8f657b6b",
   "metadata": {
    "ExecuteTime": {
     "end_time": "2023-08-25T01:21:43.088794Z",
     "start_time": "2023-08-25T01:21:43.079779Z"
    }
   },
   "outputs": [],
   "source": [
    "class People:\n",
    "    # 멤버 필드\n",
    "#     name = \"\"  # 초기값 null 값은 생략가능\n",
    "#     height = 0.0\n",
    "#     age = 0\n",
    "    \n",
    "    # 멤버 메서드\n",
    "    ## this(Java) 키워드와 같은 의미 self\n",
    "    def disp(self):\n",
    "        print(\"이름 = \", self.name)\n",
    "        print(\"나이 = \", self.age)\n",
    "        print(\"신장 = \", self.height)"
   ]
  },
  {
   "cell_type": "code",
   "execution_count": null,
   "id": "a8fdb31a",
   "metadata": {
    "ExecuteTime": {
     "end_time": "2023-08-25T01:23:50.072427Z",
     "start_time": "2023-08-25T01:23:50.058317Z"
    }
   },
   "outputs": [],
   "source": [
    "# 인스턴스 변수 = 참조변수\n",
    "p1 = People()\n",
    "\n",
    "p1.name = \"장보고\"\n",
    "p1.age = 23\n",
    "p1.height = 180.7\n",
    "\n",
    "p1.disp()"
   ]
  },
  {
   "cell_type": "code",
   "execution_count": null,
   "id": "e6fef84d",
   "metadata": {
    "ExecuteTime": {
     "end_time": "2023-08-25T01:24:20.664738Z",
     "start_time": "2023-08-25T01:24:20.657693Z"
    }
   },
   "outputs": [],
   "source": [
    "p2 = People()\n",
    "\n",
    "p2.name = \"이순신\"\n",
    "p2.age = 30\n",
    "p2.height = 170.3\n",
    "\n",
    "p2.disp()"
   ]
  },
  {
   "cell_type": "markdown",
   "id": "2662b478",
   "metadata": {},
   "source": [
    "### 특별한 메서드 : __init__(self)\n",
    "\n",
    "- 멤버 필드를 초기화 시켜주는 목적으로 사용하는 메서드"
   ]
  },
  {
   "cell_type": "code",
   "execution_count": null,
   "id": "75d2e6af",
   "metadata": {
    "ExecuteTime": {
     "end_time": "2023-08-25T01:30:15.580033Z",
     "start_time": "2023-08-25T01:30:15.571948Z"
    }
   },
   "outputs": [],
   "source": [
    "# __init__(self) : 생성자 메서드\n",
    "# 생성자 메서드 : 객체를 생성할 때 자동으로 호출이 되는 메서드\n",
    "\n",
    "class People:\n",
    "    # 멤버 필드\n",
    "    \n",
    "    ## 생성자 메서드\n",
    "    def __init__(self, name, age, height):\n",
    "        self.name = name\n",
    "        self.age = age\n",
    "        self.height = height\n",
    "    \n",
    "    # 멤버 메서드\n",
    "    ## this(Java) 키워드와 같은 의미 self\n",
    "    def disp(self):\n",
    "        print(\"이름 = \", self.name)\n",
    "        print(\"나이 = \", self.age)\n",
    "        print(\"신장 = \", self.height)"
   ]
  },
  {
   "cell_type": "code",
   "execution_count": null,
   "id": "4095a9fa",
   "metadata": {
    "ExecuteTime": {
     "end_time": "2023-08-25T01:31:03.331026Z",
     "start_time": "2023-08-25T01:31:03.317954Z"
    }
   },
   "outputs": [],
   "source": [
    "p = People('이순신', 23, 170.6)\n",
    "\n",
    "p.disp()"
   ]
  },
  {
   "cell_type": "code",
   "execution_count": null,
   "id": "aaddf3ff",
   "metadata": {
    "ExecuteTime": {
     "end_time": "2023-08-25T01:31:46.708011Z",
     "start_time": "2023-08-25T01:31:46.692636Z"
    }
   },
   "outputs": [],
   "source": [
    "p1 = People('강감찬', 33, 180.8)\n",
    "\n",
    "p1.disp()"
   ]
  },
  {
   "cell_type": "markdown",
   "id": "a72882ba",
   "metadata": {},
   "source": [
    "- slef.변수 : 인스턴스 변수, 인스턴스별로 개별적인 값을 가진 변수\n",
    "- 클래스명.변수 : 클래스 변수, static 변수, 공통의 값을 공유하는 변수"
   ]
  },
  {
   "cell_type": "code",
   "execution_count": null,
   "id": "a3d09c77",
   "metadata": {
    "ExecuteTime": {
     "end_time": "2023-08-25T01:41:20.584390Z",
     "start_time": "2023-08-25T01:41:20.568441Z"
    }
   },
   "outputs": [],
   "source": [
    " class Student:\n",
    "    # 멤버 필드 = 프로퍼티, 클래스 변수(공유의 목적)\n",
    "    name = \"kim\"\n",
    "    no = 1987\n",
    "    score = 99\n",
    "    \n",
    "    # 멤버 메서드\n",
    "    def show(self):\n",
    "        ## self.변수\n",
    "        print(\"이름 : \" + self.name, end = ' ')\n",
    "        print(\"학번 : \" + str(self.no), end = ' ')\n",
    "        print(\"성적 : \" + str(self.score))\n",
    "        ## class명.변수\n",
    "        print(\"이름 : \" + Student.name, end = ' ')\n",
    "        print(\"학번 : \" + str(Student.no), end = ' ')\n",
    "        print(\"성적 : \" + str(Student.score))"
   ]
  },
  {
   "cell_type": "code",
   "execution_count": null,
   "id": "1c8372d9",
   "metadata": {
    "ExecuteTime": {
     "end_time": "2023-08-25T01:43:13.125791Z",
     "start_time": "2023-08-25T01:43:13.113647Z"
    }
   },
   "outputs": [],
   "source": [
    "s1 = Student()\n",
    "\n",
    "s1.name = \"김유신\"\n",
    "s1.no = 901234\n",
    "s1.score = 78\n",
    "\n",
    "s2 = Student()\n",
    "s2.name = \"홍길동\"\n",
    "s2.no = 12345\n",
    "s2.score = 90\n",
    "\n",
    "s1.show()\n",
    "print(\"-\" * 30)\n",
    "s2.show()"
   ]
  },
  {
   "cell_type": "code",
   "execution_count": null,
   "id": "fbf53029",
   "metadata": {
    "ExecuteTime": {
     "end_time": "2023-08-25T02:55:56.788575Z",
     "start_time": "2023-08-25T02:55:56.777031Z"
    }
   },
   "outputs": [],
   "source": [
    "class Circle:\n",
    "    # 멤버 필드\n",
    "    radius = 0\n",
    "    \n",
    "    # 생성자 메서드 : 멤버 필드를 초기화 시켜 줄 목적으로 생성하는 메서드, 자동 호출(객체 생성될 때)\n",
    "    def __init__(self):\n",
    "        self.radius = int(input('반지름 = '))\n",
    "        \n",
    "    # 멤버 메서드\n",
    "    def area(self):\n",
    "        return self.radius * self.radius * 3.14\n",
    "    \n",
    "    def around(self):\n",
    "        return 2 * 3.14 * self.radius\n",
    "    \n",
    "    def disp(self):\n",
    "        print(f\"반지름이 {self.radius}인 원의 면적 \", self.radius)\n",
    "        \n",
    "    def getRadius(self):\n",
    "        return self.radius"
   ]
  },
  {
   "cell_type": "code",
   "execution_count": null,
   "id": "cada38a5",
   "metadata": {
    "ExecuteTime": {
     "end_time": "2023-08-25T02:56:01.105644Z",
     "start_time": "2023-08-25T02:55:58.840495Z"
    }
   },
   "outputs": [],
   "source": [
    "x = Circle()\n",
    "\n",
    "x.disp()"
   ]
  },
  {
   "cell_type": "code",
   "execution_count": null,
   "id": "830659db",
   "metadata": {
    "ExecuteTime": {
     "end_time": "2023-08-25T02:56:38.763102Z",
     "start_time": "2023-08-25T02:56:37.175208Z"
    }
   },
   "outputs": [],
   "source": [
    "# 세 개의 반지름을 입력받아 원의 면적을 계산하여 출력하는 프로그램을 구현하시오.\n",
    "# 단, 원을 클래스로 구현할 것\n",
    "\n",
    "a = Circle()\n",
    "b = Circle()\n",
    "c = Circle()\n",
    "\n",
    "print(f\"반지름이 {a.getRadius()}인 원의 면적 {a.area()}\")\n",
    "print(f\"반지름이 {b.getRadius()}인 원의 면적 {b.area()}\")\n",
    "print(f\"반지름이 {c.getRadius()}인 원의 면적 {c.area()}\")"
   ]
  },
  {
   "cell_type": "code",
   "execution_count": null,
   "id": "834a2a23",
   "metadata": {
    "ExecuteTime": {
     "end_time": "2023-08-25T02:56:43.236141Z",
     "start_time": "2023-08-25T02:56:40.667327Z"
    }
   },
   "outputs": [],
   "source": [
    "obj = list()\n",
    "\n",
    "for i in range(3):\n",
    "    obj.append(Circle())\n",
    "    \n",
    "for i in range(3):\n",
    "    print(f\"반지름이 {obj[i].getRadius()}인 원의 면적 {obj[i].area()}\")"
   ]
  },
  {
   "cell_type": "markdown",
   "id": "0cebe290",
   "metadata": {},
   "source": [
    "반지름을 입력받아 원의 면적을 출력하는 프로그램을 구현하시오.  \n",
    "단, 입력받는 반지름이 0이면 입력을 종료하고 면적을 출력하도록 구현할 것."
   ]
  },
  {
   "cell_type": "code",
   "execution_count": null,
   "id": "035fe512",
   "metadata": {
    "ExecuteTime": {
     "end_time": "2023-08-25T02:56:54.185781Z",
     "start_time": "2023-08-25T02:56:44.999100Z"
    }
   },
   "outputs": [],
   "source": [
    "data = []\n",
    "\n",
    "while True :\n",
    "    a = Circle()\n",
    "    if a.getRadius() == 0:\n",
    "        break\n",
    "    data.append(a)\n",
    "    \n",
    "for i in range(len(data)):\n",
    "    data[i].disp()"
   ]
  },
  {
   "cell_type": "markdown",
   "id": "3a30cbac",
   "metadata": {},
   "source": [
    "### 성적 처리 프로그램 4단계"
   ]
  },
  {
   "cell_type": "code",
   "execution_count": null,
   "id": "5a966fb0",
   "metadata": {
    "ExecuteTime": {
     "end_time": "2023-08-25T03:06:46.097568Z",
     "start_time": "2023-08-25T03:06:46.089578Z"
    }
   },
   "outputs": [],
   "source": [
    "# 학생 리스트를 생성\n",
    "students = [\n",
    "    {'name' : '홍길동', 'kor' : 87, 'eng' : 88, 'math' : 98},\n",
    "    {'name' : '장보고', 'kor' : 92, 'eng' : 96, 'math' : 89},\n",
    "    {'name' : '유관순', 'kor' : 94, 'eng' : 76, 'math' : 90},\n",
    "    {'name' : '이순신', 'kor' : 95, 'eng' : 78, 'math' : 90},\n",
    "    {'name' : '사임당', 'kor' : 98, 'eng' : 70, 'math' : 95}\n",
    "]\n",
    "\n",
    "# 이름, 총점과 평균을 개별 출력하는 로직\n",
    "print(\"이름\", \"총점\", \"평균\", sep = '\\t')\n",
    "for student in students : \n",
    "    # 총점과 평균 계산\n",
    "    tot = student['kor'] + student['eng'] + student['math']\n",
    "    avg = tot / 3\n",
    "    \n",
    "    # 출력\n",
    "    print(student['name'], tot, round(avg, 2), sep = '\\t')"
   ]
  },
  {
   "cell_type": "code",
   "execution_count": null,
   "id": "e047eee8",
   "metadata": {
    "ExecuteTime": {
     "end_time": "2023-08-25T03:06:46.589780Z",
     "start_time": "2023-08-25T03:06:46.568850Z"
    }
   },
   "outputs": [],
   "source": [
    "# 학생 한명의 정보를 입력받아 사전객체로 반환하여 리턴하는 함수\n",
    "def makeStudent(name, kor, eng, math):\n",
    "    return {\n",
    "        'name':name,\n",
    "        'kor':kor,\n",
    "        'eng':eng,\n",
    "        'math':math\n",
    "    }\n",
    "\n",
    "students = [\n",
    "    makeStudent('홍길동', 87, 88, 98),\n",
    "    makeStudent('장보고', 92, 96, 89),\n",
    "    makeStudent('유관순', 94, 76, 90),\n",
    "    makeStudent('이순신', 95, 78, 90),\n",
    "    makeStudent('사임당', 98, 70, 95)\n",
    "]\n",
    "\n",
    "# 이름, 총점과 평균을 개별 출력하는 로직\n",
    "print(\"이름\", \"총점\", \"평균\", sep = '\\t')\n",
    "for student in students : \n",
    "    # 총점과 평균 계산\n",
    "    tot = student['kor'] + student['eng'] + student['math']\n",
    "    avg = tot / 3\n",
    "    \n",
    "    # 출력\n",
    "    print(student['name'], tot, round(avg, 2), sep = '\\t')"
   ]
  },
  {
   "cell_type": "code",
   "execution_count": null,
   "id": "22c1725e",
   "metadata": {
    "ExecuteTime": {
     "end_time": "2023-08-25T02:46:12.457687Z",
     "start_time": "2023-08-25T02:46:12.444711Z"
    }
   },
   "outputs": [],
   "source": [
    "def makeStudent(name, kor, eng, math):\n",
    "    return {\n",
    "        'name':name,\n",
    "        'kor':kor,\n",
    "        'eng':eng,\n",
    "        'math':math\n",
    "    }\n",
    "\n",
    "def calc_tot(student):\n",
    "    return student['kor'] + student['eng'] + student['math']\n",
    "\n",
    "def calc_avg(student):\n",
    "    return round(calc_tot(student) / 3, 2)\n",
    "\n",
    "def toString(student):\n",
    "    return \"{}\\t{}\\t{}\".format(student['name'], calc_tot(student), calc_avg(student))\n",
    "\n",
    "students = [\n",
    "    makeStudent('홍길동', 87, 88, 98),\n",
    "    makeStudent('장보고', 92, 96, 89),\n",
    "    makeStudent('유관순', 94, 76, 90),\n",
    "    makeStudent('이순신', 95, 78, 90),\n",
    "    makeStudent('사임당', 98, 70, 95)\n",
    "]\n",
    "\n",
    "print(\"이름\", \"총점\", \"평균\", sep = '\\t')\n",
    "for student in students:\n",
    "    print(toString(student))"
   ]
  },
  {
   "cell_type": "code",
   "execution_count": null,
   "id": "6e68adf8",
   "metadata": {
    "ExecuteTime": {
     "end_time": "2023-08-25T03:06:48.801627Z",
     "start_time": "2023-08-25T03:06:48.781823Z"
    },
    "scrolled": true
   },
   "outputs": [],
   "source": [
    "# 학생 객체를 담을 클래스 선언\n",
    "class Student:\n",
    "    # 생성자 메서드\n",
    "    def __inif__(self, name, kor, eng, math):\n",
    "        self.name = name\n",
    "        self.kor = kor\n",
    "        self.eng = eng\n",
    "        self.math = math\n",
    "\n",
    "# 인스턴스 객체 생성\n",
    "stu = Student()\n",
    "\n",
    "# 학생 리스트 선언\n",
    "Students = [\n",
    "    Student('홍길동', 87, 88, 98), \n",
    "    Student('장보고', 92, 96, 89), \n",
    "    Student('유관순', 94, 76, 90), \n",
    "    Student('이순신', 95, 78, 90), \n",
    "    Student('사임당', 98, 70, 95)\n",
    "]"
   ]
  },
  {
   "cell_type": "code",
   "execution_count": null,
   "id": "826ac044",
   "metadata": {
    "ExecuteTime": {
     "end_time": "2023-08-25T03:17:25.477690Z",
     "start_time": "2023-08-25T03:17:25.460210Z"
    },
    "hide_input": false
   },
   "outputs": [],
   "source": [
    "# 한 명의 학생 정보를 관리할 목적으로 구현하는 클래스\n",
    "class Student:\n",
    "    # 멤버 필드\n",
    "    \n",
    "    # 생성자 메서드\n",
    "    def __init__(self, name, kor, eng, math):\n",
    "        self.name = name\n",
    "        self.kor = kor\n",
    "        self.eng = eng\n",
    "        self.math = math\n",
    "    \n",
    "    # 멤버 메서드\n",
    "    def total(self):\n",
    "        return self.kor + self.eng + self.math\n",
    "    \n",
    "    def average(self):\n",
    "        return round(self.total() / 3, 2)\n",
    "    \n",
    "    def disp(self):\n",
    "        return \"{}\\t{}\\t{}\".format(self.name, self.total(), self.average())\n",
    "    \n",
    "    # 소멸자 메서드\n",
    "    def __del__(self):\n",
    "        pass"
   ]
  },
  {
   "cell_type": "code",
   "execution_count": null,
   "id": "168c073c",
   "metadata": {
    "ExecuteTime": {
     "end_time": "2023-08-25T03:17:34.089931Z",
     "start_time": "2023-08-25T03:17:34.083392Z"
    }
   },
   "outputs": [],
   "source": [
    "# 학생정보를 이용한 인스턴스 객체 생성\n",
    "one = Student('aaa', 100, 100, 100)\n",
    "\n",
    "print(one.disp())"
   ]
  },
  {
   "cell_type": "code",
   "execution_count": null,
   "id": "4f94248b",
   "metadata": {
    "ExecuteTime": {
     "end_time": "2023-08-25T03:19:43.579763Z",
     "start_time": "2023-08-25T03:19:38.496907Z"
    }
   },
   "outputs": [],
   "source": [
    "# 학생 정보를 키보를 통해 입력받아 처리하는 작업\n",
    "name = input('name = ')\n",
    "kor = int(input('kor = '))\n",
    "eng = int(input('eng = '))\n",
    "math = int(input('math = '))\n",
    "\n",
    "two = Student(name, kor, eng, math)\n",
    "print(two.disp())"
   ]
  },
  {
   "cell_type": "code",
   "execution_count": null,
   "id": "085ab6e2",
   "metadata": {},
   "outputs": [],
   "source": [
    "stu = {'id':{'kor':100, 'eng':40, 'math':300}}"
   ]
  },
  {
   "cell_type": "markdown",
   "id": "45b500ac",
   "metadata": {},
   "source": [
    "## 상속(Inheritance)\n",
    "\n",
    "- 부모클래스(상위클래스)가 가지고 있는 특성과 속성을 그대로 자식클래스(하위클래스, 파생클래스)가 물려받는 것\n",
    "- 재활용을 극대화 하기 위해 사용하는 개념\n",
    "- 다중 상속도 가능하다.\n",
    "- 오버라이딩(Overriding) : 재정의, 부모메서드를 자식클래스에서 다시 정의해서 사용하는 것\n",
    "- 다형성(Polymorphism) : 가독성을 높이기 위해서 사용하는 기능"
   ]
  },
  {
   "cell_type": "code",
   "execution_count": null,
   "id": "61fb3bc9",
   "metadata": {
    "ExecuteTime": {
     "end_time": "2023-08-25T03:40:32.681051Z",
     "start_time": "2023-08-25T03:40:32.669271Z"
    }
   },
   "outputs": [],
   "source": [
    "class Person:\n",
    "    # 멤버 필드 : default 생성자\n",
    "#     name = \"\"  # str()\n",
    "#     age = 0  # int()\n",
    "#     height = 0.0  # float()\n",
    "    \n",
    "    # 생성자 메서드 : 멤버 필드를 초기화시켜줄 목적으로 구현된다.\n",
    "    def __init__(self, name, age, height):\n",
    "        self.name = name\n",
    "        self.age = age\n",
    "        self.height = height\n",
    "    \n",
    "    # 멤버 메서드\n",
    "    def disp(self):\n",
    "        print(\"이름 : \", self.name)\n",
    "        print(\"나이 : \", self.age)\n",
    "        print(\"신장 : \", self.height)"
   ]
  },
  {
   "cell_type": "code",
   "execution_count": null,
   "id": "8171b8dd",
   "metadata": {
    "ExecuteTime": {
     "end_time": "2023-08-25T03:37:30.150277Z",
     "start_time": "2023-08-25T03:37:30.131358Z"
    }
   },
   "outputs": [],
   "source": [
    "# 인스턴스 객체 생성 - 객체가 생성되면 자동적으로 생성자 메서드가 호출된다.\n",
    "# 클래스명과 동일한 이름을 가진 생성자 = default 생성자 - 생략 가능\n",
    "p1 = Person()\n",
    "\n",
    "p1.name = \"kim\"\n",
    "p1.age = 23\n",
    "p1.height = 169.8\n",
    "\n",
    "p1. disp()"
   ]
  },
  {
   "cell_type": "code",
   "execution_count": null,
   "id": "6aa7bfe4",
   "metadata": {
    "ExecuteTime": {
     "end_time": "2023-08-25T03:38:15.939721Z",
     "start_time": "2023-08-25T03:38:15.928591Z"
    }
   },
   "outputs": [],
   "source": [
    "p2 = Person()\n",
    "\n",
    "p2.name = 'lee'\n",
    "p2.age = 33\n",
    "p2.height = 190.7\n",
    "\n",
    "p2.disp()"
   ]
  },
  {
   "cell_type": "code",
   "execution_count": null,
   "id": "121ab62d",
   "metadata": {
    "ExecuteTime": {
     "end_time": "2023-08-25T03:40:34.781945Z",
     "start_time": "2023-08-25T03:40:34.775966Z"
    }
   },
   "outputs": [],
   "source": [
    "p3 = Person('park', 19, 190.4)\n",
    "p3.disp()"
   ]
  },
  {
   "cell_type": "code",
   "execution_count": null,
   "id": "4fa2b8ab",
   "metadata": {
    "ExecuteTime": {
     "end_time": "2023-08-25T03:57:16.674138Z",
     "start_time": "2023-08-25T03:57:16.658593Z"
    }
   },
   "outputs": [],
   "source": [
    "# class 클래스명(부모클래스명):\n",
    "# 중학교 친구 관리\n",
    "class Middle:\n",
    "    # 멤버 필드\n",
    "    \n",
    "    # 생성자 메서드\n",
    "    def __init__(self, name, phone):\n",
    "        self.name = name\n",
    "        self.phone = phone\n",
    "    \n",
    "    # 멤버 메서드\n",
    "    def disp(self):\n",
    "        print(f\"{self.name} : {self.phone}\", end = '')"
   ]
  },
  {
   "cell_type": "code",
   "execution_count": null,
   "id": "244d49e2",
   "metadata": {
    "ExecuteTime": {
     "end_time": "2023-08-25T03:49:08.713440Z",
     "start_time": "2023-08-25T03:49:08.701744Z"
    }
   },
   "outputs": [],
   "source": [
    "# 친구등록\n",
    "m1 = Middle('이중학', '010-1111-2222')\n",
    "m2 = Middle('저중학', '010-2222-3333')\n",
    "\n",
    "m1.disp()\n",
    "m2.disp()"
   ]
  },
  {
   "cell_type": "code",
   "execution_count": null,
   "id": "3775c492",
   "metadata": {
    "ExecuteTime": {
     "end_time": "2023-08-25T03:50:56.938223Z",
     "start_time": "2023-08-25T03:50:56.924590Z"
    }
   },
   "outputs": [],
   "source": [
    "# 고등학교\n",
    "class High:\n",
    "    # 멤버필드\n",
    "    \n",
    "    # 생성자 메서드\n",
    "    def __init__(self, name, phone, address):\n",
    "        self.name = name\n",
    "        self.phone = phone\n",
    "        self.address = address\n",
    "    \n",
    "    # 멤버 메서드\n",
    "    def disp(self):\n",
    "        print(f\"{self.name} : {self.phone} : {self.address}\")"
   ]
  },
  {
   "cell_type": "code",
   "execution_count": null,
   "id": "5c66adf0",
   "metadata": {
    "ExecuteTime": {
     "end_time": "2023-08-25T03:51:54.245846Z",
     "start_time": "2023-08-25T03:51:54.228023Z"
    }
   },
   "outputs": [],
   "source": [
    "h1 = High('박고등', '010-3333-4444', '가산동')\n",
    "h1.disp()"
   ]
  },
  {
   "cell_type": "code",
   "execution_count": null,
   "id": "49da032e",
   "metadata": {
    "ExecuteTime": {
     "end_time": "2023-08-25T03:59:04.404072Z",
     "start_time": "2023-08-25T03:59:04.395079Z"
    }
   },
   "outputs": [],
   "source": [
    "# 고등학교\n",
    "class High(Middle):\n",
    "    # 멤버필드\n",
    "    \n",
    "    # 생성자 메서드\n",
    "    def __init__(self, name, phone, address):\n",
    "#         self.name = name\n",
    "#         self.phone = phone\n",
    "# 반드시 자식 객체는 부모 객체의 멤버를 초기화시켜야 한다.\n",
    "\n",
    "        Middle.__init__(self, name, phone)  # super. = 상위를 뜻함\n",
    "        self.address = address\n",
    "    \n",
    "    # 멤버 메서드\n",
    "    def disp(self):\n",
    "        Middle.disp(self)\n",
    "        print(f\" : {self.address}\")"
   ]
  },
  {
   "cell_type": "code",
   "execution_count": null,
   "id": "87ddebf6",
   "metadata": {
    "ExecuteTime": {
     "end_time": "2023-08-25T03:58:18.061721Z",
     "start_time": "2023-08-25T03:58:18.047701Z"
    }
   },
   "outputs": [],
   "source": [
    "m3 = Middle('한중학', '010-7777-8888')\n",
    "\n",
    "m3.disp()"
   ]
  },
  {
   "cell_type": "code",
   "execution_count": null,
   "id": "a2a58cc2",
   "metadata": {
    "ExecuteTime": {
     "end_time": "2023-08-25T03:59:05.901519Z",
     "start_time": "2023-08-25T03:59:05.890264Z"
    }
   },
   "outputs": [],
   "source": [
    "h2 = High('박고등', '010-9999-9090', '서울시')\n",
    "\n",
    "h2.disp()"
   ]
  },
  {
   "cell_type": "code",
   "execution_count": null,
   "id": "f55117f6",
   "metadata": {
    "ExecuteTime": {
     "end_time": "2023-08-25T05:23:39.083907Z",
     "start_time": "2023-08-25T05:23:39.078878Z"
    }
   },
   "outputs": [],
   "source": [
    "# 회원 정보를 관리할 목적의 클래스\n",
    "class Member:\n",
    "    # 생성자 메서드\n",
    "    def __init__(self, userid, pwd, name, age):\n",
    "        self.userid = userid\n",
    "        self.pwd = pwd\n",
    "        self.name = name\n",
    "        self.age = age\n",
    "    \n",
    "    # 멤버 메서드\n",
    "    def info(self):\n",
    "        print(\"아이디 : \", self.userid, end= '\\t')\n",
    "        print(\"비밀번호 : \", self.pwd, end= '\\t')\n",
    "        print(\"이름 : \", self.name, end= '\\t')\n",
    "        print(\"나이 : \", self.age, end= '\\t')"
   ]
  },
  {
   "cell_type": "code",
   "execution_count": null,
   "id": "f416c4f2",
   "metadata": {
    "ExecuteTime": {
     "end_time": "2023-08-25T05:23:40.243073Z",
     "start_time": "2023-08-25T05:23:40.235362Z"
    }
   },
   "outputs": [],
   "source": [
    "# 파생 클래스\n",
    "class MemberInfo(Member):\n",
    "    # 부모 객체가 생성자를 가지고 있다면 자식 객체는 반드시 생성자를 기술\n",
    "    # 상속받은 자식객체는 반드시 부모객체의 멤버를 초기화 할 의무가 있다.\n",
    "    \n",
    "    def __init__(self, userid, pwd, name, age, job, hobby):\n",
    "        Member.__init__(self, userid, pwd, name, age)\n",
    "        self.job = job\n",
    "        self.hobby = hobby\n",
    "        \n",
    "    # 부모와 자식이 같은 이름의 메서드를 가지고 있는 경우 오버라이딩이라 부른다.\n",
    "    def info(self):\n",
    "        Member.info(self)\n",
    "        print(\"직업 : \", self.job, end = '\\t')\n",
    "        print(\"취미 : \", self.hobby, end = '\\t')"
   ]
  },
  {
   "cell_type": "code",
   "execution_count": null,
   "id": "3321434a",
   "metadata": {
    "ExecuteTime": {
     "end_time": "2023-08-25T05:23:40.781909Z",
     "start_time": "2023-08-25T05:23:40.770583Z"
    }
   },
   "outputs": [],
   "source": [
    "mem = MemberInfo('aaa', '1234', '배불러', 33, '개발자', '댄스')\n",
    "\n",
    "mem.info()"
   ]
  },
  {
   "cell_type": "markdown",
   "id": "06198c38",
   "metadata": {},
   "source": [
    "다음 주어진 조건에 만족하는 프로그램을 구현하시오.  \n",
    "\n",
    "처리 조건\n",
    "1. 사용자가 원하는 도형을 입력받아 처리할 수 있도록 구현한다.\n",
    "2. 점, 원, 사각형 중 하나를 입력받아 처리한다.\n",
    "3. 출력형식 및 입력형식에 맞게 프로그램을 구현한다.\n",
    "  \n",
    "  \n",
    "입력형식  \n",
    "도형(1.점 2.원 3.사각형 4.종료) = \n",
    "  \n",
    "  \n",
    "  - 점을 선택한 경우  \n",
    "  x = 10  \n",
    "  y - 20  \n",
    "  점(x, y) = (10, 20)\n",
    "  \n",
    "  \n",
    "  - 원을 선택한 경우  \n",
    "  x = 3  \n",
    "  y = 5  \n",
    "  r = 10  \n",
    "  점(x, y) = (3, 5)  \n",
    "  반지름(r) = 10  \n",
    "  \n",
    "  \n",
    "  - 사각형을 선택한 경우  \n",
    "  x = 10  \n",
    "  y = 9  \n",
    "  h = 20  \n",
    "  w = 7  \n",
    "  점(x, y) = (10, 9)  \n",
    "  높이(h) = 20, 너비(w) = 7"
   ]
  },
  {
   "cell_type": "code",
   "execution_count": null,
   "id": "047fb1fa",
   "metadata": {
    "ExecuteTime": {
     "end_time": "2023-08-25T05:32:24.087146Z",
     "start_time": "2023-08-25T05:32:24.081016Z"
    }
   },
   "outputs": [],
   "source": [
    "# 평면 위의 한 점을 추상화하는 클래스 Point 구현\n",
    "class Point:\n",
    "    # 멤버 필드\n",
    "    \n",
    "    # 생성자 메서드\n",
    "    def __init__(self):\n",
    "        self.xpos = int(input(\"x = \"))\n",
    "        self.ypos = int(input(\"y = \"))\n",
    "        \n",
    "    # 멤버 메서드\n",
    "    def disp(self):\n",
    "        print(f\"점(x, y) = ({self.xpos}, {self.ypos})\")"
   ]
  },
  {
   "cell_type": "code",
   "execution_count": null,
   "id": "763860cb",
   "metadata": {
    "ExecuteTime": {
     "end_time": "2023-08-25T05:33:05.662126Z",
     "start_time": "2023-08-25T05:33:02.995044Z"
    }
   },
   "outputs": [],
   "source": [
    "ap = Point()\n",
    "\n",
    "ap.disp()"
   ]
  },
  {
   "cell_type": "code",
   "execution_count": null,
   "id": "cfa2192c",
   "metadata": {
    "ExecuteTime": {
     "end_time": "2023-08-25T05:38:38.631338Z",
     "start_time": "2023-08-25T05:38:38.622508Z"
    }
   },
   "outputs": [],
   "source": [
    "# 반지름을 받아 원을 추상화하는 클래스 Circle\n",
    "class Circle(Point):\n",
    "    # 멤버 필드\n",
    "    \n",
    "    # 생성자 메서드\n",
    "    def __init__(self):\n",
    "        Point.__init__(self)\n",
    "        self.r = int(input(\"r = \"))\n",
    "    \n",
    "    # 멤버 메서드\n",
    "    def disp(self):\n",
    "        Point.disp(self)\n",
    "        print(f\"반지름(r) = {self.r}\")"
   ]
  },
  {
   "cell_type": "code",
   "execution_count": null,
   "id": "89cfabd2",
   "metadata": {
    "ExecuteTime": {
     "end_time": "2023-08-25T05:38:40.772077Z",
     "start_time": "2023-08-25T05:38:39.725464Z"
    }
   },
   "outputs": [],
   "source": [
    "ac = Circle()\n",
    "\n",
    "ac.disp()"
   ]
  },
  {
   "cell_type": "markdown",
   "id": "ff22cc5a",
   "metadata": {},
   "source": [
    "### 급여관리 프로그램\n",
    "A라는 회사의 직원의 급여를 관리할 목적으로 프로그램을 구현하려고 한다.  \n",
    "처음 이 회사가 창립될 때 채용한 모든 직원은 정규직 직원이다.   \n",
    "<br>\n",
    "- Entity Class(부모, 상위, 기반클래스) : 단순히 자료를 담아서 보관할 목적으로 구현하는 클래스, Model(모델)\n",
    "- Handler Class or Controller Class(자녀, 하위, 파생클래스) : 실제 프로그램을 동작할 목적으로 구현하는 클래스  \n",
    "<br>\n",
    "<br>\n",
    "- 주요 기능 : 직원 등록, 직원 정보를 출력, 모든 직원의 급여정보와 총 지급하는 급여액을 확인  \n",
    "- 직원정보는 급여와 이름을 관리한다."
   ]
  },
  {
   "cell_type": "code",
   "execution_count": 14,
   "id": "437274e5",
   "metadata": {
    "ExecuteTime": {
     "end_time": "2023-08-25T07:59:14.694570Z",
     "start_time": "2023-08-25T07:59:14.680330Z"
    }
   },
   "outputs": [],
   "source": [
    "# 정규직 한 명을 관리할 목적으로 클래스 구현\n",
    "class Permanent:\n",
    "    # 멤버 필드\n",
    "    \n",
    "    # 생성자 메서드\n",
    "    def __init__(self, name, pay):\n",
    "        self.name = name\n",
    "        self.pay = pay\n",
    "                \n",
    "    # 멤버 메서드\n",
    "    def disp(self):\n",
    "        print(f\"{self.name} : {self.pay}\")\n",
    "        \n",
    "    def getPay(self):\n",
    "        return self.pay"
   ]
  },
  {
   "cell_type": "code",
   "execution_count": 15,
   "id": "d3be6ca9",
   "metadata": {
    "ExecuteTime": {
     "end_time": "2023-08-25T07:59:15.309400Z",
     "start_time": "2023-08-25T07:59:15.297189Z"
    }
   },
   "outputs": [
    {
     "name": "stdout",
     "output_type": "stream",
     "text": [
      "aaa : 1000\n"
     ]
    }
   ],
   "source": [
    "p1 = Permanent('aaa', 1000)\n",
    "\n",
    "p1.disp()"
   ]
  },
  {
   "cell_type": "code",
   "execution_count": 16,
   "id": "44e90182",
   "metadata": {
    "ExecuteTime": {
     "end_time": "2023-08-25T07:59:16.866112Z",
     "start_time": "2023-08-25T07:59:16.861166Z"
    }
   },
   "outputs": [
    {
     "name": "stdout",
     "output_type": "stream",
     "text": [
      "aaa : 1000\n",
      "bbb : 1500\n",
      "ccc : 1800\n",
      "총 급여액 :  4300\n"
     ]
    }
   ],
   "source": [
    "# 직원 등록 기능\n",
    "p1 = Permanent('aaa', 1000)\n",
    "p2 = Permanent('bbb', 1500)\n",
    "p3 = Permanent('ccc', 1800)\n",
    "\n",
    "# 직원 정보 출력\n",
    "p1.disp()\n",
    "p2.disp()\n",
    "p3.disp()\n",
    "\n",
    "# 매달 지급되는 직원 급여의 총합\n",
    "total = p1.getPay() + p2.getPay() + p3.getPay()\n",
    "print(\"총 급여액 : \", total)"
   ]
  },
  {
   "cell_type": "code",
   "execution_count": 17,
   "id": "3fe170d6",
   "metadata": {
    "ExecuteTime": {
     "end_time": "2023-08-25T08:00:47.075844Z",
     "start_time": "2023-08-25T07:59:27.114049Z"
    }
   },
   "outputs": [
    {
     "name": "stdout",
     "output_type": "stream",
     "text": [
      "\n",
      "[1]직원 등록 [2]직원 출력 [3]총 지급액 [4]작업 종료\n",
      "선택 = 1\n",
      "이름 = aaa\n",
      "급여 = 200\n",
      "직원 등록이 완료되었습니다.\n",
      "\n",
      "[1]직원 등록 [2]직원 출력 [3]총 지급액 [4]작업 종료\n",
      "선택 = 2\n",
      "aaa : 200\n",
      "\n",
      "[1]직원 등록 [2]직원 출력 [3]총 지급액 [4]작업 종료\n",
      "선택 = 3\n",
      "총 지급액 :  200\n",
      "\n",
      "[1]직원 등록 [2]직원 출력 [3]총 지급액 [4]작업 종료\n",
      "선택 = 4\n",
      "프로그램을 종료합니다.\n"
     ]
    }
   ],
   "source": [
    "# 전체 직원을 담을 컨테이너 객체\n",
    "emp = list()\n",
    "\n",
    "# 사용자의 선택에 의해 동작되도록 프로그램을 구현\n",
    "while True :\n",
    "    # 메뉴 출력\n",
    "    print(\"\\n[1]직원 등록 [2]직원 출력 [3]총 지급액 [4]작업 종료\")\n",
    "    menu = int(input('선택 = '))\n",
    "    \n",
    "    # 선택에 따라 동작하는 로직\n",
    "    if menu == 1:\n",
    "        name = input(\"이름 = \")\n",
    "        pay = int(input(\"급여 = \"))\n",
    "        p = Permanent(name, pay)\n",
    "        emp.append(p)\n",
    "        print(\"직원 등록이 완료되었습니다.\")\n",
    "    elif menu == 2:\n",
    "        if len(emp) == 0:\n",
    "            print(\"등록된 직원이 없습니다.\")\n",
    "        else:\n",
    "            for e in emp:\n",
    "                e.disp()\n",
    "    elif menu == 3:\n",
    "        tot = 0\n",
    "        for e in emp:\n",
    "            tot += e.getPay()\n",
    "        print(\"총 지급액 : \", tot)\n",
    "    elif menu == 4:\n",
    "        print(\"프로그램을 종료합니다.\")\n",
    "        break\n",
    "    else :\n",
    "        print(\"선택이 올바르지 않습니다.\")"
   ]
  },
  {
   "cell_type": "code",
   "execution_count": 19,
   "id": "31e15730",
   "metadata": {
    "ExecuteTime": {
     "end_time": "2023-08-25T08:03:07.563253Z",
     "start_time": "2023-08-25T08:03:07.549283Z"
    }
   },
   "outputs": [],
   "source": [
    "# Hnadler Class : 실제 처리를 담당하는 클래스\n",
    "class EmpManager:\n",
    "    # 멤버 필드 - 클래스 멤버, 인스턴스들이 공유할 내용\n",
    "    emp = list()\n",
    "    \n",
    "    # 멤버 메서드\n",
    "    ## 직원 등록을 하는 메서드\n",
    "    def create(self):\n",
    "        name = input(\"이름 = \")\n",
    "        pay = int(input(\"급여 = \"))\n",
    "        p = Permanent(name, pay)\n",
    "        EmpManager.emp.append(p)\n",
    "        print(\"직원 등록이 완료되었습니다.\")\n",
    "        \n",
    "    ## 직원 정보를 출력하는 메서드\n",
    "    def show(self):\n",
    "        if len(EmpManager.emp) == 0:\n",
    "            print(\"등록된 직원이 없습니다.\")\n",
    "        else:\n",
    "            for e in EmpManager.emp:\n",
    "                e.disp()\n",
    "                \n",
    "    ## 총 급여를 출력하는 메서드\n",
    "    def allPay(self):\n",
    "        tot = 0\n",
    "        for e in EmpManager.emp:\n",
    "            tot += e.getPay()\n",
    "        print(\"총 지급액 : \", tot)"
   ]
  },
  {
   "cell_type": "code",
   "execution_count": 20,
   "id": "c8983cbe",
   "metadata": {
    "ExecuteTime": {
     "end_time": "2023-08-25T08:03:33.238006Z",
     "start_time": "2023-08-25T08:03:18.365195Z"
    }
   },
   "outputs": [
    {
     "name": "stdout",
     "output_type": "stream",
     "text": [
      "\n",
      "[1]직원 등록 [2]직원 출력 [3]총 지급액 [4]작업 종료\n",
      "선택 = 2\n",
      "등록된 직원이 없습니다.\n",
      "\n",
      "[1]직원 등록 [2]직원 출력 [3]총 지급액 [4]작업 종료\n",
      "선택 = 1\n",
      "이름 = aaa\n",
      "급여 = 1000\n",
      "직원 등록이 완료되었습니다.\n",
      "\n",
      "[1]직원 등록 [2]직원 출력 [3]총 지급액 [4]작업 종료\n",
      "선택 = 2\n",
      "aaa : 1000\n",
      "\n",
      "[1]직원 등록 [2]직원 출력 [3]총 지급액 [4]작업 종료\n",
      "선택 = 3\n",
      "총 지급액 :  1000\n",
      "\n",
      "[1]직원 등록 [2]직원 출력 [3]총 지급액 [4]작업 종료\n",
      "선택 = 4\n",
      "프로그램을 종료합니다.\n"
     ]
    }
   ],
   "source": [
    "# main process\n",
    "\n",
    "## 실제 처리를 담당하는 클래스의 인스턴스 객체 생성\n",
    "manager = EmpManager()\n",
    "\n",
    "# 사용자의 선택에 의해 동작되도록 프로그램을 구현\n",
    "while True :\n",
    "    # 메뉴 출력\n",
    "    print(\"\\n[1]직원 등록 [2]직원 출력 [3]총 지급액 [4]작업 종료\")\n",
    "    menu = int(input('선택 = '))\n",
    "    \n",
    "    # 선택에 따라 동작하는 로직\n",
    "    if menu == 1:\n",
    "        manager.create()\n",
    "    elif menu == 2:\n",
    "        manager.show()\n",
    "    elif menu == 3:\n",
    "        manager.allPay()\n",
    "    elif menu == 4:\n",
    "        print(\"프로그램을 종료합니다.\")\n",
    "        break\n",
    "    else :\n",
    "        print(\"선택이 올바르지 않습니다.\")"
   ]
  },
  {
   "cell_type": "markdown",
   "id": "320b6eac",
   "metadata": {},
   "source": [
    "- 회사가 성장을 하여 다양한 직군의 직원을 채용한다.\n",
    "- 정규직(Permanent) : 이름, 기본급\n",
    "- 영업직(sales) : 이름, 기본급, 매출 실적, 보너스, 급여(기본급 + 매출 실적 * 보너스)\n",
    "- 임시직(Temporary) : 이름, 근무 시간, 시간당 급여, 급여(근무 시간 * 시간당 급여)\n",
    "- 메서드 오버라이딩(Method Overriding) : 부모 클래스에 선언된 메서드와 동일한 이름을 가진 메서드를 자식 클래스에도 선언한다. 이때 자식객체를 이용해서 해당 메서드를 호출하면 자식메서드가 실행된다.\n",
    "\n",
    "<code>\n",
    "    직원(Employee) : 이름, 급여(추상 메서드)\n",
    "    - 정규직 : 급여(기본급)\n",
    "    - 영업직 : 급여(기본급 + 매출 실적 * 상여금)\n",
    "    - 임시직 : 급여(근무 시간 * 시간당 급여)\n",
    "</code>"
   ]
  },
  {
   "cell_type": "code",
   "execution_count": 22,
   "id": "cfcf2c7f",
   "metadata": {
    "ExecuteTime": {
     "end_time": "2023-08-25T08:08:11.545304Z",
     "start_time": "2023-08-25T08:08:11.532039Z"
    }
   },
   "outputs": [],
   "source": [
    "# 상위 클래스 : 부모 클래스\n",
    "class Employee:\n",
    "    # 멤버 필드\n",
    "    \n",
    "    # 생성자 메서드\n",
    "    def __init__(self, name):\n",
    "        self.name = name\n",
    "    \n",
    "    # 멤버 메서드\n",
    "    def disp(self):\n",
    "        print(\"이름 : \", self.name, end = '')\n",
    "        \n",
    "    # 추상 메서드\n",
    "    def getPay(self):\n",
    "        return 0"
   ]
  },
  {
   "cell_type": "code",
   "execution_count": 23,
   "id": "454b8d18",
   "metadata": {
    "ExecuteTime": {
     "end_time": "2023-08-25T08:08:13.300642Z",
     "start_time": "2023-08-25T08:08:13.290646Z"
    }
   },
   "outputs": [],
   "source": [
    "# 정규직 직원\n",
    "class Permanent(Employee):\n",
    "    # 멤버 필드\n",
    "    \n",
    "    # 생성자 메서드\n",
    "    def __init__(self, name, pay):\n",
    "        Employee.__init__(self, name)\n",
    "        self.pay = pay\n",
    "                \n",
    "    # 멤버 메서드\n",
    "    # Method Overriding : 메서드 오버로딩(재정의)\n",
    "    def disp(self):\n",
    "        Employee.disp(self)\n",
    "        print(\"급여 : \", self.getPay())\n",
    "    \n",
    "    def getPay(self):\n",
    "        return self.pay"
   ]
  },
  {
   "cell_type": "code",
   "execution_count": 27,
   "id": "be6ea712",
   "metadata": {
    "ExecuteTime": {
     "end_time": "2023-08-25T08:14:03.971812Z",
     "start_time": "2023-08-25T08:14:03.961149Z"
    }
   },
   "outputs": [],
   "source": [
    "# 영업직\n",
    "class Sales(Employee):\n",
    "    # 멤버 필드\n",
    "    \n",
    "    # 생성자 메서드\n",
    "    def __init__(self, name, pay, result, rate):\n",
    "        # 자식 객체는 반드시 부모 객체의 멤버를 초기화 시켜줄 의무가 있다.\n",
    "        Employee.__init__(self, name)\n",
    "        self.pay = pay\n",
    "        self.result = result\n",
    "        self.rate = rate\n",
    "    \n",
    "    # 메서드 오버로딩\n",
    "    def getPay(self):\n",
    "        return self.pay + (self.result * self.rate)\n",
    "    \n",
    "    def disp(self):\n",
    "        Employee.disp(self)\n",
    "        print(\"급여 : \", self.getPay())"
   ]
  },
  {
   "cell_type": "code",
   "execution_count": 46,
   "id": "17fe7f26",
   "metadata": {
    "ExecuteTime": {
     "end_time": "2023-08-25T08:30:53.193953Z",
     "start_time": "2023-08-25T08:30:53.184971Z"
    }
   },
   "outputs": [],
   "source": [
    "# 임시직\n",
    "class Temporary(Employee):\n",
    "    \n",
    "    # 생성자 메서드\n",
    "    def __init__(self, name, time, money):\n",
    "        Employee.__init__(self, name)\n",
    "        self.time = time\n",
    "        self.money = money\n",
    "\n",
    "    # 메서드 오버로딩\n",
    "    def getPay(self):\n",
    "        return self.time * self.money\n",
    "    \n",
    "    def disp(self):\n",
    "        Employee.disp(self)\n",
    "        print(\"급여 : \", self.getPay())"
   ]
  },
  {
   "cell_type": "code",
   "execution_count": 47,
   "id": "d8fda039",
   "metadata": {
    "ExecuteTime": {
     "end_time": "2023-08-25T08:30:53.904296Z",
     "start_time": "2023-08-25T08:30:53.891695Z"
    }
   },
   "outputs": [],
   "source": [
    "# Hnadler Class : 실제 처리를 담당하는 클래스\n",
    "class EmpManager:\n",
    "    # 멤버 필드\n",
    "    emp = list()\n",
    "    ## self.멤버필드 : 인스턴스 변수, 인스턴스마다 달라지는 값\n",
    "    ## 클래스명.멤버필드 : 클래스 변수, 모든 인스턴스 객체가 공통의 값을 갖는 것\n",
    "    \n",
    "    # 멤버 메서드\n",
    "    ## 직원 등록을 하는 메서드\n",
    "    def create(self):\n",
    "        print(\"직군을 선택하세요.\")\n",
    "        job = int(input(\"1.정규직 2.영업직 3.임시직 = \"))\n",
    "        \n",
    "        if job == 1:\n",
    "            name = input(\"이름 = \")\n",
    "            pay = int(input(\"급여 = \"))\n",
    "            p = Permanent(name, pay)\n",
    "            EmpManager.emp.append(p)\n",
    "        \n",
    "        elif job == 2:\n",
    "            name = input(\"이름 = \")\n",
    "            pay = int(input(\"급여 = \"))\n",
    "            result = int(input(\"판매 실적 = \"))\n",
    "            rate = float(input(\"상여율 = \"))\n",
    "            p = Sales(name, pay, result, rate)\n",
    "            EmpManager.emp.append(p)\n",
    "            \n",
    "        else:\n",
    "            name = input(\"이름 = \")\n",
    "            time = int(input(\"근무 시간 = \"))\n",
    "            money = int(input(\"시간당 급여 = \"))\n",
    "            p = Temporary(name, time, money)\n",
    "            EmpManager.emp.append(p)\n",
    "        print(\"직원 등록이 완료되었습니다.\")\n",
    "        \n",
    "    ## 직원 정보를 출력하는 메서드\n",
    "    def show(self):\n",
    "        if len(EmpManager.emp) == 0:\n",
    "            print(\"등록된 직원이 없습니다.\")\n",
    "        else:\n",
    "            for e in EmpManager.emp:\n",
    "                e.disp()\n",
    "                \n",
    "    ## 총 급여를 출력하는 메서드\n",
    "    def allPay(self):\n",
    "        tot = 0\n",
    "        for e in EmpManager.emp:\n",
    "            tot += e.getPay()\n",
    "        print(\"총 지급액 : \", tot)"
   ]
  },
  {
   "cell_type": "code",
   "execution_count": 48,
   "id": "c6219bd5",
   "metadata": {
    "ExecuteTime": {
     "end_time": "2023-08-25T08:31:25.499137Z",
     "start_time": "2023-08-25T08:30:54.563995Z"
    }
   },
   "outputs": [
    {
     "name": "stdout",
     "output_type": "stream",
     "text": [
      "\n",
      "[1]직원 등록 [2]직원 출력 [3]총 지급액 [4]작업 종료\n",
      "선택 = 1\n",
      "직군을 선택하세요.\n",
      "1.정규직 2.영업직 3.임시직 = 3\n",
      "이름 = ccc\n",
      "근무 시간 = 40\n",
      "시간당 급여 = 15000\n",
      "직원 등록이 완료되었습니다.\n",
      "\n",
      "[1]직원 등록 [2]직원 출력 [3]총 지급액 [4]작업 종료\n",
      "선택 = 2\n",
      "이름 :  ccc급여 :  600000\n",
      "\n",
      "[1]직원 등록 [2]직원 출력 [3]총 지급액 [4]작업 종료\n",
      "선택 = 3\n",
      "총 지급액 :  600000\n",
      "\n",
      "[1]직원 등록 [2]직원 출력 [3]총 지급액 [4]작업 종료\n",
      "선택 = 1\n",
      "직군을 선택하세요.\n",
      "1.정규직 2.영업직 3.임시직 = 2\n",
      "이름 = bbb\n",
      "급여 = 1000\n",
      "판매 실적 = 300\n",
      "상여율 = 0.5\n",
      "직원 등록이 완료되었습니다.\n",
      "\n",
      "[1]직원 등록 [2]직원 출력 [3]총 지급액 [4]작업 종료\n",
      "선택 = 2\n",
      "이름 :  ccc급여 :  600000\n",
      "이름 :  bbb급여 :  1150.0\n",
      "\n",
      "[1]직원 등록 [2]직원 출력 [3]총 지급액 [4]작업 종료\n",
      "선택 = 3\n",
      "총 지급액 :  601150.0\n",
      "\n",
      "[1]직원 등록 [2]직원 출력 [3]총 지급액 [4]작업 종료\n",
      "선택 = 4\n",
      "프로그램을 종료합니다.\n"
     ]
    }
   ],
   "source": [
    "# main process\n",
    "\n",
    "## 실제 처리를 담당하는 클래스의 인스턴스 객체 생성\n",
    "manager = EmpManager()\n",
    "\n",
    "# 사용자의 선택에 의해 동작되도록 프로그램을 구현\n",
    "while True :\n",
    "    # 메뉴 출력\n",
    "    print(\"\\n[1]직원 등록 [2]직원 출력 [3]총 지급액 [4]작업 종료\")\n",
    "    menu = int(input('선택 = '))\n",
    "    \n",
    "    # 선택에 따라 동작하는 로직\n",
    "    if menu == 1:\n",
    "        manager.create()\n",
    "    elif menu == 2:\n",
    "        manager.show()\n",
    "    elif menu == 3:\n",
    "        manager.allPay()\n",
    "    elif menu == 4:\n",
    "        print(\"프로그램을 종료합니다.\")\n",
    "        break\n",
    "    else :\n",
    "        print(\"선택이 올바르지 않습니다.\")"
   ]
  }
 ],
 "metadata": {
  "kernelspec": {
   "display_name": "Python 3",
   "language": "python",
   "name": "python3"
  },
  "language_info": {
   "codemirror_mode": {
    "name": "ipython",
    "version": 3
   },
   "file_extension": ".py",
   "mimetype": "text/x-python",
   "name": "python",
   "nbconvert_exporter": "python",
   "pygments_lexer": "ipython3",
   "version": "3.8.8"
  },
  "toc": {
   "base_numbering": 1,
   "nav_menu": {},
   "number_sections": true,
   "sideBar": true,
   "skip_h1_title": false,
   "title_cell": "Table of Contents",
   "title_sidebar": "Contents",
   "toc_cell": false,
   "toc_position": {
    "height": "783px",
    "left": "53px",
    "top": "277px",
    "width": "267px"
   },
   "toc_section_display": true,
   "toc_window_display": true
  }
 },
 "nbformat": 4,
 "nbformat_minor": 5
}
