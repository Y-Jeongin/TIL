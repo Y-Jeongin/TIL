{
 "cells": [
  {
   "cell_type": "markdown",
   "id": "64465ace",
   "metadata": {},
   "source": [
    "# Python과 DataBase 연동\n",
    "\n",
    "1. 해당 라이브러리 : DB 접속 드라이버, cx_Oracle, python-oracledb\n",
    "  - 설치 : Anaconda prompt 창(관리자 권한 실행) pip install 설치할 모듈명\n",
    "  - 주피터 노트북안에서 설치 : !pip install 설치할 모듈명\n",
    "  - Anaconda : pip install ~ or conda install ~\n",
    "  - pip install oracledb --upgrade 최근 버전(권장)\n",
    "  - pip install cx_Oracle --upgrade  <br>\n",
    "  <br>\n",
    "  \n",
    "2. 접속정보 확인\n",
    "  - 사용자 계정과 비밀번호 : scott/tiger\n",
    "  - 오라클 url : localhost:1521/xe"
   ]
  },
  {
   "cell_type": "code",
   "execution_count": 1,
   "id": "53e4af00",
   "metadata": {
    "ExecuteTime": {
     "end_time": "2023-08-29T03:11:52.727551Z",
     "start_time": "2023-08-29T03:11:52.710496Z"
    }
   },
   "outputs": [],
   "source": [
    "# 주피터 노트북에 라이브러리 설치\n",
    "# !pip install cx_Oracle --upgrade"
   ]
  },
  {
   "cell_type": "markdown",
   "id": "0c65dedb",
   "metadata": {},
   "source": [
    "# DB 연동 작업"
   ]
  },
  {
   "cell_type": "code",
   "execution_count": 2,
   "id": "e94e0fb5",
   "metadata": {
    "ExecuteTime": {
     "end_time": "2023-08-29T03:13:34.620632Z",
     "start_time": "2023-08-29T03:13:34.602736Z"
    }
   },
   "outputs": [],
   "source": [
    "# 라이브러리(모듈) 연결\n",
    "import cx_Oracle as cx"
   ]
  },
  {
   "cell_type": "markdown",
   "id": "b9f31550",
   "metadata": {},
   "source": [
    "## connection : 연결 통로 구축"
   ]
  },
  {
   "cell_type": "code",
   "execution_count": 4,
   "id": "f1f3f2ec",
   "metadata": {
    "ExecuteTime": {
     "end_time": "2023-08-29T03:18:27.737485Z",
     "start_time": "2023-08-29T03:18:27.693891Z"
    }
   },
   "outputs": [],
   "source": [
    "# db연동 connect(\"사용자계정\", \"비밀번호\", \"url\")\n",
    "# url - localhost(127.0.0.1) : 1521 / xe\n",
    "# conn = cx.connect(\"scott/1234/localhost:1521/xe\")\n",
    "# conn = cx.connect(\"scott\", \"1234\", \"127.0.0.1:1521/xe\")\n",
    "conn = cx.connect(\"scott\", \"1234\", \"localhost:1521/xe\")"
   ]
  },
  {
   "cell_type": "markdown",
   "id": "0022a34c",
   "metadata": {},
   "source": [
    "## DB에 테이블 조회"
   ]
  },
  {
   "cell_type": "code",
   "execution_count": 19,
   "id": "1380e3f3",
   "metadata": {
    "ExecuteTime": {
     "end_time": "2023-08-29T03:49:26.822027Z",
     "start_time": "2023-08-29T03:49:26.814027Z"
    }
   },
   "outputs": [
    {
     "name": "stdout",
     "output_type": "stream",
     "text": [
      "(1, '레몬', 1500, <cx_Oracle.LOB object at 0x000001A8D8FBBA20>, 'lemon.jpg')\n",
      "맛있는 레몬이 왔어요\n",
      "(2, '오렌지', 2500, <cx_Oracle.LOB object at 0x000001A8D9012FC0>, 'orange.jpg')\n",
      "상큼한 오렌지 있어요\n",
      "(3, '키위', 1000, <cx_Oracle.LOB object at 0x000001A8D9012B10>, 'kiwi.jpg')\n",
      "먹어도 키가 안크는 키위가 있어요\n",
      "(4, '포도', 5000, <cx_Oracle.LOB object at 0x000001A8D9012FC0>, 'grape.jpg')\n",
      "포도가 맛있다\n",
      "(5, '딸기', 8000, <cx_Oracle.LOB object at 0x000001A8D9012AB0>, 'strawberry.jpg')\n",
      "딸기도 좋아요\n",
      "(6, '귤', 500, <cx_Oracle.LOB object at 0x000001A8D9012F90>, 'tangerine.jpg')\n",
      "제주도 대신 귤\n"
     ]
    }
   ],
   "source": [
    "# cursor(커서) : 레코드 셋을 탐색하는 포인터\n",
    "## 커서 객체 생성\n",
    "cur = conn.cursor()\n",
    "\n",
    "## query(질의문)\n",
    "sql = \"select * from product\"\n",
    "\n",
    "## 커서 객체를 이용하여 sql 실행\n",
    "cur.execute(sql)\n",
    "\n",
    "for row in cur:\n",
    "    print(row)\n",
    "    # clop 자료형은 그냥 읽어올 수 없다.\n",
    "    description = row[3].read()\n",
    "    print(description)"
   ]
  },
  {
   "cell_type": "markdown",
   "id": "0ac4ade0",
   "metadata": {},
   "source": [
    "## 전체 레코드 삭제 후 테이블에 레코드 삽입하는 작업"
   ]
  },
  {
   "cell_type": "code",
   "execution_count": 7,
   "id": "411141f3",
   "metadata": {
    "ExecuteTime": {
     "end_time": "2023-08-29T03:27:03.203780Z",
     "start_time": "2023-08-29T03:27:03.171221Z"
    }
   },
   "outputs": [],
   "source": [
    "sql = \"delete from product\"\n",
    "cur.execute(sql)\n",
    "conn.commit()"
   ]
  },
  {
   "cell_type": "code",
   "execution_count": 10,
   "id": "8074da1c",
   "metadata": {
    "ExecuteTime": {
     "end_time": "2023-08-29T03:38:36.392501Z",
     "start_time": "2023-08-29T03:38:36.361050Z"
    }
   },
   "outputs": [
    {
     "name": "stdout",
     "output_type": "stream",
     "text": [
      "(1, '레몬', 1500, '맛있는 레몬이 왔어요', 'lemon.jpg')\n",
      "(2, '오렌지', 2500, '상큼한 오렌지 있어요', 'orange.jpg')\n",
      "(3, '키위', 1000, '먹어도 키가 안크는 키위가 있어요', 'kiwi.jpg')\n",
      "(4, '포도', 5000, '포도가 맛있다', 'grape.jpg')\n",
      "(5, '딸기', 8000, '딸기도 좋아요', 'strawberry.jpg')\n",
      "(6, '귤', 500, '제주도 대신 귤', 'tangerine.jpg')\n"
     ]
    }
   ],
   "source": [
    "# 파이썬에서 DB에 레코드 삽입\n",
    "items = [\n",
    "    (1, '레몬', 1500, '맛있는 레몬이 왔어요', 'lemon.jpg'),\n",
    "    (2, '오렌지', 2500, '상큼한 오렌지 있어요', 'orange.jpg'),\n",
    "    (3, '키위', 1000, '먹어도 키가 안크는 키위가 있어요', 'kiwi.jpg'),\n",
    "    (4, '포도', 5000, '포도가 맛있다', 'grape.jpg'),\n",
    "    (5, '딸기', 8000, '딸기도 좋아요', 'strawberry.jpg'),\n",
    "    (6, '귤', 500, '제주도 대신 귤', 'tangerine.jpg')\n",
    "]\n",
    "\n",
    "for row in items:\n",
    "    # : 필드 인덱스(1부터)\n",
    "    sql = \"insert into product values (:1, :2, :3, :4, :5)\"\n",
    "    print(row)\n",
    "    cur.execute(sql, row)\n",
    "    \n",
    "conn.commit()"
   ]
  },
  {
   "cell_type": "code",
   "execution_count": 14,
   "id": "a4c10ba8",
   "metadata": {
    "ExecuteTime": {
     "end_time": "2023-08-29T03:43:08.283993Z",
     "start_time": "2023-08-29T03:43:08.270961Z"
    }
   },
   "outputs": [
    {
     "name": "stdout",
     "output_type": "stream",
     "text": [
      "상품 개수 : 6\n"
     ]
    }
   ],
   "source": [
    "# 상품 개수를 추출\n",
    "sql = \"select count(*) from product\"\n",
    "cur.execute(sql)\n",
    "\n",
    "# 레코드 개수가 1개일 경우\n",
    "count = cur.fetchone()\n",
    "print(\"상품 개수 :\", count[0])"
   ]
  },
  {
   "cell_type": "code",
   "execution_count": 17,
   "id": "f439a315",
   "metadata": {
    "ExecuteTime": {
     "end_time": "2023-08-29T03:45:23.864577Z",
     "start_time": "2023-08-29T03:45:23.841322Z"
    }
   },
   "outputs": [],
   "source": [
    "# 전체 레코드 삭제\n",
    "sql = \"delete from product\"\n",
    "cur.execute(sql)\n",
    "conn.commit()"
   ]
  },
  {
   "cell_type": "code",
   "execution_count": 18,
   "id": "52099a30",
   "metadata": {
    "ExecuteTime": {
     "end_time": "2023-08-29T03:47:59.336865Z",
     "start_time": "2023-08-29T03:47:59.318618Z"
    }
   },
   "outputs": [],
   "source": [
    "# 레코드를 일괄적으로 추가하는 작업\n",
    "items = [\n",
    "    (1, '레몬', 1500, '맛있는 레몬이 왔어요', 'lemon.jpg'),\n",
    "    (2, '오렌지', 2500, '상큼한 오렌지 있어요', 'orange.jpg'),\n",
    "    (3, '키위', 1000, '먹어도 키가 안크는 키위가 있어요', 'kiwi.jpg'),\n",
    "    (4, '포도', 5000, '포도가 맛있다', 'grape.jpg'),\n",
    "    (5, '딸기', 8000, '딸기도 좋아요', 'strawberry.jpg'),\n",
    "    (6, '귤', 500, '제주도 대신 귤', 'tangerine.jpg')\n",
    "]\n",
    "\n",
    "sql = \"insert into product values(:1, :2, :3, :4, :5)\"\n",
    "# 일괄적으로 레코드를 추가할 때는 레코드의 개수를 지정해줘야 한다.\n",
    "cur.bindarraysize = len(items)\n",
    "cur.executemany(sql, items)\n",
    "conn.commit()"
   ]
  },
  {
   "cell_type": "code",
   "execution_count": 20,
   "id": "d04153d0",
   "metadata": {
    "ExecuteTime": {
     "end_time": "2023-08-29T03:49:59.173699Z",
     "start_time": "2023-08-29T03:49:59.158595Z"
    }
   },
   "outputs": [],
   "source": [
    "cur.close()\n",
    "conn.close()"
   ]
  },
  {
   "cell_type": "code",
   "execution_count": 26,
   "id": "e0962787",
   "metadata": {
    "ExecuteTime": {
     "end_time": "2023-08-29T05:15:49.513637Z",
     "start_time": "2023-08-29T05:15:49.490789Z"
    }
   },
   "outputs": [
    {
     "ename": "InterfaceError",
     "evalue": "not open",
     "output_type": "error",
     "traceback": [
      "\u001b[1;31m---------------------------------------------------------------------------\u001b[0m",
      "\u001b[1;31mInterfaceError\u001b[0m                            Traceback (most recent call last)",
      "\u001b[1;32m<ipython-input-26-a7d33e8db579>\u001b[0m in \u001b[0;36m<module>\u001b[1;34m\u001b[0m\n\u001b[1;32m----> 1\u001b[1;33m \u001b[0mcur\u001b[0m\u001b[1;33m.\u001b[0m\u001b[0mexecute\u001b[0m\u001b[1;33m(\u001b[0m\u001b[0msql\u001b[0m\u001b[1;33m)\u001b[0m\u001b[1;33m\u001b[0m\u001b[1;33m\u001b[0m\u001b[0m\n\u001b[0m\u001b[0;32m      2\u001b[0m \u001b[0mrow\u001b[0m \u001b[1;33m=\u001b[0m \u001b[0mcur\u001b[0m\u001b[1;33m.\u001b[0m\u001b[0mfetchall\u001b[0m\u001b[1;33m(\u001b[0m\u001b[1;33m)\u001b[0m\u001b[1;33m\u001b[0m\u001b[1;33m\u001b[0m\u001b[0m\n\u001b[0;32m      3\u001b[0m \u001b[0mcolname\u001b[0m \u001b[1;33m=\u001b[0m \u001b[0mcur\u001b[0m\u001b[1;33m.\u001b[0m\u001b[0mdescriptions\u001b[0m  \u001b[1;31m# 컬렴명 추출\u001b[0m\u001b[1;33m\u001b[0m\u001b[1;33m\u001b[0m\u001b[0m\n\u001b[0;32m      4\u001b[0m \u001b[0mcol\u001b[0m \u001b[1;33m=\u001b[0m \u001b[1;33m[\u001b[0m\u001b[1;33m]\u001b[0m\u001b[1;33m\u001b[0m\u001b[1;33m\u001b[0m\u001b[0m\n\u001b[0;32m      5\u001b[0m \u001b[1;33m\u001b[0m\u001b[0m\n",
      "\u001b[1;31mInterfaceError\u001b[0m: not open"
     ]
    }
   ],
   "source": [
    "cur.execute(sql)\n",
    "row = cur.fetchall()\n",
    "colname = cur.descriptions  # 컬렴명 추출\n",
    "col = []\n",
    "\n",
    "for i in colname:\n",
    "    col.append(i[0])\n",
    "    \n",
    "product = pd.DataFrame(row, cloumns = col)\n",
    "print(product)"
   ]
  },
  {
   "cell_type": "markdown",
   "id": "dca7b875",
   "metadata": {},
   "source": [
    "# 회원관리 프로그램\n",
    "\n",
    "- CRUD(CREATE, SELECT, UPDATE, INSERT, DELETE) 즉, DML(조작어)\n",
    "- 테이블 생성 Member(userid, userpwd, name), userid는 primary key 설정\n",
    "- 주요 기능 : 회원가입(등록), 회원 수정, 회원 정보 출력, 회원 삭제 등"
   ]
  },
  {
   "cell_type": "code",
   "execution_count": 23,
   "id": "5451cc60",
   "metadata": {
    "ExecuteTime": {
     "end_time": "2023-08-29T05:13:10.712188Z",
     "start_time": "2023-08-29T05:13:10.675700Z"
    }
   },
   "outputs": [],
   "source": [
    "import cx_Oracle as cx\n",
    "\n",
    "conn = cx.connect(\"scott\", \"1234\", \"localhost:1521/xe\")"
   ]
  },
  {
   "cell_type": "markdown",
   "id": "31c7ba01",
   "metadata": {},
   "source": [
    "## member 테이블 조회"
   ]
  },
  {
   "cell_type": "code",
   "execution_count": 49,
   "id": "efbcd0e1",
   "metadata": {
    "ExecuteTime": {
     "end_time": "2023-08-29T05:48:26.178554Z",
     "start_time": "2023-08-29T05:48:26.163037Z"
    }
   },
   "outputs": [
    {
     "name": "stdout",
     "output_type": "stream",
     "text": [
      "('admin', '1234', '관리자')\n",
      "('aaa', '1234', '홍길동')\n"
     ]
    }
   ],
   "source": [
    "cursor = conn.cursor()\n",
    "cursor.execute(\"select * from member\")\n",
    "\n",
    "# 모든 레코드를 Resultset 객체에 저장\n",
    "rs = cursor.fetchall()\n",
    "# print(type(rs))\n",
    "# print(rs)\n",
    "for member in rs:\n",
    "    print(member)"
   ]
  },
  {
   "cell_type": "code",
   "execution_count": 28,
   "id": "4c9461bd",
   "metadata": {
    "ExecuteTime": {
     "end_time": "2023-08-29T05:16:48.414870Z",
     "start_time": "2023-08-29T05:16:48.403241Z"
    }
   },
   "outputs": [
    {
     "data": {
      "text/plain": [
       "('admin', 'admin', '관리자')"
      ]
     },
     "execution_count": 28,
     "metadata": {},
     "output_type": "execute_result"
    }
   ],
   "source": [
    "rs[0]"
   ]
  },
  {
   "cell_type": "code",
   "execution_count": 29,
   "id": "809f3097",
   "metadata": {
    "ExecuteTime": {
     "end_time": "2023-08-29T05:17:03.373213Z",
     "start_time": "2023-08-29T05:17:03.360701Z"
    }
   },
   "outputs": [
    {
     "name": "stdout",
     "output_type": "stream",
     "text": [
      "admin\n"
     ]
    }
   ],
   "source": [
    "userid = rs[0][0]\n",
    "print(userid)"
   ]
  },
  {
   "cell_type": "code",
   "execution_count": 30,
   "id": "b39238a3",
   "metadata": {
    "ExecuteTime": {
     "end_time": "2023-08-29T05:17:29.201199Z",
     "start_time": "2023-08-29T05:17:29.184751Z"
    }
   },
   "outputs": [
    {
     "name": "stdout",
     "output_type": "stream",
     "text": [
      "admin\n"
     ]
    }
   ],
   "source": [
    "userpass = rs[0][1]\n",
    "print(userpass)"
   ]
  },
  {
   "cell_type": "markdown",
   "id": "65cc9e0c",
   "metadata": {},
   "source": [
    "## 레코드 삽입"
   ]
  },
  {
   "cell_type": "code",
   "execution_count": 43,
   "id": "5d5ccde9",
   "metadata": {
    "ExecuteTime": {
     "end_time": "2023-08-29T05:45:58.280023Z",
     "start_time": "2023-08-29T05:45:58.266089Z"
    }
   },
   "outputs": [],
   "source": [
    "def insert(userid, userpass, username):\n",
    "    conn = cx.connect(\"scott\", \"1234\", \"localhost:1521/xe\")\n",
    "    sql = \"insert into member values(:1, :2, :3)\"\n",
    "    \n",
    "    cur = conn.cursor()\n",
    "    cur.execute(sql, [userid, userpass, username])\n",
    "    cur.close()  # 함수마다 독립적으로 동작 중\n",
    "    conn.commit()\n",
    "    conn.close()"
   ]
  },
  {
   "cell_type": "code",
   "execution_count": 33,
   "id": "a67a6a0c",
   "metadata": {
    "ExecuteTime": {
     "end_time": "2023-08-29T05:25:26.236837Z",
     "start_time": "2023-08-29T05:25:11.816447Z"
    }
   },
   "outputs": [
    {
     "name": "stdout",
     "output_type": "stream",
     "text": [
      "회원가입 할 회원의 정보를 입력하세요.\n",
      "id = aaa\n",
      "pass = 1234\n",
      "name = 홍길동\n"
     ]
    }
   ],
   "source": [
    "print(\"회원가입 할 회원의 정보를 입력하세요.\")\n",
    "userid = input('id = ')\n",
    "userpass = input('pass = ')\n",
    "username = input('name = ')\n",
    "\n",
    "insert(userid, userpass, username)"
   ]
  },
  {
   "cell_type": "markdown",
   "id": "d19d273a",
   "metadata": {},
   "source": [
    "## 레코드 수정"
   ]
  },
  {
   "cell_type": "code",
   "execution_count": 44,
   "id": "640bac13",
   "metadata": {
    "ExecuteTime": {
     "end_time": "2023-08-29T05:46:03.786504Z",
     "start_time": "2023-08-29T05:46:03.769657Z"
    }
   },
   "outputs": [],
   "source": [
    "def update(userid, userpass, username):\n",
    "    conn = cx.connect(\"scott\", \"1234\", \"localhost:1521/xe\")\n",
    "    sql = \"update member set userpass = :1, username = :2 where userid = :3\"\n",
    "    \n",
    "    cur = conn.cursor()\n",
    "    cur.execute(sql, [userpass, username, userid])\n",
    "    \n",
    "    cur.close()  # 함수마다 독립적으로 동작 중\n",
    "    conn.commit()\n",
    "    conn.close()"
   ]
  },
  {
   "cell_type": "code",
   "execution_count": 45,
   "id": "fe83ba8f",
   "metadata": {
    "ExecuteTime": {
     "end_time": "2023-08-29T05:46:05.481990Z",
     "start_time": "2023-08-29T05:46:05.467890Z"
    }
   },
   "outputs": [],
   "source": [
    "# id_check(userid)\n",
    "def id_check(userid):\n",
    "    conn = cx.connect(\"scott\", \"1234\", \"localhost:1521/xe\")\n",
    "    sql = \"select * from member\"\n",
    "    \n",
    "    cur = conn.cursor()\n",
    "    cur.execute(sql)\n",
    "    rs = cur.fetchall()\n",
    "    \n",
    "    for row in rs:\n",
    "        if row[0] == userid:\n",
    "            return True\n",
    "        \n",
    "    return False"
   ]
  },
  {
   "cell_type": "code",
   "execution_count": 63,
   "id": "d81d95d4",
   "metadata": {
    "ExecuteTime": {
     "end_time": "2023-08-29T06:29:33.468772Z",
     "start_time": "2023-08-29T06:29:27.791390Z"
    }
   },
   "outputs": [
    {
     "name": "stdout",
     "output_type": "stream",
     "text": [
      "id = vdc\n",
      "vdc 회원정보가 존재하지 않습니다.\n"
     ]
    }
   ],
   "source": [
    "# 키보드를 통해 회원 정보를 변경하는 작업\n",
    "userid = input('id = ')\n",
    "\n",
    "if id_check(userid):\n",
    "    userpass = input('passs = ')\n",
    "    username = input('name = ')\n",
    "    update(userid, userpass, username)\n",
    "    \n",
    "else:\n",
    "    print(f\"{userid} 회원정보가 존재하지 않습니다.\")"
   ]
  },
  {
   "cell_type": "markdown",
   "id": "6717174e",
   "metadata": {},
   "source": [
    "- 레코드 삭제"
   ]
  },
  {
   "cell_type": "code",
   "execution_count": 57,
   "id": "ad8797f0",
   "metadata": {
    "ExecuteTime": {
     "end_time": "2023-08-29T06:18:25.909907Z",
     "start_time": "2023-08-29T06:18:25.891377Z"
    }
   },
   "outputs": [],
   "source": [
    "def delete(userid):\n",
    "    conn = cx.connect(\"scott\", \"1234\", \"localhost:1521/xe\")\n",
    "    sql = \"delete from member where userid = :1\"\n",
    "    \n",
    "    cur = conn.cursor()\n",
    "    cur.execute(sql, [userid])\n",
    "    \n",
    "    cur.close()  # 함수마다 독립적으로 동작 중\n",
    "    conn.commit()\n",
    "    conn.close()"
   ]
  },
  {
   "cell_type": "markdown",
   "id": "4bb07b91",
   "metadata": {},
   "source": [
    "- 레코드 출력"
   ]
  },
  {
   "cell_type": "code",
   "execution_count": 72,
   "id": "7e7451f8",
   "metadata": {
    "ExecuteTime": {
     "end_time": "2023-08-29T06:44:57.318079Z",
     "start_time": "2023-08-29T06:44:57.309964Z"
    }
   },
   "outputs": [],
   "source": [
    "def select(userid, userpass, username):\n",
    "    conn = cx.connect(\"scott\", \"1234\", \"localhost:1521/xe\")\n",
    "    sql = \"select * from member\"\n",
    "    \n",
    "    cur = conn.cursor()\n",
    "    cur.execute(sql)\n",
    "    \n",
    "    rs = cur.fetchall()\n",
    "    \n",
    "    for member in rs:\n",
    "        print(member)"
   ]
  },
  {
   "cell_type": "markdown",
   "id": "63ec3df5",
   "metadata": {},
   "source": [
    "# 최종 프로그램"
   ]
  },
  {
   "cell_type": "markdown",
   "id": "d295ef13",
   "metadata": {},
   "source": [
    "## DB 연동"
   ]
  },
  {
   "cell_type": "code",
   "execution_count": 85,
   "id": "c4db6cb9",
   "metadata": {
    "ExecuteTime": {
     "end_time": "2023-08-29T07:21:24.209843Z",
     "start_time": "2023-08-29T07:21:24.181467Z"
    }
   },
   "outputs": [],
   "source": [
    "import cx_Oracle as cx\n",
    "\n",
    "conn = cx.connect(\"scott\", \"1234\", \"localhost:1521/xe\")"
   ]
  },
  {
   "cell_type": "markdown",
   "id": "c8414972",
   "metadata": {},
   "source": [
    "## 기능별 함수 구현"
   ]
  },
  {
   "cell_type": "code",
   "execution_count": null,
   "id": "0d356f42",
   "metadata": {},
   "outputs": [],
   "source": []
  },
  {
   "cell_type": "markdown",
   "id": "7f5017a5",
   "metadata": {},
   "source": [
    "## main processor"
   ]
  },
  {
   "cell_type": "code",
   "execution_count": 76,
   "id": "f049bc12",
   "metadata": {
    "ExecuteTime": {
     "end_time": "2023-08-29T07:18:21.299291Z",
     "start_time": "2023-08-29T07:18:19.865500Z"
    }
   },
   "outputs": [
    {
     "name": "stdout",
     "output_type": "stream",
     "text": [
      "\n",
      "== 회원 관리 프로그램 ==\n",
      "1. 회원등록\n",
      "2. 회원수정\n",
      "3. 회원삭제\n",
      "4. 회원출력\n",
      "5. 작업종료\n",
      "메뉴 = 5\n",
      "프로그램을 종료합니다.\n"
     ]
    }
   ],
   "source": [
    "while True:\n",
    "    print('\\n== 회원 관리 프로그램 ==')\n",
    "    print(\"1. 회원등록\")\n",
    "    print(\"2. 회원수정\")\n",
    "    print(\"3. 회원삭제\")\n",
    "    print(\"4. 회원출력\")\n",
    "    print(\"5. 작업종료\")\n",
    "    menu = int(input(\"메뉴 = \"))\n",
    "    \n",
    "    if menu == 1:\n",
    "        print(\"회원가입 할 회원의 정보를 입력하세요.\")\n",
    "        userid = input('id = ')\n",
    "        userpass = input('pass = ')\n",
    "        username = input('name = ')\n",
    "\n",
    "        insert(userid, userpass, username)\n",
    "        \n",
    "    elif menu == 2:\n",
    "        userid = input('id = ')\n",
    "\n",
    "        if id_check(userid):\n",
    "            userpass = input('pass = ')\n",
    "            username = input('name = ')\n",
    "            update(userid, userpass, username)\n",
    "\n",
    "        else:\n",
    "            print(f\"{useid} 회원정보가 존재하지 않습니다.\")\n",
    "    \n",
    "    elif menu == 3:\n",
    "        userid = input('id = ')\n",
    "\n",
    "        if id_check(userid):\n",
    "            delete(userid)\n",
    "            print(\"회원정보가 삭제되었습니다.\")\n",
    "\n",
    "        else:\n",
    "            print(f\"{userid} 회원정보가 존재하지 않습니다.\")\n",
    "            \n",
    "    elif menu == 4:\n",
    "        select(userid, userpass, username)\n",
    "            \n",
    "    elif menu == 5:\n",
    "        break\n",
    "        \n",
    "    else:\n",
    "        print(\"메뉴의 선택이 올바르지 않습니다.\")\n",
    "        \n",
    "print(\"프로그램을 종료합니다.\")"
   ]
  },
  {
   "cell_type": "code",
   "execution_count": 89,
   "id": "002c97db",
   "metadata": {
    "ExecuteTime": {
     "end_time": "2023-08-29T07:22:33.001222Z",
     "start_time": "2023-08-29T07:22:32.097627Z"
    }
   },
   "outputs": [
    {
     "name": "stdout",
     "output_type": "stream",
     "text": [
      "\n",
      "== 회원 관리 프로그램 ==\n",
      "1. 회원등록\n",
      "2. 회원수정\n",
      "3. 회원삭제\n",
      "4. 회원출력\n",
      "5. 작업종료\n",
      "메뉴 = 5\n"
     ]
    },
    {
     "ename": "InterfaceError",
     "evalue": "not open",
     "output_type": "error",
     "traceback": [
      "\u001b[1;31m---------------------------------------------------------------------------\u001b[0m",
      "\u001b[1;31mInterfaceError\u001b[0m                            Traceback (most recent call last)",
      "\u001b[1;32m<ipython-input-89-3760e292e654>\u001b[0m in \u001b[0;36m<module>\u001b[1;34m\u001b[0m\n\u001b[0;32m     43\u001b[0m \u001b[1;33m\u001b[0m\u001b[0m\n\u001b[0;32m     44\u001b[0m     \u001b[1;32melif\u001b[0m \u001b[0mmenu\u001b[0m \u001b[1;33m==\u001b[0m \u001b[1;36m5\u001b[0m\u001b[1;33m:\u001b[0m\u001b[1;33m\u001b[0m\u001b[1;33m\u001b[0m\u001b[0m\n\u001b[1;32m---> 45\u001b[1;33m         \u001b[0mclose\u001b[0m\u001b[1;33m(\u001b[0m\u001b[1;33m)\u001b[0m\u001b[1;33m\u001b[0m\u001b[1;33m\u001b[0m\u001b[0m\n\u001b[0m\u001b[0;32m     46\u001b[0m         \u001b[1;32mbreak\u001b[0m\u001b[1;33m\u001b[0m\u001b[1;33m\u001b[0m\u001b[0m\n\u001b[0;32m     47\u001b[0m \u001b[1;33m\u001b[0m\u001b[0m\n",
      "\u001b[1;32mC:\\K_digital\\Python Basic\\source\\source\\dbTest.py\u001b[0m in \u001b[0;36mclose\u001b[1;34m()\u001b[0m\n\u001b[0;32m      6\u001b[0m \u001b[1;31m# 자원 닫기\u001b[0m\u001b[1;33m\u001b[0m\u001b[1;33m\u001b[0m\u001b[1;33m\u001b[0m\u001b[0m\n\u001b[0;32m      7\u001b[0m \u001b[1;32mdef\u001b[0m \u001b[0mclose\u001b[0m\u001b[1;33m(\u001b[0m\u001b[1;33m)\u001b[0m\u001b[1;33m:\u001b[0m\u001b[1;33m\u001b[0m\u001b[1;33m\u001b[0m\u001b[0m\n\u001b[1;32m----> 8\u001b[1;33m     \u001b[0mcursor\u001b[0m\u001b[1;33m.\u001b[0m\u001b[0mclose\u001b[0m\u001b[1;33m(\u001b[0m\u001b[1;33m)\u001b[0m\u001b[1;33m\u001b[0m\u001b[1;33m\u001b[0m\u001b[0m\n\u001b[0m\u001b[0;32m      9\u001b[0m     \u001b[0mconn\u001b[0m\u001b[1;33m.\u001b[0m\u001b[0mclose\u001b[0m\u001b[1;33m(\u001b[0m\u001b[1;33m)\u001b[0m\u001b[1;33m\u001b[0m\u001b[1;33m\u001b[0m\u001b[0m\n\u001b[0;32m     10\u001b[0m \u001b[1;33m\u001b[0m\u001b[0m\n",
      "\u001b[1;31mInterfaceError\u001b[0m: not open"
     ]
    }
   ],
   "source": [
    "# 모듈 포함\n",
    "from dbTest import *\n",
    "\n",
    "while True:\n",
    "    print('\\n== 회원 관리 프로그램 ==')\n",
    "    print(\"1. 회원등록\")\n",
    "    print(\"2. 회원수정\")\n",
    "    print(\"3. 회원삭제\")\n",
    "    print(\"4. 회원출력\")\n",
    "    print(\"5. 작업종료\")\n",
    "    menu = int(input(\"메뉴 = \"))\n",
    "    \n",
    "    if menu == 1:\n",
    "        userid = input('id = ')\n",
    "        userpass = input('pass = ')\n",
    "        username = input('name = ')\n",
    "        \n",
    "        insert(userid, userpass, username)\n",
    "        \n",
    "    elif menu == 2:\n",
    "        userid = input('id = ')\n",
    "        \n",
    "        if id_check(userid) == 0:\n",
    "            print(f\"{userid} 회원정보가 존재하지 않습니다.\")\n",
    "            \n",
    "        else:\n",
    "            print(\"수정할 회원의 정보를 입력하세요.\")\n",
    "            userpass = input('pass = ')\n",
    "            username = input('name = ')\n",
    "            update(userid, userpass, username)\n",
    "    \n",
    "    elif menu == 3:\n",
    "        userid = input('id = ')\n",
    "        \n",
    "        if id_check(userid) == 0:\n",
    "            print(f\"{userid} 회원정보가 존재하지 않습니다.\")\n",
    "            \n",
    "        else:\n",
    "            delete(userid)\n",
    "            \n",
    "    elif menu == 4:\n",
    "        listMember()\n",
    "            \n",
    "    elif menu == 5:\n",
    "        close()\n",
    "        break\n",
    "        \n",
    "    else:\n",
    "        print(\"메뉴의 선택이 올바르지 않습니다.\")\n",
    "        \n",
    "print(\"프로그램을 종료합니다.\")"
   ]
  },
  {
   "cell_type": "code",
   "execution_count": null,
   "id": "8d9e86e4",
   "metadata": {},
   "outputs": [],
   "source": []
  },
  {
   "cell_type": "code",
   "execution_count": null,
   "id": "594dcb59",
   "metadata": {},
   "outputs": [],
   "source": []
  },
  {
   "cell_type": "code",
   "execution_count": null,
   "id": "a96a44a2",
   "metadata": {},
   "outputs": [],
   "source": []
  },
  {
   "cell_type": "code",
   "execution_count": null,
   "id": "c242130b",
   "metadata": {},
   "outputs": [],
   "source": []
  },
  {
   "cell_type": "code",
   "execution_count": null,
   "id": "808fa70f",
   "metadata": {},
   "outputs": [],
   "source": []
  },
  {
   "cell_type": "code",
   "execution_count": null,
   "id": "4c93e82e",
   "metadata": {},
   "outputs": [],
   "source": []
  }
 ],
 "metadata": {
  "kernelspec": {
   "display_name": "Python 3",
   "language": "python",
   "name": "python3"
  },
  "language_info": {
   "codemirror_mode": {
    "name": "ipython",
    "version": 3
   },
   "file_extension": ".py",
   "mimetype": "text/x-python",
   "name": "python",
   "nbconvert_exporter": "python",
   "pygments_lexer": "ipython3",
   "version": "3.8.8"
  },
  "toc": {
   "base_numbering": 1,
   "nav_menu": {},
   "number_sections": true,
   "sideBar": true,
   "skip_h1_title": false,
   "title_cell": "Table of Contents",
   "title_sidebar": "Contents",
   "toc_cell": false,
   "toc_position": {
    "height": "calc(100% - 180px)",
    "left": "10px",
    "top": "150px",
    "width": "309px"
   },
   "toc_section_display": true,
   "toc_window_display": true
  }
 },
 "nbformat": 4,
 "nbformat_minor": 5
}
