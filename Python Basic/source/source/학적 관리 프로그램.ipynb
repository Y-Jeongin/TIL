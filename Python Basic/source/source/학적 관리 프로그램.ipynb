{
 "cells": [
  {
   "cell_type": "markdown",
   "id": "49516ca3",
   "metadata": {},
   "source": [
    "<code>== 학적 관리 프로그램 ==\n",
    "    1. 신규 학생 등록\n",
    "    2. 학생 정보 수정\n",
    "    3. 전체 학생 출력\n",
    "    4. 학생 정보 조회\n",
    "    5. 프로그램 종료\n",
    "=======================\n",
    "    선택 =\n",
    "</code>\n",
    "\n",
    "처리조건\n",
    "- 한 명 이상의 학생 정보를 받아서 처리한다.\n",
    "- 학생 정보는 이름, 국어, 영어, 수학 점수를 받아서 등록한다.\n",
    "- 등록된 학생의 점수를 이용하여 총점과 평균 그리고 학점을 계산한다.\n",
    "- 사용자가 원하는 작업을 수행할 수 있도록 구현한다.\n",
    "- 언제든 사용자가 원하면 프로그램을 종료할 수 있도로 구현한다.\n",
    "- 기타 조건은 프로그램의 흐름에 따라 구현되도록 한다."
   ]
  },
  {
   "cell_type": "markdown",
   "id": "4daeb2c5",
   "metadata": {},
   "source": [
    "# 함수 내용 정의부"
   ]
  },
  {
   "cell_type": "code",
   "execution_count": 26,
   "id": "5ecc568c",
   "metadata": {
    "ExecuteTime": {
     "end_time": "2023-08-24T05:47:09.293076Z",
     "start_time": "2023-08-24T05:47:09.277525Z"
    }
   },
   "outputs": [],
   "source": [
    "def showMenu() :\n",
    "    print(\"== 학적 관리 프로그램 ==\")\n",
    "    print(\"1. 신규 학생 등록\")\n",
    "    print(\"2. 학생 정보 수정\")\n",
    "    print(\"3. 전체 학생 출력\")\n",
    "    print(\"4. 학생 정보 조회\")\n",
    "    print(\"5. 프로그램 종료\")\n",
    "    print(\"=\" * 22)"
   ]
  },
  {
   "cell_type": "code",
   "execution_count": 27,
   "id": "db157ecf",
   "metadata": {
    "ExecuteTime": {
     "end_time": "2023-08-24T05:47:11.910750Z",
     "start_time": "2023-08-24T05:47:11.907435Z"
    }
   },
   "outputs": [],
   "source": [
    "def makeStudent() :\n",
    "    # 한 명의 학생 정보를 담을 객체\n",
    "    student = dict()\n",
    "    \n",
    "    # 키보드를 통해 사용자로부터 학생 정보 입력\n",
    "    student['name'] = input('name = ')\n",
    "    student['kor'] = int(input('kor = '))\n",
    "    student['eng'] = int(input('eng = '))\n",
    "    student['math'] = int(input('math = '))\n",
    "    \n",
    "    # 총점과 평균 그리고 학점을 처리하는 로직 호출\n",
    "    process(student)\n",
    "    \n",
    "    # 해당 학생 객체를 반환\n",
    "    return student"
   ]
  },
  {
   "cell_type": "code",
   "execution_count": 28,
   "id": "e5194ff3",
   "metadata": {
    "ExecuteTime": {
     "end_time": "2023-08-24T05:47:12.578729Z",
     "start_time": "2023-08-24T05:47:12.571223Z"
    }
   },
   "outputs": [],
   "source": [
    "def process(stu) :\n",
    "    stu['tot'] = stu['kor'] + stu['eng'] + stu['math']\n",
    "    stu['avg'] = stu['tot'] / 3\n",
    "    \n",
    "    if stu['avg'] >= 90:\n",
    "        stu['grade'] = 'A'\n",
    "    elif stu['avg'] >= 80:\n",
    "        stu['grade'] = 'B'\n",
    "    elif stu['avg'] >= 70:\n",
    "        stu['grade'] = 'C'\n",
    "    elif stu['avg'] >= 60:\n",
    "        stu['grade'] = 'D'\n",
    "    else :\n",
    "        stu['grade'] = 'F'"
   ]
  },
  {
   "cell_type": "code",
   "execution_count": 38,
   "id": "2d52e28e",
   "metadata": {
    "ExecuteTime": {
     "end_time": "2023-08-24T05:51:46.505048Z",
     "start_time": "2023-08-24T05:51:46.492837Z"
    }
   },
   "outputs": [],
   "source": [
    "def modify(students) :\n",
    "    # 이름을 입력받아 해당 학생의 정보를 수정하는 작업\n",
    "    print(\"수정할 학생의 정보를 입력하세요.\")\n",
    "    name = input(\"이름 = \")\n",
    "    \n",
    "    # 입력한 이름이 존재하는지 여부를 판정하여 처리하는 작업\n",
    "    for i in students:\n",
    "        # 입력받은 학생 이름이 학생 정보에 존재한다면\n",
    "        if i['name'] == name:\n",
    "            i['kor'] = int(input(\"국어 = \"))\n",
    "            i['eng'] = int(input(\"영어 = \"))\n",
    "            i['math'] = int(input(\"수학 = \"))\n",
    "            # 수정한 정보를 이용하여 총점과 평균, 학점을 다시 계산한다.\n",
    "            process(i)\n",
    "            return  # 더 이상 작업 할 필요가 없기때문에 제어권을 넘김\n",
    "    \n",
    "    print(f\"입력한 {name} 정보가 존재하지 않습니다.\")  # return을 만나면 해당 문장을 실행하지 않는다."
   ]
  },
  {
   "cell_type": "code",
   "execution_count": 30,
   "id": "c4a85d26",
   "metadata": {
    "ExecuteTime": {
     "end_time": "2023-08-24T05:47:13.559431Z",
     "start_time": "2023-08-24T05:47:13.543996Z"
    }
   },
   "outputs": [],
   "source": [
    "def showStudents() :\n",
    "    print()\n",
    "    for i in students :\n",
    "        print(i)"
   ]
  },
  {
   "cell_type": "code",
   "execution_count": 45,
   "id": "de362aa7",
   "metadata": {
    "ExecuteTime": {
     "end_time": "2023-08-24T05:59:28.360655Z",
     "start_time": "2023-08-24T05:59:28.351944Z"
    }
   },
   "outputs": [],
   "source": [
    "def show() :\n",
    "    # 이름을 입력받아 해당 학생의 정보를 검색하는 작업\n",
    "    print(\"검색할 학생의 정보를 입력하세요.\")\n",
    "    name = input(\"이름 = \")\n",
    "    \n",
    "    # 입력한 이름이 존재하는지 여부를 판정하여 처리하는 작업\n",
    "    for i in range(len(students)):  # 0 1 2\n",
    "        # 입력받은 학생 이름이 학생 정보에 존재한다면\n",
    "        if students[i]['name'] == name:\n",
    "            print(students[i])\n",
    "            check = input(\"삭제(Y/N) = \")\n",
    "            \n",
    "            if check == 'Y' or check == 'y':\n",
    "                del students[i]\n",
    "            return  # 더 이상 작업 할 필요가 없기때문에 제어권을 넘김\n",
    "    \n",
    "    print(f\"입력한 {name} 정보가 존재하지 않습니다.\")  # return을 만나면 해당 문장을 실행하지 않는다."
   ]
  },
  {
   "cell_type": "markdown",
   "id": "62c9bb7d",
   "metadata": {},
   "source": [
    "# main"
   ]
  },
  {
   "cell_type": "code",
   "execution_count": 47,
   "id": "f1dc0da3",
   "metadata": {
    "ExecuteTime": {
     "end_time": "2023-08-24T06:00:37.849621Z",
     "start_time": "2023-08-24T05:59:45.583561Z"
    }
   },
   "outputs": [
    {
     "name": "stdout",
     "output_type": "stream",
     "text": [
      "\n",
      "== 학적 관리 프로그램 ==\n",
      "1. 신규 학생 등록\n",
      "2. 학생 정보 수정\n",
      "3. 전체 학생 출력\n",
      "4. 학생 정보 조회\n",
      "5. 프로그램 종료\n",
      "======================\n",
      "선택 = 1\n",
      "name = aaa\n",
      "kor = 89\n",
      "eng = 90\n",
      "math = 77\n",
      "학생 등록이 완료되었습니다.\n",
      "\n",
      "== 학적 관리 프로그램 ==\n",
      "1. 신규 학생 등록\n",
      "2. 학생 정보 수정\n",
      "3. 전체 학생 출력\n",
      "4. 학생 정보 조회\n",
      "5. 프로그램 종료\n",
      "======================\n",
      "선택 = 3\n",
      "\n",
      "{'name': 'aaa', 'kor': 89, 'eng': 90, 'math': 77, 'tot': 256, 'avg': 85.33333333333333, 'grade': 'B'}\n",
      "\n",
      "== 학적 관리 프로그램 ==\n",
      "1. 신규 학생 등록\n",
      "2. 학생 정보 수정\n",
      "3. 전체 학생 출력\n",
      "4. 학생 정보 조회\n",
      "5. 프로그램 종료\n",
      "======================\n",
      "선택 = 2\n",
      "수정할 학생의 정보를 입력하세요.\n",
      "이름 = aaa\n",
      "국어 = 88\n",
      "영어 = 75\n",
      "수학 = 77\n",
      "\n",
      "== 학적 관리 프로그램 ==\n",
      "1. 신규 학생 등록\n",
      "2. 학생 정보 수정\n",
      "3. 전체 학생 출력\n",
      "4. 학생 정보 조회\n",
      "5. 프로그램 종료\n",
      "======================\n",
      "선택 = 3\n",
      "\n",
      "{'name': 'aaa', 'kor': 88, 'eng': 75, 'math': 77, 'tot': 240, 'avg': 80.0, 'grade': 'B'}\n",
      "\n",
      "== 학적 관리 프로그램 ==\n",
      "1. 신규 학생 등록\n",
      "2. 학생 정보 수정\n",
      "3. 전체 학생 출력\n",
      "4. 학생 정보 조회\n",
      "5. 프로그램 종료\n",
      "======================\n",
      "선택 = 4\n",
      "검색할 학생의 정보를 입력하세요.\n",
      "이름 = aaa\n",
      "{'name': 'aaa', 'kor': 88, 'eng': 75, 'math': 77, 'tot': 240, 'avg': 80.0, 'grade': 'B'}\n",
      "삭제(Y/N) = y\n",
      "\n",
      "== 학적 관리 프로그램 ==\n",
      "1. 신규 학생 등록\n",
      "2. 학생 정보 수정\n",
      "3. 전체 학생 출력\n",
      "4. 학생 정보 조회\n",
      "5. 프로그램 종료\n",
      "======================\n",
      "선택 = 3\n",
      "\n",
      "\n",
      "== 학적 관리 프로그램 ==\n",
      "1. 신규 학생 등록\n",
      "2. 학생 정보 수정\n",
      "3. 전체 학생 출력\n",
      "4. 학생 정보 조회\n",
      "5. 프로그램 종료\n",
      "======================\n",
      "선택 = 5\n",
      "학적 관리 프로그램을 종료합니다.\n"
     ]
    }
   ],
   "source": [
    "students = list()\n",
    "\n",
    "# 무한 Loop\n",
    "while True :\n",
    "    print()\n",
    "    \n",
    "    # 메뉴 출력\n",
    "    showMenu()\n",
    "    \n",
    "    # 사용자 입력\n",
    "    menu = int(input(\"선택 = \"))\n",
    "    \n",
    "    # 비즈니스 로직 (사용자가 선택한 값에 따른 로직)\n",
    "    if menu == 1:\n",
    "        student = makeStudent()\n",
    "        students.append(student)\n",
    "        print(\"학생 등록이 완료되었습니다.\")\n",
    "    elif menu == 2:\n",
    "        modify(students)\n",
    "    elif menu == 3:\n",
    "        showStudents()\n",
    "    elif menu == 4:\n",
    "        show()\n",
    "    elif menu  == 5:\n",
    "        break\n",
    "    else :\n",
    "        print(\"선택이 올바르지 않습니다.\")\n",
    "        \n",
    "print(\"학적 관리 프로그램을 종료합니다.\")"
   ]
  },
  {
   "cell_type": "code",
   "execution_count": 41,
   "id": "d8429003",
   "metadata": {
    "ExecuteTime": {
     "end_time": "2023-08-24T05:57:05.320798Z",
     "start_time": "2023-08-24T05:57:05.292696Z"
    }
   },
   "outputs": [
    {
     "name": "stdout",
     "output_type": "stream",
     "text": [
      "[1, 2, 3]\n",
      "['a', 'b']\n",
      "[4, 5, 6]\n"
     ]
    }
   ],
   "source": [
    "aa = [[1, 2, 3], ['a', 'b'], [4, 5, 6]]\n",
    "\n",
    "for i in aa :\n",
    "    print(i)"
   ]
  },
  {
   "cell_type": "code",
   "execution_count": 44,
   "id": "0010cd21",
   "metadata": {
    "ExecuteTime": {
     "end_time": "2023-08-24T05:57:30.083498Z",
     "start_time": "2023-08-24T05:57:30.070850Z"
    }
   },
   "outputs": [
    {
     "name": "stdout",
     "output_type": "stream",
     "text": [
      "[1, 2, 3]\n",
      "['a', 'b']\n",
      "[4, 5, 6]\n"
     ]
    }
   ],
   "source": [
    "for i in range(len(aa)):\n",
    "    print(aa[i])"
   ]
  }
 ],
 "metadata": {
  "kernelspec": {
   "display_name": "Python 3",
   "language": "python",
   "name": "python3"
  },
  "language_info": {
   "codemirror_mode": {
    "name": "ipython",
    "version": 3
   },
   "file_extension": ".py",
   "mimetype": "text/x-python",
   "name": "python",
   "nbconvert_exporter": "python",
   "pygments_lexer": "ipython3",
   "version": "3.8.8"
  },
  "toc": {
   "base_numbering": 1,
   "nav_menu": {},
   "number_sections": true,
   "sideBar": true,
   "skip_h1_title": false,
   "title_cell": "Table of Contents",
   "title_sidebar": "Contents",
   "toc_cell": false,
   "toc_position": {
    "height": "751px",
    "left": "99px",
    "top": "207.125px",
    "width": "226px"
   },
   "toc_section_display": true,
   "toc_window_display": true
  }
 },
 "nbformat": 4,
 "nbformat_minor": 5
}
