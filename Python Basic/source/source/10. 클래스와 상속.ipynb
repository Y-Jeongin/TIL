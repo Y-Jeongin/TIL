{
 "cells": [
  {
   "cell_type": "markdown",
   "id": "f84de2c6",
   "metadata": {},
   "source": [
    "# 클래스"
   ]
  },
  {
   "cell_type": "code",
   "execution_count": 1,
   "id": "10be08b5",
   "metadata": {
    "ExecuteTime": {
     "end_time": "2023-08-28T00:17:20.111391Z",
     "start_time": "2023-08-28T00:17:20.105050Z"
    }
   },
   "outputs": [],
   "source": [
    "# 사람 객체를 추상화 할 목적으로 구현된 클래스\n",
    "class Person:\n",
    "    # 멤버 필드 : 변수, 인스턴스 변수(개별적인), 클래스 변수(공유 목적)\n",
    "    ## self : 인스턴스 자신의 주소값을 가르키는 키워드, 자기 자신 = this(Java)\n",
    "    ## super : 부모 객체를 가르키는 키워드\n",
    "    \n",
    "    # 생성자 메서드 : 인스턴스 객체 생성시 자동으로 호출되는 메서드\n",
    "    ## 멤버 필드를 초기화 할 목적, 객체가 생성될 때 처음으로 해야 할 작업을 기술\n",
    "    def __init__(self):\n",
    "        print(\"객체 생성\")\n",
    "    \n",
    "    # 멤버 메서드 : 함수, 행위나 동작등을 기술할 때 사용\n",
    "    def walk(self):\n",
    "        print(\"사람이 걸어갑니다.\")\n",
    "        \n",
    "    def run(self):\n",
    "        print(\"사람이 달려갑니다.\")\n",
    "    \n",
    "    # 소멸자 메서드 : 객체가 소멸될 때 자동으로 호출되는 메서드\n",
    "    def __del__(self):\n",
    "        print(\"객체 소멸\")"
   ]
  },
  {
   "cell_type": "markdown",
   "id": "d53b81d2",
   "metadata": {},
   "source": [
    "## 인스턴스 객체 생성"
   ]
  },
  {
   "cell_type": "code",
   "execution_count": 2,
   "id": "57166bce",
   "metadata": {
    "ExecuteTime": {
     "end_time": "2023-08-28T00:17:21.203008Z",
     "start_time": "2023-08-28T00:17:21.181692Z"
    }
   },
   "outputs": [
    {
     "name": "stdout",
     "output_type": "stream",
     "text": [
      "객체 생성\n",
      "사람이 걸어갑니다.\n",
      "사람이 달려갑니다.\n"
     ]
    }
   ],
   "source": [
    "p = Person()  # default 생성자\n",
    "\n",
    "p.walk()\n",
    "p.run()"
   ]
  },
  {
   "cell_type": "code",
   "execution_count": 4,
   "id": "9ed378d3",
   "metadata": {
    "ExecuteTime": {
     "end_time": "2023-08-28T00:17:44.244769Z",
     "start_time": "2023-08-28T00:17:44.232177Z"
    }
   },
   "outputs": [
    {
     "name": "stdout",
     "output_type": "stream",
     "text": [
      "객체 생성\n",
      "객체 소멸\n",
      "사람이 걸어갑니다.\n",
      "사람이 달려갑니다.\n"
     ]
    }
   ],
   "source": [
    "p1 = Person()\n",
    "\n",
    "p1.walk()\n",
    "p1.run()"
   ]
  },
  {
   "cell_type": "markdown",
   "id": "c0bd1b54",
   "metadata": {},
   "source": [
    "## Member Field"
   ]
  },
  {
   "cell_type": "code",
   "execution_count": 9,
   "id": "a101f69b",
   "metadata": {
    "ExecuteTime": {
     "end_time": "2023-08-28T00:24:16.117311Z",
     "start_time": "2023-08-28T00:24:16.104057Z"
    }
   },
   "outputs": [],
   "source": [
    "# 사람 객체를 추상화 할 목적으로 구현된 클래스\n",
    "class Person:\n",
    "    # 멤버 필드 : 변수, 인스턴스 변수(개별적인), 클래스 변수(공유 목적)\n",
    "    ## self : 인스턴스 자신의 주소값을 가르키는 키워드, 자기 자신 = this(Java)\n",
    "    ## super : 부모 객체를 가르키는 키워드\n",
    "     # name = \"\"\n",
    "    \n",
    "    # 생성자 메서드 : 인스턴스 객체 생성시 자동으로 호출되는 메서드\n",
    "    ## 멤버 필드를 초기화 할 목적, 객체가 생성될 때 처음으로 해야 할 작업을 기술\n",
    "    def __init__(self):\n",
    "        print(\"객체 생성\")\n",
    "    \n",
    "    # 멤버 메서드 : 함수, 행위나 동작등을 기술할 때 사용\n",
    "    def walk(self):\n",
    "        print(self.name + \"이 걸어갑니다.\")\n",
    "        \n",
    "    def run(self):\n",
    "        print(self.name + \"이 달려갑니다.\")\n",
    "    \n",
    "    # 소멸자 메서드 : 객체가 소멸될 때 자동으로 호출되는 메서드\n",
    "    def __del__(self):\n",
    "        print(\"객체 소멸\")"
   ]
  },
  {
   "cell_type": "code",
   "execution_count": 11,
   "id": "4f56e5fe",
   "metadata": {
    "ExecuteTime": {
     "end_time": "2023-08-28T00:25:09.567992Z",
     "start_time": "2023-08-28T00:25:09.555226Z"
    }
   },
   "outputs": [
    {
     "name": "stdout",
     "output_type": "stream",
     "text": [
      "객체 생성\n",
      "객체 소멸\n",
      "홍길동이 걸어갑니다.\n",
      "홍길동이 달려갑니다.\n"
     ]
    }
   ],
   "source": [
    "p2 = Person()\n",
    "\n",
    "# 멤버 필드를 초기화 시켜야 한다.\n",
    "p2.name = \"홍길동\"\n",
    "\n",
    "p2.walk()\n",
    "p2.run()"
   ]
  },
  {
   "cell_type": "code",
   "execution_count": 13,
   "id": "1cc3d82e",
   "metadata": {
    "ExecuteTime": {
     "end_time": "2023-08-28T00:26:35.677395Z",
     "start_time": "2023-08-28T00:26:35.664365Z"
    }
   },
   "outputs": [
    {
     "name": "stdout",
     "output_type": "stream",
     "text": [
      "객체 생성\n",
      "장보고이 걸어갑니다.\n",
      "장보고이 달려갑니다.\n"
     ]
    }
   ],
   "source": [
    "p3 = Person()\n",
    "\n",
    "# 멤버 필드 초기화 작업\n",
    "p3.name = \"장보고\"\n",
    "p3.walk()\n",
    "p3.run()"
   ]
  },
  {
   "cell_type": "markdown",
   "id": "ea3063e8",
   "metadata": {},
   "source": [
    "## 생성자 메서드"
   ]
  },
  {
   "cell_type": "code",
   "execution_count": 14,
   "id": "a5d2e2ac",
   "metadata": {
    "ExecuteTime": {
     "end_time": "2023-08-28T00:28:39.058555Z",
     "start_time": "2023-08-28T00:28:39.052164Z"
    }
   },
   "outputs": [],
   "source": [
    "# 사람 객체를 추상화 할 목적으로 구현된 클래스\n",
    "class Person:\n",
    "    # 멤버 필드 : 변수, 인스턴스 변수(개별적인), 클래스 변수(공유 목적)\n",
    "    ## self : 인스턴스 자신의 주소값을 가르키는 키워드, 자기 자신 = this(Java)\n",
    "    ## super : 부모 객체를 가르키는 키워드\n",
    "     # name = \"\"\n",
    "    \n",
    "    # 생성자 메서드 : 인스턴스 객체 생성시 자동으로 호출되는 메서드\n",
    "    ## 멤버 필드를 초기화 할 목적, 객체가 생성될 때 처음으로 해야 할 작업을 기술\n",
    "    def __init__(self, name):\n",
    "        print(\"객체 생성\")\n",
    "        self.name = name\n",
    "    \n",
    "    # 멤버 메서드 : 함수, 행위나 동작등을 기술할 때 사용\n",
    "    def walk(self):\n",
    "        print(self.name + \"이 걸어갑니다.\")\n",
    "        \n",
    "    def run(self):\n",
    "        print(self.name + \"이 달려갑니다.\")\n",
    "    \n",
    "    # 소멸자 메서드 : 객체가 소멸될 때 자동으로 호출되는 메서드\n",
    "    def __del__(self):\n",
    "        print(\"객체 소멸\")"
   ]
  },
  {
   "cell_type": "code",
   "execution_count": 18,
   "id": "951c91cd",
   "metadata": {
    "ExecuteTime": {
     "end_time": "2023-08-28T00:29:21.389079Z",
     "start_time": "2023-08-28T00:29:21.375241Z"
    }
   },
   "outputs": [
    {
     "name": "stdout",
     "output_type": "stream",
     "text": [
      "객체 생성\n",
      "객체 소멸\n",
      "이순신이 걸어갑니다.\n",
      "이순신이 달려갑니다.\n"
     ]
    }
   ],
   "source": [
    "p4 = Person(\"이순신\")\n",
    "\n",
    "p4.walk()\n",
    "p4.run()"
   ]
  },
  {
   "cell_type": "markdown",
   "id": "1bd43f99",
   "metadata": {},
   "source": [
    "## Person 객체가 생성될 때 해당 클래스로 만든 객체의 수를 카운트하는 값"
   ]
  },
  {
   "cell_type": "code",
   "execution_count": 27,
   "id": "c4a141ee",
   "metadata": {
    "ExecuteTime": {
     "end_time": "2023-08-28T00:38:27.264340Z",
     "start_time": "2023-08-28T00:38:27.250812Z"
    }
   },
   "outputs": [],
   "source": [
    "# 사람 객체를 추상화 할 목적으로 구현된 클래스\n",
    "class Person:\n",
    "    # 멤버 필드 : 변수, 인스턴스 변수(개별적인), 클래스 변수(공유 목적)\n",
    "    ## self : 인스턴스 자신의 주소값을 가르키는 키워드, 자기 자신 = this(Java)\n",
    "    ## super : 부모 객체를 가르키는 키워드\n",
    "     # name = \"\"\n",
    "    count = 0  # 객체가 생성될 때마다 1씩 증가하는 누적 변수\n",
    "    \n",
    "    # 생성자 메서드 : 인스턴스 객체 생성시 자동으로 호출되는 메서드\n",
    "    ## 멤버 필드를 초기화 할 목적, 객체가 생성될 때 처음으로 해야 할 작업을 기술\n",
    "    def __init__(self, name):\n",
    "        print(\"객체 생성\")\n",
    "        self.name = name\n",
    "        Person.count += 1\n",
    "    \n",
    "    # 멤버 메서드 : 함수, 행위나 동작등을 기술할 때 사용\n",
    "    def walk(self):\n",
    "        print(self.name + \"이 걸어갑니다.\")\n",
    "        \n",
    "    def run(self):\n",
    "        print(self.name + \"이 달려갑니다.\")\n",
    "        \n",
    "    def show(self):\n",
    "        print(\"생성된 객체 수 : \", Person.count)\n",
    "    \n",
    "    # 소멸자 메서드 : 객체가 소멸될 때 자동으로 호출되는 메서드\n",
    "    def __del__(self):\n",
    "        print(\"객체 소멸\")"
   ]
  },
  {
   "cell_type": "code",
   "execution_count": 28,
   "id": "aa946f5f",
   "metadata": {
    "ExecuteTime": {
     "end_time": "2023-08-28T00:38:29.440876Z",
     "start_time": "2023-08-28T00:38:29.428607Z"
    }
   },
   "outputs": [
    {
     "name": "stdout",
     "output_type": "stream",
     "text": [
      "객체 생성\n",
      "객체 소멸\n",
      "생성된 객체 수 :  1\n"
     ]
    }
   ],
   "source": [
    "p1 = Person(\"aaa\")\n",
    "\n",
    "p1.show()"
   ]
  },
  {
   "cell_type": "code",
   "execution_count": 29,
   "id": "d3a75159",
   "metadata": {
    "ExecuteTime": {
     "end_time": "2023-08-28T00:38:30.416172Z",
     "start_time": "2023-08-28T00:38:30.405450Z"
    }
   },
   "outputs": [
    {
     "name": "stdout",
     "output_type": "stream",
     "text": [
      "객체 생성\n",
      "객체 소멸\n",
      "객체 생성\n",
      "객체 소멸\n",
      "생성된 객체 수 :  3\n"
     ]
    }
   ],
   "source": [
    "p1 = Person(\"aaa\")\n",
    "p2 = Person(\"bbb\")\n",
    "\n",
    "p1.show()"
   ]
  },
  {
   "cell_type": "markdown",
   "id": "323a843d",
   "metadata": {},
   "source": [
    "## 클래스 변수 : 모든 인스턴스가 공유할 목적으로 구현하는 변수"
   ]
  },
  {
   "cell_type": "code",
   "execution_count": 30,
   "id": "1533f725",
   "metadata": {
    "ExecuteTime": {
     "end_time": "2023-08-28T00:43:57.090343Z",
     "start_time": "2023-08-28T00:43:57.080185Z"
    }
   },
   "outputs": [],
   "source": [
    "class Person:\n",
    "    # 멤버 필드 = 프로퍼티(Property)\n",
    "    name = \"kim\"\n",
    "    age = 20\n",
    "    height = 180.5\n",
    "    \n",
    "    # 멤버 메서드\n",
    "    def disp(self):\n",
    "        ## self.변수 : 인스턴스 변수 - 개별적인 값\n",
    "        print(\"이름 : \", self.name)\n",
    "        print(\"나이 : \", self.age)\n",
    "        print(\"신장 : \", self.height)\n",
    "        print(\"-\" * 50)\n",
    "        ## class명.변수 : 클래스 변수 - 공유의 값\n",
    "        print(\"이름 : \", Person.name)\n",
    "        print(\"나이 : \", Person.age)\n",
    "        print(\"신장 : \", Person.height)"
   ]
  },
  {
   "cell_type": "code",
   "execution_count": 32,
   "id": "cf94839a",
   "metadata": {
    "ExecuteTime": {
     "end_time": "2023-08-28T00:45:00.646105Z",
     "start_time": "2023-08-28T00:45:00.635969Z"
    }
   },
   "outputs": [
    {
     "name": "stdout",
     "output_type": "stream",
     "text": [
      "이름 :  kim\n",
      "나이 :  20\n",
      "신장 :  180.5\n",
      "--------------------------------------------------\n",
      "이름 :  kim\n",
      "나이 :  20\n",
      "신장 :  180.5\n"
     ]
    }
   ],
   "source": [
    "p1 = Person()\n",
    "\n",
    "p1.disp()"
   ]
  },
  {
   "cell_type": "code",
   "execution_count": 33,
   "id": "a91d3af0",
   "metadata": {
    "ExecuteTime": {
     "end_time": "2023-08-28T00:45:35.623253Z",
     "start_time": "2023-08-28T00:45:35.607910Z"
    }
   },
   "outputs": [
    {
     "name": "stdout",
     "output_type": "stream",
     "text": [
      "객체 소멸\n",
      "이름 :  park\n",
      "나이 :  15\n",
      "신장 :  160.3\n",
      "--------------------------------------------------\n",
      "이름 :  kim\n",
      "나이 :  20\n",
      "신장 :  180.5\n"
     ]
    }
   ],
   "source": [
    "p2 = Person()\n",
    "\n",
    "p2.name = \"park\"\n",
    "p2.age = 15\n",
    "p2.height = 160.3\n",
    "\n",
    "p2.disp()"
   ]
  },
  {
   "cell_type": "code",
   "execution_count": 34,
   "id": "8f7ed0c8",
   "metadata": {
    "ExecuteTime": {
     "end_time": "2023-08-28T00:47:04.589807Z",
     "start_time": "2023-08-28T00:47:04.584797Z"
    }
   },
   "outputs": [
    {
     "name": "stdout",
     "output_type": "stream",
     "text": [
      "객체 소멸\n",
      "이름 :  park\n",
      "나이 :  15\n",
      "신장 :  160.3\n",
      "--------------------------------------------------\n",
      "이름 :  kim\n",
      "나이 :  20\n",
      "신장 :  180.5\n"
     ]
    }
   ],
   "source": [
    "p3 = p2  # 객체 복사, 주소를 가지고 있음\n",
    "\n",
    "p3.disp()"
   ]
  },
  {
   "cell_type": "code",
   "execution_count": 35,
   "id": "9e9b7f11",
   "metadata": {
    "ExecuteTime": {
     "end_time": "2023-08-28T00:47:27.131476Z",
     "start_time": "2023-08-28T00:47:27.116611Z"
    }
   },
   "outputs": [
    {
     "name": "stdout",
     "output_type": "stream",
     "text": [
      "이름 :  hong\n",
      "나이 :  15\n",
      "신장 :  160.3\n",
      "--------------------------------------------------\n",
      "이름 :  kim\n",
      "나이 :  20\n",
      "신장 :  180.5\n"
     ]
    }
   ],
   "source": [
    "p3.name = \"hong\"\n",
    "\n",
    "p3.disp()"
   ]
  },
  {
   "cell_type": "code",
   "execution_count": 36,
   "id": "ca0e01ff",
   "metadata": {
    "ExecuteTime": {
     "end_time": "2023-08-28T00:47:36.295642Z",
     "start_time": "2023-08-28T00:47:36.279643Z"
    }
   },
   "outputs": [
    {
     "name": "stdout",
     "output_type": "stream",
     "text": [
      "이름 :  hong\n",
      "나이 :  15\n",
      "신장 :  160.3\n",
      "--------------------------------------------------\n",
      "이름 :  kim\n",
      "나이 :  20\n",
      "신장 :  180.5\n"
     ]
    }
   ],
   "source": [
    "p2.disp()  # p3.name을 변경하니 p2.name도 함께 변경(주소를 공유하기 때문에)"
   ]
  },
  {
   "cell_type": "markdown",
   "id": "afc7a5b9",
   "metadata": {},
   "source": [
    "## default parameter : 매개변수의 초기화"
   ]
  },
  {
   "cell_type": "code",
   "execution_count": 37,
   "id": "56f7fc01",
   "metadata": {
    "ExecuteTime": {
     "end_time": "2023-08-28T01:02:23.792382Z",
     "start_time": "2023-08-28T01:02:23.780963Z"
    }
   },
   "outputs": [],
   "source": [
    "class Member:\n",
    "    # 생성자 메서드\n",
    "    def __init__(self, userid, pwd, name):\n",
    "        self.userid = userid\n",
    "        self.pwd = pwd\n",
    "        self.name = name\n",
    "        \n",
    "    def show(self):\n",
    "        print(\"id : \", self.userid)\n",
    "        print(\"pass : \", self.pwd)\n",
    "        print(\"name : \", self.name)"
   ]
  },
  {
   "cell_type": "code",
   "execution_count": 38,
   "id": "97893984",
   "metadata": {
    "ExecuteTime": {
     "end_time": "2023-08-28T01:02:37.374666Z",
     "start_time": "2023-08-28T01:02:37.356849Z"
    }
   },
   "outputs": [
    {
     "name": "stdout",
     "output_type": "stream",
     "text": [
      "id :  aaa\n",
      "pass :  1234\n",
      "name :  홍길동\n"
     ]
    }
   ],
   "source": [
    "m = Member('aaa', '1234', '홍길동')\n",
    "\n",
    "m.show()"
   ]
  },
  {
   "cell_type": "code",
   "execution_count": 39,
   "id": "59b90d3b",
   "metadata": {
    "ExecuteTime": {
     "end_time": "2023-08-28T01:04:13.003391Z",
     "start_time": "2023-08-28T01:04:12.986873Z"
    }
   },
   "outputs": [],
   "source": [
    "class Member:\n",
    "    # 생성자 메서드\n",
    "    def __init__(self, userid, pwd, name = \"\", age = 0):\n",
    "        self.userid = userid\n",
    "        self.pwd = pwd\n",
    "        self.name = name\n",
    "        self.age = age\n",
    "        \n",
    "    def show(self):\n",
    "        print(\"id : \", self.userid)\n",
    "        print(\"pass : \", self.pwd)\n",
    "        print(\"name : \", self.name)\n",
    "        print(\"age : \", self.age)"
   ]
  },
  {
   "cell_type": "code",
   "execution_count": 42,
   "id": "aedfa9bf",
   "metadata": {
    "ExecuteTime": {
     "end_time": "2023-08-28T01:05:01.360679Z",
     "start_time": "2023-08-28T01:05:01.355505Z"
    }
   },
   "outputs": [
    {
     "name": "stdout",
     "output_type": "stream",
     "text": [
      "id :  bbb\n",
      "pass :  1234\n",
      "name :  \n",
      "age :  0\n"
     ]
    }
   ],
   "source": [
    "m1 = Member('bbb', '1234')\n",
    "\n",
    "m1.show()"
   ]
  },
  {
   "cell_type": "code",
   "execution_count": 44,
   "id": "71791ef3",
   "metadata": {
    "ExecuteTime": {
     "end_time": "2023-08-28T01:05:39.314970Z",
     "start_time": "2023-08-28T01:05:39.302017Z"
    }
   },
   "outputs": [
    {
     "name": "stdout",
     "output_type": "stream",
     "text": [
      "id :  ccc\n",
      "pass :  1234\n",
      "name :  강아지\n",
      "age :  4\n"
     ]
    }
   ],
   "source": [
    "m2 = Member('ccc', '1234', '강아지', 4)\n",
    "\n",
    "m2.show()"
   ]
  },
  {
   "cell_type": "markdown",
   "id": "fd55d437",
   "metadata": {},
   "source": [
    "# 상속\n",
    "\n",
    "- 기반 클래스, 부모 클래스, 슈퍼 클래스\n",
    "- 파생 클래스, 자녀 클래스, 서브 클래스"
   ]
  },
  {
   "cell_type": "code",
   "execution_count": 45,
   "id": "85a50a8f",
   "metadata": {
    "ExecuteTime": {
     "end_time": "2023-08-28T01:08:01.929152Z",
     "start_time": "2023-08-28T01:08:01.911512Z"
    }
   },
   "outputs": [],
   "source": [
    "# 상속의 기본구문\n",
    "class 기반클래스이름:\n",
    "    pass\n",
    "\n",
    "class 파생클래스이름(기반클래스이름):\n",
    "    pass"
   ]
  },
  {
   "cell_type": "code",
   "execution_count": 46,
   "id": "7ebc466d",
   "metadata": {
    "ExecuteTime": {
     "end_time": "2023-08-28T01:08:54.946245Z",
     "start_time": "2023-08-28T01:08:54.937195Z"
    }
   },
   "outputs": [],
   "source": [
    "class Person:\n",
    "    def greeting(self):\n",
    "        print(\"안녕하세요.\")\n",
    "        \n",
    "class Student(Person):\n",
    "    def study(self):\n",
    "        print(\"공부하기\")"
   ]
  },
  {
   "cell_type": "code",
   "execution_count": 48,
   "id": "f3c46ec2",
   "metadata": {
    "ExecuteTime": {
     "end_time": "2023-08-28T01:10:06.771625Z",
     "start_time": "2023-08-28T01:10:06.759379Z"
    }
   },
   "outputs": [
    {
     "name": "stdout",
     "output_type": "stream",
     "text": [
      "안녕하세요.\n",
      "공부하기\n"
     ]
    }
   ],
   "source": [
    "# 상속의 기본 : 자식 객체를 이용해 부모 객체에 접근이 허용된다.\n",
    "a = Student()\n",
    "\n",
    "a.greeting()\n",
    "a.study()"
   ]
  },
  {
   "cell_type": "code",
   "execution_count": 49,
   "id": "4e29a2eb",
   "metadata": {
    "ExecuteTime": {
     "end_time": "2023-08-28T01:10:55.065984Z",
     "start_time": "2023-08-28T01:10:55.044609Z"
    }
   },
   "outputs": [
    {
     "data": {
      "text/plain": [
       "True"
      ]
     },
     "execution_count": 49,
     "metadata": {},
     "output_type": "execute_result"
    }
   ],
   "source": [
    "# 상속관계확인\n",
    "issubclass(Student, Person)"
   ]
  },
  {
   "cell_type": "code",
   "execution_count": 55,
   "id": "4cf11846",
   "metadata": {
    "ExecuteTime": {
     "end_time": "2023-08-28T01:18:37.033885Z",
     "start_time": "2023-08-28T01:18:37.023675Z"
    }
   },
   "outputs": [],
   "source": [
    "# 반드시 자식 객체는 부모 객체의 멤버를 초기화시킬 의무가 있다.\n",
    "## 부모 객체가 생성자 메서드를 가지고 있다면 반드시 자식 객체도 생성자 메서드를 기술해야 한다.\n",
    "class Person:\n",
    "    def __init__(self):\n",
    "        print(\"Person.__init__\")\n",
    "        self.hello = \"안녕하세요.\"\n",
    "        \n",
    "class Student(Person):\n",
    "    def __init__(self):\n",
    "        # Person.__init__()\n",
    "        super().__init__()\n",
    "        print(\"Student.__init__\")\n",
    "        self.school = \"파이썬 공부\""
   ]
  },
  {
   "cell_type": "code",
   "execution_count": 56,
   "id": "89aa628b",
   "metadata": {
    "ExecuteTime": {
     "end_time": "2023-08-28T01:18:37.730423Z",
     "start_time": "2023-08-28T01:18:37.722378Z"
    }
   },
   "outputs": [
    {
     "name": "stdout",
     "output_type": "stream",
     "text": [
      "Person.__init__\n",
      "Student.__init__\n",
      "파이썬 공부\n",
      "안녕하세요.\n"
     ]
    }
   ],
   "source": [
    "b = Student()\n",
    "\n",
    "print(b.school)\n",
    "print(b.hello)"
   ]
  },
  {
   "cell_type": "markdown",
   "id": "85173810",
   "metadata": {},
   "source": [
    "## 오버라이딩(Overriding) : 재정의"
   ]
  },
  {
   "cell_type": "code",
   "execution_count": 63,
   "id": "f0c4bfe3",
   "metadata": {
    "ExecuteTime": {
     "end_time": "2023-08-28T01:24:28.926700Z",
     "start_time": "2023-08-28T01:24:28.918726Z"
    }
   },
   "outputs": [],
   "source": [
    "class Person:\n",
    "    def greeting(self):\n",
    "        print('안녕하세요.')\n",
    "        \n",
    "class Student(Person):\n",
    "    def greeting(self):\n",
    "        Person.greeting(self)\n",
    "        print('나는 파이썬을 공부하는 학생입니다.')"
   ]
  },
  {
   "cell_type": "code",
   "execution_count": 64,
   "id": "c01bc255",
   "metadata": {
    "ExecuteTime": {
     "end_time": "2023-08-28T01:24:29.234409Z",
     "start_time": "2023-08-28T01:24:29.219128Z"
    }
   },
   "outputs": [
    {
     "name": "stdout",
     "output_type": "stream",
     "text": [
      "안녕하세요.\n",
      "나는 파이썬을 공부하는 학생입니다.\n"
     ]
    }
   ],
   "source": [
    "# 부모와 자식객체가 같은 이름의 메서드를 가질 수 있다.\n",
    "# 해당 메서드를 호출하면 자식 객체의 메서드가 호출된다.\n",
    "\n",
    "c = Student()\n",
    "c.greeting()"
   ]
  },
  {
   "cell_type": "markdown",
   "id": "c6acfcac",
   "metadata": {},
   "source": [
    "## 도형을 입력받아 출력하는 프로그램  <br>\n",
    "  \n",
    "### 처리조건\n",
    "1. 10개의 도형을 입력받아 출력하는 프로그램을 구현한다.\n",
    "2. 도형은 사용자가 원하는 객체를 받아서 처리하도록 구현한다.\n",
    "3. 원, 사각형 중 선택하여 입력받되, 10개가 넘으면 입력을 받을 수 없도록 구현한다.\n",
    "4. 주어진 입출력 형식에 맞게 프로그램을 구현할 것   <br><br>\n",
    "\n",
    "### 입력 및 출력형식\n",
    "입력(1.원 2.사각형 3.도형출력 4.종료)  \n",
    "선택 = 1  \n",
    "x = 6  \n",
    "y = 9  \n",
    "r = 5  \n",
    "  <br>\n",
    "입력(1.원 2.사각형 3.도형출력 4.종료)   \n",
    "선택 = 2  \n",
    "x = 3  \n",
    "y = 3  \n",
    "h = 7  \n",
    "w = 20  \n",
    "  <br>\n",
    "입력(1.원 2.사각형 3.도형출력 4.종료)   \n",
    "선택 = 3  \n",
    "점(x, y) = (6, 9)  \n",
    "반지름(r) = 5  \n",
    "  <br>\n",
    "점(x, y) = (3, 3)  \n",
    "높이(h) = 7, 너비(w) = 20  \n",
    "  <br>\n",
    "입력(1.원 2.사각형 3.도형출력 4.종료)   \n",
    "선택 = "
   ]
  },
  {
   "cell_type": "code",
   "execution_count": 65,
   "id": "095951fb",
   "metadata": {
    "ExecuteTime": {
     "end_time": "2023-08-28T01:36:15.139678Z",
     "start_time": "2023-08-28T01:36:15.123374Z"
    }
   },
   "outputs": [],
   "source": [
    "# 기반 클래스\n",
    "## 평면 위의 한 점을 추상화하는 클래스\n",
    "class Point:\n",
    "    # 멤버 필드\n",
    "    \n",
    "    # 생성자 메서드\n",
    "    def __init__(self):\n",
    "        self.x = eval(input('x = '))\n",
    "        self.y = eval(input('y = '))\n",
    "    \n",
    "    # 멤버 메서드\n",
    "    def disp(self):\n",
    "        print(f\"점(x, y) = ({self.x}, {self.y})\")"
   ]
  },
  {
   "cell_type": "code",
   "execution_count": 66,
   "id": "2f13fff6",
   "metadata": {
    "ExecuteTime": {
     "end_time": "2023-08-28T01:37:12.860654Z",
     "start_time": "2023-08-28T01:36:30.103854Z"
    }
   },
   "outputs": [
    {
     "name": "stdout",
     "output_type": "stream",
     "text": [
      "x = 4\n",
      "y = 4\n",
      "점(x, y) = (4, 4)\n"
     ]
    }
   ],
   "source": [
    "ap = Point()  # __init__ 호출\n",
    "ap.disp()"
   ]
  },
  {
   "cell_type": "code",
   "execution_count": 68,
   "id": "39a2233e",
   "metadata": {
    "ExecuteTime": {
     "end_time": "2023-08-28T01:40:42.894050Z",
     "start_time": "2023-08-28T01:40:42.876810Z"
    }
   },
   "outputs": [],
   "source": [
    "# 파생 클래스\n",
    "## 반지름을 입력받아 원을 추상화하는 클래스\n",
    "class Circle(Point):\n",
    "    # 생성자 메서드\n",
    "    def __init__(self):\n",
    "        Point.__init__(self)\n",
    "        self.r = eval(input('r = '))\n",
    "        \n",
    "    # 멤버 메서드 : 오버라이딩\n",
    "    def disp(self):\n",
    "        Point.disp(self)\n",
    "        print(f'반지름(r) = {self.r}')"
   ]
  },
  {
   "cell_type": "code",
   "execution_count": 70,
   "id": "e1621ee3",
   "metadata": {
    "ExecuteTime": {
     "end_time": "2023-08-28T01:41:41.546403Z",
     "start_time": "2023-08-28T01:41:33.990812Z"
    }
   },
   "outputs": [
    {
     "name": "stdout",
     "output_type": "stream",
     "text": [
      "x = 3\n",
      "y = 3\n",
      "r = 5\n",
      "점(x, y) = (3, 3)\n",
      "반지름(r) = 5\n"
     ]
    }
   ],
   "source": [
    "ac = Circle()\n",
    "ac.disp()"
   ]
  },
  {
   "cell_type": "code",
   "execution_count": 71,
   "id": "0527e71b",
   "metadata": {
    "ExecuteTime": {
     "end_time": "2023-08-28T01:44:26.127350Z",
     "start_time": "2023-08-28T01:44:26.112160Z"
    }
   },
   "outputs": [],
   "source": [
    "# 파생 클래스\n",
    "# 가로와 세로 길이를 이용한 사각형을 추상화하는 클래스\n",
    "class Rect(Point):\n",
    "    def __init__(self):\n",
    "        Point.__init__(self)\n",
    "        self.h = eval(input('h = '))\n",
    "        self.w = eval(input('w = '))\n",
    "        \n",
    "    def disp(self):\n",
    "        Point.disp(self)\n",
    "        print(f\"높이(h) = {self.h}, 너비(w) = {self.w}\")"
   ]
  },
  {
   "cell_type": "code",
   "execution_count": 73,
   "id": "c936ea27",
   "metadata": {
    "ExecuteTime": {
     "end_time": "2023-08-28T01:46:20.531539Z",
     "start_time": "2023-08-28T01:46:09.597210Z"
    }
   },
   "outputs": [
    {
     "name": "stdout",
     "output_type": "stream",
     "text": [
      "x = 3\n",
      "y = 3\n",
      "h = 10\n",
      "w = 9\n",
      "점(x, y) = (3, 3)\n",
      "높이(h) = 10, 너비(w) = 9\n"
     ]
    }
   ],
   "source": [
    "ar = Rect()\n",
    "ar.disp()"
   ]
  },
  {
   "cell_type": "code",
   "execution_count": 75,
   "id": "a29c5173",
   "metadata": {
    "ExecuteTime": {
     "end_time": "2023-08-28T02:12:28.413086Z",
     "start_time": "2023-08-28T02:12:02.611352Z"
    }
   },
   "outputs": [
    {
     "name": "stdout",
     "output_type": "stream",
     "text": [
      "\n",
      "도형(1.원 2.사각형 3.도형출력 4.종료) = \n",
      "선택 = 1\n",
      "x = 3\n",
      "y = 3\n",
      "r = 5\n",
      "도형이 입력되었습니다.\n",
      "\n",
      "도형(1.원 2.사각형 3.도형출력 4.종료) = \n",
      "선택 = 2\n",
      "x = 10\n",
      "y = 10\n",
      "h = 20\n",
      "w = 30\n",
      "도형이 입력되었습니다.\n",
      "\n",
      "도형(1.원 2.사각형 3.도형출력 4.종료) = \n",
      "선택 = 3\n",
      "점(x, y) = (3, 3)\n",
      "반지름(r) = 5\n",
      "점(x, y) = (10, 10)\n",
      "높이(h) = 20, 너비(w) = 30\n",
      "\n",
      "도형(1.원 2.사각형 3.도형출력 4.종료) = \n",
      "선택 = 2\n",
      "x = 3\n",
      "y = 4\n",
      "h = 5\n",
      "w = 6\n",
      "도형이 입력되었습니다.\n",
      "\n",
      "도형(1.원 2.사각형 3.도형출력 4.종료) = \n",
      "선택 = 3\n",
      "점(x, y) = (3, 3)\n",
      "반지름(r) = 5\n",
      "점(x, y) = (10, 10)\n",
      "높이(h) = 20, 너비(w) = 30\n",
      "점(x, y) = (3, 4)\n",
      "높이(h) = 5, 너비(w) = 6\n",
      "\n",
      "도형(1.원 2.사각형 3.도형출력 4.종료) = \n",
      "선택 = 4\n",
      "프로그램을 종료합니다.\n"
     ]
    }
   ],
   "source": [
    "# main processor\n",
    "\n",
    "## 컨테이너 객체\n",
    "data = list()\n",
    "\n",
    "for i in range(10):\n",
    "    # 메뉴 출력\n",
    "    print(\"\\n도형(1.원 2.사각형 3.도형출력 4.종료) = \")\n",
    "    menu = int(input(\"선택 = \"))\n",
    "    \n",
    "    # 선택에 따른 로직 구현\n",
    "    if menu == 1:\n",
    "        c = Circle()\n",
    "        data.append(c)\n",
    "        print(\"도형이 입력되었습니다.\")\n",
    "    \n",
    "    elif menu == 2:\n",
    "        r = Rect()\n",
    "        data.append(r)\n",
    "        print(\"도형이 입력되었습니다.\")\n",
    "    \n",
    "    elif menu == 3:\n",
    "        if len(data) == 0:\n",
    "            print(\"입력된 도형이 존재하지 않습니다.\")\n",
    "        else:\n",
    "            for a in data:\n",
    "                a.disp()\n",
    "\n",
    "        # 도형입력이 아니므로 i가 누적된걸 빼줘야한다.\n",
    "        i -= 1\n",
    "        \n",
    "    elif menu == 4:\n",
    "        # 리스트 객체(모든 요소) 삭제\n",
    "        data.clear()\n",
    "        break\n",
    "        \n",
    "    else:\n",
    "        print(\"메뉴의 선택이 올바르지 않습니다.\")\n",
    "        \n",
    "        # 도형입력이 아니므로 i가 누적된걸 빼줘야한다.\n",
    "        i -= 1\n",
    "        \n",
    "# for문을 벗어나면 작업 종료를 알리는 메세지\n",
    "print(\"프로그램을 종료합니다.\")"
   ]
  },
  {
   "cell_type": "markdown",
   "id": "96886d55",
   "metadata": {},
   "source": [
    "## 다중상속"
   ]
  },
  {
   "cell_type": "code",
   "execution_count": 76,
   "id": "546ad7d4",
   "metadata": {
    "ExecuteTime": {
     "end_time": "2023-08-28T02:20:46.880631Z",
     "start_time": "2023-08-28T02:20:46.862841Z"
    }
   },
   "outputs": [],
   "source": [
    "class Phone:\n",
    "    def call(self):\n",
    "        print('통화 가능')\n",
    "        \n",
    "class Camera:\n",
    "    def picture(self):\n",
    "        print('촬영 가능')\n",
    "        \n",
    "# 다중 상속 구문\n",
    "class CameraPhone(Phone, Camera):\n",
    "    def pictureCall(slef):\n",
    "        print('영상통화 가능')"
   ]
  },
  {
   "cell_type": "code",
   "execution_count": 77,
   "id": "a90745f5",
   "metadata": {
    "ExecuteTime": {
     "end_time": "2023-08-28T02:21:33.527400Z",
     "start_time": "2023-08-28T02:21:33.517434Z"
    }
   },
   "outputs": [
    {
     "name": "stdout",
     "output_type": "stream",
     "text": [
      "객체 소멸\n",
      "영상통화 가능\n",
      "촬영 가능\n",
      "통화 가능\n"
     ]
    }
   ],
   "source": [
    "p = CameraPhone()\n",
    "\n",
    "p.pictureCall()\n",
    "p.picture()\n",
    "p.call()"
   ]
  },
  {
   "cell_type": "markdown",
   "id": "dfb39a87",
   "metadata": {},
   "source": [
    "# 파이썬 언더바, 언더스코어, 밑줄 개념"
   ]
  },
  {
   "cell_type": "markdown",
   "id": "15cb4de5",
   "metadata": {},
   "source": [
    "## 언더바(언더스코어, 밑줄)\n",
    "- 인터프리터에서의 마지막 값\n",
    "- 무시하는 값\n",
    "- 숫자 자릿수 구분\n",
    "- (앞 언더바 1개) 모듈내에서만 변수/함수를 사용할 때\n",
    "- (뒤 언더바 1개) 파이썬 변수/함수명 충돌을 피하기 위해\n",
    "- (앞 언더바 2개) 네임 맹글링\n",
    "- (앞뒤 언더바 2개씩) 매직 메소드"
   ]
  },
  {
   "cell_type": "code",
   "execution_count": 78,
   "id": "15c50c69",
   "metadata": {
    "ExecuteTime": {
     "end_time": "2023-08-28T02:27:13.542621Z",
     "start_time": "2023-08-28T02:27:13.530528Z"
    }
   },
   "outputs": [
    {
     "data": {
      "text/plain": [
       "7"
      ]
     },
     "execution_count": 78,
     "metadata": {},
     "output_type": "execute_result"
    }
   ],
   "source": [
    "3 + 4"
   ]
  },
  {
   "cell_type": "code",
   "execution_count": 79,
   "id": "3a847246",
   "metadata": {
    "ExecuteTime": {
     "end_time": "2023-08-28T02:27:18.620033Z",
     "start_time": "2023-08-28T02:27:18.604896Z"
    }
   },
   "outputs": [
    {
     "data": {
      "text/plain": [
       "10"
      ]
     },
     "execution_count": 79,
     "metadata": {},
     "output_type": "execute_result"
    }
   ],
   "source": [
    "_ + 3"
   ]
  },
  {
   "cell_type": "code",
   "execution_count": 80,
   "id": "f635aaf5",
   "metadata": {
    "ExecuteTime": {
     "end_time": "2023-08-28T02:28:28.421502Z",
     "start_time": "2023-08-28T02:28:28.409616Z"
    }
   },
   "outputs": [
    {
     "name": "stdout",
     "output_type": "stream",
     "text": [
      "hi\n",
      "hi\n",
      "hi\n",
      "hi\n",
      "hi\n"
     ]
    }
   ],
   "source": [
    "for i in range(5):  # 0, 1, 2, 3, 4\n",
    "    print('hi')"
   ]
  },
  {
   "cell_type": "code",
   "execution_count": 81,
   "id": "a663f415",
   "metadata": {
    "ExecuteTime": {
     "end_time": "2023-08-28T02:29:02.491167Z",
     "start_time": "2023-08-28T02:29:02.474108Z"
    }
   },
   "outputs": [
    {
     "name": "stdout",
     "output_type": "stream",
     "text": [
      "hi\n",
      "hi\n",
      "hi\n",
      "hi\n",
      "hi\n"
     ]
    }
   ],
   "source": [
    "for _ in range(5):  # 변수 i 미사용으로 변수의 사용이 필요없어 _로 대체\n",
    "    print('hi')"
   ]
  },
  {
   "cell_type": "code",
   "execution_count": 82,
   "id": "be5d07ec",
   "metadata": {
    "ExecuteTime": {
     "end_time": "2023-08-28T02:30:48.586498Z",
     "start_time": "2023-08-28T02:30:48.579418Z"
    }
   },
   "outputs": [
    {
     "name": "stdout",
     "output_type": "stream",
     "text": [
      "1\n",
      "2\n",
      "3\n",
      "4\n",
      "5\n"
     ]
    }
   ],
   "source": [
    "a = [1, 2, 3, 4, 5]  # packing(패킹)\n",
    "aa, bb, _, dd, ee = a  #unpacking(언패킹)\n",
    "print(aa)\n",
    "print(bb)\n",
    "print(_)\n",
    "print(dd)\n",
    "print(ee)"
   ]
  },
  {
   "cell_type": "code",
   "execution_count": 83,
   "id": "fc559097",
   "metadata": {
    "ExecuteTime": {
     "end_time": "2023-08-28T02:32:30.643381Z",
     "start_time": "2023-08-28T02:32:30.640212Z"
    }
   },
   "outputs": [
    {
     "name": "stdout",
     "output_type": "stream",
     "text": [
      "1\n",
      "2 3 4\n",
      "5\n"
     ]
    }
   ],
   "source": [
    "# 가변길이 매개 변수 : *변수명\n",
    "list01 = [1, 2, 3, 4, 5]\n",
    "a, *_, e = list01\n",
    "print(a)\n",
    "print(*_)\n",
    "print(e)"
   ]
  },
  {
   "cell_type": "code",
   "execution_count": 84,
   "id": "beca8fbd",
   "metadata": {
    "ExecuteTime": {
     "end_time": "2023-08-28T02:34:01.167826Z",
     "start_time": "2023-08-28T02:34:01.163817Z"
    }
   },
   "outputs": [
    {
     "name": "stdout",
     "output_type": "stream",
     "text": [
      "100000\n",
      "100000\n",
      "100000\n"
     ]
    }
   ],
   "source": [
    "num1 = 100000\n",
    "num2 = 100_000\n",
    "num3 = 10_0_00_0\n",
    "print(num1)\n",
    "print(num2)\n",
    "print(num3)"
   ]
  }
 ],
 "metadata": {
  "kernelspec": {
   "display_name": "Python 3",
   "language": "python",
   "name": "python3"
  },
  "language_info": {
   "codemirror_mode": {
    "name": "ipython",
    "version": 3
   },
   "file_extension": ".py",
   "mimetype": "text/x-python",
   "name": "python",
   "nbconvert_exporter": "python",
   "pygments_lexer": "ipython3",
   "version": "3.8.8"
  },
  "toc": {
   "base_numbering": 1,
   "nav_menu": {},
   "number_sections": true,
   "sideBar": true,
   "skip_h1_title": false,
   "title_cell": "Table of Contents",
   "title_sidebar": "Contents",
   "toc_cell": false,
   "toc_position": {
    "height": "calc(100% - 180px)",
    "left": "10px",
    "top": "150px",
    "width": "235px"
   },
   "toc_section_display": true,
   "toc_window_display": true
  }
 },
 "nbformat": 4,
 "nbformat_minor": 5
}
