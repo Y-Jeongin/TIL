{
 "cells": [
  {
   "cell_type": "markdown",
   "id": "e5967502",
   "metadata": {},
   "source": [
    "# 양의 정수를 1, 2, 4 세개의 수로만 표현하는 프로그램을 구현하시오.\n",
    "<br>\n",
    "\n",
    "- 3으로 나눈 경우의 몫과 나머지를 이용 : divmod(숫자, 나누는 수) → 몫과 나머지\n",
    "- 나머지의 표현을 0이면 4, 1이면 1, 2이면 2로 표현할 것.\n",
    "- 1부터 200까지의 수를 이용하여 구현할 것."
   ]
  },
  {
   "cell_type": "code",
   "execution_count": null,
   "id": "7858a2cb",
   "metadata": {
    "ExecuteTime": {
     "end_time": "2023-09-01T00:13:20.445917Z",
     "start_time": "2023-09-01T00:13:18.199242Z"
    }
   },
   "outputs": [],
   "source": [
    "def onetwofour(number): # 1 ~ number 사이의 수를 대상으로 처리\n",
    "    # 0을 제외한 숫자는 모두 참으로 간주\n",
    "    while number:\n",
    "        # divmod(a, b) : a를 b로 나눈 몫과 나머지를 반환하는 함수\n",
    "        mok, nmg  = divmod(number, 3)\n",
    "        \n",
    "        if nmg == 0:\n",
    "            print(f\"{number} : 4\")\n",
    "        elif nmg == 1:\n",
    "            print(f\"{number} : 1\")\n",
    "        else:\n",
    "            print(f\"{number} : 2\")\n",
    "        \n",
    "        number -= 1\n",
    "    \n",
    "number = int(input(\"숫자 = \"))\n",
    "if number < 1 or number > 200:\n",
    "    print(\"1이상 200이하의 숫자만 입력 가능\")\n",
    "else:  #  continue를 했으면 else를 사용하지 않아도 된다.\n",
    "    onetwofour(number)"
   ]
  },
  {
   "cell_type": "code",
   "execution_count": null,
   "id": "084d1dec",
   "metadata": {
    "ExecuteTime": {
     "end_time": "2023-08-31T08:42:31.290123Z",
     "start_time": "2023-08-31T08:42:31.276676Z"
    }
   },
   "outputs": [],
   "source": [
    "a = divmod(10, 3)\n",
    "print(a, type(a))\n",
    "a[1]"
   ]
  },
  {
   "cell_type": "code",
   "execution_count": null,
   "id": "d5c79a65",
   "metadata": {
    "ExecuteTime": {
     "end_time": "2023-08-31T08:45:58.268718Z",
     "start_time": "2023-08-31T08:45:58.256405Z"
    }
   },
   "outputs": [],
   "source": [
    "def div3(x):\n",
    "    a = divmod(x, 3)\n",
    "    if a[1] == 0:\n",
    "        return 4\n",
    "    elif a[1] == 1:\n",
    "        return 1\n",
    "    elif a[1] == 2:\n",
    "        return 2"
   ]
  },
  {
   "cell_type": "code",
   "execution_count": null,
   "id": "4578f8b3",
   "metadata": {
    "ExecuteTime": {
     "end_time": "2023-08-31T08:49:18.393852Z",
     "start_time": "2023-08-31T08:49:18.378298Z"
    }
   },
   "outputs": [],
   "source": [
    "div3(l)"
   ]
  },
  {
   "cell_type": "code",
   "execution_count": null,
   "id": "e8c4b50c",
   "metadata": {
    "ExecuteTime": {
     "end_time": "2023-08-31T08:24:39.009471Z",
     "start_time": "2023-08-31T08:24:38.984087Z"
    }
   },
   "outputs": [],
   "source": [
    "for i in range(1, 201):\n",
    "    if i % 3 == 0:\n",
    "        print(4)\n",
    "    elif i % 3 == 1:\n",
    "        print(1)\n",
    "    elif i % 3 == 2:\n",
    "        print(2)"
   ]
  },
  {
   "cell_type": "markdown",
   "id": "f71536dc",
   "metadata": {},
   "source": [
    "# 문자열 중 가운데 문자를 출력하는 프로그램을 구현하시오.\n",
    "<br>\n",
    "\n",
    "- 문자열의 길이가 짝수일 경우 가운데 두 글자 반환\n",
    "- 문자열의 길이가 홀수일 경우 가운데 한 글자 반환\n",
    "- 문자열을 입력받아 구현하되, 문자열의 길이는 최소 1이상 50이하로 작성할 것."
   ]
  },
  {
   "cell_type": "code",
   "execution_count": null,
   "id": "f986dc9a",
   "metadata": {
    "ExecuteTime": {
     "end_time": "2023-09-01T00:30:10.457973Z",
     "start_time": "2023-09-01T00:30:08.175821Z"
    }
   },
   "outputs": [],
   "source": [
    "def median_s(string):  # worldcup, korea\n",
    "    # 중앙의 위치값\n",
    "    idx = len(string) // 2 # 정수몫\n",
    "    \n",
    "    # 입력받은 글자의 수가 짝수인지 홀수인지 판단해서 처리\n",
    "    if len(string) % 2 == 0:\n",
    "        return string[idx-1:idx+1]\n",
    "    else:\n",
    "        return string[idx]\n",
    "    \n",
    "string = input(\"문자열 = \")\n",
    "if len(string) < 1 or len(string) > 50:\n",
    "    print(\"문자열의 최소 길이는 1이상 50이하입니다.\")\n",
    "else:\n",
    "    print(median_s(string))"
   ]
  },
  {
   "cell_type": "code",
   "execution_count": null,
   "id": "94c37a1c",
   "metadata": {},
   "outputs": [],
   "source": [
    "x = input(\"문자 입력 = \")\n",
    "\n",
    "if len(x) % 2 == 0:\n",
    "    return \n",
    "elif len(x) % 2 == 1:\n",
    "    return"
   ]
  },
  {
   "cell_type": "markdown",
   "id": "66810bba",
   "metadata": {},
   "source": [
    "# 두 개의 주사위를 던졌을 때의 합계가 특정수가 나오는 경우의 수를 추출\n",
    "<br>\n",
    "\n",
    "- 주사위 합계를 입력받아 해당 경우의 수를 추출하시오.\n",
    "- ex) 합계(5) - 1:4, 2:3, 3:2, 4:1"
   ]
  },
  {
   "cell_type": "code",
   "execution_count": null,
   "id": "0504a8e8",
   "metadata": {
    "ExecuteTime": {
     "end_time": "2023-09-01T00:46:52.522098Z",
     "start_time": "2023-09-01T00:46:51.208772Z"
    }
   },
   "outputs": [],
   "source": [
    "# 주사위 두 개를 던졌을 때 나오는 경우의 수는 총 몇개 : 36 (6 * 6)\n",
    "\n",
    "def dice(number):\n",
    "    print(f\"합 : {number}\", end = '')\n",
    "    # 첫번째 주사위에서 나오는 경우의 수\n",
    "    for one in range(1, 7):\n",
    "        for two in range(1, 7):\n",
    "            if number == (one + two):\n",
    "                print(f\"\\t({one}, {two})\", end = '')\n",
    "                \n",
    "# try:\n",
    "#     number = int(input(\"합 = \"))  # int가 아니라면 잡을 수 있다.\n",
    "#     if number < 1 or number > 12:  #  이 부분의 오류를 except가 잡지못함\n",
    "#         print(\"숫자의 범위를 넘었습니다.\")\n",
    "# except Exception as e:\n",
    "#     print(\"문제를 다시 보세요.\")\n",
    "# else:\n",
    "#     dice(number)\n",
    "\n",
    "number = int(input(\"합 = \"))\n",
    "if number < 1 or number > 12:\n",
    "    print(\"주사위 두개의 합을 계산하는 문제입니다.\")\n",
    "else:\n",
    "    dice(number)"
   ]
  },
  {
   "cell_type": "code",
   "execution_count": null,
   "id": "b79f945c",
   "metadata": {
    "ExecuteTime": {
     "end_time": "2023-09-01T00:37:46.165321Z",
     "start_time": "2023-09-01T00:37:46.147156Z"
    }
   },
   "outputs": [],
   "source": [
    "y = int(input(\"합계 : \"))  # 2 ~ 12\n",
    "\n",
    "def adder(a, b):\n",
    "    if (a + b) ==\n",
    "\n",
    "for (a, b) in "
   ]
  },
  {
   "cell_type": "markdown",
   "id": "c296669e",
   "metadata": {},
   "source": [
    "# 숫자를 입력받아 주어진 출력형식과 동일한 결과를 출력하는 프로그램\n",
    "<br>\n",
    "\n",
    "enter a number = 3  \n",
    "<br>\n",
    "★★★  \n",
    "★★  \n",
    "★  <br>\n",
    "★★  \n",
    "★★★  "
   ]
  },
  {
   "cell_type": "code",
   "execution_count": null,
   "id": "121c55c9",
   "metadata": {
    "ExecuteTime": {
     "end_time": "2023-09-01T01:41:33.402387Z",
     "start_time": "2023-09-01T01:41:31.693091Z"
    }
   },
   "outputs": [],
   "source": [
    "def star_f(number):\n",
    "    # 줄 수\n",
    "    for i in range(number, 0, -1):\n",
    "        print('★' * i)\n",
    "        \n",
    "    for i in range(2, number+1):\n",
    "        print('★' * i)\n",
    "        \n",
    "number = int(input('숫자 = '))\n",
    "star_f(number)"
   ]
  },
  {
   "cell_type": "code",
   "execution_count": null,
   "id": "aa2a79b1",
   "metadata": {
    "ExecuteTime": {
     "end_time": "2023-09-01T01:09:46.036981Z",
     "start_time": "2023-09-01T01:09:44.528381Z"
    }
   },
   "outputs": [],
   "source": [
    "def star(number):\n",
    "    print()\n",
    "    for i in reversed(range(1, number+1)):\n",
    "        print('★' * i)\n",
    "    \n",
    "    for i in range(2, number+1):\n",
    "        print('★' * i)    \n",
    "    \n",
    "number = int(input(\"enter a number = \"))\n",
    "star(number)"
   ]
  },
  {
   "cell_type": "markdown",
   "id": "f8c40684",
   "metadata": {},
   "source": [
    "# 피보나치 수열 만드는 프로그램\n",
    "<br>\n",
    "\n",
    "- 1에서 100사이의 수를 대상으로 피보나치 수열을 생성하여 출력하시오.\n",
    "- 피보나치 수열 : 1 1 2 3 5 8 13 21 34 55 89"
   ]
  },
  {
   "cell_type": "code",
   "execution_count": null,
   "id": "5639bfa5",
   "metadata": {
    "ExecuteTime": {
     "end_time": "2023-09-01T01:44:35.170456Z",
     "start_time": "2023-09-01T01:44:35.157128Z"
    }
   },
   "outputs": [],
   "source": [
    "a = 1; b =1\n",
    "\n",
    "print(a)\n",
    "while b <= 100:\n",
    "    print(b)\n",
    "    a, b = b, a+b"
   ]
  },
  {
   "cell_type": "code",
   "execution_count": null,
   "id": "08dfa949",
   "metadata": {
    "ExecuteTime": {
     "end_time": "2023-09-01T01:37:30.944942Z",
     "start_time": "2023-09-01T01:37:30.929113Z"
    }
   },
   "outputs": [],
   "source": [
    "def Fibo(n):\n",
    "    x = 1\n",
    "    y = 1\n",
    "    for i in range(n):\n",
    "        x, y = y, x+y\n",
    "        print(y)\n",
    "#     if y <= 100:\n",
    "#         print(x, y)\n",
    "#     else:\n",
    "#         print(\"1에서 100사이의 수만 출력가능합니다.\")\n",
    "    \n",
    "    \n",
    "        \n",
    "Fibo(9)"
   ]
  },
  {
   "cell_type": "markdown",
   "id": "0e82f8a0",
   "metadata": {},
   "source": [
    "# 다음 출력 형식과 동일한 출력결과를 갖는 프로그램 구현\n",
    "<br>\n",
    "\n",
    "문자열 입력 : python  \n",
    "n  <br>\n",
    "on  \n",
    "hon  \n",
    "thon  \n",
    "ython  \n",
    "python"
   ]
  },
  {
   "cell_type": "code",
   "execution_count": 35,
   "id": "0c2faea9",
   "metadata": {
    "ExecuteTime": {
     "end_time": "2023-09-01T06:59:50.535964Z",
     "start_time": "2023-09-01T06:59:49.459232Z"
    }
   },
   "outputs": [
    {
     "name": "stdout",
     "output_type": "stream",
     "text": [
      "문자열 입력 : python\n",
      "python \n",
      "python n \n",
      "python n on \n",
      "python n on hon \n",
      "python n on hon thon \n",
      "python n on hon thon ython \n"
     ]
    }
   ],
   "source": [
    "# 층수 입력\n",
    "string = input(\"문자열 입력 : \")\n",
    "\n",
    "for x in range(1, len(string)+1):\n",
    "    for y in range(x):\n",
    "        print(string[-y:], end = ' ')\n",
    "    print()"
   ]
  },
  {
   "cell_type": "markdown",
   "id": "d38bbf05",
   "metadata": {},
   "source": [
    "# 다음 주어진 출력형식과 동일한 결과를 갖는 프로그램 구현\n",
    "<br>\n",
    "\n",
    "시작 숫자와 마지막 숫자 입력 : 2 6  \n",
    "2 3 4 5 6  \n",
    "3 4 5 6 7   \n",
    "4 5 6 7 8  \n",
    "5 6 7 8 9  \n",
    "6 7 8 9 10"
   ]
  },
  {
   "cell_type": "code",
   "execution_count": null,
   "id": "25c9a181",
   "metadata": {
    "ExecuteTime": {
     "end_time": "2023-09-01T06:25:03.361915Z",
     "start_time": "2023-09-01T06:25:02.556518Z"
    }
   },
   "outputs": [],
   "source": [
    "num1, num2 = map(int, input(\"시작 숫자와 마지막 숫자 입력 : \").split())\n",
    "\n",
    "for x in range(num1, num2+1):\n",
    "    for y in range(num2-num1+1):\n",
    "        print(x, end = '')\n",
    "#     print(x, x+1, x+2, x+3, x+4)\n"
   ]
  },
  {
   "cell_type": "code",
   "execution_count": null,
   "id": "d6be3d43",
   "metadata": {
    "ExecuteTime": {
     "end_time": "2023-09-01T06:22:18.617865Z",
     "start_time": "2023-09-01T06:22:18.598498Z"
    }
   },
   "outputs": [],
   "source": [
    "def string_p(start, end):\n",
    "    for i in range(start, end+1):\n",
    "        for j in range(i, i+(end-start)+1):\n",
    "            print(f'{j:5d}', end='')\n",
    "        print()\n",
    "string_p(3,9)"
   ]
  },
  {
   "cell_type": "markdown",
   "id": "7c83e5e5",
   "metadata": {},
   "source": [
    "# 다음과 같은 알파벳 피라미드 완성 프로그램을 구현하시오\n",
    "<br>\n",
    "\n",
    "문자 입력 : ABCDE  \n",
    "ABCD  \n",
    "ABC  \n",
    "AB  \n",
    "A"
   ]
  },
  {
   "cell_type": "code",
   "execution_count": 11,
   "id": "9f431c36",
   "metadata": {
    "ExecuteTime": {
     "end_time": "2023-09-01T06:52:59.615046Z",
     "start_time": "2023-09-01T06:52:55.126492Z"
    }
   },
   "outputs": [
    {
     "name": "stdout",
     "output_type": "stream",
     "text": [
      "문자 입력 : ABCDE\n",
      "ABCD\n",
      "ABC\n",
      "AB\n",
      "A\n"
     ]
    }
   ],
   "source": [
    "# string 모듈로 알파벳 출력\n",
    "import string \n",
    "alphabet = string.ascii_uppercase\n",
    "\n",
    "string = input(\"문자 입력 : \")\n",
    "\n",
    "for x in range(len(string)-1, 0, -1):\n",
    "    for y in range(x):\n",
    "        print(alphabet[y], end = '')\n",
    "    print()"
   ]
  },
  {
   "cell_type": "markdown",
   "id": "6b779227",
   "metadata": {},
   "source": [
    "# 알파벳 피라미드 출력\n",
    "<br>\n",
    "\n",
    "층수 = 7  \n",
    "A  <br>\n",
    "A B  \n",
    "A B C  \n",
    "A B C D  \n",
    "A B C D E  \n",
    "A B C D E F  \n",
    "A B C D E F G"
   ]
  },
  {
   "cell_type": "code",
   "execution_count": 3,
   "id": "2ae5cbad",
   "metadata": {
    "ExecuteTime": {
     "end_time": "2023-09-01T06:49:10.119507Z",
     "start_time": "2023-09-01T06:49:08.851045Z"
    }
   },
   "outputs": [
    {
     "name": "stdout",
     "output_type": "stream",
     "text": [
      "층수 = 7\n",
      "A \n",
      "A B \n",
      "A B C \n",
      "A B C D \n",
      "A B C D E \n",
      "A B C D E F \n",
      "A B C D E F G \n"
     ]
    }
   ],
   "source": [
    "# string 모듈로 알파벳 출력\n",
    "import string \n",
    "alphabet = string.ascii_uppercase\n",
    "\n",
    "# 층수 입력\n",
    "num = int(input(\"층수 = \"))\n",
    "\n",
    "for x in range(1, num+1):\n",
    "    for y in range(x):\n",
    "        print(alphabet[y], end = ' ')\n",
    "    print()"
   ]
  }
 ],
 "metadata": {
  "kernelspec": {
   "display_name": "Python 3",
   "language": "python",
   "name": "python3"
  },
  "language_info": {
   "codemirror_mode": {
    "name": "ipython",
    "version": 3
   },
   "file_extension": ".py",
   "mimetype": "text/x-python",
   "name": "python",
   "nbconvert_exporter": "python",
   "pygments_lexer": "ipython3",
   "version": "3.8.8"
  },
  "toc": {
   "base_numbering": 1,
   "nav_menu": {},
   "number_sections": true,
   "sideBar": true,
   "skip_h1_title": false,
   "title_cell": "Table of Contents",
   "title_sidebar": "Contents",
   "toc_cell": false,
   "toc_position": {
    "height": "calc(100% - 180px)",
    "left": "10px",
    "top": "150px",
    "width": "267px"
   },
   "toc_section_display": true,
   "toc_window_display": true
  }
 },
 "nbformat": 4,
 "nbformat_minor": 5
}
