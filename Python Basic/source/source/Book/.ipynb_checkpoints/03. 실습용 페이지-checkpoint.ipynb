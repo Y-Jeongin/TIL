{
 "cells": [
  {
   "cell_type": "markdown",
   "id": "80894105",
   "metadata": {},
   "source": [
    "# 가로, 세로의 길이를 이용하여 사각형의 면적을 구하는 프로그램"
   ]
  },
  {
   "cell_type": "code",
   "execution_count": 5,
   "id": "f763977a",
   "metadata": {
    "ExecuteTime": {
     "end_time": "2023-08-30T07:27:42.660391Z",
     "start_time": "2023-08-30T07:27:42.010694Z"
    }
   },
   "outputs": [
    {
     "name": "stdout",
     "output_type": "stream",
     "text": [
      "가로 = 3\n",
      "세로 = 5\n",
      "15\n"
     ]
    }
   ],
   "source": [
    "# import rectangle\n",
    "from rectangle import *\n",
    "\n",
    "garo = int(input('가로 = '))\n",
    "sero = int(input('세로 = '))\n",
    "\n",
    "a = area(garo, sero)\n",
    "print(a)"
   ]
  }
 ],
 "metadata": {
  "kernelspec": {
   "display_name": "Python 3",
   "language": "python",
   "name": "python3"
  },
  "language_info": {
   "codemirror_mode": {
    "name": "ipython",
    "version": 3
   },
   "file_extension": ".py",
   "mimetype": "text/x-python",
   "name": "python",
   "nbconvert_exporter": "python",
   "pygments_lexer": "ipython3",
   "version": "3.8.8"
  },
  "toc": {
   "base_numbering": 1,
   "nav_menu": {},
   "number_sections": true,
   "sideBar": true,
   "skip_h1_title": false,
   "title_cell": "Table of Contents",
   "title_sidebar": "Contents",
   "toc_cell": false,
   "toc_position": {},
   "toc_section_display": true,
   "toc_window_display": false
  }
 },
 "nbformat": 4,
 "nbformat_minor": 5
}
