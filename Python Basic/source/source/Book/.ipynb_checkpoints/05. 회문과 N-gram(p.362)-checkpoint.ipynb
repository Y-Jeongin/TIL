{
 "cells": [
  {
   "cell_type": "markdown",
   "id": "b36cf259",
   "metadata": {},
   "source": [
    "# 회문(Palindrome)\n",
    "<br>\n",
    "\n",
    "- 순서를 바꿔도 제대로 읽은것과 같은 단어나 문장\n",
    "- ex) level, sos, ses, ratator, racecar\n",
    "- 주어진 무자열의 개수가 짝수일때와 홀수일때"
   ]
  },
  {
   "cell_type": "markdown",
   "id": "44f91bb6",
   "metadata": {},
   "source": [
    "## 반복문 활용"
   ]
  },
  {
   "cell_type": "code",
   "execution_count": 1,
   "id": "3bae8f49",
   "metadata": {
    "ExecuteTime": {
     "end_time": "2023-08-31T05:08:13.894716Z",
     "start_time": "2023-08-31T05:08:13.882245Z"
    }
   },
   "outputs": [
    {
     "name": "stdout",
     "output_type": "stream",
     "text": [
      "level\n"
     ]
    }
   ],
   "source": [
    "# 입력 : level\n",
    "a = 'level'\n",
    "print(a)"
   ]
  },
  {
   "cell_type": "code",
   "execution_count": 23,
   "id": "7b69c9fa",
   "metadata": {
    "ExecuteTime": {
     "end_time": "2023-08-31T05:13:04.094864Z",
     "start_time": "2023-08-31T05:13:04.078695Z"
    }
   },
   "outputs": [],
   "source": [
    "b = a[-5:]"
   ]
  },
  {
   "cell_type": "code",
   "execution_count": 7,
   "id": "bd11bcdf",
   "metadata": {
    "ExecuteTime": {
     "end_time": "2023-08-31T05:09:25.688339Z",
     "start_time": "2023-08-31T05:09:25.678354Z"
    }
   },
   "outputs": [
    {
     "data": {
      "text/plain": [
       "''"
      ]
     },
     "execution_count": 7,
     "metadata": {},
     "output_type": "execute_result"
    }
   ],
   "source": [
    "a = input(\"문자 = \")\n",
    "b = a[-len(a):]"
   ]
  },
  {
   "cell_type": "code",
   "execution_count": 39,
   "id": "c5ccf0da",
   "metadata": {
    "ExecuteTime": {
     "end_time": "2023-08-31T05:35:41.571741Z",
     "start_time": "2023-08-31T05:35:39.417418Z"
    }
   },
   "outputs": [
    {
     "name": "stdout",
     "output_type": "stream",
     "text": [
      "단어를 입력하세요 : appa\n",
      "True\n"
     ]
    }
   ],
   "source": [
    "word = input(\"단어를 입력하세요 : \")\n",
    "\n",
    "# sw : 0과 1 스위칭변수 or True와 False\n",
    "sw = True\n",
    "for i in range(len(word)//2):\n",
    "    if word[i] != word[-1-i]:\n",
    "        sw = False\n",
    "        break\n",
    "        \n",
    "print(sw)"
   ]
  },
  {
   "cell_type": "code",
   "execution_count": 44,
   "id": "142c3a0e",
   "metadata": {
    "ExecuteTime": {
     "end_time": "2023-08-31T05:36:36.478395Z",
     "start_time": "2023-08-31T05:36:35.078371Z"
    }
   },
   "outputs": [
    {
     "name": "stdout",
     "output_type": "stream",
     "text": [
      "단어를 입력하세요 : banana\n",
      "False\n"
     ]
    }
   ],
   "source": [
    "word = input(\"단어를 입력하세요 : \")\n",
    "\n",
    "print(word == word[::-1])"
   ]
  },
  {
   "cell_type": "code",
   "execution_count": 45,
   "id": "18b4fd96",
   "metadata": {
    "ExecuteTime": {
     "end_time": "2023-08-31T05:36:40.076930Z",
     "start_time": "2023-08-31T05:36:40.060254Z"
    }
   },
   "outputs": [
    {
     "data": {
      "text/plain": [
       "'ananab'"
      ]
     },
     "execution_count": 45,
     "metadata": {},
     "output_type": "execute_result"
    }
   ],
   "source": [
    "word[::-1]"
   ]
  },
  {
   "cell_type": "code",
   "execution_count": 52,
   "id": "ec2549b4",
   "metadata": {
    "ExecuteTime": {
     "end_time": "2023-08-31T05:38:22.071063Z",
     "start_time": "2023-08-31T05:38:20.714149Z"
    }
   },
   "outputs": [
    {
     "name": "stdout",
     "output_type": "stream",
     "text": [
      "단어를 입력하세요 : korea\n"
     ]
    },
    {
     "data": {
      "text/plain": [
       "False"
      ]
     },
     "execution_count": 52,
     "metadata": {},
     "output_type": "execute_result"
    }
   ],
   "source": [
    "word = input(\"단어를 입력하세요 : \")\n",
    "list(word) == list(reversed(word))"
   ]
  },
  {
   "cell_type": "code",
   "execution_count": 62,
   "id": "30ab7324",
   "metadata": {
    "ExecuteTime": {
     "end_time": "2023-08-31T05:41:08.229527Z",
     "start_time": "2023-08-31T05:41:08.222520Z"
    }
   },
   "outputs": [
    {
     "data": {
      "text/plain": [
       "True"
      ]
     },
     "execution_count": 62,
     "metadata": {},
     "output_type": "execute_result"
    }
   ],
   "source": [
    "word ='racecar'\n",
    "# print(''.join(reversed(word)))\n",
    "word == ''.join(reversed(word))"
   ]
  },
  {
   "cell_type": "markdown",
   "id": "5f8b7124",
   "metadata": {},
   "source": [
    "# N-gram\n",
    "<br>\n",
    "\n",
    "- 문자열을 n개의 연속된 개수로 추출\n",
    "- ex) korea : 2-gram : ko - or - re - ea\n",
    "- 0,1 - 1,2 - 2,3 - 3,4"
   ]
  },
  {
   "cell_type": "code",
   "execution_count": 75,
   "id": "dd6abe9e",
   "metadata": {
    "ExecuteTime": {
     "end_time": "2023-08-31T05:50:10.361246Z",
     "start_time": "2023-08-31T05:50:10.344887Z"
    }
   },
   "outputs": [
    {
     "name": "stdout",
     "output_type": "stream",
     "text": [
      "ba\n",
      "an\n",
      "na\n",
      "an\n",
      "na\n"
     ]
    }
   ],
   "source": [
    "word = 'banana'\n",
    "\n",
    "for i in range(len(word)-1):\n",
    "    print(word[i], word[i+1], sep = '')"
   ]
  },
  {
   "cell_type": "code",
   "execution_count": 71,
   "id": "fb47536f",
   "metadata": {
    "ExecuteTime": {
     "end_time": "2023-08-31T05:48:56.638292Z",
     "start_time": "2023-08-31T05:48:56.623373Z"
    }
   },
   "outputs": [],
   "source": [
    "# wordcup : 7\n",
    "## wor = 012\n",
    "## ord - 123\n",
    "## rdc - 234\n",
    "## dcu - 345\n",
    "## cup - 456"
   ]
  },
  {
   "cell_type": "code",
   "execution_count": 74,
   "id": "a92536b4",
   "metadata": {
    "ExecuteTime": {
     "end_time": "2023-08-31T05:49:31.620394Z",
     "start_time": "2023-08-31T05:49:31.613658Z"
    }
   },
   "outputs": [
    {
     "name": "stdout",
     "output_type": "stream",
     "text": [
      "w\to\tr\n",
      "o\tr\td\n",
      "r\td\tc\n",
      "d\tc\tu\n",
      "c\tu\tp\n"
     ]
    }
   ],
   "source": [
    "text = 'wordcup'\n",
    "for i in range(len(text)-2):\n",
    "    print(text[i], text[i+1], text[i+2], sep = '\\t')"
   ]
  },
  {
   "cell_type": "markdown",
   "id": "48912f14",
   "metadata": {},
   "source": [
    "## zip함수"
   ]
  },
  {
   "cell_type": "code",
   "execution_count": 76,
   "id": "6c87e11b",
   "metadata": {
    "ExecuteTime": {
     "end_time": "2023-08-31T06:41:49.705951Z",
     "start_time": "2023-08-31T06:41:49.695855Z"
    }
   },
   "outputs": [
    {
     "data": {
      "text/plain": [
       "[(1, 'a'), (2, 'b'), (3, 'c')]"
      ]
     },
     "execution_count": 76,
     "metadata": {},
     "output_type": "execute_result"
    }
   ],
   "source": [
    "a = [1, 2, 3]\n",
    "b = ['a', 'b', 'c']\n",
    "\n",
    "c = list(zip(a, b))\n",
    "c"
   ]
  },
  {
   "cell_type": "code",
   "execution_count": 78,
   "id": "10a570b6",
   "metadata": {
    "ExecuteTime": {
     "end_time": "2023-08-31T06:49:57.753116Z",
     "start_time": "2023-08-31T06:49:57.744020Z"
    }
   },
   "outputs": [
    {
     "name": "stdout",
     "output_type": "stream",
     "text": [
      "p y\n",
      "y t\n",
      "t h\n",
      "h o\n",
      "o n\n"
     ]
    }
   ],
   "source": [
    "text = 'python'\n",
    "word = zip(text, text[1:])\n",
    "for i in word:\n",
    "    print(i[0], i[1])"
   ]
  }
 ],
 "metadata": {
  "kernelspec": {
   "display_name": "Python 3",
   "language": "python",
   "name": "python3"
  },
  "language_info": {
   "codemirror_mode": {
    "name": "ipython",
    "version": 3
   },
   "file_extension": ".py",
   "mimetype": "text/x-python",
   "name": "python",
   "nbconvert_exporter": "python",
   "pygments_lexer": "ipython3",
   "version": "3.8.8"
  },
  "toc": {
   "base_numbering": 1,
   "nav_menu": {},
   "number_sections": true,
   "sideBar": true,
   "skip_h1_title": false,
   "title_cell": "Table of Contents",
   "title_sidebar": "Contents",
   "toc_cell": false,
   "toc_position": {
    "height": "calc(100% - 180px)",
    "left": "10px",
    "top": "150px",
    "width": "286px"
   },
   "toc_section_display": true,
   "toc_window_display": true
  }
 },
 "nbformat": 4,
 "nbformat_minor": 5
}
