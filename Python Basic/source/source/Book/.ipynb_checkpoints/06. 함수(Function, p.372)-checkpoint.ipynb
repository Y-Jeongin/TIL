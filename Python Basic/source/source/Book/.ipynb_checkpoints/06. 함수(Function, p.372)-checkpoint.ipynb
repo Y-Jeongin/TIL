{
 "cells": [
  {
   "cell_type": "markdown",
   "id": "358e1929",
   "metadata": {},
   "source": [
    "# 함수(Function)\n",
    "<br>\n",
    "\n",
    "- 반복적인 코드를 생산하지 않는다.\n",
    "- 코드를 간결하게 작성한다.\n",
    "- 기능이나 역할에 따라 함수를 구현한다.\n",
    "- 유지보수가 쉽다\n",
    "- 반복문의 확장형\n",
    "- def 함수이름(입력매개변수):\n",
    "- 호출 : 이름, 매개변수를 담아서\n",
    "- return\n",
    "- return 값 or 수식"
   ]
  },
  {
   "cell_type": "code",
   "execution_count": null,
   "id": "d17256cb",
   "metadata": {
    "ExecuteTime": {
     "end_time": "2023-08-31T07:12:58.399319Z",
     "start_time": "2023-08-31T07:12:58.379817Z"
    }
   },
   "outputs": [],
   "source": [
    "def hello():\n",
    "    print('hello')\n",
    "    \n",
    "hello()"
   ]
  },
  {
   "cell_type": "code",
   "execution_count": null,
   "id": "9a315136",
   "metadata": {
    "ExecuteTime": {
     "end_time": "2023-08-31T07:14:54.368582Z",
     "start_time": "2023-08-31T07:14:54.354037Z"
    }
   },
   "outputs": [],
   "source": [
    "def hi():  # 함수 안에 또 다른 함수를 담을 수 있다.\n",
    "    hello()  "
   ]
  },
  {
   "cell_type": "code",
   "execution_count": null,
   "id": "db3a403e",
   "metadata": {
    "ExecuteTime": {
     "end_time": "2023-08-31T07:14:55.546930Z",
     "start_time": "2023-08-31T07:14:55.540814Z"
    }
   },
   "outputs": [],
   "source": [
    "hi()"
   ]
  },
  {
   "cell_type": "code",
   "execution_count": null,
   "id": "1abc398c",
   "metadata": {
    "ExecuteTime": {
     "end_time": "2023-08-31T07:18:31.048412Z",
     "start_time": "2023-08-31T07:18:31.041512Z"
    }
   },
   "outputs": [],
   "source": [
    "def greeting(name):\n",
    "    message = name + \" 님 안녕하세요.\"\n",
    "    return message  #  message라는 변수를 greeting이라는 함수 호출시 보낸다.\n",
    "\n",
    "print(greeting('장보고'))\n",
    "\n",
    "a = greeting('홍길동')\n",
    "print(a)"
   ]
  },
  {
   "cell_type": "code",
   "execution_count": 8,
   "id": "77ca227d",
   "metadata": {
    "ExecuteTime": {
     "end_time": "2023-08-31T07:40:50.564324Z",
     "start_time": "2023-08-31T07:40:48.317796Z"
    }
   },
   "outputs": [
    {
     "name": "stdout",
     "output_type": "stream",
     "text": [
      "\n",
      "계산기 프로그램\n",
      "\n",
      "첫번째 수 = 10\n",
      "연산자(+, -, *, /) = /\n",
      "두번째 수 = 2\n",
      "10 / 2 = 5.0\n"
     ]
    }
   ],
   "source": [
    "print('\\n계산기 프로그램\\n')\n",
    "num1 = eval(input('첫번째 수 = '))\n",
    "\n",
    "# 주어진 연산자(+, -, *, /)만 입력받는다.\n",
    "sw = True\n",
    "while sw:  # 연산자를 입력받으면 다음으로 넘어감\n",
    "    op = input('연산자(+, -, *, /) = ')\n",
    "    if op == '+' or op == '-' or op == '*' or op == '/':\n",
    "        sw = False\n",
    "        \n",
    "# 입력받은 연산자가 '/'이고, 두번째 수가 0이면 두번째 수를 다시 입력받는다.\n",
    "sw = True\n",
    "while sw:  # op가 '/'가 아니거나, 두번째 수가 0이 아니어야 다음으로 넘어감\n",
    "    num2 = eval(input('두번째 수 = '))\n",
    "    if op != '/' or num2 != 0:\n",
    "        sw = False\n",
    "\n",
    "if op == '+':\n",
    "    # res = adder(num1, num2)\n",
    "    print(f\"{num1} {op} {num2} = {adder(num1, num2)}\")\n",
    "    \n",
    "elif op == '-':\n",
    "    print(f\"{num1} {op} {num2} = {substract(num1, num2)}\")\n",
    "    \n",
    "elif op == '*':\n",
    "    print(f\"{num1} {op} {num2} = {multiply(num1, num2)}\")\n",
    "\n",
    "elif op == '/':\n",
    "    print(f\"{num1} {op} {num2} = {divide(num1, num2)}\")"
   ]
  },
  {
   "cell_type": "code",
   "execution_count": 4,
   "id": "da579c4c",
   "metadata": {
    "ExecuteTime": {
     "end_time": "2023-08-31T07:40:18.574890Z",
     "start_time": "2023-08-31T07:40:18.558751Z"
    }
   },
   "outputs": [],
   "source": [
    "def adder(num1, num2):\n",
    "    return num1 + num2\n",
    "\n",
    "def substract(num1, num2):\n",
    "    return num1 - num2\n",
    "\n",
    "def multiply(num1, num2):\n",
    "    return num1 * num2\n",
    "\n",
    "def divide(num1, num2):\n",
    "    return num1 / num2"
   ]
  },
  {
   "cell_type": "markdown",
   "id": "3ed77967",
   "metadata": {},
   "source": [
    "# 가변길이 매개변수"
   ]
  },
  {
   "cell_type": "code",
   "execution_count": 10,
   "id": "dbd0efea",
   "metadata": {
    "ExecuteTime": {
     "end_time": "2023-08-31T07:45:56.081421Z",
     "start_time": "2023-08-31T07:45:56.061029Z"
    }
   },
   "outputs": [
    {
     "name": "stdout",
     "output_type": "stream",
     "text": [
      "누적합 :  15\n"
     ]
    }
   ],
   "source": [
    "x = [1, 2, 3, 4, 5]\n",
    "\n",
    "tot = 0\n",
    "# for i in x:\n",
    "#     tot += i\n",
    "\n",
    "for i in range(len(x)):\n",
    "    tot += x[i]\n",
    "    \n",
    "print(\"누적합 : \", tot)"
   ]
  },
  {
   "cell_type": "code",
   "execution_count": 11,
   "id": "bd06bfb7",
   "metadata": {
    "ExecuteTime": {
     "end_time": "2023-08-31T07:46:27.197097Z",
     "start_time": "2023-08-31T07:46:27.179467Z"
    }
   },
   "outputs": [],
   "source": [
    "def arraySum(data):\n",
    "    tot = 0\n",
    "    for i in range(len(data)):\n",
    "        tot += data[i]\n",
    "    return tot"
   ]
  },
  {
   "cell_type": "markdown",
   "id": "de1434a2",
   "metadata": {},
   "source": [
    "- 함수 호출 방법\n",
    "\n",
    "1. Call By Name : 이름에 의한 호출\n",
    "  - 매개변수 없이 함수의 이름만으로 호출하는 행위\n",
    "2. Call By Value : 값에 의한 호출\n",
    "  - 매개변수의 값을 이용하여 함수를 호출하는 행위\n",
    "3. Call By Reference : 참조(주소)에 의한 호출\n",
    "  - 매개변수의 주소를 이용하여 함수를 호출하는 행위"
   ]
  },
  {
   "cell_type": "code",
   "execution_count": 12,
   "id": "368db3c9",
   "metadata": {
    "ExecuteTime": {
     "end_time": "2023-08-31T07:46:59.197366Z",
     "start_time": "2023-08-31T07:46:59.191357Z"
    }
   },
   "outputs": [
    {
     "name": "stdout",
     "output_type": "stream",
     "text": [
      "누적합 :  15\n"
     ]
    }
   ],
   "source": [
    "tot = arraySum(x)  # Call By Refefence : 참조에 의한 호출, x는 값이 아닌 주소\n",
    "\n",
    "print(\"누적합 : \", tot)"
   ]
  },
  {
   "cell_type": "code",
   "execution_count": 13,
   "id": "1543a3a7",
   "metadata": {
    "ExecuteTime": {
     "end_time": "2023-08-31T07:51:03.747987Z",
     "start_time": "2023-08-31T07:51:03.737059Z"
    }
   },
   "outputs": [],
   "source": [
    "def getSum(a, b):\n",
    "    return a + b"
   ]
  },
  {
   "cell_type": "code",
   "execution_count": 14,
   "id": "5f16c8f8",
   "metadata": {
    "ExecuteTime": {
     "end_time": "2023-08-31T07:51:08.412077Z",
     "start_time": "2023-08-31T07:51:08.390041Z"
    }
   },
   "outputs": [
    {
     "data": {
      "text/plain": [
       "30"
      ]
     },
     "execution_count": 14,
     "metadata": {},
     "output_type": "execute_result"
    }
   ],
   "source": [
    "getSum(10, 20)"
   ]
  },
  {
   "cell_type": "code",
   "execution_count": 15,
   "id": "f9c8bd29",
   "metadata": {
    "ExecuteTime": {
     "end_time": "2023-08-31T07:51:38.061138Z",
     "start_time": "2023-08-31T07:51:38.046150Z"
    }
   },
   "outputs": [
    {
     "ename": "TypeError",
     "evalue": "getSum() takes 2 positional arguments but 3 were given",
     "output_type": "error",
     "traceback": [
      "\u001b[1;31m---------------------------------------------------------------------------\u001b[0m",
      "\u001b[1;31mTypeError\u001b[0m                                 Traceback (most recent call last)",
      "\u001b[1;32m<ipython-input-15-1ddce14fd8ac>\u001b[0m in \u001b[0;36m<module>\u001b[1;34m\u001b[0m\n\u001b[1;32m----> 1\u001b[1;33m \u001b[0mgetSum\u001b[0m\u001b[1;33m(\u001b[0m\u001b[1;36m10\u001b[0m\u001b[1;33m,\u001b[0m \u001b[1;36m20\u001b[0m\u001b[1;33m,\u001b[0m \u001b[1;36m30\u001b[0m\u001b[1;33m)\u001b[0m\u001b[1;33m\u001b[0m\u001b[1;33m\u001b[0m\u001b[0m\n\u001b[0m",
      "\u001b[1;31mTypeError\u001b[0m: getSum() takes 2 positional arguments but 3 were given"
     ]
    }
   ],
   "source": [
    "getSum(10, 20, 30)"
   ]
  },
  {
   "cell_type": "code",
   "execution_count": 16,
   "id": "7b96618a",
   "metadata": {
    "ExecuteTime": {
     "end_time": "2023-08-31T07:51:52.471201Z",
     "start_time": "2023-08-31T07:51:52.457856Z"
    }
   },
   "outputs": [],
   "source": [
    "def getSum3(a, b, c):\n",
    "    return a + b + c"
   ]
  },
  {
   "cell_type": "code",
   "execution_count": 17,
   "id": "4da9a37c",
   "metadata": {
    "ExecuteTime": {
     "end_time": "2023-08-31T07:51:57.582957Z",
     "start_time": "2023-08-31T07:51:57.566267Z"
    }
   },
   "outputs": [
    {
     "data": {
      "text/plain": [
       "60"
      ]
     },
     "execution_count": 17,
     "metadata": {},
     "output_type": "execute_result"
    }
   ],
   "source": [
    "getSum3(10, 20, 30)"
   ]
  },
  {
   "cell_type": "code",
   "execution_count": 18,
   "id": "7a0db974",
   "metadata": {
    "ExecuteTime": {
     "end_time": "2023-08-31T07:53:05.348617Z",
     "start_time": "2023-08-31T07:53:05.344632Z"
    }
   },
   "outputs": [],
   "source": [
    "def getSum(a, b, c):\n",
    "    return a + b + c"
   ]
  },
  {
   "cell_type": "code",
   "execution_count": 19,
   "id": "15416f1a",
   "metadata": {
    "ExecuteTime": {
     "end_time": "2023-08-31T07:53:17.342562Z",
     "start_time": "2023-08-31T07:53:17.336556Z"
    }
   },
   "outputs": [
    {
     "data": {
      "text/plain": [
       "60"
      ]
     },
     "execution_count": 19,
     "metadata": {},
     "output_type": "execute_result"
    }
   ],
   "source": [
    "# 함수 오버로딩(다중함수) : 함수의 이름은 같고 매개변수의 타입 또는 개수가 다를때\n",
    "getSum(10, 20, 30)"
   ]
  },
  {
   "cell_type": "code",
   "execution_count": 20,
   "id": "61e51d01",
   "metadata": {
    "ExecuteTime": {
     "end_time": "2023-08-31T07:53:22.128176Z",
     "start_time": "2023-08-31T07:53:22.119185Z"
    }
   },
   "outputs": [
    {
     "ename": "TypeError",
     "evalue": "getSum() missing 1 required positional argument: 'c'",
     "output_type": "error",
     "traceback": [
      "\u001b[1;31m---------------------------------------------------------------------------\u001b[0m",
      "\u001b[1;31mTypeError\u001b[0m                                 Traceback (most recent call last)",
      "\u001b[1;32m<ipython-input-20-0fc2875570a9>\u001b[0m in \u001b[0;36m<module>\u001b[1;34m\u001b[0m\n\u001b[1;32m----> 1\u001b[1;33m \u001b[0mgetSum\u001b[0m\u001b[1;33m(\u001b[0m\u001b[1;36m10\u001b[0m\u001b[1;33m,\u001b[0m \u001b[1;36m20\u001b[0m\u001b[1;33m)\u001b[0m\u001b[1;33m\u001b[0m\u001b[1;33m\u001b[0m\u001b[0m\n\u001b[0m",
      "\u001b[1;31mTypeError\u001b[0m: getSum() missing 1 required positional argument: 'c'"
     ]
    }
   ],
   "source": [
    "getSum(10, 20)"
   ]
  },
  {
   "cell_type": "code",
   "execution_count": 4,
   "id": "cd457468",
   "metadata": {
    "ExecuteTime": {
     "end_time": "2023-08-31T07:59:23.715058Z",
     "start_time": "2023-08-31T07:59:23.706904Z"
    }
   },
   "outputs": [
    {
     "name": "stdout",
     "output_type": "stream",
     "text": [
      "(1, 2, 3, 4, 5) <class 'tuple'>\n"
     ]
    }
   ],
   "source": [
    "# 가변길이 매개변수 : 매개변수의 개수와 상관없이 받아서 처리하도록 생성된 변수로 앞에 '*'를 붙인다.\n",
    "# packing\n",
    "a = 1, 2, 3, 4, 5\n",
    "print(a, type(a))\n",
    "\n",
    "def total(*x):\n",
    "    print(*x)"
   ]
  },
  {
   "cell_type": "code",
   "execution_count": 25,
   "id": "69c8cb2a",
   "metadata": {
    "ExecuteTime": {
     "end_time": "2023-08-31T07:57:45.482034Z",
     "start_time": "2023-08-31T07:57:45.465229Z"
    }
   },
   "outputs": [
    {
     "name": "stdout",
     "output_type": "stream",
     "text": [
      "1 <class 'int'>\n"
     ]
    }
   ],
   "source": [
    "total(1)"
   ]
  },
  {
   "cell_type": "code",
   "execution_count": 5,
   "id": "17664a27",
   "metadata": {
    "ExecuteTime": {
     "end_time": "2023-08-31T07:59:25.238818Z",
     "start_time": "2023-08-31T07:59:25.233836Z"
    }
   },
   "outputs": [
    {
     "name": "stdout",
     "output_type": "stream",
     "text": [
      "1 2 3 4 5\n"
     ]
    }
   ],
   "source": [
    "total(1, 2, 3, 4, 5)"
   ]
  },
  {
   "cell_type": "code",
   "execution_count": 6,
   "id": "3718301d",
   "metadata": {
    "ExecuteTime": {
     "end_time": "2023-08-31T07:59:35.547548Z",
     "start_time": "2023-08-31T07:59:35.542470Z"
    }
   },
   "outputs": [
    {
     "name": "stdout",
     "output_type": "stream",
     "text": [
      "1 2 3\n"
     ]
    }
   ],
   "source": [
    "total(1, 2, 3)"
   ]
  },
  {
   "cell_type": "code",
   "execution_count": 7,
   "id": "f17e1689",
   "metadata": {
    "ExecuteTime": {
     "end_time": "2023-08-31T08:00:30.030084Z",
     "start_time": "2023-08-31T08:00:30.026834Z"
    }
   },
   "outputs": [],
   "source": [
    "def get_sum(*x):\n",
    "    tot = 0\n",
    "    \n",
    "    for i in x:\n",
    "        tot += i\n",
    "    \n",
    "    return tot"
   ]
  },
  {
   "cell_type": "code",
   "execution_count": 8,
   "id": "d628f87b",
   "metadata": {
    "ExecuteTime": {
     "end_time": "2023-08-31T08:00:36.785344Z",
     "start_time": "2023-08-31T08:00:36.770781Z"
    }
   },
   "outputs": [
    {
     "data": {
      "text/plain": [
       "6"
      ]
     },
     "execution_count": 8,
     "metadata": {},
     "output_type": "execute_result"
    }
   ],
   "source": [
    "get_sum(1, 2, 3)"
   ]
  },
  {
   "cell_type": "code",
   "execution_count": 9,
   "id": "f9111181",
   "metadata": {
    "ExecuteTime": {
     "end_time": "2023-08-31T08:00:42.757098Z",
     "start_time": "2023-08-31T08:00:42.746810Z"
    }
   },
   "outputs": [
    {
     "data": {
      "text/plain": [
       "15"
      ]
     },
     "execution_count": 9,
     "metadata": {},
     "output_type": "execute_result"
    }
   ],
   "source": [
    "get_sum(1, 2, 3, 4, 5)"
   ]
  }
 ],
 "metadata": {
  "kernelspec": {
   "display_name": "Python 3",
   "language": "python",
   "name": "python3"
  },
  "language_info": {
   "codemirror_mode": {
    "name": "ipython",
    "version": 3
   },
   "file_extension": ".py",
   "mimetype": "text/x-python",
   "name": "python",
   "nbconvert_exporter": "python",
   "pygments_lexer": "ipython3",
   "version": "3.8.8"
  },
  "toc": {
   "base_numbering": 1,
   "nav_menu": {},
   "number_sections": true,
   "sideBar": true,
   "skip_h1_title": false,
   "title_cell": "Table of Contents",
   "title_sidebar": "Contents",
   "toc_cell": false,
   "toc_position": {
    "height": "calc(100% - 180px)",
    "left": "10px",
    "top": "150px",
    "width": "277px"
   },
   "toc_section_display": true,
   "toc_window_display": true
  }
 },
 "nbformat": 4,
 "nbformat_minor": 5
}
