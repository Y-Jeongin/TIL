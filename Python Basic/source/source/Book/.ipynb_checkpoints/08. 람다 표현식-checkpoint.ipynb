{
 "cells": [
  {
   "cell_type": "markdown",
   "id": "78678f54",
   "metadata": {},
   "source": [
    "# Lambda 함수 : 익명의 함수\n",
    "<br>\n",
    "\n",
    "- 매크로 함수 : 한줄짜리 함수\n",
    "- 인라인 함수\n",
    "- 형식 : lambda 입력값 : 출력값\n",
    "- 일반함수 형식 : def 함수명(매개변수) : return 반환값"
   ]
  },
  {
   "cell_type": "code",
   "execution_count": 1,
   "id": "769ef092",
   "metadata": {
    "ExecuteTime": {
     "end_time": "2023-09-01T01:50:31.077995Z",
     "start_time": "2023-09-01T01:50:31.065805Z"
    }
   },
   "outputs": [],
   "source": [
    "# 하나의 숫자를 입력받아 그 숫자에 10을 더한 값을 리턴하는 함수 구현\n",
    "def get(num):\n",
    "    return num + 10"
   ]
  },
  {
   "cell_type": "code",
   "execution_count": 5,
   "id": "a12f23b7",
   "metadata": {
    "ExecuteTime": {
     "end_time": "2023-09-01T01:51:16.924990Z",
     "start_time": "2023-09-01T01:51:16.917896Z"
    }
   },
   "outputs": [
    {
     "name": "stdout",
     "output_type": "stream",
     "text": [
      "13\n",
      "13\n"
     ]
    }
   ],
   "source": [
    "a = get(3)\n",
    "print(a)\n",
    "print(get(3))"
   ]
  },
  {
   "cell_type": "code",
   "execution_count": 10,
   "id": "28cb4664",
   "metadata": {
    "ExecuteTime": {
     "end_time": "2023-09-01T01:53:10.040692Z",
     "start_time": "2023-09-01T01:53:10.030374Z"
    }
   },
   "outputs": [
    {
     "data": {
      "text/plain": [
       "13"
      ]
     },
     "execution_count": 10,
     "metadata": {},
     "output_type": "execute_result"
    }
   ],
   "source": [
    "(lambda num : num + 10)(3)"
   ]
  },
  {
   "cell_type": "code",
   "execution_count": 11,
   "id": "d3af3e3e",
   "metadata": {
    "ExecuteTime": {
     "end_time": "2023-09-01T01:54:20.228106Z",
     "start_time": "2023-09-01T01:54:20.215743Z"
    }
   },
   "outputs": [],
   "source": [
    "def get(num):\n",
    "    result = num + 10\n",
    "    return result"
   ]
  },
  {
   "cell_type": "code",
   "execution_count": 13,
   "id": "d52dac10",
   "metadata": {
    "ExecuteTime": {
     "end_time": "2023-09-01T01:54:28.378335Z",
     "start_time": "2023-09-01T01:54:28.360112Z"
    }
   },
   "outputs": [
    {
     "data": {
      "text/plain": [
       "13"
      ]
     },
     "execution_count": 13,
     "metadata": {},
     "output_type": "execute_result"
    }
   ],
   "source": [
    "get(3)"
   ]
  },
  {
   "cell_type": "markdown",
   "id": "c58d4b3b",
   "metadata": {},
   "source": [
    "- 람다 표현식은 변수를 생성할 수 없다."
   ]
  },
  {
   "cell_type": "markdown",
   "id": "fc09dc5d",
   "metadata": {},
   "source": [
    "## lambda 함수와 map 객체\n",
    "<br>\n",
    "\n",
    "- map(함수, 리스트나 튜플)"
   ]
  },
  {
   "cell_type": "code",
   "execution_count": 14,
   "id": "9ad94e9b",
   "metadata": {
    "ExecuteTime": {
     "end_time": "2023-09-01T01:58:02.150139Z",
     "start_time": "2023-09-01T01:58:00.939906Z"
    }
   },
   "outputs": [
    {
     "name": "stdout",
     "output_type": "stream",
     "text": [
      "숫자 = 1\n",
      "숫자 = 2\n",
      "숫자 = 3\n"
     ]
    }
   ],
   "source": [
    "a = int(input(\"숫자 = \"))\n",
    "b = int(input(\"숫자 = \"))\n",
    "c = int(input(\"숫자 = \"))"
   ]
  },
  {
   "cell_type": "code",
   "execution_count": 17,
   "id": "8b538bed",
   "metadata": {
    "ExecuteTime": {
     "end_time": "2023-09-01T01:59:27.445125Z",
     "start_time": "2023-09-01T01:59:25.089140Z"
    }
   },
   "outputs": [
    {
     "name": "stdout",
     "output_type": "stream",
     "text": [
      "숫자 = 1 2 3\n",
      "1 2 3\n"
     ]
    }
   ],
   "source": [
    "a, b, c = map(int, input(\"숫자 = \").split())\n",
    "print(a, b, c)"
   ]
  },
  {
   "cell_type": "code",
   "execution_count": 19,
   "id": "d656cd4b",
   "metadata": {
    "ExecuteTime": {
     "end_time": "2023-09-01T02:13:36.632298Z",
     "start_time": "2023-09-01T02:13:36.606590Z"
    }
   },
   "outputs": [
    {
     "name": "stdout",
     "output_type": "stream",
     "text": [
      "[3, 4, 5, 6, 7]\n"
     ]
    }
   ],
   "source": [
    "# 숫자 리스트에 있는 모든 요소에 2씩 더하여 새로운 리스트를 생성하는 작업\n",
    "def plus_two(x):\n",
    "    return x + 2\n",
    "\n",
    "result = list(map(plus_two, [1, 2, 3, 4, 5]))\n",
    "print(result)"
   ]
  },
  {
   "cell_type": "code",
   "execution_count": 20,
   "id": "98a420a2",
   "metadata": {
    "ExecuteTime": {
     "end_time": "2023-09-01T02:14:56.982747Z",
     "start_time": "2023-09-01T02:14:56.972524Z"
    }
   },
   "outputs": [
    {
     "name": "stdout",
     "output_type": "stream",
     "text": [
      "[3, 4, 5, 6, 7]\n"
     ]
    }
   ],
   "source": [
    "result = list(map((lambda x : x + 2), [1, 2, 3, 4, 5]))\n",
    "print(result)"
   ]
  },
  {
   "cell_type": "code",
   "execution_count": 21,
   "id": "a75d5503",
   "metadata": {
    "ExecuteTime": {
     "end_time": "2023-09-01T02:16:13.931075Z",
     "start_time": "2023-09-01T02:16:13.923071Z"
    }
   },
   "outputs": [
    {
     "name": "stdout",
     "output_type": "stream",
     "text": [
      "[3, 4, 5, 6, 7]\n"
     ]
    }
   ],
   "source": [
    "result = list(map((lambda x : x + 2), range(1, 6)))\n",
    "print(result)"
   ]
  },
  {
   "cell_type": "markdown",
   "id": "47f5e7b7",
   "metadata": {},
   "source": [
    "## lambda 함수와 filter 객체\n",
    "<br>\n",
    "\n",
    "- filter(함수, 리스트나 튜플)"
   ]
  },
  {
   "cell_type": "code",
   "execution_count": 22,
   "id": "de2210c9",
   "metadata": {
    "ExecuteTime": {
     "end_time": "2023-09-01T02:19:01.277888Z",
     "start_time": "2023-09-01T02:19:01.264694Z"
    }
   },
   "outputs": [
    {
     "name": "stdout",
     "output_type": "stream",
     "text": [
      "False\n",
      "True\n",
      "False\n",
      "True\n",
      "False\n",
      "True\n",
      "False\n",
      "True\n",
      "False\n",
      "True\n"
     ]
    }
   ],
   "source": [
    "# 1 ~ 10 사이의 수 중 짝수만 추출하는 함수\n",
    "def even(x):\n",
    "    return x % 2 ==0\n",
    "\n",
    "for i in range(1, 11):\n",
    "    print(even(i))"
   ]
  },
  {
   "cell_type": "code",
   "execution_count": 24,
   "id": "7eb8c332",
   "metadata": {
    "ExecuteTime": {
     "end_time": "2023-09-01T02:20:22.417837Z",
     "start_time": "2023-09-01T02:20:22.409461Z"
    }
   },
   "outputs": [
    {
     "name": "stdout",
     "output_type": "stream",
     "text": [
      "[2, 4, 6, 8, 10]\n"
     ]
    }
   ],
   "source": [
    "result = list(filter(even, range(1, 11)))\n",
    "print(result)"
   ]
  },
  {
   "cell_type": "code",
   "execution_count": 26,
   "id": "bcd7b4a7",
   "metadata": {
    "ExecuteTime": {
     "end_time": "2023-09-01T02:21:20.779244Z",
     "start_time": "2023-09-01T02:21:20.769074Z"
    }
   },
   "outputs": [
    {
     "name": "stdout",
     "output_type": "stream",
     "text": [
      "[2, 4, 6, 8, 10]\n"
     ]
    }
   ],
   "source": [
    "result = list(filter((lambda x : x % 2 == 0), range(1, 11)))\n",
    "print(result)"
   ]
  },
  {
   "cell_type": "markdown",
   "id": "999f0605",
   "metadata": {},
   "source": [
    "# List Comprehension : 리스트 내포\n",
    "<br>\n",
    "\n",
    "- for문 if문을 한 줄에 작성하여 새로운 리스트를 생성하는 작업을 효율적으로 수행할 수 있는 기능\n",
    "- 간결하고 처리속도가 빠르다.\n",
    "- 기본형식 : 리스트명 = [표현식 for 개별변수 in 집합변수]\n",
    "- 조건식을 포함 : 리스트명 = [표현식 for 개별변수 in 집합변수 if 조건문]\n",
    "- 조건식 확장 : 리스트명 = [표현식 if 조건문 else 조건문 for문]"
   ]
  },
  {
   "cell_type": "code",
   "execution_count": 27,
   "id": "cadb481c",
   "metadata": {
    "ExecuteTime": {
     "end_time": "2023-09-01T02:30:37.921726Z",
     "start_time": "2023-09-01T02:30:37.917666Z"
    }
   },
   "outputs": [
    {
     "name": "stdout",
     "output_type": "stream",
     "text": [
      "[3, 6, 9, 12, 15, 18, 21, 24, 27]\n"
     ]
    }
   ],
   "source": [
    "# 1 ~ 9까지의 숫자에 3을 곱한 값들을 리스트로 생성하여 출력하는 프로그램\n",
    "result = []\n",
    "for i in range(1, 10):\n",
    "    result.append(i * 3)\n",
    "    \n",
    "print(result)"
   ]
  },
  {
   "cell_type": "code",
   "execution_count": 28,
   "id": "2ec4be06",
   "metadata": {
    "ExecuteTime": {
     "end_time": "2023-09-01T02:31:54.625023Z",
     "start_time": "2023-09-01T02:31:54.611515Z"
    }
   },
   "outputs": [
    {
     "name": "stdout",
     "output_type": "stream",
     "text": [
      "[3, 6, 9, 12, 15, 18, 21, 24, 27]\n"
     ]
    }
   ],
   "source": [
    "res = [i*3 for i in range(1, 10)]\n",
    "print(res)"
   ]
  },
  {
   "cell_type": "markdown",
   "id": "d8870de5",
   "metadata": {},
   "source": [
    "## 다중 for문"
   ]
  },
  {
   "cell_type": "code",
   "execution_count": 29,
   "id": "26869926",
   "metadata": {
    "ExecuteTime": {
     "end_time": "2023-09-01T02:35:43.902236Z",
     "start_time": "2023-09-01T02:35:43.893100Z"
    }
   },
   "outputs": [
    {
     "name": "stdout",
     "output_type": "stream",
     "text": [
      "[0, 1, 2, 3, 4, 1, 2, 3, 4, 5, 2, 3, 4, 5, 6]\n"
     ]
    }
   ],
   "source": [
    "result = []\n",
    "for i in range(3):\n",
    "    for j in range(5):\n",
    "        result.append(i+j)\n",
    "        \n",
    "print(result)"
   ]
  },
  {
   "cell_type": "code",
   "execution_count": 36,
   "id": "cd90f516",
   "metadata": {
    "ExecuteTime": {
     "end_time": "2023-09-01T02:40:41.044713Z",
     "start_time": "2023-09-01T02:40:41.028681Z"
    }
   },
   "outputs": [
    {
     "name": "stdout",
     "output_type": "stream",
     "text": [
      "[0, 1, 2, 3, 4, 1, 2, 3, 4, 5, 2, 3, 4, 5, 6]\n"
     ]
    }
   ],
   "source": [
    "result = [i+j for i in range(3) for j in range(5)]\n",
    "print(result)"
   ]
  },
  {
   "cell_type": "code",
   "execution_count": 34,
   "id": "267dda8a",
   "metadata": {
    "ExecuteTime": {
     "end_time": "2023-09-01T02:40:24.261821Z",
     "start_time": "2023-09-01T02:40:24.247367Z"
    }
   },
   "outputs": [
    {
     "name": "stdout",
     "output_type": "stream",
     "text": [
      "01234\n",
      "12345\n",
      "23456\n"
     ]
    }
   ],
   "source": [
    "for i in range(3):\n",
    "    for j in range(5):\n",
    "        print(i+j, end= '')\n",
    "    print()"
   ]
  },
  {
   "cell_type": "code",
   "execution_count": 37,
   "id": "8aaf3db0",
   "metadata": {
    "ExecuteTime": {
     "end_time": "2023-09-01T02:41:11.090372Z",
     "start_time": "2023-09-01T02:41:11.082272Z"
    }
   },
   "outputs": [
    {
     "name": "stdout",
     "output_type": "stream",
     "text": [
      "[[0, 1, 2], [1, 2, 3], [2, 3, 4], [3, 4, 5], [4, 5, 6]]\n"
     ]
    }
   ],
   "source": [
    "result = [[i+j for i in range(3)] for j in range(5)]\n",
    "print(result)"
   ]
  },
  {
   "cell_type": "markdown",
   "id": "1f34116d",
   "metadata": {},
   "source": [
    "## 조건식"
   ]
  },
  {
   "cell_type": "code",
   "execution_count": 39,
   "id": "a477e941",
   "metadata": {
    "ExecuteTime": {
     "end_time": "2023-09-01T02:47:45.701326Z",
     "start_time": "2023-09-01T02:47:45.697309Z"
    }
   },
   "outputs": [
    {
     "name": "stdout",
     "output_type": "stream",
     "text": [
      "[2, 4, 6, 8, 10, 12, 14, 16, 18, 3, 6, 9, 12, 15, 18, 21, 24, 27, 4, 8, 12, 16, 20, 24, 28, 32, 36, 5, 10, 15, 20, 25, 30, 35, 40, 45, 6, 12, 18, 24, 30, 36, 42, 48, 54, 7, 14, 21, 28, 35, 42, 49, 56, 63, 8, 16, 24, 32, 40, 48, 56, 64, 72, 9, 18, 27, 36, 45, 54, 63, 72, 81]\n"
     ]
    }
   ],
   "source": [
    "# 2 ~ 9까지의 구구단을 출력하는 프로그램\n",
    "# 결과를 리스트로 담아서 출력하는 프로그램\n",
    "result = []\n",
    "\n",
    "for x in range(2, 10):  # 단\n",
    "    for y in range(1, 10):\n",
    "        result.append(x * y)\n",
    "        \n",
    "print(result)"
   ]
  },
  {
   "cell_type": "code",
   "execution_count": 42,
   "id": "e5fcd4e9",
   "metadata": {
    "ExecuteTime": {
     "end_time": "2023-09-01T02:48:50.142760Z",
     "start_time": "2023-09-01T02:48:50.138685Z"
    }
   },
   "outputs": [
    {
     "name": "stdout",
     "output_type": "stream",
     "text": [
      "[[2, 3, 4, 5, 6, 7, 8, 9], [4, 6, 8, 10, 12, 14, 16, 18], [6, 9, 12, 15, 18, 21, 24, 27], [8, 12, 16, 20, 24, 28, 32, 36], [10, 15, 20, 25, 30, 35, 40, 45], [12, 18, 24, 30, 36, 42, 48, 54], [14, 21, 28, 35, 42, 49, 56, 63], [16, 24, 32, 40, 48, 56, 64, 72], [18, 27, 36, 45, 54, 63, 72, 81]]\n"
     ]
    }
   ],
   "source": [
    "# 리스트 내포 표현식\n",
    "result = [[x * y for x in range(2, 10)] for y in range(1, 10)]\n",
    "print(result)"
   ]
  },
  {
   "cell_type": "code",
   "execution_count": 44,
   "id": "8a151364",
   "metadata": {
    "ExecuteTime": {
     "end_time": "2023-09-01T02:50:51.504464Z",
     "start_time": "2023-09-01T02:50:51.495956Z"
    }
   },
   "outputs": [
    {
     "name": "stdout",
     "output_type": "stream",
     "text": [
      "[2, 4, 6, 8, 10, 12, 14, 16, 18, 4, 8, 12, 16, 20, 24, 28, 32, 36, 6, 12, 18, 24, 30, 36, 42, 48, 54, 8, 16, 24, 32, 40, 48, 56, 64, 72]\n"
     ]
    }
   ],
   "source": [
    "# 짝수의 결과만 추출하는 작업\n",
    "result = []\n",
    "\n",
    "for x in range(2, 10):  # 단\n",
    "    if x % 2 == 0:\n",
    "        for y in range(1, 10):\n",
    "            result.append(x * y)\n",
    "\n",
    "print(result)"
   ]
  },
  {
   "cell_type": "code",
   "execution_count": 48,
   "id": "2702b6b6",
   "metadata": {
    "ExecuteTime": {
     "end_time": "2023-09-01T02:51:54.834717Z",
     "start_time": "2023-09-01T02:51:54.824161Z"
    }
   },
   "outputs": [
    {
     "name": "stdout",
     "output_type": "stream",
     "text": [
      "[2, 4, 6, 8, 10, 12, 14, 16, 18, 4, 8, 12, 16, 20, 24, 28, 32, 36, 6, 12, 18, 24, 30, 36, 42, 48, 54, 8, 16, 24, 32, 40, 48, 56, 64, 72]\n"
     ]
    }
   ],
   "source": [
    "result = [x*y for x in range(2, 10) if x % 2 == 0 for y in range(1, 10)]\n",
    "print(result)"
   ]
  },
  {
   "cell_type": "markdown",
   "id": "5a76d290",
   "metadata": {},
   "source": [
    "## if ~ esle\n",
    "<br>\n",
    "\n",
    "1 ~ 10사이의 수를 대상으로 짝수일 경우 제곱, 홀수일 경우 세곱한 결과를 리스트로 추출"
   ]
  },
  {
   "cell_type": "code",
   "execution_count": 49,
   "id": "b6d56a8f",
   "metadata": {
    "ExecuteTime": {
     "end_time": "2023-09-01T02:54:31.204353Z",
     "start_time": "2023-09-01T02:54:31.185744Z"
    }
   },
   "outputs": [
    {
     "name": "stdout",
     "output_type": "stream",
     "text": [
      "[1, 4, 27, 16, 125, 36, 343, 64, 729, 100]\n"
     ]
    }
   ],
   "source": [
    "result = []\n",
    "\n",
    "for i in range(1, 11):\n",
    "    if i % 2 == 0:\n",
    "        result.append(i ** 2)\n",
    "    else:\n",
    "        result.append(i ** 3)\n",
    "        \n",
    "print(result)"
   ]
  },
  {
   "cell_type": "code",
   "execution_count": 50,
   "id": "4e4baa2c",
   "metadata": {
    "ExecuteTime": {
     "end_time": "2023-09-01T02:56:07.778585Z",
     "start_time": "2023-09-01T02:56:07.766367Z"
    }
   },
   "outputs": [
    {
     "name": "stdout",
     "output_type": "stream",
     "text": [
      "[1, 4, 27, 16, 125, 36, 343, 64, 729, 100]\n"
     ]
    }
   ],
   "source": [
    "result = [i**2 if i % 2 == 0 else i**3 for i in range(1, 11)]\n",
    "print(result)"
   ]
  }
 ],
 "metadata": {
  "kernelspec": {
   "display_name": "Python 3",
   "language": "python",
   "name": "python3"
  },
  "language_info": {
   "codemirror_mode": {
    "name": "ipython",
    "version": 3
   },
   "file_extension": ".py",
   "mimetype": "text/x-python",
   "name": "python",
   "nbconvert_exporter": "python",
   "pygments_lexer": "ipython3",
   "version": "3.8.8"
  },
  "toc": {
   "base_numbering": 1,
   "nav_menu": {},
   "number_sections": true,
   "sideBar": true,
   "skip_h1_title": false,
   "title_cell": "Table of Contents",
   "title_sidebar": "Contents",
   "toc_cell": false,
   "toc_position": {
    "height": "calc(100% - 180px)",
    "left": "10px",
    "top": "150px",
    "width": "292px"
   },
   "toc_section_display": true,
   "toc_window_display": true
  }
 },
 "nbformat": 4,
 "nbformat_minor": 5
}
