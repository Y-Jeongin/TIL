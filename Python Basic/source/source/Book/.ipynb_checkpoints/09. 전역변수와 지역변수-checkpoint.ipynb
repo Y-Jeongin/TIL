{
 "cells": [
  {
   "cell_type": "markdown",
   "id": "9af49f2e",
   "metadata": {},
   "source": [
    "# 전역변수(Global Variable)\n",
    "<br>\n",
    "\n",
    "- 범위 또는 영역 : scope\n"
   ]
  },
  {
   "cell_type": "code",
   "execution_count": 3,
   "id": "8ba511db",
   "metadata": {
    "ExecuteTime": {
     "end_time": "2023-09-01T03:14:48.646554Z",
     "start_time": "2023-09-01T03:14:48.633084Z"
    }
   },
   "outputs": [
    {
     "name": "stdout",
     "output_type": "stream",
     "text": [
      "x =  1\n",
      "x =  1\n"
     ]
    }
   ],
   "source": [
    "x = 1\n",
    "\n",
    "def func():\n",
    "    print(\"x = \", x)\n",
    "    \n",
    "func()\n",
    "print(\"x = \", x)"
   ]
  },
  {
   "cell_type": "code",
   "execution_count": 4,
   "id": "f2eb7029",
   "metadata": {
    "ExecuteTime": {
     "end_time": "2023-09-01T03:14:59.187311Z",
     "start_time": "2023-09-01T03:14:59.167895Z"
    }
   },
   "outputs": [
    {
     "name": "stdout",
     "output_type": "stream",
     "text": [
      "x =  1\n",
      "x =  2\n"
     ]
    }
   ],
   "source": [
    "x = 1\n",
    "\n",
    "def func():\n",
    "    print(\"x = \", x)\n",
    "    \n",
    "func()\n",
    "\n",
    "x = 2\n",
    "\n",
    "print(\"x = \", x)"
   ]
  },
  {
   "cell_type": "code",
   "execution_count": 5,
   "id": "4f9f4ee8",
   "metadata": {
    "ExecuteTime": {
     "end_time": "2023-09-01T03:15:56.930050Z",
     "start_time": "2023-09-01T03:15:56.921306Z"
    }
   },
   "outputs": [
    {
     "name": "stdout",
     "output_type": "stream",
     "text": [
      "x =  2\n",
      "x =  2\n"
     ]
    }
   ],
   "source": [
    "x = 1\n",
    "\n",
    "def func():\n",
    "    print(\"x = \", x)\n",
    "    \n",
    "x = 2\n",
    "\n",
    "func()\n",
    "print(\"x = \", x)"
   ]
  },
  {
   "cell_type": "markdown",
   "id": "66a0f6a6",
   "metadata": {},
   "source": [
    "# 지역변수(Local Variable)\n",
    "<br>\n",
    "\n",
    "- 선언된 곳에서만 사용이 가능한 변수\n",
    "- 특정 지역에서만 사용하는 변수"
   ]
  },
  {
   "cell_type": "code",
   "execution_count": 7,
   "id": "10e5526d",
   "metadata": {
    "ExecuteTime": {
     "end_time": "2023-09-01T03:19:00.504618Z",
     "start_time": "2023-09-01T03:19:00.385782Z"
    }
   },
   "outputs": [
    {
     "name": "stdout",
     "output_type": "stream",
     "text": [
      "y =  1\n"
     ]
    },
    {
     "ename": "NameError",
     "evalue": "name 'y' is not defined",
     "output_type": "error",
     "traceback": [
      "\u001b[1;31m---------------------------------------------------------------------------\u001b[0m",
      "\u001b[1;31mNameError\u001b[0m                                 Traceback (most recent call last)",
      "\u001b[1;32m<ipython-input-7-dec7f0fd8506>\u001b[0m in \u001b[0;36m<module>\u001b[1;34m\u001b[0m\n\u001b[0;32m      4\u001b[0m \u001b[1;33m\u001b[0m\u001b[0m\n\u001b[0;32m      5\u001b[0m \u001b[0mfunc\u001b[0m\u001b[1;33m(\u001b[0m\u001b[1;33m)\u001b[0m\u001b[1;33m\u001b[0m\u001b[1;33m\u001b[0m\u001b[0m\n\u001b[1;32m----> 6\u001b[1;33m \u001b[0mprint\u001b[0m\u001b[1;33m(\u001b[0m\u001b[1;34m\"y = \"\u001b[0m\u001b[1;33m,\u001b[0m \u001b[0my\u001b[0m\u001b[1;33m)\u001b[0m\u001b[1;33m\u001b[0m\u001b[1;33m\u001b[0m\u001b[0m\n\u001b[0m",
      "\u001b[1;31mNameError\u001b[0m: name 'y' is not defined"
     ]
    }
   ],
   "source": [
    "def func():\n",
    "    y = 1\n",
    "    print(\"y = \", y)\n",
    "    \n",
    "func()\n",
    "print(\"y = \", y)"
   ]
  },
  {
   "cell_type": "code",
   "execution_count": 12,
   "id": "5979ecd7",
   "metadata": {
    "ExecuteTime": {
     "end_time": "2023-09-01T03:23:08.902770Z",
     "start_time": "2023-09-01T03:23:08.894798Z"
    }
   },
   "outputs": [
    {
     "name": "stdout",
     "output_type": "stream",
     "text": [
      "a =  2\n",
      "a =  2\n"
     ]
    }
   ],
   "source": [
    "a = 1  # 전역변수\n",
    "\n",
    "def func():\n",
    "    global a  # 전역변수 a 사용, global a = 2는 사용불가 : 에러 \n",
    "    a = 2  # 전역변수의 값을 변경\n",
    "    print(\"a = \", a)\n",
    "    \n",
    "func()\n",
    "\n",
    "print(\"a = \", a)"
   ]
  },
  {
   "cell_type": "code",
   "execution_count": 13,
   "id": "6b15a814",
   "metadata": {
    "ExecuteTime": {
     "end_time": "2023-09-01T03:24:35.884132Z",
     "start_time": "2023-09-01T03:24:35.877144Z"
    }
   },
   "outputs": [
    {
     "name": "stdout",
     "output_type": "stream",
     "text": [
      "10\n",
      "10\n"
     ]
    }
   ],
   "source": [
    "def func():\n",
    "    global b\n",
    "    b = 10\n",
    "    print(b)\n",
    "    \n",
    "func()\n",
    "print(b)"
   ]
  },
  {
   "cell_type": "markdown",
   "id": "b0cf71ae",
   "metadata": {},
   "source": [
    "# 클로저(Closure)\n",
    "<br>\n",
    "\n",
    "- 어떤 함수의 내부 함수가 외부 함수의 변수(프리변수)를 참조할 때, 외부함수가 종료된 후에도 내부 함수가 외부 함수의 변수를 참조할 수 있도록 어딘가에 저장하는 함수\n",
    "- 조건\n",
    "  1. 반드시 어떤 함수의 내부에 있는 함수\n",
    "  2. 그 내부의 함수가 외부의 함수의 변수를 참조할 것\n",
    "  3. 외부 함수가 내부 함수를 리턴할 것\n",
    "  \n",
    "- 프리변수(free variable) : 어떤 함수에서 사용되지만 그 함수 내부에서 선언되지 않은 변수를 의미한다."
   ]
  },
  {
   "cell_type": "code",
   "execution_count": 14,
   "id": "ac5c0a40",
   "metadata": {
    "ExecuteTime": {
     "end_time": "2023-09-01T03:30:55.964404Z",
     "start_time": "2023-09-01T03:30:55.955791Z"
    }
   },
   "outputs": [],
   "source": [
    "def hello(name):\n",
    "    message = \"Hi, \" + name\n",
    "    \n",
    "    def say():  # 클로저\n",
    "        print(message)\n",
    "        \n",
    "    return say"
   ]
  },
  {
   "cell_type": "code",
   "execution_count": 20,
   "id": "596b7984",
   "metadata": {
    "ExecuteTime": {
     "end_time": "2023-09-01T03:32:23.579116Z",
     "start_time": "2023-09-01T03:32:23.575043Z"
    }
   },
   "outputs": [
    {
     "name": "stdout",
     "output_type": "stream",
     "text": [
      "Hi, 네네\n"
     ]
    }
   ],
   "source": [
    "f = hello('네네')  # 클로저 생성, 객체 복사\n",
    "f()"
   ]
  },
  {
   "cell_type": "code",
   "execution_count": null,
   "id": "8b26d164",
   "metadata": {},
   "outputs": [],
   "source": []
  },
  {
   "cell_type": "code",
   "execution_count": null,
   "id": "9fdfba5f",
   "metadata": {},
   "outputs": [],
   "source": []
  },
  {
   "cell_type": "code",
   "execution_count": null,
   "id": "37009177",
   "metadata": {},
   "outputs": [],
   "source": []
  },
  {
   "cell_type": "code",
   "execution_count": null,
   "id": "f1ca0a05",
   "metadata": {},
   "outputs": [],
   "source": []
  },
  {
   "cell_type": "code",
   "execution_count": null,
   "id": "70763bd3",
   "metadata": {},
   "outputs": [],
   "source": []
  },
  {
   "cell_type": "code",
   "execution_count": null,
   "id": "41d470b8",
   "metadata": {},
   "outputs": [],
   "source": []
  },
  {
   "cell_type": "code",
   "execution_count": null,
   "id": "1ffd541d",
   "metadata": {},
   "outputs": [],
   "source": []
  },
  {
   "cell_type": "code",
   "execution_count": null,
   "id": "69324c4d",
   "metadata": {},
   "outputs": [],
   "source": []
  }
 ],
 "metadata": {
  "kernelspec": {
   "display_name": "Python 3",
   "language": "python",
   "name": "python3"
  },
  "language_info": {
   "codemirror_mode": {
    "name": "ipython",
    "version": 3
   },
   "file_extension": ".py",
   "mimetype": "text/x-python",
   "name": "python",
   "nbconvert_exporter": "python",
   "pygments_lexer": "ipython3",
   "version": "3.8.8"
  },
  "toc": {
   "base_numbering": 1,
   "nav_menu": {},
   "number_sections": true,
   "sideBar": true,
   "skip_h1_title": false,
   "title_cell": "Table of Contents",
   "title_sidebar": "Contents",
   "toc_cell": false,
   "toc_position": {
    "height": "calc(100% - 180px)",
    "left": "10px",
    "top": "150px",
    "width": "287px"
   },
   "toc_section_display": true,
   "toc_window_display": true
  }
 },
 "nbformat": 4,
 "nbformat_minor": 5
}
