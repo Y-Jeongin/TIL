{
 "cells": [
  {
   "cell_type": "markdown",
   "id": "395786ce",
   "metadata": {},
   "source": [
    "# 객체(Object)\n",
    "<br>\n",
    "\n",
    "- 자료구조(Data Structure) : 하나 이상의 데이터를 효율적으로 관리할 목적으로 구현된 틀\n",
    "- 변수 : 하나의 데이터를 저장하는 자료구조\n",
    "- 리스트, 튜플, 사전, 집합 : 하나 이상의 데이터를 묶어서 저장하는 자료구조\n",
    "- 프로그램은 어떤 작업을 수행하기 위해 데이터와 데이터를 조작하는 행위\n",
    "- 함수(Function) : 행위나 동작을 기술하는 틀\n",
    "- 객체(object, instance)는 서로 연관되어 있는 데이터와 그 데이터를 조작하는 함수를 모아놓은 자료구조"
   ]
  },
  {
   "cell_type": "markdown",
   "id": "041f0e6d",
   "metadata": {},
   "source": [
    "## 객체지향을 사용하지 않는 표현\n",
    "<br>\n",
    "\n",
    "- 가로와 세로의 길이를 이용하여 사각형의 면적을 구하는 프로그램"
   ]
  },
  {
   "cell_type": "code",
   "execution_count": 1,
   "id": "a1d835b3",
   "metadata": {
    "ExecuteTime": {
     "end_time": "2023-08-30T07:18:31.287519Z",
     "start_time": "2023-08-30T07:18:31.279628Z"
    }
   },
   "outputs": [
    {
     "name": "stdout",
     "output_type": "stream",
     "text": [
      "200\n"
     ]
    }
   ],
   "source": [
    "h = 10\n",
    "w = 20\n",
    "\n",
    "def area(h, w):\n",
    "    return h * w\n",
    "\n",
    "result = area(h, w)\n",
    "print(result)"
   ]
  },
  {
   "cell_type": "code",
   "execution_count": 2,
   "id": "6bcabaaf",
   "metadata": {
    "ExecuteTime": {
     "end_time": "2023-08-30T07:20:18.418246Z",
     "start_time": "2023-08-30T07:20:14.798559Z"
    }
   },
   "outputs": [
    {
     "name": "stdout",
     "output_type": "stream",
     "text": [
      "가로 = 3\n",
      "세로 = 5\n",
      "15\n"
     ]
    }
   ],
   "source": [
    "h = eval(input('가로 = '))\n",
    "w = eval(input('세로 = '))\n",
    "\n",
    "a = area(h, w)\n",
    "print(a)"
   ]
  },
  {
   "cell_type": "markdown",
   "id": "6d04379a",
   "metadata": {},
   "source": [
    "## 객체지향적인 표현"
   ]
  },
  {
   "cell_type": "code",
   "execution_count": 3,
   "id": "d6555446",
   "metadata": {
    "ExecuteTime": {
     "end_time": "2023-08-30T07:29:24.070737Z",
     "start_time": "2023-08-30T07:29:24.064717Z"
    }
   },
   "outputs": [],
   "source": [
    "class Rect:\n",
    "    # 멤버 메서드 : 인스턴스 메서드\n",
    "    def area(self):\n",
    "        return self.h * self.w"
   ]
  },
  {
   "cell_type": "code",
   "execution_count": 5,
   "id": "76bcca55",
   "metadata": {
    "ExecuteTime": {
     "end_time": "2023-08-30T07:30:09.332502Z",
     "start_time": "2023-08-30T07:30:09.320935Z"
    }
   },
   "outputs": [
    {
     "name": "stdout",
     "output_type": "stream",
     "text": [
      "면적 :  28\n"
     ]
    }
   ],
   "source": [
    "obj = Rect()\n",
    "obj.h = 4\n",
    "obj.w = 7\n",
    "print(\"면적 : \", obj.area())"
   ]
  },
  {
   "cell_type": "code",
   "execution_count": 6,
   "id": "392714c9",
   "metadata": {
    "ExecuteTime": {
     "end_time": "2023-08-30T07:31:27.216356Z",
     "start_time": "2023-08-30T07:31:26.263617Z"
    }
   },
   "outputs": [
    {
     "name": "stdout",
     "output_type": "stream",
     "text": [
      "가로 = 4\n",
      "세로 = 8\n",
      "면적 :  32\n"
     ]
    }
   ],
   "source": [
    "obj = Rect()\n",
    "obj.h = int(input('가로 = '))\n",
    "obj.w = int(input('세로 = '))\n",
    "print(\"면적 : \", obj.area())"
   ]
  },
  {
   "cell_type": "code",
   "execution_count": 7,
   "id": "94d579cd",
   "metadata": {
    "ExecuteTime": {
     "end_time": "2023-08-30T07:33:21.031366Z",
     "start_time": "2023-08-30T07:33:21.020412Z"
    }
   },
   "outputs": [],
   "source": [
    "class Rect:\n",
    "    # 생성자 메서드 - 멤버 필드를 초기화 시켜주는 역할\n",
    "    def __init__(self):\n",
    "        self.h = int(input('가로 = '))\n",
    "        self.w = int(input('세로 = '))\n",
    "    \n",
    "    # 멤버 메서드 : 인스턴스 메서드\n",
    "    def area(self):\n",
    "        return self.h * self.w"
   ]
  },
  {
   "cell_type": "code",
   "execution_count": 8,
   "id": "d45463fe",
   "metadata": {
    "ExecuteTime": {
     "end_time": "2023-08-30T07:33:37.924682Z",
     "start_time": "2023-08-30T07:33:35.937261Z"
    }
   },
   "outputs": [
    {
     "name": "stdout",
     "output_type": "stream",
     "text": [
      "가로 = 8\n",
      "세로 = 4\n",
      "면적 :  32\n"
     ]
    }
   ],
   "source": [
    "obj1 = Rect()\n",
    "print(\"면적 : \", obj.area())"
   ]
  },
  {
   "cell_type": "code",
   "execution_count": 9,
   "id": "2f008636",
   "metadata": {
    "ExecuteTime": {
     "end_time": "2023-08-30T07:36:03.834091Z",
     "start_time": "2023-08-30T07:36:01.594183Z"
    }
   },
   "outputs": [
    {
     "name": "stdout",
     "output_type": "stream",
     "text": [
      "가로 = 1\n",
      "세로 = 1\n",
      "가로 = 2\n",
      "세로 = 2\n",
      "가로 = 3\n",
      "세로 = 3\n",
      "면적 :  1\n",
      "면적 :  4\n",
      "면적 :  9\n"
     ]
    }
   ],
   "source": [
    "r1 = Rect()\n",
    "r2 = Rect()\n",
    "r3 = Rect()\n",
    "\n",
    "print(\"면적 : \", r1.area())\n",
    "print(\"면적 : \", r2.area())\n",
    "print(\"면적 : \", r3.area())"
   ]
  },
  {
   "cell_type": "code",
   "execution_count": 10,
   "id": "102daa38",
   "metadata": {
    "ExecuteTime": {
     "end_time": "2023-08-30T07:40:09.288289Z",
     "start_time": "2023-08-30T07:40:07.596268Z"
    }
   },
   "outputs": [
    {
     "name": "stdout",
     "output_type": "stream",
     "text": [
      "가로 = 1\n",
      "세로 = 1\n",
      "가로 = 2\n",
      "세로 = 2\n",
      "가로 = 3\n",
      "세로 = 3\n",
      "면적 :  1\n",
      "면적 :  4\n",
      "면적 :  9\n"
     ]
    }
   ],
   "source": [
    "# obj = [Rect(), Rect(), Rect()]\n",
    "obj = []\n",
    "\n",
    "for i in range(3):\n",
    "    obj.append(Rect())\n",
    "    \n",
    "for i in obj:\n",
    "    print(\"면적 : \", i.area())"
   ]
  },
  {
   "cell_type": "code",
   "execution_count": 11,
   "id": "9553949c",
   "metadata": {
    "ExecuteTime": {
     "end_time": "2023-08-30T07:41:22.233436Z",
     "start_time": "2023-08-30T07:41:22.220198Z"
    }
   },
   "outputs": [
    {
     "name": "stdout",
     "output_type": "stream",
     "text": [
      "면적 :  1\n",
      "면적 :  4\n",
      "면적 :  9\n"
     ]
    }
   ],
   "source": [
    "for i in range(3):\n",
    "    print(\"면적 : \", obj[i].area())"
   ]
  },
  {
   "cell_type": "markdown",
   "id": "53e8e310",
   "metadata": {},
   "source": [
    "# 성적처리 프로그램"
   ]
  },
  {
   "cell_type": "markdown",
   "id": "436681eb",
   "metadata": {},
   "source": [
    "## 한명의 성적을 계산하여 출력하는 프로그램\n",
    "<br>\n",
    "\n",
    "- 국어, 영어, 수학, 사회과목의 점수를 이용하여 총점과 평균을 계산하여 출력하는 프로그램"
   ]
  },
  {
   "cell_type": "code",
   "execution_count": 16,
   "id": "e3bfdec5",
   "metadata": {
    "ExecuteTime": {
     "end_time": "2023-08-30T07:50:24.905565Z",
     "start_time": "2023-08-30T07:50:24.879325Z"
    }
   },
   "outputs": [
    {
     "name": "stdout",
     "output_type": "stream",
     "text": [
      "총점 : 329, 평균 : 82.25\n"
     ]
    }
   ],
   "source": [
    "name = '홍길동'\n",
    "kor = 88\n",
    "eng = 79\n",
    "math = 88\n",
    "soc = 74\n",
    "\n",
    "tot = kor + eng + math + soc\n",
    "avg = tot / 4\n",
    "\n",
    "print(\"총점 : {0}, 평균 : {1:.2f}\".format(tot, avg))"
   ]
  },
  {
   "cell_type": "markdown",
   "id": "1241ba69",
   "metadata": {},
   "source": [
    "## 세명의 성적을 처리하는 프로그램"
   ]
  },
  {
   "cell_type": "code",
   "execution_count": 20,
   "id": "142bd1a0",
   "metadata": {
    "ExecuteTime": {
     "end_time": "2023-08-30T07:52:53.596181Z",
     "start_time": "2023-08-30T07:52:53.585981Z"
    }
   },
   "outputs": [
    {
     "name": "stdout",
     "output_type": "stream",
     "text": [
      "이름 : 홍길동, 총점 : 329, 평균 : 82.25\n",
      "이름 : 장보고, 총점 : 334, 평균 : 83.50\n",
      "이름 : 이순신, 총점 : 367, 평균 : 91.75\n"
     ]
    }
   ],
   "source": [
    "name_1 = '홍길동'\n",
    "kor_1 = 88\n",
    "eng_1 = 79\n",
    "math_1 = 88\n",
    "soc_1 = 74\n",
    "\n",
    "name_2 = '장보고'\n",
    "kor_2 = 79\n",
    "eng_2 = 80\n",
    "math_2 = 92\n",
    "soc_2 = 83\n",
    "\n",
    "name_3 = '이순신'\n",
    "kor_3 = 90\n",
    "eng_3 = 82\n",
    "math_3 = 95\n",
    "soc_3 = 100\n",
    "\n",
    "def get_tot(kor, eng, math, soc):\n",
    "    return kor + eng + math + soc\n",
    "\n",
    "def get_avg(tot):\n",
    "    return tot / 4\n",
    "\n",
    "tot1 = get_tot(kor_1, eng_1, math_1, soc_1)\n",
    "tot2 = get_tot(kor_2, eng_2, math_2, soc_2)\n",
    "tot3 = get_tot(kor_3, eng_3, math_3, soc_3)\n",
    "\n",
    "avg1 = get_avg(tot1)\n",
    "avg2 = get_avg(tot2)\n",
    "avg3 = get_avg(tot3)\n",
    "\n",
    "print(\"이름 : {0}, 총점 : {1}, 평균 : {2:.2f}\".format(name_1, tot1, avg1))\n",
    "print(\"이름 : {0}, 총점 : {1}, 평균 : {2:.2f}\".format(name_2, tot2, avg2))\n",
    "print(\"이름 : {0}, 총점 : {1}, 평균 : {2:.2f}\".format(name_3, tot3, avg3))"
   ]
  },
  {
   "cell_type": "code",
   "execution_count": 21,
   "id": "512b2253",
   "metadata": {
    "ExecuteTime": {
     "end_time": "2023-08-30T07:58:02.387196Z",
     "start_time": "2023-08-30T07:58:02.382198Z"
    }
   },
   "outputs": [
    {
     "name": "stdout",
     "output_type": "stream",
     "text": [
      "이름 : 홍길동, 총점 : 342, 평균 : 85.50\n",
      "이름 : 장보고, 총점 : 347, 평균 : 86.75\n",
      "이름 : 이순신, 총점 : 361, 평균 : 90.25\n"
     ]
    }
   ],
   "source": [
    "stu1 = [\"홍길동\", 88, 78, 92, 84]\n",
    "stu2 = [\"장보고\", 90, 76, 82, 99]\n",
    "stu3 = [\"이순신\", 90, 89, 94, 88]\n",
    "\n",
    "tot1 = get_tot(stu1[1], stu1[2], stu1[3], stu1[4])\n",
    "tot2 = get_tot(stu2[1], stu2[2], stu2[3], stu2[4])\n",
    "tot3 = get_tot(stu3[1], stu3[2], stu3[3], stu3[4])\n",
    "\n",
    "avg1 = get_avg(tot1)\n",
    "avg2 = get_avg(tot2)\n",
    "avg3 = get_avg(tot3)\n",
    "\n",
    "print(\"이름 : {0}, 총점 : {1}, 평균 : {2:.2f}\".format(stu1[0], tot1, avg1))\n",
    "print(\"이름 : {0}, 총점 : {1}, 평균 : {2:.2f}\".format(stu2[0], tot2, avg2))\n",
    "print(\"이름 : {0}, 총점 : {1}, 평균 : {2:.2f}\".format(stu3[0], tot3, avg3))"
   ]
  },
  {
   "cell_type": "code",
   "execution_count": 22,
   "id": "8c83db71",
   "metadata": {
    "ExecuteTime": {
     "end_time": "2023-08-30T08:00:04.580349Z",
     "start_time": "2023-08-30T08:00:04.568213Z"
    }
   },
   "outputs": [],
   "source": [
    "students = [\n",
    "    [\"홍길동\", 88, 78, 92, 84], \n",
    "    [\"장보고\", 90, 76, 82, 99], \n",
    "    [\"이순신\", 90, 89, 94, 88]\n",
    "]\n",
    "\n",
    "def get_tot(student):\n",
    "    tot = 0\n",
    "    for i in range(1, 5):\n",
    "        tot += i\n",
    "    return tot\n",
    "\n",
    "def get_avg(tot):\n",
    "    return tot / 4"
   ]
  },
  {
   "cell_type": "code",
   "execution_count": 23,
   "id": "93672818",
   "metadata": {
    "ExecuteTime": {
     "end_time": "2023-08-30T08:01:45.634120Z",
     "start_time": "2023-08-30T08:01:45.617727Z"
    }
   },
   "outputs": [
    {
     "data": {
      "text/plain": [
       "[['홍길동', 88, 78, 92, 84], ['장보고', 90, 76, 82, 99], ['이순신', 90, 89, 94, 88]]"
      ]
     },
     "execution_count": 23,
     "metadata": {},
     "output_type": "execute_result"
    }
   ],
   "source": [
    "students = [\n",
    "    [\"홍길동\", 88, 78, 92, 84], \n",
    "    [\"장보고\", 90, 76, 82, 99], \n",
    "    [\"이순신\", 90, 89, 94, 88]\n",
    "]\n",
    "students"
   ]
  },
  {
   "cell_type": "code",
   "execution_count": 24,
   "id": "037d6927",
   "metadata": {
    "ExecuteTime": {
     "end_time": "2023-08-30T08:02:02.348204Z",
     "start_time": "2023-08-30T08:02:02.330694Z"
    }
   },
   "outputs": [
    {
     "name": "stdout",
     "output_type": "stream",
     "text": [
      "['홍길동', 88, 78, 92, 84]\n",
      "['장보고', 90, 76, 82, 99]\n",
      "['이순신', 90, 89, 94, 88]\n"
     ]
    }
   ],
   "source": [
    "for i in students:\n",
    "    print(i)"
   ]
  },
  {
   "cell_type": "code",
   "execution_count": 30,
   "id": "a2105703",
   "metadata": {
    "ExecuteTime": {
     "end_time": "2023-08-30T08:04:14.963495Z",
     "start_time": "2023-08-30T08:04:14.949142Z"
    }
   },
   "outputs": [
    {
     "name": "stdout",
     "output_type": "stream",
     "text": [
      "342\n",
      "347\n",
      "361\n"
     ]
    }
   ],
   "source": [
    "# 다중 for문 : 리스트 안에 리스트\n",
    "for i in students:\n",
    "    tot = 0\n",
    "    for j in range(1, 5):\n",
    "        tot += i[j]\n",
    "    print(tot)"
   ]
  },
  {
   "cell_type": "code",
   "execution_count": 38,
   "id": "ce9861fa",
   "metadata": {
    "ExecuteTime": {
     "end_time": "2023-08-30T08:12:01.745034Z",
     "start_time": "2023-08-30T08:12:01.730893Z"
    }
   },
   "outputs": [],
   "source": [
    "class Student:\n",
    "    def __init__(self, name, kor, eng, math, soc):\n",
    "        self.name = name\n",
    "        self.kor = kor\n",
    "        self.eng = eng\n",
    "        self.math = math\n",
    "        self.soc = soc\n",
    "        \n",
    "    def get_tot(self):\n",
    "        return self.kor + self.eng + self.math + self.soc\n",
    "    \n",
    "    def get_avg(self):\n",
    "        return self.get_tot() / 4\n",
    "    \n",
    "    def show(self):\n",
    "        print(\"이름 : {0}, 총점 : {1}, 평균 : {2:.2f}\".format(self.name, self.get_tot(), self.get_avg())) "
   ]
  },
  {
   "cell_type": "code",
   "execution_count": 39,
   "id": "9529bec9",
   "metadata": {
    "ExecuteTime": {
     "end_time": "2023-08-30T08:12:02.019124Z",
     "start_time": "2023-08-30T08:12:02.003500Z"
    }
   },
   "outputs": [
    {
     "name": "stdout",
     "output_type": "stream",
     "text": [
      "이름 : 홍길동, 총점 : 342, 평균 : 85.50\n",
      "이름 : 장보고, 총점 : 347, 평균 : 86.75\n",
      "이름 : 이순신, 총점 : 361, 평균 : 90.25\n"
     ]
    }
   ],
   "source": [
    "students = [\n",
    "    Student(\"홍길동\", 88, 78, 92, 84), \n",
    "    Student(\"장보고\", 90, 76, 82, 99), \n",
    "    Student(\"이순신\", 90, 89, 94, 88)\n",
    "]\n",
    "\n",
    "for stu in students:\n",
    "    stu.show()"
   ]
  },
  {
   "cell_type": "markdown",
   "id": "d6ad4fe8",
   "metadata": {},
   "source": [
    "# 은행 계좌 관리 프로그램\n",
    "<br>\n",
    "\n",
    "- 둘 이상의 고객에 대한 계좌 정보를 관리할 목적으로 프로그램을 구현할 것.\n",
    "- 고객정보는 고객이름, 계좌번호, 예금 금액을 관리할 것.\n",
    "- 계좌번호를 이용하여 고객을 식별할 것.\n",
    "- 계좌개설, 입금처리, 출금처리, 계좌정보출력, 전체계좌정보 출력의 기능을 제공할 것.\n",
    "- 사용자가 원하는 작업을 수행할 수 있도록 구현할 것.\n",
    "- 객체 지향적인 프로그래밍 기법을 활용할 것.\n",
    "- 기타 조건은 일반적인 흐름에 맞게 구현할 것."
   ]
  },
  {
   "cell_type": "code",
   "execution_count": 56,
   "id": "a9265548",
   "metadata": {
    "ExecuteTime": {
     "end_time": "2023-08-30T08:50:24.230872Z",
     "start_time": "2023-08-30T08:50:24.215665Z"
    }
   },
   "outputs": [],
   "source": [
    "# 한 명의 고객에 대한 계좌정보를 관리할 목적의 클래스 선언부\n",
    "class Account:\n",
    "    def __init__(self, name, acid, balance):\n",
    "        self.name = name\n",
    "        self.acid = acid\n",
    "        self.balance = balance\n",
    "        \n",
    "    # 입금처리\n",
    "    def inMoney(self, money):\n",
    "        self.balance += money\n",
    "        \n",
    "    # 출금처리\n",
    "    def outMoney(self, money):\n",
    "        if self.balance < money:\n",
    "            print(\"잔액이 부족합니다.\")\n",
    "        else:\n",
    "            self.balance -= money\n",
    "            print(\"출금처리가 완료되었습니다.\")\n",
    "            print(\"현재 잔액 : \", self.balance)\n",
    "            \n",
    "    # 고객 정보 출력\n",
    "    def show(self):\n",
    "        print(f\"{self.acid} : {self.name} : {self.balance}\")\n",
    "        \n",
    "    # 계좌 번호를 반환\n",
    "    def get_Id(self):\n",
    "        return self.acid"
   ]
  },
  {
   "cell_type": "code",
   "execution_count": 57,
   "id": "f8b3e48e",
   "metadata": {
    "ExecuteTime": {
     "end_time": "2023-08-30T08:50:24.728373Z",
     "start_time": "2023-08-30T08:50:24.723463Z"
    }
   },
   "outputs": [
    {
     "name": "stdout",
     "output_type": "stream",
     "text": [
      "1234 : aaa : 1000\n"
     ]
    }
   ],
   "source": [
    "acc = Account('aaa', '1234', 1000)\n",
    "acc.show()"
   ]
  },
  {
   "cell_type": "code",
   "execution_count": 58,
   "id": "e4054e4e",
   "metadata": {
    "ExecuteTime": {
     "end_time": "2023-08-30T08:50:25.197135Z",
     "start_time": "2023-08-30T08:50:25.181847Z"
    }
   },
   "outputs": [
    {
     "name": "stdout",
     "output_type": "stream",
     "text": [
      "1234 : aaa : 1500\n"
     ]
    }
   ],
   "source": [
    "# 500 저축\n",
    "acc.inMoney(500)\n",
    "acc.show()"
   ]
  },
  {
   "cell_type": "code",
   "execution_count": 59,
   "id": "6e9eb3c9",
   "metadata": {
    "ExecuteTime": {
     "end_time": "2023-08-30T08:50:26.631571Z",
     "start_time": "2023-08-30T08:50:26.627513Z"
    }
   },
   "outputs": [
    {
     "name": "stdout",
     "output_type": "stream",
     "text": [
      "출금처리가 완료되었습니다.\n",
      "현재 잔액 :  700\n",
      "1234 : aaa : 700\n"
     ]
    }
   ],
   "source": [
    "# 800 출금\n",
    "acc.outMoney(800)\n",
    "acc.show()"
   ]
  },
  {
   "cell_type": "code",
   "execution_count": 60,
   "id": "2d095581",
   "metadata": {
    "ExecuteTime": {
     "end_time": "2023-08-30T08:50:28.266073Z",
     "start_time": "2023-08-30T08:50:28.251989Z"
    }
   },
   "outputs": [
    {
     "name": "stdout",
     "output_type": "stream",
     "text": [
      "잔액이 부족합니다.\n"
     ]
    }
   ],
   "source": [
    "acc.outMoney(1000)"
   ]
  },
  {
   "cell_type": "code",
   "execution_count": 61,
   "id": "35547143",
   "metadata": {
    "ExecuteTime": {
     "end_time": "2023-08-30T08:50:29.937795Z",
     "start_time": "2023-08-30T08:50:29.922123Z"
    }
   },
   "outputs": [
    {
     "name": "stdout",
     "output_type": "stream",
     "text": [
      "3456 : bbb : 1000\n"
     ]
    }
   ],
   "source": [
    "acc2 = Account('bbb', '3456', 1000)\n",
    "acc2.show()"
   ]
  },
  {
   "cell_type": "code",
   "execution_count": 63,
   "id": "748ceac8",
   "metadata": {
    "ExecuteTime": {
     "end_time": "2023-08-30T08:50:42.262983Z",
     "start_time": "2023-08-30T08:50:37.269284Z"
    }
   },
   "outputs": [
    {
     "name": "stdout",
     "output_type": "stream",
     "text": [
      "입금처리\n",
      "계좌번호 = 1234\n",
      "입금 금액 = 1000\n"
     ]
    }
   ],
   "source": [
    "print(\"입금처리\")\n",
    "acid = input(\"계좌번호 = \")\n",
    "\n",
    "# 입력받은 계좌번호가 존재해야 입금과 출금처리 가능\n",
    "## acc, acc2\n",
    "## 인원이 더 많으면 for문으로\n",
    "if acid == acc.get_Id():\n",
    "    money = int(input(\"입금 금액 = \"))\n",
    "    acc.inMoney(money)\n",
    "    \n",
    "elif acid == acc2.get_Id():\n",
    "    money = int(input(\"입금 금액 = \"))\n",
    "    acc2.inMoney(money)\n",
    "    \n",
    "else:\n",
    "    print(\"해당 계좌번호가 존재하지 않습니다.\")"
   ]
  },
  {
   "cell_type": "code",
   "execution_count": 64,
   "id": "a71d6868",
   "metadata": {
    "ExecuteTime": {
     "end_time": "2023-08-30T08:50:54.384844Z",
     "start_time": "2023-08-30T08:50:54.378796Z"
    }
   },
   "outputs": [
    {
     "name": "stdout",
     "output_type": "stream",
     "text": [
      "1234 : aaa : 1700\n"
     ]
    }
   ],
   "source": [
    "acc.show()"
   ]
  },
  {
   "cell_type": "code",
   "execution_count": 55,
   "id": "f35683e3",
   "metadata": {
    "ExecuteTime": {
     "end_time": "2023-08-30T08:49:38.100525Z",
     "start_time": "2023-08-30T08:49:38.082929Z"
    }
   },
   "outputs": [
    {
     "name": "stdout",
     "output_type": "stream",
     "text": [
      "True\n"
     ]
    }
   ],
   "source": [
    "a = 'korea'\n",
    "b = 'korea'\n",
    "\n",
    "if a == b:\n",
    "    print(True)\n",
    "else:\n",
    "    print(False)"
   ]
  },
  {
   "cell_type": "code",
   "execution_count": null,
   "id": "3ad1637c",
   "metadata": {},
   "outputs": [],
   "source": []
  },
  {
   "cell_type": "code",
   "execution_count": 44,
   "id": "e765729f",
   "metadata": {
    "ExecuteTime": {
     "end_time": "2023-08-30T08:36:35.840872Z",
     "start_time": "2023-08-30T08:36:33.417138Z"
    }
   },
   "outputs": [
    {
     "name": "stdout",
     "output_type": "stream",
     "text": [
      "--- 은행 계좌 관리 프로그램 ---\n",
      "1. 계좌 개설\n",
      "2. 입금\n",
      "3. 출금\n",
      "4. 계좌 정보 출력\n",
      "5. 전체 계좌 정보\n",
      "6. 프로그램 종료\n",
      "----------------------------\n",
      "선택 = 6\n",
      "프로그램을 종료합니다.\n"
     ]
    }
   ],
   "source": [
    "# main process\n",
    "\n",
    "\n",
    "while True:\n",
    "    print(\"--- 은행 계좌 관리 프로그램 ---\")\n",
    "    print(\"1. 계좌 개설\")\n",
    "    print(\"2. 입금\")\n",
    "    print(\"3. 출금\")\n",
    "    print(\"4. 계좌 정보 출력\")\n",
    "    print(\"5. 전체 계좌 정보\")\n",
    "    print(\"6. 프로그램 종료\")\n",
    "    print(\"-\" * 28)\n",
    "    menu = int(input(\"선택 = \"))\n",
    "    \n",
    "    if menu == 1:\n",
    "        pass\n",
    "    elif menu == 2:\n",
    "        pass\n",
    "    elif menu == 3:\n",
    "        pass\n",
    "    elif menu == 4:\n",
    "        pass\n",
    "    elif menu == 5:\n",
    "        pass\n",
    "    elif menu == 6:\n",
    "        break\n",
    "    else:\n",
    "        print(\"메뉴의 선택이 올바르지 않습니다.\")\n",
    "        \n",
    "print(\"프로그램을 종료합니다.\")"
   ]
  },
  {
   "cell_type": "code",
   "execution_count": null,
   "id": "0f614ab0",
   "metadata": {},
   "outputs": [],
   "source": []
  },
  {
   "cell_type": "code",
   "execution_count": 1,
   "id": "d0d0ab6f",
   "metadata": {
    "ExecuteTime": {
     "end_time": "2023-08-31T02:37:02.250776Z",
     "start_time": "2023-08-31T02:37:02.236838Z"
    }
   },
   "outputs": [],
   "source": [
    "# 한 명의 고객에 대한 계좌정보를 관리할 목적의 클래스 선언부\n",
    "\n",
    "class Account:\n",
    "    \n",
    "    def __init__(self):\n",
    "        self.name = input('이름을 입력하세요 : ')\n",
    "        self.acid = input('계좌번호를 입력하세요 : ')\n",
    "        self.balance = int(input('잔액을 입력하세요 : '))\n",
    "   \n",
    "# 입금처리\n",
    "    def inMoney(self, money):\n",
    "        self.balance += money\n",
    "        print('입금처리가 완료되었습니다.')\n",
    "        print('현재잔액 : ', self.balance)\n",
    "        \n",
    "    # 출금처리\n",
    "    def outMoney(self, money):\n",
    "        if self.balance < money:\n",
    "            print('잔액이 부족합니다.')\n",
    "        else :\n",
    "            self.balance -= money\n",
    "            print('출금처리가 완료되었습니다.')\n",
    "            print('현재잔액 : ', self.balance)\n",
    "            \n",
    "    # 고객정보 출력\n",
    "    def show(self):\n",
    "        print(f'이름 : {self.name}, 계좌번호 :{self.acid}, 잔액 : {self.balance}')\n",
    "        \n",
    "    # 계좌번호를 통해 해당 고객의 정보를 반환\n",
    "    def checkId(self, acid):\n",
    "        if self.acid == acid:\n",
    "            return True\n",
    "        else :\n",
    "            return False\n",
    "    \n",
    "    def checkName(self, name):\n",
    "        if self.name == name:\n",
    "            return True\n",
    "        else :\n",
    "            return False\n",
    "        \n",
    "    def get_id(self):\n",
    "        return self.acid"
   ]
  },
  {
   "cell_type": "code",
   "execution_count": null,
   "id": "b403f621",
   "metadata": {},
   "outputs": [],
   "source": [
    "def Menu():\n",
    "    print('메뉴를 선택하세요 1.정보입력 2.입금 3.출금 4.계좌번호 확인 5.회원정보조회 6.프로그램 종료')\n",
    "    num = int(input('번호를 선택하세요. : '))\n",
    "    return num"
   ]
  },
  {
   "cell_type": "code",
   "execution_count": null,
   "id": "9cc4db0d",
   "metadata": {},
   "outputs": [],
   "source": [
    "\n",
    "aclist = []\n",
    "\n",
    "while True:\n",
    "    num = Menu()\n",
    "    if num == 1:\n",
    "        acc = Account()\n",
    "        aclist.append(acc)\n",
    "    elif num == 2:\n",
    "        print('입금처리')\n",
    "        acid = input('계좌번호 = ')\n",
    "        for info in aclist :\n",
    "            if info.checkId(acid) :\n",
    "                money = int(input('얼마를 입금하시겠습니까? : '))\n",
    "                info.inMoney(돈)\n",
    "            else :\n",
    "                print('계좌번호를 잘못입력했습니다.')\n",
    "                \n",
    "    elif num == 3:\n",
    "        print('출금처리')\n",
    "        acid = input('계좌번호 = ')\n",
    "        for info in aclist :\n",
    "            if info.checkId(acid) :\n",
    "                money = int(input('얼마를 출금하시겠습니까? : '))\n",
    "                info.outMoney(돈)\n",
    "            else :\n",
    "                print('계좌번호를 잘못입력했습니다.')\n",
    "                \n",
    "    elif num == 4:\n",
    "        name = input('이름을 입력하세요 : ')\n",
    "        for info in aclist :\n",
    "            if info.checkName(name) :\n",
    "                print(f'계좌번호는 ({info.get_id()})입니다.')\n",
    "            else :\n",
    "                print('해당 회원이 존재하지않습니다.')\n",
    "        \n",
    "    elif num == 5:\n",
    "        acid = input('계좌번호를 입력하세요 : ')\n",
    "        for info in aclist :\n",
    "            if info.checkId(acid) :\n",
    "                info.show()\n",
    "            else :\n",
    "                print('계좌번호를 잘못입력했습니다.')\n",
    "              \n",
    "    elif num == 6:\n",
    "        print('프로그램을 종료합니다.')\n",
    "        break\n",
    "    else :\n",
    "        print('잘못입력했습니다.')\n",
    "        \n",
    "    "
   ]
  },
  {
   "cell_type": "code",
   "execution_count": null,
   "id": "77cb9ad3",
   "metadata": {},
   "outputs": [],
   "source": []
  }
 ],
 "metadata": {
  "kernelspec": {
   "display_name": "Python 3",
   "language": "python",
   "name": "python3"
  },
  "language_info": {
   "codemirror_mode": {
    "name": "ipython",
    "version": 3
   },
   "file_extension": ".py",
   "mimetype": "text/x-python",
   "name": "python",
   "nbconvert_exporter": "python",
   "pygments_lexer": "ipython3",
   "version": "3.8.8"
  },
  "toc": {
   "base_numbering": 1,
   "nav_menu": {},
   "number_sections": true,
   "sideBar": true,
   "skip_h1_title": false,
   "title_cell": "Table of Contents",
   "title_sidebar": "Contents",
   "toc_cell": false,
   "toc_position": {
    "height": "calc(100% - 180px)",
    "left": "10px",
    "top": "150px",
    "width": "314px"
   },
   "toc_section_display": true,
   "toc_window_display": true
  }
 },
 "nbformat": 4,
 "nbformat_minor": 5
}
