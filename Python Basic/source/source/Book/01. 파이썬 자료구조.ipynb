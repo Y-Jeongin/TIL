{
 "cells": [
  {
   "cell_type": "markdown",
   "id": "96a29e53",
   "metadata": {},
   "source": [
    "- 여러 개의 자료가 순서가 있을 때 리스트(list) 자료형 사용\n",
    "- 여러 개의 자료가 이름이 있을 때 딕셔너리(dictionary) 자료형 사용"
   ]
  },
  {
   "cell_type": "markdown",
   "id": "7847ea1e",
   "metadata": {},
   "source": [
    "# 자료의 순서만 가지는 리스트 자료형"
   ]
  },
  {
   "cell_type": "code",
   "execution_count": null,
   "id": "3bb4bc0e",
   "metadata": {
    "ExecuteTime": {
     "end_time": "2023-08-30T02:52:26.228766Z",
     "start_time": "2023-08-30T02:52:26.222718Z"
    }
   },
   "outputs": [],
   "source": [
    "x = [88, 90, 100]\n",
    "print(x)"
   ]
  },
  {
   "cell_type": "markdown",
   "id": "283baac4",
   "metadata": {},
   "source": [
    "- range() : R의 seq() 함수와 동일하다.\n",
    "- range(n) : 0부터 1씩 증가한 n개의 데이터, range(5) = 0, 1, 2, 3, 4\n",
    "- range(n, m) : n부터 1씩 증가하여 m-1까지의 데이터\n",
    "- range(n, m, k) : n부터 k만큼 증가 또는 감소하여 m-1까지의 데이터"
   ]
  },
  {
   "cell_type": "code",
   "execution_count": null,
   "id": "71bd9c08",
   "metadata": {
    "ExecuteTime": {
     "end_time": "2023-08-30T02:56:03.111713Z",
     "start_time": "2023-08-30T02:56:03.095980Z"
    }
   },
   "outputs": [],
   "source": [
    "print(range(5))"
   ]
  },
  {
   "cell_type": "code",
   "execution_count": null,
   "id": "1e7cef1f",
   "metadata": {
    "ExecuteTime": {
     "end_time": "2023-08-30T02:56:38.300119Z",
     "start_time": "2023-08-30T02:56:38.290319Z"
    }
   },
   "outputs": [],
   "source": [
    "range(5)"
   ]
  },
  {
   "cell_type": "code",
   "execution_count": null,
   "id": "0140526c",
   "metadata": {
    "ExecuteTime": {
     "end_time": "2023-08-30T02:56:59.638011Z",
     "start_time": "2023-08-30T02:56:59.625201Z"
    }
   },
   "outputs": [],
   "source": [
    "list(range(5))"
   ]
  },
  {
   "cell_type": "code",
   "execution_count": null,
   "id": "b5d56c9b",
   "metadata": {
    "ExecuteTime": {
     "end_time": "2023-08-30T02:57:14.216691Z",
     "start_time": "2023-08-30T02:57:14.207566Z"
    }
   },
   "outputs": [],
   "source": [
    "tuple(range(5))"
   ]
  },
  {
   "cell_type": "markdown",
   "id": "b9080b36",
   "metadata": {},
   "source": [
    "## 인덱싱"
   ]
  },
  {
   "cell_type": "code",
   "execution_count": null,
   "id": "60cbda37",
   "metadata": {
    "ExecuteTime": {
     "end_time": "2023-08-30T03:10:51.221723Z",
     "start_time": "2023-08-30T03:10:51.208444Z"
    }
   },
   "outputs": [],
   "source": [
    "print(x[0])"
   ]
  },
  {
   "cell_type": "code",
   "execution_count": null,
   "id": "567abb1f",
   "metadata": {
    "ExecuteTime": {
     "end_time": "2023-08-30T03:10:57.533937Z",
     "start_time": "2023-08-30T03:10:57.520984Z"
    }
   },
   "outputs": [],
   "source": [
    "print(x[1])"
   ]
  },
  {
   "cell_type": "code",
   "execution_count": null,
   "id": "ac0bb1e8",
   "metadata": {
    "ExecuteTime": {
     "end_time": "2023-08-30T03:11:15.770548Z",
     "start_time": "2023-08-30T03:11:15.757296Z"
    }
   },
   "outputs": [],
   "source": [
    "(x[0] + x[1]) / 2"
   ]
  },
  {
   "cell_type": "markdown",
   "id": "8813e0f9",
   "metadata": {},
   "source": [
    "# 자료의 이름(key)만 가지는 딕셔너리 자료형\n",
    "<br>\n",
    "\n",
    "- key와 value가 쌍으로 저장된다.\n",
    "- key를 통해 value를 얻어온다.\n",
    "- key는 중복값을 허용하지 않는다."
   ]
  },
  {
   "cell_type": "code",
   "execution_count": null,
   "id": "9360049f",
   "metadata": {
    "ExecuteTime": {
     "end_time": "2023-08-30T03:13:50.185436Z",
     "start_time": "2023-08-30T03:13:50.171681Z"
    }
   },
   "outputs": [],
   "source": [
    "y = {'kor':88, 'eng':90, 'math':100}\n",
    "y"
   ]
  },
  {
   "cell_type": "code",
   "execution_count": null,
   "id": "b977294d",
   "metadata": {
    "ExecuteTime": {
     "end_time": "2023-08-30T03:14:26.811448Z",
     "start_time": "2023-08-30T03:14:26.801666Z"
    }
   },
   "outputs": [],
   "source": [
    "y['kor']"
   ]
  },
  {
   "cell_type": "code",
   "execution_count": null,
   "id": "d69c6ca1",
   "metadata": {
    "ExecuteTime": {
     "end_time": "2023-08-30T03:14:34.900207Z",
     "start_time": "2023-08-30T03:14:34.894231Z"
    }
   },
   "outputs": [],
   "source": [
    "y.get('kor')"
   ]
  },
  {
   "cell_type": "code",
   "execution_count": null,
   "id": "bf3e861d",
   "metadata": {
    "ExecuteTime": {
     "end_time": "2023-08-30T03:15:25.679770Z",
     "start_time": "2023-08-30T03:15:25.674717Z"
    }
   },
   "outputs": [],
   "source": [
    "z = {1:10, 2:20}  # key값은 문자 사용 권장\n",
    "z"
   ]
  },
  {
   "cell_type": "code",
   "execution_count": null,
   "id": "29fb8a2c",
   "metadata": {
    "ExecuteTime": {
     "end_time": "2023-08-30T03:15:28.688973Z",
     "start_time": "2023-08-30T03:15:28.679487Z"
    }
   },
   "outputs": [],
   "source": [
    "z[1]"
   ]
  },
  {
   "cell_type": "code",
   "execution_count": null,
   "id": "303fd625",
   "metadata": {
    "ExecuteTime": {
     "end_time": "2023-08-30T03:16:17.186468Z",
     "start_time": "2023-08-30T03:16:17.176322Z"
    }
   },
   "outputs": [],
   "source": [
    "a = [[1, 10],[2, 20]]\n",
    "a"
   ]
  },
  {
   "cell_type": "code",
   "execution_count": null,
   "id": "adcdc3b1",
   "metadata": {
    "ExecuteTime": {
     "end_time": "2023-08-30T03:16:30.815275Z",
     "start_time": "2023-08-30T03:16:30.809301Z"
    }
   },
   "outputs": [],
   "source": [
    "a[0]"
   ]
  },
  {
   "cell_type": "code",
   "execution_count": null,
   "id": "1f648195",
   "metadata": {
    "ExecuteTime": {
     "end_time": "2023-08-30T03:16:53.644427Z",
     "start_time": "2023-08-30T03:16:53.634252Z"
    }
   },
   "outputs": [],
   "source": [
    "a[0][1]"
   ]
  },
  {
   "cell_type": "code",
   "execution_count": null,
   "id": "ebd1af47",
   "metadata": {
    "ExecuteTime": {
     "end_time": "2023-08-30T03:17:46.569233Z",
     "start_time": "2023-08-30T03:17:46.561159Z"
    }
   },
   "outputs": [],
   "source": [
    "b = [{0:0, 1:1}, {0:1, 1:2}]\n",
    "b"
   ]
  },
  {
   "cell_type": "code",
   "execution_count": null,
   "id": "bcbe8159",
   "metadata": {
    "ExecuteTime": {
     "end_time": "2023-08-30T03:18:01.512859Z",
     "start_time": "2023-08-30T03:18:01.501086Z"
    }
   },
   "outputs": [],
   "source": [
    "b[0]"
   ]
  },
  {
   "cell_type": "code",
   "execution_count": null,
   "id": "ea4282a3",
   "metadata": {
    "ExecuteTime": {
     "end_time": "2023-08-30T03:18:29.167081Z",
     "start_time": "2023-08-30T03:18:29.151668Z"
    }
   },
   "outputs": [],
   "source": [
    "b[0][1]"
   ]
  },
  {
   "cell_type": "code",
   "execution_count": null,
   "id": "3c9b19e9",
   "metadata": {
    "ExecuteTime": {
     "end_time": "2023-08-30T03:19:20.140110Z",
     "start_time": "2023-08-30T03:19:20.133018Z"
    }
   },
   "outputs": [],
   "source": [
    "c = {'a':[1, 2, 3], 'b':{0:1, 1:2}}\n",
    "c"
   ]
  },
  {
   "cell_type": "code",
   "execution_count": null,
   "id": "86522a50",
   "metadata": {
    "ExecuteTime": {
     "end_time": "2023-08-30T03:19:35.650878Z",
     "start_time": "2023-08-30T03:19:35.640791Z"
    }
   },
   "outputs": [],
   "source": [
    "c['a']"
   ]
  },
  {
   "cell_type": "code",
   "execution_count": null,
   "id": "4ea07af1",
   "metadata": {
    "ExecuteTime": {
     "end_time": "2023-08-30T03:19:49.066318Z",
     "start_time": "2023-08-30T03:19:49.056379Z"
    }
   },
   "outputs": [],
   "source": [
    "c['a'][1]  # 해당 key 값의 인덱스"
   ]
  },
  {
   "cell_type": "code",
   "execution_count": null,
   "id": "0b6a66e5",
   "metadata": {
    "ExecuteTime": {
     "end_time": "2023-08-30T03:20:05.183136Z",
     "start_time": "2023-08-30T03:20:05.175042Z"
    }
   },
   "outputs": [],
   "source": [
    "c['b']"
   ]
  },
  {
   "cell_type": "code",
   "execution_count": null,
   "id": "0fdf0358",
   "metadata": {
    "ExecuteTime": {
     "end_time": "2023-08-30T03:20:17.271598Z",
     "start_time": "2023-08-30T03:20:17.259687Z"
    }
   },
   "outputs": [],
   "source": [
    "c['b'][1]  # key 'b' 안에 있는 key '1'의 값"
   ]
  },
  {
   "cell_type": "markdown",
   "id": "3dcb6ec4",
   "metadata": {},
   "source": [
    "# 리스트 자료형을 다루는 주요 함수"
   ]
  },
  {
   "cell_type": "markdown",
   "id": "3be728d3",
   "metadata": {},
   "source": [
    "## 자료의 개수 : len"
   ]
  },
  {
   "cell_type": "code",
   "execution_count": null,
   "id": "ce6abb72",
   "metadata": {
    "ExecuteTime": {
     "end_time": "2023-08-30T03:21:38.915417Z",
     "start_time": "2023-08-30T03:21:38.907282Z"
    }
   },
   "outputs": [],
   "source": [
    "a = [1, 2, 3, 4, 5]\n",
    "print(len(a))"
   ]
  },
  {
   "cell_type": "markdown",
   "id": "a0659663",
   "metadata": {},
   "source": [
    "## 수열 생성 : 순차적인 자료, range()"
   ]
  },
  {
   "cell_type": "code",
   "execution_count": null,
   "id": "0133967f",
   "metadata": {
    "ExecuteTime": {
     "end_time": "2023-08-30T03:22:41.078005Z",
     "start_time": "2023-08-30T03:22:41.071905Z"
    }
   },
   "outputs": [],
   "source": [
    "b = range(10)\n",
    "b"
   ]
  },
  {
   "cell_type": "code",
   "execution_count": null,
   "id": "d9b204d8",
   "metadata": {
    "ExecuteTime": {
     "end_time": "2023-08-30T03:22:51.050450Z",
     "start_time": "2023-08-30T03:22:51.032371Z"
    }
   },
   "outputs": [],
   "source": [
    "list(b)"
   ]
  },
  {
   "cell_type": "code",
   "execution_count": null,
   "id": "7ccf28eb",
   "metadata": {
    "ExecuteTime": {
     "end_time": "2023-08-30T03:23:18.213802Z",
     "start_time": "2023-08-30T03:23:18.197531Z"
    }
   },
   "outputs": [],
   "source": [
    "c = range(1, 10)\n",
    "list(c)"
   ]
  },
  {
   "cell_type": "code",
   "execution_count": null,
   "id": "59333244",
   "metadata": {
    "ExecuteTime": {
     "end_time": "2023-08-30T03:26:08.032142Z",
     "start_time": "2023-08-30T03:26:08.026083Z"
    }
   },
   "outputs": [],
   "source": [
    "d = list(range(1, 10, 3))\n",
    "d"
   ]
  },
  {
   "cell_type": "markdown",
   "id": "2cd4fde3",
   "metadata": {},
   "source": [
    "## 값을 변경 : update\n",
    "<br>\n",
    "\n",
    "- 변수는 하나의 데이터를 담는 기억장소이다.\n",
    "- 변수에 새로운 데이터가 들어오면 전에 기억된 값이 지워진다."
   ]
  },
  {
   "cell_type": "code",
   "execution_count": null,
   "id": "926d89fe",
   "metadata": {
    "ExecuteTime": {
     "end_time": "2023-08-30T03:25:37.683599Z",
     "start_time": "2023-08-30T03:25:37.673114Z"
    }
   },
   "outputs": [],
   "source": [
    "d[0]"
   ]
  },
  {
   "cell_type": "code",
   "execution_count": null,
   "id": "bfa2fd73",
   "metadata": {
    "ExecuteTime": {
     "end_time": "2023-08-30T03:26:14.530208Z",
     "start_time": "2023-08-30T03:26:14.525110Z"
    }
   },
   "outputs": [],
   "source": [
    "d[0] = 100\n",
    "print(d)"
   ]
  },
  {
   "cell_type": "markdown",
   "id": "99415743",
   "metadata": {},
   "source": [
    "## 값을 추가 : append, insert\n",
    "<br>\n",
    "\n",
    "- append(값) : 리스트 자료의 마지막 위치에 값이 추가되는 메서드\n",
    "- insert(인덱스, 값) : 주어진 인덱스 위치에 값을 추가하는 메서드"
   ]
  },
  {
   "cell_type": "code",
   "execution_count": null,
   "id": "669334f2",
   "metadata": {
    "ExecuteTime": {
     "end_time": "2023-08-30T03:27:25.342067Z",
     "start_time": "2023-08-30T03:27:25.324187Z"
    }
   },
   "outputs": [],
   "source": [
    "xx = list(range(4))\n",
    "print(xx)"
   ]
  },
  {
   "cell_type": "code",
   "execution_count": null,
   "id": "30262731",
   "metadata": {
    "ExecuteTime": {
     "end_time": "2023-08-30T03:27:46.793718Z",
     "start_time": "2023-08-30T03:27:46.782047Z"
    }
   },
   "outputs": [],
   "source": [
    "xx.append(4)\n",
    "print(xx)"
   ]
  },
  {
   "cell_type": "code",
   "execution_count": null,
   "id": "00a6456d",
   "metadata": {
    "ExecuteTime": {
     "end_time": "2023-08-30T03:27:57.195149Z",
     "start_time": "2023-08-30T03:27:57.180930Z"
    }
   },
   "outputs": [],
   "source": [
    "xx.append(10)\n",
    "print(xx)"
   ]
  },
  {
   "cell_type": "code",
   "execution_count": null,
   "id": "201e16fc",
   "metadata": {
    "ExecuteTime": {
     "end_time": "2023-08-30T03:29:19.280251Z",
     "start_time": "2023-08-30T03:29:19.272229Z"
    }
   },
   "outputs": [],
   "source": [
    "xx[6] = 20  # 해당 인덱스가 존재하지 않아 추가되지 않는다."
   ]
  },
  {
   "cell_type": "code",
   "execution_count": null,
   "id": "bc410404",
   "metadata": {
    "ExecuteTime": {
     "end_time": "2023-08-30T03:29:32.041771Z",
     "start_time": "2023-08-30T03:29:32.032608Z"
    }
   },
   "outputs": [],
   "source": [
    "xx.append(20, 30, 40)  # 하나 이상의 값을 담지 못함\n",
    "xx"
   ]
  },
  {
   "cell_type": "code",
   "execution_count": null,
   "id": "f300e46c",
   "metadata": {
    "ExecuteTime": {
     "end_time": "2023-08-30T03:29:49.108054Z",
     "start_time": "2023-08-30T03:29:49.090980Z"
    }
   },
   "outputs": [],
   "source": [
    "xx.append([20, 30, 40])\n",
    "print(xx)"
   ]
  },
  {
   "cell_type": "code",
   "execution_count": null,
   "id": "e031ea64",
   "metadata": {
    "ExecuteTime": {
     "end_time": "2023-08-30T03:30:43.550865Z",
     "start_time": "2023-08-30T03:30:43.537739Z"
    }
   },
   "outputs": [],
   "source": [
    "xx.extend([20, 30, 40])  # 여러개의 값을 담는 함수 : extend\n",
    "print(xx)"
   ]
  },
  {
   "cell_type": "code",
   "execution_count": 80,
   "id": "6c62f115",
   "metadata": {
    "ExecuteTime": {
     "end_time": "2023-08-30T06:33:14.745006Z",
     "start_time": "2023-08-30T06:33:14.726067Z"
    }
   },
   "outputs": [
    {
     "name": "stdout",
     "output_type": "stream",
     "text": [
      "[1, 2, 3, 4, 5]\n"
     ]
    }
   ],
   "source": [
    "sam = [1, 2, 3]\n",
    "sam.append(4)\n",
    "sam.append(5)\n",
    "print(sam)"
   ]
  },
  {
   "cell_type": "code",
   "execution_count": 81,
   "id": "def28bc1",
   "metadata": {
    "ExecuteTime": {
     "end_time": "2023-08-30T06:33:46.798847Z",
     "start_time": "2023-08-30T06:33:46.792934Z"
    }
   },
   "outputs": [
    {
     "data": {
      "text/plain": [
       "[10, 1, 2, 3, 4, 5]"
      ]
     },
     "execution_count": 81,
     "metadata": {},
     "output_type": "execute_result"
    }
   ],
   "source": [
    "sam.insert(0, 10)\n",
    "sam"
   ]
  },
  {
   "cell_type": "markdown",
   "id": "bd8928d2",
   "metadata": {},
   "source": [
    "## 값을 삭제 : del, remove(), pop()\n",
    "<br>\n",
    "\n",
    "- del 명령어 : del 객체[인덱스]\n",
    "- remove 메서드 : remove(값)\n",
    "- pop 메서드 : 리스트의 마지막 요소 추출\n",
    "- 리스트명.pop() : 마지막 요소 추출\n",
    "- 리스트명.pop(인덱스) : 해당 인덱스 요소 추출\n",
    "- 리스트명.clear() : 리스트 내부의 모든 요소를 제거"
   ]
  },
  {
   "cell_type": "code",
   "execution_count": null,
   "id": "d68dfad1",
   "metadata": {
    "ExecuteTime": {
     "end_time": "2023-08-30T03:33:05.130901Z",
     "start_time": "2023-08-30T03:33:05.121233Z"
    }
   },
   "outputs": [],
   "source": [
    "yy = list(range(5))\n",
    "print(yy)"
   ]
  },
  {
   "cell_type": "code",
   "execution_count": null,
   "id": "2b632d16",
   "metadata": {
    "ExecuteTime": {
     "end_time": "2023-08-30T03:33:11.752247Z",
     "start_time": "2023-08-30T03:33:11.735899Z"
    }
   },
   "outputs": [],
   "source": [
    "yy[0]"
   ]
  },
  {
   "cell_type": "code",
   "execution_count": null,
   "id": "a44ffee6",
   "metadata": {
    "ExecuteTime": {
     "end_time": "2023-08-30T03:33:22.286624Z",
     "start_time": "2023-08-30T03:33:22.273603Z"
    }
   },
   "outputs": [],
   "source": [
    "del yy[0]\n",
    "print(yy)"
   ]
  },
  {
   "cell_type": "code",
   "execution_count": null,
   "id": "97c75c65",
   "metadata": {
    "ExecuteTime": {
     "end_time": "2023-08-30T03:33:47.225189Z",
     "start_time": "2023-08-30T03:33:47.217218Z"
    }
   },
   "outputs": [],
   "source": [
    "zz = [1, 1, 2, 3, 3, 3, 4, 4, 4, 4]\n",
    "print(zz)"
   ]
  },
  {
   "cell_type": "code",
   "execution_count": null,
   "id": "eb7ec0c1",
   "metadata": {
    "ExecuteTime": {
     "end_time": "2023-08-30T03:33:57.654006Z",
     "start_time": "2023-08-30T03:33:57.622322Z"
    }
   },
   "outputs": [],
   "source": [
    "zz[0]"
   ]
  },
  {
   "cell_type": "code",
   "execution_count": null,
   "id": "324d5868",
   "metadata": {
    "ExecuteTime": {
     "end_time": "2023-08-30T03:34:00.581105Z",
     "start_time": "2023-08-30T03:34:00.569184Z"
    }
   },
   "outputs": [],
   "source": [
    "zz[1]"
   ]
  },
  {
   "cell_type": "code",
   "execution_count": null,
   "id": "3f6ce69d",
   "metadata": {
    "ExecuteTime": {
     "end_time": "2023-08-30T03:34:08.584116Z",
     "start_time": "2023-08-30T03:34:08.579032Z"
    }
   },
   "outputs": [],
   "source": [
    "del zz[0]"
   ]
  },
  {
   "cell_type": "code",
   "execution_count": null,
   "id": "ccfcddfa",
   "metadata": {
    "ExecuteTime": {
     "end_time": "2023-08-30T03:34:13.973296Z",
     "start_time": "2023-08-30T03:34:13.957008Z"
    }
   },
   "outputs": [],
   "source": [
    "print(zz)"
   ]
  },
  {
   "cell_type": "code",
   "execution_count": null,
   "id": "bad995b8",
   "metadata": {
    "ExecuteTime": {
     "end_time": "2023-08-30T03:34:39.037609Z",
     "start_time": "2023-08-30T03:34:39.019448Z"
    }
   },
   "outputs": [],
   "source": [
    "zz.remove(3)  # 처음 값만 제거\n",
    "print(zz)"
   ]
  },
  {
   "cell_type": "markdown",
   "id": "e14fc131",
   "metadata": {},
   "source": [
    "## 슬라이싱(slicing)\n",
    "<br>\n",
    "\n",
    "- 시작인덱스 : 마지막인덱스(마지막인덱스 -1)"
   ]
  },
  {
   "cell_type": "code",
   "execution_count": null,
   "id": "7edfc7ea",
   "metadata": {
    "ExecuteTime": {
     "end_time": "2023-08-30T03:36:52.408146Z",
     "start_time": "2023-08-30T03:36:52.393275Z"
    }
   },
   "outputs": [],
   "source": [
    "a = list(range(20))\n",
    "print(a)"
   ]
  },
  {
   "cell_type": "code",
   "execution_count": null,
   "id": "a1b1e2b0",
   "metadata": {
    "ExecuteTime": {
     "end_time": "2023-08-30T03:36:57.179606Z",
     "start_time": "2023-08-30T03:36:57.164393Z"
    }
   },
   "outputs": [],
   "source": [
    "a[0]"
   ]
  },
  {
   "cell_type": "code",
   "execution_count": null,
   "id": "dc150122",
   "metadata": {
    "ExecuteTime": {
     "end_time": "2023-08-30T03:37:01.747685Z",
     "start_time": "2023-08-30T03:37:01.736570Z"
    }
   },
   "outputs": [],
   "source": [
    "a[0:5]"
   ]
  },
  {
   "cell_type": "code",
   "execution_count": null,
   "id": "dccf91bf",
   "metadata": {
    "ExecuteTime": {
     "end_time": "2023-08-30T03:37:25.809876Z",
     "start_time": "2023-08-30T03:37:25.799582Z"
    }
   },
   "outputs": [],
   "source": [
    "a[:5]  # 처음값 생략 가능"
   ]
  },
  {
   "cell_type": "code",
   "execution_count": null,
   "id": "b40e0938",
   "metadata": {
    "ExecuteTime": {
     "end_time": "2023-08-30T03:38:22.613926Z",
     "start_time": "2023-08-30T03:38:22.595274Z"
    }
   },
   "outputs": [],
   "source": [
    "# 11번째에서 15번째 자료를 추출\n",
    "a[10:15]"
   ]
  },
  {
   "cell_type": "markdown",
   "id": "b65ce9ce",
   "metadata": {},
   "source": [
    "## 역 인덱싱(음수 인덱싱) = 리버스 인덱싱"
   ]
  },
  {
   "cell_type": "code",
   "execution_count": null,
   "id": "e8b51bd4",
   "metadata": {
    "ExecuteTime": {
     "end_time": "2023-08-30T03:39:30.639529Z",
     "start_time": "2023-08-30T03:39:30.627872Z"
    }
   },
   "outputs": [],
   "source": [
    "print(a)"
   ]
  },
  {
   "cell_type": "code",
   "execution_count": null,
   "id": "3f25681d",
   "metadata": {
    "ExecuteTime": {
     "end_time": "2023-08-30T03:40:35.429843Z",
     "start_time": "2023-08-30T03:40:35.420493Z"
    }
   },
   "outputs": [],
   "source": [
    "a[len(a)-1]"
   ]
  },
  {
   "cell_type": "code",
   "execution_count": null,
   "id": "18dad740",
   "metadata": {
    "ExecuteTime": {
     "end_time": "2023-08-30T03:40:38.867974Z",
     "start_time": "2023-08-30T03:40:38.851044Z"
    }
   },
   "outputs": [],
   "source": [
    "a[19]"
   ]
  },
  {
   "cell_type": "code",
   "execution_count": null,
   "id": "4c9a6a05",
   "metadata": {
    "ExecuteTime": {
     "end_time": "2023-08-30T03:40:42.498227Z",
     "start_time": "2023-08-30T03:40:42.481989Z"
    }
   },
   "outputs": [],
   "source": [
    "a[-1]"
   ]
  },
  {
   "cell_type": "code",
   "execution_count": null,
   "id": "fa63f171",
   "metadata": {
    "ExecuteTime": {
     "end_time": "2023-08-30T03:41:11.711119Z",
     "start_time": "2023-08-30T03:41:11.695987Z"
    }
   },
   "outputs": [],
   "source": [
    "a[-5:-2]"
   ]
  },
  {
   "cell_type": "code",
   "execution_count": null,
   "id": "9f08c220",
   "metadata": {
    "ExecuteTime": {
     "end_time": "2023-08-30T03:41:43.966452Z",
     "start_time": "2023-08-30T03:41:43.957400Z"
    }
   },
   "outputs": [],
   "source": [
    "a[-3:]"
   ]
  },
  {
   "cell_type": "code",
   "execution_count": null,
   "id": "6984d719",
   "metadata": {
    "ExecuteTime": {
     "end_time": "2023-08-30T03:41:52.546461Z",
     "start_time": "2023-08-30T03:41:52.531159Z"
    }
   },
   "outputs": [],
   "source": [
    "a[-3:-1]"
   ]
  },
  {
   "cell_type": "markdown",
   "id": "faecb701",
   "metadata": {},
   "source": [
    "## packing/unpacking, 복수할당"
   ]
  },
  {
   "cell_type": "code",
   "execution_count": null,
   "id": "52a9d79c",
   "metadata": {
    "ExecuteTime": {
     "end_time": "2023-08-30T03:43:30.591277Z",
     "start_time": "2023-08-30T03:43:30.587258Z"
    }
   },
   "outputs": [],
   "source": [
    "a = [1, 2, 3]\n",
    "print(a)"
   ]
  },
  {
   "cell_type": "code",
   "execution_count": null,
   "id": "0dec766c",
   "metadata": {
    "ExecuteTime": {
     "end_time": "2023-08-30T03:43:40.957451Z",
     "start_time": "2023-08-30T03:43:40.953506Z"
    }
   },
   "outputs": [],
   "source": [
    "h1, h2, h3 = a\n",
    "print(h1, h2, h3)"
   ]
  },
  {
   "cell_type": "code",
   "execution_count": null,
   "id": "6ea94afe",
   "metadata": {
    "ExecuteTime": {
     "end_time": "2023-08-30T03:43:50.282764Z",
     "start_time": "2023-08-30T03:43:50.264577Z"
    }
   },
   "outputs": [],
   "source": [
    "h1, h2 = a  # 변수의 수와 맞지 않아 에러 발생\n",
    "print(h1, h2)"
   ]
  },
  {
   "cell_type": "code",
   "execution_count": null,
   "id": "33442159",
   "metadata": {
    "ExecuteTime": {
     "end_time": "2023-08-30T03:44:21.823745Z",
     "start_time": "2023-08-30T03:44:21.810856Z"
    }
   },
   "outputs": [],
   "source": [
    "h1, *h2 = a  # 가변길이 변수 *\n",
    "print(h1, *h2)"
   ]
  },
  {
   "cell_type": "markdown",
   "id": "c922dab2",
   "metadata": {},
   "source": [
    "# 리스트의 반복문 처리"
   ]
  },
  {
   "cell_type": "code",
   "execution_count": 1,
   "id": "f44f8e7c",
   "metadata": {
    "ExecuteTime": {
     "end_time": "2023-08-30T03:51:11.713951Z",
     "start_time": "2023-08-30T03:51:11.706969Z"
    }
   },
   "outputs": [
    {
     "name": "stdout",
     "output_type": "stream",
     "text": [
      "[90, 85, 95, 80, 90, 100, 85, 75, 80, 95]\n"
     ]
    }
   ],
   "source": [
    "score = [90, 85, 95, 80, 90, 100, 85, 75, 80, 95]\n",
    "print(score)"
   ]
  },
  {
   "cell_type": "code",
   "execution_count": null,
   "id": "0e9f4715",
   "metadata": {
    "ExecuteTime": {
     "end_time": "2023-08-30T03:46:03.688319Z",
     "start_time": "2023-08-30T03:46:03.671288Z"
    }
   },
   "outputs": [],
   "source": [
    "len(score)"
   ]
  },
  {
   "cell_type": "code",
   "execution_count": null,
   "id": "de48e15e",
   "metadata": {
    "ExecuteTime": {
     "end_time": "2023-08-30T03:46:21.101568Z",
     "start_time": "2023-08-30T03:46:21.093464Z"
    }
   },
   "outputs": [],
   "source": [
    "sum(score)"
   ]
  },
  {
   "cell_type": "code",
   "execution_count": null,
   "id": "418a2477",
   "metadata": {
    "ExecuteTime": {
     "end_time": "2023-08-30T03:49:29.698417Z",
     "start_time": "2023-08-30T03:49:29.687456Z"
    }
   },
   "outputs": [],
   "source": [
    "# 누적 변수는 초기화\n",
    "tot = 0\n",
    "\n",
    "# for 개변변수 in 집합변수\n",
    "for i in score:\n",
    "    tot += i\n",
    "    \n",
    "print(tot)"
   ]
  },
  {
   "cell_type": "code",
   "execution_count": 2,
   "id": "0d3b1d32",
   "metadata": {
    "ExecuteTime": {
     "end_time": "2023-08-30T03:51:13.371007Z",
     "start_time": "2023-08-30T03:51:13.358361Z"
    }
   },
   "outputs": [
    {
     "name": "stdout",
     "output_type": "stream",
     "text": [
      "875\n"
     ]
    }
   ],
   "source": [
    "# 누적 변수는 초기화\n",
    "tot = 0\n",
    "\n",
    "# for 개변변수 in 집합변수\n",
    "for i in range(len(score)):\n",
    "    tot += score[i]\n",
    "    \n",
    "print(tot)"
   ]
  },
  {
   "cell_type": "code",
   "execution_count": 3,
   "id": "d967b548",
   "metadata": {
    "ExecuteTime": {
     "end_time": "2023-08-30T05:06:31.141299Z",
     "start_time": "2023-08-30T05:06:31.127275Z"
    }
   },
   "outputs": [
    {
     "name": "stdout",
     "output_type": "stream",
     "text": [
      "[[1, 2, 3], [4, 5, 6]]\n"
     ]
    }
   ],
   "source": [
    "x = [[1, 2, 3], [4, 5, 6]]\n",
    "print(x)"
   ]
  },
  {
   "cell_type": "code",
   "execution_count": 4,
   "id": "f5592871",
   "metadata": {
    "ExecuteTime": {
     "end_time": "2023-08-30T05:06:33.991398Z",
     "start_time": "2023-08-30T05:06:33.974332Z"
    }
   },
   "outputs": [
    {
     "data": {
      "text/plain": [
       "[1, 2, 3]"
      ]
     },
     "execution_count": 4,
     "metadata": {},
     "output_type": "execute_result"
    }
   ],
   "source": [
    "x[0]"
   ]
  },
  {
   "cell_type": "code",
   "execution_count": 5,
   "id": "4098d7b8",
   "metadata": {
    "ExecuteTime": {
     "end_time": "2023-08-30T05:06:37.004326Z",
     "start_time": "2023-08-30T05:06:36.988333Z"
    }
   },
   "outputs": [
    {
     "data": {
      "text/plain": [
       "[4, 5, 6]"
      ]
     },
     "execution_count": 5,
     "metadata": {},
     "output_type": "execute_result"
    }
   ],
   "source": [
    "x[1]"
   ]
  },
  {
   "cell_type": "code",
   "execution_count": 6,
   "id": "081735c0",
   "metadata": {
    "ExecuteTime": {
     "end_time": "2023-08-30T05:06:44.231553Z",
     "start_time": "2023-08-30T05:06:44.214237Z"
    }
   },
   "outputs": [
    {
     "name": "stdout",
     "output_type": "stream",
     "text": [
      "[1, 2, 3]\n",
      "[4, 5, 6]\n"
     ]
    }
   ],
   "source": [
    "for i in x:\n",
    "    print(i)"
   ]
  },
  {
   "cell_type": "code",
   "execution_count": 9,
   "id": "cdeb9ef9",
   "metadata": {
    "ExecuteTime": {
     "end_time": "2023-08-30T05:08:31.677711Z",
     "start_time": "2023-08-30T05:08:31.661766Z"
    }
   },
   "outputs": [
    {
     "name": "stdout",
     "output_type": "stream",
     "text": [
      "123\n",
      "456\n"
     ]
    }
   ],
   "source": [
    "for a in x:\n",
    "    for b in a:\n",
    "        print(b, end = '')\n",
    "    print()"
   ]
  },
  {
   "cell_type": "code",
   "execution_count": 10,
   "id": "7a6e8d2a",
   "metadata": {
    "ExecuteTime": {
     "end_time": "2023-08-30T05:10:06.886693Z",
     "start_time": "2023-08-30T05:10:06.878585Z"
    }
   },
   "outputs": [
    {
     "data": {
      "text/plain": [
       "[1, 2, 3, 4, 5, 6]"
      ]
     },
     "execution_count": 10,
     "metadata": {},
     "output_type": "execute_result"
    }
   ],
   "source": [
    "x = [1, 2, 3]\n",
    "y = [4, 5, 6]\n",
    "\n",
    "# x의 각 요소와 y의 각 요소를 더하는 작업, 이때 같은 위치의 요소들끼리 합을 구하는 작업\n",
    "x + y  # 연결의 의미\n",
    "# 출력 : 5 7 9"
   ]
  },
  {
   "cell_type": "code",
   "execution_count": 11,
   "id": "b7d57eaa",
   "metadata": {
    "ExecuteTime": {
     "end_time": "2023-08-30T05:11:32.989372Z",
     "start_time": "2023-08-30T05:11:32.978248Z"
    }
   },
   "outputs": [
    {
     "name": "stdout",
     "output_type": "stream",
     "text": [
      "5 7 9\n"
     ]
    }
   ],
   "source": [
    "print(x[0]+y[0], x[1]+y[1], x[2]+y[2])"
   ]
  },
  {
   "cell_type": "code",
   "execution_count": 12,
   "id": "cf1ee997",
   "metadata": {
    "ExecuteTime": {
     "end_time": "2023-08-30T05:12:47.096782Z",
     "start_time": "2023-08-30T05:12:47.087648Z"
    }
   },
   "outputs": [
    {
     "name": "stdout",
     "output_type": "stream",
     "text": [
      "5 7 9 "
     ]
    }
   ],
   "source": [
    "for i in range(3):\n",
    "    print(x[i] + y[i], end = ' ')"
   ]
  },
  {
   "cell_type": "code",
   "execution_count": 13,
   "id": "58077b3e",
   "metadata": {
    "ExecuteTime": {
     "end_time": "2023-08-30T05:15:09.118058Z",
     "start_time": "2023-08-30T05:15:09.101996Z"
    }
   },
   "outputs": [
    {
     "name": "stdout",
     "output_type": "stream",
     "text": [
      "[5, 7, 9]\n"
     ]
    }
   ],
   "source": [
    "s = []\n",
    "x = [1, 2, 3]\n",
    "y = [4, 5, 6]\n",
    "\n",
    "for i in range(3):\n",
    "    s.append(x[i] + y[i])\n",
    "\n",
    "print(s)"
   ]
  },
  {
   "cell_type": "markdown",
   "id": "9c41903c",
   "metadata": {},
   "source": [
    "## erumerate 함수\n",
    "<br>\n",
    "\n",
    "- 리스트의 각 요소의 값과 인덱스를 리턴하는 함수"
   ]
  },
  {
   "cell_type": "code",
   "execution_count": 16,
   "id": "1fe9a164",
   "metadata": {
    "ExecuteTime": {
     "end_time": "2023-08-30T05:20:37.432409Z",
     "start_time": "2023-08-30T05:20:37.414477Z"
    }
   },
   "outputs": [
    {
     "name": "stdout",
     "output_type": "stream",
     "text": [
      "0 : a\n",
      "1 : b\n",
      "2 : c\n"
     ]
    }
   ],
   "source": [
    "data = ['a', 'b', 'c']\n",
    "# 0:a, 1:b, 2:c\n",
    "for i in range(len(data)):\n",
    "    # print(f\"{i} : {data[i]}\")\n",
    "    print(\"%d : %s\" % (i, data[i]))"
   ]
  },
  {
   "cell_type": "code",
   "execution_count": 17,
   "id": "236892d8",
   "metadata": {
    "ExecuteTime": {
     "end_time": "2023-08-30T05:20:38.155335Z",
     "start_time": "2023-08-30T05:20:38.147615Z"
    }
   },
   "outputs": [
    {
     "name": "stdout",
     "output_type": "stream",
     "text": [
      "0 : a\n",
      "1 : b\n",
      "2 : c\n"
     ]
    }
   ],
   "source": [
    "for idx, value in enumerate(data):\n",
    "    print(\"%d : %s\" % (idx, value))"
   ]
  },
  {
   "cell_type": "code",
   "execution_count": 30,
   "id": "50e6804f",
   "metadata": {
    "ExecuteTime": {
     "end_time": "2023-08-30T05:31:14.459302Z",
     "start_time": "2023-08-30T05:31:14.448258Z"
    }
   },
   "outputs": [
    {
     "name": "stdout",
     "output_type": "stream",
     "text": [
      "[5, 7, 9]\n"
     ]
    }
   ],
   "source": [
    "# zip(L1, L2)\n",
    "\n",
    "s = [0, 0, 0]  # idx를 담아야해서 필요\n",
    "x1 = [1, 2, 3]\n",
    "x2 = [4, 5, 6]\n",
    "\n",
    "for idx, (a, b) in enumerate(zip(x1, x2)):\n",
    "    s[idx] = a + b\n",
    "    \n",
    "print(s)"
   ]
  },
  {
   "cell_type": "code",
   "execution_count": 23,
   "id": "d98e3c72",
   "metadata": {
    "ExecuteTime": {
     "end_time": "2023-08-30T05:25:06.463230Z",
     "start_time": "2023-08-30T05:25:06.453757Z"
    }
   },
   "outputs": [
    {
     "data": {
      "text/plain": [
       "[9, 8, 7, 6, 5, 4, 3, 2, 1, 0]"
      ]
     },
     "execution_count": 23,
     "metadata": {},
     "output_type": "execute_result"
    }
   ],
   "source": [
    "list(range(9, -1, -1))"
   ]
  },
  {
   "cell_type": "code",
   "execution_count": 28,
   "id": "628998a4",
   "metadata": {
    "ExecuteTime": {
     "end_time": "2023-08-30T05:28:44.409048Z",
     "start_time": "2023-08-30T05:28:44.391219Z"
    }
   },
   "outputs": [
    {
     "name": "stdout",
     "output_type": "stream",
     "text": [
      "[(0, 9), (1, 8), (2, 7), (3, 6), (4, 5), (5, 4), (6, 3), (7, 2), (8, 1), (9, 0)]\n"
     ]
    }
   ],
   "source": [
    "x1 = list(range(10))\n",
    "x2 = list(range(9, -1, -1))\n",
    "\n",
    "a = list(zip(x1, x2))\n",
    "print(a)"
   ]
  },
  {
   "cell_type": "code",
   "execution_count": 31,
   "id": "8a37f4c6",
   "metadata": {
    "ExecuteTime": {
     "end_time": "2023-08-30T05:32:52.148133Z",
     "start_time": "2023-08-30T05:32:52.143084Z"
    }
   },
   "outputs": [
    {
     "name": "stdout",
     "output_type": "stream",
     "text": [
      "[(1, 4), (2, 5), (3, 6)]\n"
     ]
    }
   ],
   "source": [
    "x = [1, 2, 3]\n",
    "y = [4, 5, 6]\n",
    "result = list(zip(x, y))  # [(1, 4), (2, 5), (3, 6)]\n",
    "print(result)"
   ]
  },
  {
   "cell_type": "markdown",
   "id": "fb97ca7b",
   "metadata": {},
   "source": [
    "## 오일러 프로젝트 1단계 문제\n",
    "<br>\n",
    "\n",
    "- Find the sum of all the multiples of 3 or 5 below 1000.\n",
    "- 1000 보다 작은 자연수 중 3과 5의 배수의 합을 구해라.\n",
    "- 10 보다 작은 자연수 중 3과 5의 배수의 합 : 3, 6, 9, 5 = 23"
   ]
  },
  {
   "cell_type": "code",
   "execution_count": 37,
   "id": "c192cf9a",
   "metadata": {
    "ExecuteTime": {
     "end_time": "2023-08-30T05:45:00.467717Z",
     "start_time": "2023-08-30T05:45:00.456499Z"
    }
   },
   "outputs": [
    {
     "name": "stdout",
     "output_type": "stream",
     "text": [
      "5050\n"
     ]
    }
   ],
   "source": [
    "# 1부터 100까지의 합\n",
    "tot = 0\n",
    "\n",
    "for i in range(1, 101):\n",
    "    tot += i\n",
    "    \n",
    "print(tot)"
   ]
  },
  {
   "cell_type": "code",
   "execution_count": 47,
   "id": "a0522475",
   "metadata": {
    "ExecuteTime": {
     "end_time": "2023-08-30T05:48:38.559569Z",
     "start_time": "2023-08-30T05:48:38.553459Z"
    }
   },
   "outputs": [
    {
     "name": "stdout",
     "output_type": "stream",
     "text": [
      "233168\n"
     ]
    }
   ],
   "source": [
    "# 1부터 100까지의 3의 배수의 합\n",
    "tot = 0\n",
    "\n",
    "for i in range(1, 1001):\n",
    "    if i % 3  == 0 or i % 5 == 0:\n",
    "        if i < 1000:\n",
    "            tot += i\n",
    "    \n",
    "print(tot)"
   ]
  },
  {
   "cell_type": "code",
   "execution_count": 49,
   "id": "b53f4b6e",
   "metadata": {
    "ExecuteTime": {
     "end_time": "2023-08-30T05:54:07.673820Z",
     "start_time": "2023-08-30T05:54:07.659579Z"
    }
   },
   "outputs": [
    {
     "name": "stdout",
     "output_type": "stream",
     "text": [
      "233168\n"
     ]
    }
   ],
   "source": [
    "# 1부터 100까지의 3의 배수의 합\n",
    "tot = 0\n",
    "\n",
    "for i in range(1, 1000):\n",
    "    if i % 3  == 0 or i % 5 == 0:\n",
    "        tot += i\n",
    "    \n",
    "print(tot)"
   ]
  },
  {
   "cell_type": "markdown",
   "id": "7ee017e7",
   "metadata": {},
   "source": [
    "# 딕셔너리 자료형"
   ]
  },
  {
   "cell_type": "markdown",
   "id": "971f05ed",
   "metadata": {},
   "source": [
    "## 자료의 개수 : len"
   ]
  },
  {
   "cell_type": "code",
   "execution_count": 50,
   "id": "9bf5fef3",
   "metadata": {
    "ExecuteTime": {
     "end_time": "2023-08-30T06:14:50.744416Z",
     "start_time": "2023-08-30T06:14:50.741401Z"
    }
   },
   "outputs": [
    {
     "name": "stdout",
     "output_type": "stream",
     "text": [
      "{'a': 10, 'b': 20}\n"
     ]
    }
   ],
   "source": [
    "x = {'a':10, 'b':20}\n",
    "print(x)"
   ]
  },
  {
   "cell_type": "code",
   "execution_count": 51,
   "id": "cbefbe09",
   "metadata": {
    "ExecuteTime": {
     "end_time": "2023-08-30T06:15:03.448858Z",
     "start_time": "2023-08-30T06:15:03.443753Z"
    }
   },
   "outputs": [
    {
     "name": "stdout",
     "output_type": "stream",
     "text": [
      "<class 'dict'>\n"
     ]
    }
   ],
   "source": [
    "# 자료형 확인\n",
    "print(type(x))"
   ]
  },
  {
   "cell_type": "code",
   "execution_count": 52,
   "id": "340be73d",
   "metadata": {
    "ExecuteTime": {
     "end_time": "2023-08-30T06:15:07.790879Z",
     "start_time": "2023-08-30T06:15:07.776629Z"
    }
   },
   "outputs": [
    {
     "data": {
      "text/plain": [
       "2"
      ]
     },
     "execution_count": 52,
     "metadata": {},
     "output_type": "execute_result"
    }
   ],
   "source": [
    "len(x)"
   ]
  },
  {
   "cell_type": "markdown",
   "id": "75880ddb",
   "metadata": {},
   "source": [
    "## 갱신, 추가, 삭제"
   ]
  },
  {
   "cell_type": "code",
   "execution_count": 53,
   "id": "af0c7b22",
   "metadata": {
    "ExecuteTime": {
     "end_time": "2023-08-30T06:15:41.875845Z",
     "start_time": "2023-08-30T06:15:41.865816Z"
    }
   },
   "outputs": [
    {
     "data": {
      "text/plain": [
       "10"
      ]
     },
     "execution_count": 53,
     "metadata": {},
     "output_type": "execute_result"
    }
   ],
   "source": [
    "x['a']"
   ]
  },
  {
   "cell_type": "code",
   "execution_count": 54,
   "id": "a9dfc3b8",
   "metadata": {
    "ExecuteTime": {
     "end_time": "2023-08-30T06:15:57.949032Z",
     "start_time": "2023-08-30T06:15:57.943024Z"
    }
   },
   "outputs": [
    {
     "data": {
      "text/plain": [
       "{'a': 30, 'b': 20}"
      ]
     },
     "execution_count": 54,
     "metadata": {},
     "output_type": "execute_result"
    }
   ],
   "source": [
    "x['a'] = 30\n",
    "x"
   ]
  },
  {
   "cell_type": "code",
   "execution_count": 55,
   "id": "ed9dc1a1",
   "metadata": {
    "ExecuteTime": {
     "end_time": "2023-08-30T06:16:26.613395Z",
     "start_time": "2023-08-30T06:16:26.595038Z"
    }
   },
   "outputs": [
    {
     "data": {
      "text/plain": [
       "[1, 2, 3]"
      ]
     },
     "execution_count": 55,
     "metadata": {},
     "output_type": "execute_result"
    }
   ],
   "source": [
    "y = [1, 2, 3]\n",
    "y"
   ]
  },
  {
   "cell_type": "code",
   "execution_count": 56,
   "id": "ab57da5b",
   "metadata": {
    "ExecuteTime": {
     "end_time": "2023-08-30T06:16:33.141669Z",
     "start_time": "2023-08-30T06:16:33.137629Z"
    }
   },
   "outputs": [
    {
     "data": {
      "text/plain": [
       "[1, 2, 30]"
      ]
     },
     "execution_count": 56,
     "metadata": {},
     "output_type": "execute_result"
    }
   ],
   "source": [
    "y[2] = 30\n",
    "y"
   ]
  },
  {
   "cell_type": "code",
   "execution_count": 60,
   "id": "e2fbbfff",
   "metadata": {
    "ExecuteTime": {
     "end_time": "2023-08-30T06:17:17.335782Z",
     "start_time": "2023-08-30T06:17:17.316957Z"
    }
   },
   "outputs": [
    {
     "ename": "IndexError",
     "evalue": "list assignment index out of range",
     "output_type": "error",
     "traceback": [
      "\u001b[1;31m---------------------------------------------------------------------------\u001b[0m",
      "\u001b[1;31mIndexError\u001b[0m                                Traceback (most recent call last)",
      "\u001b[1;32m<ipython-input-60-2df5a7743b1d>\u001b[0m in \u001b[0;36m<module>\u001b[1;34m\u001b[0m\n\u001b[1;32m----> 1\u001b[1;33m \u001b[0my\u001b[0m\u001b[1;33m[\u001b[0m\u001b[1;36m4\u001b[0m\u001b[1;33m]\u001b[0m \u001b[1;33m=\u001b[0m \u001b[1;36m4\u001b[0m\u001b[1;33m\u001b[0m\u001b[1;33m\u001b[0m\u001b[0m\n\u001b[0m\u001b[0;32m      2\u001b[0m \u001b[0my\u001b[0m\u001b[1;33m\u001b[0m\u001b[1;33m\u001b[0m\u001b[0m\n",
      "\u001b[1;31mIndexError\u001b[0m: list assignment index out of range"
     ]
    }
   ],
   "source": [
    "y[4] = 4\n",
    "y"
   ]
  },
  {
   "cell_type": "code",
   "execution_count": 57,
   "id": "3f84fd08",
   "metadata": {
    "ExecuteTime": {
     "end_time": "2023-08-30T06:16:49.190244Z",
     "start_time": "2023-08-30T06:16:49.180078Z"
    }
   },
   "outputs": [
    {
     "data": {
      "text/plain": [
       "[1, 2, 30, 4]"
      ]
     },
     "execution_count": 57,
     "metadata": {},
     "output_type": "execute_result"
    }
   ],
   "source": [
    "y.append(4)\n",
    "y"
   ]
  },
  {
   "cell_type": "code",
   "execution_count": 61,
   "id": "f3abe831",
   "metadata": {
    "ExecuteTime": {
     "end_time": "2023-08-30T06:17:32.984575Z",
     "start_time": "2023-08-30T06:17:32.965625Z"
    }
   },
   "outputs": [
    {
     "data": {
      "text/plain": [
       "{'a': 30, 'b': 20, 'c': 40}"
      ]
     },
     "execution_count": 61,
     "metadata": {},
     "output_type": "execute_result"
    }
   ],
   "source": [
    "x['c'] = 40\n",
    "x"
   ]
  },
  {
   "cell_type": "code",
   "execution_count": 62,
   "id": "6bcd45cf",
   "metadata": {
    "ExecuteTime": {
     "end_time": "2023-08-30T06:18:16.832115Z",
     "start_time": "2023-08-30T06:18:16.825060Z"
    }
   },
   "outputs": [
    {
     "data": {
      "text/plain": [
       "{'a': 30, 'c': 40}"
      ]
     },
     "execution_count": 62,
     "metadata": {},
     "output_type": "execute_result"
    }
   ],
   "source": [
    "del x['b']\n",
    "x"
   ]
  },
  {
   "cell_type": "markdown",
   "id": "21b3f0c6",
   "metadata": {},
   "source": [
    "## in / not in\n",
    "<br>\n",
    "\n",
    "- in : 포함여부를 판단하는 명령\n",
    "- not in : 포함하지 않는지를 판단하는 명령"
   ]
  },
  {
   "cell_type": "code",
   "execution_count": 63,
   "id": "5ddba2e2",
   "metadata": {
    "ExecuteTime": {
     "end_time": "2023-08-30T06:19:39.383117Z",
     "start_time": "2023-08-30T06:19:39.376071Z"
    }
   },
   "outputs": [
    {
     "data": {
      "text/plain": [
       "True"
      ]
     },
     "execution_count": 63,
     "metadata": {},
     "output_type": "execute_result"
    }
   ],
   "source": [
    "1 in [1, 2, 3, 4, 5]"
   ]
  },
  {
   "cell_type": "code",
   "execution_count": 64,
   "id": "fd9a93b5",
   "metadata": {
    "ExecuteTime": {
     "end_time": "2023-08-30T06:20:05.565586Z",
     "start_time": "2023-08-30T06:20:05.561679Z"
    }
   },
   "outputs": [
    {
     "data": {
      "text/plain": [
       "{'a': 30, 'c': 40}"
      ]
     },
     "execution_count": 64,
     "metadata": {},
     "output_type": "execute_result"
    }
   ],
   "source": [
    "x"
   ]
  },
  {
   "cell_type": "code",
   "execution_count": 65,
   "id": "c98351ea",
   "metadata": {
    "ExecuteTime": {
     "end_time": "2023-08-30T06:20:12.826808Z",
     "start_time": "2023-08-30T06:20:12.813807Z"
    }
   },
   "outputs": [
    {
     "data": {
      "text/plain": [
       "True"
      ]
     },
     "execution_count": 65,
     "metadata": {},
     "output_type": "execute_result"
    }
   ],
   "source": [
    "'a' in x  # key값"
   ]
  },
  {
   "cell_type": "code",
   "execution_count": 66,
   "id": "70b9f8ac",
   "metadata": {
    "ExecuteTime": {
     "end_time": "2023-08-30T06:20:26.422368Z",
     "start_time": "2023-08-30T06:20:26.415350Z"
    }
   },
   "outputs": [
    {
     "data": {
      "text/plain": [
       "False"
      ]
     },
     "execution_count": 66,
     "metadata": {},
     "output_type": "execute_result"
    }
   ],
   "source": [
    "'d' in x"
   ]
  },
  {
   "cell_type": "markdown",
   "id": "088c41f7",
   "metadata": {},
   "source": [
    "## 딕셔너리의 반복문 처리\n",
    "<br>\n",
    "\n",
    "- keys() : key만 추출해서 리스트 객체로 반환\n",
    "- values() : value만 추출해서 리스트 객체로 반환\n",
    "- items() : item(key, value) 추출"
   ]
  },
  {
   "cell_type": "code",
   "execution_count": 67,
   "id": "f7991a27",
   "metadata": {
    "ExecuteTime": {
     "end_time": "2023-08-30T06:23:08.839760Z",
     "start_time": "2023-08-30T06:23:08.833718Z"
    }
   },
   "outputs": [
    {
     "data": {
      "text/plain": [
       "{'a': 30, 'c': 40}"
      ]
     },
     "execution_count": 67,
     "metadata": {},
     "output_type": "execute_result"
    }
   ],
   "source": [
    "x"
   ]
  },
  {
   "cell_type": "code",
   "execution_count": 68,
   "id": "686ea839",
   "metadata": {
    "ExecuteTime": {
     "end_time": "2023-08-30T06:23:51.106747Z",
     "start_time": "2023-08-30T06:23:51.089735Z"
    }
   },
   "outputs": [
    {
     "name": "stdout",
     "output_type": "stream",
     "text": [
      "a\n",
      "c\n"
     ]
    }
   ],
   "source": [
    "for key in x:\n",
    "    print(key)"
   ]
  },
  {
   "cell_type": "code",
   "execution_count": 69,
   "id": "5281e133",
   "metadata": {
    "ExecuteTime": {
     "end_time": "2023-08-30T06:23:55.689326Z",
     "start_time": "2023-08-30T06:23:55.671388Z"
    }
   },
   "outputs": [
    {
     "data": {
      "text/plain": [
       "dict_keys(['a', 'c'])"
      ]
     },
     "execution_count": 69,
     "metadata": {},
     "output_type": "execute_result"
    }
   ],
   "source": [
    "x.keys()"
   ]
  },
  {
   "cell_type": "code",
   "execution_count": 70,
   "id": "f32bc027",
   "metadata": {
    "ExecuteTime": {
     "end_time": "2023-08-30T06:24:29.622846Z",
     "start_time": "2023-08-30T06:24:29.608288Z"
    }
   },
   "outputs": [
    {
     "name": "stdout",
     "output_type": "stream",
     "text": [
      "a\n",
      "c\n"
     ]
    }
   ],
   "source": [
    "for key in x.keys():\n",
    "    print(key)"
   ]
  },
  {
   "cell_type": "code",
   "execution_count": 72,
   "id": "752392d3",
   "metadata": {
    "ExecuteTime": {
     "end_time": "2023-08-30T06:25:10.875852Z",
     "start_time": "2023-08-30T06:25:10.857761Z"
    }
   },
   "outputs": [
    {
     "data": {
      "text/plain": [
       "dict_values([30, 40])"
      ]
     },
     "execution_count": 72,
     "metadata": {},
     "output_type": "execute_result"
    }
   ],
   "source": [
    "x.values()"
   ]
  },
  {
   "cell_type": "code",
   "execution_count": 73,
   "id": "5e73f766",
   "metadata": {
    "ExecuteTime": {
     "end_time": "2023-08-30T06:25:20.978515Z",
     "start_time": "2023-08-30T06:25:20.962397Z"
    }
   },
   "outputs": [
    {
     "name": "stdout",
     "output_type": "stream",
     "text": [
      "30\n",
      "40\n"
     ]
    }
   ],
   "source": [
    "for v in x.values():\n",
    "    print(v)"
   ]
  },
  {
   "cell_type": "code",
   "execution_count": 74,
   "id": "85d3d089",
   "metadata": {
    "ExecuteTime": {
     "end_time": "2023-08-30T06:25:54.531715Z",
     "start_time": "2023-08-30T06:25:54.515530Z"
    }
   },
   "outputs": [
    {
     "data": {
      "text/plain": [
       "dict_items([('a', 30), ('c', 40)])"
      ]
     },
     "execution_count": 74,
     "metadata": {},
     "output_type": "execute_result"
    }
   ],
   "source": [
    "x.items()"
   ]
  },
  {
   "cell_type": "code",
   "execution_count": 75,
   "id": "36f7471f",
   "metadata": {
    "ExecuteTime": {
     "end_time": "2023-08-30T06:26:02.621819Z",
     "start_time": "2023-08-30T06:26:02.615710Z"
    }
   },
   "outputs": [
    {
     "name": "stdout",
     "output_type": "stream",
     "text": [
      "('a', 30)\n",
      "('c', 40)\n"
     ]
    }
   ],
   "source": [
    "for i in x.items():\n",
    "    print(i)"
   ]
  },
  {
   "cell_type": "code",
   "execution_count": 77,
   "id": "09bfd596",
   "metadata": {
    "ExecuteTime": {
     "end_time": "2023-08-30T06:27:12.033794Z",
     "start_time": "2023-08-30T06:27:12.016897Z"
    }
   },
   "outputs": [
    {
     "name": "stdout",
     "output_type": "stream",
     "text": [
      "key[a] => value[30]\n",
      "key[c] => value[40]\n"
     ]
    }
   ],
   "source": [
    "for k, v in x.items():\n",
    "    print(\"key[%s] => value[%d]\" % (k, v))"
   ]
  },
  {
   "cell_type": "code",
   "execution_count": 79,
   "id": "240f00d7",
   "metadata": {
    "ExecuteTime": {
     "end_time": "2023-08-30T06:28:44.640219Z",
     "start_time": "2023-08-30T06:28:44.628299Z"
    }
   },
   "outputs": [
    {
     "data": {
      "text/plain": [
       "{'a': 30, 'b': 20, 'c': 40}"
      ]
     },
     "execution_count": 79,
     "metadata": {},
     "output_type": "execute_result"
    }
   ],
   "source": [
    "xx = {'a':10, 'b':20, 'a':30, 'c':40}  # 사전은 중복을 허용하지 않는다. 에러 발생 x\n",
    "xx"
   ]
  },
  {
   "cell_type": "markdown",
   "id": "c86c5392",
   "metadata": {},
   "source": [
    "## 딕셔너리 요소 접근 예제"
   ]
  },
  {
   "cell_type": "code",
   "execution_count": 83,
   "id": "e341cc59",
   "metadata": {
    "ExecuteTime": {
     "end_time": "2023-08-30T06:42:02.639813Z",
     "start_time": "2023-08-30T06:42:02.629555Z"
    }
   },
   "outputs": [],
   "source": [
    "dt = {\n",
    "    'name' : '건조 망고',\n",
    "    'type' : '당절임',\n",
    "    'ingredient' : ['망고', '설탕', '치자황색소', '나트륨'],\n",
    "    'country' : '필리핀'\n",
    "}"
   ]
  },
  {
   "cell_type": "code",
   "execution_count": 84,
   "id": "3075fafb",
   "metadata": {
    "ExecuteTime": {
     "end_time": "2023-08-30T06:42:37.245442Z",
     "start_time": "2023-08-30T06:42:37.226476Z"
    }
   },
   "outputs": [
    {
     "name": "stdout",
     "output_type": "stream",
     "text": [
      "name :  건조 망고\n",
      "type :  당절임\n",
      "ingredient :  ['망고', '설탕', '치자황색소', '나트륨']\n",
      "country :  필리핀\n"
     ]
    }
   ],
   "source": [
    "# 사전에 요소를 출력하는 구문\n",
    "print('name : ', dt['name'])\n",
    "print('type : ', dt['type'])\n",
    "print('ingredient : ', dt['ingredient'])\n",
    "print('country : ', dt['country'])"
   ]
  },
  {
   "cell_type": "code",
   "execution_count": 85,
   "id": "0cb11e65",
   "metadata": {
    "ExecuteTime": {
     "end_time": "2023-08-30T06:44:05.691079Z",
     "start_time": "2023-08-30T06:44:05.674878Z"
    }
   },
   "outputs": [
    {
     "name": "stdout",
     "output_type": "stream",
     "text": [
      "name : 건조 망고\n",
      "type : 당절임\n",
      "ingredient : ['망고', '설탕', '치자황색소', '나트륨']\n",
      "country : 필리핀\n"
     ]
    }
   ],
   "source": [
    "for key, value in dt.items():\n",
    "    print(f\"{key} : {value}\")"
   ]
  },
  {
   "cell_type": "code",
   "execution_count": 86,
   "id": "6fbcd09f",
   "metadata": {
    "ExecuteTime": {
     "end_time": "2023-08-30T06:44:42.840395Z",
     "start_time": "2023-08-30T06:44:42.825223Z"
    }
   },
   "outputs": [
    {
     "data": {
      "text/plain": [
       "{'name': '단무지',\n",
       " 'type': '당절임',\n",
       " 'ingredient': ['망고', '설탕', '치자황색소', '나트륨'],\n",
       " 'country': '필리핀'}"
      ]
     },
     "execution_count": 86,
     "metadata": {},
     "output_type": "execute_result"
    }
   ],
   "source": [
    "dt['name'] = '단무지'\n",
    "dt"
   ]
  },
  {
   "cell_type": "code",
   "execution_count": 88,
   "id": "45d48a39",
   "metadata": {
    "ExecuteTime": {
     "end_time": "2023-08-30T06:45:45.403846Z",
     "start_time": "2023-08-30T06:45:45.393248Z"
    }
   },
   "outputs": [
    {
     "data": {
      "text/plain": [
       "'설탕'"
      ]
     },
     "execution_count": 88,
     "metadata": {},
     "output_type": "execute_result"
    }
   ],
   "source": [
    "dt['ingredient'][1]"
   ]
  }
 ],
 "metadata": {
  "kernelspec": {
   "display_name": "Python 3",
   "language": "python",
   "name": "python3"
  },
  "language_info": {
   "codemirror_mode": {
    "name": "ipython",
    "version": 3
   },
   "file_extension": ".py",
   "mimetype": "text/x-python",
   "name": "python",
   "nbconvert_exporter": "python",
   "pygments_lexer": "ipython3",
   "version": "3.8.8"
  },
  "toc": {
   "base_numbering": 1,
   "nav_menu": {},
   "number_sections": true,
   "sideBar": true,
   "skip_h1_title": false,
   "title_cell": "Table of Contents",
   "title_sidebar": "Contents",
   "toc_cell": false,
   "toc_position": {
    "height": "calc(100% - 180px)",
    "left": "10px",
    "top": "150px",
    "width": "333px"
   },
   "toc_section_display": true,
   "toc_window_display": true
  }
 },
 "nbformat": 4,
 "nbformat_minor": 5
}
