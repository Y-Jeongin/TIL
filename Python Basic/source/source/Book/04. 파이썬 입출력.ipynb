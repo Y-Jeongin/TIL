{
 "cells": [
  {
   "cell_type": "markdown",
   "id": "0d34e8a0",
   "metadata": {},
   "source": [
    "# 파이썬 Input/Output\n",
    "<br>\n",
    "\n",
    "1. 콘솔환경 : input(), output()\n",
    "2. 파일환경 : open(filename, mode), mode - r, w, a\n",
    "3. 데이터베이스 환경 : connect(\"사용자계정\", \"비밀번호\", url), cursor"
   ]
  },
  {
   "cell_type": "markdown",
   "id": "0a193558",
   "metadata": {},
   "source": [
    "## File I/O\n",
    "<br>\n",
    "\n",
    "- 작업순서\n",
    "  1. 파일객체 생성 + 파일열기 : f = open(filename, mode)\n",
    "  2. 실제 수행할 작업 기술 - 비즈니스 로직\n",
    "  3. 파일 객체 닫기 : close(), with구문"
   ]
  },
  {
   "cell_type": "code",
   "execution_count": null,
   "id": "ca76ef56",
   "metadata": {
    "ExecuteTime": {
     "end_time": "2023-08-31T00:15:36.403229Z",
     "start_time": "2023-08-31T00:15:36.388238Z"
    }
   },
   "outputs": [],
   "source": [
    "# step1\n",
    "f = open('hello.txt', 'w')\n",
    "\n",
    "# step2\n",
    "# write(문자열)\n",
    "## writelines([문자열1, 문자열2])\n",
    "f.write('Hello Python!')\n",
    "\n",
    "# step3\n",
    "f.close()"
   ]
  },
  {
   "cell_type": "markdown",
   "id": "fbbbbee2",
   "metadata": {},
   "source": [
    "1. 파일 쓰기\n",
    "  - write(문자열)\n",
    "  - writelines([문자열1, 문자열2, ….])  <br>\n",
    "<br>\n",
    "2. 파일 읽기\n",
    "  - read(n) : 문자 n개를 읽어오는 함수\n",
    "  - readline() : 줄단위로 읽어오는 함수\n",
    "  - readlines() : 모든 문자열을 한꺼번에 읽어서 리스트로 반환  <br>\n",
    "<br>\n",
    "  \n",
    "3. 파일 접근 방식\n",
    "  - 순차 접근 방식(SASD) : 순차적으로 데이터를 읽고 쓰는 방식, tape\n",
    "  - 직접 접근 방식(DASD) : 임의의 위치를 이용하여 읽고 쓰는 방식, cd\n",
    "  - seek(위치) : 해당 위치로 커서를 옮긴다. 파일의 맨 처음 위치는 0\n",
    "  - tell() : 현재 커서의 위치를 반환하는 함수"
   ]
  },
  {
   "cell_type": "code",
   "execution_count": null,
   "id": "fc66115b",
   "metadata": {
    "ExecuteTime": {
     "end_time": "2023-08-31T00:29:46.271085Z",
     "start_time": "2023-08-31T00:29:46.253860Z"
    }
   },
   "outputs": [],
   "source": [
    "# step1\n",
    "try:\n",
    "    f = open(\"hello.txt\", 'r')\n",
    "except FileNotFoundError as e:\n",
    "    print(\"에러 메시지 :\", e)\n",
    "    print(\"해당 파일이 존재하지 않습니다.\")\n",
    "else:\n",
    "    string = f.read()\n",
    "    print(\"읽은 문자열 :\", string)\n",
    "finally:\n",
    "    f.close()"
   ]
  },
  {
   "cell_type": "markdown",
   "id": "0b56fa4a",
   "metadata": {},
   "source": [
    "## 여러 줄에 입력된 문자열을 파일에 읽고 쓰기"
   ]
  },
  {
   "cell_type": "code",
   "execution_count": null,
   "id": "278c1ef5",
   "metadata": {
    "ExecuteTime": {
     "end_time": "2023-08-31T00:37:28.627784Z",
     "start_time": "2023-08-31T00:37:28.614515Z"
    }
   },
   "outputs": [],
   "source": [
    "# step1\n",
    "f = open('test1.txt', 'a')\n",
    "\n",
    "# step2\n",
    "for i in range(10):\n",
    "    string = 'Good Morning Everyone~!!\\n'\n",
    "    f.write(string)\n",
    "    \n",
    "# step3\n",
    "f.close()"
   ]
  },
  {
   "cell_type": "code",
   "execution_count": null,
   "id": "9b7b6547",
   "metadata": {
    "ExecuteTime": {
     "end_time": "2023-08-31T00:37:39.994457Z",
     "start_time": "2023-08-31T00:37:39.986449Z"
    }
   },
   "outputs": [],
   "source": [
    "# 자동 close 구문\n",
    "with open('test1.txt', 'a') as f:\n",
    "    for i in range(3):\n",
    "        string = 'Good Afternoon and Good Evening\\n'\n",
    "        f.write(string)"
   ]
  },
  {
   "cell_type": "code",
   "execution_count": null,
   "id": "0a3f3caa",
   "metadata": {
    "ExecuteTime": {
     "end_time": "2023-08-31T00:44:33.135736Z",
     "start_time": "2023-08-31T00:44:33.119979Z"
    }
   },
   "outputs": [],
   "source": [
    "f = open('test1.txt', 'r')\n",
    "\n",
    "while True:\n",
    "    line = f.readline()\n",
    "    # 변수에 문자열이 있다면 True, 없다면 False\n",
    "    if not line:  # 더 이상 line에 문자열이 존재하지 않는다면\n",
    "        break\n",
    "    print(line, end='')"
   ]
  },
  {
   "cell_type": "code",
   "execution_count": null,
   "id": "eea333f0",
   "metadata": {
    "ExecuteTime": {
     "end_time": "2023-08-31T00:44:40.127931Z",
     "start_time": "2023-08-31T00:44:40.114724Z"
    }
   },
   "outputs": [],
   "source": [
    "f = open('test1.txt', 'r')\n",
    "\n",
    "line = None\n",
    "\n",
    "while line != '':  # line이 비어있지 않다면\n",
    "    line = f.readline()\n",
    "    print(line, end='')"
   ]
  },
  {
   "cell_type": "markdown",
   "id": "f14468d3",
   "metadata": {},
   "source": [
    "### List 타입의 객체를 통한 읽고 쓰기"
   ]
  },
  {
   "cell_type": "code",
   "execution_count": null,
   "id": "ba1a6a66",
   "metadata": {
    "ExecuteTime": {
     "end_time": "2023-08-31T01:19:06.972761Z",
     "start_time": "2023-08-31T01:19:06.957248Z"
    }
   },
   "outputs": [],
   "source": [
    "# 5명의 학생 이름을 입력받아 student.txt 파일에 쓰고 다시 그 내용을 콘솔환경에 출력하는 프로그램\n",
    "# step1\n",
    "f = open('student.txt', 'w')\n",
    "\n",
    "# step2\n",
    "f.writelines(['홍길동', '이순신', '장보고', '임꺽정', '김유신', '\\n'])\n",
    "f.writelines('\\n'.join(['신사임당', '유관순', '어머나']))\n",
    "\n",
    "# step3\n",
    "f.close()"
   ]
  },
  {
   "cell_type": "code",
   "execution_count": null,
   "id": "91883f55",
   "metadata": {
    "ExecuteTime": {
     "end_time": "2023-08-31T01:20:39.868609Z",
     "start_time": "2023-08-31T01:20:39.863598Z"
    }
   },
   "outputs": [],
   "source": [
    "fout = open('student.txt', 'r')\n",
    "\n",
    "string = fout.readlines()\n",
    "    \n",
    "print(string)"
   ]
  },
  {
   "cell_type": "code",
   "execution_count": null,
   "id": "d5c4bd7a",
   "metadata": {
    "ExecuteTime": {
     "end_time": "2023-08-31T01:21:18.679228Z",
     "start_time": "2023-08-31T01:21:18.668587Z"
    }
   },
   "outputs": [],
   "source": [
    "fout = open('student.txt', 'r')\n",
    "\n",
    "while True:\n",
    "    line = fout.readline()\n",
    "    if not line:\n",
    "        break\n",
    "    print(line, end = '')"
   ]
  },
  {
   "cell_type": "code",
   "execution_count": null,
   "id": "0c665398",
   "metadata": {
    "ExecuteTime": {
     "end_time": "2023-08-31T01:26:28.821527Z",
     "start_time": "2023-08-31T01:26:21.399980Z"
    },
    "scrolled": true
   },
   "outputs": [],
   "source": [
    "# 이름ㅇ르 저장할 컨테이너 객체 선언\n",
    "names = []\n",
    "\n",
    "for i in range(5):\n",
    "    name = input(\"이름 = \")\n",
    "    names.append(name)\n",
    "    \n",
    "print(names)\n",
    "\n",
    "file = open('student2.txt', 'w')\n",
    "\n",
    "file.writelines(names)\n",
    "\n",
    "file.close()"
   ]
  },
  {
   "cell_type": "code",
   "execution_count": null,
   "id": "9acadfe4",
   "metadata": {
    "ExecuteTime": {
     "end_time": "2023-08-31T01:29:12.122112Z",
     "start_time": "2023-08-31T01:29:12.107351Z"
    }
   },
   "outputs": [],
   "source": [
    "file = open('student2.txt', 'r')\n",
    "\n",
    "names = file.readlines()\n",
    "print(names)\n",
    "\n",
    "file.close()"
   ]
  },
  {
   "cell_type": "markdown",
   "id": "bfe12c08",
   "metadata": {},
   "source": [
    "# 객체단위로 파일에 저장하는 모듈 pickle\n",
    "<br>\n",
    "\n",
    "1. File(파일) : 컴퓨터에서 저장하는 최소단위\n",
    "2. 파일 종류 : 텍스트 파일(txt), 바이너리 파일(binary)\n",
    "  - 텍스트 파일 : txt(문서)로 구성된 파일, 사람이 식별할 수 있다.\n",
    "  - 바이너리 파일 : binary(2진수), 사람이 식별하기 어려운 형태(별도의 편집 툴 필요)\n",
    "3. 파일 오픈 : open(filename, mode)\n",
    "  - 일반 : r, w, a\n",
    "  - 이진 파일 : rb, wb, ab"
   ]
  },
  {
   "cell_type": "markdown",
   "id": "a70be4b2",
   "metadata": {},
   "source": [
    "- 파이썬 객체를 파일입출력하는 모듈 pickle\n",
    "  https://docs.python.org/3/library/pickle.html\n",
    "- pickle.dump(객체,파일)로 저장\n",
    "- pickle.load(파일)로 로딩"
   ]
  },
  {
   "cell_type": "code",
   "execution_count": null,
   "id": "548bb732",
   "metadata": {
    "ExecuteTime": {
     "end_time": "2023-08-31T01:38:51.563907Z",
     "start_time": "2023-08-31T01:38:51.550898Z"
    }
   },
   "outputs": [],
   "source": [
    "import pickle\n",
    "\n",
    "names = ['홍길동', '이순신', '장보고', '임꺽정', '김유신']\n",
    "\n",
    "# save pickle\n",
    "with open('data.pickle', 'wb') as fw:  # 확장자가 pickle\n",
    "    pickle.dump(names, fw)\n",
    "    \n",
    "# load pickle\n",
    "with open('data.pickle', 'rb') as fr:\n",
    "    data = pickle.load(fr)\n",
    "    \n",
    "print(data)"
   ]
  },
  {
   "cell_type": "code",
   "execution_count": null,
   "id": "5a47a64e",
   "metadata": {
    "ExecuteTime": {
     "end_time": "2023-08-31T01:43:58.431720Z",
     "start_time": "2023-08-31T01:43:58.418913Z"
    }
   },
   "outputs": [],
   "source": [
    "name = 'james'\n",
    "age = 17\n",
    "address = '서울시 금천구 가산동'\n",
    "scores = {'kor':97, 'eng':88, 'math':90}\n",
    "\n",
    "f = open('stu.pickle', 'wb')\n",
    "\n",
    "pickle.dump(name, f)\n",
    "pickle.dump(age, f)\n",
    "pickle.dump(address, f)\n",
    "pickle.dump(scores, f)\n",
    "\n",
    "f.close()"
   ]
  },
  {
   "cell_type": "code",
   "execution_count": null,
   "id": "018ff1a4",
   "metadata": {
    "ExecuteTime": {
     "end_time": "2023-08-31T01:46:12.022275Z",
     "start_time": "2023-08-31T01:46:12.017243Z"
    }
   },
   "outputs": [],
   "source": [
    "with open('stu.pickle', 'rb') as f:\n",
    "    name = pickle.load(f)\n",
    "    age = pickle.load(f)\n",
    "    address = pickle.load(f)\n",
    "    scores = pickle.load(f)\n",
    "    \n",
    "print(name)\n",
    "print(age)\n",
    "print(address)\n",
    "print(scores)"
   ]
  },
  {
   "cell_type": "markdown",
   "id": "e73a00f2",
   "metadata": {},
   "source": [
    "# 도서관리 프로그램\n",
    "<br>\n",
    "\n",
    "- 도서정보(도서번호, 도서명, 주요내용)을 관리하는 프로그램\n",
    "- 주요기능 : 도서등록, 도서출력, 도서검색\n",
    "- book_module.py로 구현"
   ]
  },
  {
   "cell_type": "code",
   "execution_count": 2,
   "id": "7f46a0c9",
   "metadata": {
    "ExecuteTime": {
     "end_time": "2023-08-31T02:14:50.298205Z",
     "start_time": "2023-08-31T02:14:50.281800Z"
    }
   },
   "outputs": [
    {
     "name": "stdout",
     "output_type": "stream",
     "text": [
      "도서번호 :  1\n",
      "도서제목 :  파이썬 코딩도장\n",
      "도서내용 :  겁나게 두껍다. 라면 받침 권장\n"
     ]
    }
   ],
   "source": [
    "from book_module import *\n",
    "\n",
    "# 도서 저장 \n",
    "add_book(1, '파이썬 코딩도장', '겁나게 두껍다. 라면 받침 권장')\n",
    "\n",
    "# 도서 조회\n",
    "book = get_book(1)\n",
    "print(\"도서번호 : \", book['no'])\n",
    "print(\"도서제목 : \", book['subject'])\n",
    "print(\"도서내용 : \", book['content'])"
   ]
  },
  {
   "cell_type": "code",
   "execution_count": 5,
   "id": "8305ec28",
   "metadata": {
    "ExecuteTime": {
     "end_time": "2023-08-31T02:46:08.773716Z",
     "start_time": "2023-08-31T02:46:08.760507Z"
    }
   },
   "outputs": [
    {
     "name": "stdout",
     "output_type": "stream",
     "text": [
      "sample\n"
     ]
    }
   ],
   "source": [
    "import sample as s\n",
    "\n",
    "print(__name__)"
   ]
  },
  {
   "cell_type": "code",
   "execution_count": null,
   "id": "76191e88",
   "metadata": {},
   "outputs": [],
   "source": []
  },
  {
   "cell_type": "code",
   "execution_count": null,
   "id": "f34303c3",
   "metadata": {},
   "outputs": [],
   "source": []
  },
  {
   "cell_type": "code",
   "execution_count": null,
   "id": "9daf9e4f",
   "metadata": {},
   "outputs": [],
   "source": []
  },
  {
   "cell_type": "code",
   "execution_count": null,
   "id": "18b0815f",
   "metadata": {},
   "outputs": [],
   "source": []
  },
  {
   "cell_type": "code",
   "execution_count": null,
   "id": "1c5c0528",
   "metadata": {},
   "outputs": [],
   "source": []
  },
  {
   "cell_type": "code",
   "execution_count": null,
   "id": "ab240464",
   "metadata": {},
   "outputs": [],
   "source": []
  },
  {
   "cell_type": "code",
   "execution_count": null,
   "id": "08442d1f",
   "metadata": {},
   "outputs": [],
   "source": []
  }
 ],
 "metadata": {
  "kernelspec": {
   "display_name": "Python 3",
   "language": "python",
   "name": "python3"
  },
  "language_info": {
   "codemirror_mode": {
    "name": "ipython",
    "version": 3
   },
   "file_extension": ".py",
   "mimetype": "text/x-python",
   "name": "python",
   "nbconvert_exporter": "python",
   "pygments_lexer": "ipython3",
   "version": "3.8.8"
  },
  "toc": {
   "base_numbering": 1,
   "nav_menu": {},
   "number_sections": true,
   "sideBar": true,
   "skip_h1_title": false,
   "title_cell": "Table of Contents",
   "title_sidebar": "Contents",
   "toc_cell": false,
   "toc_position": {
    "height": "calc(100% - 180px)",
    "left": "10px",
    "top": "150px",
    "width": "303px"
   },
   "toc_section_display": true,
   "toc_window_display": true
  }
 },
 "nbformat": 4,
 "nbformat_minor": 5
}
