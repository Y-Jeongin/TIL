{
 "cells": [
  {
   "cell_type": "markdown",
   "id": "a68f4697",
   "metadata": {},
   "source": [
    "# 파이썬 제어문\n",
    "\n",
    "## 조건문 or 선택문 or 비교/판단문\n",
    "1.조건문 or 선택문 or 비교/판단문  \n",
    "    - 주어진 조건에 따라 실행여부를 판단하는 문장  \n",
    "    - 반드시 조건식은 그 결과가 참 또는 거짓으로 판정이 되어야 한다.  \n",
    "    - 논리연산자와 관계연산자를 사용한다.  \n",
    "    \n",
    "    1) if문 : 단순 if문, 조건이 참일때만 문장을 제어할 때 사용하는 제어문  \n",
    "    \n",
    "    2) elif ~ else문 : 다중 if문, 여러개의 조건을 이용해서 문장을 제어할 때 사용  \n",
    "    \n",
    "    3) (switch문)  \n",
    "<br>\n",
    "2. 반복문\n",
    "    - 주어진 조건 또는 횟수에 의해 반복처리하는 문장\n",
    "    - 동일하거나 일정한 규칙을 가지고 있는 문장\n",
    "    \n",
    "    1) for문 : 반복할 횟수가 명확할 때 사용하는 반복문\n",
    "    \n",
    "    2) while문 : 사용자에 의해 반복을 제어할 때 사용하는 반복문"
   ]
  },
  {
   "cell_type": "markdown",
   "id": "e1e321d4",
   "metadata": {},
   "source": [
    "### 단순 if문\n",
    "\n",
    "if 조건식 :<br>\n",
    "&nbsp;&nbsp;    조건이 참일 때 실행할 문장"
   ]
  },
  {
   "cell_type": "code",
   "execution_count": null,
   "id": "4ae49121",
   "metadata": {
    "ExecuteTime": {
     "end_time": "2023-08-23T02:38:16.865596Z",
     "start_time": "2023-08-23T02:38:14.951628Z"
    }
   },
   "outputs": [],
   "source": [
    "color = input('좋아하는 색상?')\n",
    "\n",
    "if color == 'blue' :\n",
    "    print('me too')\n",
    "    \n",
    "print('The end!')"
   ]
  },
  {
   "cell_type": "markdown",
   "id": "ace43d2d",
   "metadata": {},
   "source": [
    "### if ~ else문\n",
    "\n",
    "if 조건식 :<br>\n",
    "&nbsp;&nbsp;    주어진 조건식이 참일 때 실행할 문장  \n",
    "else : <br>\n",
    "&nbsp;&nbsp;    주어진 조건식이 거짓일 때 실행할 문장"
   ]
  },
  {
   "cell_type": "code",
   "execution_count": null,
   "id": "e30fedab",
   "metadata": {
    "ExecuteTime": {
     "end_time": "2023-08-23T02:46:48.814100Z",
     "start_time": "2023-08-23T02:46:47.381595Z"
    }
   },
   "outputs": [],
   "source": [
    "# 하나의 숫자를 입력받아 짝수인지 홀수인지 판정하여 출력하는 프로그램\n",
    "\n",
    "## 입력문\n",
    "num = int(input('숫자 = '))\n",
    "\n",
    "## 처리문\n",
    "\n",
    "## 출력문\n",
    "# if num % 2 == 0 :\n",
    "#     pass  # 나중에 작성\n",
    "# else :\n",
    "#     pass\n",
    "\n",
    "if num % 2 == 0 :\n",
    "    print('even')\n",
    "else :\n",
    "    print('odd')\n",
    "\n",
    "print('The end')"
   ]
  },
  {
   "cell_type": "markdown",
   "id": "b811df21",
   "metadata": {},
   "source": [
    "### 다중 if문 : elif ~ else문\n",
    "\n",
    "if 조건식1 :  \n",
    "&nbsp;&nbsp;    조건식1이 참일 때 실행할 문장  \n",
    "elif 조건식 2 :  \n",
    "&nbsp;&nbsp;    조건식2가 참일 때 실행할 문장  \n",
    "else :  \n",
    "&nbsp;&nbsp;     주어진 모든 조건식이 거짓일 때 실행할 문장"
   ]
  },
  {
   "cell_type": "code",
   "execution_count": null,
   "id": "122bc59a",
   "metadata": {
    "ExecuteTime": {
     "end_time": "2023-08-23T02:55:40.433276Z",
     "start_time": "2023-08-23T02:55:39.784323Z"
    }
   },
   "outputs": [],
   "source": [
    "# 숫자를 입력받아 음수인지 양수인지 판정하는 프로그램을 구현하시오.\n",
    "\n",
    "num = int(input(\"숫자 = \"))\n",
    "\n",
    "if num > 0 :\n",
    "    print('positive')\n",
    "elif num == 0 :\n",
    "    print('zero')\n",
    "else :  # == 0 or < 0\n",
    "    print('negative')"
   ]
  },
  {
   "cell_type": "markdown",
   "id": "b347e89b",
   "metadata": {},
   "source": [
    "### 성적처리 프로그램 2단계\n",
    "\n",
    "- 처리조건\n",
    "    1. 국어, 영어, 수학점수를 입력받아 처리한다.\n",
    "    2. 총점과 평균 그리고 학점을 계산하여 출력한다.\n",
    "    3. 학점은 평균이 90점 이상이면 'A학점', 80점 이상이면 'B학점', 70점 이상이면 'C학점'…."
   ]
  },
  {
   "cell_type": "code",
   "execution_count": null,
   "id": "5699f3e8",
   "metadata": {
    "ExecuteTime": {
     "end_time": "2023-08-23T03:03:28.095828Z",
     "start_time": "2023-08-23T03:03:23.446674Z"
    }
   },
   "outputs": [],
   "source": [
    "ko = int(input(\"국어 : \"))\n",
    "eng = int(input(\"영어 : \"))\n",
    "math = int(input(\"수학 : \"))\n",
    "\n",
    "tot = ko + eng + math\n",
    "avg = tot / 3\n",
    "\n",
    "print(f\"총점 : {tot}, 평균 : {avg}\")\n",
    "\n",
    "if avg >= 90 :\n",
    "    print('A학점')\n",
    "elif avg >= 80 :\n",
    "    print('B학점')\n",
    "elif avg >= 70 :\n",
    "    print('C학점')\n",
    "elif avg >= 60 :\n",
    "    print('D학점')\n",
    "else :\n",
    "    print('F학점')"
   ]
  },
  {
   "cell_type": "code",
   "execution_count": null,
   "id": "ad5c2c3b",
   "metadata": {
    "ExecuteTime": {
     "end_time": "2023-08-23T03:12:39.804290Z",
     "start_time": "2023-08-23T03:12:36.078202Z"
    }
   },
   "outputs": [],
   "source": [
    "# kor, eng, math = map(int, input().split())\n",
    "## 입력문\n",
    "kor = int(input(\"국어 = \"))\n",
    "eng = int(input(\"영어 = \"))\n",
    "math = int(input(\"수학 = \"))\n",
    "\n",
    "## 처리문\n",
    "tot = kor + eng + math\n",
    "avg = tot / 3\n",
    "\n",
    "if avg >= 90 :\n",
    "    grade = 'A'\n",
    "elif avg >= 80 :\n",
    "    grade = 'B'\n",
    "elif avg >= 70 :\n",
    "    grade = 'C'\n",
    "elif avg >= 60 :\n",
    "    grade = 'D'\n",
    "else :\n",
    "    grade = 'F'\n",
    "    \n",
    "## 출력문\n",
    "print(f'총점 : {tot}점, 평균 : {avg:.2f}점, 학점 : {grade}학점')"
   ]
  },
  {
   "cell_type": "markdown",
   "id": "f4e827e6",
   "metadata": {},
   "source": [
    "### 세 개의 정수를 입력받아 가장 큰 수와 작은 수를 출력하는 프로그램\n",
    "\n",
    "- 세 개의 정수를 입력받는다.\n",
    "- 입력받은 숫자 중 큰 수와 작은 수를 판정하여 출력한다.\n",
    "- 함수 사용 불가\n",
    "- 출력형식에 맞게 구현할 것  \n",
    "  가장 큰 수 >= 중간 수 >= 작은 수"
   ]
  },
  {
   "cell_type": "code",
   "execution_count": null,
   "id": "9b63fcb0",
   "metadata": {},
   "outputs": [],
   "source": [
    "su1, su2, su3 = map(int, input().split())"
   ]
  },
  {
   "cell_type": "code",
   "execution_count": null,
   "id": "02d4e393",
   "metadata": {
    "ExecuteTime": {
     "end_time": "2023-08-23T03:43:12.355604Z",
     "start_time": "2023-08-23T03:43:10.650069Z"
    }
   },
   "outputs": [],
   "source": [
    "# 입력문\n",
    "first, second, third = map(int, input().split())\n",
    "\n",
    "# 처리문\n",
    "## first라는 변수에 가장 큰 수가 들어오지 않는 경우 또는 first가 가장 큰 수가 되는 경우\n",
    "if second >= first and second >= third :\n",
    "    first, second = second, first\n",
    "elif third >= first and third >= second :\n",
    "    first, third = third, first\n",
    "    \n",
    "## 두번째와 세번째 숫자 비교\n",
    "if third >= second :\n",
    "    second, third = third, second\n",
    "\n",
    "# 출력문\n",
    "print(f'{first} >= {second} >= {third}')"
   ]
  },
  {
   "cell_type": "markdown",
   "id": "c7c010b7",
   "metadata": {},
   "source": [
    "### 계산기 프로그램\n",
    "\n",
    "- 두 개의 숫자와 하나의 연산자를 입력받아 계산을 수행한 후 결과를 출력하는 프로그램\n",
    "- 주어진 입력 및 출력 형식에 맞게 프로그램을 구현할 것.\n",
    "- 입력형식\n",
    "  첫번째 수 =  \n",
    "  연산자(+, -, *, /) =   \n",
    "  두번째 수 =  \n",
    "<br>\n",
    "- 예시\n",
    "  첫번째 수 = 10  \n",
    "  연산자(+, -, *, /) = /  \n",
    "  두번째 수 = 2  \n",
    "  \n",
    "  10 / 2 = 5"
   ]
  },
  {
   "cell_type": "code",
   "execution_count": null,
   "id": "4e836fcd",
   "metadata": {
    "ExecuteTime": {
     "end_time": "2023-08-23T03:31:59.073271Z",
     "start_time": "2023-08-23T03:31:55.045532Z"
    }
   },
   "outputs": [],
   "source": [
    "num1 = int(input(\"첫번째 수 = \"))\n",
    "oper = input(\"연산자(+, -, *, /) = \")\n",
    "num2 = int(input(\"두번째 수 =\"))\n",
    "\n",
    "if oper == '+' :\n",
    "    print(num1, oper, num2, \"=\", num1+num2)\n",
    "elif oper == '-' :\n",
    "    print(num1, oper, num2, \"=\", num1-num2)\n",
    "elif oper == '*' :\n",
    "    print(num1, oper, num2, \"=\", num1*num2)\n",
    "else :\n",
    "    print(num1, oper, num2, \"=\", num1/num2)"
   ]
  },
  {
   "cell_type": "code",
   "execution_count": null,
   "id": "0e69c2d1",
   "metadata": {
    "ExecuteTime": {
     "end_time": "2023-08-23T03:47:18.005188Z",
     "start_time": "2023-08-23T03:47:11.732347Z"
    }
   },
   "outputs": [],
   "source": [
    "# 입력문\n",
    "first = int(input(\"첫번째 수 = \"))\n",
    "op = input(\"연산자(+, -, *, /) = \")\n",
    "second = int(input(\"두번째 수 = \"))\n",
    "\n",
    "# 처리문\n",
    "## 문자열 \"\", 문자 ''\n",
    "if op == '+' :\n",
    "    result = first + second\n",
    "elif op == '-' :\n",
    "    result = first - second\n",
    "elif op == '*' :\n",
    "    result = first * second\n",
    "else :\n",
    "    result = first / second\n",
    "\n",
    "# 출력문\n",
    "print(f'{first} {op} {second} = {result}')"
   ]
  },
  {
   "cell_type": "code",
   "execution_count": null,
   "id": "4a7782a2",
   "metadata": {
    "ExecuteTime": {
     "end_time": "2023-08-23T03:52:18.312792Z",
     "start_time": "2023-08-23T03:52:09.452024Z"
    }
   },
   "outputs": [],
   "source": [
    "string = input('식으로 입력하세요 : ').split()\n",
    "\n",
    "# 첫번째 수 : string[0]\n",
    "# 연산자 : string[1]\n",
    "# 두번째수 : string[2]\n",
    "\n",
    "if string[1] == '+' :\n",
    "    print(string[0] + \" \" + string[1] + \" = \" + (int(string[0] + int(string[2]))))\n",
    "\n",
    "print(string)"
   ]
  },
  {
   "cell_type": "code",
   "execution_count": null,
   "id": "cf13bdaa",
   "metadata": {
    "ExecuteTime": {
     "end_time": "2023-08-23T03:53:13.242586Z",
     "start_time": "2023-08-23T03:53:13.229578Z"
    }
   },
   "outputs": [],
   "source": [
    "k = '+'\n",
    "print(\"%d\" % k)"
   ]
  },
  {
   "cell_type": "code",
   "execution_count": null,
   "id": "96ae878a",
   "metadata": {
    "ExecuteTime": {
     "end_time": "2023-08-23T03:54:06.668855Z",
     "start_time": "2023-08-23T03:54:06.653342Z"
    }
   },
   "outputs": [],
   "source": [
    "ord('+')"
   ]
  },
  {
   "cell_type": "code",
   "execution_count": null,
   "id": "584a3989",
   "metadata": {
    "ExecuteTime": {
     "end_time": "2023-08-23T03:54:18.366499Z",
     "start_time": "2023-08-23T03:54:18.350667Z"
    }
   },
   "outputs": [],
   "source": [
    "ord('A')"
   ]
  },
  {
   "cell_type": "markdown",
   "id": "21a0cb43",
   "metadata": {},
   "source": []
  },
  {
   "cell_type": "markdown",
   "id": "f0dd27a0",
   "metadata": {},
   "source": [
    "## 반복문\n",
    "\n",
    "- 동일한 문장\n",
    "- 유사한 문장(동일한 행위를 하되 일정한 규칙을 가지고 있는 문장)"
   ]
  },
  {
   "cell_type": "markdown",
   "id": "6919a0a0",
   "metadata": {},
   "source": [
    "### for문\n",
    "\n",
    "for 개별변수 in 집합변수 :  \n",
    "&nbsp;&nbsp;&nbsp;    반복수행할 문장"
   ]
  },
  {
   "cell_type": "code",
   "execution_count": null,
   "id": "9a5127c1",
   "metadata": {
    "ExecuteTime": {
     "end_time": "2023-08-23T05:06:18.813210Z",
     "start_time": "2023-08-23T05:06:18.799353Z"
    }
   },
   "outputs": [],
   "source": [
    "# 동일한 문장\n",
    "print('hi')"
   ]
  },
  {
   "cell_type": "code",
   "execution_count": null,
   "id": "93f3d0fc",
   "metadata": {
    "ExecuteTime": {
     "end_time": "2023-08-23T05:10:00.078938Z",
     "start_time": "2023-08-23T05:10:00.065979Z"
    }
   },
   "outputs": [],
   "source": [
    "print('hi')\n",
    "print('hi')\n",
    "print('hi')\n",
    "print('hi')\n",
    "print('hi')\n",
    "print(\"-\" * 50)\n",
    "range(5)  # 0, 1, 2, 3, 4\n",
    "\n",
    "# for 개별변수 in 집합변수(컨테이너 객체) :\n",
    "    # 반복할 문장\n",
    "for i in range(5) :\n",
    "    print('hi')"
   ]
  },
  {
   "cell_type": "code",
   "execution_count": null,
   "id": "0775e2aa",
   "metadata": {
    "ExecuteTime": {
     "end_time": "2023-08-23T05:12:09.357062Z",
     "start_time": "2023-08-23T05:12:09.339647Z"
    }
   },
   "outputs": [],
   "source": [
    "print('hi')\n",
    "print('hi')\n",
    "print('hi')\n",
    "print('hi')\n",
    "print('hi')\n",
    "print('hi')\n",
    "print('hi')\n",
    "print('hi')\n",
    "print('hi')\n",
    "print('hi')\n",
    "\n",
    "print(\"=\" * 50)\n",
    "\n",
    "for i in range(10) :\n",
    "    print('hi')"
   ]
  },
  {
   "cell_type": "code",
   "execution_count": null,
   "id": "462ba491",
   "metadata": {
    "ExecuteTime": {
     "end_time": "2023-08-23T05:14:04.344132Z",
     "start_time": "2023-08-23T05:14:04.332146Z"
    }
   },
   "outputs": [],
   "source": [
    "for _ in range(10) :\n",
    "    print('hi')"
   ]
  },
  {
   "cell_type": "code",
   "execution_count": null,
   "id": "13cc3511",
   "metadata": {
    "ExecuteTime": {
     "end_time": "2023-08-23T05:15:21.774136Z",
     "start_time": "2023-08-23T05:15:21.768020Z"
    }
   },
   "outputs": [],
   "source": [
    "print(1)\n",
    "print(2)\n",
    "print(3)\n",
    "print(4)\n",
    "print(5)"
   ]
  },
  {
   "cell_type": "code",
   "execution_count": null,
   "id": "d25d53b3",
   "metadata": {
    "ExecuteTime": {
     "end_time": "2023-08-23T05:16:11.944124Z",
     "start_time": "2023-08-23T05:16:11.928222Z"
    }
   },
   "outputs": [],
   "source": [
    "for i in range(1, 6) :\n",
    "    print(i)"
   ]
  },
  {
   "cell_type": "code",
   "execution_count": null,
   "id": "7088f1b0",
   "metadata": {
    "ExecuteTime": {
     "end_time": "2023-08-23T05:17:47.578373Z",
     "start_time": "2023-08-23T05:17:47.566642Z"
    }
   },
   "outputs": [],
   "source": [
    "for _ in range(1, 11) :\n",
    "    print(_)"
   ]
  },
  {
   "cell_type": "markdown",
   "id": "54288a3d",
   "metadata": {},
   "source": [
    "###  while문\n",
    "\n",
    "while 조건식 :  \n",
    "&nbsp;&nbsp;&nbsp;    반복수행할 문장"
   ]
  },
  {
   "cell_type": "code",
   "execution_count": null,
   "id": "796079fc",
   "metadata": {
    "ExecuteTime": {
     "end_time": "2023-08-23T05:21:30.041879Z",
     "start_time": "2023-08-23T05:21:30.037963Z"
    }
   },
   "outputs": [],
   "source": [
    "i = 0  # i값이 변하지 않기때문에 무한 실행\n",
    "while i < 5 :\n",
    "    print('Hi')\n",
    "    i += 1  # i = i + 1, 조건을 제어하는 문장"
   ]
  },
  {
   "cell_type": "code",
   "execution_count": null,
   "id": "46a8d75b",
   "metadata": {
    "ExecuteTime": {
     "end_time": "2023-08-23T05:24:11.982280Z",
     "start_time": "2023-08-23T05:24:11.970256Z"
    }
   },
   "outputs": [],
   "source": [
    "i = 0 \n",
    "while i < 5 :\n",
    "    i += 1\n",
    "    print(i)"
   ]
  },
  {
   "cell_type": "code",
   "execution_count": null,
   "id": "8d67dc19",
   "metadata": {
    "ExecuteTime": {
     "end_time": "2023-08-23T05:27:15.608043Z",
     "start_time": "2023-08-23T05:27:15.602103Z"
    }
   },
   "outputs": [],
   "source": [
    "i = 0 \n",
    "while True :  # 무한Loop\n",
    "    i += 1\n",
    "    print(i)\n",
    "    if i == 5 : break"
   ]
  },
  {
   "cell_type": "code",
   "execution_count": null,
   "id": "5624710b",
   "metadata": {
    "ExecuteTime": {
     "end_time": "2023-08-23T05:30:17.190857Z",
     "start_time": "2023-08-23T05:30:10.322394Z"
    }
   },
   "outputs": [],
   "source": [
    "# 알파벳을 입력받아 출력하는 작업을 수행한다. 단, 입력받은 알파벳이 q이면 반복을 종료한다.\n",
    "\n",
    "while True :\n",
    "    ch = input('종료(q) = ')\n",
    "    if ch == 'q' : break\n",
    "    print(ch)"
   ]
  },
  {
   "cell_type": "markdown",
   "id": "7a3bf123",
   "metadata": {},
   "source": [
    "### 1부터 10까지의 자연수의 합을 계산하여 출력하는 프로그램을 구현하시오."
   ]
  },
  {
   "cell_type": "code",
   "execution_count": null,
   "id": "ba75187e",
   "metadata": {
    "ExecuteTime": {
     "end_time": "2023-08-23T05:36:28.719328Z",
     "start_time": "2023-08-23T05:36:28.713315Z"
    }
   },
   "outputs": [],
   "source": [
    "# 1 + 2 + 3 + 4 + 5 + 6 + 7 + 8 + 9 + 10 =\n",
    "tot = 0  # 누적변수(값을 계속 담아서 처리하는 수)는 초기화를 수행한다.\n",
    "\n",
    "for i in range(1, 11) :\n",
    "    tot += i\n",
    "print(\"tot = \", tot)"
   ]
  },
  {
   "cell_type": "code",
   "execution_count": null,
   "id": "11917dc8",
   "metadata": {
    "ExecuteTime": {
     "end_time": "2023-08-23T05:36:36.879994Z",
     "start_time": "2023-08-23T05:36:36.869755Z"
    }
   },
   "outputs": [],
   "source": [
    "for i in range(1, 11) :\n",
    "    tot += i\n",
    "    print(\"tot = \", tot)"
   ]
  },
  {
   "cell_type": "code",
   "execution_count": null,
   "id": "8c265de4",
   "metadata": {
    "ExecuteTime": {
     "end_time": "2023-08-23T05:38:36.900357Z",
     "start_time": "2023-08-23T05:38:36.889910Z"
    }
   },
   "outputs": [],
   "source": [
    "tot = 0\n",
    "i = 0\n",
    "\n",
    "while i < 10 :\n",
    "    i += 1\n",
    "    tot += i\n",
    "    \n",
    "print(\"tot = \", tot)"
   ]
  },
  {
   "cell_type": "markdown",
   "id": "d1be488a",
   "metadata": {},
   "source": [
    "### 단을 입력받아 해당 단의 구구단을 출력하는 프로그램을 구현하시오."
   ]
  },
  {
   "cell_type": "code",
   "execution_count": null,
   "id": "5143fb7e",
   "metadata": {
    "ExecuteTime": {
     "end_time": "2023-08-23T05:52:09.870426Z",
     "start_time": "2023-08-23T05:52:09.157200Z"
    }
   },
   "outputs": [],
   "source": [
    "# 입력문\n",
    "dan = int(input('단 = '))\n",
    "\n",
    "# 처리문 & 출력문\n",
    "for i in range(1, 10) :\n",
    "    print('{0} x {1} = {2}'.format(dan, i, dan*i))"
   ]
  },
  {
   "cell_type": "code",
   "execution_count": null,
   "id": "7b5b21dc",
   "metadata": {
    "ExecuteTime": {
     "end_time": "2023-08-23T05:54:42.232211Z",
     "start_time": "2023-08-23T05:54:31.456158Z"
    }
   },
   "outputs": [],
   "source": [
    "while True :\n",
    "    # 입력문\n",
    "    dan = int(input('(종료:0)단 = '))\n",
    "\n",
    "    if dan == 0 : break\n",
    "        \n",
    "    # 처리문 & 출력문\n",
    "    for i in range(1, 10) :\n",
    "        print('{0} x {1} = {2}'.format(dan, i, dan*i))"
   ]
  },
  {
   "cell_type": "markdown",
   "id": "1a0ea27b",
   "metadata": {},
   "source": [
    "### 구구단을 출력하는 프로그램을 구현하시오.\n",
    "\n",
    "for 개별변수1 in 집합변수1 :  \n",
    "&nbsp;&nbsp;&nbsp;    반복 문장1  \n",
    "&nbsp;&nbsp;&nbsp;    for 개별변수2 in 집합변수2 :  \n",
    "&nbsp;&nbsp;&nbsp;&nbsp;&nbsp;&nbsp;        반복 문장2"
   ]
  },
  {
   "cell_type": "code",
   "execution_count": null,
   "id": "54680568",
   "metadata": {
    "ExecuteTime": {
     "end_time": "2023-08-23T06:02:03.810810Z",
     "start_time": "2023-08-23T06:02:03.797801Z"
    }
   },
   "outputs": [],
   "source": [
    "for dan in range(2, 10) :\n",
    "    print(\"==={0}단===\".format(dan))  # 8번 반복\n",
    "    \n",
    "    for i in range(1, 10) :\n",
    "        print('{0} x {1} = {2}'.format(dan, i, dan*i))  # 8 * 9 = 72번 반복\n",
    "        \n",
    "    print()  # 개행 = 줄바꿈"
   ]
  },
  {
   "cell_type": "markdown",
   "id": "c3dfdf02",
   "metadata": {},
   "source": [
    "### 멀티 프로그램을 구현하시오.\n",
    "\n",
    "1. 처리조건\n",
    "    - 주어진 입출력 형식에 맞게 프로그램을 구현하시오.\n",
    "    - 사용자에 의해 처리할 작업을 선택할 수 있도록 구현하시오.\n",
    "    - 사용자가 원하면 언제든지 프로그램을 종료할 수 있도록 구현하시오.\n",
    "    - 기타 조건은 주어진 입출력 형식에 맞게 구현하시오.\n",
    "\n",
    "\n",
    "2. 입력형식\n",
    "<pre>\n",
    "    == 멀티 프로그램 ==\n",
    "    1. 수 나열\n",
    "    2. 계산기 프로그램\n",
    "    3. 작업종료\n",
    "    ===================\n",
    "    선택 = \n",
    "</pre>\n",
    "\n",
    "\n",
    "3. 기능 설명\n",
    "    - 수 나열은 세개의 정수를 입력받아 큰 순서대로 출력하는 프로그램\n",
    "    - 계산기는 두개의 정수와 하나의 연산자를 입력받아 계산 결과를 출력하는 프로그램\n",
    "    - 작업종료를 선택하지 않으면 프로그램을 무한루프로 동작되도록 구현"
   ]
  },
  {
   "cell_type": "code",
   "execution_count": 6,
   "id": "5fa56d29",
   "metadata": {
    "ExecuteTime": {
     "end_time": "2023-08-23T06:20:31.195388Z",
     "start_time": "2023-08-23T06:20:21.967631Z"
    }
   },
   "outputs": [
    {
     "name": "stdout",
     "output_type": "stream",
     "text": [
      "\n",
      "== 멀티 프로그램 ==\n",
      "1. 수 나열\n",
      "2. 계산기\n",
      "3. 작업 종료\n",
      "=================\n",
      "선택 = 3\n",
      "프로그램을 종료합니다.\n"
     ]
    }
   ],
   "source": [
    "while True :\n",
    "    print()\n",
    "    # 메뉴 출력\n",
    "    print(\"== 멀티 프로그램 ==\")\n",
    "    print(\"1. 수 나열\")\n",
    "    print(\"2. 계산기\")\n",
    "    print(\"3. 작업 종료\")\n",
    "    print(\"=\" * 17)\n",
    "    ch = int(input('선택 = '))\n",
    "    \n",
    "    # 선택에 따른 로직 구현\n",
    "    if ch == 1 :\n",
    "        # 입력문\n",
    "        first, second, third = map(int, input().split())\n",
    "\n",
    "        # 처리문\n",
    "        ## first라는 변수에 가장 큰 수가 들어오지 않는 경우 또는 first가 가장 큰 수가 되는 경우\n",
    "        if second >= first and second >= third :\n",
    "            first, second = second, first\n",
    "        elif third >= first and third >= second :\n",
    "            first, third = third, first\n",
    "\n",
    "        ## 두번째와 세번째 숫자 비교\n",
    "        if third >= second :\n",
    "            second, third = third, second\n",
    "\n",
    "        # 출력문\n",
    "        print(f'{first} >= {second} >= {third}')\n",
    "    \n",
    "    elif ch == 2 :\n",
    "        # 입력문\n",
    "        first = int(input(\"첫번째 수 = \"))\n",
    "        op = input(\"연산자(+, -, *, /) = \")\n",
    "        second = int(input(\"두번째 수 = \"))\n",
    "\n",
    "        # 처리문\n",
    "        ## 문자열 \"\", 문자 ''\n",
    "        if op == '+' :\n",
    "            result = first + second\n",
    "        elif op == '-' :\n",
    "            result = first - second\n",
    "        elif op == '*' :\n",
    "            result = first * second\n",
    "        else :\n",
    "            result = first / second\n",
    "\n",
    "        # 출력문\n",
    "        print(f'{first} {op} {second} = {result}')\n",
    "    \n",
    "    elif ch == 3 :\n",
    "        break\n",
    "    else :\n",
    "        print(\"선택이 올바르지 않습니다.\")\n",
    "    \n",
    "print(\"프로그램을 종료합니다.\")"
   ]
  },
  {
   "cell_type": "markdown",
   "id": "48d4c4f3",
   "metadata": {},
   "source": [
    "## 리스트, 튜플, 문자열 등 iterable한 객체 이용한 제어문 처리"
   ]
  },
  {
   "cell_type": "code",
   "execution_count": 4,
   "id": "9e540a84",
   "metadata": {
    "ExecuteTime": {
     "end_time": "2023-08-23T06:19:09.413311Z",
     "start_time": "2023-08-23T06:19:09.408282Z"
    }
   },
   "outputs": [
    {
     "name": "stdout",
     "output_type": "stream",
     "text": [
      "[2, 1, 5, 3, 4]\n"
     ]
    }
   ],
   "source": [
    "a = [2, 1, 5, 3, 4]\n",
    "print(a)"
   ]
  },
  {
   "cell_type": "code",
   "execution_count": 5,
   "id": "c40ff6f7",
   "metadata": {
    "ExecuteTime": {
     "end_time": "2023-08-23T06:20:02.560016Z",
     "start_time": "2023-08-23T06:20:02.547914Z"
    }
   },
   "outputs": [
    {
     "name": "stdout",
     "output_type": "stream",
     "text": [
      "2\n",
      "1\n",
      "5\n",
      "3\n",
      "4\n"
     ]
    }
   ],
   "source": [
    "print(a[0])\n",
    "print(a[1])\n",
    "print(a[2])\n",
    "print(a[3])\n",
    "print(a[4])"
   ]
  },
  {
   "cell_type": "code",
   "execution_count": 7,
   "id": "44b7e33f",
   "metadata": {
    "ExecuteTime": {
     "end_time": "2023-08-23T06:21:28.653947Z",
     "start_time": "2023-08-23T06:21:28.642893Z"
    }
   },
   "outputs": [
    {
     "name": "stdout",
     "output_type": "stream",
     "text": [
      "2\n",
      "1\n",
      "5\n",
      "3\n",
      "4\n"
     ]
    }
   ],
   "source": [
    "# for 개별변수 in 집합변수(컨테이너 객체)\n",
    "for i in a :\n",
    "    print(i)"
   ]
  },
  {
   "cell_type": "code",
   "execution_count": 14,
   "id": "7b8a0406",
   "metadata": {
    "ExecuteTime": {
     "end_time": "2023-08-23T06:24:58.262560Z",
     "start_time": "2023-08-23T06:24:58.244940Z"
    }
   },
   "outputs": [
    {
     "name": "stdout",
     "output_type": "stream",
     "text": [
      "2 1 5 3 4 "
     ]
    }
   ],
   "source": [
    "for i in range(5) :\n",
    "    print(a[i], end = ' ')"
   ]
  },
  {
   "cell_type": "code",
   "execution_count": 8,
   "id": "1a3a0067",
   "metadata": {
    "ExecuteTime": {
     "end_time": "2023-08-23T06:22:19.925033Z",
     "start_time": "2023-08-23T06:22:19.915116Z"
    }
   },
   "outputs": [
    {
     "name": "stdout",
     "output_type": "stream",
     "text": [
      "('John', 'Minsu', 'Gildong', 'Chris')\n"
     ]
    }
   ],
   "source": [
    "students = ('John', 'Minsu', 'Gildong', 'Chris')\n",
    "print(students)"
   ]
  },
  {
   "cell_type": "code",
   "execution_count": 10,
   "id": "56ab3dc3",
   "metadata": {
    "ExecuteTime": {
     "end_time": "2023-08-23T06:22:44.919579Z",
     "start_time": "2023-08-23T06:22:44.910823Z"
    }
   },
   "outputs": [
    {
     "name": "stdout",
     "output_type": "stream",
     "text": [
      "John\n",
      "Minsu\n",
      "Gildong\n",
      "Chris\n"
     ]
    }
   ],
   "source": [
    "for name in students :\n",
    "    print(name)"
   ]
  },
  {
   "cell_type": "code",
   "execution_count": 11,
   "id": "b7afb633",
   "metadata": {
    "ExecuteTime": {
     "end_time": "2023-08-23T06:23:36.985276Z",
     "start_time": "2023-08-23T06:23:36.970096Z"
    }
   },
   "outputs": [
    {
     "name": "stdout",
     "output_type": "stream",
     "text": [
      "P\n",
      "y\n",
      "t\n",
      "h\n",
      "o\n",
      "n\n"
     ]
    }
   ],
   "source": [
    "for k in 'Python' :\n",
    "    print(k)"
   ]
  },
  {
   "cell_type": "markdown",
   "id": "4de05ba3",
   "metadata": {},
   "source": [
    "## 리스트 내포(List comprehension)\n",
    "\n",
    "- 파이썬에서는 for문과 if문등 한 줄로 코드를 작성하여 직관적이고 실행속도를 높여주는 기능\n",
    "- 결과를 다시 리스트에 담아야 하는 상황에 해당 명령을 리스트에 포함시키는 코드 방식\n",
    "- 기본 형식\n",
    "  리스트명 = [표현식 for 개별변수 in 집합변수]"
   ]
  },
  {
   "cell_type": "code",
   "execution_count": 17,
   "id": "c7b53d9e",
   "metadata": {
    "ExecuteTime": {
     "end_time": "2023-08-23T06:30:24.181903Z",
     "start_time": "2023-08-23T06:30:24.164718Z"
    }
   },
   "outputs": [
    {
     "name": "stdout",
     "output_type": "stream",
     "text": [
      "[2, 4, 6]\n"
     ]
    }
   ],
   "source": [
    "a = [1, 2, 3]\n",
    "b = []\n",
    "\n",
    "for i in a :\n",
    "    b.append(i * 2)\n",
    "    \n",
    "print(b)"
   ]
  },
  {
   "cell_type": "code",
   "execution_count": 18,
   "id": "aeefb53e",
   "metadata": {
    "ExecuteTime": {
     "end_time": "2023-08-23T06:31:25.755526Z",
     "start_time": "2023-08-23T06:31:25.743548Z"
    }
   },
   "outputs": [
    {
     "name": "stdout",
     "output_type": "stream",
     "text": [
      "[2, 4, 6]\n"
     ]
    }
   ],
   "source": [
    "a = [1, 2, 3]\n",
    "b = [i * 2 for i in a]\n",
    "print(b)"
   ]
  },
  {
   "cell_type": "markdown",
   "id": "089a145b",
   "metadata": {},
   "source": [
    "리스트명 = [표현식 for 개별변수 in 집합변수 if 조건문]"
   ]
  },
  {
   "cell_type": "code",
   "execution_count": 20,
   "id": "3d7ce6fa",
   "metadata": {
    "ExecuteTime": {
     "end_time": "2023-08-23T06:36:30.221554Z",
     "start_time": "2023-08-23T06:36:30.207941Z"
    }
   },
   "outputs": [
    {
     "name": "stdout",
     "output_type": "stream",
     "text": [
      "[300, 700, 900]\n"
     ]
    }
   ],
   "source": [
    "a = [3, 7, 9, 10]\n",
    "b = list()\n",
    "\n",
    "# 주어진 리스트의 요소의 값이 홀수인 수를 추출하여 100을 곱한 후 b에 담기\n",
    "for i in a :\n",
    "    if i % 2 != 0 :\n",
    "        b.append(i * 100)\n",
    "        \n",
    "print(b)"
   ]
  },
  {
   "cell_type": "code",
   "execution_count": 22,
   "id": "c7932cc5",
   "metadata": {
    "ExecuteTime": {
     "end_time": "2023-08-23T06:37:55.485318Z",
     "start_time": "2023-08-23T06:37:55.468580Z"
    }
   },
   "outputs": [
    {
     "name": "stdout",
     "output_type": "stream",
     "text": [
      "[300, 700, 900]\n"
     ]
    }
   ],
   "source": [
    "a = [3, 7, 9, 10]\n",
    "b = [i * 100 \n",
    "     for i in a \n",
    "     if i % 2 != 0]\n",
    "print(b)"
   ]
  },
  {
   "cell_type": "markdown",
   "id": "69c79d5a",
   "metadata": {},
   "source": [
    "## 기타 제어문\n",
    "\n",
    "- braek문 : 해당 블록에서 벗어나라\n",
    "- continue문 : 이하 생략"
   ]
  },
  {
   "cell_type": "code",
   "execution_count": 26,
   "id": "6d72023d",
   "metadata": {
    "ExecuteTime": {
     "end_time": "2023-08-23T06:41:12.204360Z",
     "start_time": "2023-08-23T06:41:12.194221Z"
    }
   },
   "outputs": [
    {
     "name": "stdout",
     "output_type": "stream",
     "text": [
      "1 2 3 4 5 6 7 8 9 10 11 12 13 14 15 16 17 18 19 20 21 22 23 24 25 26 27 28 29 30 31 32 33 34 35 36 37 38 39 40 41 42 43 44 45 46 47 48 49 50 51 52 53 54 55 56 57 58 59 60 61 62 63 64 65 66 67 68 69 70 71 72 73 74 75 76 77 78 79 80 81 82 83 84 85 86 87 88 89 90 91 92 93 94 95 96 97 98 99 100 "
     ]
    }
   ],
   "source": [
    "# 1부터 100 사이의 자연수를 출력하는 프로그램\n",
    "for i in range(1, 101) :\n",
    "    print(i, end = \" \")"
   ]
  },
  {
   "cell_type": "code",
   "execution_count": 30,
   "id": "99474796",
   "metadata": {
    "ExecuteTime": {
     "end_time": "2023-08-23T06:44:57.112199Z",
     "start_time": "2023-08-23T06:44:57.096395Z"
    }
   },
   "outputs": [
    {
     "name": "stdout",
     "output_type": "stream",
     "text": [
      "\n",
      "1 2 3 4 5 6 7 8 9 10 \n",
      "11 12 13 14 15 16 17 18 19 20 \n",
      "21 22 23 24 25 26 27 28 29 30 \n",
      "31 32 33 34 35 36 37 38 39 40 \n",
      "41 42 43 44 45 46 47 48 49 50 \n",
      "51 52 53 54 55 56 57 58 59 60 \n",
      "61 62 63 64 65 66 67 68 69 70 \n",
      "71 72 73 74 75 76 77 78 79 80 \n",
      "81 82 83 84 85 86 87 88 89 90 \n",
      "91 92 93 94 95 96 97 98 99 100 "
     ]
    }
   ],
   "source": [
    "# 1줄에 10개씩만 출력\n",
    "for i in range(1, 101) :\n",
    "    if i % 10 == 1 :\n",
    "        print()  # 개행(줄바꿈)\n",
    "    print(i, end = \" \")"
   ]
  },
  {
   "cell_type": "code",
   "execution_count": 31,
   "id": "c72cf7f6",
   "metadata": {
    "ExecuteTime": {
     "end_time": "2023-08-23T06:46:01.186275Z",
     "start_time": "2023-08-23T06:46:01.170630Z"
    }
   },
   "outputs": [
    {
     "name": "stdout",
     "output_type": "stream",
     "text": [
      "1 2 3 4 5 6 7 8 9 10 \n",
      "11 12 13 14 15 16 17 18 19 20 \n",
      "21 22 23 24 25 26 27 28 29 30 \n",
      "31 32 33 34 35 36 37 38 39 40 \n",
      "41 42 43 44 45 46 47 48 49 50 \n",
      "51 52 53 54 55 56 57 58 59 60 \n",
      "61 62 63 64 65 66 67 68 69 70 \n",
      "71 72 73 74 75 76 77 78 79 80 \n",
      "81 82 83 84 85 86 87 88 89 90 \n",
      "91 92 93 94 95 96 97 98 99 100 \n"
     ]
    }
   ],
   "source": [
    "# 1줄에 10개씩만 출력\n",
    "for i in range(1, 101) :\n",
    "    print(i, end = \" \")\n",
    "    if i % 10 == 0 :\n",
    "        print()  # 개행(줄바꿈)"
   ]
  },
  {
   "cell_type": "code",
   "execution_count": 47,
   "id": "d63a0ecc",
   "metadata": {
    "ExecuteTime": {
     "end_time": "2023-08-23T07:12:13.037598Z",
     "start_time": "2023-08-23T07:12:13.025568Z"
    }
   },
   "outputs": [
    {
     "name": "stdout",
     "output_type": "stream",
     "text": [
      "\n",
      "1 3 5 7 9 \n",
      "11 13 15 17 19 \n",
      "21 23 25 27 29 \n",
      "31 33 35 37 39 \n",
      "41 43 45 47 49 \n",
      "51 53 55 57 59 \n",
      "61 63 65 67 69 \n",
      "71 73 75 77 79 \n",
      "81 83 85 87 89 \n",
      "91 93 95 97 99 "
     ]
    }
   ],
   "source": [
    "# 1부터 100사이의 자연수 중 홀수만 추출하시오. 단, 한줄에 5개씩 추출하시오.\n",
    "for i in range(1, 101) :\n",
    "    if i % 2 == 0 :\n",
    "        continue\n",
    "    elif i % 10 == 1 :\n",
    "        print()\n",
    "    print(i, end = \" \")"
   ]
  },
  {
   "cell_type": "code",
   "execution_count": 55,
   "id": "132b31a1",
   "metadata": {
    "ExecuteTime": {
     "end_time": "2023-08-23T07:17:28.256266Z",
     "start_time": "2023-08-23T07:17:28.243025Z"
    }
   },
   "outputs": [
    {
     "name": "stdout",
     "output_type": "stream",
     "text": [
      "1 3 5 7 9 \n",
      "11 13 15 17 19 \n",
      "21 23 25 27 29 \n",
      "31 33 35 37 39 \n",
      "41 43 45 47 49 \n",
      "51 53 55 57 59 \n",
      "61 63 65 67 69 \n",
      "71 73 75 77 79 \n",
      "81 83 85 87 89 \n",
      "91 93 95 97 99 \n"
     ]
    }
   ],
   "source": [
    "# 홀수의 갯수를 누적하기 위한 변수\n",
    "cnt = 0\n",
    "for i in range(1, 101) :\n",
    "    if i % 2 == 0 :  # 입력받은 i가 짝수인경우\n",
    "        continue  # 이하 생략\n",
    "        \n",
    "    else :  # 홀수인 경우\n",
    "        cnt += 1  # 홀수의 개수를 누적\n",
    "        print(i, end = \" \")\n",
    "        \n",
    "        if cnt % 5 == 0: \n",
    "            print()"
   ]
  },
  {
   "cell_type": "markdown",
   "id": "1a89871b",
   "metadata": {},
   "source": [
    "# 자료구조와 제어문"
   ]
  },
  {
   "cell_type": "code",
   "execution_count": 57,
   "id": "a5f77645",
   "metadata": {
    "ExecuteTime": {
     "end_time": "2023-08-23T07:21:13.126803Z",
     "start_time": "2023-08-23T07:21:13.117761Z"
    }
   },
   "outputs": [
    {
     "name": "stdout",
     "output_type": "stream",
     "text": [
      "[(1, 2), (3, 4), (5, 6), (7, 8), (9, 10)] <class 'list'>\n"
     ]
    }
   ],
   "source": [
    "a = [(1, 2), (3, 4), (5, 6), (7, 8), (9, 10)]\n",
    "print(a)"
   ]
  },
  {
   "cell_type": "code",
   "execution_count": 60,
   "id": "f6a612fd",
   "metadata": {
    "ExecuteTime": {
     "end_time": "2023-08-23T07:21:36.081092Z",
     "start_time": "2023-08-23T07:21:36.069142Z"
    }
   },
   "outputs": [
    {
     "name": "stdout",
     "output_type": "stream",
     "text": [
      "(1, 2)\n",
      "(3, 4)\n",
      "(5, 6)\n",
      "(7, 8)\n",
      "(9, 10)\n"
     ]
    }
   ],
   "source": [
    "for i in a :\n",
    "    print(i)"
   ]
  },
  {
   "cell_type": "code",
   "execution_count": 61,
   "id": "75e69742",
   "metadata": {
    "ExecuteTime": {
     "end_time": "2023-08-23T07:22:15.329178Z",
     "start_time": "2023-08-23T07:22:15.322201Z"
    }
   },
   "outputs": [
    {
     "name": "stdout",
     "output_type": "stream",
     "text": [
      "1 2\n",
      "3 4\n",
      "5 6\n",
      "7 8\n",
      "9 10\n"
     ]
    }
   ],
   "source": [
    "for i in a :\n",
    "    print(i[0], i[1])"
   ]
  },
  {
   "cell_type": "code",
   "execution_count": 62,
   "id": "9766e4c1",
   "metadata": {
    "ExecuteTime": {
     "end_time": "2023-08-23T07:22:54.503843Z",
     "start_time": "2023-08-23T07:22:54.490796Z"
    }
   },
   "outputs": [
    {
     "name": "stdout",
     "output_type": "stream",
     "text": [
      "3\n",
      "7\n",
      "11\n",
      "15\n",
      "19\n"
     ]
    }
   ],
   "source": [
    "for i in a :\n",
    "    print(i[0] + i[1])"
   ]
  },
  {
   "cell_type": "code",
   "execution_count": 63,
   "id": "f8ace6fb",
   "metadata": {
    "ExecuteTime": {
     "end_time": "2023-08-23T07:24:10.781087Z",
     "start_time": "2023-08-23T07:24:10.777172Z"
    }
   },
   "outputs": [
    {
     "name": "stdout",
     "output_type": "stream",
     "text": [
      "1 + 2 = 3\n",
      "3 + 4 = 7\n",
      "5 + 6 = 11\n",
      "7 + 8 = 15\n",
      "9 + 10 = 19\n"
     ]
    }
   ],
   "source": [
    "for (first, second) in a :\n",
    "    print(\"{0} + {1} = {2}\".format(first, second, first + second))"
   ]
  },
  {
   "cell_type": "markdown",
   "id": "18c82252",
   "metadata": {},
   "source": [
    "## 연도를 입력받아 평년인지 윤년인지 판단하여 출력하는 프로그램\n",
    "\n",
    "- 입력받은 연도가 0이면 작업을 종료할 것\n",
    "- 윤년은 4년마다 돌아오는데 100으로 나누어 떨어지는 연도는 평년, 하지만 400으로 나누어 떨어지면 윤년"
   ]
  },
  {
   "cell_type": "code",
   "execution_count": 65,
   "id": "4c275d64",
   "metadata": {
    "ExecuteTime": {
     "end_time": "2023-08-23T07:32:22.476837Z",
     "start_time": "2023-08-23T07:32:18.198314Z"
    }
   },
   "outputs": [
    {
     "name": "stdout",
     "output_type": "stream",
     "text": [
      "연도를 입력하세요(종료:0) = 2953\n",
      "2953년도는 평년입니다.\n",
      "연도를 입력하세요(종료:0) = 2000\n",
      "2000년도는 윤년입니다.\n",
      "연도를 입력하세요(종료:0) = 0\n",
      "프로그램을 종료합니다.\n"
     ]
    }
   ],
   "source": [
    "while True :\n",
    "    year = int(input(\"연도를 입력하세요(종료:0) = \"))\n",
    "    \n",
    "    if year == 0 : \n",
    "        print(\"프로그램을 종료합니다.\")\n",
    "        break\n",
    "        \n",
    "    elif year % 4 == 0 and year % 100 !=0 or year % 400 == 0 :\n",
    "        print(\"{0}년도는 윤년입니다.\".format(year))\n",
    "        \n",
    "    else :\n",
    "        print(\"{0}년도는 평년입니다.\".format(year))"
   ]
  },
  {
   "cell_type": "markdown",
   "id": "85e1f1a6",
   "metadata": {},
   "source": [
    "## 1부터 100사이의 수 중 소수에 해당하는 숫자를 출력하는 프로그램\n",
    "\n",
    "- 처리조건 : 한 줄에 10개씩 출력되도록 구현할 것\n",
    "- 소수(Prime) : 1과 자기자신으로만 나누어 떨어지는 수"
   ]
  },
  {
   "cell_type": "code",
   "execution_count": 69,
   "id": "f5510d3a",
   "metadata": {
    "ExecuteTime": {
     "end_time": "2023-08-23T07:50:46.722235Z",
     "start_time": "2023-08-23T07:50:45.595685Z"
    }
   },
   "outputs": [
    {
     "name": "stdout",
     "output_type": "stream",
     "text": [
      "수 = 83\n",
      "소수이다.\n"
     ]
    }
   ],
   "source": [
    "num = int(input(\"수 = \"))  # 7\n",
    "    \n",
    "ck = 0\n",
    "\n",
    "for i in range(1, num+1) :  # 1 ~ 7\n",
    "    if num % i == 0 :\n",
    "        ck += 1\n",
    "        \n",
    "if ck == 2 :\n",
    "    print('소수이다.')\n",
    "else :\n",
    "    print('소수가 아니다.')"
   ]
  },
  {
   "cell_type": "code",
   "execution_count": 70,
   "id": "a0d92d8e",
   "metadata": {
    "ExecuteTime": {
     "end_time": "2023-08-23T07:53:52.244909Z",
     "start_time": "2023-08-23T07:53:52.230956Z"
    }
   },
   "outputs": [
    {
     "name": "stdout",
     "output_type": "stream",
     "text": [
      "2 3 5 7 11 13 17 19 23 29 31 37 41 43 47 53 59 61 67 71 73 79 83 89 97 "
     ]
    }
   ],
   "source": [
    "for i in range(1, 101) :\n",
    "    check = 0  # 나누어 떨어지는 수의 개수를 누적할 변수\n",
    "    \n",
    "    for j in range(1, i+1) :\n",
    "        if i % j == 0 :\n",
    "            check += 1\n",
    "            \n",
    "    if check == 2 :\n",
    "        print(i, end = \" \")"
   ]
  }
 ],
 "metadata": {
  "kernelspec": {
   "display_name": "Python 3",
   "language": "python",
   "name": "python3"
  },
  "language_info": {
   "codemirror_mode": {
    "name": "ipython",
    "version": 3
   },
   "file_extension": ".py",
   "mimetype": "text/x-python",
   "name": "python",
   "nbconvert_exporter": "python",
   "pygments_lexer": "ipython3",
   "version": "3.8.8"
  },
  "toc": {
   "base_numbering": 1,
   "nav_menu": {},
   "number_sections": true,
   "sideBar": true,
   "skip_h1_title": false,
   "title_cell": "Table of Contents",
   "title_sidebar": "Contents",
   "toc_cell": false,
   "toc_position": {
    "height": "751px",
    "left": "41px",
    "top": "236px",
    "width": "236px"
   },
   "toc_section_display": true,
   "toc_window_display": true
  }
 },
 "nbformat": 4,
 "nbformat_minor": 5
}
