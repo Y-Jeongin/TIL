{
 "cells": [
  {
   "cell_type": "markdown",
   "id": "abba82d4",
   "metadata": {},
   "source": [
    "# 함수(Function)란?\n",
    "\n",
    "1. 함수의 정의\n",
    "  - 자주 반복적으로 수행하는 기능이나 명령어를 묶어서 관리하는 기능\n",
    "  - 여러개의 명령어를 묶어놓은 명령어 집합\n",
    "  \n",
    "\n",
    "2. 함수의 장점\n",
    "  - 재사용 가능\n",
    "  - 코드의 간결성\n",
    "  - 유지보수가 효율성\n",
    "  \n",
    "\n",
    "3. 함수의 구조  \n",
    "  def 함수명(입력매개변수) :  \n",
    "  &nbsp;&nbsp;&nbsp;&nbsp;  함수의 내용정의부  \n",
    "  &nbsp;&nbsp;&nbsp;&nbsp;  return 반환값 or 수식\n",
    "\n",
    "\n",
    "4. 함수의 종류\n",
    "  - 내장 함수 : 파이썬에서 미리 만들어 놓은 함수, 각 라이브러리(패키지)마다 만들어 놓은 함수\n",
    "  - 사용자 정의 함수 : 사용자에 의해 임의로 생성한 함수"
   ]
  },
  {
   "cell_type": "markdown",
   "id": "385b5b29",
   "metadata": {},
   "source": [
    "## 함수의 형태\n",
    "\n",
    "1. 입력값과 반환값이 없는 함수 => 매개변수와 return값이 없는 함수\n",
    "2. 매개변수는 있고 반환값이 없는 함수\n",
    "3. 매개변수는 없고 반환값이 있는 함수\n",
    "4. 매개변수와 반환값이 있는 함수"
   ]
  },
  {
   "cell_type": "code",
   "execution_count": 1,
   "id": "a41fed26",
   "metadata": {
    "ExecuteTime": {
     "end_time": "2023-08-23T08:25:48.939039Z",
     "start_time": "2023-08-23T08:25:48.918611Z"
    }
   },
   "outputs": [],
   "source": [
    "# 매개변수와 반환값이 없는 함수\n",
    "## 함수 정의 : def = define\n",
    "def show() :\n",
    "    print(\"Hello Function\")"
   ]
  },
  {
   "cell_type": "code",
   "execution_count": 2,
   "id": "bf8d6903",
   "metadata": {
    "ExecuteTime": {
     "end_time": "2023-08-23T08:26:20.251508Z",
     "start_time": "2023-08-23T08:26:20.245529Z"
    }
   },
   "outputs": [
    {
     "name": "stdout",
     "output_type": "stream",
     "text": [
      "Hello Function\n"
     ]
    }
   ],
   "source": [
    "# 함수 호출 : Call by Name\n",
    "show()"
   ]
  },
  {
   "cell_type": "code",
   "execution_count": 3,
   "id": "02333917",
   "metadata": {
    "ExecuteTime": {
     "end_time": "2023-08-23T08:27:49.807813Z",
     "start_time": "2023-08-23T08:27:49.799596Z"
    }
   },
   "outputs": [],
   "source": [
    "# 매개변수는 없고 반환값은 있는 함수\n",
    "def aaa() :\n",
    "    return 100"
   ]
  },
  {
   "cell_type": "code",
   "execution_count": 4,
   "id": "7c183542",
   "metadata": {
    "ExecuteTime": {
     "end_time": "2023-08-23T08:27:52.332409Z",
     "start_time": "2023-08-23T08:27:52.320960Z"
    }
   },
   "outputs": [
    {
     "data": {
      "text/plain": [
       "100"
      ]
     },
     "execution_count": 4,
     "metadata": {},
     "output_type": "execute_result"
    }
   ],
   "source": [
    "# 함수 호출 : Call by Name\n",
    "aaa()"
   ]
  },
  {
   "cell_type": "code",
   "execution_count": 5,
   "id": "bf457b5f",
   "metadata": {
    "ExecuteTime": {
     "end_time": "2023-08-23T08:29:26.405936Z",
     "start_time": "2023-08-23T08:29:26.398894Z"
    }
   },
   "outputs": [],
   "source": [
    "# 매개변수는 있고 반환값은 없는 함수\n",
    "def disp(a) :\n",
    "    print(\"a = \", a)"
   ]
  },
  {
   "cell_type": "code",
   "execution_count": 7,
   "id": "7472954c",
   "metadata": {
    "ExecuteTime": {
     "end_time": "2023-08-23T08:30:29.191296Z",
     "start_time": "2023-08-23T08:30:29.183256Z"
    }
   },
   "outputs": [
    {
     "name": "stdout",
     "output_type": "stream",
     "text": [
      "a =  10\n",
      "a =  20\n"
     ]
    }
   ],
   "source": [
    "# 함수 호출 : 값에 의한 호출 Call by Value\n",
    "disp(10)\n",
    "disp(20)"
   ]
  },
  {
   "cell_type": "code",
   "execution_count": 8,
   "id": "fee524ed",
   "metadata": {
    "ExecuteTime": {
     "end_time": "2023-08-23T08:31:35.037226Z",
     "start_time": "2023-08-23T08:31:35.026352Z"
    }
   },
   "outputs": [],
   "source": [
    "# 매개변수와 반환값이 있는 함수\n",
    "def add(a, b) :\n",
    "    return a + b"
   ]
  },
  {
   "cell_type": "code",
   "execution_count": 9,
   "id": "59b5cf76",
   "metadata": {
    "ExecuteTime": {
     "end_time": "2023-08-23T08:31:55.504255Z",
     "start_time": "2023-08-23T08:31:55.491991Z"
    }
   },
   "outputs": [
    {
     "data": {
      "text/plain": [
       "30"
      ]
     },
     "execution_count": 9,
     "metadata": {},
     "output_type": "execute_result"
    }
   ],
   "source": [
    "# 함수 호출 : Call by Value\n",
    "add(10, 20)"
   ]
  },
  {
   "cell_type": "markdown",
   "id": "b83ae6a3",
   "metadata": {},
   "source": [
    "## 함수의 사용\n",
    "\n",
    "- 함수는 호출에 의해 동작한다.\n",
    "- 함수를 호출하는 방식 : Call by Name, Call by Value, Call by Reference\n",
    "- Call by Name (이름에 의한 호출)\n",
    "- Call by Value (값에 의한 호출)\n",
    "- Call by Reference (참조 = 주소에 의한 호출)"
   ]
  },
  {
   "cell_type": "code",
   "execution_count": 13,
   "id": "76fbb03e",
   "metadata": {
    "ExecuteTime": {
     "end_time": "2023-08-23T08:34:33.460819Z",
     "start_time": "2023-08-23T08:34:33.453741Z"
    }
   },
   "outputs": [
    {
     "name": "stdout",
     "output_type": "stream",
     "text": [
      "hello\n",
      "a =  hello\n"
     ]
    }
   ],
   "source": [
    "def say() :\n",
    "    return \"hello\"\n",
    "\n",
    "print(say())\n",
    "a = say()  # a = \"hello\"\n",
    "print(\"a = \", a)"
   ]
  },
  {
   "cell_type": "code",
   "execution_count": 20,
   "id": "0f4f42d4",
   "metadata": {
    "ExecuteTime": {
     "end_time": "2023-08-23T08:41:37.197910Z",
     "start_time": "2023-08-23T08:41:37.184065Z"
    },
    "code_folding": []
   },
   "outputs": [],
   "source": [
    "def add(x, y) :\n",
    "    result = x + y\n",
    "    print(\"{} + {} = {}\".format(x, y, result))\n",
    "    \n",
    "def sub(x, y) :\n",
    "    result = x - y\n",
    "    print(\"{} - {} = {}\".format(x, y, result))\n",
    "    \n",
    "def mul(x, y) :\n",
    "    result = x * y\n",
    "    print(\"{} * {} = {}\".format(x, y, result))\n",
    "    \n",
    "def div(x, y) :\n",
    "    if y == 0 : y = 1\n",
    "    result = x / y\n",
    "    print(\"{} / {} = {}\".format(x, y, result))"
   ]
  },
  {
   "cell_type": "code",
   "execution_count": 22,
   "id": "b5932071",
   "metadata": {
    "ExecuteTime": {
     "end_time": "2023-08-23T08:42:32.788637Z",
     "start_time": "2023-08-23T08:42:27.361945Z"
    },
    "code_folding": []
   },
   "outputs": [
    {
     "name": "stdout",
     "output_type": "stream",
     "text": [
      "수1 = 10\n",
      "연산자(+, -, *, /) = /\n",
      "수2 = 0\n",
      "10 / 1 = 10.0\n"
     ]
    }
   ],
   "source": [
    "su1 = int(input(\"수1 = \"))\n",
    "op = input(\"연산자(+, -, *, /) = \")\n",
    "su2 = int(input(\"수2 = \"))\n",
    "\n",
    "if op == '+' :\n",
    "    add(su1, su2)\n",
    "elif op == '-' :\n",
    "    sub(su1, su2)\n",
    "elif op == '*' :\n",
    "    mul(su1, su2)\n",
    "else :\n",
    "    div(su1, su2)"
   ]
  },
  {
   "cell_type": "markdown",
   "id": "122ab776",
   "metadata": {},
   "source": [
    "## 내장 함수"
   ]
  },
  {
   "cell_type": "code",
   "execution_count": 25,
   "id": "d9576109",
   "metadata": {
    "ExecuteTime": {
     "end_time": "2023-08-23T08:44:43.912847Z",
     "start_time": "2023-08-23T08:44:43.899889Z"
    },
    "code_folding": []
   },
   "outputs": [
    {
     "name": "stdout",
     "output_type": "stream",
     "text": [
      "100\n",
      "100\n"
     ]
    }
   ],
   "source": [
    "# 절대값 계산하는 함수\n",
    "print(abs(-100))\n",
    "print(abs(100))"
   ]
  },
  {
   "cell_type": "code",
   "execution_count": 26,
   "id": "0e488d44",
   "metadata": {
    "ExecuteTime": {
     "end_time": "2023-08-23T08:46:04.000380Z",
     "start_time": "2023-08-23T08:46:03.995307Z"
    }
   },
   "outputs": [],
   "source": [
    "def abss(a) :\n",
    "    if a > 0 :\n",
    "        return a\n",
    "    else :\n",
    "        return -a"
   ]
  },
  {
   "cell_type": "code",
   "execution_count": 28,
   "id": "0cd0d027",
   "metadata": {
    "ExecuteTime": {
     "end_time": "2023-08-23T08:46:28.494235Z",
     "start_time": "2023-08-23T08:46:28.480481Z"
    }
   },
   "outputs": [
    {
     "name": "stdout",
     "output_type": "stream",
     "text": [
      "100\n",
      "100\n"
     ]
    }
   ],
   "source": [
    "print(abss(-100))\n",
    "print(abss(100))"
   ]
  },
  {
   "cell_type": "code",
   "execution_count": 32,
   "id": "32aa0493",
   "metadata": {
    "ExecuteTime": {
     "end_time": "2023-08-23T08:49:55.606990Z",
     "start_time": "2023-08-23T08:49:55.600046Z"
    }
   },
   "outputs": [
    {
     "name": "stdout",
     "output_type": "stream",
     "text": [
      "True\n",
      "False\n"
     ]
    }
   ],
   "source": [
    "# all(), any()\n",
    "## all : 모든 값이 True인지 검사하는 함수(결과 : 모두 참이면 참, 그렇지 않으면 거짓)\n",
    "## any : 어느 것 하나라도 True인지 검사하는 함수\n",
    "## 2진수(0 = False과 1 = True)\n",
    "## 0이 아니면 참으로 간주한다.\n",
    "print(all([1, 2, 3]))  # True\n",
    "print(all([1, 2, 3, 0]))  # False"
   ]
  },
  {
   "cell_type": "markdown",
   "id": "362124e2",
   "metadata": {},
   "source": [
    "# 제어문 복습\n",
    "<pre>\n",
    "*\n",
    "**\n",
    "***\n",
    "****\n",
    "*****\n",
    "******\n",
    "*******\n",
    "********\n",
    "</pre>"
   ]
  },
  {
   "cell_type": "code",
   "execution_count": 2,
   "id": "bb786ff9",
   "metadata": {
    "ExecuteTime": {
     "end_time": "2023-08-24T00:04:22.203051Z",
     "start_time": "2023-08-24T00:04:22.190096Z"
    }
   },
   "outputs": [
    {
     "name": "stdout",
     "output_type": "stream",
     "text": [
      "*****"
     ]
    }
   ],
   "source": [
    "print('*', end = '')\n",
    "print('*', end = '')\n",
    "print('*', end = '')\n",
    "print('*', end = '')\n",
    "print('*', end = '')"
   ]
  },
  {
   "cell_type": "code",
   "execution_count": 3,
   "id": "236cfabb",
   "metadata": {
    "ExecuteTime": {
     "end_time": "2023-08-24T00:04:49.536296Z",
     "start_time": "2023-08-24T00:04:49.520978Z"
    }
   },
   "outputs": [
    {
     "name": "stdout",
     "output_type": "stream",
     "text": [
      "*****"
     ]
    }
   ],
   "source": [
    "for i in range(5) :\n",
    "    print('*', end = '')"
   ]
  },
  {
   "cell_type": "code",
   "execution_count": 7,
   "id": "250631bc",
   "metadata": {
    "ExecuteTime": {
     "end_time": "2023-08-24T00:06:46.827774Z",
     "start_time": "2023-08-24T00:06:46.820832Z"
    }
   },
   "outputs": [
    {
     "name": "stdout",
     "output_type": "stream",
     "text": [
      "*****\n",
      "*****\n",
      "*****\n",
      "*****\n",
      "*****\n"
     ]
    }
   ],
   "source": [
    "# 다중 for문 : 바깥쪽 for문이 한번수행될때마다 안쪽 for문 주어진 횟수만큼 동작\n",
    "for k in range(5) :  # 행의 수(줄)\n",
    "    for i in range(5) :  # 열의 수(매 행마다 출력되는 별의 개수)\n",
    "        print('*', end = '')\n",
    "    print()"
   ]
  },
  {
   "cell_type": "code",
   "execution_count": 11,
   "id": "647d9efd",
   "metadata": {
    "ExecuteTime": {
     "end_time": "2023-08-24T00:10:10.887523Z",
     "start_time": "2023-08-24T00:10:10.872309Z"
    }
   },
   "outputs": [
    {
     "name": "stdout",
     "output_type": "stream",
     "text": [
      "\n",
      "*\n",
      "**\n",
      "***\n",
      "****\n",
      "*****\n",
      "******\n",
      "*******\n",
      "********\n"
     ]
    }
   ],
   "source": [
    "for k in range(8) :  # 행의 수(줄)\n",
    "    for i in range(k) :  # 열의 수(매 행마다 출력되는 별의 개수)\n",
    "        print('*', end = '')\n",
    "    print()"
   ]
  },
  {
   "cell_type": "markdown",
   "id": "39549283",
   "metadata": {},
   "source": [
    "<pre>\n",
    "********\n",
    "*******\n",
    "******\n",
    "*****\n",
    "****\n",
    "***\n",
    "**\n",
    "*\n",
    "</pre>"
   ]
  },
  {
   "cell_type": "code",
   "execution_count": 15,
   "id": "87eb6109",
   "metadata": {
    "ExecuteTime": {
     "end_time": "2023-08-24T00:12:50.439673Z",
     "start_time": "2023-08-24T00:12:50.428328Z"
    }
   },
   "outputs": [
    {
     "name": "stdout",
     "output_type": "stream",
     "text": [
      "********\n",
      "*******\n",
      "******\n",
      "*****\n",
      "****\n",
      "***\n",
      "**\n",
      "*\n"
     ]
    }
   ],
   "source": [
    "# range(from, to, by)\n",
    "for k in range(8, 0, -1) :\n",
    "    for i in range(k) :\n",
    "        print('*', end = '')\n",
    "    print()"
   ]
  },
  {
   "cell_type": "code",
   "execution_count": 17,
   "id": "9e214a1b",
   "metadata": {
    "ExecuteTime": {
     "end_time": "2023-08-24T00:13:36.022929Z",
     "start_time": "2023-08-24T00:13:36.006846Z"
    }
   },
   "outputs": [
    {
     "name": "stdout",
     "output_type": "stream",
     "text": [
      "********\n",
      "*******\n",
      "******\n",
      "*****\n",
      "****\n",
      "***\n",
      "**\n",
      "*\n"
     ]
    }
   ],
   "source": [
    "# range(from, to, by)\n",
    "for k in range(8) :\n",
    "    for i in range(8-k) :\n",
    "        print('*', end = '')\n",
    "    print()"
   ]
  },
  {
   "cell_type": "markdown",
   "id": "1158f921",
   "metadata": {},
   "source": [
    "- 문제  \n",
    "<pre>\n",
    "          *\n",
    "         **\n",
    "        ***\n",
    "       ****\n",
    "      *****\n",
    "     ******\n",
    "    *******\n",
    "   ********\n",
    "</pre>"
   ]
  },
  {
   "cell_type": "code",
   "execution_count": 27,
   "id": "794be84e",
   "metadata": {
    "ExecuteTime": {
     "end_time": "2023-08-24T00:25:47.967200Z",
     "start_time": "2023-08-24T00:25:47.954015Z"
    }
   },
   "outputs": [
    {
     "name": "stdout",
     "output_type": "stream",
     "text": [
      "        *\n",
      "       **\n",
      "      ***\n",
      "     ****\n",
      "    *****\n",
      "   ******\n",
      "  *******\n",
      " ********\n"
     ]
    }
   ],
   "source": [
    "# 공백을 제어할 변수\n",
    "b = 8\n",
    "\n",
    "# 전체 출력되는 줄을 반복처리하는 로직\n",
    "for i in range(8) :\n",
    "\n",
    "    # 공백처리\n",
    "    for j in range(b) : \n",
    "        print(' ', end = '')\n",
    "        \n",
    "    # 별이 출력되는 개수 제어\n",
    "    for k in range(i+1) :\n",
    "        print('*', end = '')\n",
    "    \n",
    "    # 개행\n",
    "    print()\n",
    "    \n",
    "    # 공백처리\n",
    "    b -= 1"
   ]
  },
  {
   "cell_type": "code",
   "execution_count": 29,
   "id": "d8a484e9",
   "metadata": {
    "ExecuteTime": {
     "end_time": "2023-08-24T00:30:19.381701Z",
     "start_time": "2023-08-24T00:30:19.377747Z"
    }
   },
   "outputs": [
    {
     "name": "stdout",
     "output_type": "stream",
     "text": [
      "*******"
     ]
    }
   ],
   "source": [
    "for i in range(1, 8) :\n",
    "    print('*', end = '')"
   ]
  },
  {
   "cell_type": "markdown",
   "id": "3aa564ba",
   "metadata": {},
   "source": [
    "- 문제  \n",
    "<pre>\n",
    "   ********\n",
    "    *******\n",
    "     ******\n",
    "      *****\n",
    "       ****\n",
    "        ***\n",
    "         **\n",
    "          *\n",
    "</pre>"
   ]
  },
  {
   "cell_type": "code",
   "execution_count": 32,
   "id": "3d78ce74",
   "metadata": {
    "ExecuteTime": {
     "end_time": "2023-08-24T00:32:06.709697Z",
     "start_time": "2023-08-24T00:32:06.695719Z"
    }
   },
   "outputs": [
    {
     "name": "stdout",
     "output_type": "stream",
     "text": [
      "********\n",
      " *******\n",
      "  ******\n",
      "   *****\n",
      "    ****\n",
      "     ***\n",
      "      **\n",
      "       *\n"
     ]
    }
   ],
   "source": [
    "# 공백을 제어할 변수\n",
    "b = 0\n",
    "\n",
    "# 전체 출력되는 줄을 반복처리하는 로직\n",
    "for i in range(8, 0, -1) :\n",
    "\n",
    "    # 공백처리\n",
    "    for j in range(b) : \n",
    "        print(' ', end = '')\n",
    "        \n",
    "    # 별이 출력되는 개수 제어\n",
    "    for k in range(i) :\n",
    "        print('*', end = '')\n",
    "    \n",
    "    # 개행\n",
    "    print()\n",
    "    \n",
    "    # 공백처리\n",
    "    b += 1"
   ]
  },
  {
   "cell_type": "code",
   "execution_count": 33,
   "id": "3fa8038b",
   "metadata": {
    "ExecuteTime": {
     "end_time": "2023-08-24T00:32:45.440309Z",
     "start_time": "2023-08-24T00:32:45.426234Z"
    }
   },
   "outputs": [
    {
     "name": "stdout",
     "output_type": "stream",
     "text": [
      "********\n",
      " *******\n",
      "  ******\n",
      "   *****\n",
      "    ****\n",
      "     ***\n",
      "      **\n",
      "       *\n"
     ]
    }
   ],
   "source": [
    "# 공백을 제어할 변수\n",
    "b = 8\n",
    "\n",
    "# 전체 출력되는 줄을 반복처리하는 로직\n",
    "for i in range(8) :\n",
    "\n",
    "    # 공백처리\n",
    "    for j in range(i) : \n",
    "        print(' ', end = '')\n",
    "        \n",
    "    # 별이 출력되는 개수 제어\n",
    "    for k in range(b) :\n",
    "        print('*', end = '')\n",
    "    \n",
    "    # 개행\n",
    "    print()\n",
    "    \n",
    "    # 공백처리\n",
    "    b -= 1"
   ]
  },
  {
   "cell_type": "markdown",
   "id": "e6974ff9",
   "metadata": {
    "ExecuteTime": {
     "end_time": "2023-08-24T00:33:50.740639Z",
     "start_time": "2023-08-24T00:33:50.730608Z"
    }
   },
   "source": [
    "<pre>\n",
    "     *\n",
    "    ***\n",
    "   *****\n",
    "  *******\n",
    " *********\n",
    "***********\n",
    "</pre>"
   ]
  },
  {
   "cell_type": "code",
   "execution_count": 71,
   "id": "d10495f0",
   "metadata": {
    "ExecuteTime": {
     "end_time": "2023-08-24T00:42:52.982371Z",
     "start_time": "2023-08-24T00:42:52.973006Z"
    }
   },
   "outputs": [
    {
     "name": "stdout",
     "output_type": "stream",
     "text": [
      "*\n",
      "***\n",
      "*****\n",
      "*******\n",
      "*********\n",
      "***********\n"
     ]
    }
   ],
   "source": [
    "for i in range(12) :\n",
    "    for j in range(b) :\n",
    "        print(' ', end = '')\n",
    "   \n",
    "    if i % 2 == 1 :\n",
    "        for k in range(i) :\n",
    "            print('*', end = '')\n",
    "        \n",
    "        print()"
   ]
  },
  {
   "cell_type": "code",
   "execution_count": 77,
   "id": "e6b76a89",
   "metadata": {
    "ExecuteTime": {
     "end_time": "2023-08-24T00:45:24.067851Z",
     "start_time": "2023-08-24T00:45:24.061863Z"
    }
   },
   "outputs": [
    {
     "name": "stdout",
     "output_type": "stream",
     "text": [
      "     *\n",
      "    ***\n",
      "   *****\n",
      "  *******\n",
      " *********\n",
      "***********\n"
     ]
    }
   ],
   "source": [
    "for i in range(1,7) :\n",
    "    for j in range(6-i) :\n",
    "        print(' ', end = '')\n",
    "    for k in range(2*i - 1) :\n",
    "        print('*', end = '')\n",
    "    print()"
   ]
  },
  {
   "cell_type": "code",
   "execution_count": 79,
   "id": "070081ee",
   "metadata": {
    "ExecuteTime": {
     "end_time": "2023-08-24T00:47:10.630860Z",
     "start_time": "2023-08-24T00:47:10.613897Z"
    }
   },
   "outputs": [
    {
     "name": "stdout",
     "output_type": "stream",
     "text": [
      "     *\n",
      "    ***\n",
      "   *****\n",
      "  *******\n",
      " *********\n",
      "***********\n"
     ]
    }
   ],
   "source": [
    "for i in range(1, 12, 2) :\n",
    "    for j in range(int((12-i) / 2)) :\n",
    "        print(' ', end = '')\n",
    "    for k in range(i) :\n",
    "        print('*', end = '')\n",
    "    print()"
   ]
  },
  {
   "cell_type": "code",
   "execution_count": 81,
   "id": "c34f92ad",
   "metadata": {
    "ExecuteTime": {
     "end_time": "2023-08-24T00:49:53.061145Z",
     "start_time": "2023-08-24T00:49:53.045440Z"
    }
   },
   "outputs": [
    {
     "name": "stdout",
     "output_type": "stream",
     "text": [
      "     *\n",
      "    ***\n"
     ]
    }
   ],
   "source": [
    "# 첫줄 공백처리\n",
    "for a in range(5) :\n",
    "    print(' ', end = '')\n",
    "    \n",
    "# 첫줄 별 출력\n",
    "for b in range(1):\n",
    "    print('*', end = '')\n",
    "    \n",
    "# 개행\n",
    "print()\n",
    "\n",
    "# 두번째줄 공백처리\n",
    "for a in range(4) :\n",
    "    print(' ', end = '')\n",
    "    \n",
    "# 두번째줄 별 출력\n",
    "for b in range(3) :\n",
    "    print('*', end = '')\n",
    "# 개행\n",
    "print()"
   ]
  },
  {
   "cell_type": "markdown",
   "id": "bdf07546",
   "metadata": {},
   "source": [
    "# 파이썬 함수\n",
    "\n",
    "- 반복적인 프로그래밍을 피할 수 있다.\n",
    "- 모듈화로 인해 전체적인 코드의 가독성을 높인다.\n",
    "- 프로그램에 문제가 발생하거나 기능을 변경해야 할 때 빠른 유지보수가 가능하다."
   ]
  },
  {
   "cell_type": "code",
   "execution_count": null,
   "id": "376fe35d",
   "metadata": {},
   "outputs": [],
   "source": [
    "# 함수의 형식\n",
    "def 함수명(매개변수) :\n",
    "    실행문장\n",
    "    return 반환값 또는 수식"
   ]
  },
  {
   "cell_type": "code",
   "execution_count": null,
   "id": "a2be2016",
   "metadata": {},
   "outputs": [],
   "source": [
    "# 프로그램의 실행순서는 main 시작 - main 끝\n",
    "# 프로그램의 실행순서는 main 시작 - sub 프로그램 호출 - main 끝\n",
    "# return 키워드의 의미 : main에게 프로그램의 제어권을 돌려준다.\n",
    "# return : 제어권을 main에 넘겨준다는 의미로 생략이 가능\n",
    "# return 값 or 수식 "
   ]
  },
  {
   "cell_type": "code",
   "execution_count": 82,
   "id": "0c9f4e22",
   "metadata": {
    "ExecuteTime": {
     "end_time": "2023-08-24T01:15:19.206726Z",
     "start_time": "2023-08-24T01:15:19.188567Z"
    }
   },
   "outputs": [
    {
     "name": "stdout",
     "output_type": "stream",
     "text": [
      "안녕!\n",
      "------------\n",
      "-------------------------\n",
      "뭘 봐\n",
      "오늘이 목요일이라니~\n",
      "체감은 일요일이야\n",
      "------\n",
      "---------------------------------------\n",
      "반복적인 문구가 보입니까?\n"
     ]
    }
   ],
   "source": [
    "print(\"안녕!\")\n",
    "print(\"------------\")  # print(\"-\" * 10)\n",
    "print(\"-------------------------\")\n",
    "print(\"뭘 봐\")\n",
    "print(\"오늘이 목요일이라니~\")\n",
    "print(\"체감은 일요일이야\")\n",
    "print(\"------\")\n",
    "print(\"---------------------------------------\")\n",
    "print(\"반복적인 문구가 보입니까?\")"
   ]
  },
  {
   "cell_type": "code",
   "execution_count": 83,
   "id": "0820a413",
   "metadata": {
    "ExecuteTime": {
     "end_time": "2023-08-24T01:18:18.336243Z",
     "start_time": "2023-08-24T01:18:18.327742Z"
    }
   },
   "outputs": [],
   "source": [
    "def line(size) :\n",
    "    print('-' * size)\n",
    "    return  # 생략 가능"
   ]
  },
  {
   "cell_type": "code",
   "execution_count": 84,
   "id": "0b6b169b",
   "metadata": {
    "ExecuteTime": {
     "end_time": "2023-08-24T01:19:21.561203Z",
     "start_time": "2023-08-24T01:19:21.548214Z"
    }
   },
   "outputs": [
    {
     "name": "stdout",
     "output_type": "stream",
     "text": [
      "안녕!\n",
      "----------\n",
      "--------------------\n",
      "뭘 봐\n",
      "오늘이 목요일이라니~\n",
      "체감은 일요일이야\n",
      "-----\n",
      "------------------------------\n",
      "반복적인 문구가 보입니까?\n"
     ]
    }
   ],
   "source": [
    "print(\"안녕!\")\n",
    "line(10)\n",
    "line(20)\n",
    "print(\"뭘 봐\")\n",
    "print(\"오늘이 목요일이라니~\")\n",
    "print(\"체감은 일요일이야\")\n",
    "line(5)\n",
    "line(30)\n",
    "print(\"반복적인 문구가 보입니까?\")"
   ]
  },
  {
   "cell_type": "code",
   "execution_count": 85,
   "id": "8cd9e3be",
   "metadata": {
    "ExecuteTime": {
     "end_time": "2023-08-24T01:22:51.430445Z",
     "start_time": "2023-08-24T01:22:51.424175Z"
    }
   },
   "outputs": [],
   "source": [
    "# 매개변수, 리턴값이 없는 경우\n",
    "def aaa() :\n",
    "    print(\"sub 프로그램의 시작\")"
   ]
  },
  {
   "cell_type": "code",
   "execution_count": 86,
   "id": "4a1444c5",
   "metadata": {
    "ExecuteTime": {
     "end_time": "2023-08-24T01:23:03.581308Z",
     "start_time": "2023-08-24T01:23:03.567056Z"
    }
   },
   "outputs": [
    {
     "name": "stdout",
     "output_type": "stream",
     "text": [
      "sub 프로그램의 시작\n"
     ]
    }
   ],
   "source": [
    "aaa()"
   ]
  },
  {
   "cell_type": "code",
   "execution_count": 87,
   "id": "e67df59b",
   "metadata": {
    "ExecuteTime": {
     "end_time": "2023-08-24T01:23:52.887033Z",
     "start_time": "2023-08-24T01:23:52.879777Z"
    }
   },
   "outputs": [],
   "source": [
    "# 매개변수가 없고, 리턴값이 있는 경우\n",
    "def bbb() :\n",
    "    return \"ok\""
   ]
  },
  {
   "cell_type": "code",
   "execution_count": 88,
   "id": "e89727e6",
   "metadata": {
    "ExecuteTime": {
     "end_time": "2023-08-24T01:23:56.989334Z",
     "start_time": "2023-08-24T01:23:56.975641Z"
    }
   },
   "outputs": [
    {
     "data": {
      "text/plain": [
       "'ok'"
      ]
     },
     "execution_count": 88,
     "metadata": {},
     "output_type": "execute_result"
    }
   ],
   "source": [
    "bbb()"
   ]
  },
  {
   "cell_type": "code",
   "execution_count": 89,
   "id": "fdde83ee",
   "metadata": {
    "ExecuteTime": {
     "end_time": "2023-08-24T01:25:08.076680Z",
     "start_time": "2023-08-24T01:25:08.068694Z"
    }
   },
   "outputs": [],
   "source": [
    "# 매개변수가 있고, 리턴값이 없는 경우\n",
    "def ccc(len) :\n",
    "    if len >= 10 :\n",
    "        print(\"길어\")\n",
    "    else :\n",
    "        print(\"짧아\")"
   ]
  },
  {
   "cell_type": "code",
   "execution_count": 90,
   "id": "153fdcd1",
   "metadata": {
    "ExecuteTime": {
     "end_time": "2023-08-24T01:25:13.977827Z",
     "start_time": "2023-08-24T01:25:13.960807Z"
    }
   },
   "outputs": [
    {
     "name": "stdout",
     "output_type": "stream",
     "text": [
      "짧아\n"
     ]
    }
   ],
   "source": [
    "ccc(2)"
   ]
  },
  {
   "cell_type": "code",
   "execution_count": null,
   "id": "8b761b96",
   "metadata": {},
   "outputs": [],
   "source": [
    "# 매개변수, 리턴값이 있는 경우"
   ]
  },
  {
   "cell_type": "code",
   "execution_count": 91,
   "id": "311275ba",
   "metadata": {
    "ExecuteTime": {
     "end_time": "2023-08-24T01:26:27.557510Z",
     "start_time": "2023-08-24T01:26:27.548441Z"
    }
   },
   "outputs": [],
   "source": [
    "def adder(a, b) :\n",
    "    #  c = a + b\n",
    "    return a + b"
   ]
  },
  {
   "cell_type": "code",
   "execution_count": 92,
   "id": "5d6455ec",
   "metadata": {
    "ExecuteTime": {
     "end_time": "2023-08-24T01:26:31.422212Z",
     "start_time": "2023-08-24T01:26:31.405930Z"
    }
   },
   "outputs": [
    {
     "data": {
      "text/plain": [
       "9"
      ]
     },
     "execution_count": 92,
     "metadata": {},
     "output_type": "execute_result"
    }
   ],
   "source": [
    "adder(1, 8)"
   ]
  },
  {
   "cell_type": "code",
   "execution_count": 103,
   "id": "d1b54e01",
   "metadata": {
    "ExecuteTime": {
     "end_time": "2023-08-24T01:35:07.792863Z",
     "start_time": "2023-08-24T01:35:07.778465Z"
    }
   },
   "outputs": [
    {
     "name": "stdout",
     "output_type": "stream",
     "text": [
      "main 시작\n",
      "sub 프로그램의 시작\n",
      "ok\n",
      "ok\n",
      "짧아\n",
      "7\n",
      "tot =  30\n",
      "main 끝\n"
     ]
    }
   ],
   "source": [
    "print(\"main 시작\")\n",
    "\n",
    "# 호출 : 서브 프로그램과 매크로\n",
    "## Call by Name : 이름에 의한 호출 - 매개변수를 가지고 있지 않은 함수를 호출하는 행위\n",
    "aaa()\n",
    "\n",
    "print(bbb())\n",
    "string = bbb()\n",
    "print(string)\n",
    "\n",
    "## Call by Value : 값에 의한 호출 - 매개변수값을 전달해서 함수를 호출하는 행위\n",
    "ccc(7)\n",
    "print(adder(3, 4))\n",
    "tot = adder(10, 20)\n",
    "print(\"tot = \", tot)\n",
    "\n",
    "print(\"main 끝\")"
   ]
  },
  {
   "cell_type": "markdown",
   "id": "ab606a13",
   "metadata": {},
   "source": [
    "## 다섯개의 정수를 입력받아 그 합과 평균을 계산하여 출력하는 프로그램"
   ]
  },
  {
   "cell_type": "code",
   "execution_count": 113,
   "id": "31fbab7e",
   "metadata": {
    "ExecuteTime": {
     "end_time": "2023-08-24T01:44:58.355517Z",
     "start_time": "2023-08-24T01:44:55.798536Z"
    }
   },
   "outputs": [
    {
     "name": "stdout",
     "output_type": "stream",
     "text": [
      "수 입력 = 1 2 3 4 5\n",
      "[1, 2, 3, 4, 5] <class 'list'>\n",
      "합 =  15\n",
      "평균 =  3.0\n"
     ]
    }
   ],
   "source": [
    "# a = int(input(\"수1 = \"))\n",
    "# b = int(input(\"수2 = \"))\n",
    "# c = int(input(\"수3 = \"))\n",
    "# d = int(input(\"수4 = \"))\n",
    "# e = int(input(\"수5 = \"))\n",
    "\n",
    "# num = map(int, input('다섯개의 수 입력 = ').split())\n",
    "# print(num, type(num))  # 주소가 전달됨\n",
    "\n",
    "num = list(map(int, input('수 입력 = ').split()))  # list로 캐스팅\n",
    "print(num, type(num))\n",
    "\n",
    "# tot = a + b + c + d + e\n",
    "# avg = tot / 5\n",
    "\n",
    "tot = 0  # 누적변수, 초기화\n",
    "for i in num :\n",
    "    tot += i\n",
    "    \n",
    "avg = tot / len(num)\n",
    "\n",
    "print(\"합 = \", tot)\n",
    "print(\"평균 = \", avg)"
   ]
  },
  {
   "cell_type": "code",
   "execution_count": 114,
   "id": "4ad70ee0",
   "metadata": {
    "ExecuteTime": {
     "end_time": "2023-08-24T01:46:51.602929Z",
     "start_time": "2023-08-24T01:46:51.595953Z"
    }
   },
   "outputs": [],
   "source": [
    "def inData() :\n",
    "    num = list(map(int, input('수 입력 = ').split()))\n",
    "    return num"
   ]
  },
  {
   "cell_type": "code",
   "execution_count": 119,
   "id": "2c801ffe",
   "metadata": {
    "ExecuteTime": {
     "end_time": "2023-08-24T01:53:00.512213Z",
     "start_time": "2023-08-24T01:53:00.505162Z"
    }
   },
   "outputs": [],
   "source": [
    "def process() :\n",
    "    tot = 0\n",
    "    num = inData()\n",
    "    for i in num :\n",
    "        tot += i\n",
    "    \n",
    "    avg = tot / len(num)\n",
    "    \n",
    "    return tot, avg  # (tot, avg) : 튜플"
   ]
  },
  {
   "cell_type": "code",
   "execution_count": 121,
   "id": "6c5de8b4",
   "metadata": {
    "ExecuteTime": {
     "end_time": "2023-08-24T01:53:32.170642Z",
     "start_time": "2023-08-24T01:53:30.144654Z"
    }
   },
   "outputs": [
    {
     "name": "stdout",
     "output_type": "stream",
     "text": [
      "main start\n",
      "수 입력 = 1 2 3 4 5\n",
      "(15, 3.0) <class 'tuple'>\n",
      "합 =  15\n",
      "평균 =  3.0\n"
     ]
    }
   ],
   "source": [
    "# main\n",
    "print(\"main start\")\n",
    "\n",
    "t = process()\n",
    "print(t, type(t))\n",
    "\n",
    "print(\"합 = \", t[0])\n",
    "print(\"평균 = \", t[1])"
   ]
  },
  {
   "cell_type": "code",
   "execution_count": 122,
   "id": "2af8ef22",
   "metadata": {
    "ExecuteTime": {
     "end_time": "2023-08-24T01:58:15.244876Z",
     "start_time": "2023-08-24T01:58:15.231921Z"
    }
   },
   "outputs": [],
   "source": [
    "# process 함수 수정\n",
    "## Call by Reference : 참조에 의한 호출, 매개변수의 값이 아닌 주소를 이용하여 함수를 호출\n",
    "def process(num) :\n",
    "    tot = 0\n",
    "    for i in num :\n",
    "        tot += i\n",
    "    \n",
    "    avg = tot / len(num)\n",
    "    \n",
    "    return tot, avg  # (tot, avg) : 튜플"
   ]
  },
  {
   "cell_type": "code",
   "execution_count": 123,
   "id": "3f986479",
   "metadata": {
    "ExecuteTime": {
     "end_time": "2023-08-24T01:58:18.490516Z",
     "start_time": "2023-08-24T01:58:16.013127Z"
    }
   },
   "outputs": [
    {
     "name": "stdout",
     "output_type": "stream",
     "text": [
      "수 입력 = 1 2 3 4 5\n",
      "main start\n",
      "합 =  15\n",
      "평균 =  3.0\n"
     ]
    }
   ],
   "source": [
    "num = list(map(int, input('수 입력 = ').split()))\n",
    "\n",
    "# print(\"main start\")\n",
    "\n",
    "t = process(num)\n",
    "# print(t, type(t))\n",
    "\n",
    "print(\"합 = \", t[0])\n",
    "print(\"평균 = \", t[1])"
   ]
  },
  {
   "cell_type": "markdown",
   "id": "3f1f2ac1",
   "metadata": {},
   "source": [
    "## 계산기 프로그램\n",
    "\n",
    "- 두 개의 정수와 하나의 연산자를 입력받아 계산을 수행한 후 결과를 출력하는 프로그램\n",
    "- 연산자에 따른 계산식을 각각의 함수로 구현하시오.\n",
    "- adder, subtract, multiply, divide\n",
    "- 사용자가 원하는 계산을 수행할 수 있도록 구현할 것.\n",
    "- 언제든 프로그램을 종료할 수 있도록 구현할 것. 무한 Loop를 사용\n",
    "- Main Meun : [1]더하기 [2]빼기 [3]곱하기 [4]나누기 [5]종료"
   ]
  },
  {
   "cell_type": "code",
   "execution_count": 130,
   "id": "45c18667",
   "metadata": {
    "ExecuteTime": {
     "end_time": "2023-08-24T02:20:56.405308Z",
     "start_time": "2023-08-24T02:20:53.359542Z"
    }
   },
   "outputs": [
    {
     "name": "stdout",
     "output_type": "stream",
     "text": [
      "숫자 = ko\n"
     ]
    },
    {
     "ename": "NameError",
     "evalue": "name 'ko' is not defined",
     "output_type": "error",
     "traceback": [
      "\u001b[1;31m---------------------------------------------------------------------------\u001b[0m",
      "\u001b[1;31mNameError\u001b[0m                                 Traceback (most recent call last)",
      "\u001b[1;32m<ipython-input-130-f4540476f6cf>\u001b[0m in \u001b[0;36m<module>\u001b[1;34m\u001b[0m\n\u001b[0;32m      5\u001b[0m \u001b[1;31m# print(num, type(num))\u001b[0m\u001b[1;33m\u001b[0m\u001b[1;33m\u001b[0m\u001b[1;33m\u001b[0m\u001b[0m\n\u001b[0;32m      6\u001b[0m \u001b[1;33m\u001b[0m\u001b[0m\n\u001b[1;32m----> 7\u001b[1;33m \u001b[0mnum\u001b[0m \u001b[1;33m=\u001b[0m \u001b[0meval\u001b[0m\u001b[1;33m(\u001b[0m\u001b[0minput\u001b[0m\u001b[1;33m(\u001b[0m\u001b[1;34m'숫자 = '\u001b[0m\u001b[1;33m)\u001b[0m\u001b[1;33m)\u001b[0m  \u001b[1;31m# eval : 자동 캐스팅\u001b[0m\u001b[1;33m\u001b[0m\u001b[1;33m\u001b[0m\u001b[0m\n\u001b[0m\u001b[0;32m      8\u001b[0m \u001b[0mprint\u001b[0m\u001b[1;33m(\u001b[0m\u001b[0mnum\u001b[0m\u001b[1;33m,\u001b[0m \u001b[0mtype\u001b[0m\u001b[1;33m(\u001b[0m\u001b[0mnum\u001b[0m\u001b[1;33m)\u001b[0m\u001b[1;33m)\u001b[0m\u001b[1;33m\u001b[0m\u001b[1;33m\u001b[0m\u001b[0m\n",
      "\u001b[1;32m<string>\u001b[0m in \u001b[0;36m<module>\u001b[1;34m\u001b[0m\n",
      "\u001b[1;31mNameError\u001b[0m: name 'ko' is not defined"
     ]
    }
   ],
   "source": [
    "# num = int(input('숫자 = '))\n",
    "# print(num, type(num))\n",
    "\n",
    "# num = float(input('숫자 = '))\n",
    "# print(num, type(num))\n",
    "\n",
    "num = eval(input('숫자 = '))  # eval : 자동 캐스팅(문자열x)\n",
    "print(num, type(num))"
   ]
  },
  {
   "cell_type": "code",
   "execution_count": 132,
   "id": "48765303",
   "metadata": {
    "ExecuteTime": {
     "end_time": "2023-08-24T02:30:59.827782Z",
     "start_time": "2023-08-24T02:30:59.822800Z"
    }
   },
   "outputs": [],
   "source": [
    "def adder(a, b) :\n",
    "    print(f\"{a} + {b} = {a+b}\")\n",
    "\n",
    "def substract(a, b) :\n",
    "    print(f\"{a} - {b} = {a-b}\")\n",
    "\n",
    "def multiply(a, b) :\n",
    "    print(f\"{a} * {b} = {a*b}\")\n",
    "\n",
    "def divide(a, b) :\n",
    "    print(f\"{a} / {b} = {a/b}\")\n",
    "    \n",
    "def menu() :\n",
    "    print(\"계산기 프로그램을 수행합니다.\")\n",
    "    print(\"[1]더하기 [2]빼기 [3]곱하기 [4]나누기 [5]종료 = \")"
   ]
  },
  {
   "cell_type": "code",
   "execution_count": 139,
   "id": "f870098e",
   "metadata": {
    "ExecuteTime": {
     "end_time": "2023-08-24T02:33:45.842481Z",
     "start_time": "2023-08-24T02:33:39.017290Z"
    }
   },
   "outputs": [
    {
     "name": "stdout",
     "output_type": "stream",
     "text": [
      "계산기 프로그램을 수행합니다.\n",
      "[1]더하기 [2]빼기 [3]곱하기 [4]나누기 [5]종료 = \n",
      "선택 = 7\n",
      "\n",
      "4 2\n",
      "선택이 올바르지 않습니다.\n",
      "계산기 프로그램을 수행합니다.\n",
      "[1]더하기 [2]빼기 [3]곱하기 [4]나누기 [5]종료 = \n",
      "선택 = 5\n",
      "\n",
      "3 5\n",
      "프로그램을 종료합니다.\n"
     ]
    }
   ],
   "source": [
    "while True :\n",
    "    #메뉴호출\n",
    "    menu()\n",
    "    ch = eval(input(\"선택 = \"))\n",
    "    print()\n",
    "    su1, su2 = map(int, input().split())\n",
    "    \n",
    "    if ch == 1:\n",
    "        adder(su1, su2)\n",
    "    elif ch == 2:\n",
    "        substract(su1, su2)\n",
    "    elif ch == 3:\n",
    "        multiply(su1, su2)\n",
    "    elif ch == 4:\n",
    "        divide(su1, su2)\n",
    "    elif ch == 5:\n",
    "        print(\"프로그램을 종료합니다.\")\n",
    "        break\n",
    "    else :\n",
    "        print(\"선택이 올바르지 않습니다.\")"
   ]
  },
  {
   "cell_type": "markdown",
   "id": "d06154b1",
   "metadata": {},
   "source": [
    "## 성적처리 프로그램 3단계\n",
    "- 국어, 영어, 수학 점수를 입력받아 총점과 평균 그리고 학점을 계산하여 출력하는 프로그램\n",
    "- 한 명 이상의 학생에 대한 정보를 받아 처리하도록 구현할 것\n",
    "- 주어진 입력 및 출력형식에 맞게 구현할 것"
   ]
  },
  {
   "cell_type": "code",
   "execution_count": 142,
   "id": "5803223b",
   "metadata": {
    "ExecuteTime": {
     "end_time": "2023-08-24T02:37:24.967103Z",
     "start_time": "2023-08-24T02:37:24.949742Z"
    }
   },
   "outputs": [
    {
     "name": "stdout",
     "output_type": "stream",
     "text": [
      "{'name': '홍길동', 'kor': 80, 'eng': 92, 'math': 77}\n"
     ]
    }
   ],
   "source": [
    "# 한명의 학생정보\n",
    "student = {'name' : '홍길동', 'kor' : 80, 'eng' : 92, 'math' : 77}\n",
    "print(student)"
   ]
  },
  {
   "cell_type": "code",
   "execution_count": 144,
   "id": "76d1ba6b",
   "metadata": {
    "ExecuteTime": {
     "end_time": "2023-08-24T02:38:30.132259Z",
     "start_time": "2023-08-24T02:38:30.118103Z"
    }
   },
   "outputs": [
    {
     "data": {
      "text/plain": [
       "'홍길동'"
      ]
     },
     "execution_count": 144,
     "metadata": {},
     "output_type": "execute_result"
    }
   ],
   "source": [
    "# 사전은 키를 이용하여 값을 추출\n",
    "student['name']"
   ]
  },
  {
   "cell_type": "code",
   "execution_count": 145,
   "id": "293d9904",
   "metadata": {
    "ExecuteTime": {
     "end_time": "2023-08-24T02:38:42.532326Z",
     "start_time": "2023-08-24T02:38:42.513824Z"
    }
   },
   "outputs": [
    {
     "data": {
      "text/plain": [
       "'홍길동'"
      ]
     },
     "execution_count": 145,
     "metadata": {},
     "output_type": "execute_result"
    }
   ],
   "source": [
    "student.get('name')"
   ]
  },
  {
   "cell_type": "code",
   "execution_count": 148,
   "id": "feea0fe2",
   "metadata": {
    "ExecuteTime": {
     "end_time": "2023-08-24T02:39:24.538597Z",
     "start_time": "2023-08-24T02:39:24.527513Z"
    }
   },
   "outputs": [
    {
     "data": {
      "text/plain": [
       "{'name': '장보고', 'kor': 80, 'eng': 92, 'math': 77}"
      ]
     },
     "execution_count": 148,
     "metadata": {},
     "output_type": "execute_result"
    }
   ],
   "source": [
    "student['name'] = '장보고'\n",
    "student"
   ]
  },
  {
   "cell_type": "code",
   "execution_count": 149,
   "id": "8cda4029",
   "metadata": {
    "ExecuteTime": {
     "end_time": "2023-08-24T02:40:18.050617Z",
     "start_time": "2023-08-24T02:40:18.046552Z"
    }
   },
   "outputs": [
    {
     "name": "stdout",
     "output_type": "stream",
     "text": [
      "{'name': '장보고', 'kor': 80, 'eng': 92, 'math': 77, 'tot': 249}\n"
     ]
    }
   ],
   "source": [
    "student['tot'] = student['kor'] + student['eng'] + student['math']\n",
    "print(student)"
   ]
  },
  {
   "cell_type": "code",
   "execution_count": 151,
   "id": "7472ad11",
   "metadata": {
    "ExecuteTime": {
     "end_time": "2023-08-24T02:43:56.388262Z",
     "start_time": "2023-08-24T02:43:53.069340Z"
    }
   },
   "outputs": [
    {
     "name": "stdout",
     "output_type": "stream",
     "text": [
      "이름 = aaa\n",
      "국어 = 100\n",
      "영어 = 100\n",
      "수학 = 100\n",
      "{'name': 'aaa', 'kor': 100, 'eng': 100, 'math': 100}\n"
     ]
    }
   ],
   "source": [
    "name = input(\"이름 = \")\n",
    "kor = int(input(\"국어 = \"))\n",
    "eng = int(input(\"영어 = \"))\n",
    "math = int(input(\"수학 = \"))\n",
    "\n",
    "stu = dict()  # 빈 사전 생성\n",
    "stu['name'] = name\n",
    "stu['kor'] = kor\n",
    "stu['eng'] = eng\n",
    "stu['math'] = math\n",
    "\n",
    "print(stu)"
   ]
  },
  {
   "cell_type": "code",
   "execution_count": 154,
   "id": "d7324454",
   "metadata": {
    "ExecuteTime": {
     "end_time": "2023-08-24T02:47:44.106426Z",
     "start_time": "2023-08-24T02:47:37.742177Z"
    }
   },
   "outputs": [
    {
     "name": "stdout",
     "output_type": "stream",
     "text": [
      "이름 = aaa\n",
      "국어 = 1\n",
      "영어 = 1\n",
      "수학 = 1\n",
      "이름 = vvvv\n",
      "국어 = 2\n",
      "영어 = 2\n",
      "수학 = 2\n",
      "이름 = ddd\n",
      "국어 = 3\n",
      "영어 = 3\n",
      "수학 = 3\n",
      "{'name': 'aaa', 'kor': 1, 'eng': 1, 'math': 1}\n",
      "{'name': 'vvvv', 'kor': 2, 'eng': 2, 'math': 2}\n",
      "{'name': 'ddd', 'kor': 3, 'eng': 3, 'math': 3}\n"
     ]
    }
   ],
   "source": [
    "# 여러명의 학생의 정보를 담을 리스트 객체 생성\n",
    "students = []\n",
    "\n",
    "for i in range(3) :\n",
    "    name = input(\"이름 = \")\n",
    "    kor = int(input(\"국어 = \"))\n",
    "    eng = int(input(\"영어 = \"))\n",
    "    math = int(input(\"수학 = \"))\n",
    "\n",
    "    stu = dict()  # 빈 사전 생성\n",
    "    stu['name'] = name\n",
    "    stu['kor'] = kor\n",
    "    stu['eng'] = eng\n",
    "    stu['math'] = math\n",
    "    \n",
    "    students.append(stu)\n",
    "\n",
    "for i in students :\n",
    "    print(i)"
   ]
  },
  {
   "cell_type": "code",
   "execution_count": 172,
   "id": "d27bf0b7",
   "metadata": {
    "ExecuteTime": {
     "end_time": "2023-08-24T03:17:54.487904Z",
     "start_time": "2023-08-24T03:17:45.191749Z"
    }
   },
   "outputs": [
    {
     "name": "stdout",
     "output_type": "stream",
     "text": [
      "국어 = 30\n",
      "영어 = 58\n",
      "수학 = 29\n",
      "국어 = 44\n",
      "영어 = 49\n",
      "수학 = 29\n",
      "국어 = 50\n",
      "영어 = 29\n",
      "수학 = 45\n",
      "{'kor': 30, 'eng': 58, 'math': 29, 'tot': 117, 'avg': 7.8, 'greade': 'F'}\n",
      "{'kor': 44, 'eng': 49, 'math': 29, 'tot': 122, 'avg': 8.133333333333333, 'greade': 'F'}\n",
      "{'kor': 50, 'eng': 29, 'math': 45, 'tot': 124, 'avg': 8.266666666666667, 'greade': 'F'}\n"
     ]
    }
   ],
   "source": [
    "# 여러명의 학생의 정보를 담을 리스트 객체 생성\n",
    "students = []\n",
    "\n",
    "for i in range(3) :\n",
    "    kor = int(input(\"국어 = \"))\n",
    "    eng = int(input(\"영어 = \"))\n",
    "    math = int(input(\"수학 = \"))\n",
    "\n",
    "    stu = dict()  # 빈 사전 생성\n",
    "    stu['kor'] = kor\n",
    "    stu['eng'] = eng\n",
    "    stu['math'] = math\n",
    "    stu['tot'] = stu['kor'] + stu['eng'] + stu['math']\n",
    "    stu['avg'] = stu['tot'] / tot\n",
    "    if stu['avg'] >= 90 : \n",
    "        stu['greade'] = 'A'\n",
    "    elif stu['avg'] >= 80 : \n",
    "        stu['greade'] = 'B'\n",
    "    elif stu['avg'] >= 70 : \n",
    "        stu['greade'] = 'C'\n",
    "    elif stu['avg'] >= 60 : \n",
    "        stu['greade'] = 'D'\n",
    "    else : stu['greade'] = 'F'    \n",
    "    students.append(stu)\n",
    "\n",
    "for i in students :\n",
    "    print(i)"
   ]
  },
  {
   "cell_type": "code",
   "execution_count": 166,
   "id": "d51eda9a",
   "metadata": {
    "ExecuteTime": {
     "end_time": "2023-08-24T03:01:39.027317Z",
     "start_time": "2023-08-24T03:01:39.008208Z"
    }
   },
   "outputs": [],
   "source": [
    "def menu() :\n",
    "    print(\"== 성적처리 프로그램==\")\n",
    "    print(\"1. 신규 학생 등록\")\n",
    "    print(\"2. 전체 성적 조회\")\n",
    "    print(\"3. 학생 성적 조회\")  # 특정 학생 - 이름\n",
    "    print(\"4. 학생 정보 삭제\")\n",
    "    print(\"5. 프로그램 종료\")"
   ]
  },
  {
   "cell_type": "code",
   "execution_count": 159,
   "id": "65003472",
   "metadata": {
    "ExecuteTime": {
     "end_time": "2023-08-24T02:58:59.372760Z",
     "start_time": "2023-08-24T02:58:59.355765Z"
    }
   },
   "outputs": [],
   "source": [
    "# 변수 범위(scope, 영역) : 전역변수(global), 지역변수(local)\n",
    "a = 100  # 함수 밖에 있는 변수(영역이 없음) : 전역변수"
   ]
  },
  {
   "cell_type": "code",
   "execution_count": 160,
   "id": "759d7d3e",
   "metadata": {
    "ExecuteTime": {
     "end_time": "2023-08-24T02:59:16.849288Z",
     "start_time": "2023-08-24T02:59:16.838322Z"
    }
   },
   "outputs": [],
   "source": [
    "def check() :\n",
    "    a = 10  # 특정 함수안에 선언되는 변수 : 지역변수\n",
    "    print(\"a = \", a)"
   ]
  },
  {
   "cell_type": "code",
   "execution_count": 163,
   "id": "d5b397f1",
   "metadata": {
    "ExecuteTime": {
     "end_time": "2023-08-24T02:59:48.525003Z",
     "start_time": "2023-08-24T02:59:48.511513Z"
    }
   },
   "outputs": [
    {
     "name": "stdout",
     "output_type": "stream",
     "text": [
      "a =  100\n"
     ]
    }
   ],
   "source": [
    "print(\"a = \", a)"
   ]
  },
  {
   "cell_type": "code",
   "execution_count": 161,
   "id": "a5ab1d83",
   "metadata": {
    "ExecuteTime": {
     "end_time": "2023-08-24T02:59:24.843428Z",
     "start_time": "2023-08-24T02:59:24.838445Z"
    }
   },
   "outputs": [
    {
     "name": "stdout",
     "output_type": "stream",
     "text": [
      "a =  10\n"
     ]
    }
   ],
   "source": [
    "check()"
   ]
  },
  {
   "cell_type": "code",
   "execution_count": 165,
   "id": "275d075a",
   "metadata": {
    "ExecuteTime": {
     "end_time": "2023-08-24T03:00:30.673776Z",
     "start_time": "2023-08-24T03:00:30.656946Z"
    }
   },
   "outputs": [
    {
     "name": "stdout",
     "output_type": "stream",
     "text": [
      "a =  100\n"
     ]
    }
   ],
   "source": [
    "print(\"a = \", a)"
   ]
  },
  {
   "cell_type": "code",
   "execution_count": 173,
   "id": "570166b9",
   "metadata": {
    "ExecuteTime": {
     "end_time": "2023-08-24T03:18:24.832508Z",
     "start_time": "2023-08-24T03:18:24.827526Z"
    }
   },
   "outputs": [],
   "source": [
    "# 신규 학생을 입력받아 처리하는 함수 makeStudent\n",
    "def makeStudent() :\n",
    "    stu = dict()\n",
    "\n",
    "    stu['name'] = input(\"이름 = \")\n",
    "    stu['kor'] = int(input(\"국어 = \"))\n",
    "    stu['eng'] = int(input(\"영어 = \"))\n",
    "    stu['math'] = int(input(\"수학 = \"))\n",
    "    \n",
    "    # 총점과 평균 학점을 처리하는 로직\n",
    "    stu['tot'] = stu['kor'] + stu['eng'] + stu['math']\n",
    "    stu['avg'] = stu['tot'] / 3\n",
    "    if stu['avg'] >= 90 : \n",
    "        stu['greade'] = 'A'\n",
    "    elif stu['avg'] >= 80 : \n",
    "        stu['greade'] = 'B'\n",
    "    elif stu['avg'] >= 70 : \n",
    "        stu['greade'] = 'C'\n",
    "    elif stu['avg'] >= 60 : \n",
    "        stu['greade'] = 'D'\n",
    "    else : \n",
    "        stu['greade'] = 'F'\n",
    "    \n",
    "    return stu"
   ]
  },
  {
   "cell_type": "code",
   "execution_count": 214,
   "id": "a2116916",
   "metadata": {
    "ExecuteTime": {
     "end_time": "2023-08-24T03:40:18.519595Z",
     "start_time": "2023-08-24T03:40:14.063723Z"
    }
   },
   "outputs": [
    {
     "name": "stdout",
     "output_type": "stream",
     "text": [
      "\n",
      "== 성적처리 프로그램==\n",
      "1. 신규 학생 등록\n",
      "2. 전체 성적 조회\n",
      "3. 학생 성적 조회\n",
      "4. 학생 정보 삭제\n",
      "5. 프로그램 종료\n",
      "메뉴 선택 = 3\n",
      "조회할 학생 정보를 입력하세요.\n",
      "이름 = ddd\n",
      "해당 학생이 존재하지 않습니다.\n",
      "\n",
      "== 성적처리 프로그램==\n",
      "1. 신규 학생 등록\n",
      "2. 전체 성적 조회\n",
      "3. 학생 성적 조회\n",
      "4. 학생 정보 삭제\n",
      "5. 프로그램 종료\n",
      "메뉴 선택 = 5\n",
      "프로그램을 종료합니다.\n"
     ]
    }
   ],
   "source": [
    "# 학생 정보를 저장하는 리스트 객체 - 전역변수\n",
    "students = []  # students = list()\n",
    "\n",
    "while True :\n",
    "    print()  # 개행\n",
    "    \n",
    "    # 메뉴 출력\n",
    "    menu()\n",
    "    \n",
    "    # 메뉴를 입력받는 작업\n",
    "    ch = int(input('메뉴 선택 = '))\n",
    "    \n",
    "    # 선택에 따른 로직 구현\n",
    "    if ch == 1:\n",
    "        stu = makeStudent()\n",
    "        students.append(stu)\n",
    "    elif ch == 2:\n",
    "        for i in sudents :\n",
    "            print(i)\n",
    "    elif ch == 3:\n",
    "        print(\"조회할 학생 정보를 입력하세요.\")\n",
    "        name = input('이름 = ')\n",
    "        search()\n",
    "    elif ch == 4:\n",
    "        pass\n",
    "    elif ch == 5:\n",
    "        print(\"프로그램을 종료합니다.\")\n",
    "        break\n",
    "    else:\n",
    "        print(\"메뉴의 선택이 올바르지 않습니다.\")"
   ]
  },
  {
   "cell_type": "code",
   "execution_count": 175,
   "id": "903cd83b",
   "metadata": {
    "ExecuteTime": {
     "end_time": "2023-08-24T03:23:18.689476Z",
     "start_time": "2023-08-24T03:23:18.676457Z"
    }
   },
   "outputs": [
    {
     "name": "stdout",
     "output_type": "stream",
     "text": [
      "[{'id': 111, 'name': 'aaa'}, {'id': 222, 'name': 'bbb'}, {'id': 333, 'name': 'ccc'}]\n"
     ]
    }
   ],
   "source": [
    "a = {'id' : 111, 'name' : 'aaa'}\n",
    "b = {'id' : 222, 'name' : 'bbb'}\n",
    "c = {'id' : 333, 'name' : 'ccc'}\n",
    "\n",
    "imsi = list()\n",
    "imsi.append(a)\n",
    "imsi.append(b)\n",
    "imsi.append(c)\n",
    "\n",
    "print(imsi)"
   ]
  },
  {
   "cell_type": "code",
   "execution_count": 176,
   "id": "52d84393",
   "metadata": {
    "ExecuteTime": {
     "end_time": "2023-08-24T03:24:09.826726Z",
     "start_time": "2023-08-24T03:24:09.810849Z"
    }
   },
   "outputs": [
    {
     "data": {
      "text/plain": [
       "111"
      ]
     },
     "execution_count": 176,
     "metadata": {},
     "output_type": "execute_result"
    }
   ],
   "source": [
    "a['id']"
   ]
  },
  {
   "cell_type": "code",
   "execution_count": 178,
   "id": "ef7f1cdf",
   "metadata": {
    "ExecuteTime": {
     "end_time": "2023-08-24T03:24:36.251680Z",
     "start_time": "2023-08-24T03:24:36.239722Z"
    }
   },
   "outputs": [
    {
     "data": {
      "text/plain": [
       "{'id': 111, 'name': 'aaa'}"
      ]
     },
     "execution_count": 178,
     "metadata": {},
     "output_type": "execute_result"
    }
   ],
   "source": [
    "imsi[0]"
   ]
  },
  {
   "cell_type": "code",
   "execution_count": 180,
   "id": "88f56ffd",
   "metadata": {
    "ExecuteTime": {
     "end_time": "2023-08-24T03:25:30.050646Z",
     "start_time": "2023-08-24T03:25:30.031963Z"
    }
   },
   "outputs": [
    {
     "data": {
      "text/plain": [
       "111"
      ]
     },
     "execution_count": 180,
     "metadata": {},
     "output_type": "execute_result"
    }
   ],
   "source": [
    "imsi[0]['id']  # 사전에서는 index가 아닌 key값으로 출력"
   ]
  },
  {
   "cell_type": "code",
   "execution_count": 183,
   "id": "4a9f63cc",
   "metadata": {
    "ExecuteTime": {
     "end_time": "2023-08-24T03:26:27.941560Z",
     "start_time": "2023-08-24T03:26:27.925491Z"
    }
   },
   "outputs": [
    {
     "name": "stdout",
     "output_type": "stream",
     "text": [
      "aaa\n",
      "bbb\n",
      "ccc\n"
     ]
    }
   ],
   "source": [
    "print(imsi[0]['name'])\n",
    "print(imsi[1]['name'])\n",
    "print(imsi[2]['name'])"
   ]
  },
  {
   "cell_type": "code",
   "execution_count": 186,
   "id": "8496aacc",
   "metadata": {
    "ExecuteTime": {
     "end_time": "2023-08-24T03:27:54.808339Z",
     "start_time": "2023-08-24T03:27:54.795145Z"
    }
   },
   "outputs": [
    {
     "name": "stdout",
     "output_type": "stream",
     "text": [
      "aaa\n",
      "bbb\n",
      "ccc\n"
     ]
    }
   ],
   "source": [
    "for i in range(3):\n",
    "    print(imsi[i]['name'])"
   ]
  },
  {
   "cell_type": "code",
   "execution_count": 208,
   "id": "ef45e715",
   "metadata": {
    "ExecuteTime": {
     "end_time": "2023-08-24T03:36:43.680659Z",
     "start_time": "2023-08-24T03:36:42.320812Z"
    }
   },
   "outputs": [
    {
     "name": "stdout",
     "output_type": "stream",
     "text": [
      "이름 = hjhh\n",
      "해당 학생이 존재하지 않습니다.\n"
     ]
    }
   ],
   "source": [
    "# bbb 조회\n",
    "name = input('이름 = ')\n",
    "\n",
    "# 스위칭 변수(switch == toggle)\n",
    "sw = False\n",
    "\n",
    "for i in range(3):\n",
    "    if imsi[i]['name'] == name:\n",
    "        sw = True\n",
    "        break\n",
    "        \n",
    "if sw == True:\n",
    "    print(imsi[i])\n",
    "else :\n",
    "    print(\"해당 학생이 존재하지 않습니다.\")"
   ]
  },
  {
   "cell_type": "code",
   "execution_count": 210,
   "id": "494c6e93",
   "metadata": {
    "ExecuteTime": {
     "end_time": "2023-08-24T03:38:52.849208Z",
     "start_time": "2023-08-24T03:38:52.843227Z"
    }
   },
   "outputs": [],
   "source": [
    "def search() :\n",
    "    sw = False\n",
    "\n",
    "    for i in range(3):\n",
    "        if imsi[i]['name'] == name:\n",
    "            sw = True\n",
    "            break\n",
    "\n",
    "    if sw == True:\n",
    "        print(imsi[i])\n",
    "    else :\n",
    "        print(\"해당 학생이 존재하지 않습니다.\")"
   ]
  }
 ],
 "metadata": {
  "kernelspec": {
   "display_name": "Python 3",
   "language": "python",
   "name": "python3"
  },
  "language_info": {
   "codemirror_mode": {
    "name": "ipython",
    "version": 3
   },
   "file_extension": ".py",
   "mimetype": "text/x-python",
   "name": "python",
   "nbconvert_exporter": "python",
   "pygments_lexer": "ipython3",
   "version": "3.8.8"
  },
  "toc": {
   "base_numbering": 1,
   "nav_menu": {},
   "number_sections": true,
   "sideBar": true,
   "skip_h1_title": false,
   "title_cell": "Table of Contents",
   "title_sidebar": "Contents",
   "toc_cell": false,
   "toc_position": {
    "height": "calc(100% - 180px)",
    "left": "10px",
    "top": "150px",
    "width": "232px"
   },
   "toc_section_display": true,
   "toc_window_display": true
  }
 },
 "nbformat": 4,
 "nbformat_minor": 5
}
