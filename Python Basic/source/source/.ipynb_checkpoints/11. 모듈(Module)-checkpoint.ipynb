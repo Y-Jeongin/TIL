{
 "cells": [
  {
   "cell_type": "markdown",
   "id": "7506b404",
   "metadata": {},
   "source": [
    "# 모듈의 정의\n",
    "1. 함수(Function) : 파일 내에서 자주 반복적으로 수행하는 기능이나 명령어를 묶어놓은 단위  \n",
    "2. 모듈(Module) : 함수나 변수 또는 클래스들을 모아놓은 파이썬 파일(확장자가 py인 파일)\n",
    "  - 비슷하거나 관련된 일을 하는 함수나 상수값들을 모아서 하나의 파일에 저장하고 필요에 의해 재사용가능  \n",
    "3. 패키지(package) : 여러 개의 모듈을 모아놓은 디렉토리 개념\n",
    "  - 모듈 : 파일\n",
    "  - 패키지 : 폴더"
   ]
  },
  {
   "cell_type": "markdown",
   "id": "726e60bb",
   "metadata": {},
   "source": [
    "# 모듈을 사용하는 목적\n",
    "\n",
    "1. 코드의 재사용\n",
    "2. 프로그램을 모듈 단위로 구현하면 작업의 효율을 높일 수 있다.\n",
    "3. 별도의 이름공간(namespace)에 제공함으로써 동일한 이름의 여러 함수나 변수들이 각 모듈마다 독립적"
   ]
  },
  {
   "cell_type": "markdown",
   "id": "8cf938f8",
   "metadata": {},
   "source": [
    "# 모듈의 종류\n",
    "\n",
    "1. 표준 모듈 : 파이선 언어의 패키지 안에 기본적으로 제공하는 모듈  \n",
    "    ex) math, string, ….  \n",
    "2. 사용자 정의 모듈 : 사용자에 의해 임의대로 개발된(정의된) 모듈  \n",
    "3. 써드 파티 모듈 : 다른 업체나 개인이 만들어서 제공하는 모듈  \n",
    "    ex) numpy, pandas, matplotlib, seaborn, scikit-learn, keras, ttensorflow, openCV, …."
   ]
  },
  {
   "cell_type": "markdown",
   "id": "27edc7db",
   "metadata": {},
   "source": [
    "# 모듈의 선언\n",
    "1. 모듈 전체를 참조  \n",
    "   import 모듈명  \n",
    "   import 모듈명 as 모듈별칭  \n",
    "  <br>\n",
    "  \n",
    "2. 모듈 내에서 필요한 부분만 참조  \n",
    "   from 모듈명 import 변수 or 함수  \n",
    "   from 모듈명 import *(전체)  \n",
    "   from 모듈명 import 이름 as 별칭  \n",
    "  <br>\n",
    "  \n",
    "3. 모듈 내부의 함수를 참조할 경우  \n",
    "   모듈명.함수명()"
   ]
  },
  {
   "cell_type": "code",
   "execution_count": null,
   "id": "3e030c59",
   "metadata": {
    "ExecuteTime": {
     "end_time": "2023-08-28T03:01:51.988746Z",
     "start_time": "2023-08-28T03:01:51.969860Z"
    }
   },
   "outputs": [],
   "source": [
    "import math\n",
    "\n",
    "# 모듈 내부에 포함된 변수나 함수 목록 출력\n",
    "print(dir(math))"
   ]
  },
  {
   "cell_type": "code",
   "execution_count": null,
   "id": "4d2b609a",
   "metadata": {
    "ExecuteTime": {
     "end_time": "2023-08-28T03:02:53.524654Z",
     "start_time": "2023-08-28T03:02:53.517674Z"
    }
   },
   "outputs": [],
   "source": [
    "print(math.pi)"
   ]
  },
  {
   "cell_type": "code",
   "execution_count": null,
   "id": "d4a2652a",
   "metadata": {
    "ExecuteTime": {
     "end_time": "2023-08-28T03:03:29.883398Z",
     "start_time": "2023-08-28T03:03:29.866645Z"
    }
   },
   "outputs": [],
   "source": [
    "print(math.pow(2, 5))  # 2의 5승"
   ]
  },
  {
   "cell_type": "code",
   "execution_count": null,
   "id": "eb5d84af",
   "metadata": {
    "ExecuteTime": {
     "end_time": "2023-08-28T03:04:31.930251Z",
     "start_time": "2023-08-28T03:04:31.906210Z"
    }
   },
   "outputs": [],
   "source": [
    "import greeting_en as en\n",
    "import greeting_ko as ko\n",
    "\n",
    "print(en.welcome())\n",
    "print(ko.welcome())"
   ]
  },
  {
   "cell_type": "code",
   "execution_count": null,
   "id": "609de5d0",
   "metadata": {
    "ExecuteTime": {
     "end_time": "2023-08-28T03:32:55.882465Z",
     "start_time": "2023-08-28T03:32:55.870990Z"
    }
   },
   "outputs": [],
   "source": [
    "from mod1 import *\n",
    "\n",
    "print(sum(3, 4))\n",
    "print(safe_sum(3, 4))\n",
    "print(safe_sum('a', 4))"
   ]
  },
  {
   "cell_type": "code",
   "execution_count": null,
   "id": "3aba5018",
   "metadata": {
    "ExecuteTime": {
     "end_time": "2023-08-28T03:45:29.393438Z",
     "start_time": "2023-08-28T03:45:29.382659Z"
    }
   },
   "outputs": [],
   "source": [
    "from mod1 import *"
   ]
  },
  {
   "cell_type": "code",
   "execution_count": null,
   "id": "fb0fbbdb",
   "metadata": {
    "ExecuteTime": {
     "end_time": "2023-08-28T03:46:11.356115Z",
     "start_time": "2023-08-28T03:46:11.344512Z"
    }
   },
   "outputs": [],
   "source": [
    "from mod1 import *\n",
    "\n",
    "print(sum(3, 4))\n",
    "print(safe_sum(3, 4))\n",
    "print(safe_sum('a', 4))"
   ]
  },
  {
   "cell_type": "code",
   "execution_count": null,
   "id": "d5b62685",
   "metadata": {
    "ExecuteTime": {
     "end_time": "2023-08-28T03:39:35.357254Z",
     "start_time": "2023-08-28T03:39:35.345350Z"
    }
   },
   "outputs": [],
   "source": [
    "# x.py를 메인으로 프로그램 실행\n",
    "import x"
   ]
  },
  {
   "cell_type": "code",
   "execution_count": null,
   "id": "6a0ab349",
   "metadata": {
    "ExecuteTime": {
     "end_time": "2023-08-28T03:40:46.475598Z",
     "start_time": "2023-08-28T03:40:46.460116Z"
    }
   },
   "outputs": [],
   "source": [
    "import y"
   ]
  },
  {
   "cell_type": "code",
   "execution_count": null,
   "id": "d927e364",
   "metadata": {
    "ExecuteTime": {
     "end_time": "2023-08-28T03:45:13.979617Z",
     "start_time": "2023-08-28T03:45:13.967862Z"
    }
   },
   "outputs": [],
   "source": [
    "import mod2\n",
    "\n",
    "print(mod2.PI)"
   ]
  },
  {
   "cell_type": "code",
   "execution_count": null,
   "id": "20c774e3",
   "metadata": {
    "ExecuteTime": {
     "end_time": "2023-08-28T05:03:00.683067Z",
     "start_time": "2023-08-28T05:03:00.672937Z"
    }
   },
   "outputs": [],
   "source": [
    "import mod1"
   ]
  },
  {
   "cell_type": "markdown",
   "id": "3f7de0d8",
   "metadata": {},
   "source": [
    "## random 모듈"
   ]
  },
  {
   "cell_type": "code",
   "execution_count": null,
   "id": "08f150eb",
   "metadata": {
    "ExecuteTime": {
     "end_time": "2023-08-28T05:17:11.646612Z",
     "start_time": "2023-08-28T05:17:11.635660Z"
    }
   },
   "outputs": [],
   "source": [
    "import random\n",
    "\n",
    "# random() : 0.0 ~ 1.0 사이의 실수를 리턴\n",
    "print(\"난수 :\", random.random())"
   ]
  },
  {
   "cell_type": "code",
   "execution_count": null,
   "id": "eb17b320",
   "metadata": {
    "ExecuteTime": {
     "end_time": "2023-08-28T05:20:48.558439Z",
     "start_time": "2023-08-28T05:20:48.543114Z"
    }
   },
   "outputs": [],
   "source": [
    "print(dir(random))"
   ]
  },
  {
   "cell_type": "code",
   "execution_count": null,
   "id": "6a0af8f1",
   "metadata": {
    "ExecuteTime": {
     "end_time": "2023-08-28T05:18:35.676875Z",
     "start_time": "2023-08-28T05:18:35.666880Z"
    }
   },
   "outputs": [],
   "source": [
    "# uniform(min, max) : min ~ max 사이의 범위에서 실수를 리턴\n",
    "print(\"uniform(10, 20) :\", random.uniform(10, 20))"
   ]
  },
  {
   "cell_type": "code",
   "execution_count": null,
   "id": "56c6501e",
   "metadata": {
    "ExecuteTime": {
     "end_time": "2023-08-28T05:21:19.149020Z",
     "start_time": "2023-08-28T05:21:19.144077Z"
    }
   },
   "outputs": [],
   "source": [
    "# randrange(max) : 0 ~ max 사이의 정수 리턴\n",
    "# randrange(min, max) : min ~ max 사이의 정수 리턴\n",
    "print(\"randrange(10) :\", random.randrange(10))\n",
    "print(\"randrange(10, 20) :\", random.randrange(10, 20))"
   ]
  },
  {
   "cell_type": "code",
   "execution_count": null,
   "id": "7f553caa",
   "metadata": {
    "ExecuteTime": {
     "end_time": "2023-08-28T05:23:07.879662Z",
     "start_time": "2023-08-28T05:23:07.873411Z"
    }
   },
   "outputs": [],
   "source": [
    "# choice(list) : 리스트 내부에 있는 요소 중 랜덤하게 선택\n",
    "print(\"choice([1, 2, 3, 4, 5]) :\", random.choice([1, 2, 3, 4, 5]))"
   ]
  },
  {
   "cell_type": "code",
   "execution_count": null,
   "id": "7b108138",
   "metadata": {
    "ExecuteTime": {
     "end_time": "2023-08-28T05:24:39.588661Z",
     "start_time": "2023-08-28T05:24:39.573590Z"
    }
   },
   "outputs": [],
   "source": [
    "# sample(list, k = 개수)\n",
    "print(\"sample([1, 2, 3, 4, 5], k = 2) :\", random.sample([1, 2, 3, 4, 5], k = 2))"
   ]
  },
  {
   "cell_type": "code",
   "execution_count": null,
   "id": "8504712f",
   "metadata": {
    "ExecuteTime": {
     "end_time": "2023-08-28T05:26:02.411306Z",
     "start_time": "2023-08-28T05:26:02.396074Z"
    }
   },
   "outputs": [],
   "source": [
    "# from random import choice, sample, randrange\n",
    "from random import *\n",
    "print(\"sample([1, 2, 3, 4, 5], k = 2) :\", sample([1, 2, 3, 4, 5], k = 2))"
   ]
  },
  {
   "cell_type": "markdown",
   "id": "daaf33de",
   "metadata": {},
   "source": [
    "## sys(=system) 모듈"
   ]
  },
  {
   "cell_type": "code",
   "execution_count": null,
   "id": "72443c3a",
   "metadata": {
    "ExecuteTime": {
     "end_time": "2023-08-28T05:28:18.293106Z",
     "start_time": "2023-08-28T05:28:18.281050Z"
    }
   },
   "outputs": [],
   "source": [
    "import sys\n",
    "\n",
    "print(dir(sys))"
   ]
  },
  {
   "cell_type": "code",
   "execution_count": null,
   "id": "a0fb96e8",
   "metadata": {
    "ExecuteTime": {
     "end_time": "2023-08-28T05:28:25.558545Z",
     "start_time": "2023-08-28T05:28:25.544563Z"
    }
   },
   "outputs": [],
   "source": [
    "# 파이썬 실행파일이 위치한 디렉토리 목록\n",
    "print(sys.path)"
   ]
  },
  {
   "cell_type": "code",
   "execution_count": null,
   "id": "bc0d12a9",
   "metadata": {
    "ExecuteTime": {
     "end_time": "2023-08-28T05:30:00.062284Z",
     "start_time": "2023-08-28T05:30:00.042368Z"
    }
   },
   "outputs": [],
   "source": [
    "# 파이썬 버전\n",
    "print(sys.version)"
   ]
  },
  {
   "cell_type": "markdown",
   "id": "7dfbdf51",
   "metadata": {},
   "source": [
    "## os(=operation system, 운영체제) 모듈"
   ]
  },
  {
   "cell_type": "code",
   "execution_count": null,
   "id": "2ef16554",
   "metadata": {
    "ExecuteTime": {
     "end_time": "2023-08-28T05:31:04.668576Z",
     "start_time": "2023-08-28T05:31:04.661567Z"
    }
   },
   "outputs": [],
   "source": [
    "import os"
   ]
  },
  {
   "cell_type": "code",
   "execution_count": null,
   "id": "4bce01da",
   "metadata": {
    "ExecuteTime": {
     "end_time": "2023-08-28T05:32:01.410768Z",
     "start_time": "2023-08-28T05:32:01.398216Z"
    }
   },
   "outputs": [],
   "source": [
    "print(\"현재 운영체제 :\", os.name)\n",
    "print(\"현재 폴더 :\", os.getcwd())\n",
    "print(\"현재 폴더 내부의 목록 :\", os.listdir())"
   ]
  },
  {
   "cell_type": "code",
   "execution_count": null,
   "id": "32882f70",
   "metadata": {
    "ExecuteTime": {
     "end_time": "2023-08-28T05:33:19.762329Z",
     "start_time": "2023-08-28T05:33:19.754315Z"
    }
   },
   "outputs": [],
   "source": [
    "# 폴더 생성\n",
    "os.mkdir(\"hello\")"
   ]
  },
  {
   "cell_type": "code",
   "execution_count": null,
   "id": "2d0fba54",
   "metadata": {
    "ExecuteTime": {
     "end_time": "2023-08-28T05:33:28.036240Z",
     "start_time": "2023-08-28T05:33:28.029723Z"
    }
   },
   "outputs": [],
   "source": [
    "print(\"현재 폴더 내부의 목록 :\", os.listdir())"
   ]
  },
  {
   "cell_type": "code",
   "execution_count": null,
   "id": "2b0f609d",
   "metadata": {
    "ExecuteTime": {
     "end_time": "2023-08-28T05:34:06.143208Z",
     "start_time": "2023-08-28T05:34:06.133090Z"
    }
   },
   "outputs": [],
   "source": [
    "# 폴더 제거, 비어있을때만 삭제 가능\n",
    "os.rmdir(\"hello\")"
   ]
  },
  {
   "cell_type": "code",
   "execution_count": null,
   "id": "eb491c04",
   "metadata": {
    "ExecuteTime": {
     "end_time": "2023-08-28T05:38:36.765450Z",
     "start_time": "2023-08-28T05:38:36.753335Z"
    }
   },
   "outputs": [],
   "source": [
    "# 파일 생성과 제거\n",
    "# 파일 모드 : r(read only, 파일이 없으면 에러), w(write only), a(append)\n",
    "with open(\"original.txt\", \"w\") as file:\n",
    "    file.write('hello')"
   ]
  },
  {
   "cell_type": "code",
   "execution_count": null,
   "id": "427fe792",
   "metadata": {
    "ExecuteTime": {
     "end_time": "2023-08-28T05:38:54.317694Z",
     "start_time": "2023-08-28T05:38:54.305165Z"
    }
   },
   "outputs": [],
   "source": [
    "# 파일명 변경\n",
    "os.rename('original.txt', 'new.txt')"
   ]
  },
  {
   "cell_type": "code",
   "execution_count": null,
   "id": "1db255dc",
   "metadata": {
    "ExecuteTime": {
     "end_time": "2023-08-28T05:39:52.149088Z",
     "start_time": "2023-08-28T05:39:52.138166Z"
    }
   },
   "outputs": [],
   "source": [
    "# 파일 제거\n",
    "os.remove('new.txt')"
   ]
  },
  {
   "cell_type": "code",
   "execution_count": null,
   "id": "620dcb5e",
   "metadata": {
    "ExecuteTime": {
     "end_time": "2023-08-28T05:40:46.456472Z",
     "start_time": "2023-08-28T05:40:46.423237Z"
    }
   },
   "outputs": [],
   "source": [
    "# 시스템 명령어 실행(명령프롬프트 명령어)\n",
    "os.system('dir')"
   ]
  },
  {
   "cell_type": "markdown",
   "id": "c55c42c3",
   "metadata": {},
   "source": [
    "## datetime 모듈"
   ]
  },
  {
   "cell_type": "code",
   "execution_count": null,
   "id": "f524c916",
   "metadata": {
    "ExecuteTime": {
     "end_time": "2023-08-28T05:42:22.931724Z",
     "start_time": "2023-08-28T05:42:22.922907Z"
    }
   },
   "outputs": [],
   "source": [
    "import datetime"
   ]
  },
  {
   "cell_type": "code",
   "execution_count": null,
   "id": "f819ae40",
   "metadata": {
    "ExecuteTime": {
     "end_time": "2023-08-28T05:45:30.772058Z",
     "start_time": "2023-08-28T05:45:30.751354Z"
    }
   },
   "outputs": [],
   "source": [
    "# 현재 시간을 추출\n",
    "now = datetime.datetime.now()\n",
    "print(now.year, '년')\n",
    "print(now.month, '월')\n",
    "print(now.day, '일')\n",
    "print(now.hour, '시')\n",
    "print(now.minute, '분')\n",
    "print(now.second, '초')"
   ]
  },
  {
   "cell_type": "code",
   "execution_count": null,
   "id": "c691a255",
   "metadata": {
    "ExecuteTime": {
     "end_time": "2023-08-28T05:45:36.885900Z",
     "start_time": "2023-08-28T05:45:36.869706Z"
    }
   },
   "outputs": [],
   "source": [
    "print(now.year, '년')\n",
    "print(now.month, '월')\n",
    "print(now.day, '일')\n",
    "print(now.hour, '시')\n",
    "print(now.minute, '분')\n",
    "print(now.second, '초')"
   ]
  },
  {
   "cell_type": "code",
   "execution_count": null,
   "id": "bcc49d6c",
   "metadata": {
    "ExecuteTime": {
     "end_time": "2023-08-28T05:47:58.789216Z",
     "start_time": "2023-08-28T05:47:58.776223Z"
    }
   },
   "outputs": [],
   "source": [
    "# 서식을 이용하여 날짜와 시간을 표시\n",
    "## strftime('서식')\n",
    "out = now.strftime('%Y.%m.%d %H:%M:%S')\n",
    "print(out)"
   ]
  },
  {
   "cell_type": "code",
   "execution_count": null,
   "id": "a5601c45",
   "metadata": {
    "ExecuteTime": {
     "end_time": "2023-08-28T05:50:46.876798Z",
     "start_time": "2023-08-28T05:50:46.858909Z"
    }
   },
   "outputs": [],
   "source": [
    "string = \"{}년 {}월 {}일 {}시 {}분 {}초\".format(now.year,\\\n",
    "                                         now.month,\\\n",
    "                                         now.day,\\\n",
    "                                         now.hour,\\\n",
    "                                         now.minute,\\\n",
    "                                         now.second)\n",
    "print(string)"
   ]
  },
  {
   "cell_type": "code",
   "execution_count": null,
   "id": "f6805ebe",
   "metadata": {
    "ExecuteTime": {
     "end_time": "2023-08-28T05:54:01.762049Z",
     "start_time": "2023-08-28T05:54:01.751974Z"
    }
   },
   "outputs": [],
   "source": [
    "from datetime import date, time, datetime, timedelta\n",
    "\n",
    "# today() : 오늘 날짜를 구하는 함수\n",
    "today = date.today()\n",
    "print(today)"
   ]
  },
  {
   "cell_type": "code",
   "execution_count": null,
   "id": "83720fb1",
   "metadata": {
    "ExecuteTime": {
     "end_time": "2023-08-28T05:55:07.983351Z",
     "start_time": "2023-08-28T05:55:07.973034Z"
    }
   },
   "outputs": [],
   "source": [
    "print(today.year)\n",
    "print(today.month)\n",
    "print(today.day)"
   ]
  },
  {
   "cell_type": "code",
   "execution_count": null,
   "id": "f5667a82",
   "metadata": {
    "ExecuteTime": {
     "end_time": "2023-08-28T05:55:50.609851Z",
     "start_time": "2023-08-28T05:55:50.603853Z"
    }
   },
   "outputs": [],
   "source": [
    "# 날짜와 시간을 구하는 함수\n",
    "current = datetime.today()\n",
    "print(current)"
   ]
  },
  {
   "cell_type": "markdown",
   "id": "67d6ac5c",
   "metadata": {},
   "source": [
    "- datetime 클래스의 주요 메서드\n",
    "1. weekday() : 요일 반환(0:월 ~ 6:일)\n",
    "2. strftime() : 문자열 반환\n",
    "3. date() : 날짜 정보만 가지고 있음, date 클래스로 반환\n",
    "4. time() : 시간 정보만, time 클래스로 반환"
   ]
  },
  {
   "cell_type": "code",
   "execution_count": null,
   "id": "ffdcbf18",
   "metadata": {
    "ExecuteTime": {
     "end_time": "2023-08-28T06:10:40.986658Z",
     "start_time": "2023-08-28T06:10:40.975326Z"
    }
   },
   "outputs": [],
   "source": [
    "import datetime as dt\n",
    "x = dt.datetime.now()\n",
    "print(x)"
   ]
  },
  {
   "cell_type": "code",
   "execution_count": null,
   "id": "0745ca1c",
   "metadata": {
    "ExecuteTime": {
     "end_time": "2023-08-28T06:11:19.073297Z",
     "start_time": "2023-08-28T06:11:19.057564Z"
    }
   },
   "outputs": [],
   "source": [
    "x.weekday()"
   ]
  },
  {
   "cell_type": "markdown",
   "id": "77b9ebd2",
   "metadata": {},
   "source": [
    "## time 모듈"
   ]
  },
  {
   "cell_type": "code",
   "execution_count": 17,
   "id": "ebd04889",
   "metadata": {
    "ExecuteTime": {
     "end_time": "2023-08-28T06:29:44.917667Z",
     "start_time": "2023-08-28T06:29:44.907401Z"
    }
   },
   "outputs": [],
   "source": [
    "import time"
   ]
  },
  {
   "cell_type": "code",
   "execution_count": 18,
   "id": "7aa507f3",
   "metadata": {
    "ExecuteTime": {
     "end_time": "2023-08-28T06:29:51.078107Z",
     "start_time": "2023-08-28T06:29:46.057819Z"
    }
   },
   "outputs": [
    {
     "name": "stdout",
     "output_type": "stream",
     "text": [
      "지금부터 5초간 정지합니다.\n",
      "작업을 종료합니다.\n"
     ]
    }
   ],
   "source": [
    "print('지금부터 5초간 정지합니다.')\n",
    "time.sleep(5)\n",
    "print('작업을 종료합니다.')"
   ]
  },
  {
   "cell_type": "code",
   "execution_count": 19,
   "id": "3ed16c07",
   "metadata": {
    "ExecuteTime": {
     "end_time": "2023-08-28T06:29:53.304045Z",
     "start_time": "2023-08-28T06:29:53.288094Z"
    }
   },
   "outputs": [
    {
     "name": "stdout",
     "output_type": "stream",
     "text": [
      "<built-in method today of type object at 0x00007FFB311EB530>\n"
     ]
    }
   ],
   "source": [
    "from datetime import date, time, datetime, timedelta\n",
    "\n",
    "# 오늘 날짜\n",
    "today = datetime.today\n",
    "print(today)"
   ]
  },
  {
   "cell_type": "code",
   "execution_count": 15,
   "id": "cc426c57",
   "metadata": {
    "ExecuteTime": {
     "end_time": "2023-08-28T06:29:22.621922Z",
     "start_time": "2023-08-28T06:29:22.605048Z"
    }
   },
   "outputs": [
    {
     "ename": "TypeError",
     "evalue": "unsupported operand type(s) for +: 'builtin_function_or_method' and 'datetime.timedelta'",
     "output_type": "error",
     "traceback": [
      "\u001b[1;31m---------------------------------------------------------------------------\u001b[0m",
      "\u001b[1;31mTypeError\u001b[0m                                 Traceback (most recent call last)",
      "\u001b[1;32m<ipython-input-15-2d0c88f56358>\u001b[0m in \u001b[0;36m<module>\u001b[1;34m\u001b[0m\n\u001b[0;32m      1\u001b[0m \u001b[1;31m# 어제 날짜 추출\u001b[0m\u001b[1;33m\u001b[0m\u001b[1;33m\u001b[0m\u001b[1;33m\u001b[0m\u001b[0m\n\u001b[0;32m      2\u001b[0m \u001b[0mdays\u001b[0m \u001b[1;33m=\u001b[0m \u001b[0mtimedelta\u001b[0m\u001b[1;33m(\u001b[0m\u001b[0mdays\u001b[0m \u001b[1;33m=\u001b[0m \u001b[1;33m-\u001b[0m\u001b[1;36m1\u001b[0m\u001b[1;33m)\u001b[0m\u001b[1;33m\u001b[0m\u001b[1;33m\u001b[0m\u001b[0m\n\u001b[1;32m----> 3\u001b[1;33m \u001b[0mprint\u001b[0m\u001b[1;33m(\u001b[0m\u001b[0mtoday\u001b[0m\u001b[1;33m+\u001b[0m\u001b[0mdays\u001b[0m\u001b[1;33m)\u001b[0m\u001b[1;33m\u001b[0m\u001b[1;33m\u001b[0m\u001b[0m\n\u001b[0m\u001b[0;32m      4\u001b[0m \u001b[1;33m\u001b[0m\u001b[0m\n\u001b[0;32m      5\u001b[0m \u001b[1;31m# 1주일 전\u001b[0m\u001b[1;33m\u001b[0m\u001b[1;33m\u001b[0m\u001b[1;33m\u001b[0m\u001b[0m\n",
      "\u001b[1;31mTypeError\u001b[0m: unsupported operand type(s) for +: 'builtin_function_or_method' and 'datetime.timedelta'"
     ]
    }
   ],
   "source": [
    "# 어제 날짜 추출\n",
    "days = timedelta(days = -1)\n",
    "print(today+days)\n",
    "\n",
    "# 1주일 전\n",
    "days = timedelta(days = -7)\n",
    "print(today+days)\n",
    "\n",
    "# 30일 후\n",
    "days = timedelta(days = +30)\n",
    "print(today+days)"
   ]
  },
  {
   "cell_type": "code",
   "execution_count": 8,
   "id": "fe3d9065",
   "metadata": {
    "ExecuteTime": {
     "end_time": "2023-08-28T06:27:25.431734Z",
     "start_time": "2023-08-28T06:27:25.420514Z"
    }
   },
   "outputs": [
    {
     "ename": "TypeError",
     "evalue": "unsupported operand type(s) for *: 'builtin_function_or_method' and 'datetime.timedelta'",
     "output_type": "error",
     "traceback": [
      "\u001b[1;31m---------------------------------------------------------------------------\u001b[0m",
      "\u001b[1;31mTypeError\u001b[0m                                 Traceback (most recent call last)",
      "\u001b[1;32m<ipython-input-8-ff2286695067>\u001b[0m in \u001b[0;36m<module>\u001b[1;34m\u001b[0m\n\u001b[0;32m      1\u001b[0m \u001b[0mdays\u001b[0m \u001b[1;33m=\u001b[0m \u001b[0mtimedelta\u001b[0m\u001b[1;33m(\u001b[0m\u001b[0mdays\u001b[0m \u001b[1;33m=\u001b[0m \u001b[1;36m3\u001b[0m\u001b[1;33m)\u001b[0m\u001b[1;33m\u001b[0m\u001b[1;33m\u001b[0m\u001b[0m\n\u001b[1;32m----> 2\u001b[1;33m \u001b[0mprint\u001b[0m\u001b[1;33m(\u001b[0m\u001b[0mtoday\u001b[0m \u001b[1;33m*\u001b[0m \u001b[0mdays\u001b[0m\u001b[1;33m)\u001b[0m\u001b[1;33m\u001b[0m\u001b[1;33m\u001b[0m\u001b[0m\n\u001b[0m",
      "\u001b[1;31mTypeError\u001b[0m: unsupported operand type(s) for *: 'builtin_function_or_method' and 'datetime.timedelta'"
     ]
    }
   ],
   "source": [
    "days = timedelta(days = 3)\n",
    "print(today * days)"
   ]
  },
  {
   "cell_type": "code",
   "execution_count": 9,
   "id": "46b50475",
   "metadata": {
    "ExecuteTime": {
     "end_time": "2023-08-28T06:27:26.136534Z",
     "start_time": "2023-08-28T06:27:26.118772Z"
    }
   },
   "outputs": [
    {
     "ename": "TypeError",
     "evalue": "unsupported operand type(s) for +: 'builtin_function_or_method' and 'datetime.timedelta'",
     "output_type": "error",
     "traceback": [
      "\u001b[1;31m---------------------------------------------------------------------------\u001b[0m",
      "\u001b[1;31mTypeError\u001b[0m                                 Traceback (most recent call last)",
      "\u001b[1;32m<ipython-input-9-759990627010>\u001b[0m in \u001b[0;36m<module>\u001b[1;34m\u001b[0m\n\u001b[0;32m      1\u001b[0m \u001b[0mdays\u001b[0m \u001b[1;33m=\u001b[0m \u001b[0mtimedelta\u001b[0m\u001b[1;33m(\u001b[0m\u001b[0mdays\u001b[0m \u001b[1;33m=\u001b[0m \u001b[1;33m-\u001b[0m\u001b[1;36m7\u001b[0m\u001b[1;33m)\u001b[0m\u001b[1;33m\u001b[0m\u001b[1;33m\u001b[0m\u001b[0m\n\u001b[0;32m      2\u001b[0m \u001b[0mdays\u001b[0m \u001b[1;33m*=\u001b[0m \u001b[1;36m2\u001b[0m  \u001b[1;31m# 2주전\u001b[0m\u001b[1;33m\u001b[0m\u001b[1;33m\u001b[0m\u001b[0m\n\u001b[1;32m----> 3\u001b[1;33m \u001b[0mprint\u001b[0m\u001b[1;33m(\u001b[0m\u001b[0mtoday\u001b[0m\u001b[1;33m+\u001b[0m\u001b[0mdays\u001b[0m\u001b[1;33m)\u001b[0m\u001b[1;33m\u001b[0m\u001b[1;33m\u001b[0m\u001b[0m\n\u001b[0m",
      "\u001b[1;31mTypeError\u001b[0m: unsupported operand type(s) for +: 'builtin_function_or_method' and 'datetime.timedelta'"
     ]
    }
   ],
   "source": [
    "days = timedelta(days = -7)\n",
    "days *= 2  # 2주전\n",
    "print(today+days)"
   ]
  },
  {
   "cell_type": "code",
   "execution_count": 10,
   "id": "b80a486b",
   "metadata": {
    "ExecuteTime": {
     "end_time": "2023-08-28T06:27:26.867191Z",
     "start_time": "2023-08-28T06:27:26.851777Z"
    }
   },
   "outputs": [
    {
     "ename": "TypeError",
     "evalue": "unsupported operand type(s) for +: 'builtin_function_or_method' and 'datetime.timedelta'",
     "output_type": "error",
     "traceback": [
      "\u001b[1;31m---------------------------------------------------------------------------\u001b[0m",
      "\u001b[1;31mTypeError\u001b[0m                                 Traceback (most recent call last)",
      "\u001b[1;32m<ipython-input-10-7162021dc9c2>\u001b[0m in \u001b[0;36m<module>\u001b[1;34m\u001b[0m\n\u001b[0;32m      1\u001b[0m \u001b[0mhours\u001b[0m \u001b[1;33m=\u001b[0m \u001b[0mtimedelta\u001b[0m\u001b[1;33m(\u001b[0m\u001b[0mhours\u001b[0m \u001b[1;33m=\u001b[0m \u001b[1;33m-\u001b[0m\u001b[1;36m8\u001b[0m\u001b[1;33m)\u001b[0m\u001b[1;33m\u001b[0m\u001b[1;33m\u001b[0m\u001b[0m\n\u001b[1;32m----> 2\u001b[1;33m \u001b[0mprint\u001b[0m\u001b[1;33m(\u001b[0m\u001b[0mtoday\u001b[0m\u001b[1;33m+\u001b[0m\u001b[0mhours\u001b[0m\u001b[1;33m)\u001b[0m\u001b[1;33m\u001b[0m\u001b[1;33m\u001b[0m\u001b[0m\n\u001b[0m",
      "\u001b[1;31mTypeError\u001b[0m: unsupported operand type(s) for +: 'builtin_function_or_method' and 'datetime.timedelta'"
     ]
    }
   ],
   "source": [
    "hours = timedelta(hours = -8)\n",
    "print(today+hours)"
   ]
  }
 ],
 "metadata": {
  "kernelspec": {
   "display_name": "Python 3",
   "language": "python",
   "name": "python3"
  },
  "language_info": {
   "codemirror_mode": {
    "name": "ipython",
    "version": 3
   },
   "file_extension": ".py",
   "mimetype": "text/x-python",
   "name": "python",
   "nbconvert_exporter": "python",
   "pygments_lexer": "ipython3",
   "version": "3.8.8"
  },
  "toc": {
   "base_numbering": 1,
   "nav_menu": {},
   "number_sections": true,
   "sideBar": true,
   "skip_h1_title": false,
   "title_cell": "Table of Contents",
   "title_sidebar": "Contents",
   "toc_cell": false,
   "toc_position": {
    "height": "calc(100% - 180px)",
    "left": "10px",
    "top": "150px",
    "width": "264px"
   },
   "toc_section_display": true,
   "toc_window_display": true
  }
 },
 "nbformat": 4,
 "nbformat_minor": 5
}
