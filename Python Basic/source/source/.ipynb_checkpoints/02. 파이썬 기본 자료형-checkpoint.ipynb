{
 "cells": [
  {
   "cell_type": "markdown",
   "id": "7e4efbdf",
   "metadata": {},
   "source": [
    "# 기본 자료형"
   ]
  },
  {
   "cell_type": "markdown",
   "id": "7dc54493",
   "metadata": {},
   "source": [
    "## 정수형(integer, int)"
   ]
  },
  {
   "cell_type": "code",
   "execution_count": 3,
   "id": "5cd4529a",
   "metadata": {
    "ExecuteTime": {
     "end_time": "2023-08-22T01:08:15.017776Z",
     "start_time": "2023-08-22T01:08:15.007136Z"
    }
   },
   "outputs": [
    {
     "name": "stdout",
     "output_type": "stream",
     "text": [
      "<class 'int'>\n",
      "<class 'float'>\n",
      "<class 'str'>\n"
     ]
    }
   ],
   "source": [
    "# 변수(Variable) : 변하는 수, 기억공간, 동적 자료형 == 동적 타이핑\n",
    "a = 13\n",
    "print(type(a))\n",
    "a = 3.14\n",
    "print(type(a))\n",
    "a = 'python'\n",
    "print(type(a))"
   ]
  },
  {
   "cell_type": "markdown",
   "id": "a8c16748",
   "metadata": {},
   "source": [
    "## 실수형(float, double)\n",
    "- 소수점을 포함한 숫자 자료형\n",
    "- 지수 표현 방식대로 표현할 수 있다."
   ]
  },
  {
   "cell_type": "code",
   "execution_count": 4,
   "id": "9f97a315",
   "metadata": {
    "ExecuteTime": {
     "end_time": "2023-08-22T01:10:01.081921Z",
     "start_time": "2023-08-22T01:10:01.070658Z"
    }
   },
   "outputs": [
    {
     "name": "stdout",
     "output_type": "stream",
     "text": [
      "2.5 -1.5\n"
     ]
    }
   ],
   "source": [
    "a = 2.5\n",
    "b = -1.5\n",
    "print(a, b)  # comma(,) : 열거 연산자"
   ]
  },
  {
   "cell_type": "code",
   "execution_count": 5,
   "id": "0d86d44c",
   "metadata": {
    "ExecuteTime": {
     "end_time": "2023-08-22T01:10:49.999746Z",
     "start_time": "2023-08-22T01:10:49.983833Z"
    }
   },
   "outputs": [
    {
     "name": "stdout",
     "output_type": "stream",
     "text": [
      "12000000000.0 4.5e-10\n"
     ]
    }
   ],
   "source": [
    "a = 1.2E10\n",
    "b = 4.5e-10\n",
    "print(a, b)"
   ]
  },
  {
   "cell_type": "code",
   "execution_count": 6,
   "id": "363b1f1f",
   "metadata": {
    "ExecuteTime": {
     "end_time": "2023-08-22T01:11:48.521875Z",
     "start_time": "2023-08-22T01:11:48.500545Z"
    }
   },
   "outputs": [
    {
     "data": {
      "text/plain": [
       "0.1"
      ]
     },
     "execution_count": 6,
     "metadata": {},
     "output_type": "execute_result"
    }
   ],
   "source": [
    "# 실수표현시 정수부의 값이 0일 경우 생략한다.\n",
    "0.1"
   ]
  },
  {
   "cell_type": "code",
   "execution_count": 7,
   "id": "ed55b2b2",
   "metadata": {
    "ExecuteTime": {
     "end_time": "2023-08-22T01:11:52.436476Z",
     "start_time": "2023-08-22T01:11:52.424714Z"
    }
   },
   "outputs": [
    {
     "data": {
      "text/plain": [
       "0.1"
      ]
     },
     "execution_count": 7,
     "metadata": {},
     "output_type": "execute_result"
    }
   ],
   "source": [
    ".1"
   ]
  },
  {
   "cell_type": "code",
   "execution_count": 8,
   "id": "e48e21e7",
   "metadata": {
    "ExecuteTime": {
     "end_time": "2023-08-22T01:17:12.288668Z",
     "start_time": "2023-08-22T01:17:12.280438Z"
    }
   },
   "outputs": [
    {
     "data": {
      "text/plain": [
       "int"
      ]
     },
     "execution_count": 8,
     "metadata": {},
     "output_type": "execute_result"
    }
   ],
   "source": [
    "# 자료형을 확인하는 함수 type()\n",
    "type(10)"
   ]
  },
  {
   "cell_type": "code",
   "execution_count": 9,
   "id": "8379d6ec",
   "metadata": {
    "ExecuteTime": {
     "end_time": "2023-08-22T01:17:20.571435Z",
     "start_time": "2023-08-22T01:17:20.563711Z"
    }
   },
   "outputs": [
    {
     "data": {
      "text/plain": [
       "float"
      ]
     },
     "execution_count": 9,
     "metadata": {},
     "output_type": "execute_result"
    }
   ],
   "source": [
    "type(10.0)"
   ]
  },
  {
   "cell_type": "markdown",
   "id": "295b768b",
   "metadata": {},
   "source": [
    "### 부동소수점(floating format point) 오차\n",
    "- 1보다 작은 수의 경우 십진법으로 표현하면 간단하지만 이진법으로는 무한개의 유효 숫자"
   ]
  },
  {
   "cell_type": "code",
   "execution_count": 18,
   "id": "fbf0415f",
   "metadata": {
    "ExecuteTime": {
     "end_time": "2023-08-22T01:37:40.262687Z",
     "start_time": "2023-08-22T01:37:40.253509Z"
    }
   },
   "outputs": [
    {
     "data": {
      "text/plain": [
       "0.1"
      ]
     },
     "execution_count": 18,
     "metadata": {},
     "output_type": "execute_result"
    }
   ],
   "source": [
    "0.1"
   ]
  },
  {
   "cell_type": "code",
   "execution_count": 20,
   "id": "c7256084",
   "metadata": {
    "ExecuteTime": {
     "end_time": "2023-08-22T01:40:44.803853Z",
     "start_time": "2023-08-22T01:40:44.790544Z"
    }
   },
   "outputs": [
    {
     "data": {
      "text/plain": [
       "'%.55f'"
      ]
     },
     "execution_count": 20,
     "metadata": {},
     "output_type": "execute_result"
    }
   ],
   "source": [
    "# 매직명령어(magic command)\n",
    "## 소수점 자리수를 55자리까지 표현\n",
    "%precision 55"
   ]
  },
  {
   "cell_type": "code",
   "execution_count": 21,
   "id": "ee7434a9",
   "metadata": {
    "ExecuteTime": {
     "end_time": "2023-08-22T01:41:01.584415Z",
     "start_time": "2023-08-22T01:41:01.579458Z"
    }
   },
   "outputs": [
    {
     "data": {
      "text/plain": [
       "0.1000000000000000055511151231257827021181583404541015625"
      ]
     },
     "execution_count": 21,
     "metadata": {},
     "output_type": "execute_result"
    }
   ],
   "source": [
    "0.1"
   ]
  },
  {
   "cell_type": "code",
   "execution_count": 19,
   "id": "05351c3d",
   "metadata": {
    "ExecuteTime": {
     "end_time": "2023-08-22T01:39:25.638415Z",
     "start_time": "2023-08-22T01:39:25.614621Z"
    }
   },
   "outputs": [
    {
     "data": {
      "text/plain": [
       "False"
      ]
     },
     "execution_count": 19,
     "metadata": {},
     "output_type": "execute_result"
    }
   ],
   "source": [
    "0.1 + 0.2 == 0.3"
   ]
  },
  {
   "cell_type": "code",
   "execution_count": 22,
   "id": "389b38e8",
   "metadata": {
    "ExecuteTime": {
     "end_time": "2023-08-22T01:41:34.252162Z",
     "start_time": "2023-08-22T01:41:34.234962Z"
    }
   },
   "outputs": [
    {
     "data": {
      "text/plain": [
       "0.3000000000000000444089209850062616169452667236328125000"
      ]
     },
     "execution_count": 22,
     "metadata": {},
     "output_type": "execute_result"
    }
   ],
   "source": [
    "0.1 + 0.2"
   ]
  },
  {
   "cell_type": "code",
   "execution_count": 24,
   "id": "8a2bee83",
   "metadata": {
    "ExecuteTime": {
     "end_time": "2023-08-22T01:43:14.793635Z",
     "start_time": "2023-08-22T01:43:14.774344Z"
    }
   },
   "outputs": [
    {
     "data": {
      "text/plain": [
       "0.2999999999999999888977697537484345957636833190917968750"
      ]
     },
     "execution_count": 24,
     "metadata": {},
     "output_type": "execute_result"
    }
   ],
   "source": [
    "0.3"
   ]
  },
  {
   "cell_type": "code",
   "execution_count": 23,
   "id": "01170b6e",
   "metadata": {
    "ExecuteTime": {
     "end_time": "2023-08-22T01:42:37.512121Z",
     "start_time": "2023-08-22T01:42:37.500028Z"
    }
   },
   "outputs": [
    {
     "data": {
      "text/plain": [
       "True"
      ]
     },
     "execution_count": 23,
     "metadata": {},
     "output_type": "execute_result"
    }
   ],
   "source": [
    "round(0.1 + 0.2, 5) == round(0.3, 5)"
   ]
  },
  {
   "cell_type": "code",
   "execution_count": 26,
   "id": "5b40178c",
   "metadata": {
    "ExecuteTime": {
     "end_time": "2023-08-22T01:44:08.535537Z",
     "start_time": "2023-08-22T01:44:08.522995Z"
    }
   },
   "outputs": [
    {
     "data": {
      "text/plain": [
       "'%r'"
      ]
     },
     "execution_count": 26,
     "metadata": {},
     "output_type": "execute_result"
    }
   ],
   "source": [
    "%precision %r"
   ]
  },
  {
   "cell_type": "markdown",
   "id": "7d269cb5",
   "metadata": {},
   "source": [
    "## 복소수형\n",
    "- $ a + bi $ 으로 표현한다."
   ]
  },
  {
   "cell_type": "code",
   "execution_count": 14,
   "id": "1cd983d5",
   "metadata": {
    "ExecuteTime": {
     "end_time": "2023-08-22T01:22:28.250561Z",
     "start_time": "2023-08-22T01:22:28.244520Z"
    }
   },
   "outputs": [],
   "source": [
    "a = 1 + 2j\n",
    "# b = 1 + 2i"
   ]
  },
  {
   "cell_type": "code",
   "execution_count": 15,
   "id": "f914e946",
   "metadata": {
    "ExecuteTime": {
     "end_time": "2023-08-22T01:22:32.908599Z",
     "start_time": "2023-08-22T01:22:32.891246Z"
    }
   },
   "outputs": [
    {
     "name": "stdout",
     "output_type": "stream",
     "text": [
      "1.0\n",
      "2.0\n"
     ]
    }
   ],
   "source": [
    "# 실수부와 허수부를 출력하는 함수\n",
    "print(a.real)\n",
    "print(a.imag)"
   ]
  },
  {
   "cell_type": "code",
   "execution_count": 16,
   "id": "74e5e5f3",
   "metadata": {
    "ExecuteTime": {
     "end_time": "2023-08-22T01:22:41.175129Z",
     "start_time": "2023-08-22T01:22:41.170142Z"
    }
   },
   "outputs": [
    {
     "name": "stdout",
     "output_type": "stream",
     "text": [
      "(1+2j)\n"
     ]
    }
   ],
   "source": [
    "a.conjugate()\n",
    "print(a)"
   ]
  },
  {
   "cell_type": "markdown",
   "id": "54cd47c9",
   "metadata": {},
   "source": [
    "## 8진수, 16진수\n",
    "- 일반적으로 사람은 10진수(0~9)\n",
    "- 컴퓨터는 2진수(0, 1)\n",
    "- 8진수(0~7) : 숫자앞에 0o(숫자0 + 알파벳(o or O))\n",
    "- 16진수(0~9, a, b, c, d, e, f) : 0x"
   ]
  },
  {
   "cell_type": "code",
   "execution_count": 17,
   "id": "ceb50711",
   "metadata": {
    "ExecuteTime": {
     "end_time": "2023-08-22T01:28:01.339929Z",
     "start_time": "2023-08-22T01:28:01.329406Z"
    }
   },
   "outputs": [
    {
     "name": "stdout",
     "output_type": "stream",
     "text": [
      "10 52\n"
     ]
    }
   ],
   "source": [
    "x = 0o12\n",
    "y = 0x34\n",
    "print(x, y)"
   ]
  },
  {
   "cell_type": "markdown",
   "id": "b0be5aa2",
   "metadata": {},
   "source": [
    "## 자료형 변환\n",
    "\n",
    "- casting(강제 형변환, 명시적 형변환)\n",
    "- promotion(자동 형변환, 묵시적 형변환)"
   ]
  },
  {
   "cell_type": "code",
   "execution_count": 27,
   "id": "e24cf0c5",
   "metadata": {
    "ExecuteTime": {
     "end_time": "2023-08-22T01:48:00.561064Z",
     "start_time": "2023-08-22T01:48:00.537809Z"
    }
   },
   "outputs": [
    {
     "data": {
      "text/plain": [
       "1"
      ]
     },
     "execution_count": 27,
     "metadata": {},
     "output_type": "execute_result"
    }
   ],
   "source": [
    "int(1.0)  # 실수를 정수로 변환"
   ]
  },
  {
   "cell_type": "code",
   "execution_count": 28,
   "id": "7317d579",
   "metadata": {
    "ExecuteTime": {
     "end_time": "2023-08-22T01:48:15.995910Z",
     "start_time": "2023-08-22T01:48:15.987812Z"
    }
   },
   "outputs": [
    {
     "data": {
      "text/plain": [
       "1.0"
      ]
     },
     "execution_count": 28,
     "metadata": {},
     "output_type": "execute_result"
    }
   ],
   "source": [
    "float(1)"
   ]
  },
  {
   "cell_type": "code",
   "execution_count": 29,
   "id": "c566d24b",
   "metadata": {
    "ExecuteTime": {
     "end_time": "2023-08-22T01:48:56.929267Z",
     "start_time": "2023-08-22T01:48:56.916454Z"
    }
   },
   "outputs": [
    {
     "data": {
      "text/plain": [
       "3"
      ]
     },
     "execution_count": 29,
     "metadata": {},
     "output_type": "execute_result"
    }
   ],
   "source": [
    "int(3.14)"
   ]
  },
  {
   "cell_type": "code",
   "execution_count": 30,
   "id": "0d1d0dfe",
   "metadata": {
    "ExecuteTime": {
     "end_time": "2023-08-22T01:49:16.791553Z",
     "start_time": "2023-08-22T01:49:16.782520Z"
    }
   },
   "outputs": [
    {
     "data": {
      "text/plain": [
       "3"
      ]
     },
     "execution_count": 30,
     "metadata": {},
     "output_type": "execute_result"
    }
   ],
   "source": [
    "int(3.98)"
   ]
  },
  {
   "cell_type": "code",
   "execution_count": 31,
   "id": "61e0a30c",
   "metadata": {
    "ExecuteTime": {
     "end_time": "2023-08-22T01:50:25.030121Z",
     "start_time": "2023-08-22T01:50:25.020260Z"
    }
   },
   "outputs": [],
   "source": [
    "# NaN과 Inf\n",
    "## NaN : Not a Number, 숫자가 아닌 것(특수상수)\n",
    "## Inf : Infinity, 무한대"
   ]
  },
  {
   "cell_type": "code",
   "execution_count": 32,
   "id": "8e77b16a",
   "metadata": {
    "ExecuteTime": {
     "end_time": "2023-08-22T01:50:52.228061Z",
     "start_time": "2023-08-22T01:50:52.217583Z"
    }
   },
   "outputs": [
    {
     "data": {
      "text/plain": [
       "nan"
      ]
     },
     "execution_count": 32,
     "metadata": {},
     "output_type": "execute_result"
    }
   ],
   "source": [
    "float(\"NaN\")"
   ]
  },
  {
   "cell_type": "code",
   "execution_count": 34,
   "id": "7c27df50",
   "metadata": {
    "ExecuteTime": {
     "end_time": "2023-08-22T01:51:42.491916Z",
     "start_time": "2023-08-22T01:51:42.480451Z"
    }
   },
   "outputs": [
    {
     "data": {
      "text/plain": [
       "100.0"
      ]
     },
     "execution_count": 34,
     "metadata": {},
     "output_type": "execute_result"
    }
   ],
   "source": [
    "float(\"100\")"
   ]
  },
  {
   "cell_type": "code",
   "execution_count": 35,
   "id": "ce81a56f",
   "metadata": {
    "ExecuteTime": {
     "end_time": "2023-08-22T01:51:58.261893Z",
     "start_time": "2023-08-22T01:51:58.253198Z"
    }
   },
   "outputs": [
    {
     "data": {
      "text/plain": [
       "inf"
      ]
     },
     "execution_count": 35,
     "metadata": {},
     "output_type": "execute_result"
    }
   ],
   "source": [
    "float(\"Inf\")"
   ]
  },
  {
   "cell_type": "code",
   "execution_count": 36,
   "id": "b0385b17",
   "metadata": {
    "ExecuteTime": {
     "end_time": "2023-08-22T01:52:08.668317Z",
     "start_time": "2023-08-22T01:52:08.653112Z"
    }
   },
   "outputs": [
    {
     "data": {
      "text/plain": [
       "-inf"
      ]
     },
     "execution_count": 36,
     "metadata": {},
     "output_type": "execute_result"
    }
   ],
   "source": [
    "float(\"-Inf\")"
   ]
  },
  {
   "cell_type": "markdown",
   "id": "3ee9dc2d",
   "metadata": {},
   "source": [
    "## 산술연산"
   ]
  },
  {
   "cell_type": "code",
   "execution_count": 37,
   "id": "0063155d",
   "metadata": {
    "ExecuteTime": {
     "end_time": "2023-08-22T01:52:38.034661Z",
     "start_time": "2023-08-22T01:52:38.022306Z"
    }
   },
   "outputs": [
    {
     "data": {
      "text/plain": [
       "2"
      ]
     },
     "execution_count": 37,
     "metadata": {},
     "output_type": "execute_result"
    }
   ],
   "source": [
    "1 + 1"
   ]
  },
  {
   "cell_type": "markdown",
   "id": "44416b58",
   "metadata": {},
   "source": [
    "### 연산자(Operator)\n",
    "\n",
    "- '+', '-', '*', '/(실수 몫)', '//(정수 몫)', '%(나머지)', '**(거듭제곱)'"
   ]
  },
  {
   "cell_type": "code",
   "execution_count": 38,
   "id": "5bbb539e",
   "metadata": {
    "ExecuteTime": {
     "end_time": "2023-08-22T01:54:37.732083Z",
     "start_time": "2023-08-22T01:54:37.725019Z"
    }
   },
   "outputs": [
    {
     "data": {
      "text/plain": [
       "55"
      ]
     },
     "execution_count": 38,
     "metadata": {},
     "output_type": "execute_result"
    }
   ],
   "source": [
    "25 + 30"
   ]
  },
  {
   "cell_type": "code",
   "execution_count": 39,
   "id": "e438960a",
   "metadata": {
    "ExecuteTime": {
     "end_time": "2023-08-22T01:54:41.680112Z",
     "start_time": "2023-08-22T01:54:41.675983Z"
    }
   },
   "outputs": [
    {
     "data": {
      "text/plain": [
       "18"
      ]
     },
     "execution_count": 39,
     "metadata": {},
     "output_type": "execute_result"
    }
   ],
   "source": [
    "30 - 12"
   ]
  },
  {
   "cell_type": "code",
   "execution_count": 40,
   "id": "721a519c",
   "metadata": {
    "ExecuteTime": {
     "end_time": "2023-08-22T01:55:14.336192Z",
     "start_time": "2023-08-22T01:55:14.317842Z"
    }
   },
   "outputs": [
    {
     "data": {
      "text/plain": [
       "150"
      ]
     },
     "execution_count": 40,
     "metadata": {},
     "output_type": "execute_result"
    }
   ],
   "source": [
    "50 * 3"
   ]
  },
  {
   "cell_type": "code",
   "execution_count": 41,
   "id": "d0194a06",
   "metadata": {
    "ExecuteTime": {
     "end_time": "2023-08-22T01:55:22.555070Z",
     "start_time": "2023-08-22T01:55:22.541778Z"
    }
   },
   "outputs": [
    {
     "data": {
      "text/plain": [
       "6.0"
      ]
     },
     "execution_count": 41,
     "metadata": {},
     "output_type": "execute_result"
    }
   ],
   "source": [
    "30 / 5  #실수 몫"
   ]
  },
  {
   "cell_type": "code",
   "execution_count": 42,
   "id": "324f593e",
   "metadata": {
    "ExecuteTime": {
     "end_time": "2023-08-22T01:55:28.057616Z",
     "start_time": "2023-08-22T01:55:28.050593Z"
    }
   },
   "outputs": [
    {
     "data": {
      "text/plain": [
       "6"
      ]
     },
     "execution_count": 42,
     "metadata": {},
     "output_type": "execute_result"
    }
   ],
   "source": [
    "30 // 5"
   ]
  },
  {
   "cell_type": "code",
   "execution_count": 43,
   "id": "35faa9fd",
   "metadata": {
    "ExecuteTime": {
     "end_time": "2023-08-22T01:55:41.813272Z",
     "start_time": "2023-08-22T01:55:41.804423Z"
    }
   },
   "outputs": [
    {
     "name": "stdout",
     "output_type": "stream",
     "text": [
      "243\n"
     ]
    }
   ],
   "source": [
    "print(3 * 3 * 3 * 3 * 3)"
   ]
  },
  {
   "cell_type": "code",
   "execution_count": 44,
   "id": "37e5af3d",
   "metadata": {
    "ExecuteTime": {
     "end_time": "2023-08-22T01:55:48.069218Z",
     "start_time": "2023-08-22T01:55:48.053494Z"
    }
   },
   "outputs": [
    {
     "data": {
      "text/plain": [
       "243"
      ]
     },
     "execution_count": 44,
     "metadata": {},
     "output_type": "execute_result"
    }
   ],
   "source": [
    "3 ** 5"
   ]
  },
  {
   "cell_type": "code",
   "execution_count": 45,
   "id": "5a48e260",
   "metadata": {
    "ExecuteTime": {
     "end_time": "2023-08-22T01:56:09.612548Z",
     "start_time": "2023-08-22T01:56:09.603293Z"
    }
   },
   "outputs": [
    {
     "data": {
      "text/plain": [
       "3"
      ]
     },
     "execution_count": 45,
     "metadata": {},
     "output_type": "execute_result"
    }
   ],
   "source": [
    "7 // 2  # 정수 몫"
   ]
  },
  {
   "cell_type": "code",
   "execution_count": 46,
   "id": "1a32e158",
   "metadata": {
    "ExecuteTime": {
     "end_time": "2023-08-22T01:56:17.315009Z",
     "start_time": "2023-08-22T01:56:17.309945Z"
    }
   },
   "outputs": [
    {
     "data": {
      "text/plain": [
       "1"
      ]
     },
     "execution_count": 46,
     "metadata": {},
     "output_type": "execute_result"
    }
   ],
   "source": [
    "7 % 2  # 나머지"
   ]
  },
  {
   "cell_type": "markdown",
   "id": "6c3b05d3",
   "metadata": {},
   "source": [
    "## 논리연산과 관계연산(비교)\n",
    "\n",
    "- 논리연산자 : &(AND), |(OR), !(NOT)\n",
    "- 관계연산자 : >, >=, <, <=, !=, ==\n",
    "- 연산자의 결과는 반드시 참(T, True) 또는 거짓(F, False)"
   ]
  },
  {
   "cell_type": "markdown",
   "id": "ded0bcb4",
   "metadata": {},
   "source": [
    "# 변수(Variable)\n",
    "\n",
    "1. 변수명의 작성규칙\n",
    "    - 알파벳, 숫자, 밑줄(_)로 선언할 수 있다.\n",
    "    - 첫글자는 영문자 대, 소문자, 밑줄(_)로 시작한다.\n",
    "    - 변수명은 의미 있는 단어로 표현하는 것이 좋다.\n",
    "    - 변수명은 대소문자가 구분된다.\n",
    "    - 길이 제한이 없다.\n",
    "    - 공백을 포함할 수 없다.\n",
    "    - 예약어는 사용할 수 없다.\n",
    "\n",
    "\n",
    "2. 동적 타이핑(Dynamic Typing)\n",
    "    - 변수의 메모리 공간을 확보하는 행위가 실행시점에서 발생하는 것\n",
    "    - 일반적으로 C나 Java처럼 변수를 사용하기 전에 선언해야 하는 것은 정적 타이핑(static typing)"
   ]
  },
  {
   "cell_type": "code",
   "execution_count": 47,
   "id": "67509a76",
   "metadata": {
    "ExecuteTime": {
     "end_time": "2023-08-22T02:21:07.694914Z",
     "start_time": "2023-08-22T02:21:07.683934Z"
    }
   },
   "outputs": [],
   "source": [
    "# 형식 : 변수 = 상수(리터널, 값), 변수, 함수식\n",
    "pi = 3.14159265  # float pi = 3.14159265"
   ]
  },
  {
   "cell_type": "code",
   "execution_count": 48,
   "id": "06984cc2",
   "metadata": {
    "ExecuteTime": {
     "end_time": "2023-08-22T02:21:11.837618Z",
     "start_time": "2023-08-22T02:21:11.833537Z"
    }
   },
   "outputs": [
    {
     "data": {
      "text/plain": [
       "3.14159265"
      ]
     },
     "execution_count": 48,
     "metadata": {},
     "output_type": "execute_result"
    }
   ],
   "source": [
    "pi"
   ]
  },
  {
   "cell_type": "code",
   "execution_count": 49,
   "id": "a024dbc5",
   "metadata": {
    "ExecuteTime": {
     "end_time": "2023-08-22T02:22:48.911526Z",
     "start_time": "2023-08-22T02:22:48.902486Z"
    }
   },
   "outputs": [
    {
     "data": {
      "text/plain": [
       "10"
      ]
     },
     "execution_count": 49,
     "metadata": {},
     "output_type": "execute_result"
    }
   ],
   "source": [
    "a = 10\n",
    "a"
   ]
  },
  {
   "cell_type": "code",
   "execution_count": 50,
   "id": "529aff56",
   "metadata": {
    "ExecuteTime": {
     "end_time": "2023-08-22T02:28:03.066491Z",
     "start_time": "2023-08-22T02:28:03.055296Z"
    }
   },
   "outputs": [
    {
     "name": "stdout",
     "output_type": "stream",
     "text": [
      "원주율 :  3.14159265\n",
      "반지름 :  10\n",
      "원의 둘레 :  62.831853\n",
      "원의 면적 :  314.159265\n"
     ]
    }
   ],
   "source": [
    "# 원주율을 이용하여 반지름이 10인 원의 넓이와 둘레를 계산하여 출력하는 프로그램\n",
    "\n",
    "## 선언문 영역, 초기화 영역 : 변수를 선언하고 변수에 처음값을 담는 영역\n",
    "pi = 3.14159265\n",
    "r = 10\n",
    "\n",
    "## 입력문 영역 : 변수에 값을 입력받는 영역\n",
    "\n",
    "## 처리문 영역, 명령어나 제어문을 통해 프로그램을 처리하는 영역\n",
    "\n",
    "## 출력문 영역\n",
    "print(\"원주율 : \", pi)\n",
    "print(\"반지름 : \", r)\n",
    "print(\"원의 둘레 : \", 2*pi*r)\n",
    "print(\"원의 면적 : \", r*r*pi)"
   ]
  },
  {
   "cell_type": "markdown",
   "id": "1a8348fc",
   "metadata": {},
   "source": [
    "## 배정대입연산자 or 복합대입연산자\n",
    "- 기본연산자와 대입연산자(=)를 함께 사용하는 것\n",
    "- 대입연산자(=) 좌우에 동일한 변수가 주어질 때 축약형으로 구현\n",
    "- 연산자 종류 : +=, -=, *=, /=, %="
   ]
  },
  {
   "cell_type": "code",
   "execution_count": 51,
   "id": "4de05105",
   "metadata": {
    "ExecuteTime": {
     "end_time": "2023-08-22T02:31:31.980189Z",
     "start_time": "2023-08-22T02:31:31.973249Z"
    }
   },
   "outputs": [
    {
     "name": "stdout",
     "output_type": "stream",
     "text": [
      "x =  10\n",
      "x =  20\n"
     ]
    }
   ],
   "source": [
    "x = 10\n",
    "print(\"x = \", x)\n",
    "\n",
    "x += 10  # x = x + 10의 의미\n",
    "print(\"x = \", x)"
   ]
  },
  {
   "cell_type": "code",
   "execution_count": 52,
   "id": "103f832c",
   "metadata": {
    "ExecuteTime": {
     "end_time": "2023-08-22T02:33:07.618816Z",
     "start_time": "2023-08-22T02:33:07.607980Z"
    }
   },
   "outputs": [
    {
     "name": "stdout",
     "output_type": "stream",
     "text": [
      "string :  안녕하세요!!\n"
     ]
    }
   ],
   "source": [
    "# 문자열에서 '+' 연산자는 연결연산자, 문자열과 문자열을 연결할 때 사용한다.\n",
    "string = \"안녕하세요\"\n",
    "string += \"!\"\n",
    "string += \"!\"\n",
    "print(\"string : \", string)"
   ]
  },
  {
   "cell_type": "code",
   "execution_count": 53,
   "id": "3eb0f0a6",
   "metadata": {
    "ExecuteTime": {
     "end_time": "2023-08-22T02:35:01.992281Z",
     "start_time": "2023-08-22T02:35:01.977405Z"
    }
   },
   "outputs": [
    {
     "name": "stdout",
     "output_type": "stream",
     "text": [
      "안녕하세요\n",
      "안녕하세요안녕하세요안녕하세요\n"
     ]
    }
   ],
   "source": [
    "# 문자열에서 '*' 연산자 반복연산자, 해당문자열을 주어진 반복횟수만큼 반복처리한다.\n",
    "string = \"안녕하세요\"\n",
    "print(string)\n",
    "print(string * 3)"
   ]
  },
  {
   "cell_type": "code",
   "execution_count": 54,
   "id": "5ba3e688",
   "metadata": {
    "ExecuteTime": {
     "end_time": "2023-08-22T02:36:17.863692Z",
     "start_time": "2023-08-22T02:36:17.846080Z"
    }
   },
   "outputs": [
    {
     "name": "stdout",
     "output_type": "stream",
     "text": [
      "HiHiHi\n"
     ]
    }
   ],
   "source": [
    "string = \"Hi\"\n",
    "string *= 3  # string = string * 3 의미를 가진다.\n",
    "print(string)"
   ]
  },
  {
   "cell_type": "markdown",
   "id": "92f60910",
   "metadata": {},
   "source": [
    "# 문자열 자료형"
   ]
  },
  {
   "cell_type": "markdown",
   "id": "366b3bf3",
   "metadata": {},
   "source": [
    "## 문자열 생성\n",
    "\n",
    "- 문자열은 ''(작은따옴표), \"\"(큰따옴표)\n",
    "- 여러줄로 된 문자열은 \"\"\" \"\"\"(큰따옴표 3개), ''' '''(작은따옴표 3개)"
   ]
  },
  {
   "cell_type": "code",
   "execution_count": 55,
   "id": "a200a2dc",
   "metadata": {
    "ExecuteTime": {
     "end_time": "2023-08-22T03:08:56.782913Z",
     "start_time": "2023-08-22T03:08:56.767209Z"
    }
   },
   "outputs": [
    {
     "name": "stdout",
     "output_type": "stream",
     "text": [
      "hello world\n",
      "<class 'str'>\n"
     ]
    }
   ],
   "source": [
    "a = \"hello world\"\n",
    "print(a)\n",
    "print(type(a))"
   ]
  },
  {
   "cell_type": "code",
   "execution_count": 56,
   "id": "a8b2e70c",
   "metadata": {
    "ExecuteTime": {
     "end_time": "2023-08-22T03:09:06.450693Z",
     "start_time": "2023-08-22T03:09:06.435510Z"
    }
   },
   "outputs": [
    {
     "name": "stdout",
     "output_type": "stream",
     "text": [
      "hello\n"
     ]
    }
   ],
   "source": [
    "b = 'hello'\n",
    "print(b)"
   ]
  },
  {
   "cell_type": "code",
   "execution_count": 57,
   "id": "783da6d0",
   "metadata": {
    "ExecuteTime": {
     "end_time": "2023-08-22T03:09:47.237794Z",
     "start_time": "2023-08-22T03:09:47.225847Z"
    }
   },
   "outputs": [
    {
     "name": "stdout",
     "output_type": "stream",
     "text": [
      " 오늘은 화요일 겁나게 졸리다.!! \n"
     ]
    }
   ],
   "source": [
    "c = \"\"\" 오늘은 화요일 겁나게 졸리다.!! \"\"\"\n",
    "print(c)"
   ]
  },
  {
   "cell_type": "code",
   "execution_count": 58,
   "id": "763617f1",
   "metadata": {
    "ExecuteTime": {
     "end_time": "2023-08-22T03:10:49.162582Z",
     "start_time": "2023-08-22T03:10:49.159551Z"
    }
   },
   "outputs": [
    {
     "name": "stdout",
     "output_type": "stream",
     "text": [
      "Life is short,\n",
      "You need Python.\n",
      "Good Luck ^^\n",
      "\n"
     ]
    }
   ],
   "source": [
    "d = '''Life is short,\n",
    "You need Python.\n",
    "Good Luck ^^\n",
    "'''\n",
    "print(d)"
   ]
  },
  {
   "cell_type": "code",
   "execution_count": 60,
   "id": "f51d4ed2",
   "metadata": {
    "ExecuteTime": {
     "end_time": "2023-08-22T03:12:21.853114Z",
     "start_time": "2023-08-22T03:12:21.840456Z"
    }
   },
   "outputs": [
    {
     "name": "stdout",
     "output_type": "stream",
     "text": [
      "Life is too short,\n",
      "You need Ptyhon.\n",
      "Good Luck ^^\n"
     ]
    }
   ],
   "source": [
    "e = \"Life is too short,\\nYou need Ptyhon.\\nGood Luck ^^\"\n",
    "print(e)"
   ]
  },
  {
   "cell_type": "markdown",
   "id": "e10ced54",
   "metadata": {},
   "source": [
    "## 문자열 연산 : +, *"
   ]
  },
  {
   "cell_type": "code",
   "execution_count": 62,
   "id": "bbe23da6",
   "metadata": {
    "ExecuteTime": {
     "end_time": "2023-08-22T03:14:41.126335Z",
     "start_time": "2023-08-22T03:14:41.121318Z"
    }
   },
   "outputs": [
    {
     "name": "stdout",
     "output_type": "stream",
     "text": [
      "pythonpython\n",
      "pythonhello\n",
      "==============================\n"
     ]
    }
   ],
   "source": [
    "a = 'python'\n",
    "b = 'hello'\n",
    "\n",
    "print(a * 2)\n",
    "print(a + b)\n",
    "\n",
    "print(\"=\" * 30)"
   ]
  },
  {
   "cell_type": "markdown",
   "id": "2336e6a5",
   "metadata": {},
   "source": [
    "## 문자열 인덱싱(Indexing)\n",
    "- **인덱싱(Indexing)**은 특정위치를 가르킨다는 의미를 가진다.\n",
    "- 문자열은 일반적으로 메모리에 저장될 때 list 즉, 1차원 배열의 형태로 저장된다.\n",
    "- 각 문자는 해당 위치(인덱스 또는 색인)를 통해서 읽어올 수 있다.\n",
    "- 인덱스의 시작은 0부터 시작된다."
   ]
  },
  {
   "cell_type": "code",
   "execution_count": 63,
   "id": "4395adbc",
   "metadata": {
    "ExecuteTime": {
     "end_time": "2023-08-22T03:17:22.084794Z",
     "start_time": "2023-08-22T03:17:22.078741Z"
    }
   },
   "outputs": [
    {
     "name": "stdout",
     "output_type": "stream",
     "text": [
      "Life is too short, You need Python.\n"
     ]
    }
   ],
   "source": [
    "string = 'Life is too short, You need Python.'\n",
    "print(string)"
   ]
  },
  {
   "cell_type": "code",
   "execution_count": 64,
   "id": "99b7ae96",
   "metadata": {
    "ExecuteTime": {
     "end_time": "2023-08-22T03:18:27.739621Z",
     "start_time": "2023-08-22T03:18:27.729597Z"
    }
   },
   "outputs": [
    {
     "data": {
      "text/plain": [
       "'L'"
      ]
     },
     "execution_count": 64,
     "metadata": {},
     "output_type": "execute_result"
    }
   ],
   "source": [
    "string[0]"
   ]
  },
  {
   "cell_type": "code",
   "execution_count": 66,
   "id": "bd6c76c2",
   "metadata": {
    "ExecuteTime": {
     "end_time": "2023-08-22T03:20:36.121730Z",
     "start_time": "2023-08-22T03:20:36.109011Z"
    }
   },
   "outputs": [
    {
     "data": {
      "text/plain": [
       "'Life'"
      ]
     },
     "execution_count": 66,
     "metadata": {},
     "output_type": "execute_result"
    }
   ],
   "source": [
    "# [인덱스]\n",
    "# [start:stop], start:stop-1까지 읽어옴\n",
    "string[0:4]"
   ]
  },
  {
   "cell_type": "code",
   "execution_count": 67,
   "id": "21e4afd2",
   "metadata": {
    "ExecuteTime": {
     "end_time": "2023-08-22T03:21:19.701517Z",
     "start_time": "2023-08-22T03:21:19.693074Z"
    }
   },
   "outputs": [
    {
     "data": {
      "text/plain": [
       "'.'"
      ]
     },
     "execution_count": 67,
     "metadata": {},
     "output_type": "execute_result"
    }
   ],
   "source": [
    "string[-1]"
   ]
  },
  {
   "cell_type": "code",
   "execution_count": 68,
   "id": "2ba1ae81",
   "metadata": {
    "ExecuteTime": {
     "end_time": "2023-08-22T03:21:50.881693Z",
     "start_time": "2023-08-22T03:21:50.869665Z"
    }
   },
   "outputs": [
    {
     "data": {
      "text/plain": [
       "'Life'"
      ]
     },
     "execution_count": 68,
     "metadata": {},
     "output_type": "execute_result"
    }
   ],
   "source": [
    "string[:4]  # 앞인덱스가 생략되면 처음부터"
   ]
  },
  {
   "cell_type": "code",
   "execution_count": 75,
   "id": "b9fc95a5",
   "metadata": {
    "ExecuteTime": {
     "end_time": "2023-08-22T03:23:43.683208Z",
     "start_time": "2023-08-22T03:23:43.675013Z"
    }
   },
   "outputs": [
    {
     "data": {
      "text/plain": [
       "'Python.'"
      ]
     },
     "execution_count": 75,
     "metadata": {},
     "output_type": "execute_result"
    }
   ],
   "source": [
    "string[-7:]"
   ]
  },
  {
   "cell_type": "markdown",
   "id": "efb0c410",
   "metadata": {},
   "source": [
    "## 문자열 포매팅(Formating)\n",
    "- 문자열 내의 특정 위치값을 바꾸거나 서식을 이용하여 표시할 때 사용한다.\n",
    "- 서식(format) 기호\n",
    "  1. %s : 문자열(string)\n",
    "  2. %c : 문자 1개(character)\n",
    "  3. %d : 10진 정수(decimal)\n",
    "  4. %f : 10진 실수(float)\n",
    "  5. %o : 8진수\n",
    "  6. %x : 16진수\n",
    "  7. %% : %"
   ]
  },
  {
   "cell_type": "markdown",
   "id": "3f6bcc9c",
   "metadata": {},
   "source": [
    "## 문자열 관련 함수"
   ]
  },
  {
   "cell_type": "code",
   "execution_count": 76,
   "id": "1c544d28",
   "metadata": {
    "ExecuteTime": {
     "end_time": "2023-08-22T03:28:29.979643Z",
     "start_time": "2023-08-22T03:28:29.972513Z"
    }
   },
   "outputs": [
    {
     "data": {
      "text/plain": [
       "'aaa bbb ccc'"
      ]
     },
     "execution_count": 76,
     "metadata": {},
     "output_type": "execute_result"
    }
   ],
   "source": [
    "string = \"aaa bbb ccc\"\n",
    "string"
   ]
  },
  {
   "cell_type": "code",
   "execution_count": 77,
   "id": "1570c4d8",
   "metadata": {
    "ExecuteTime": {
     "end_time": "2023-08-22T03:28:49.028187Z",
     "start_time": "2023-08-22T03:28:49.013115Z"
    }
   },
   "outputs": [
    {
     "data": {
      "text/plain": [
       "['aaa', 'bbb', 'ccc']"
      ]
     },
     "execution_count": 77,
     "metadata": {},
     "output_type": "execute_result"
    }
   ],
   "source": [
    "string.split()"
   ]
  },
  {
   "cell_type": "code",
   "execution_count": 78,
   "id": "73e26064",
   "metadata": {
    "ExecuteTime": {
     "end_time": "2023-08-22T03:29:46.490019Z",
     "start_time": "2023-08-22T03:29:46.476688Z"
    }
   },
   "outputs": [
    {
     "data": {
      "text/plain": [
       "['123456', 'abcdefg']"
      ]
     },
     "execution_count": 78,
     "metadata": {},
     "output_type": "execute_result"
    }
   ],
   "source": [
    "jumin = '123456-abcdefg'\n",
    "jumin.split('-')"
   ]
  },
  {
   "cell_type": "code",
   "execution_count": 79,
   "id": "f211a84a",
   "metadata": {
    "ExecuteTime": {
     "end_time": "2023-08-22T03:30:29.688217Z",
     "start_time": "2023-08-22T03:30:29.677201Z"
    }
   },
   "outputs": [
    {
     "data": {
      "text/plain": [
       "'abcdefg'"
      ]
     },
     "execution_count": 79,
     "metadata": {},
     "output_type": "execute_result"
    }
   ],
   "source": [
    "s = 'abcdefg'\n",
    "s"
   ]
  },
  {
   "cell_type": "code",
   "execution_count": 81,
   "id": "cbd7df6b",
   "metadata": {
    "ExecuteTime": {
     "end_time": "2023-08-22T03:31:03.650270Z",
     "start_time": "2023-08-22T03:31:03.634169Z"
    }
   },
   "outputs": [
    {
     "data": {
      "text/plain": [
       "'abcdefg'"
      ]
     },
     "execution_count": 81,
     "metadata": {},
     "output_type": "execute_result"
    }
   ],
   "source": [
    "s.join('-')\n",
    "s"
   ]
  }
 ],
 "metadata": {
  "kernelspec": {
   "display_name": "Python 3",
   "language": "python",
   "name": "python3"
  },
  "language_info": {
   "codemirror_mode": {
    "name": "ipython",
    "version": 3
   },
   "file_extension": ".py",
   "mimetype": "text/x-python",
   "name": "python",
   "nbconvert_exporter": "python",
   "pygments_lexer": "ipython3",
   "version": "3.8.8"
  },
  "toc": {
   "base_numbering": 1,
   "nav_menu": {},
   "number_sections": true,
   "sideBar": true,
   "skip_h1_title": false,
   "title_cell": "Table of Contents",
   "title_sidebar": "Contents",
   "toc_cell": false,
   "toc_position": {
    "height": "calc(100% - 180px)",
    "left": "10px",
    "top": "150px",
    "width": "314px"
   },
   "toc_section_display": true,
   "toc_window_display": true
  }
 },
 "nbformat": 4,
 "nbformat_minor": 5
}
