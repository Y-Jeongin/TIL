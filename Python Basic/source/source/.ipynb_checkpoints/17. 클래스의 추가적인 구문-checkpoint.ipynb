{
 "cells": [
  {
   "cell_type": "markdown",
   "id": "2443a216",
   "metadata": {},
   "source": [
    "# isinstance(), 클래스 변수, 클래스 함수"
   ]
  },
  {
   "cell_type": "markdown",
   "id": "2dd02c1b",
   "metadata": {},
   "source": [
    "## 상속(Inheritance) : 부모클래스로부터 자녀클래스로 자원을 물려주는 것\n",
    "  <br>\n",
    "  \n",
    "- 재활용을 극대화하는 목적으로 구현된다."
   ]
  },
  {
   "cell_type": "code",
   "execution_count": null,
   "id": "20198555",
   "metadata": {
    "ExecuteTime": {
     "end_time": "2023-08-30T00:09:51.418092Z",
     "start_time": "2023-08-30T00:09:51.406258Z"
    }
   },
   "outputs": [],
   "source": [
    "# isinstance() : 해당 객체가 어떤 클래스로부터 만들어졌는지 확인하는 메서드\n",
    "\n",
    "class Student:\n",
    "    def __init__(self):\n",
    "        pass"
   ]
  },
  {
   "cell_type": "code",
   "execution_count": null,
   "id": "470c8215",
   "metadata": {
    "ExecuteTime": {
     "end_time": "2023-08-30T00:11:06.064364Z",
     "start_time": "2023-08-30T00:11:06.053246Z"
    }
   },
   "outputs": [],
   "source": [
    "student = Student()"
   ]
  },
  {
   "cell_type": "code",
   "execution_count": null,
   "id": "1c7acdd1",
   "metadata": {
    "ExecuteTime": {
     "end_time": "2023-08-30T00:11:34.088959Z",
     "start_time": "2023-08-30T00:11:34.075774Z"
    }
   },
   "outputs": [],
   "source": [
    "print(\"isinstance(student, Student) : \", isinstance(student, Student))"
   ]
  },
  {
   "cell_type": "code",
   "execution_count": null,
   "id": "04e07a56",
   "metadata": {
    "ExecuteTime": {
     "end_time": "2023-08-30T00:13:11.786413Z",
     "start_time": "2023-08-30T00:13:11.771572Z"
    }
   },
   "outputs": [],
   "source": [
    "class Student:\n",
    "    def study(self):\n",
    "        print(\"공부를 합니다.\")\n",
    "        \n",
    "class Teacher:\n",
    "    def teach(self):\n",
    "        print(\"학생을 가르칩니다.\")"
   ]
  },
  {
   "cell_type": "code",
   "execution_count": null,
   "id": "6b123579",
   "metadata": {
    "ExecuteTime": {
     "end_time": "2023-08-30T00:15:27.234649Z",
     "start_time": "2023-08-30T00:15:27.225952Z"
    }
   },
   "outputs": [],
   "source": [
    "# 컨테이너 : 여러개의 데이터를 담는 자료구조, 리스트, 튜플, 사전, 집합, ….\n",
    "classroom = [Student(), Student(), Teacher(), Teacher(), Student(), Teacher()]"
   ]
  },
  {
   "cell_type": "code",
   "execution_count": null,
   "id": "db5163aa",
   "metadata": {
    "ExecuteTime": {
     "end_time": "2023-08-30T00:17:56.808058Z",
     "start_time": "2023-08-30T00:17:56.794258Z"
    }
   },
   "outputs": [],
   "source": [
    "# for 개별변수 in 집합변수\n",
    "for obj in classroom:\n",
    "    if isinstance(obj, Student):\n",
    "        obj.study()\n",
    "    elif isinstance(obj, Teacher):\n",
    "        obj.teach()"
   ]
  },
  {
   "cell_type": "markdown",
   "id": "77bda94d",
   "metadata": {},
   "source": [
    "## toString() : 문자열을 반환할 목적으로 구현하는 메서드 - 자바  <br>\n",
    "## __str()__\n",
    "  <code>\n",
    "- __str__()\n",
    "- __init__() : 생성자 메서드\n",
    "- __del__() : 소멸자 메서드\n",
    "- 특수한 상황에 자동으로 호출되도록 만들어진 메서드\n",
    "  </code>"
   ]
  },
  {
   "cell_type": "code",
   "execution_count": null,
   "id": "6c0353e1",
   "metadata": {
    "ExecuteTime": {
     "end_time": "2023-08-30T00:29:58.325972Z",
     "start_time": "2023-08-30T00:29:58.300630Z"
    }
   },
   "outputs": [],
   "source": [
    "class Student:\n",
    "    # 멤버 필드\n",
    "    \n",
    "    # 생성자 메서드\n",
    "    def __init__(self, name, kor, eng, math):\n",
    "        self.name = name\n",
    "        self.kor = kor\n",
    "        self.eng = eng\n",
    "        self.math = math\n",
    "    \n",
    "    # 멤버 메서드\n",
    "    ## 총점을 계산하여 반환하는 메서드\n",
    "    def get_sum(self):\n",
    "        return self.kor + self.eng + self.math\n",
    "    \n",
    "    ## 평균을 계산하여 반환하는 메서드\n",
    "    def get_average(self):\n",
    "        return self.get_sum() / 3\n",
    "    \n",
    "    ## 출력할 메서드\n",
    "    def disp(self):\n",
    "        return \"{}\\t{}\\t{}\".format(self.name, self.get_sum(), self.get_average())\n",
    "    \n",
    "    def __str__(self):\n",
    "        return \"{}\\t{}\\t{}\".format(self.name, self.get_sum(), self.get_average())\n",
    "    \n",
    "    # 소멸자 메서드\n",
    "    def __del__(self):\n",
    "        pass"
   ]
  },
  {
   "cell_type": "code",
   "execution_count": null,
   "id": "d7a3e9f3",
   "metadata": {
    "ExecuteTime": {
     "end_time": "2023-08-30T00:34:33.585597Z",
     "start_time": "2023-08-30T00:34:33.574108Z"
    }
   },
   "outputs": [],
   "source": [
    "students = [\n",
    "    Student('aaa', 88, 97, 65), \n",
    "    Student('bbb', 92, 94, 90), \n",
    "    Student('ccc', 85, 88, 84), \n",
    "    Student('ddd', 79, 89, 88), \n",
    "    Student('eee', 80, 76, 92)\n",
    "]\n",
    "\n",
    "print(\"이름\", \"총점\", \"평균\", sep = '\\t')\n",
    "for student in students:\n",
    "    # print(student.disp())\n",
    "    print(str(student))  # student.__str__() 호출된다."
   ]
  },
  {
   "cell_type": "markdown",
   "id": "b3dd8f9c",
   "metadata": {},
   "source": [
    "## 특수한 메서드\n",
    "  <code>\n",
    "- __eq(=equal)__ : 같다\n",
    "- __ne(=not equal)__ : 다르다\n",
    "- __gt(=greater than)__ : 크다\n",
    "- __ge(=greater equal)__ : 크거나 같다\n",
    "- __lt(=less than)__ : 작다\n",
    "- __le(=less than equal)__ : 작거나 같다\n",
    "    </code>"
   ]
  },
  {
   "cell_type": "code",
   "execution_count": null,
   "id": "8c741c8e",
   "metadata": {
    "ExecuteTime": {
     "end_time": "2023-08-30T00:42:00.848835Z",
     "start_time": "2023-08-30T00:42:00.842856Z"
    }
   },
   "outputs": [],
   "source": [
    "class Student:\n",
    "    # 멤버 필드\n",
    "    \n",
    "    # 생성자 메서드\n",
    "    def __init__(self, name, kor, eng, math):\n",
    "        self.name = name\n",
    "        self.kor = kor\n",
    "        self.eng = eng\n",
    "        self.math = math\n",
    "    \n",
    "    # 멤버 메서드\n",
    "    ## 총점을 계산하여 반환하는 메서드\n",
    "    def get_sum(self):\n",
    "        return self.kor + self.eng + self.math\n",
    "    \n",
    "    ## 평균을 계산하여 반환하는 메서드\n",
    "    def get_average(self):\n",
    "        return self.get_sum() / 3\n",
    "    \n",
    "    ## 출력할 메서드\n",
    "    def __str__(self):\n",
    "        return \"{}\\t{}\\t{}\".format(self.name, self.get_sum(), self.get_average())\n",
    "    \n",
    "    # 특수한 목적을 가지고 있는 메서드 : 매직메서드\n",
    "    def __eq__(self, value):\n",
    "        return self.get_sum() == value.get_sum()\n",
    "    \n",
    "    def __ne__(self, value):\n",
    "        return self.get_sum() != value.get_sum()\n",
    "    \n",
    "    def __gt__(self, value):\n",
    "        return self.get_sum() > value.get_sum()\n",
    "    \n",
    "    def __ge__(self, value):\n",
    "        return self.get_sum() >= value.get_sum()\n",
    "    \n",
    "    def __lt__(self, value):\n",
    "        return self.get_sum() < value.get_sum()\n",
    "    \n",
    "    def __le__(self, value):\n",
    "        return self.get_sum() <= value.get_sum()"
   ]
  },
  {
   "cell_type": "code",
   "execution_count": null,
   "id": "599bf128",
   "metadata": {
    "ExecuteTime": {
     "end_time": "2023-08-30T00:43:34.565320Z",
     "start_time": "2023-08-30T00:43:34.549900Z"
    }
   },
   "outputs": [],
   "source": [
    "stu_a = Student('aaa', 88, 97, 65) \n",
    "stu_b = Student('bbb', 92, 94, 90) \n",
    "\n",
    "stu_a == stu_b  # 특수메서드를 작성했기 때문에 실행된다."
   ]
  },
  {
   "cell_type": "markdown",
   "id": "f2f0647f",
   "metadata": {},
   "source": [
    "## 클래스 변수와 클래스 메서드"
   ]
  },
  {
   "cell_type": "markdown",
   "id": "4411fb5b",
   "metadata": {
    "ExecuteTime": {
     "end_time": "2023-08-30T00:45:46.438082Z",
     "start_time": "2023-08-30T00:45:46.297197Z"
    }
   },
   "source": [
    "<code>\n",
    "class 클래스이름:\n",
    "    클래스변수 = 값\n",
    "    \n",
    "클래스이름.클래스변수\n",
    "</code>"
   ]
  },
  {
   "cell_type": "code",
   "execution_count": null,
   "id": "7ad2f9da",
   "metadata": {
    "ExecuteTime": {
     "end_time": "2023-08-30T00:50:36.150459Z",
     "start_time": "2023-08-30T00:50:36.145475Z"
    }
   },
   "outputs": [],
   "source": [
    "class Student:\n",
    "    # 멤버 필드 : 클래스 변수\n",
    "    count = 0  # 학생 수를 카운팅할 목적으로 사용\n",
    "    \n",
    "    # 생성자 메서드\n",
    "    def __init__(self, name, kor, eng, math):\n",
    "        self.name = name  # self.xxx = 인스턴스 변수\n",
    "        self.kor = kor\n",
    "        self.eng = eng\n",
    "        self.math = math\n",
    "        \n",
    "        # 클래수 변수 값 설정\n",
    "        Student.count += 1\n",
    "        print(\"{}번째 학생이 생성되었습니다.\".format(Student.count))\n",
    "    \n",
    "    # 멤버 메서드\n",
    "    ## 총점을 계산하여 반환하는 메서드\n",
    "    def get_sum(self):\n",
    "        return self.kor + self.eng + self.math\n",
    "    \n",
    "    ## 평균을 계산하여 반환하는 메서드\n",
    "    def get_average(self):\n",
    "        return self.get_sum() / 3\n",
    "    \n",
    "    ## 출력할 메서드\n",
    "    def __str__(self):\n",
    "        return \"{}\\t{}\\t{}\".format(self.name, self.get_sum(), self.get_average())"
   ]
  },
  {
   "cell_type": "code",
   "execution_count": null,
   "id": "b81d2f84",
   "metadata": {
    "ExecuteTime": {
     "end_time": "2023-08-30T00:51:28.323197Z",
     "start_time": "2023-08-30T00:51:28.309938Z"
    }
   },
   "outputs": [],
   "source": [
    "students = [\n",
    "    Student('aaa', 88, 97, 65), \n",
    "    Student('bbb', 92, 94, 90), \n",
    "    Student('ccc', 85, 88, 84), \n",
    "    Student('ddd', 79, 89, 88), \n",
    "    Student('eee', 80, 76, 92)\n",
    "]\n",
    "\n",
    "# 클래스 변수는 클래스 안에서나 밖에서나 클래스명으로 접근\n",
    "print(\"현재 생성된 총 학생수는 {}명입니다.\".format(Student.count))"
   ]
  },
  {
   "cell_type": "markdown",
   "id": "7b32e922",
   "metadata": {},
   "source": [
    "- 클래스 함수 : 클래스가 가진 함수(기능이나 동작)\n",
    "- 데코레이터(decorator) : @classmethod\n",
    "- def 함수명(self):\n",
    "- def 함수명(cls):  → 클래스함수"
   ]
  },
  {
   "cell_type": "code",
   "execution_count": null,
   "id": "43a7d724",
   "metadata": {
    "ExecuteTime": {
     "end_time": "2023-08-30T01:20:49.302070Z",
     "start_time": "2023-08-30T01:20:49.297310Z"
    }
   },
   "outputs": [],
   "source": [
    "class Student:\n",
    "    # 멤버 필드 : 클래스 변수\n",
    "    count = 0  # 학생 수를 카운팅할 목적으로 사용\n",
    "    students = []\n",
    "    \n",
    "    # 클래스 함수\n",
    "    @classmethod\n",
    "    def print(cls):\n",
    "        print(\"------- 학생 목록 출력 -------\")\n",
    "        print(\"이름\", \"총점\", \"평균\", sep = '\\t')\n",
    "        for student in Student.students:  # Student.students = cls.students\n",
    "            print(str(student)) \n",
    "        print(\"------- ------------ -------\")\n",
    "    \n",
    "    # 생성자 메서드\n",
    "    # 인스턴스 함수 : 객체마다 개별적인 값  \n",
    "    def __init__(self, name, kor, eng, math):\n",
    "        self.name = name  # self.xxx = 인스턴스 변수\n",
    "        self.kor = kor\n",
    "        self.eng = eng\n",
    "        self.math = math\n",
    "        \n",
    "        Student.students.append(self)\n",
    "        \n",
    "    # 멤버 메서드\n",
    "    ## 총점을 계산하여 반환하는 메서드\n",
    "    def get_sum(self):\n",
    "        return self.kor + self.eng + self.math\n",
    "    \n",
    "    ## 평균을 계산하여 반환하는 메서드\n",
    "    def get_average(self):\n",
    "        return self.get_sum() / 3\n",
    "    \n",
    "    ## 출력할 메서드\n",
    "    def __str__(self):\n",
    "        return \"{}\\t{}\\t{}\".format(self.name, self.get_sum(), self.get_average())"
   ]
  },
  {
   "cell_type": "code",
   "execution_count": null,
   "id": "58536727",
   "metadata": {
    "ExecuteTime": {
     "end_time": "2023-08-30T01:20:50.587779Z",
     "start_time": "2023-08-30T01:20:50.574760Z"
    }
   },
   "outputs": [],
   "source": [
    "Student('aaa', 88, 97, 65)\n",
    "Student('bbb', 92, 94, 90)\n",
    "Student('ccc', 85, 88, 84)\n",
    "Student('ddd', 79, 89, 88) \n",
    "Student('eee', 80, 76, 92)\n",
    "\n",
    "Student.print()"
   ]
  },
  {
   "cell_type": "markdown",
   "id": "bf78e4ea",
   "metadata": {},
   "source": [
    "# 프라이빗 변수와 getter/setter 메서드"
   ]
  },
  {
   "cell_type": "code",
   "execution_count": 8,
   "id": "d7e30dbc",
   "metadata": {
    "ExecuteTime": {
     "end_time": "2023-08-30T01:49:12.819986Z",
     "start_time": "2023-08-30T01:49:12.803997Z"
    }
   },
   "outputs": [],
   "source": [
    "# 모듈\n",
    "import math\n",
    "\n",
    "# 원을 추상화하는 클래스\n",
    "class Circle:\n",
    "    def __init__(self, radius):\n",
    "        self.__radius = radius  # 프라이빗 변수 : 클래스 밖에서 임의적인 접근을 막음\n",
    "        \n",
    "    def get_area(self):\n",
    "        return math.pi * (self.__radius ** 2)\n",
    "    \n",
    "    def get_side(self):\n",
    "        return 2 * math.pi * self.__radius\n",
    "    \n",
    "    # getter / setter : private한 변수에 접근을 하기 위한 목적으로 구현하는 메서드    \n",
    "    def get_radius(self):\n",
    "        return self.__radius    \n",
    "    \n",
    "    def set_radius(self, radius):\n",
    "        self.__radius = radius"
   ]
  },
  {
   "cell_type": "code",
   "execution_count": 9,
   "id": "78866190",
   "metadata": {
    "ExecuteTime": {
     "end_time": "2023-08-30T01:49:15.013319Z",
     "start_time": "2023-08-30T01:49:15.003077Z"
    }
   },
   "outputs": [
    {
     "name": "stdout",
     "output_type": "stream",
     "text": [
      "원의 둘레 : 62.83185307179586\n",
      "원의 면적 : 314.1592653589793\n"
     ]
    },
    {
     "ename": "AttributeError",
     "evalue": "'Circle' object has no attribute '__radius'",
     "output_type": "error",
     "traceback": [
      "\u001b[1;31m---------------------------------------------------------------------------\u001b[0m",
      "\u001b[1;31mAttributeError\u001b[0m                            Traceback (most recent call last)",
      "\u001b[1;32m<ipython-input-9-b38415d161b6>\u001b[0m in \u001b[0;36m<module>\u001b[1;34m\u001b[0m\n\u001b[0;32m      2\u001b[0m \u001b[0mprint\u001b[0m\u001b[1;33m(\u001b[0m\u001b[1;34m\"원의 둘레 :\"\u001b[0m\u001b[1;33m,\u001b[0m \u001b[0map\u001b[0m\u001b[1;33m.\u001b[0m\u001b[0mget_side\u001b[0m\u001b[1;33m(\u001b[0m\u001b[1;33m)\u001b[0m\u001b[1;33m)\u001b[0m\u001b[1;33m\u001b[0m\u001b[1;33m\u001b[0m\u001b[0m\n\u001b[0;32m      3\u001b[0m \u001b[0mprint\u001b[0m\u001b[1;33m(\u001b[0m\u001b[1;34m\"원의 면적 :\"\u001b[0m\u001b[1;33m,\u001b[0m \u001b[0map\u001b[0m\u001b[1;33m.\u001b[0m\u001b[0mget_area\u001b[0m\u001b[1;33m(\u001b[0m\u001b[1;33m)\u001b[0m\u001b[1;33m)\u001b[0m\u001b[1;33m\u001b[0m\u001b[1;33m\u001b[0m\u001b[0m\n\u001b[1;32m----> 4\u001b[1;33m \u001b[0mprint\u001b[0m\u001b[1;33m(\u001b[0m\u001b[1;34m\"반지름 :\"\u001b[0m\u001b[1;33m,\u001b[0m \u001b[0map\u001b[0m\u001b[1;33m.\u001b[0m\u001b[0m__radius\u001b[0m\u001b[1;33m)\u001b[0m\u001b[1;33m\u001b[0m\u001b[1;33m\u001b[0m\u001b[0m\n\u001b[0m",
      "\u001b[1;31mAttributeError\u001b[0m: 'Circle' object has no attribute '__radius'"
     ]
    }
   ],
   "source": [
    "ap = Circle(10)\n",
    "print(\"원의 둘레 :\", ap.get_side())\n",
    "print(\"원의 면적 :\", ap.get_area())\n",
    "print(\"반지름 :\", ap.__radius)"
   ]
  },
  {
   "cell_type": "code",
   "execution_count": 10,
   "id": "f18f8d66",
   "metadata": {
    "ExecuteTime": {
     "end_time": "2023-08-30T01:49:17.404193Z",
     "start_time": "2023-08-30T01:49:17.400108Z"
    }
   },
   "outputs": [
    {
     "name": "stdout",
     "output_type": "stream",
     "text": [
      "원의 둘레 : 62.83185307179586\n",
      "원의 면적 : 314.1592653589793\n",
      "반지름 : 5\n"
     ]
    }
   ],
   "source": [
    "ap.__radius = 5\n",
    "print(\"원의 둘레 :\", ap.get_side())  # 반지름 5 적용 x\n",
    "print(\"원의 면적 :\", ap.get_area())  # 반지름 5 적용 x\n",
    "print(\"반지름 :\", ap.__radius)"
   ]
  },
  {
   "cell_type": "code",
   "execution_count": 11,
   "id": "065bbd26",
   "metadata": {
    "ExecuteTime": {
     "end_time": "2023-08-30T01:49:20.217569Z",
     "start_time": "2023-08-30T01:49:20.203585Z"
    }
   },
   "outputs": [
    {
     "name": "stdout",
     "output_type": "stream",
     "text": [
      "반지름 :  10\n"
     ]
    }
   ],
   "source": [
    "print(\"반지름 : \", ap.get_radius())"
   ]
  },
  {
   "cell_type": "code",
   "execution_count": 12,
   "id": "54bbf5ef",
   "metadata": {
    "ExecuteTime": {
     "end_time": "2023-08-30T01:49:23.711010Z",
     "start_time": "2023-08-30T01:49:23.704973Z"
    }
   },
   "outputs": [
    {
     "name": "stdout",
     "output_type": "stream",
     "text": [
      "반지름 : 10\n"
     ]
    }
   ],
   "source": [
    "ap.__radius = 5\n",
    "print(\"반지름 :\", ap.get_radius())"
   ]
  },
  {
   "cell_type": "code",
   "execution_count": 13,
   "id": "d31f336c",
   "metadata": {
    "ExecuteTime": {
     "end_time": "2023-08-30T01:49:26.742470Z",
     "start_time": "2023-08-30T01:49:26.737518Z"
    }
   },
   "outputs": [
    {
     "name": "stdout",
     "output_type": "stream",
     "text": [
      "반지름 : 10\n"
     ]
    }
   ],
   "source": [
    "ap.set_radius = 5\n",
    "print(\"반지름 :\", ap.get_radius())"
   ]
  }
 ],
 "metadata": {
  "kernelspec": {
   "display_name": "Python 3",
   "language": "python",
   "name": "python3"
  },
  "language_info": {
   "codemirror_mode": {
    "name": "ipython",
    "version": 3
   },
   "file_extension": ".py",
   "mimetype": "text/x-python",
   "name": "python",
   "nbconvert_exporter": "python",
   "pygments_lexer": "ipython3",
   "version": "3.8.8"
  },
  "toc": {
   "base_numbering": 1,
   "nav_menu": {},
   "number_sections": true,
   "sideBar": true,
   "skip_h1_title": false,
   "title_cell": "Table of Contents",
   "title_sidebar": "Contents",
   "toc_cell": false,
   "toc_position": {
    "height": "calc(100% - 180px)",
    "left": "10px",
    "top": "150px",
    "width": "287px"
   },
   "toc_section_display": true,
   "toc_window_display": true
  }
 },
 "nbformat": 4,
 "nbformat_minor": 5
}
