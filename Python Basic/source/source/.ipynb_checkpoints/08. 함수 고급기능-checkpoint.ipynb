{
 "cells": [
  {
   "cell_type": "markdown",
   "id": "a8f784d4",
   "metadata": {},
   "source": [
    "# 함수의 종류\n",
    "- 내장 함수\n",
    "- 사용자 정의 함수"
   ]
  },
  {
   "cell_type": "markdown",
   "id": "9db8bc34",
   "metadata": {},
   "source": [
    "## 내장 함수\n",
    "\n",
    "https://docs.python.org/ko/3/library/functions.html"
   ]
  },
  {
   "cell_type": "code",
   "execution_count": 3,
   "id": "82ffc5c3",
   "metadata": {
    "ExecuteTime": {
     "end_time": "2023-08-24T07:12:17.331813Z",
     "start_time": "2023-08-24T07:12:17.310184Z"
    }
   },
   "outputs": [
    {
     "name": "stdout",
     "output_type": "stream",
     "text": [
      "['__add__', '__class__', '__contains__', '__delattr__', '__delitem__', '__dir__', '__doc__', '__eq__', '__format__', '__ge__', '__getattribute__', '__getitem__', '__gt__', '__hash__', '__iadd__', '__imul__', '__init__', '__init_subclass__', '__iter__', '__le__', '__len__', '__lt__', '__mul__', '__ne__', '__new__', '__reduce__', '__reduce_ex__', '__repr__', '__reversed__', '__rmul__', '__setattr__', '__setitem__', '__sizeof__', '__str__', '__subclasshook__', 'append', 'clear', 'copy', 'count', 'extend', 'index', 'insert', 'pop', 'remove', 'reverse', 'sort']\n"
     ]
    }
   ],
   "source": [
    "# 메모리 주소 확인 id()\n",
    "# 매직 명령어 : %who\n",
    "# 객체의 멤버(변수나 함수, 메소드)\n",
    "# dir()\n",
    "\n",
    "print(dir([1, 2, 3]))"
   ]
  },
  {
   "cell_type": "code",
   "execution_count": 4,
   "id": "4e13bb89",
   "metadata": {
    "ExecuteTime": {
     "end_time": "2023-08-24T07:13:40.425853Z",
     "start_time": "2023-08-24T07:13:40.415815Z"
    }
   },
   "outputs": [
    {
     "name": "stdout",
     "output_type": "stream",
     "text": [
      "['__class__', '__contains__', '__delattr__', '__delitem__', '__dir__', '__doc__', '__eq__', '__format__', '__ge__', '__getattribute__', '__getitem__', '__gt__', '__hash__', '__init__', '__init_subclass__', '__iter__', '__le__', '__len__', '__lt__', '__ne__', '__new__', '__reduce__', '__reduce_ex__', '__repr__', '__reversed__', '__setattr__', '__setitem__', '__sizeof__', '__str__', '__subclasshook__', 'clear', 'copy', 'fromkeys', 'get', 'items', 'keys', 'pop', 'popitem', 'setdefault', 'update', 'values']\n"
     ]
    }
   ],
   "source": [
    "print(dir({'name' : '장보고'}))"
   ]
  },
  {
   "cell_type": "code",
   "execution_count": 6,
   "id": "d0b3827f",
   "metadata": {
    "ExecuteTime": {
     "end_time": "2023-08-24T07:17:07.641910Z",
     "start_time": "2023-08-24T07:17:07.630227Z"
    }
   },
   "outputs": [
    {
     "name": "stdout",
     "output_type": "stream",
     "text": [
      "정수 몫 : 2, 나머지 : 1\n"
     ]
    }
   ],
   "source": [
    "# 몫과 나머지 연산\n",
    "a = 7\n",
    "b = 3\n",
    "\n",
    "c = a / b  # 몫(실수)\n",
    "d = a // b  # 몫(정수)\n",
    "e = a % b  # 나머지\n",
    "\n",
    "print('정수 몫 : {0}, 나머지 : {1}'.format(d, e))"
   ]
  },
  {
   "cell_type": "code",
   "execution_count": 7,
   "id": "46e7fe2b",
   "metadata": {
    "ExecuteTime": {
     "end_time": "2023-08-24T07:18:24.946422Z",
     "start_time": "2023-08-24T07:18:24.933282Z"
    }
   },
   "outputs": [
    {
     "name": "stdout",
     "output_type": "stream",
     "text": [
      "정수 몫 : 2, 나머지 : 1\n"
     ]
    }
   ],
   "source": [
    "# divmod(수, 나눌수)\n",
    "mok, nmg = divmod(7, 3)\n",
    "\n",
    "print('정수 몫 : {0}, 나머지 : {1}'.format(mok, nmg))"
   ]
  },
  {
   "cell_type": "code",
   "execution_count": 10,
   "id": "c75c3e49",
   "metadata": {
    "ExecuteTime": {
     "end_time": "2023-08-24T07:20:40.328006Z",
     "start_time": "2023-08-24T07:20:40.323059Z"
    }
   },
   "outputs": [
    {
     "name": "stdout",
     "output_type": "stream",
     "text": [
      "[10, 20, 30, 40, 50]\n"
     ]
    }
   ],
   "source": [
    "# 인덱스와 값을 리턴하는 함수 : enumerate\n",
    "print([10, 20, 30, 40, 50])"
   ]
  },
  {
   "cell_type": "code",
   "execution_count": 9,
   "id": "d803da1c",
   "metadata": {
    "ExecuteTime": {
     "end_time": "2023-08-24T07:20:31.760377Z",
     "start_time": "2023-08-24T07:20:31.750358Z"
    }
   },
   "outputs": [
    {
     "name": "stdout",
     "output_type": "stream",
     "text": [
      "<enumerate object at 0x0000015111778B00>\n"
     ]
    }
   ],
   "source": [
    "# 변수 : 값, 참조 변수(주소)\n",
    "print(enumerate([10, 20, 30, 40, 50]))"
   ]
  },
  {
   "cell_type": "code",
   "execution_count": 13,
   "id": "80442d65",
   "metadata": {
    "ExecuteTime": {
     "end_time": "2023-08-24T07:21:55.012399Z",
     "start_time": "2023-08-24T07:21:55.009361Z"
    }
   },
   "outputs": [
    {
     "name": "stdout",
     "output_type": "stream",
     "text": [
      "[(0, 10), (1, 20), (2, 30), (3, 40), (4, 50)]\n"
     ]
    }
   ],
   "source": [
    "print(list(enumerate([10, 20, 30, 40, 50])))"
   ]
  },
  {
   "cell_type": "code",
   "execution_count": 14,
   "id": "fc90c677",
   "metadata": {
    "ExecuteTime": {
     "end_time": "2023-08-24T07:23:09.051365Z",
     "start_time": "2023-08-24T07:23:09.040514Z"
    }
   },
   "outputs": [
    {
     "name": "stdout",
     "output_type": "stream",
     "text": [
      "0 10\n",
      "1 20\n",
      "2 30\n",
      "3 40\n",
      "4 50\n"
     ]
    }
   ],
   "source": [
    "for idx, val in enumerate([10, 20, 30, 40, 50]):\n",
    "    print(idx, val)"
   ]
  },
  {
   "cell_type": "code",
   "execution_count": 22,
   "id": "957a7085",
   "metadata": {
    "ExecuteTime": {
     "end_time": "2023-08-24T07:26:03.056516Z",
     "start_time": "2023-08-24T07:26:00.759500Z"
    }
   },
   "outputs": [
    {
     "name": "stdout",
     "output_type": "stream",
     "text": [
      "30.4\n",
      "a =  30.4 <class 'float'>\n"
     ]
    }
   ],
   "source": [
    "# eval() : 자동 형변환의 의미\n",
    "a = eval(input())\n",
    "print(\"a = \", a, type(a))"
   ]
  },
  {
   "cell_type": "code",
   "execution_count": 24,
   "id": "d86bbaf5",
   "metadata": {
    "ExecuteTime": {
     "end_time": "2023-08-24T07:28:07.041951Z",
     "start_time": "2023-08-24T07:28:07.036598Z"
    }
   },
   "outputs": [
    {
     "name": "stdout",
     "output_type": "stream",
     "text": [
      "divmod(10, 3)\n",
      "(3, 1)\n"
     ]
    }
   ],
   "source": [
    "# eval - 수식을 문자열로 묶어서 입력하면 계산결과를 반환한다.\n",
    "string = \"divmod(10, 3)\"\n",
    "print(string)\n",
    "print(eval(string))"
   ]
  },
  {
   "cell_type": "code",
   "execution_count": 26,
   "id": "22d94d1f",
   "metadata": {
    "ExecuteTime": {
     "end_time": "2023-08-24T07:31:29.780919Z",
     "start_time": "2023-08-24T07:31:29.776935Z"
    }
   },
   "outputs": [
    {
     "name": "stdout",
     "output_type": "stream",
     "text": [
      "(1, 'sugar')\n",
      "(2, 'spice')\n",
      "(3, 'everything nice')\n"
     ]
    }
   ],
   "source": [
    "# zip : 여러개의 객체를 인덱스별로 묶어서 처리할 때 사용하는 함수\n",
    "for item in zip([1, 2, 3], ['sugar', 'spice', 'everything nice']):\n",
    "    print(item)"
   ]
  },
  {
   "cell_type": "code",
   "execution_count": 29,
   "id": "fbea6857",
   "metadata": {
    "ExecuteTime": {
     "end_time": "2023-08-24T07:32:39.660382Z",
     "start_time": "2023-08-24T07:32:39.653406Z"
    }
   },
   "outputs": [
    {
     "name": "stdout",
     "output_type": "stream",
     "text": [
      "[1, 2, 3]\n"
     ]
    }
   ],
   "source": [
    "data = [3, 1, 2]\n",
    "\n",
    "# sort() : 자기 자신을 변환\n",
    "data.sort()\n",
    "print(data)"
   ]
  },
  {
   "cell_type": "code",
   "execution_count": 31,
   "id": "d2fbd3fc",
   "metadata": {
    "ExecuteTime": {
     "end_time": "2023-08-24T07:33:41.876652Z",
     "start_time": "2023-08-24T07:33:41.863826Z"
    }
   },
   "outputs": [
    {
     "name": "stdout",
     "output_type": "stream",
     "text": [
      "[1, 2, 3]\n",
      "[3, 1, 2]\n"
     ]
    }
   ],
   "source": [
    "items = [3, 1, 2]\n",
    "\n",
    "# sorted() : 원본 변경 x\n",
    "a = sorted(items)\n",
    "print(a)\n",
    "print(items)"
   ]
  },
  {
   "cell_type": "markdown",
   "id": "b174f28e",
   "metadata": {},
   "source": [
    "## 사용자 정의 함수"
   ]
  },
  {
   "cell_type": "code",
   "execution_count": 33,
   "id": "81fcf3ee",
   "metadata": {
    "ExecuteTime": {
     "end_time": "2023-08-24T07:36:15.189160Z",
     "start_time": "2023-08-24T07:36:15.184134Z"
    }
   },
   "outputs": [],
   "source": [
    "# 함수 선언문 def 함수명(매개변수):\n",
    "def say():\n",
    "    a = \"안녕하세요\"\n",
    "    print(a)"
   ]
  },
  {
   "cell_type": "code",
   "execution_count": 34,
   "id": "484e355a",
   "metadata": {
    "ExecuteTime": {
     "end_time": "2023-08-24T07:36:19.592981Z",
     "start_time": "2023-08-24T07:36:19.581545Z"
    }
   },
   "outputs": [
    {
     "name": "stdout",
     "output_type": "stream",
     "text": [
      "안녕하세요\n"
     ]
    }
   ],
   "source": [
    "say()"
   ]
  },
  {
   "cell_type": "code",
   "execution_count": 35,
   "id": "55f87c69",
   "metadata": {
    "ExecuteTime": {
     "end_time": "2023-08-24T07:36:41.748086Z",
     "start_time": "2023-08-24T07:36:41.744038Z"
    }
   },
   "outputs": [],
   "source": [
    "def say():\n",
    "    a = \"안녕하세요\"\n",
    "    return a"
   ]
  },
  {
   "cell_type": "code",
   "execution_count": 36,
   "id": "fc5ffa18",
   "metadata": {
    "ExecuteTime": {
     "end_time": "2023-08-24T07:37:08.299545Z",
     "start_time": "2023-08-24T07:37:08.285854Z"
    }
   },
   "outputs": [
    {
     "data": {
      "text/plain": [
       "'안녕하세요'"
      ]
     },
     "execution_count": 36,
     "metadata": {},
     "output_type": "execute_result"
    }
   ],
   "source": [
    "say()"
   ]
  },
  {
   "cell_type": "code",
   "execution_count": 37,
   "id": "d904d2cd",
   "metadata": {
    "ExecuteTime": {
     "end_time": "2023-08-24T07:38:03.449724Z",
     "start_time": "2023-08-24T07:38:03.444785Z"
    }
   },
   "outputs": [
    {
     "name": "stdout",
     "output_type": "stream",
     "text": [
      "안녕하세요\n"
     ]
    }
   ],
   "source": [
    "string = say()\n",
    "print(string)"
   ]
  },
  {
   "cell_type": "code",
   "execution_count": 38,
   "id": "729dc18e",
   "metadata": {
    "ExecuteTime": {
     "end_time": "2023-08-24T07:39:55.463872Z",
     "start_time": "2023-08-24T07:39:55.454143Z"
    }
   },
   "outputs": [],
   "source": [
    "# 매개변수가 있는 함수\n",
    "def hello(name) :\n",
    "    message = \"Hello, {0}\".format(name)\n",
    "    return message"
   ]
  },
  {
   "cell_type": "code",
   "execution_count": 39,
   "id": "d4cd2703",
   "metadata": {
    "ExecuteTime": {
     "end_time": "2023-08-24T07:40:14.555242Z",
     "start_time": "2023-08-24T07:40:14.545218Z"
    }
   },
   "outputs": [
    {
     "data": {
      "text/plain": [
       "'Hello, kim'"
      ]
     },
     "execution_count": 39,
     "metadata": {},
     "output_type": "execute_result"
    }
   ],
   "source": [
    "hello('kim')"
   ]
  },
  {
   "cell_type": "code",
   "execution_count": 40,
   "id": "75308e94",
   "metadata": {
    "ExecuteTime": {
     "end_time": "2023-08-24T07:40:21.064060Z",
     "start_time": "2023-08-24T07:40:21.050659Z"
    }
   },
   "outputs": [
    {
     "ename": "TypeError",
     "evalue": "hello() missing 1 required positional argument: 'name'",
     "output_type": "error",
     "traceback": [
      "\u001b[1;31m---------------------------------------------------------------------------\u001b[0m",
      "\u001b[1;31mTypeError\u001b[0m                                 Traceback (most recent call last)",
      "\u001b[1;32m<ipython-input-40-a75d7781aaeb>\u001b[0m in \u001b[0;36m<module>\u001b[1;34m\u001b[0m\n\u001b[1;32m----> 1\u001b[1;33m \u001b[0mhello\u001b[0m\u001b[1;33m(\u001b[0m\u001b[1;33m)\u001b[0m\u001b[1;33m\u001b[0m\u001b[1;33m\u001b[0m\u001b[0m\n\u001b[0m",
      "\u001b[1;31mTypeError\u001b[0m: hello() missing 1 required positional argument: 'name'"
     ]
    }
   ],
   "source": [
    "hello()"
   ]
  },
  {
   "cell_type": "markdown",
   "id": "6fda0601",
   "metadata": {
    "ExecuteTime": {
     "end_time": "2023-08-24T07:40:28.206211Z",
     "start_time": "2023-08-24T07:40:28.161643Z"
    }
   },
   "source": [
    "### default parameter : 초기화 파라미터\n",
    "- 매개변수에 초기화를 시켜주는 기능"
   ]
  },
  {
   "cell_type": "code",
   "execution_count": 44,
   "id": "da59215d",
   "metadata": {
    "ExecuteTime": {
     "end_time": "2023-08-24T07:44:18.527968Z",
     "start_time": "2023-08-24T07:44:18.521919Z"
    }
   },
   "outputs": [],
   "source": [
    "# None : 매개변수가 입력되지 않았을 경우 내부적으로 값이 없음을 뜻하는 상수\n",
    "def hello(name = None) :\n",
    "    if name == None:\n",
    "        print(\"이름을 입력해주세요.\")\n",
    "        return\n",
    "    \n",
    "    print(\"Hello, {0}\".format(name))"
   ]
  },
  {
   "cell_type": "code",
   "execution_count": 46,
   "id": "9d83919f",
   "metadata": {
    "ExecuteTime": {
     "end_time": "2023-08-24T07:44:26.849839Z",
     "start_time": "2023-08-24T07:44:26.833161Z"
    }
   },
   "outputs": [
    {
     "name": "stdout",
     "output_type": "stream",
     "text": [
      "Hello, kim\n"
     ]
    }
   ],
   "source": [
    "hello('kim')"
   ]
  },
  {
   "cell_type": "code",
   "execution_count": 47,
   "id": "41959a60",
   "metadata": {
    "ExecuteTime": {
     "end_time": "2023-08-24T07:45:24.449336Z",
     "start_time": "2023-08-24T07:45:24.441824Z"
    }
   },
   "outputs": [],
   "source": [
    "def hello(name = 'Kim') :\n",
    "    print(\"Hello, {0}\".format(name))"
   ]
  },
  {
   "cell_type": "code",
   "execution_count": 50,
   "id": "d27a1b9c",
   "metadata": {
    "ExecuteTime": {
     "end_time": "2023-08-24T07:45:46.674081Z",
     "start_time": "2023-08-24T07:45:46.660727Z"
    }
   },
   "outputs": [
    {
     "name": "stdout",
     "output_type": "stream",
     "text": [
      "Hello, Kim\n"
     ]
    }
   ],
   "source": [
    "hello()"
   ]
  },
  {
   "cell_type": "code",
   "execution_count": 51,
   "id": "7f33fa9d",
   "metadata": {
    "ExecuteTime": {
     "end_time": "2023-08-24T07:47:08.650688Z",
     "start_time": "2023-08-24T07:47:08.636337Z"
    }
   },
   "outputs": [],
   "source": [
    "# 세 개의 수를 더한 결과를 반환하는 함수\n",
    "def hap(a, b, c) : \n",
    "    return a + b + c"
   ]
  },
  {
   "cell_type": "code",
   "execution_count": 54,
   "id": "916b7ba4",
   "metadata": {
    "ExecuteTime": {
     "end_time": "2023-08-24T07:47:50.371889Z",
     "start_time": "2023-08-24T07:47:50.367905Z"
    }
   },
   "outputs": [
    {
     "name": "stdout",
     "output_type": "stream",
     "text": [
      "6\n"
     ]
    }
   ],
   "source": [
    "a = hap(1, 2, 3)\n",
    "print(a)"
   ]
  },
  {
   "cell_type": "code",
   "execution_count": 56,
   "id": "7dfbc346",
   "metadata": {
    "ExecuteTime": {
     "end_time": "2023-08-24T07:48:09.628098Z",
     "start_time": "2023-08-24T07:48:09.611757Z"
    }
   },
   "outputs": [
    {
     "ename": "TypeError",
     "evalue": "hap() missing 1 required positional argument: 'c'",
     "output_type": "error",
     "traceback": [
      "\u001b[1;31m---------------------------------------------------------------------------\u001b[0m",
      "\u001b[1;31mTypeError\u001b[0m                                 Traceback (most recent call last)",
      "\u001b[1;32m<ipython-input-56-2f05e7896a68>\u001b[0m in \u001b[0;36m<module>\u001b[1;34m\u001b[0m\n\u001b[1;32m----> 1\u001b[1;33m \u001b[0ma\u001b[0m \u001b[1;33m=\u001b[0m \u001b[0mhap\u001b[0m\u001b[1;33m(\u001b[0m\u001b[1;36m1\u001b[0m\u001b[1;33m,\u001b[0m \u001b[1;36m2\u001b[0m\u001b[1;33m)\u001b[0m\u001b[1;33m\u001b[0m\u001b[1;33m\u001b[0m\u001b[0m\n\u001b[0m\u001b[0;32m      2\u001b[0m \u001b[0mprint\u001b[0m\u001b[1;33m(\u001b[0m\u001b[0ma\u001b[0m\u001b[1;33m)\u001b[0m\u001b[1;33m\u001b[0m\u001b[1;33m\u001b[0m\u001b[0m\n",
      "\u001b[1;31mTypeError\u001b[0m: hap() missing 1 required positional argument: 'c'"
     ]
    }
   ],
   "source": [
    "a = hap(1, 2)\n",
    "print(a)"
   ]
  },
  {
   "cell_type": "code",
   "execution_count": 57,
   "id": "45759783",
   "metadata": {
    "ExecuteTime": {
     "end_time": "2023-08-24T07:48:59.623117Z",
     "start_time": "2023-08-24T07:48:59.608655Z"
    }
   },
   "outputs": [],
   "source": [
    "def hap(a = 1, b = 2, c = 3) :   # 파라미터 값은 뒤에서부터 채움\n",
    "    return a + b + c"
   ]
  },
  {
   "cell_type": "code",
   "execution_count": 60,
   "id": "113999c3",
   "metadata": {
    "ExecuteTime": {
     "end_time": "2023-08-24T07:49:21.823940Z",
     "start_time": "2023-08-24T07:49:21.813675Z"
    }
   },
   "outputs": [
    {
     "name": "stdout",
     "output_type": "stream",
     "text": [
      "6\n"
     ]
    }
   ],
   "source": [
    "a = hap()\n",
    "print(a)"
   ]
  },
  {
   "cell_type": "code",
   "execution_count": 61,
   "id": "92923062",
   "metadata": {
    "ExecuteTime": {
     "end_time": "2023-08-24T07:49:28.723385Z",
     "start_time": "2023-08-24T07:49:28.718441Z"
    }
   },
   "outputs": [
    {
     "name": "stdout",
     "output_type": "stream",
     "text": [
      "105\n"
     ]
    }
   ],
   "source": [
    "a = hap(100)  # 호출시 값은 앞에서부터 채움\n",
    "print(a)"
   ]
  },
  {
   "cell_type": "code",
   "execution_count": 62,
   "id": "0808df01",
   "metadata": {
    "ExecuteTime": {
     "end_time": "2023-08-24T07:50:03.204998Z",
     "start_time": "2023-08-24T07:50:03.195793Z"
    }
   },
   "outputs": [
    {
     "name": "stdout",
     "output_type": "stream",
     "text": [
      "303\n"
     ]
    }
   ],
   "source": [
    "a = hap(100, 200)\n",
    "print(a)"
   ]
  },
  {
   "cell_type": "code",
   "execution_count": 63,
   "id": "c39ae47e",
   "metadata": {
    "ExecuteTime": {
     "end_time": "2023-08-24T07:50:20.358059Z",
     "start_time": "2023-08-24T07:50:20.345117Z"
    }
   },
   "outputs": [
    {
     "name": "stdout",
     "output_type": "stream",
     "text": [
      "600\n"
     ]
    }
   ],
   "source": [
    "a = hap(100, 200, 300)\n",
    "print(a)"
   ]
  },
  {
   "cell_type": "code",
   "execution_count": 66,
   "id": "d83f3565",
   "metadata": {
    "ExecuteTime": {
     "end_time": "2023-08-24T07:51:32.752488Z",
     "start_time": "2023-08-24T07:51:32.747504Z"
    }
   },
   "outputs": [],
   "source": [
    "def hap(a, b = 2, c = 3) :   # 에러\n",
    "    return a + b + c"
   ]
  },
  {
   "cell_type": "markdown",
   "id": "be770adc",
   "metadata": {},
   "source": [
    "### 가변길이 파라미터\n",
    "\n",
    "- 매개변수의 개수와 상관없이 동작하도록 구현한 파라미터\n",
    "- 가변길이 매개변수를 구별하기 위해 변수명 앞에 '*'를 붙인다."
   ]
  },
  {
   "cell_type": "code",
   "execution_count": 70,
   "id": "47c46e67",
   "metadata": {
    "ExecuteTime": {
     "end_time": "2023-08-24T07:55:06.017574Z",
     "start_time": "2023-08-24T07:55:06.002764Z"
    }
   },
   "outputs": [],
   "source": [
    "def adder(a) :\n",
    "    res = 0\n",
    "    for i in a :\n",
    "        res += i\n",
    "        \n",
    "    return res"
   ]
  },
  {
   "cell_type": "code",
   "execution_count": 72,
   "id": "e944c318",
   "metadata": {
    "ExecuteTime": {
     "end_time": "2023-08-24T07:55:26.827777Z",
     "start_time": "2023-08-24T07:55:26.823877Z"
    }
   },
   "outputs": [
    {
     "name": "stdout",
     "output_type": "stream",
     "text": [
      "tot =  55\n"
     ]
    }
   ],
   "source": [
    "x = [1, 2, 3, 4, 5, 6, 7, 8, 9, 10]\n",
    "\n",
    "tot = adder(x)\n",
    "print(\"tot = \", tot)"
   ]
  },
  {
   "cell_type": "code",
   "execution_count": 73,
   "id": "2d3dbdd4",
   "metadata": {
    "ExecuteTime": {
     "end_time": "2023-08-24T07:56:04.642248Z",
     "start_time": "2023-08-24T07:56:04.632918Z"
    }
   },
   "outputs": [
    {
     "name": "stdout",
     "output_type": "stream",
     "text": [
      "tot =  30\n"
     ]
    }
   ],
   "source": [
    "y = (2, 4, 6, 8, 10)\n",
    "\n",
    "tot = adder(y)\n",
    "print(\"tot = \", tot)"
   ]
  },
  {
   "cell_type": "code",
   "execution_count": 74,
   "id": "065091e5",
   "metadata": {
    "ExecuteTime": {
     "end_time": "2023-08-24T07:57:13.730495Z",
     "start_time": "2023-08-24T07:57:13.714702Z"
    }
   },
   "outputs": [
    {
     "ename": "TypeError",
     "evalue": "adder() takes 1 positional argument but 5 were given",
     "output_type": "error",
     "traceback": [
      "\u001b[1;31m---------------------------------------------------------------------------\u001b[0m",
      "\u001b[1;31mTypeError\u001b[0m                                 Traceback (most recent call last)",
      "\u001b[1;32m<ipython-input-74-329e50b405a3>\u001b[0m in \u001b[0;36m<module>\u001b[1;34m\u001b[0m\n\u001b[1;32m----> 1\u001b[1;33m \u001b[0mtot\u001b[0m \u001b[1;33m=\u001b[0m \u001b[0madder\u001b[0m\u001b[1;33m(\u001b[0m\u001b[1;36m1\u001b[0m\u001b[1;33m,\u001b[0m \u001b[1;36m2\u001b[0m\u001b[1;33m,\u001b[0m \u001b[1;36m3\u001b[0m\u001b[1;33m,\u001b[0m \u001b[1;36m4\u001b[0m\u001b[1;33m,\u001b[0m \u001b[1;36m5\u001b[0m\u001b[1;33m)\u001b[0m\u001b[1;33m\u001b[0m\u001b[1;33m\u001b[0m\u001b[0m\n\u001b[0m\u001b[0;32m      2\u001b[0m \u001b[1;33m\u001b[0m\u001b[0m\n\u001b[0;32m      3\u001b[0m \u001b[0mprint\u001b[0m\u001b[1;33m(\u001b[0m\u001b[1;34m\"tot = \"\u001b[0m\u001b[1;33m,\u001b[0m \u001b[0mtot\u001b[0m\u001b[1;33m)\u001b[0m\u001b[1;33m\u001b[0m\u001b[1;33m\u001b[0m\u001b[0m\n",
      "\u001b[1;31mTypeError\u001b[0m: adder() takes 1 positional argument but 5 were given"
     ]
    }
   ],
   "source": [
    "tot = adder(1, 2, 3, 4, 5)\n",
    "\n",
    "print(\"tot = \", tot)"
   ]
  },
  {
   "cell_type": "code",
   "execution_count": 75,
   "id": "4b8f628e",
   "metadata": {
    "ExecuteTime": {
     "end_time": "2023-08-24T07:58:28.232831Z",
     "start_time": "2023-08-24T07:58:28.218848Z"
    }
   },
   "outputs": [],
   "source": [
    "def adder(a, b, c, d, e) :\n",
    "    res = 0\n",
    "    res = a + b + c + d + e\n",
    "        \n",
    "    return res"
   ]
  },
  {
   "cell_type": "code",
   "execution_count": 76,
   "id": "46bdebc9",
   "metadata": {
    "ExecuteTime": {
     "end_time": "2023-08-24T07:58:33.400089Z",
     "start_time": "2023-08-24T07:58:33.384796Z"
    }
   },
   "outputs": [
    {
     "name": "stdout",
     "output_type": "stream",
     "text": [
      "tot =  15\n"
     ]
    }
   ],
   "source": [
    "tot = adder(1, 2, 3, 4, 5)\n",
    "\n",
    "print(\"tot = \", tot)"
   ]
  },
  {
   "cell_type": "code",
   "execution_count": 77,
   "id": "e7c92d77",
   "metadata": {
    "ExecuteTime": {
     "end_time": "2023-08-24T07:59:47.120109Z",
     "start_time": "2023-08-24T07:59:47.099642Z"
    }
   },
   "outputs": [
    {
     "ename": "TypeError",
     "evalue": "adder() missing 2 required positional arguments: 'd' and 'e'",
     "output_type": "error",
     "traceback": [
      "\u001b[1;31m---------------------------------------------------------------------------\u001b[0m",
      "\u001b[1;31mTypeError\u001b[0m                                 Traceback (most recent call last)",
      "\u001b[1;32m<ipython-input-77-b6eb7de9ce3b>\u001b[0m in \u001b[0;36m<module>\u001b[1;34m\u001b[0m\n\u001b[1;32m----> 1\u001b[1;33m \u001b[0mtot\u001b[0m \u001b[1;33m=\u001b[0m \u001b[0madder\u001b[0m\u001b[1;33m(\u001b[0m\u001b[1;36m1\u001b[0m\u001b[1;33m,\u001b[0m \u001b[1;36m2\u001b[0m\u001b[1;33m,\u001b[0m \u001b[1;36m3\u001b[0m\u001b[1;33m)\u001b[0m\u001b[1;33m\u001b[0m\u001b[1;33m\u001b[0m\u001b[0m\n\u001b[0m\u001b[0;32m      2\u001b[0m \u001b[1;33m\u001b[0m\u001b[0m\n\u001b[0;32m      3\u001b[0m \u001b[0mprint\u001b[0m\u001b[1;33m(\u001b[0m\u001b[1;34m\"tot = \"\u001b[0m\u001b[1;33m,\u001b[0m \u001b[0mtot\u001b[0m\u001b[1;33m)\u001b[0m\u001b[1;33m\u001b[0m\u001b[1;33m\u001b[0m\u001b[0m\n",
      "\u001b[1;31mTypeError\u001b[0m: adder() missing 2 required positional arguments: 'd' and 'e'"
     ]
    }
   ],
   "source": [
    "tot = adder(1, 2, 3)\n",
    "\n",
    "print(\"tot = \", tot)"
   ]
  },
  {
   "cell_type": "code",
   "execution_count": 83,
   "id": "586108cd",
   "metadata": {
    "ExecuteTime": {
     "end_time": "2023-08-24T08:02:17.952142Z",
     "start_time": "2023-08-24T08:02:17.934556Z"
    }
   },
   "outputs": [],
   "source": [
    "def adder(*ar) :  # 튜플로 묶여서 넘어온다.\n",
    "    \n",
    "    print(ar, type(ar))\n",
    "    \n",
    "    res = 0\n",
    "    \n",
    "    for i in ar:\n",
    "        res += i\n",
    "        \n",
    "    return res"
   ]
  },
  {
   "cell_type": "code",
   "execution_count": 84,
   "id": "bf2641f4",
   "metadata": {
    "ExecuteTime": {
     "end_time": "2023-08-24T08:02:19.903878Z",
     "start_time": "2023-08-24T08:02:19.896764Z"
    }
   },
   "outputs": [
    {
     "name": "stdout",
     "output_type": "stream",
     "text": [
      "(1, 2, 3, 4, 5) <class 'tuple'>\n",
      "tot =  15\n"
     ]
    }
   ],
   "source": [
    "tot = adder(1, 2, 3, 4, 5)\n",
    "\n",
    "print(\"tot = \", tot)"
   ]
  },
  {
   "cell_type": "code",
   "execution_count": 85,
   "id": "707464eb",
   "metadata": {
    "ExecuteTime": {
     "end_time": "2023-08-24T08:02:21.797871Z",
     "start_time": "2023-08-24T08:02:21.791850Z"
    }
   },
   "outputs": [
    {
     "name": "stdout",
     "output_type": "stream",
     "text": [
      "(1, 2, 3) <class 'tuple'>\n",
      "tot =  6\n"
     ]
    }
   ],
   "source": [
    "tot = adder(1, 2, 3)\n",
    "\n",
    "print(\"tot = \", tot)"
   ]
  },
  {
   "cell_type": "code",
   "execution_count": 86,
   "id": "5afd624a",
   "metadata": {
    "ExecuteTime": {
     "end_time": "2023-08-24T08:02:22.587201Z",
     "start_time": "2023-08-24T08:02:22.570939Z"
    }
   },
   "outputs": [
    {
     "name": "stdout",
     "output_type": "stream",
     "text": [
      "(2, 3, 4, 5, 6, 7, 8, 9, 1, 2, 3) <class 'tuple'>\n",
      "tot =  50\n"
     ]
    }
   ],
   "source": [
    "tot = adder(2, 3, 4, 5, 6, 7, 8, 9, 1, 2, 3)\n",
    "\n",
    "print(\"tot = \", tot)"
   ]
  },
  {
   "cell_type": "code",
   "execution_count": 87,
   "id": "ca438223",
   "metadata": {
    "ExecuteTime": {
     "end_time": "2023-08-24T08:05:17.921932Z",
     "start_time": "2023-08-24T08:05:17.913797Z"
    }
   },
   "outputs": [],
   "source": [
    "def order(size, *topping) :\n",
    "    print(\"\\n\" + size + \" 피자를 주문하셨습니다.\\n토핑 : \", end = '')\n",
    "    for i in topping:\n",
    "        print(i + \",\", end ='')"
   ]
  },
  {
   "cell_type": "code",
   "execution_count": 94,
   "id": "d1166ac1",
   "metadata": {
    "ExecuteTime": {
     "end_time": "2023-08-24T08:07:28.569324Z",
     "start_time": "2023-08-24T08:07:28.551598Z"
    },
    "scrolled": true
   },
   "outputs": [
    {
     "name": "stdout",
     "output_type": "stream",
     "text": [
      "\n",
      "large 피자를 주문하셨습니다.\n",
      "토핑 : 토마토,라임,파인애플,\n",
      "small 피자를 주문하셨습니다.\n",
      "토핑 : 버섯,피클,오이,땅콩,가지,\n",
      "medium 피자를 주문하셨습니다.\n",
      "토핑 : 고구마무스,파인애플,버섯,토마토, 더블크리스피,체다치즈,"
     ]
    }
   ],
   "source": [
    "order('large', '토마토', '라임', '파인애플')\n",
    "order('small', '버섯', '피클', '오이', '땅콩', '가지')\n",
    "order('medium', '고구마무스', '파인애플', '버섯', '토마토',' 더블크리스피', '체다치즈')"
   ]
  },
  {
   "cell_type": "markdown",
   "id": "0417fa2c",
   "metadata": {},
   "source": [
    "### 딕셔너리(사전)을 매개변수로 넘길때\n",
    "- 매개변수의 이름 앞에 '**'을 붙인다."
   ]
  },
  {
   "cell_type": "code",
   "execution_count": 95,
   "id": "604e74c1",
   "metadata": {
    "ExecuteTime": {
     "end_time": "2023-08-24T08:25:00.090381Z",
     "start_time": "2023-08-24T08:25:00.084483Z"
    }
   },
   "outputs": [],
   "source": [
    "def func(**kwargs):\n",
    "    print(kwargs)"
   ]
  },
  {
   "cell_type": "code",
   "execution_count": 96,
   "id": "503e3852",
   "metadata": {
    "ExecuteTime": {
     "end_time": "2023-08-24T08:25:23.827140Z",
     "start_time": "2023-08-24T08:25:23.823938Z"
    }
   },
   "outputs": [
    {
     "name": "stdout",
     "output_type": "stream",
     "text": [
      "{'name': 'aaa', 'age': 15, 'birth': '1992'}\n"
     ]
    }
   ],
   "source": [
    "func(name = 'aaa', age = 15, birth = '1992')"
   ]
  },
  {
   "cell_type": "code",
   "execution_count": 97,
   "id": "3e1fb98e",
   "metadata": {
    "ExecuteTime": {
     "end_time": "2023-08-24T08:26:31.602718Z",
     "start_time": "2023-08-24T08:26:31.595100Z"
    }
   },
   "outputs": [
    {
     "ename": "TypeError",
     "evalue": "func() takes 0 positional arguments but 3 were given",
     "output_type": "error",
     "traceback": [
      "\u001b[1;31m---------------------------------------------------------------------------\u001b[0m",
      "\u001b[1;31mTypeError\u001b[0m                                 Traceback (most recent call last)",
      "\u001b[1;32m<ipython-input-97-fa1664093463>\u001b[0m in \u001b[0;36m<module>\u001b[1;34m\u001b[0m\n\u001b[1;32m----> 1\u001b[1;33m \u001b[0mfunc\u001b[0m\u001b[1;33m(\u001b[0m\u001b[1;34m'aaa'\u001b[0m\u001b[1;33m,\u001b[0m \u001b[1;36m15\u001b[0m\u001b[1;33m,\u001b[0m \u001b[1;34m'1988'\u001b[0m\u001b[1;33m)\u001b[0m\u001b[1;33m\u001b[0m\u001b[1;33m\u001b[0m\u001b[0m\n\u001b[0m",
      "\u001b[1;31mTypeError\u001b[0m: func() takes 0 positional arguments but 3 were given"
     ]
    }
   ],
   "source": [
    "func('aaa', 15, '1988')"
   ]
  },
  {
   "cell_type": "markdown",
   "id": "a3f92ca9",
   "metadata": {},
   "source": [
    "### 람다 함수(Lambda Function) or 람다 표현식(Lambda Expression)\n",
    "- 이름이 없는 함수(익명의 함수)\n",
    "- 매크로 함수 or 인라인 함수\n",
    "- 인라인 함수 : 한 줄로 구성된 함수\n",
    "- 함수가 간결하고 메모리를 절약하는 장점을 가지고 있다.\n",
    "- 형식 : lambda 매개변수 : 표현식 / lambda 입력값 : 출력값"
   ]
  },
  {
   "cell_type": "code",
   "execution_count": 99,
   "id": "a747fc96",
   "metadata": {
    "ExecuteTime": {
     "end_time": "2023-08-24T08:29:39.680678Z",
     "start_time": "2023-08-24T08:29:39.672445Z"
    }
   },
   "outputs": [],
   "source": [
    "def plus(a) :\n",
    "    return a + 1"
   ]
  },
  {
   "cell_type": "code",
   "execution_count": 100,
   "id": "cae02cc9",
   "metadata": {
    "ExecuteTime": {
     "end_time": "2023-08-24T08:29:39.924974Z",
     "start_time": "2023-08-24T08:29:39.893690Z"
    }
   },
   "outputs": [
    {
     "name": "stdout",
     "output_type": "stream",
     "text": [
      "6\n"
     ]
    }
   ],
   "source": [
    "print(plus(5))"
   ]
  },
  {
   "cell_type": "code",
   "execution_count": 102,
   "id": "7d304ddd",
   "metadata": {
    "ExecuteTime": {
     "end_time": "2023-08-24T08:30:22.030581Z",
     "start_time": "2023-08-24T08:30:22.014977Z"
    }
   },
   "outputs": [
    {
     "name": "stdout",
     "output_type": "stream",
     "text": [
      "8\n"
     ]
    }
   ],
   "source": [
    "plus = lambda x : x + 1\n",
    "print(plus(7))"
   ]
  },
  {
   "cell_type": "code",
   "execution_count": 104,
   "id": "235ce622",
   "metadata": {
    "ExecuteTime": {
     "end_time": "2023-08-24T08:33:09.207480Z",
     "start_time": "2023-08-24T08:33:09.197388Z"
    }
   },
   "outputs": [],
   "source": [
    "# 짝수 판별 함수\n",
    "def is_even(x):\n",
    "    return x % 2 == 0"
   ]
  },
  {
   "cell_type": "code",
   "execution_count": 105,
   "id": "9dfb7bcc",
   "metadata": {
    "ExecuteTime": {
     "end_time": "2023-08-24T08:34:07.840226Z",
     "start_time": "2023-08-24T08:34:07.830187Z"
    }
   },
   "outputs": [
    {
     "name": "stdout",
     "output_type": "stream",
     "text": [
      "홀수\n"
     ]
    }
   ],
   "source": [
    "# if 조건식:\n",
    "## 조건식은 반드시 그 결과가 참 또는 거짓으로 판정되는 식\n",
    "if is_even(3):\n",
    "    print(\"짝수\")\n",
    "else :\n",
    "    print(\"홀수\")"
   ]
  },
  {
   "cell_type": "code",
   "execution_count": 107,
   "id": "2fa2f661",
   "metadata": {
    "ExecuteTime": {
     "end_time": "2023-08-24T08:35:14.060051Z",
     "start_time": "2023-08-24T08:35:14.055988Z"
    }
   },
   "outputs": [
    {
     "name": "stdout",
     "output_type": "stream",
     "text": [
      "False\n",
      "True\n"
     ]
    }
   ],
   "source": [
    "is_even = lambda x : x % 2 == 0\n",
    "print(is_even(1))\n",
    "print(is_even(2))"
   ]
  },
  {
   "cell_type": "code",
   "execution_count": 108,
   "id": "144210be",
   "metadata": {
    "ExecuteTime": {
     "end_time": "2023-08-24T08:36:30.136955Z",
     "start_time": "2023-08-24T08:36:30.121618Z"
    }
   },
   "outputs": [],
   "source": [
    "# map(함수, 집합 객체 = 리스트나 튜플)\n",
    "def add(x) :\n",
    "    return x + 2"
   ]
  },
  {
   "cell_type": "code",
   "execution_count": 111,
   "id": "53d3a0d7",
   "metadata": {
    "ExecuteTime": {
     "end_time": "2023-08-24T08:37:32.902046Z",
     "start_time": "2023-08-24T08:37:32.891702Z"
    }
   },
   "outputs": [
    {
     "name": "stdout",
     "output_type": "stream",
     "text": [
      "[3, 4, 5, 6, 7]\n"
     ]
    }
   ],
   "source": [
    "result = list(map(add, [1, 2, 3, 4, 5]))\n",
    "print(result)"
   ]
  },
  {
   "cell_type": "code",
   "execution_count": 112,
   "id": "277d1288",
   "metadata": {
    "ExecuteTime": {
     "end_time": "2023-08-24T08:38:28.046905Z",
     "start_time": "2023-08-24T08:38:28.033933Z"
    }
   },
   "outputs": [
    {
     "name": "stdout",
     "output_type": "stream",
     "text": [
      "[3, 4, 5, 6, 7]\n"
     ]
    }
   ],
   "source": [
    "res2 = list(map(lambda x : x + 2, [1, 2, 3, 4, 5]))\n",
    "print(res2)"
   ]
  },
  {
   "cell_type": "code",
   "execution_count": 115,
   "id": "4ef49d48",
   "metadata": {
    "ExecuteTime": {
     "end_time": "2023-08-24T08:41:58.634491Z",
     "start_time": "2023-08-24T08:41:58.628486Z"
    }
   },
   "outputs": [
    {
     "name": "stdout",
     "output_type": "stream",
     "text": [
      "[True, False, True, False, True, False, True, False, True, False]\n"
     ]
    }
   ],
   "source": [
    "# filter(함수, 리스트나 튜플)\n",
    "# 리스트의 요소 중 짝수만 추출하는 작업\n",
    "def is_even(x):\n",
    "    return x % 2 == 0\n",
    "\n",
    "result1 = list(map(is_even, range(10)))\n",
    "print(result1)"
   ]
  },
  {
   "cell_type": "code",
   "execution_count": 116,
   "id": "da591669",
   "metadata": {
    "ExecuteTime": {
     "end_time": "2023-08-24T08:41:59.770104Z",
     "start_time": "2023-08-24T08:41:59.765005Z"
    }
   },
   "outputs": [
    {
     "name": "stdout",
     "output_type": "stream",
     "text": [
      "[0, 2, 4, 6, 8]\n"
     ]
    }
   ],
   "source": [
    "result2 = list(filter(is_even, range(10)))\n",
    "print(result2)"
   ]
  },
  {
   "cell_type": "code",
   "execution_count": 117,
   "id": "3dda7ab4",
   "metadata": {
    "ExecuteTime": {
     "end_time": "2023-08-24T08:42:57.525112Z",
     "start_time": "2023-08-24T08:42:57.510606Z"
    }
   },
   "outputs": [
    {
     "name": "stdout",
     "output_type": "stream",
     "text": [
      "[0, 2, 4, 6, 8]\n"
     ]
    }
   ],
   "source": [
    "result3 = list(filter(lambda x : x % 2 == 0, range(10)))\n",
    "print(result3)"
   ]
  },
  {
   "cell_type": "code",
   "execution_count": 119,
   "id": "81a77e5d",
   "metadata": {
    "ExecuteTime": {
     "end_time": "2023-08-24T08:44:53.585241Z",
     "start_time": "2023-08-24T08:44:53.567723Z"
    }
   },
   "outputs": [
    {
     "name": "stdout",
     "output_type": "stream",
     "text": [
      "True\n"
     ]
    }
   ],
   "source": [
    "print((lambda x : x % 2 == 0)(8))"
   ]
  },
  {
   "cell_type": "code",
   "execution_count": 130,
   "id": "aabf0f15",
   "metadata": {
    "ExecuteTime": {
     "end_time": "2023-08-24T08:48:58.995360Z",
     "start_time": "2023-08-24T08:48:58.976805Z"
    }
   },
   "outputs": [
    {
     "name": "stdout",
     "output_type": "stream",
     "text": [
      "[1, -2, 3, -4, 5, -6, 7, -8, 9]\n"
     ]
    }
   ],
   "source": [
    "# 리스트에 입력된 값 중 짝수를 음수로 변환하는 작업\n",
    "x = [1, 2, 3, 4, 5, 6, 7, 8, 9]\n",
    "y = list()\n",
    "\n",
    "def change(x) :\n",
    "    for i in x:\n",
    "        if i % 2 == 0:\n",
    "            y.append(-i)\n",
    "        else :\n",
    "            y.append(i)\n",
    "    return y\n",
    "            \n",
    "print(change(x))"
   ]
  },
  {
   "cell_type": "markdown",
   "id": "be5049ca",
   "metadata": {},
   "source": [
    "#### 리스트 내포"
   ]
  }
 ],
 "metadata": {
  "kernelspec": {
   "display_name": "Python 3",
   "language": "python",
   "name": "python3"
  },
  "language_info": {
   "codemirror_mode": {
    "name": "ipython",
    "version": 3
   },
   "file_extension": ".py",
   "mimetype": "text/x-python",
   "name": "python",
   "nbconvert_exporter": "python",
   "pygments_lexer": "ipython3",
   "version": "3.8.8"
  },
  "toc": {
   "base_numbering": 1,
   "nav_menu": {},
   "number_sections": true,
   "sideBar": true,
   "skip_h1_title": false,
   "title_cell": "Table of Contents",
   "title_sidebar": "Contents",
   "toc_cell": false,
   "toc_position": {
    "height": "783px",
    "left": "48px",
    "top": "235px",
    "width": "233px"
   },
   "toc_section_display": true,
   "toc_window_display": true
  }
 },
 "nbformat": 4,
 "nbformat_minor": 5
}
