{
 "cells": [
  {
   "cell_type": "markdown",
   "id": "aed3d036",
   "metadata": {},
   "source": [
    "# 에러와 예외\n",
    "<br>\n",
    "1. 에러(Syntax Error)<br>\n",
    "  - 문법적 에러<br>\n",
    "  - 파이썬은 상대적으로 언어적 문법이 간단하므로 구문 자체의 에러 발생 비율이 낮다<br>\n",
    "<br>\n",
    "2. 예외(Exception)<br>  \n",
    "  - 구문 에러는 없으나 프로그램 실행 중 더이상 진행할 수 없는 상황<br>  \n",
    "  - 예외가 발생하면 프로그램은 바로 종료된다.<br>  \n",
    "  - 개발자에 의해 임의로 또는 강제로 발생시키는 에러<br>\n",
    "  <br>\n",
    "3. 예외 처리 방법<br>\n",
    "  - try 구문 : 예외가 발생할만한 문구를 기술<br>\n",
    "  - except Exception : 예외가 발생했을 때 실행할 문장 기술<br>\n",
    "  - else : 예외가 발생하지 않았을 때 실행할 문장 기술<br>\n",
    "  - finally : 예외와 상관없이 실행할 문장을 기술"
   ]
  },
  {
   "cell_type": "code",
   "execution_count": null,
   "id": "438c3046",
   "metadata": {
    "ExecuteTime": {
     "end_time": "2023-08-29T00:15:26.660885Z",
     "start_time": "2023-08-29T00:15:26.543001Z"
    }
   },
   "outputs": [],
   "source": [
    "# 일반적인 프로그램의 흐름은 위에서 아래로, 좌에서 우로 진행된다.\n",
    "print(\"start\")\n",
    "4/0\n",
    "print(\"end\")"
   ]
  },
  {
   "cell_type": "markdown",
   "id": "02c22d32",
   "metadata": {},
   "source": [
    "- 파이썬 내장 예외의 종류  \n",
    "https://docs.python.org/3/library/exceptions.html"
   ]
  },
  {
   "cell_type": "code",
   "execution_count": null,
   "id": "6460c683",
   "metadata": {
    "ExecuteTime": {
     "end_time": "2023-08-29T00:19:34.972877Z",
     "start_time": "2023-08-29T00:19:34.959397Z"
    }
   },
   "outputs": [],
   "source": [
    "print(\"start\")\n",
    "\n",
    "try:\n",
    "    4/0\n",
    "    \n",
    "except ZeroDivisionError as e:\n",
    "    print(\"에러 메시지 :\", e)  # e.message\n",
    "    print(\"0으로 나누니깐 그러지 바보야\")\n",
    "\n",
    "print(\"end\")"
   ]
  },
  {
   "cell_type": "code",
   "execution_count": null,
   "id": "8ff9d28e",
   "metadata": {
    "ExecuteTime": {
     "end_time": "2023-08-29T00:26:22.382468Z",
     "start_time": "2023-08-29T00:26:20.971144Z"
    }
   },
   "outputs": [],
   "source": [
    "print(\"종료하려면 q를 입력하세요.\")\n",
    "\n",
    "while True:\n",
    "    num1 = input(\"\\n분자 = \")\n",
    "    if num1 == 'q':\n",
    "        break\n",
    "    num2 = input(\"분모 = \")\n",
    "    \n",
    "    result = int(num1) / int(num2)\n",
    "    \n",
    "    print(f\"{num1} / {num2} = {result}\")\n",
    "    \n",
    "print(\"프로그램을 종료합니다.\")"
   ]
  },
  {
   "cell_type": "code",
   "execution_count": null,
   "id": "dfcb9351",
   "metadata": {
    "ExecuteTime": {
     "end_time": "2023-08-29T00:26:34.583174Z",
     "start_time": "2023-08-29T00:26:30.127263Z"
    }
   },
   "outputs": [],
   "source": [
    "print(\"종료하려면 q를 입력하세요.\")\n",
    "\n",
    "while True:\n",
    "    num1 = input(\"\\n분자 = \")\n",
    "    if num1 == 'q':\n",
    "        break\n",
    "    num2 = input(\"분모 = \")\n",
    "    \n",
    "    try:\n",
    "        result = int(num1) / int(num2)\n",
    "        print(f\"{num1} / {num2} = {result}\")\n",
    "    except ZeroDivisionError as e:\n",
    "        print(\"분모에 0이 입력될 수 없습니다.\")\n",
    "        print(\"오류 메시지 :\", e)\n",
    "    except ValueError as e :\n",
    "        print(\"나누기는 숫자로만 처리됩니다.\")\n",
    "        print(\"오류 메시지 :\", e)\n",
    "    \n",
    "print(\"프로그램을 종료합니다.\")"
   ]
  },
  {
   "cell_type": "code",
   "execution_count": null,
   "id": "0aa08dc9",
   "metadata": {
    "ExecuteTime": {
     "end_time": "2023-08-29T00:26:46.026850Z",
     "start_time": "2023-08-29T00:26:46.012892Z"
    }
   },
   "outputs": [],
   "source": [
    "def exception_test():\n",
    "    print(\"start\")\n",
    "    print(2 + \"2\")\n",
    "    print(\"end\")"
   ]
  },
  {
   "cell_type": "code",
   "execution_count": null,
   "id": "108e9e00",
   "metadata": {
    "ExecuteTime": {
     "end_time": "2023-08-29T00:26:46.756173Z",
     "start_time": "2023-08-29T00:26:46.740958Z"
    }
   },
   "outputs": [],
   "source": [
    "exception_test()"
   ]
  },
  {
   "cell_type": "code",
   "execution_count": null,
   "id": "61d27bde",
   "metadata": {
    "ExecuteTime": {
     "end_time": "2023-08-29T00:27:31.607442Z",
     "start_time": "2023-08-29T00:27:31.580465Z"
    }
   },
   "outputs": [],
   "source": [
    "def exception_test():\n",
    "    print(\"start\")\n",
    "    \n",
    "    try :\n",
    "        print(2 + \"2\")\n",
    "    except TypeError as e:\n",
    "        print(\"에러 : {}\".format(e))\n",
    "        print(\"자료형이 일치하지 않습니다.\")\n",
    "        \n",
    "    print(\"end\")"
   ]
  },
  {
   "cell_type": "code",
   "execution_count": null,
   "id": "ac390f3c",
   "metadata": {
    "ExecuteTime": {
     "end_time": "2023-08-29T00:27:32.040779Z",
     "start_time": "2023-08-29T00:27:32.025635Z"
    }
   },
   "outputs": [],
   "source": [
    "exception_test()"
   ]
  },
  {
   "cell_type": "code",
   "execution_count": null,
   "id": "f94a5d5e",
   "metadata": {
    "ExecuteTime": {
     "end_time": "2023-08-29T00:06:13.055290Z",
     "start_time": "2023-08-29T00:06:12.925420Z"
    }
   },
   "outputs": [],
   "source": [
    "Print(\"Hello Python\")"
   ]
  },
  {
   "cell_type": "code",
   "execution_count": null,
   "id": "24a08bf9",
   "metadata": {
    "ExecuteTime": {
     "end_time": "2023-08-29T00:37:12.927005Z",
     "start_time": "2023-08-29T00:37:12.906690Z"
    }
   },
   "outputs": [],
   "source": [
    "# step1. 파일 객체 생성과 파일 오픈\n",
    "## open(파일이름, 모드), 모드 - r, w, a\n",
    "try:\n",
    "    f = open('test2.txt', 'r')\n",
    "except FileNotFoundError as e:\n",
    "    print(\"에러 메시지 :\", e)\n",
    "    print(\"해당 파일이 존재하지 않습니다.\")\n",
    "\n",
    "# step2. 실제 처리할 작업을 기술(비즈니스 로직)\n",
    "else:  # 예외가 발생하지 않았다면\n",
    "    while True:\n",
    "        line = f.readline()\n",
    "        if not line:\n",
    "            break\n",
    "        print(line, end = '')\n",
    "\n",
    "# step3. 파일 객체 닫기\n",
    "# finally:  # 예외가 있든 없든 무조건 실행\n",
    "    f.close()"
   ]
  },
  {
   "cell_type": "markdown",
   "id": "fa2fbdc2",
   "metadata": {},
   "source": [
    "## 처리조건 : 계산기 프로그램\n",
    "\n",
    "1. 두 개의 숫자와 하나의 연산자를 입력받아 사칙연산을 수행하는 프로그램을 구현하시오.\n",
    "2. 연산자는 +, -, *, /만 입력되도록 한다. 단, 이외의 연산자가 들어오면 예외처리 문구를 기술한다.\n",
    "3. 연산자가 '/'이고, 두번째로 입력받은 숫자가 0이면 예외처리 문구를 기술한다.\n",
    "4. 계산을 수행할 값이 숫자가 아닌값이 들어오면 예외 처리를 수행한다.\n",
    "5. 주어진 입출력 형식에 맞게 프로그램을 구현한다.\n",
    "6. 사용자가 원하는 연산을 수행할 수 있도록 구현한다.\n",
    "7. 첫번째 수로 q가 입력되면 프로그램을 종료한다.  <br>\n",
    "<br>  \n",
    "\n",
    "## 입출력형식\n",
    "첫번째 수 =  \n",
    "연산자(+, -, *, /) =  \n",
    "두번째 수 =  \n",
    "<br>\n",
    "10 - 4 = 6"
   ]
  },
  {
   "cell_type": "code",
   "execution_count": 4,
   "id": "34794d88",
   "metadata": {
    "ExecuteTime": {
     "end_time": "2023-08-29T00:56:20.049552Z",
     "start_time": "2023-08-29T00:56:14.851113Z"
    }
   },
   "outputs": [
    {
     "name": "stdout",
     "output_type": "stream",
     "text": [
      "첫번째 수 = d\n",
      "연산자(+, -, *, /) = /\n",
      "두번째 수 = s\n",
      "첫번째 수와 두번째 수는 숫자만 입력가능합니다.\n",
      "오류 메시지 : invalid literal for int() with base 10: 'd'\n"
     ]
    }
   ],
   "source": [
    "num1 = input(\"첫번째 수 = \")\n",
    "op = input(\"연산자(+, -, *, /) = \")\n",
    "num2 = input(\"두번째 수 = \")\n",
    "\n",
    "try:        \n",
    "    if op == '+':\n",
    "        result = int(num1) + int(num2)\n",
    "        print(f\"{num1} + {num2} = {result}\")\n",
    "    elif op == '-':\n",
    "        result = int(num1) - int(num2)\n",
    "        print(f\"{num1} - {num2} = {result}\")\n",
    "    elif op == '*':\n",
    "        result = int(num1) * int(num2)\n",
    "        print(f\"{num1} * {num2} = {result}\")\n",
    "    elif op == '/':\n",
    "        result = int(num1) / int(num2)\n",
    "        print(f\"{num1} / {num2} = {result}\")\n",
    "except ZeroDivisionError as e:\n",
    "    print(\"두번째 수에 0이 입력될 수 없습니다.\")\n",
    "    print(\"오류 메시지 :\", e)\n",
    "except ValueError as e:\n",
    "    print(\"첫번째 수와 두번째 수는 숫자만 입력가능합니다.\")\n",
    "    print(\"오류 메시지 :\", e)"
   ]
  },
  {
   "cell_type": "code",
   "execution_count": null,
   "id": "d308c995",
   "metadata": {},
   "outputs": [],
   "source": []
  },
  {
   "cell_type": "code",
   "execution_count": null,
   "id": "56f3fc47",
   "metadata": {},
   "outputs": [],
   "source": []
  },
  {
   "cell_type": "code",
   "execution_count": null,
   "id": "562aa0f1",
   "metadata": {},
   "outputs": [],
   "source": []
  },
  {
   "cell_type": "code",
   "execution_count": null,
   "id": "3709d114",
   "metadata": {},
   "outputs": [],
   "source": []
  },
  {
   "cell_type": "code",
   "execution_count": null,
   "id": "449cebb5",
   "metadata": {},
   "outputs": [],
   "source": []
  },
  {
   "cell_type": "code",
   "execution_count": null,
   "id": "dd09453b",
   "metadata": {},
   "outputs": [],
   "source": []
  },
  {
   "cell_type": "code",
   "execution_count": null,
   "id": "c291dcb6",
   "metadata": {},
   "outputs": [],
   "source": []
  },
  {
   "cell_type": "code",
   "execution_count": null,
   "id": "773fb326",
   "metadata": {},
   "outputs": [],
   "source": []
  }
 ],
 "metadata": {
  "kernelspec": {
   "display_name": "Python 3",
   "language": "python",
   "name": "python3"
  },
  "language_info": {
   "codemirror_mode": {
    "name": "ipython",
    "version": 3
   },
   "file_extension": ".py",
   "mimetype": "text/x-python",
   "name": "python",
   "nbconvert_exporter": "python",
   "pygments_lexer": "ipython3",
   "version": "3.8.8"
  },
  "toc": {
   "base_numbering": 1,
   "nav_menu": {},
   "number_sections": true,
   "sideBar": true,
   "skip_h1_title": false,
   "title_cell": "Table of Contents",
   "title_sidebar": "Contents",
   "toc_cell": false,
   "toc_position": {
    "height": "calc(100% - 180px)",
    "left": "10px",
    "top": "150px",
    "width": "281px"
   },
   "toc_section_display": true,
   "toc_window_display": true
  }
 },
 "nbformat": 4,
 "nbformat_minor": 5
}
