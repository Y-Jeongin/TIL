{
 "cells": [
  {
   "cell_type": "markdown",
   "id": "026b0235",
   "metadata": {},
   "source": [
    "# 언더바 or 언더스코어 or 밑줄\n",
    "  <br>\n",
    "  \n",
    "1. 인터프리터에서의 마지막 값\n",
    "2. 무시하는 값\n",
    "3. 숫자의 자리수를 나타낼 때 - 큰 의미 없음\n",
    "4. 앞 언더바 1개 : 모듈내에서만 접근이 허용되는 객체 (_변수 or _함수)\n",
    "5. 뒤 언더바 1개 : 같은 이름의 충돌을 막기위해 사용 (변수_ or 함수_)\n",
    "6. 앞 언더바 2개 : 네임 맹글링\n",
    "7. 앞뒤 언더바 2개 : 이미 정의되어 있는 글로벌 변수 or 매직메서드"
   ]
  },
  {
   "cell_type": "markdown",
   "id": "8c4f8de2",
   "metadata": {},
   "source": [
    "## 인터프리터에서의 마지막 값"
   ]
  },
  {
   "cell_type": "code",
   "execution_count": 1,
   "id": "6319a95d",
   "metadata": {
    "ExecuteTime": {
     "end_time": "2023-08-29T07:26:54.232463Z",
     "start_time": "2023-08-29T07:26:54.225414Z"
    }
   },
   "outputs": [
    {
     "data": {
      "text/plain": [
       "17"
      ]
     },
     "execution_count": 1,
     "metadata": {},
     "output_type": "execute_result"
    }
   ],
   "source": [
    "10 + 7"
   ]
  },
  {
   "cell_type": "code",
   "execution_count": 2,
   "id": "e1ff6f33",
   "metadata": {
    "ExecuteTime": {
     "end_time": "2023-08-29T07:26:58.107971Z",
     "start_time": "2023-08-29T07:26:58.089892Z"
    }
   },
   "outputs": [
    {
     "data": {
      "text/plain": [
       "20"
      ]
     },
     "execution_count": 2,
     "metadata": {},
     "output_type": "execute_result"
    }
   ],
   "source": [
    "_ + 3"
   ]
  },
  {
   "cell_type": "markdown",
   "id": "53cee016",
   "metadata": {},
   "source": [
    "## 무시하는 값\n",
    "  <br>\n",
    "  \n",
    "- 변수는 기본적으로 기억장소를 할당받아 생성된다.\n",
    "- 기억장소의 낭비를 최소화하기 위해 필요없는 변수는 굳이 생성하지 않는다."
   ]
  },
  {
   "cell_type": "code",
   "execution_count": 3,
   "id": "1a1c5330",
   "metadata": {
    "ExecuteTime": {
     "end_time": "2023-08-29T07:28:52.579293Z",
     "start_time": "2023-08-29T07:28:52.561738Z"
    }
   },
   "outputs": [
    {
     "name": "stdout",
     "output_type": "stream",
     "text": [
      "0\n",
      "1\n",
      "2\n",
      "3\n",
      "4\n"
     ]
    }
   ],
   "source": [
    "# range(5) : 0, 1, 2, 3, 4\n",
    "for i in range(5):\n",
    "    print(i)"
   ]
  },
  {
   "cell_type": "code",
   "execution_count": 4,
   "id": "eed3abc7",
   "metadata": {
    "ExecuteTime": {
     "end_time": "2023-08-29T07:29:04.484048Z",
     "start_time": "2023-08-29T07:29:04.472834Z"
    }
   },
   "outputs": [
    {
     "name": "stdout",
     "output_type": "stream",
     "text": [
      "0\n",
      "1\n",
      "2\n",
      "3\n",
      "4\n"
     ]
    }
   ],
   "source": [
    "for _ in range(5):\n",
    "    print(_)"
   ]
  },
  {
   "cell_type": "code",
   "execution_count": 7,
   "id": "f747f8c7",
   "metadata": {
    "ExecuteTime": {
     "end_time": "2023-08-29T07:32:39.079954Z",
     "start_time": "2023-08-29T07:32:39.074883Z"
    }
   },
   "outputs": [
    {
     "name": "stdout",
     "output_type": "stream",
     "text": [
      "[1, 2, 3, 4, 5] 1 2 3 4 5\n"
     ]
    }
   ],
   "source": [
    "# packing : 하나의 변수에 여러개의 값을 담는 행위\n",
    "a = [1, 2, 3, 4, 5]\n",
    "\n",
    "# unpacking : 여러개의 값을 담은 변수를 각각의 변수에 풀어내는 행위\n",
    "aa, bb, cc, dd, ee = a\n",
    "\n",
    "print(a, aa, bb, cc, dd, ee)"
   ]
  },
  {
   "cell_type": "code",
   "execution_count": 8,
   "id": "37c50ec8",
   "metadata": {
    "ExecuteTime": {
     "end_time": "2023-08-29T07:32:40.431926Z",
     "start_time": "2023-08-29T07:32:40.418945Z"
    }
   },
   "outputs": [
    {
     "name": "stdout",
     "output_type": "stream",
     "text": [
      "(1, 2, 3, 4, 5)\n"
     ]
    }
   ],
   "source": [
    "b = 1, 2, 3, 4, 5  # 기본 : 튜플\n",
    "\n",
    "print(b)"
   ]
  },
  {
   "cell_type": "code",
   "execution_count": 9,
   "id": "0ecaff1b",
   "metadata": {
    "ExecuteTime": {
     "end_time": "2023-08-29T07:33:07.854655Z",
     "start_time": "2023-08-29T07:33:07.847645Z"
    }
   },
   "outputs": [
    {
     "name": "stdout",
     "output_type": "stream",
     "text": [
      "(1, 2, 3, 4, 5) 1 2 3 4 5\n"
     ]
    }
   ],
   "source": [
    "aa, bb, _, dd, ee = b\n",
    "\n",
    "print(b, aa, bb, _, dd, ee)"
   ]
  },
  {
   "cell_type": "code",
   "execution_count": 10,
   "id": "44296eb7",
   "metadata": {
    "ExecuteTime": {
     "end_time": "2023-08-29T07:34:19.020674Z",
     "start_time": "2023-08-29T07:34:19.007237Z"
    }
   },
   "outputs": [],
   "source": [
    "# 가변길이 매개변수 : *변수명\n",
    "def adder(a, b):\n",
    "    return a + b"
   ]
  },
  {
   "cell_type": "code",
   "execution_count": 11,
   "id": "38c0dd9b",
   "metadata": {
    "ExecuteTime": {
     "end_time": "2023-08-29T07:34:23.215125Z",
     "start_time": "2023-08-29T07:34:23.198456Z"
    }
   },
   "outputs": [
    {
     "data": {
      "text/plain": [
       "7"
      ]
     },
     "execution_count": 11,
     "metadata": {},
     "output_type": "execute_result"
    }
   ],
   "source": [
    "adder(3, 4)"
   ]
  },
  {
   "cell_type": "code",
   "execution_count": 12,
   "id": "89ee246c",
   "metadata": {
    "ExecuteTime": {
     "end_time": "2023-08-29T07:34:31.575948Z",
     "start_time": "2023-08-29T07:34:31.461613Z"
    }
   },
   "outputs": [
    {
     "ename": "TypeError",
     "evalue": "adder() takes 2 positional arguments but 3 were given",
     "output_type": "error",
     "traceback": [
      "\u001b[1;31m---------------------------------------------------------------------------\u001b[0m",
      "\u001b[1;31mTypeError\u001b[0m                                 Traceback (most recent call last)",
      "\u001b[1;32m<ipython-input-12-b26ce3dfde8a>\u001b[0m in \u001b[0;36m<module>\u001b[1;34m\u001b[0m\n\u001b[1;32m----> 1\u001b[1;33m \u001b[0madder\u001b[0m\u001b[1;33m(\u001b[0m\u001b[1;36m3\u001b[0m\u001b[1;33m,\u001b[0m \u001b[1;36m4\u001b[0m\u001b[1;33m,\u001b[0m \u001b[1;36m5\u001b[0m\u001b[1;33m)\u001b[0m\u001b[1;33m\u001b[0m\u001b[1;33m\u001b[0m\u001b[0m\n\u001b[0m",
      "\u001b[1;31mTypeError\u001b[0m: adder() takes 2 positional arguments but 3 were given"
     ]
    }
   ],
   "source": [
    "adder(3, 4, 5)"
   ]
  },
  {
   "cell_type": "code",
   "execution_count": 17,
   "id": "32ee4010",
   "metadata": {
    "ExecuteTime": {
     "end_time": "2023-08-29T07:37:50.819606Z",
     "start_time": "2023-08-29T07:37:50.814556Z"
    }
   },
   "outputs": [],
   "source": [
    "def adder(*ar):  # 가변길이 매개변수 : *변수명\n",
    "    print(type(ar))\n",
    "    \n",
    "    tot = 0\n",
    "    \n",
    "    for i in ar:\n",
    "        tot += i\n",
    "        \n",
    "    return tot"
   ]
  },
  {
   "cell_type": "code",
   "execution_count": 18,
   "id": "c2d56310",
   "metadata": {
    "ExecuteTime": {
     "end_time": "2023-08-29T07:37:51.204766Z",
     "start_time": "2023-08-29T07:37:51.185857Z"
    }
   },
   "outputs": [
    {
     "name": "stdout",
     "output_type": "stream",
     "text": [
      "<class 'tuple'>\n"
     ]
    },
    {
     "data": {
      "text/plain": [
       "7"
      ]
     },
     "execution_count": 18,
     "metadata": {},
     "output_type": "execute_result"
    }
   ],
   "source": [
    "adder(3, 4)"
   ]
  },
  {
   "cell_type": "code",
   "execution_count": 14,
   "id": "ffd1c389",
   "metadata": {
    "ExecuteTime": {
     "end_time": "2023-08-29T07:36:18.745638Z",
     "start_time": "2023-08-29T07:36:18.734100Z"
    }
   },
   "outputs": [
    {
     "data": {
      "text/plain": [
       "12"
      ]
     },
     "execution_count": 14,
     "metadata": {},
     "output_type": "execute_result"
    }
   ],
   "source": [
    "adder(3, 4, 5)"
   ]
  },
  {
   "cell_type": "code",
   "execution_count": 16,
   "id": "7d70faa6",
   "metadata": {
    "ExecuteTime": {
     "end_time": "2023-08-29T07:36:39.754520Z",
     "start_time": "2023-08-29T07:36:39.749536Z"
    }
   },
   "outputs": [
    {
     "data": {
      "text/plain": [
       "30"
      ]
     },
     "execution_count": 16,
     "metadata": {},
     "output_type": "execute_result"
    }
   ],
   "source": [
    "adder(4, 5, 6, 7, 8)"
   ]
  },
  {
   "cell_type": "code",
   "execution_count": 19,
   "id": "fee3220d",
   "metadata": {
    "ExecuteTime": {
     "end_time": "2023-08-29T07:38:12.774787Z",
     "start_time": "2023-08-29T07:38:12.769774Z"
    }
   },
   "outputs": [],
   "source": [
    "def sample(**ar):  # 사전\n",
    "    print(type(ar))\n",
    "    pass"
   ]
  },
  {
   "cell_type": "code",
   "execution_count": 20,
   "id": "42eca3f4",
   "metadata": {
    "ExecuteTime": {
     "end_time": "2023-08-29T07:38:26.020178Z",
     "start_time": "2023-08-29T07:38:26.008254Z"
    }
   },
   "outputs": [
    {
     "name": "stdout",
     "output_type": "stream",
     "text": [
      "<class 'dict'>\n"
     ]
    }
   ],
   "source": [
    "sample(a = 100, b = 200)"
   ]
  },
  {
   "cell_type": "code",
   "execution_count": 23,
   "id": "cd3c4cf0",
   "metadata": {
    "ExecuteTime": {
     "end_time": "2023-08-29T07:39:52.500348Z",
     "start_time": "2023-08-29T07:39:52.495365Z"
    }
   },
   "outputs": [
    {
     "name": "stdout",
     "output_type": "stream",
     "text": [
      "1 [2, 3, 4] 5\n"
     ]
    }
   ],
   "source": [
    "x = [1, 2, 3, 4, 5]\n",
    "a, *_, c = x\n",
    "\n",
    "print(a, _, c)"
   ]
  },
  {
   "cell_type": "markdown",
   "id": "77dae5d6",
   "metadata": {},
   "source": [
    "## 앞 언더바 1개인 변수 or 함수"
   ]
  },
  {
   "cell_type": "code",
   "execution_count": 35,
   "id": "eff79e8f",
   "metadata": {
    "ExecuteTime": {
     "end_time": "2023-08-29T07:45:30.849247Z",
     "start_time": "2023-08-29T07:45:30.843199Z"
    }
   },
   "outputs": [
    {
     "name": "stdout",
     "output_type": "stream",
     "text": [
      "hi\n"
     ]
    }
   ],
   "source": [
    "from greeting import *\n",
    "hi()"
   ]
  },
  {
   "cell_type": "code",
   "execution_count": 29,
   "id": "79ea7ec8",
   "metadata": {
    "ExecuteTime": {
     "end_time": "2023-08-29T07:44:43.860293Z",
     "start_time": "2023-08-29T07:44:43.854258Z"
    }
   },
   "outputs": [
    {
     "ename": "NameError",
     "evalue": "name 'hello' is not defined",
     "output_type": "error",
     "traceback": [
      "\u001b[1;31m---------------------------------------------------------------------------\u001b[0m",
      "\u001b[1;31mNameError\u001b[0m                                 Traceback (most recent call last)",
      "\u001b[1;32m<ipython-input-29-a75d7781aaeb>\u001b[0m in \u001b[0;36m<module>\u001b[1;34m\u001b[0m\n\u001b[1;32m----> 1\u001b[1;33m \u001b[0mhello\u001b[0m\u001b[1;33m(\u001b[0m\u001b[1;33m)\u001b[0m\u001b[1;33m\u001b[0m\u001b[1;33m\u001b[0m\u001b[0m\n\u001b[0m",
      "\u001b[1;31mNameError\u001b[0m: name 'hello' is not defined"
     ]
    }
   ],
   "source": [
    "hello()"
   ]
  },
  {
   "cell_type": "code",
   "execution_count": 30,
   "id": "fd174d97",
   "metadata": {
    "ExecuteTime": {
     "end_time": "2023-08-29T07:44:44.217756Z",
     "start_time": "2023-08-29T07:44:44.207553Z"
    }
   },
   "outputs": [
    {
     "ename": "NameError",
     "evalue": "name '_hello' is not defined",
     "output_type": "error",
     "traceback": [
      "\u001b[1;31m---------------------------------------------------------------------------\u001b[0m",
      "\u001b[1;31mNameError\u001b[0m                                 Traceback (most recent call last)",
      "\u001b[1;32m<ipython-input-30-62720c717c63>\u001b[0m in \u001b[0;36m<module>\u001b[1;34m\u001b[0m\n\u001b[1;32m----> 1\u001b[1;33m \u001b[0m_hello\u001b[0m\u001b[1;33m(\u001b[0m\u001b[1;33m)\u001b[0m\u001b[1;33m\u001b[0m\u001b[1;33m\u001b[0m\u001b[0m\n\u001b[0m",
      "\u001b[1;31mNameError\u001b[0m: name '_hello' is not defined"
     ]
    }
   ],
   "source": [
    "_hello()"
   ]
  },
  {
   "cell_type": "code",
   "execution_count": 36,
   "id": "920886ef",
   "metadata": {
    "ExecuteTime": {
     "end_time": "2023-08-29T07:45:32.493221Z",
     "start_time": "2023-08-29T07:45:32.482802Z"
    }
   },
   "outputs": [
    {
     "ename": "NameError",
     "evalue": "name 'show' is not defined",
     "output_type": "error",
     "traceback": [
      "\u001b[1;31m---------------------------------------------------------------------------\u001b[0m",
      "\u001b[1;31mNameError\u001b[0m                                 Traceback (most recent call last)",
      "\u001b[1;32m<ipython-input-36-9eb7fa60ac78>\u001b[0m in \u001b[0;36m<module>\u001b[1;34m\u001b[0m\n\u001b[1;32m----> 1\u001b[1;33m \u001b[0mshow\u001b[0m\u001b[1;33m(\u001b[0m\u001b[1;33m)\u001b[0m\u001b[1;33m\u001b[0m\u001b[1;33m\u001b[0m\u001b[0m\n\u001b[0m",
      "\u001b[1;31mNameError\u001b[0m: name 'show' is not defined"
     ]
    }
   ],
   "source": [
    "show()"
   ]
  },
  {
   "cell_type": "code",
   "execution_count": 37,
   "id": "04b655c9",
   "metadata": {
    "ExecuteTime": {
     "end_time": "2023-08-29T07:46:18.316540Z",
     "start_time": "2023-08-29T07:46:18.307570Z"
    }
   },
   "outputs": [],
   "source": [
    "import greeting"
   ]
  },
  {
   "cell_type": "code",
   "execution_count": 38,
   "id": "658cabeb",
   "metadata": {
    "ExecuteTime": {
     "end_time": "2023-08-29T07:46:23.869451Z",
     "start_time": "2023-08-29T07:46:23.858820Z"
    }
   },
   "outputs": [
    {
     "name": "stdout",
     "output_type": "stream",
     "text": [
      "hi\n"
     ]
    }
   ],
   "source": [
    "greeting.hi()"
   ]
  },
  {
   "cell_type": "code",
   "execution_count": 39,
   "id": "e22ce711",
   "metadata": {
    "ExecuteTime": {
     "end_time": "2023-08-29T07:46:32.155615Z",
     "start_time": "2023-08-29T07:46:32.144524Z"
    }
   },
   "outputs": [
    {
     "name": "stdout",
     "output_type": "stream",
     "text": [
      "hello\n"
     ]
    }
   ],
   "source": [
    "greeting._hello()"
   ]
  },
  {
   "cell_type": "code",
   "execution_count": 40,
   "id": "8a09ae44",
   "metadata": {
    "ExecuteTime": {
     "end_time": "2023-08-29T07:46:52.581974Z",
     "start_time": "2023-08-29T07:46:52.571566Z"
    }
   },
   "outputs": [],
   "source": [
    "from greeting import hi, _hello"
   ]
  },
  {
   "cell_type": "code",
   "execution_count": 41,
   "id": "a6b0f76a",
   "metadata": {
    "ExecuteTime": {
     "end_time": "2023-08-29T07:46:55.318912Z",
     "start_time": "2023-08-29T07:46:55.302388Z"
    }
   },
   "outputs": [
    {
     "name": "stdout",
     "output_type": "stream",
     "text": [
      "hi\n"
     ]
    }
   ],
   "source": [
    "hi()"
   ]
  },
  {
   "cell_type": "code",
   "execution_count": 42,
   "id": "8096ad88",
   "metadata": {
    "ExecuteTime": {
     "end_time": "2023-08-29T07:46:59.398583Z",
     "start_time": "2023-08-29T07:46:59.383437Z"
    }
   },
   "outputs": [
    {
     "name": "stdout",
     "output_type": "stream",
     "text": [
      "hello\n"
     ]
    }
   ],
   "source": [
    "_hello()"
   ]
  },
  {
   "cell_type": "markdown",
   "id": "12759274",
   "metadata": {},
   "source": [
    "## 뒤 언더바 1개 : 충돌 회피용"
   ]
  },
  {
   "cell_type": "code",
   "execution_count": 44,
   "id": "7de855a3",
   "metadata": {
    "ExecuteTime": {
     "end_time": "2023-08-29T07:49:20.010723Z",
     "start_time": "2023-08-29T07:49:20.005740Z"
    }
   },
   "outputs": [
    {
     "name": "stdout",
     "output_type": "stream",
     "text": [
      "a =  100\n",
      "a =  100\n",
      "a =  1\n"
     ]
    }
   ],
   "source": [
    "a = 100\n",
    "print('a = ', a)\n",
    "\n",
    "a_ = 1\n",
    "print('a = ', a)\n",
    "print('a = ', a_)"
   ]
  },
  {
   "cell_type": "markdown",
   "id": "988b3bea",
   "metadata": {},
   "source": [
    "## 앞 언더바 2개 :Name Mangling(네임 맹글링)\n",
    "  <br>\n",
    "  \n",
    "- 외부에서 클래스 속성값에 접근을 하지 못하도록 막을 때\n",
    "- 오버라이딩 방지용"
   ]
  },
  {
   "cell_type": "code",
   "execution_count": 57,
   "id": "3abf1900",
   "metadata": {
    "ExecuteTime": {
     "end_time": "2023-08-29T07:58:37.683685Z",
     "start_time": "2023-08-29T07:58:37.666886Z"
    }
   },
   "outputs": [],
   "source": [
    "class Person:\n",
    "    def __init__(self):\n",
    "        self.name = \"홍길동\"\n",
    "        self.age = 25\n",
    "        self.__hobby = \"도둑질\"  # 오버라이딩 할 수 없음\n",
    "        \n",
    "class People(Person):\n",
    "    def __init__(self):\n",
    "        Person.__init__(self)\n",
    "        self.name = \"장보고\"  # 재정의\n",
    "        self.age = 30\n",
    "#         self.__hobby = \"착한짓\""
   ]
  },
  {
   "cell_type": "code",
   "execution_count": 49,
   "id": "fe0c79c7",
   "metadata": {
    "ExecuteTime": {
     "end_time": "2023-08-29T07:56:58.628815Z",
     "start_time": "2023-08-29T07:56:58.620601Z"
    }
   },
   "outputs": [
    {
     "name": "stdout",
     "output_type": "stream",
     "text": [
      "장보고\n"
     ]
    }
   ],
   "source": [
    "c = People()\n",
    "print(c.name)"
   ]
  },
  {
   "cell_type": "code",
   "execution_count": 50,
   "id": "2b855d7e",
   "metadata": {
    "ExecuteTime": {
     "end_time": "2023-08-29T07:57:03.077248Z",
     "start_time": "2023-08-29T07:57:03.061771Z"
    }
   },
   "outputs": [
    {
     "name": "stdout",
     "output_type": "stream",
     "text": [
      "30\n"
     ]
    }
   ],
   "source": [
    "print(c.age)"
   ]
  },
  {
   "cell_type": "code",
   "execution_count": 61,
   "id": "a2a23be8",
   "metadata": {
    "ExecuteTime": {
     "end_time": "2023-08-29T08:15:57.565833Z",
     "start_time": "2023-08-29T08:15:57.549845Z"
    }
   },
   "outputs": [
    {
     "ename": "AttributeError",
     "evalue": "'People' object has no attribute '__hobby'",
     "output_type": "error",
     "traceback": [
      "\u001b[1;31m---------------------------------------------------------------------------\u001b[0m",
      "\u001b[1;31mAttributeError\u001b[0m                            Traceback (most recent call last)",
      "\u001b[1;32m<ipython-input-61-630c4561b3d2>\u001b[0m in \u001b[0;36m<module>\u001b[1;34m\u001b[0m\n\u001b[1;32m----> 1\u001b[1;33m \u001b[0mc\u001b[0m\u001b[1;33m.\u001b[0m\u001b[0m__hobby\u001b[0m\u001b[1;33m\u001b[0m\u001b[1;33m\u001b[0m\u001b[0m\n\u001b[0m",
      "\u001b[1;31mAttributeError\u001b[0m: 'People' object has no attribute '__hobby'"
     ]
    }
   ],
   "source": [
    "c.__hobby"
   ]
  },
  {
   "cell_type": "code",
   "execution_count": 72,
   "id": "92cf2a7d",
   "metadata": {
    "ExecuteTime": {
     "end_time": "2023-08-29T08:30:55.968776Z",
     "start_time": "2023-08-29T08:30:55.959327Z"
    }
   },
   "outputs": [],
   "source": [
    "class Book:\n",
    "    # 멤버 필드\n",
    "#     __country = \"korea\"  # 외부에서 직접 읽어오거나 접근할 수 없다.\n",
    "#     city = \"seoul\"\n",
    "    def __init__(self):\n",
    "        self.__country = 'korea'\n",
    "        self.city = 'seoul'\n",
    "    \n",
    "    # 멤버 메서드\n",
    "    def updateCountry(self, country):\n",
    "        self.__country = country\n",
    "        \n",
    "    def getCountry(self):\n",
    "        return self.__country"
   ]
  },
  {
   "cell_type": "code",
   "execution_count": 63,
   "id": "3dfdda45",
   "metadata": {
    "ExecuteTime": {
     "end_time": "2023-08-29T08:18:53.613350Z",
     "start_time": "2023-08-29T08:18:53.603387Z"
    }
   },
   "outputs": [
    {
     "name": "stdout",
     "output_type": "stream",
     "text": [
      "['_Book__country', '__class__', '__delattr__', '__dict__', '__dir__', '__doc__', '__eq__', '__format__', '__ge__', '__getattribute__', '__gt__', '__hash__', '__init__', '__init_subclass__', '__le__', '__lt__', '__module__', '__ne__', '__new__', '__reduce__', '__reduce_ex__', '__repr__', '__setattr__', '__sizeof__', '__str__', '__subclasshook__', '__weakref__', 'city', 'getCountry', 'updateCountry']\n"
     ]
    }
   ],
   "source": [
    "print(dir(Book))"
   ]
  },
  {
   "cell_type": "code",
   "execution_count": 73,
   "id": "2c155721",
   "metadata": {
    "ExecuteTime": {
     "end_time": "2023-08-29T08:30:57.757256Z",
     "start_time": "2023-08-29T08:30:57.738586Z"
    }
   },
   "outputs": [
    {
     "name": "stdout",
     "output_type": "stream",
     "text": [
      "japan\n",
      "동경\n"
     ]
    }
   ],
   "source": [
    "book = Book()\n",
    "book.__country = 'japan'\n",
    "book.city = '동경'\n",
    "\n",
    "print(book.__country)\n",
    "print(book.city)"
   ]
  },
  {
   "cell_type": "markdown",
   "id": "280daa1e",
   "metadata": {},
   "source": [
    "#  클로저\n",
    "  <br>\n",
    "  \n",
    "- 중첩함수 : 함수안에 또 다른 함수를 포함하고 있는 것"
   ]
  },
  {
   "cell_type": "code",
   "execution_count": 74,
   "id": "94b0b02f",
   "metadata": {
    "ExecuteTime": {
     "end_time": "2023-08-29T08:35:24.933404Z",
     "start_time": "2023-08-29T08:35:24.914370Z"
    }
   },
   "outputs": [],
   "source": [
    "def calc():\n",
    "    a = 3\n",
    "    b = 5\n",
    "    \n",
    "    def mul_add(x):  # mul_add 함수 호출과 동시에 calc함수 종료\n",
    "        return a * x + b\n",
    "    \n",
    "    return mul_add"
   ]
  },
  {
   "cell_type": "code",
   "execution_count": 76,
   "id": "f8e19dea",
   "metadata": {
    "ExecuteTime": {
     "end_time": "2023-08-29T08:35:33.551112Z",
     "start_time": "2023-08-29T08:35:33.548109Z"
    }
   },
   "outputs": [
    {
     "name": "stdout",
     "output_type": "stream",
     "text": [
      "<function calc.<locals>.mul_add at 0x000001EEB9D33DC0>\n"
     ]
    }
   ],
   "source": [
    "c = calc()\n",
    "print(c)"
   ]
  },
  {
   "cell_type": "code",
   "execution_count": 77,
   "id": "d725b2ba",
   "metadata": {
    "ExecuteTime": {
     "end_time": "2023-08-29T08:38:37.117122Z",
     "start_time": "2023-08-29T08:38:37.099350Z"
    }
   },
   "outputs": [],
   "source": [
    "def calc():\n",
    "    a = 3\n",
    "    b = 5\n",
    "    \n",
    "    return lambda x : a * x + b"
   ]
  },
  {
   "cell_type": "code",
   "execution_count": 80,
   "id": "f445b565",
   "metadata": {
    "ExecuteTime": {
     "end_time": "2023-08-29T08:39:46.431103Z",
     "start_time": "2023-08-29T08:39:46.415529Z"
    }
   },
   "outputs": [
    {
     "data": {
      "text/plain": [
       "8"
      ]
     },
     "execution_count": 80,
     "metadata": {},
     "output_type": "execute_result"
    }
   ],
   "source": [
    "c = calc()  # 함수의 객체를 c라는 변수로 받음\n",
    "c(1)  # x값을 담아줘야함"
   ]
  }
 ],
 "metadata": {
  "kernelspec": {
   "display_name": "Python 3",
   "language": "python",
   "name": "python3"
  },
  "language_info": {
   "codemirror_mode": {
    "name": "ipython",
    "version": 3
   },
   "file_extension": ".py",
   "mimetype": "text/x-python",
   "name": "python",
   "nbconvert_exporter": "python",
   "pygments_lexer": "ipython3",
   "version": "3.8.8"
  },
  "toc": {
   "base_numbering": 1,
   "nav_menu": {},
   "number_sections": true,
   "sideBar": true,
   "skip_h1_title": false,
   "title_cell": "Table of Contents",
   "title_sidebar": "Contents",
   "toc_cell": false,
   "toc_position": {
    "height": "calc(100% - 180px)",
    "left": "10px",
    "top": "150px",
    "width": "314px"
   },
   "toc_section_display": true,
   "toc_window_display": true
  }
 },
 "nbformat": 4,
 "nbformat_minor": 5
}
