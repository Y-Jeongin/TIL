{
 "cells": [
  {
   "cell_type": "markdown",
   "id": "58ecc298",
   "metadata": {},
   "source": [
    "# 표준 입력함수 : input()\n",
    "\n",
    "- 파이썬에서 기본적으로 데이터를 키보드로 입력할 때 사용하는 함수 : 콘솔(console) 환경\n",
    "- input함수는 입력되는 모든 것을 문자열로 취급한다.\n",
    "- 형식 : 변수 = input()"
   ]
  },
  {
   "cell_type": "code",
   "execution_count": 1,
   "id": "29045446",
   "metadata": {
    "ExecuteTime": {
     "end_time": "2023-08-22T02:43:04.818863Z",
     "start_time": "2023-08-22T02:42:51.011383Z"
    }
   },
   "outputs": [
    {
     "name": "stdout",
     "output_type": "stream",
     "text": [
      "hello\n",
      "hello\n"
     ]
    }
   ],
   "source": [
    "# '=' 연산자의 연산방향은 오른쪽에서 왼쪽이다. x = 9\n",
    "# '+' 연산자의 연산방향은 좌에서 우다. 10 + 3\n",
    "a = input()\n",
    "print(a)"
   ]
  },
  {
   "cell_type": "code",
   "execution_count": 2,
   "id": "7ed9d39c",
   "metadata": {
    "ExecuteTime": {
     "end_time": "2023-08-22T02:44:36.726779Z",
     "start_time": "2023-08-22T02:44:28.564080Z"
    }
   },
   "outputs": [
    {
     "name": "stdout",
     "output_type": "stream",
     "text": [
      "숫자입력 : 123\n",
      "입력받은 숫자 :  123\n"
     ]
    }
   ],
   "source": [
    "# input(message)\n",
    "b = input(\"숫자입력 : \")\n",
    "print(\"입력받은 숫자 : \", b)"
   ]
  },
  {
   "cell_type": "code",
   "execution_count": 4,
   "id": "9c8ddfda",
   "metadata": {
    "ExecuteTime": {
     "end_time": "2023-08-22T02:49:48.062086Z",
     "start_time": "2023-08-22T02:49:46.285127Z"
    }
   },
   "outputs": [
    {
     "name": "stdout",
     "output_type": "stream",
     "text": [
      "반지름 : 5\n",
      "원의 둘레 :  31.400000000000002\n",
      "원의 면적 :  78.5\n"
     ]
    }
   ],
   "source": [
    "# 반지름을 입력받아 원의 면적과 둘레를 계산하는 프로그램을 구현하시오.\n",
    "\n",
    "## 선언문 = 초기화(변수의 처음값을 담는 역할을 수행하는 문장)\n",
    "pi = 3.14\n",
    "\n",
    "## 입력문\n",
    "r = int(input(\"반지름 : \"))  # 문자열로 취급하기때문에 정수형으로 변환\n",
    "\n",
    "## 처리문\n",
    "\n",
    "## 출력문\n",
    "print(\"원의 둘레 : \", 2 * pi * r)\n",
    "print(\"원의 면적 : \", r * r * pi)"
   ]
  },
  {
   "cell_type": "code",
   "execution_count": 8,
   "id": "c2205f01",
   "metadata": {
    "ExecuteTime": {
     "end_time": "2023-08-22T02:55:14.518684Z",
     "start_time": "2023-08-22T02:55:11.900027Z"
    }
   },
   "outputs": [
    {
     "name": "stdout",
     "output_type": "stream",
     "text": [
      "첫번째 숫자 : 3\n",
      "두번째 숫자 : 8\n",
      "합 :  11\n",
      "곱 :  24\n"
     ]
    }
   ],
   "source": [
    "# 두 개의 숫자를 입력받아 합과 곱을 출력하는 프로그램을 구현하시오.\n",
    "\n",
    "## 입력문\n",
    "su1 = int(input('첫번째 숫자 : '))\n",
    "su2 = int(input('두번째 숫자 : '))\n",
    "\n",
    "## 처리문\n",
    "hap = su1 + su2\n",
    "gob = su1 * su2\n",
    "\n",
    "## 출력문\n",
    "print(\"합 : \", hap)\n",
    "print(\"곱 : \", gob)"
   ]
  },
  {
   "cell_type": "markdown",
   "id": "12501d74",
   "metadata": {},
   "source": [
    "## 여러 값을 한번에 입력받는 함수\n",
    "- split() : 특정 문자를 기준으로 문자열을 잘라내는 함수\n",
    "- map() : map(변환함수, 반복가능한 객체)"
   ]
  },
  {
   "cell_type": "code",
   "execution_count": 9,
   "id": "467d9c0b",
   "metadata": {
    "ExecuteTime": {
     "end_time": "2023-08-22T02:57:43.146499Z",
     "start_time": "2023-08-22T02:57:16.724594Z"
    }
   },
   "outputs": [
    {
     "name": "stdout",
     "output_type": "stream",
     "text": [
      "1 2 3 4 5 6 7 8 9 10\n",
      "1 2 3 4 5 6 7 8 9 10\n"
     ]
    }
   ],
   "source": [
    "num = input()\n",
    "print(num)"
   ]
  },
  {
   "cell_type": "code",
   "execution_count": 10,
   "id": "52e36471",
   "metadata": {
    "ExecuteTime": {
     "end_time": "2023-08-22T02:59:34.395201Z",
     "start_time": "2023-08-22T02:59:29.565216Z"
    }
   },
   "outputs": [
    {
     "name": "stdout",
     "output_type": "stream",
     "text": [
      "1 2 3 4 5 6 7 8 9 10\n",
      "['1', '2', '3', '4', '5', '6', '7', '8', '9', '10']\n"
     ]
    }
   ],
   "source": [
    "# split() 함수의 기본은 공백을 기준으로 잘라낸다.\n",
    "num = input().split()\n",
    "print(num)  # 리스트 자료형에 담아서 반환한다."
   ]
  },
  {
   "cell_type": "code",
   "execution_count": 11,
   "id": "60bdb69c",
   "metadata": {
    "ExecuteTime": {
     "end_time": "2023-08-22T03:02:05.206391Z",
     "start_time": "2023-08-22T03:01:58.539934Z"
    }
   },
   "outputs": [
    {
     "name": "stdout",
     "output_type": "stream",
     "text": [
      "1 2 3 4 5\n",
      "<map object at 0x0000025FFEF52070>\n"
     ]
    }
   ],
   "source": [
    "num = map(int, input().split())  # map 객체로 반환된다(주소반환).\n",
    "print(num)"
   ]
  },
  {
   "cell_type": "code",
   "execution_count": 12,
   "id": "ba15d1a9",
   "metadata": {
    "ExecuteTime": {
     "end_time": "2023-08-22T03:03:56.444555Z",
     "start_time": "2023-08-22T03:03:54.423217Z"
    }
   },
   "outputs": [
    {
     "name": "stdout",
     "output_type": "stream",
     "text": [
      "1 2 3 4 5\n",
      "[1, 2, 3, 4, 5]\n"
     ]
    }
   ],
   "source": [
    "# list(리스트)는 1차원 배열을 의미하는 자료형으로 R에서 Vector형식을 갖는다.\n",
    "num = list(map(int, input().split()))\n",
    "print(num)"
   ]
  },
  {
   "cell_type": "code",
   "execution_count": 13,
   "id": "4e4a25dc",
   "metadata": {
    "ExecuteTime": {
     "end_time": "2023-08-22T03:33:42.619540Z",
     "start_time": "2023-08-22T03:33:42.608529Z"
    }
   },
   "outputs": [
    {
     "name": "stdout",
     "output_type": "stream",
     "text": [
      "Help on method raw_input in module ipykernel.kernelbase:\n",
      "\n",
      "raw_input(prompt='') method of ipykernel.ipkernel.IPythonKernel instance\n",
      "    Forward raw_input to frontends\n",
      "    \n",
      "    Raises\n",
      "    ------\n",
      "    StdinNotImplentedError if active frontend doesn't support stdin.\n",
      "\n"
     ]
    }
   ],
   "source": [
    "# 함수의 도움말을 확인할 때 help()\n",
    "help(input)"
   ]
  },
  {
   "cell_type": "markdown",
   "id": "896b007e",
   "metadata": {},
   "source": [
    "# 표준 출력함수 : print()\n",
    "\n",
    "- 기본형 : print(\"출력내용\")\n",
    "- print(a, b, c)"
   ]
  },
  {
   "cell_type": "markdown",
   "id": "705c2cea",
   "metadata": {},
   "source": [
    "## 형식화된 문자열을 이용한 출력\n",
    "\n",
    "- 형식 : 형식화된 문자열. foramt(변수)"
   ]
  },
  {
   "cell_type": "code",
   "execution_count": 14,
   "id": "1f1ee48c",
   "metadata": {
    "ExecuteTime": {
     "end_time": "2023-08-22T03:36:10.316132Z",
     "start_time": "2023-08-22T03:36:10.304152Z"
    }
   },
   "outputs": [
    {
     "name": "stdout",
     "output_type": "stream",
     "text": [
      "9\n",
      "x =  9\n"
     ]
    }
   ],
   "source": [
    "x = 9\n",
    "print(x)\n",
    "print(\"x = \", x)"
   ]
  },
  {
   "cell_type": "code",
   "execution_count": 17,
   "id": "760b9330",
   "metadata": {
    "ExecuteTime": {
     "end_time": "2023-08-22T03:39:28.629187Z",
     "start_time": "2023-08-22T03:39:28.626152Z"
    }
   },
   "outputs": [
    {
     "name": "stdout",
     "output_type": "stream",
     "text": [
      "정수1 : 9\n",
      "결과 : 243\n",
      "덧셈 : 18, 곱셈 : 81\n"
     ]
    }
   ],
   "source": [
    "print(\"정수1 : {0}\".format(x))\n",
    "print(\"결과 : {}\".format(3**5))\n",
    "print(\"덧셈 : {0}, 곱셈 : {1}\".format(x+x, x*x))"
   ]
  },
  {
   "cell_type": "code",
   "execution_count": 20,
   "id": "11b66a5c",
   "metadata": {
    "ExecuteTime": {
     "end_time": "2023-08-22T03:42:24.095519Z",
     "start_time": "2023-08-22T03:42:24.087125Z"
    }
   },
   "outputs": [],
   "source": [
    "name = '홍길동'\n",
    "age = 23\n",
    "gender = 'M'"
   ]
  },
  {
   "cell_type": "code",
   "execution_count": 19,
   "id": "f26130a1",
   "metadata": {
    "ExecuteTime": {
     "end_time": "2023-08-22T03:40:56.350794Z",
     "start_time": "2023-08-22T03:40:56.343747Z"
    }
   },
   "outputs": [
    {
     "name": "stdout",
     "output_type": "stream",
     "text": [
      "홍길동님의 나이는 23세이고 성별은 남자입니다.\n"
     ]
    }
   ],
   "source": [
    "print(\"홍길동님의 나이는 23세이고 성별은 남자입니다.\")"
   ]
  },
  {
   "cell_type": "code",
   "execution_count": 25,
   "id": "741c1f52",
   "metadata": {
    "ExecuteTime": {
     "end_time": "2023-08-22T03:45:09.267239Z",
     "start_time": "2023-08-22T03:45:09.235650Z"
    }
   },
   "outputs": [
    {
     "name": "stdout",
     "output_type": "stream",
     "text": [
      "홍길동님의 나이는 23세이고 성별은 M입니다.\n"
     ]
    }
   ],
   "source": [
    "print(\"%s님의 나이는 %d세이고 성별은 %c입니다.\" %(name, age, gender))"
   ]
  },
  {
   "cell_type": "code",
   "execution_count": 26,
   "id": "293cee36",
   "metadata": {
    "ExecuteTime": {
     "end_time": "2023-08-22T03:46:23.377772Z",
     "start_time": "2023-08-22T03:46:23.368082Z"
    }
   },
   "outputs": [
    {
     "data": {
      "text/plain": [
       "3.074074074074074"
      ]
     },
     "execution_count": 26,
     "metadata": {},
     "output_type": "execute_result"
    }
   ],
   "source": [
    "x = 8.3 / 2.7\n",
    "x"
   ]
  },
  {
   "cell_type": "code",
   "execution_count": 27,
   "id": "6f1c4515",
   "metadata": {
    "ExecuteTime": {
     "end_time": "2023-08-22T03:46:53.227271Z",
     "start_time": "2023-08-22T03:46:53.220100Z"
    }
   },
   "outputs": [
    {
     "name": "stdout",
     "output_type": "stream",
     "text": [
      "결과 : 3.074074\n"
     ]
    }
   ],
   "source": [
    "print(\"결과 : %f\" %x)  # f : 소수점 여섯째자리까지 출력"
   ]
  },
  {
   "cell_type": "code",
   "execution_count": 28,
   "id": "77355b6d",
   "metadata": {
    "ExecuteTime": {
     "end_time": "2023-08-22T03:47:22.625816Z",
     "start_time": "2023-08-22T03:47:22.619744Z"
    }
   },
   "outputs": [
    {
     "name": "stdout",
     "output_type": "stream",
     "text": [
      "결과 : 3.07\n"
     ]
    }
   ],
   "source": [
    "print(\"결과 : %.2f\" %x)  # 2f : 소수점자리 둘째자리까지 출력"
   ]
  },
  {
   "cell_type": "code",
   "execution_count": 30,
   "id": "a783a5a4",
   "metadata": {
    "ExecuteTime": {
     "end_time": "2023-08-22T03:48:41.694107Z",
     "start_time": "2023-08-22T03:48:41.685057Z"
    }
   },
   "outputs": [
    {
     "name": "stdout",
     "output_type": "stream",
     "text": [
      "a = 10, b = 20\n",
      "a = 10, b = 20\n"
     ]
    }
   ],
   "source": [
    "a = 10\n",
    "b = 20\n",
    "\n",
    "print(\"a = {}, b = {}\".format(a, b))\n",
    "print(\"a = {0}, b = {1}\".format(a, b))"
   ]
  },
  {
   "cell_type": "code",
   "execution_count": 31,
   "id": "e2a04013",
   "metadata": {
    "ExecuteTime": {
     "end_time": "2023-08-22T03:49:10.629195Z",
     "start_time": "2023-08-22T03:49:10.613816Z"
    }
   },
   "outputs": [
    {
     "name": "stdout",
     "output_type": "stream",
     "text": [
      "a = 10, b = 20\n"
     ]
    }
   ],
   "source": [
    "print(\"a = {1}, b = {0}\".format(b, a))"
   ]
  },
  {
   "cell_type": "code",
   "execution_count": 32,
   "id": "79679a5e",
   "metadata": {
    "ExecuteTime": {
     "end_time": "2023-08-22T05:10:27.672413Z",
     "start_time": "2023-08-22T05:10:27.657846Z"
    }
   },
   "outputs": [
    {
     "name": "stdout",
     "output_type": "stream",
     "text": [
      "실수 1 : 3.074\n"
     ]
    }
   ],
   "source": [
    "# 형식화된 문자열.foramt()\n",
    "print(\"실수 1 : {0:.3f}\".format(8.3 / 2.7))"
   ]
  },
  {
   "cell_type": "code",
   "execution_count": 37,
   "id": "f67a43cc",
   "metadata": {
    "ExecuteTime": {
     "end_time": "2023-08-22T05:12:18.034900Z",
     "start_time": "2023-08-22T05:12:18.024226Z"
    }
   },
   "outputs": [
    {
     "name": "stdout",
     "output_type": "stream",
     "text": [
      "실수값 : 12.00\n"
     ]
    }
   ],
   "source": [
    "y = 2.5 * 4.8\n",
    "print(\"실수값 : {0:5.2f}\".format(y))"
   ]
  },
  {
   "cell_type": "code",
   "execution_count": 41,
   "id": "09284368",
   "metadata": {
    "ExecuteTime": {
     "end_time": "2023-08-22T05:14:03.004798Z",
     "start_time": "2023-08-22T05:14:02.998808Z"
    }
   },
   "outputs": [
    {
     "name": "stdout",
     "output_type": "stream",
     "text": [
      "실수 1 : 3.074074074074074\n",
      "실수 1 : 3.074074074074074\n",
      "실수 1 : 3.074\n",
      "실수 1 : 3.1\n",
      "실수 1 : 3.07\n",
      "실수 1 : 3.0741\n",
      "실수 1 :     3.0741\n"
     ]
    }
   ],
   "source": [
    "print(\"실수 1 : {}\".format(8.3 / 2.7))\n",
    "print(\"실수 1 : {0}\".format(8.3 / 2.7))\n",
    "print(\"실수 1 : {0:.3f}\".format(8.3 / 2.7))\n",
    "print(\"실수 1 : {0:.1f}\".format(8.3 / 2.7))\n",
    "print(\"실수 1 : {0:.2f}\".format(8.3 / 2.7))\n",
    "print(\"실수 1 : {0:.4f}\".format(8.3 / 2.7))\n",
    "print(\"실수 1 : {0:10.4f}\".format(8.3 / 2.7))"
   ]
  },
  {
   "cell_type": "markdown",
   "id": "85ce05b8",
   "metadata": {},
   "source": [
    "## 서식기호를 이용한 출력"
   ]
  },
  {
   "cell_type": "code",
   "execution_count": 42,
   "id": "6358465a",
   "metadata": {
    "ExecuteTime": {
     "end_time": "2023-08-22T05:17:20.042324Z",
     "start_time": "2023-08-22T05:17:20.025336Z"
    }
   },
   "outputs": [
    {
     "name": "stdout",
     "output_type": "stream",
     "text": [
      "현재 시간은 12입니다.\n"
     ]
    }
   ],
   "source": [
    "# %s : 문자열\n",
    "# %c : 문자\n",
    "# %d : 정수\n",
    "# %f : 실수\n",
    "\n",
    "num = 12\n",
    "print(\"현재 시간은 %d입니다.\" % num)"
   ]
  },
  {
   "cell_type": "code",
   "execution_count": 43,
   "id": "433faf11",
   "metadata": {
    "ExecuteTime": {
     "end_time": "2023-08-22T05:18:25.248040Z",
     "start_time": "2023-08-22T05:18:25.234849Z"
    }
   },
   "outputs": [
    {
     "name": "stdout",
     "output_type": "stream",
     "text": [
      "현재 시간은 14시 17분입니다.\n"
     ]
    }
   ],
   "source": [
    "hour = 14\n",
    "minute = 17\n",
    "print(\"현재 시간은 %d시 %d분입니다.\" % (hour, minute))"
   ]
  },
  {
   "cell_type": "code",
   "execution_count": 45,
   "id": "0ce1b6d7",
   "metadata": {
    "ExecuteTime": {
     "end_time": "2023-08-22T05:20:26.991657Z",
     "start_time": "2023-08-22T05:20:26.976751Z"
    }
   },
   "outputs": [
    {
     "name": "stdout",
     "output_type": "stream",
     "text": [
      "길동님의 키는 180이고, 몸무게는 78.50입니다.\n"
     ]
    }
   ],
   "source": [
    "name = \"길동\"\n",
    "height = 180\n",
    "weight = 78.5\n",
    "print(\"%s님의 키는 %d이고, 몸무게는 %.2f입니다.\" % (name, height, weight))"
   ]
  },
  {
   "cell_type": "code",
   "execution_count": 47,
   "id": "23fcdd17",
   "metadata": {
    "ExecuteTime": {
     "end_time": "2023-08-22T05:21:39.529223Z",
     "start_time": "2023-08-22T05:21:39.515706Z"
    }
   },
   "outputs": [
    {
     "name": "stdout",
     "output_type": "stream",
     "text": [
      "숫자 출력        100\n",
      "숫자 출력      10000\n",
      "숫자 출력 10000     \n"
     ]
    }
   ],
   "source": [
    "# 서식지정자(%)와 서식기호 사이에 숫자는 자리수를 의미한다.\n",
    "## 기본적으로 숫자는 오른쪽 정렬 : 정렬(양수와 음수)\n",
    "print(\"숫자 출력 %10d\" % 100)\n",
    "print(\"숫자 출력 %10d\" % 10000)\n",
    "print(\"숫자 출력 %-10d\" % 10000)"
   ]
  },
  {
   "cell_type": "code",
   "execution_count": 48,
   "id": "29993119",
   "metadata": {
    "ExecuteTime": {
     "end_time": "2023-08-22T05:25:07.796755Z",
     "start_time": "2023-08-22T05:25:07.786904Z"
    }
   },
   "outputs": [
    {
     "name": "stdout",
     "output_type": "stream",
     "text": [
      "John is programmer\n"
     ]
    }
   ],
   "source": [
    "print(\"{name} is {job}\".format(name = 'John', job = \"programmer\"))"
   ]
  },
  {
   "cell_type": "code",
   "execution_count": 49,
   "id": "8ae2f647",
   "metadata": {
    "ExecuteTime": {
     "end_time": "2023-08-22T05:26:58.328359Z",
     "start_time": "2023-08-22T05:26:58.315690Z"
    }
   },
   "outputs": [
    {
     "name": "stdout",
     "output_type": "stream",
     "text": [
      "John is studying\n"
     ]
    }
   ],
   "source": [
    "# 파이썬 3.6부터는 문자열 포매팅에 변수를 그래도 사용할 수 있다.\n",
    "# 문자열 앞에 문자열 포매팅이라는 의미로 f를 붙여준다.\n",
    "name = 'John'\n",
    "job = \"studying\"\n",
    "print(f'{name} is {job}')"
   ]
  },
  {
   "cell_type": "code",
   "execution_count": 55,
   "id": "91cd0f3b",
   "metadata": {
    "ExecuteTime": {
     "end_time": "2023-08-22T05:32:05.077961Z",
     "start_time": "2023-08-22T05:32:05.064671Z"
    }
   },
   "outputs": [
    {
     "name": "stdout",
     "output_type": "stream",
     "text": [
      "hi\n",
      "hi        \n",
      "        hi\n",
      "hi        \n",
      "    hi    \n",
      "====hi====\n"
     ]
    }
   ],
   "source": [
    "# 문자 정렬은 기본이 왼쪽 정렬이다.\n",
    "# 인덱스뒤에 :>(숫자)\n",
    "\n",
    "print('{0}'.format('hi'))\n",
    "print('{0:10}'.format('hi'))\n",
    "print('{0:>10s}'.format('hi'))  # > : 오른쪽 정렬\n",
    "print('{0:<10s}'.format('hi'))  # < : 왼쪽 정렬\n",
    "print('{0:^10s}'.format('hi'))  # ^ : 가운데 정렬\n",
    "print('{0:=^10s}'.format('hi'))  # = : 빈공간을 '='로 채우기"
   ]
  },
  {
   "cell_type": "code",
   "execution_count": 56,
   "id": "1c879060",
   "metadata": {
    "ExecuteTime": {
     "end_time": "2023-08-22T05:33:33.868497Z",
     "start_time": "2023-08-22T05:33:33.856635Z"
    }
   },
   "outputs": [
    {
     "name": "stdout",
     "output_type": "stream",
     "text": [
      "     4.200\n"
     ]
    }
   ],
   "source": [
    "x = 4.2\n",
    "print(f\"{x:10.3f}\")"
   ]
  },
  {
   "cell_type": "code",
   "execution_count": 57,
   "id": "1d8f8921",
   "metadata": {
    "ExecuteTime": {
     "end_time": "2023-08-22T05:37:03.578234Z",
     "start_time": "2023-08-22T05:37:03.563206Z"
    }
   },
   "outputs": [
    {
     "name": "stdout",
     "output_type": "stream",
     "text": [
      "x = 100, y = 200\n",
      "x = 200, y = 100\n"
     ]
    }
   ],
   "source": [
    "# swqp : 자리바꿈\n",
    "x = 100\n",
    "y = 200\n",
    "print(\"x = %d, y = %d\" % (x, y))\n",
    "\n",
    "# 변수는 하나의 값을 담는 기억공간, 새로운 값이 들어오면 그전값은 지워진다.\n",
    "temp = x\n",
    "x = y\n",
    "y= temp\n",
    "print(\"x = %d, y = %d\" % (x, y))"
   ]
  },
  {
   "cell_type": "code",
   "execution_count": 58,
   "id": "2a88a713",
   "metadata": {
    "ExecuteTime": {
     "end_time": "2023-08-22T05:37:23.519081Z",
     "start_time": "2023-08-22T05:37:23.512100Z"
    }
   },
   "outputs": [
    {
     "name": "stdout",
     "output_type": "stream",
     "text": [
      "x = 100, y = 200\n",
      "x = 200, y = 100\n"
     ]
    }
   ],
   "source": [
    "# swqp : 자리바꿈\n",
    "x = 100\n",
    "y = 200\n",
    "print(\"x = %d, y = %d\" % (x, y))\n",
    "\n",
    "x, y = y, x  # x , y = (y, x)\n",
    "print(\"x = %d, y = %d\" % (x, y))"
   ]
  },
  {
   "cell_type": "code",
   "execution_count": 59,
   "id": "b86f64c9",
   "metadata": {
    "ExecuteTime": {
     "end_time": "2023-08-22T05:40:34.876260Z",
     "start_time": "2023-08-22T05:40:34.868137Z"
    }
   },
   "outputs": [
    {
     "data": {
      "text/plain": [
       "(1, 2, 3, 4, 5)"
      ]
     },
     "execution_count": 59,
     "metadata": {},
     "output_type": "execute_result"
    }
   ],
   "source": [
    "# 파이썬의 자료구조 : 리스트, 튜플, 집함(셋), 딕셔너리, 데이터프레임\n",
    "# 자료구조 : 하나 이상의 데이터를 담아서 관리하는 공간\n",
    "\n",
    "## 패킹(packing)과 언패킹(unpacking)\n",
    "\n",
    "x = 1, 2, 3, 4, 5  # 패킹 : 여러개의 변수를 하나의 값으로 묶음. x = (1, 2, 3, 4, 5), tuple\n",
    "x"
   ]
  },
  {
   "cell_type": "code",
   "execution_count": 61,
   "id": "836a8dd9",
   "metadata": {
    "ExecuteTime": {
     "end_time": "2023-08-22T05:41:54.080215Z",
     "start_time": "2023-08-22T05:41:54.066899Z"
    }
   },
   "outputs": [
    {
     "name": "stdout",
     "output_type": "stream",
     "text": [
      "1 2 3 4 5\n"
     ]
    }
   ],
   "source": [
    "a, b, c, d, e = x  # 언패킹\n",
    "print(a, b, c, d, e)"
   ]
  },
  {
   "cell_type": "code",
   "execution_count": 62,
   "id": "353dc013",
   "metadata": {
    "ExecuteTime": {
     "end_time": "2023-08-22T05:43:10.247303Z",
     "start_time": "2023-08-22T05:43:10.238022Z"
    }
   },
   "outputs": [
    {
     "ename": "ValueError",
     "evalue": "too many values to unpack (expected 3)",
     "output_type": "error",
     "traceback": [
      "\u001b[1;31m---------------------------------------------------------------------------\u001b[0m",
      "\u001b[1;31mValueError\u001b[0m                                Traceback (most recent call last)",
      "\u001b[1;32m<ipython-input-62-db40177a52c1>\u001b[0m in \u001b[0;36m<module>\u001b[1;34m\u001b[0m\n\u001b[1;32m----> 1\u001b[1;33m \u001b[0mx1\u001b[0m\u001b[1;33m,\u001b[0m \u001b[0mx2\u001b[0m\u001b[1;33m,\u001b[0m \u001b[0mx3\u001b[0m \u001b[1;33m=\u001b[0m \u001b[0mx\u001b[0m\u001b[1;33m\u001b[0m\u001b[1;33m\u001b[0m\u001b[0m\n\u001b[0m\u001b[0;32m      2\u001b[0m \u001b[0mprint\u001b[0m\u001b[1;33m(\u001b[0m\u001b[0mx1\u001b[0m\u001b[1;33m,\u001b[0m \u001b[0mx2\u001b[0m\u001b[1;33m,\u001b[0m \u001b[0mx3\u001b[0m\u001b[1;33m)\u001b[0m\u001b[1;33m\u001b[0m\u001b[1;33m\u001b[0m\u001b[0m\n",
      "\u001b[1;31mValueError\u001b[0m: too many values to unpack (expected 3)"
     ]
    }
   ],
   "source": [
    "x1, x2, x3 = x\n",
    "print(x1, x2, x3)"
   ]
  },
  {
   "cell_type": "code",
   "execution_count": 66,
   "id": "93a5ffe7",
   "metadata": {
    "ExecuteTime": {
     "end_time": "2023-08-22T05:52:47.467827Z",
     "start_time": "2023-08-22T05:52:45.819523Z"
    }
   },
   "outputs": [
    {
     "name": "stdout",
     "output_type": "stream",
     "text": [
      "숫자 = 10 20\n",
      "10 + 20 = 30\n"
     ]
    }
   ],
   "source": [
    "# 두 개의 정수를 입력받아 샃칙연산의 결과를 출력하는 프로그램을 구현하시오.\n",
    "\n",
    "## 입력형식\n",
    "## 숫자 = 10 20\n",
    "\n",
    "## 출력형식\n",
    "## 10 + 20 = 30\n",
    "## 10 - 20 = -10\n",
    "## 10 * 20 = 300\n",
    "## 10 / 20 = 0.5\n",
    "\n",
    "### 입력문\n",
    "su1, su2 = map(int, input(\"숫자 = \").split())\n",
    "\n",
    "### 처리문\n",
    "\n",
    "### 출력문\n",
    "print(f\"{su1} + {su2} = {su1 + su2}\")"
   ]
  },
  {
   "cell_type": "markdown",
   "id": "b8d61abc",
   "metadata": {},
   "source": [
    "### 성적처리 프로그램 1단계\n",
    "\n",
    "국어, 영어, 수학점수를 입력받아 총점과 평균을 출력하는 프로그램을 구현하시오.\n",
    "단, 평균은 소수점이하 둘째자리까지 표현할 것"
   ]
  },
  {
   "cell_type": "code",
   "execution_count": null,
   "id": "197f81c3",
   "metadata": {},
   "outputs": [],
   "source": [
    "# 입력형식\n",
    "## 국어 = \n",
    "## 영어 = \n",
    "## 수학 = \n",
    "\n",
    "# 출력형식\n",
    "## 총점 : xx점, 평균 : xx,xx점"
   ]
  },
  {
   "cell_type": "code",
   "execution_count": 67,
   "id": "0d4e34ca",
   "metadata": {
    "ExecuteTime": {
     "end_time": "2023-08-22T06:14:04.423018Z",
     "start_time": "2023-08-22T06:13:46.234083Z"
    }
   },
   "outputs": [
    {
     "name": "stdout",
     "output_type": "stream",
     "text": [
      "국어 = 90\n",
      "영어 = 88\n",
      "수학 = 72\n",
      "총점 : 250점, 평균 : 83.33점\n"
     ]
    }
   ],
   "source": [
    "# 입력형식\n",
    "ko = int(input(\"국어 = \"))\n",
    "eng = int(input(\"영어 = \"))\n",
    "math = int(input(\"수학 = \"))\n",
    "\n",
    "tot = ko + eng + math\n",
    "avg = tot / 3\n",
    "\n",
    "# 출력형식\n",
    "print(\"총점 : {0}점, 평균 : {1:.2f}점\".format(tot, avg))"
   ]
  },
  {
   "cell_type": "code",
   "execution_count": 69,
   "id": "f1e02db0",
   "metadata": {
    "ExecuteTime": {
     "end_time": "2023-08-22T06:16:16.030189Z",
     "start_time": "2023-08-22T06:16:10.843716Z"
    }
   },
   "outputs": [
    {
     "name": "stdout",
     "output_type": "stream",
     "text": [
      "90 88 72\n",
      "총점 : 250점, 평균 : 83.33점\n"
     ]
    }
   ],
   "source": [
    "ko, eng, math = map(int, input().split())\n",
    "\n",
    "tot = ko + eng + math\n",
    "avg = tot / 3\n",
    "\n",
    "print(f\"총점 : {tot}점, 평균 : {avg:.2f}점\")"
   ]
  }
 ],
 "metadata": {
  "kernelspec": {
   "display_name": "Python 3",
   "language": "python",
   "name": "python3"
  },
  "language_info": {
   "codemirror_mode": {
    "name": "ipython",
    "version": 3
   },
   "file_extension": ".py",
   "mimetype": "text/x-python",
   "name": "python",
   "nbconvert_exporter": "python",
   "pygments_lexer": "ipython3",
   "version": "3.8.8"
  },
  "toc": {
   "base_numbering": 1,
   "nav_menu": {},
   "number_sections": true,
   "sideBar": true,
   "skip_h1_title": false,
   "title_cell": "Table of Contents",
   "title_sidebar": "Contents",
   "toc_cell": false,
   "toc_position": {
    "height": "calc(100% - 180px)",
    "left": "10px",
    "top": "150px",
    "width": "256px"
   },
   "toc_section_display": true,
   "toc_window_display": true
  }
 },
 "nbformat": 4,
 "nbformat_minor": 5
}
