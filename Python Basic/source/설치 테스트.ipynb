{
 "cells": [
  {
   "cell_type": "markdown",
   "id": "2766dcda",
   "metadata": {},
   "source": [
    "<h1> 실행단축키 Shift + Enter </h1>\n",
    "- h(head line, 제목)"
   ]
  },
  {
   "cell_type": "code",
   "execution_count": 5,
   "id": "71dd06f1",
   "metadata": {},
   "outputs": [
    {
     "name": "stdout",
     "output_type": "stream",
     "text": [
      "Hello Python!!!\n"
     ]
    }
   ],
   "source": [
    "print('Hello Python!!!')"
   ]
  },
  {
   "cell_type": "markdown",
   "id": "a214b3cb",
   "metadata": {},
   "source": [
    "# 실행단축키 Ctrl + Enter\n",
    "- 현재 셀의 실행만 수행한다."
   ]
  },
  {
   "cell_type": "code",
   "execution_count": 3,
   "id": "7929b1e1",
   "metadata": {},
   "outputs": [
    {
     "name": "stdout",
     "output_type": "stream",
     "text": [
      "welcome python\n"
     ]
    }
   ],
   "source": [
    "print('welcome python')"
   ]
  }
 ],
 "metadata": {
  "kernelspec": {
   "display_name": "Python 3",
   "language": "python",
   "name": "python3"
  },
  "language_info": {
   "codemirror_mode": {
    "name": "ipython",
    "version": 3
   },
   "file_extension": ".py",
   "mimetype": "text/x-python",
   "name": "python",
   "nbconvert_exporter": "python",
   "pygments_lexer": "ipython3",
   "version": "3.8.8"
  }
 },
 "nbformat": 4,
 "nbformat_minor": 5
}
